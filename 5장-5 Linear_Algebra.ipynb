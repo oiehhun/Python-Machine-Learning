{
 "cells": [
  {
   "cell_type": "markdown",
   "metadata": {},
   "source": [
    "선형대수학에 대해 기본적인 사항들을 알고있으면 여러 데이터 분석 알고리즘을 공부할 때 매우 편하다(사실은 필수적으로 알아야한다).\n"
   ]
  },
  {
   "cell_type": "code",
   "execution_count": 1,
   "metadata": {},
   "outputs": [],
   "source": [
    "import numpy as np"
   ]
  },
  {
   "cell_type": "markdown",
   "metadata": {},
   "source": [
    "1. 먼저 벡터 내적과 행렬 곱셈을 복습하자. 행렬곱셈은 행벡터와 열벡터의 내적으로 이루어진다."
   ]
  },
  {
   "cell_type": "markdown",
   "metadata": {},
   "source": [
    "* 벡터의 내적 (inner product, dot product, scalar product)\n",
    "\n",
    "vector란 1차원 배열을 말한다.\n",
    "\n",
    "길이가 같은 두 벡터 $ \\mathbf x= (x_1 , x_2 , \\ldots, x_n ),~~  \\mathbf y=(y_1 , y_2 , \\ldots, y_n )$의 내적은 다음과 같이 정의된다.\n",
    "\n",
    "$$  \\mathbf x \\cdot  \\mathbf y = \\sum_{i=1}^n x_i ~y_i .$$"
   ]
  },
  {
   "cell_type": "markdown",
   "metadata": {},
   "source": [
    "**연습문제**\n",
    "\n",
    "파이썬 NumPy의 연산을 이용하여 다음 두 벡터의 내적을 계산하시오.\n",
    "\n",
    "$$ x= (0, -1, 3, -6), ~~~~~ y=(1, 2, -3, 5) $$"
   ]
  },
  {
   "cell_type": "code",
   "execution_count": 2,
   "metadata": {},
   "outputs": [],
   "source": [
    "x = np.array((0, -1, 3, -6))\n",
    "y = np.array((1, 2, -3, 5))"
   ]
  },
  {
   "cell_type": "code",
   "execution_count": 3,
   "metadata": {},
   "outputs": [
    {
     "data": {
      "text/plain": [
       "array([  0,  -2,  -9, -30])"
      ]
     },
     "execution_count": 3,
     "metadata": {},
     "output_type": "execute_result"
    }
   ],
   "source": [
    "x * y"
   ]
  },
  {
   "cell_type": "code",
   "execution_count": 4,
   "metadata": {
    "scrolled": true
   },
   "outputs": [
    {
     "data": {
      "text/plain": [
       "-41"
      ]
     },
     "execution_count": 4,
     "metadata": {},
     "output_type": "execute_result"
    }
   ],
   "source": [
    "sum(x * y)"
   ]
  },
  {
   "cell_type": "markdown",
   "metadata": {},
   "source": [
    "일반적으로 배열끼리의 내적은 아래에서 공부할 `dot()` 함수를 이용한다."
   ]
  },
  {
   "cell_type": "code",
   "execution_count": 5,
   "metadata": {},
   "outputs": [
    {
     "data": {
      "text/plain": [
       "-41"
      ]
     },
     "execution_count": 5,
     "metadata": {},
     "output_type": "execute_result"
    }
   ],
   "source": [
    "x.dot(y)  "
   ]
  },
  {
   "cell_type": "code",
   "execution_count": 8,
   "metadata": {},
   "outputs": [
    {
     "data": {
      "text/plain": [
       "-41"
      ]
     },
     "execution_count": 8,
     "metadata": {},
     "output_type": "execute_result"
    }
   ],
   "source": [
    "y.dot(x) "
   ]
  },
  {
   "cell_type": "code",
   "execution_count": 6,
   "metadata": {},
   "outputs": [
    {
     "data": {
      "text/plain": [
       "-41"
      ]
     },
     "execution_count": 6,
     "metadata": {},
     "output_type": "execute_result"
    }
   ],
   "source": [
    "np.dot(x, y)  "
   ]
  },
  {
   "cell_type": "markdown",
   "metadata": {},
   "source": [
    "`@` 연산자를 써도 된다."
   ]
  },
  {
   "cell_type": "code",
   "execution_count": 7,
   "metadata": {},
   "outputs": [
    {
     "data": {
      "text/plain": [
       "-41"
      ]
     },
     "execution_count": 7,
     "metadata": {},
     "output_type": "execute_result"
    }
   ],
   "source": [
    "x @ y  "
   ]
  },
  {
   "cell_type": "markdown",
   "metadata": {},
   "source": [
    "* 벡터의 길이 (norm)\n",
    "\n",
    "$ ||{\\mathbf x}|| = \\sqrt {\\mathbf x \\cdot \\mathbf x} $\n",
    "\n",
    "2차원 공간에서 직각삼각형에 대한 피타고라스의 정리를 생각해보면 쉽다. 원점에서 점 $ \\mathbf x = (a, b)$까지의 거리는 \n",
    "\n",
    "$$ ||\\mathbf x|| = \\sqrt {a^2 + b^2 }= \\sqrt {\\mathbf x \\cdot \\mathbf x}~~.$$"
   ]
  },
  {
   "cell_type": "markdown",
   "metadata": {},
   "source": [
    "* 벡터의 길이와 내적\n",
    "\n",
    "두 벡터 $ \\mathbf x, \\mathbf y$사이의 각을 $\\theta$라고 할 때 두 백테의 내적은 다음과 같다.\n",
    "\n",
    "$$ \\mathbf x \\cdot \\mathbf y = \\sum_{i=1}^n x_i ~y_i = ||\\mathbf x|| ||\\mathbf y|| \\cos \\theta.$$"
   ]
  },
  {
   "cell_type": "markdown",
   "metadata": {},
   "source": [
    "**연습문제**\n",
    "\n",
    "파이썬 NumPy의 연산을 이용하여 아래 두 벡터 사이의 거리를 계산하시오.\n",
    "\n",
    "파이썬 NumPy의 연산을 이용하여 다음 두 벡터 사잇각의 코사인값을 계산하시오.\n",
    "\n",
    "$$  \\mathbf x= (0, -1, 3, -6), ~~~~~  \\mathbf y=(1, 2, -3, 5) $$"
   ]
  },
  {
   "cell_type": "code",
   "execution_count": 8,
   "metadata": {},
   "outputs": [],
   "source": [
    "x = np.array((0, -1, 3, -6))\n",
    "y = np.array((1, 2, -3, 5))"
   ]
  },
  {
   "cell_type": "code",
   "execution_count": 9,
   "metadata": {},
   "outputs": [
    {
     "data": {
      "text/plain": [
       "array([  0,  -2,  -9, -30])"
      ]
     },
     "execution_count": 9,
     "metadata": {},
     "output_type": "execute_result"
    }
   ],
   "source": [
    "x * y"
   ]
  },
  {
   "cell_type": "code",
   "execution_count": 10,
   "metadata": {},
   "outputs": [
    {
     "data": {
      "text/plain": [
       "array([ -1,  -3,   6, -11])"
      ]
     },
     "execution_count": 10,
     "metadata": {},
     "output_type": "execute_result"
    }
   ],
   "source": [
    "xyd = x - y\n",
    "x - y"
   ]
  },
  {
   "cell_type": "code",
   "execution_count": 11,
   "metadata": {},
   "outputs": [
    {
     "data": {
      "text/plain": [
       "12.922847983320086"
      ]
     },
     "execution_count": 11,
     "metadata": {},
     "output_type": "execute_result"
    }
   ],
   "source": [
    "np.sqrt(sum(xyd * xyd))  "
   ]
  },
  {
   "cell_type": "markdown",
   "metadata": {},
   "source": [
    "또는"
   ]
  },
  {
   "cell_type": "code",
   "execution_count": 12,
   "metadata": {},
   "outputs": [
    {
     "data": {
      "text/plain": [
       "12.922847983320086"
      ]
     },
     "execution_count": 12,
     "metadata": {},
     "output_type": "execute_result"
    }
   ],
   "source": [
    "np.sqrt((x - y).dot(x - y))"
   ]
  },
  {
   "cell_type": "code",
   "execution_count": 13,
   "metadata": {},
   "outputs": [
    {
     "data": {
      "text/plain": [
       "12.922847983320086"
      ]
     },
     "execution_count": 13,
     "metadata": {},
     "output_type": "execute_result"
    }
   ],
   "source": [
    "np.sqrt(sum((x - y) ** 2))"
   ]
  },
  {
   "cell_type": "code",
   "execution_count": 14,
   "metadata": {},
   "outputs": [
    {
     "data": {
      "text/plain": [
       "-0.9679939375322655"
      ]
     },
     "execution_count": 14,
     "metadata": {},
     "output_type": "execute_result"
    }
   ],
   "source": [
    "sum(x * y) / (sum((x) ** 2)) ** 0.5 / (sum((y) ** 2)) ** 0.5 "
   ]
  },
  {
   "cell_type": "markdown",
   "metadata": {},
   "source": [
    "또는"
   ]
  },
  {
   "cell_type": "code",
   "execution_count": 15,
   "metadata": {},
   "outputs": [
    {
     "data": {
      "text/plain": [
       "-0.9679939375322656"
      ]
     },
     "execution_count": 15,
     "metadata": {},
     "output_type": "execute_result"
    }
   ],
   "source": [
    "a = sum(x * x)\n",
    "b = sum(y * y) \n",
    "c = sum(x * y) / np.sqrt(a * b)\n",
    "c  #두 벡터 사잇각의 코사인값"
   ]
  },
  {
   "cell_type": "markdown",
   "metadata": {},
   "source": [
    "또는"
   ]
  },
  {
   "cell_type": "code",
   "execution_count": 16,
   "metadata": {},
   "outputs": [
    {
     "data": {
      "text/plain": [
       "-0.9679939375322656"
      ]
     },
     "execution_count": 16,
     "metadata": {},
     "output_type": "execute_result"
    }
   ],
   "source": [
    "x.dot(y) / np.sqrt(x.dot(x) * y.dot(y))"
   ]
  },
  {
   "cell_type": "markdown",
   "metadata": {},
   "source": [
    "* 직교(수직)하는 벡터\n",
    "\n",
    "`두 벡터가 직교하면 사잇각의 코사인 값이 0이므로 내적도 0이다.`\n",
    "\n",
    "예) $ \\mathbf x= (1, 0, 0), ~~ \\mathbf y=(0, 1, 0)$"
   ]
  },
  {
   "cell_type": "code",
   "execution_count": 17,
   "metadata": {},
   "outputs": [
    {
     "data": {
      "text/plain": [
       "0"
      ]
     },
     "execution_count": 17,
     "metadata": {},
     "output_type": "execute_result"
    }
   ],
   "source": [
    "x = np.array((-1, 2))\n",
    "y = np.array((2, 1))\n",
    "np.sum(x * y)"
   ]
  },
  {
   "cell_type": "markdown",
   "metadata": {},
   "source": [
    "* **행렬 곱셈**"
   ]
  },
  {
   "cell_type": "markdown",
   "metadata": {},
   "source": [
    "두 행렬 $\\mathbf A (m \\times n)$, $\\mathbf B(n \\times p)$의 곱셈은 $\\mathbf A$의 행벡터와 $\\mathbf B$의 열벡터들을 $mp$번 내적해서 $m \\times p$ 행렬을 만드는 것이다."
   ]
  },
  {
   "cell_type": "markdown",
   "metadata": {},
   "source": [
    "아래 곱셈이 가능할까?"
   ]
  },
  {
   "cell_type": "code",
   "execution_count": null,
   "metadata": {},
   "outputs": [],
   "source": [
    "A.dot(B)"
   ]
  },
  {
   "cell_type": "markdown",
   "metadata": {},
   "source": [
    "$\\mathbf A (3 \\times 2), \\mathbf B (4 \\times 3)$이므로 곱셈 $\\mathbf A \\mathbf  B$는 안 된다. 하지만 곱셈 $\\mathbf B \\mathbf A$는 된다."
   ]
  },
  {
   "cell_type": "code",
   "execution_count": null,
   "metadata": {},
   "outputs": [],
   "source": [
    "B.dot(A)"
   ]
  },
  {
   "cell_type": "code",
   "execution_count": null,
   "metadata": {},
   "outputs": [],
   "source": [
    "np.dot(B, A)"
   ]
  },
  {
   "cell_type": "code",
   "execution_count": null,
   "metadata": {},
   "outputs": [],
   "source": [
    "B.dot(A)"
   ]
  },
  {
   "cell_type": "markdown",
   "metadata": {},
   "source": [
    "* 전치행렬\n",
    "\n",
    "$m \\times n$ 행렬 $\\mathbf A$를 전치시키면 행이 열이 되고 열이 행으로 바뀌어 $ n \\times m$ 행렬이 된다.\n",
    "\n",
    "아래 세 가지 방법 중 하나를 이용한다. "
   ]
  },
  {
   "cell_type": "code",
   "execution_count": 19,
   "metadata": {},
   "outputs": [],
   "source": [
    "A = np.array([0, 1, 2, 3]).reshape(2, 2)\n",
    "B = np.array([3, 2, 0, 1]).reshape(2, 2)"
   ]
  },
  {
   "cell_type": "code",
   "execution_count": 20,
   "metadata": {},
   "outputs": [
    {
     "data": {
      "text/plain": [
       "array([[0, 1],\n",
       "       [2, 3]])"
      ]
     },
     "execution_count": 20,
     "metadata": {},
     "output_type": "execute_result"
    }
   ],
   "source": [
    "A"
   ]
  },
  {
   "cell_type": "code",
   "execution_count": 21,
   "metadata": {},
   "outputs": [
    {
     "data": {
      "text/plain": [
       "array([[0, 2],\n",
       "       [1, 3]])"
      ]
     },
     "execution_count": 21,
     "metadata": {},
     "output_type": "execute_result"
    }
   ],
   "source": [
    "np.transpose(A)"
   ]
  },
  {
   "cell_type": "code",
   "execution_count": 22,
   "metadata": {},
   "outputs": [
    {
     "data": {
      "text/plain": [
       "array([[0, 2],\n",
       "       [1, 3]])"
      ]
     },
     "execution_count": 22,
     "metadata": {},
     "output_type": "execute_result"
    }
   ],
   "source": [
    "A.transpose()"
   ]
  },
  {
   "cell_type": "code",
   "execution_count": 23,
   "metadata": {},
   "outputs": [
    {
     "data": {
      "text/plain": [
       "array([[0, 2],\n",
       "       [1, 3]])"
      ]
     },
     "execution_count": 23,
     "metadata": {},
     "output_type": "execute_result"
    }
   ],
   "source": [
    "A.T"
   ]
  },
  {
   "cell_type": "markdown",
   "metadata": {},
   "source": [
    "**연습문제: 이유를 설명하시오**\n",
    "\n",
    "\n",
    "\n",
    "1) 행렬 $\\mathbf A$가 대칭행렬이면 $\\mathbf A^T ~=~ \\mathbf A$.\n",
    "\n",
    "2) 아래 행렬들은 대칭행렬이다. \n",
    "\n",
    "    M.T.dot(M), \n",
    "    \n",
    "    M.dot(M.T)"
   ]
  },
  {
   "cell_type": "code",
   "execution_count": null,
   "metadata": {},
   "outputs": [],
   "source": [
    "M = np.arange(6).reshape(3,2)\n",
    "M"
   ]
  },
  {
   "cell_type": "code",
   "execution_count": null,
   "metadata": {},
   "outputs": [],
   "source": [
    "M.T"
   ]
  },
  {
   "cell_type": "code",
   "execution_count": null,
   "metadata": {},
   "outputs": [],
   "source": [
    "M.T.dot(M) "
   ]
  },
  {
   "cell_type": "code",
   "execution_count": null,
   "metadata": {},
   "outputs": [],
   "source": [
    "M.dot(M.T)"
   ]
  },
  {
   "cell_type": "markdown",
   "metadata": {},
   "source": [
    "$ m \\times n $ 행렬 $M$이 있다고 하자.\n",
    "\n",
    "행렬곱셈 `M.T.dot(M)` ($M^T M$)은 행렬 $M$의 열벡터들끼리 내적해서 만들어진다. 따라서 $M^T M$의 $(i, j)$번째 원소는 $M$의 $i, j$번째 열을 내적한 것이며 $(j, i)$번째 원소 역시 같은 두 벡터를 내적한 것이므로 `M.T.dot(M)`은 $n \\times n$ 대칭행렬이 된다. \n",
    "\n",
    "또 `M.dot(M.T)` ($M M^T $)의 원소들은 `M`의 행벡터들끼리 내적한 것이므로 역시 $ m \\times m$ 대칭행렬이다.\n",
    "\n",
    "$A$가 대칭행렬이면 $A^T = A$ 이며, 두 행렬의 곱을 전치시키면 $(AB)^T =  B^T A^T $이므로 $(M M^T )^T = MM^T $가 되어 역시 $MM^T $가 대칭임을 알 수 있다."
   ]
  },
  {
   "cell_type": "markdown",
   "metadata": {},
   "source": [
    "* 퀴즈 : 계산이 가능한 곱셈은?  (곱셈 연산자 `*`를 이용한 곱셈과 `np.dot, A.dot(B)` 등을 혼동하지 말자.)"
   ]
  },
  {
   "cell_type": "code",
   "execution_count": null,
   "metadata": {},
   "outputs": [],
   "source": [
    "A * B"
   ]
  },
  {
   "cell_type": "code",
   "execution_count": null,
   "metadata": {},
   "outputs": [],
   "source": [
    "B * A"
   ]
  },
  {
   "cell_type": "code",
   "execution_count": null,
   "metadata": {},
   "outputs": [],
   "source": [
    "A * A"
   ]
  },
  {
   "cell_type": "code",
   "execution_count": null,
   "metadata": {},
   "outputs": [],
   "source": [
    "A.T * A"
   ]
  },
  {
   "cell_type": "code",
   "execution_count": null,
   "metadata": {
    "scrolled": true
   },
   "outputs": [],
   "source": [
    "np.dot(A, 3) "
   ]
  },
  {
   "cell_type": "code",
   "execution_count": null,
   "metadata": {
    "scrolled": true
   },
   "outputs": [],
   "source": [
    "np.dot(3, A)"
   ]
  },
  {
   "cell_type": "code",
   "execution_count": null,
   "metadata": {},
   "outputs": [],
   "source": [
    "3 * A"
   ]
  },
  {
   "cell_type": "code",
   "execution_count": null,
   "metadata": {},
   "outputs": [],
   "source": [
    "(3).dot(A)"
   ]
  },
  {
   "cell_type": "code",
   "execution_count": null,
   "metadata": {},
   "outputs": [],
   "source": [
    "A.dot(3)"
   ]
  },
  {
   "cell_type": "markdown",
   "metadata": {},
   "source": [
    "**연습문제**\n",
    "\n",
    "두 행렬 $\\mathbf A$, $\\mathbf B$에 대해 아래 두 계산이 가능할 조건을 각각 설명하시오.\n",
    "\n",
    "* $\\mathbf A$.dot($\\mathbf B$) \n",
    "\n",
    "* $\\mathbf A$ * $\\mathbf B$"
   ]
  },
  {
   "cell_type": "markdown",
   "metadata": {},
   "source": [
    "$\\mathbf A$ : m x n, $\\mathbf B$ : n x p 이면 $\\mathbf A$.dot($\\mathbf B$) 곱셈 가능.\n",
    "\n",
    "$\\mathbf A$ : m x n, $\\mathbf B$ : m x n 이면 $\\mathbf A$ * $\\mathbf B$ 곱셈 가능."
   ]
  },
  {
   "cell_type": "markdown",
   "metadata": {},
   "source": [
    "* 역행렬\n",
    "\n",
    "$ n \\times n$ 행렬 $A$에 대해 $A A^{-1} = A^{-1} A = I_n $을 만족하는 행렬 $A^{-1}$를 $A$의 역행렬이라 부른다.\n",
    "\n",
    "역행렬을 구하려면 numpy 안에 있는 모듈 `linalg`를 불러서 `inv()` 함수를 이용한다."
   ]
  },
  {
   "cell_type": "code",
   "execution_count": 24,
   "metadata": {},
   "outputs": [
    {
     "data": {
      "text/plain": [
       "array([[0, 1],\n",
       "       [2, 3]])"
      ]
     },
     "execution_count": 24,
     "metadata": {},
     "output_type": "execute_result"
    }
   ],
   "source": [
    "A"
   ]
  },
  {
   "cell_type": "code",
   "execution_count": 25,
   "metadata": {},
   "outputs": [
    {
     "data": {
      "text/plain": [
       "array([[-1.5,  0.5],\n",
       "       [ 1. ,  0. ]])"
      ]
     },
     "execution_count": 25,
     "metadata": {},
     "output_type": "execute_result"
    }
   ],
   "source": [
    "Ainv = np.linalg.inv(A)\n",
    "Ainv"
   ]
  },
  {
   "cell_type": "code",
   "execution_count": 26,
   "metadata": {},
   "outputs": [
    {
     "data": {
      "text/plain": [
       "array([[1., 0.],\n",
       "       [0., 1.]])"
      ]
     },
     "execution_count": 26,
     "metadata": {},
     "output_type": "execute_result"
    }
   ],
   "source": [
    "Ainv.dot(A)"
   ]
  },
  {
   "cell_type": "code",
   "execution_count": 27,
   "metadata": {},
   "outputs": [
    {
     "data": {
      "text/plain": [
       "array([[1, 0, 0],\n",
       "       [0, 2, 0],\n",
       "       [0, 0, 3]])"
      ]
     },
     "execution_count": 27,
     "metadata": {},
     "output_type": "execute_result"
    }
   ],
   "source": [
    "dd =  ([1, 0, 0], [0, 2, 0], [0, 0, 3])\n",
    "d1 = np.array(dd)\n",
    "d1"
   ]
  },
  {
   "cell_type": "code",
   "execution_count": 28,
   "metadata": {},
   "outputs": [
    {
     "data": {
      "text/plain": [
       "array([[1.        , 0.        , 0.        ],\n",
       "       [0.        , 0.5       , 0.        ],\n",
       "       [0.        , 0.        , 0.33333333]])"
      ]
     },
     "execution_count": 28,
     "metadata": {},
     "output_type": "execute_result"
    }
   ],
   "source": [
    "d1inv = np.linalg.inv(d1)\n",
    "d1inv"
   ]
  },
  {
   "cell_type": "code",
   "execution_count": 29,
   "metadata": {},
   "outputs": [
    {
     "data": {
      "text/plain": [
       "array([[1., 0., 0.],\n",
       "       [0., 1., 0.],\n",
       "       [0., 0., 1.]])"
      ]
     },
     "execution_count": 29,
     "metadata": {},
     "output_type": "execute_result"
    }
   ],
   "source": [
    "d1.dot(d1inv)"
   ]
  },
  {
   "cell_type": "markdown",
   "metadata": {},
   "source": [
    "대각행렬 d1은 `diag()` 함수를 이용하여 더 간단히 만들 수 있다."
   ]
  },
  {
   "cell_type": "code",
   "execution_count": 30,
   "metadata": {},
   "outputs": [
    {
     "data": {
      "text/plain": [
       "array([[1, 0, 0],\n",
       "       [0, 2, 0],\n",
       "       [0, 0, 3]])"
      ]
     },
     "execution_count": 30,
     "metadata": {},
     "output_type": "execute_result"
    }
   ],
   "source": [
    "dd = np.arange(1, 4)\n",
    "diagm = np.diag(dd)\n",
    "diagm"
   ]
  },
  {
   "cell_type": "markdown",
   "metadata": {},
   "source": [
    "* 행렬식"
   ]
  },
  {
   "cell_type": "code",
   "execution_count": null,
   "metadata": {},
   "outputs": [],
   "source": [
    "np.linalg.det(A)"
   ]
  },
  {
   "cell_type": "code",
   "execution_count": null,
   "metadata": {},
   "outputs": [],
   "source": [
    "np.linalg.det(d1)"
   ]
  },
  {
   "cell_type": "code",
   "execution_count": null,
   "metadata": {},
   "outputs": [],
   "source": [
    "np.linalg.det(d1inv)"
   ]
  },
  {
   "cell_type": "markdown",
   "metadata": {},
   "source": [
    "대각행렬의 행렬식은 대각선 원소들의 곱과 같다."
   ]
  },
  {
   "cell_type": "markdown",
   "metadata": {},
   "source": [
    "<u> 모든 $n \\times n $ 행렬이 역행렬을 가질까?</u> 아니다. \n",
    "\n",
    "`어떤 행렬의 역행렬이 존재하는지 여부는 행렬식의 값에 따라 달라진다.`"
   ]
  },
  {
   "cell_type": "markdown",
   "metadata": {},
   "source": [
    "행렬식의 값은 역행렬을 계산할 때 분모로 쓰인다. 만일 행렬식이 0이라면 역행렬은 계산할 수 없다.\n",
    "\n",
    "따라서 행렬식 값이 0인가 아닌가가 중요하다. \n",
    "\n",
    "\n",
    "지금 행렬식 계산법을 연습할 필요는 없고 단순한 $2 \\times 2$ 행렬의 **행렬식 계산법**만 알고 넘어가자.\n",
    "\n",
    "$$ \\det{(A)}  =  \\det{ \\left( \\begin{array}{cc} a & b \\\\ c & d \\end{array} \\right)} \\\\  = ad-bc. $$"
   ]
  },
  {
   "cell_type": "code",
   "execution_count": 3,
   "metadata": {},
   "outputs": [
    {
     "data": {
      "text/plain": [
       "array([[1, 2],\n",
       "       [2, 4]])"
      ]
     },
     "execution_count": 3,
     "metadata": {},
     "output_type": "execute_result"
    }
   ],
   "source": [
    "aa = np.array([1, 2, 2, 4]).reshape((2, 2))\n",
    "aa"
   ]
  },
  {
   "cell_type": "code",
   "execution_count": 4,
   "metadata": {},
   "outputs": [
    {
     "data": {
      "text/plain": [
       "0.0"
      ]
     },
     "execution_count": 4,
     "metadata": {},
     "output_type": "execute_result"
    }
   ],
   "source": [
    "np.linalg.det(aa)  #행렬식 계산 함수"
   ]
  },
  {
   "cell_type": "code",
   "execution_count": null,
   "metadata": {},
   "outputs": [],
   "source": [
    "np.linalg.inv(aa)"
   ]
  },
  {
   "cell_type": "markdown",
   "metadata": {},
   "source": [
    "**2. 벡터들의 선형독립, 선형종속, 벡터공간**\n",
    "\n",
    "행렬 aa의 행렬식이 0이 되는 이유는? \n",
    "\n",
    "그 행렬의 행들, 열들 사이의 관계 때문이다. 2행은 1행의 2배, 2열은 1열의 두 배다. 즉 1행(1열)만 있으면 2행(2열)은 상수를 곱해서 만들 수 있다. 두 백터 사이에 이러한 관계가 있으면 두 벡터는 선형종속(linearly dependent)이라고 말한다. "
   ]
  },
  {
   "cell_type": "markdown",
   "metadata": {},
   "source": [
    "**연습문제**\n",
    "\n",
    "다음 세 벡터에 대해 선형종속, 선형독립 관계를 설명하시오.\n",
    "\n",
    "$$ a=(-1, 0, 4),~~ b=(3, 0, -12), ~~ c= (1, 0, 4)$$"
   ]
  },
  {
   "cell_type": "code",
   "execution_count": 6,
   "metadata": {},
   "outputs": [],
   "source": [
    "va = np.array([-1, 0, 4]); vb = np.array([3, 0, -12]); vc = np.array([1, 0, 4])"
   ]
  },
  {
   "cell_type": "code",
   "execution_count": 7,
   "metadata": {},
   "outputs": [
    {
     "data": {
      "text/plain": [
       "array([[ -1,   0,   4],\n",
       "       [  3,   0, -12],\n",
       "       [  1,   0,   4]])"
      ]
     },
     "execution_count": 7,
     "metadata": {},
     "output_type": "execute_result"
    }
   ],
   "source": [
    "MA = np.array([va, vb, vc])\n",
    "MA"
   ]
  },
  {
   "cell_type": "code",
   "execution_count": 8,
   "metadata": {},
   "outputs": [
    {
     "data": {
      "text/plain": [
       "0.0"
      ]
     },
     "execution_count": 8,
     "metadata": {},
     "output_type": "execute_result"
    }
   ],
   "source": [
    "np.linalg.det(MA)"
   ]
  },
  {
   "cell_type": "markdown",
   "metadata": {},
   "source": [
    "행렬식이 0인 이유는?\n",
    "\n",
    "-3va = vb (3va + vb = 0)이므로 va와 vb는 선형종속이다. 따라서 va, vb, vc 세 벡터도 선형종속(3va + vb + 0vc = 0)이기 때문이다. \n",
    "\n",
    "즉 `벡터들을 0이 아닌 값들로 선형결합해서 0벡터를 만들 수 있다면 그 벡터들은 선형종속`이다."
   ]
  },
  {
   "cell_type": "markdown",
   "metadata": {},
   "source": [
    "- 퀴즈 : 행렬 MA의 세 열벡터들은 선형독립인가?\n",
    ": 선형 종속 (차원을 생각할 것) 0으로만 이루어진 벡터가 있으면 무조건 선형 종속이다."
   ]
  },
  {
   "cell_type": "markdown",
   "metadata": {},
   "source": [
    "`행렬 MA의 행렬식이 0이므로 역행렬도 존재할 수 없다.` 이런 행렬을 singular matrix(특이행렬, 비정칙행렬, 비가역행렬)이라고 부른다. \n",
    "\n",
    "반면에 <u>역행렬이 존재하는 행렬은 nonsingular matrix, invertible matrix라고 한다.</u>"
   ]
  },
  {
   "cell_type": "code",
   "execution_count": 9,
   "metadata": {
    "scrolled": true
   },
   "outputs": [
    {
     "ename": "LinAlgError",
     "evalue": "Singular matrix",
     "output_type": "error",
     "traceback": [
      "\u001b[1;31m---------------------------------------------------------------------------\u001b[0m",
      "\u001b[1;31mLinAlgError\u001b[0m                               Traceback (most recent call last)",
      "\u001b[1;32m<ipython-input-9-f903663947e6>\u001b[0m in \u001b[0;36m<module>\u001b[1;34m\u001b[0m\n\u001b[1;32m----> 1\u001b[1;33m \u001b[0mnp\u001b[0m\u001b[1;33m.\u001b[0m\u001b[0mlinalg\u001b[0m\u001b[1;33m.\u001b[0m\u001b[0minv\u001b[0m\u001b[1;33m(\u001b[0m\u001b[0mMA\u001b[0m\u001b[1;33m)\u001b[0m\u001b[1;33m\u001b[0m\u001b[1;33m\u001b[0m\u001b[0m\n\u001b[0m",
      "\u001b[1;32m<__array_function__ internals>\u001b[0m in \u001b[0;36minv\u001b[1;34m(*args, **kwargs)\u001b[0m\n",
      "\u001b[1;32mC:\\anaconda3\\lib\\site-packages\\numpy\\linalg\\linalg.py\u001b[0m in \u001b[0;36minv\u001b[1;34m(a)\u001b[0m\n\u001b[0;32m    544\u001b[0m     \u001b[0msignature\u001b[0m \u001b[1;33m=\u001b[0m \u001b[1;34m'D->D'\u001b[0m \u001b[1;32mif\u001b[0m \u001b[0misComplexType\u001b[0m\u001b[1;33m(\u001b[0m\u001b[0mt\u001b[0m\u001b[1;33m)\u001b[0m \u001b[1;32melse\u001b[0m \u001b[1;34m'd->d'\u001b[0m\u001b[1;33m\u001b[0m\u001b[1;33m\u001b[0m\u001b[0m\n\u001b[0;32m    545\u001b[0m     \u001b[0mextobj\u001b[0m \u001b[1;33m=\u001b[0m \u001b[0mget_linalg_error_extobj\u001b[0m\u001b[1;33m(\u001b[0m\u001b[0m_raise_linalgerror_singular\u001b[0m\u001b[1;33m)\u001b[0m\u001b[1;33m\u001b[0m\u001b[1;33m\u001b[0m\u001b[0m\n\u001b[1;32m--> 546\u001b[1;33m     \u001b[0mainv\u001b[0m \u001b[1;33m=\u001b[0m \u001b[0m_umath_linalg\u001b[0m\u001b[1;33m.\u001b[0m\u001b[0minv\u001b[0m\u001b[1;33m(\u001b[0m\u001b[0ma\u001b[0m\u001b[1;33m,\u001b[0m \u001b[0msignature\u001b[0m\u001b[1;33m=\u001b[0m\u001b[0msignature\u001b[0m\u001b[1;33m,\u001b[0m \u001b[0mextobj\u001b[0m\u001b[1;33m=\u001b[0m\u001b[0mextobj\u001b[0m\u001b[1;33m)\u001b[0m\u001b[1;33m\u001b[0m\u001b[1;33m\u001b[0m\u001b[0m\n\u001b[0m\u001b[0;32m    547\u001b[0m     \u001b[1;32mreturn\u001b[0m \u001b[0mwrap\u001b[0m\u001b[1;33m(\u001b[0m\u001b[0mainv\u001b[0m\u001b[1;33m.\u001b[0m\u001b[0mastype\u001b[0m\u001b[1;33m(\u001b[0m\u001b[0mresult_t\u001b[0m\u001b[1;33m,\u001b[0m \u001b[0mcopy\u001b[0m\u001b[1;33m=\u001b[0m\u001b[1;32mFalse\u001b[0m\u001b[1;33m)\u001b[0m\u001b[1;33m)\u001b[0m\u001b[1;33m\u001b[0m\u001b[1;33m\u001b[0m\u001b[0m\n\u001b[0;32m    548\u001b[0m \u001b[1;33m\u001b[0m\u001b[0m\n",
      "\u001b[1;32mC:\\anaconda3\\lib\\site-packages\\numpy\\linalg\\linalg.py\u001b[0m in \u001b[0;36m_raise_linalgerror_singular\u001b[1;34m(err, flag)\u001b[0m\n\u001b[0;32m     86\u001b[0m \u001b[1;33m\u001b[0m\u001b[0m\n\u001b[0;32m     87\u001b[0m \u001b[1;32mdef\u001b[0m \u001b[0m_raise_linalgerror_singular\u001b[0m\u001b[1;33m(\u001b[0m\u001b[0merr\u001b[0m\u001b[1;33m,\u001b[0m \u001b[0mflag\u001b[0m\u001b[1;33m)\u001b[0m\u001b[1;33m:\u001b[0m\u001b[1;33m\u001b[0m\u001b[1;33m\u001b[0m\u001b[0m\n\u001b[1;32m---> 88\u001b[1;33m     \u001b[1;32mraise\u001b[0m \u001b[0mLinAlgError\u001b[0m\u001b[1;33m(\u001b[0m\u001b[1;34m\"Singular matrix\"\u001b[0m\u001b[1;33m)\u001b[0m\u001b[1;33m\u001b[0m\u001b[1;33m\u001b[0m\u001b[0m\n\u001b[0m\u001b[0;32m     89\u001b[0m \u001b[1;33m\u001b[0m\u001b[0m\n\u001b[0;32m     90\u001b[0m \u001b[1;32mdef\u001b[0m \u001b[0m_raise_linalgerror_nonposdef\u001b[0m\u001b[1;33m(\u001b[0m\u001b[0merr\u001b[0m\u001b[1;33m,\u001b[0m \u001b[0mflag\u001b[0m\u001b[1;33m)\u001b[0m\u001b[1;33m:\u001b[0m\u001b[1;33m\u001b[0m\u001b[1;33m\u001b[0m\u001b[0m\n",
      "\u001b[1;31mLinAlgError\u001b[0m: Singular matrix"
     ]
    }
   ],
   "source": [
    "np.linalg.inv(MA)"
   ]
  },
  {
   "cell_type": "markdown",
   "metadata": {},
   "source": [
    "위의 결과는 종속 행렬이기 때문에 역행렬을 계산 할 수 없다."
   ]
  },
  {
   "cell_type": "code",
   "execution_count": null,
   "metadata": {},
   "outputs": [],
   "source": [
    "3 * va + vb"
   ]
  },
  {
   "cell_type": "markdown",
   "metadata": {},
   "source": [
    "**연습문제**\n",
    "\n",
    "선형종속인 두 벡터 `va, vb` 사잇각의 코사인 값은?"
   ]
  },
  {
   "cell_type": "markdown",
   "metadata": {},
   "source": [
    "$$ \\cos \\theta  =  \\frac {x \\cdot y} {||x|| ||y|| } $$"
   ]
  },
  {
   "cell_type": "code",
   "execution_count": null,
   "metadata": {},
   "outputs": [],
   "source": [
    "va.dot(vb) / np.sqrt(va.dot(va) * vb.dot(vb))"
   ]
  },
  {
   "cell_type": "code",
   "execution_count": null,
   "metadata": {},
   "outputs": [],
   "source": [
    "np.cos((0, np.pi))"
   ]
  },
  {
   "cell_type": "markdown",
   "metadata": {},
   "source": [
    "또는 벡터 내적을 계산하는 inner(), 길이를 계산하는 norm() 함수를 이용해서 cos 값을 구할 수도 있다."
   ]
  },
  {
   "cell_type": "code",
   "execution_count": null,
   "metadata": {},
   "outputs": [],
   "source": [
    "np.inner(va, vb) / (np.linalg.norm(va) * np.linalg.norm(vb))"
   ]
  },
  {
   "cell_type": "markdown",
   "metadata": {},
   "source": [
    "* 선형결합(linear combination)\n",
    "\n",
    "길이가 같은 벡터들($ \\mathbf {v_1 , v_2 , \\ldots, v_n} $)에 각각 상수($c_1 , c_2 , \\ldots, c_n$)를 곱해서 더하면 새로운 벡터가 생긴다. 이를 벡터들의 선형결합(일차 결합)이라고 한다.\n",
    "\n",
    "$$ \\sum_{i=1}^n c_i \\mathbf v_i $$\n",
    "\n",
    "2차원 평면 상에 두 벡터 $$  \\mathbf v_1 = (1, 0), \\;\\;  \\mathbf v_2 = (0,1) \\\\ $$ 가 있다고 하자. 두 벡터에 각각 상수를 곱해서 더하면 그 공간 상의 모든 점을 다 만들 수 있다. \n",
    "\n",
    "\\begin{eqnarray}\n",
    "  x \\mathbf v_1 + y  \\mathbf v_2 &=& x (1, 0) + y (0, 1) \\\\ &=& (x, y) \n",
    "\\end{eqnarray} \n",
    "\n",
    "즉 두 벡터를 선형결합해서 2차원 공간을 만들 수 있다.\n",
    "\n",
    "하지만 두 벡터 $$  \\mathbf v_1 = (1, 0),  \\;\\;   \\mathbf v_3 = (2,0) \\\\ $$을 아무리 선형결합시키더라도 2차원 공간을 만들 수 없다. \n",
    "\n",
    "\\begin{eqnarray} x  \\mathbf  v_1 + y  \\mathbf v_3 &= & x (1, 0) + y (2, 0) \\\\ &= & k (1, 0) \\\\ &= & k  \\mathbf v_1\n",
    "\\end{eqnarray} \n",
    "\n",
    "즉 두 벡터로 1차원 직선만 만들 수 있다. 이유는 <u>$  \\mathbf v_1 , \\;\\;   \\mathbf v_2 $는 선형독립이지만 $ \\mathbf v_1 ,  \\;\\;   \\mathbf v_3 $는 선형종속이기 때문이다.</u>"
   ]
  },
  {
   "cell_type": "code",
   "execution_count": 2,
   "metadata": {},
   "outputs": [],
   "source": [
    "va = np.array([-1, 0, 4]); vb = np.array([3, 0, -12]); vc = np.array([1, 0, 4])"
   ]
  },
  {
   "cell_type": "code",
   "execution_count": 3,
   "metadata": {},
   "outputs": [
    {
     "name": "stdout",
     "output_type": "stream",
     "text": [
      "[-1  0  4] [  3   0 -12] [1 0 4]\n"
     ]
    }
   ],
   "source": [
    "print(va, vb, vc)"
   ]
  },
  {
   "cell_type": "markdown",
   "metadata": {},
   "source": [
    "위에서 $  \\mathbf  {va, vc}$를 선형결합하면 2차원 공간이 생긴다. 그렇다면 세 벡터 $ \\mathbf {va, vb, vc}$를 선형결합하면 3차원 공간이 생길까? 아니다. $ \\mathbf {va, vc}$로 만드는 공간과 같은 공간만 생긴다. 이유는? $ \\mathbf {va}$와 $ \\mathbf {vb}$가 겹치기 때문에(종속이기 때문에) $ \\mathbf {vb}$가 새로 추가되어도 할 일이 남아있지 않기 때문이다. 벡터들의 수를 보면  $ \\mathbf {va, vb, vc}$은 세 개지만 그것들을 가지고 만들 수 있는 공간의 차원은 3이 아니고 2다. 이유는 세 벡터가 선형종속이기 때문이다.\n",
    "\n",
    "즉,  $  \\mathbf  {va, vb}$는 선형종속이고 세 벡터 $ \\mathbf {va, vb, vc}$도 선형종속이다. $  \\mathbf  {va, vb}$ 두 벡터를 포함하는 어떤 집합이든 모두 선형종속이다."
   ]
  },
  {
   "cell_type": "markdown",
   "metadata": {},
   "source": [
    "이런 것을 이해하는 것이 중요할까? \n",
    "\n",
    "물론이다. 회귀분석 등의 과목을 공부하고 데이터분석을 하기 위해 필요한 기본 중의 기본이다. \n",
    "\n",
    "이런 것을 이해하지 못하면 cm단위로 잰 키 데이터와 그 데이터를 m 단위로 바꾼 것을 (어쨌든 값이 다르므로) 서로 다른 변수로 간주하고 엉터리 분석을 할 수도 있다."
   ]
  },
  {
   "cell_type": "markdown",
   "metadata": {},
   "source": [
    "**생각해보자**\n",
    "\n",
    "아래 물음에 대해 자유롭게 답해보시오.\n",
    "\n",
    "두 벡터가 서로 상수배 관계인 것은 아니지만 사잇각의 코사인 값이 거의 1 (또는 -1)에 가까울 때에는 아무 문제 없을까? 혹시 벡터들 사이의 코사인 값은 상관계수와 무슨 관계가 있지 않을까?"
   ]
  },
  {
   "cell_type": "markdown",
   "metadata": {},
   "source": [
    "* 행렬 곱셈을 이용한 행별 합계 계산"
   ]
  },
  {
   "cell_type": "code",
   "execution_count": 4,
   "metadata": {},
   "outputs": [
    {
     "data": {
      "text/plain": [
       "array([[1, 2, 3],\n",
       "       [4, 5, 6]])"
      ]
     },
     "execution_count": 4,
     "metadata": {},
     "output_type": "execute_result"
    }
   ],
   "source": [
    "A = np.array([[1, 2, 3], [4, 5, 6]])\n",
    "A"
   ]
  },
  {
   "cell_type": "code",
   "execution_count": 5,
   "metadata": {},
   "outputs": [
    {
     "data": {
      "text/plain": [
       "array([1., 1., 1.])"
      ]
     },
     "execution_count": 5,
     "metadata": {},
     "output_type": "execute_result"
    }
   ],
   "source": [
    "np.ones(3)"
   ]
  },
  {
   "cell_type": "code",
   "execution_count": 6,
   "metadata": {},
   "outputs": [
    {
     "data": {
      "text/plain": [
       "array([ 6., 15.])"
      ]
     },
     "execution_count": 6,
     "metadata": {},
     "output_type": "execute_result"
    }
   ],
   "source": [
    "np.dot(A, np.ones(3))"
   ]
  },
  {
   "cell_type": "markdown",
   "metadata": {},
   "source": [
    "* 행렬곱셈을 벡터 선형결합으로 이해하자\n",
    "\n",
    "위의 계산은 아래와 같이 행렬 $\\mathbf A$의 세 열벡터에 각각 1을 곱해서 선형결합한 것과 같다.\n",
    "\n",
    "$$  \\left( \\begin{array}{ccc} 1 & 2 & 3 \\\\ 4 & 5 & 6 \\end{array} \\right) \n",
    "\\left( \\begin{array}{c} 1 \\\\ 1 \\\\ 1 \\end{array} \\right) \n",
    "=  1 \\left( \\begin{array}{c}1 \\\\ 4 \\end{array} \\right)+\n",
    "1 \\left( \\begin{array}{c}2 \\\\ 5 \\end{array} \\right) + \n",
    " 1 \\left( \\begin{array}{c}3 \\\\ 6 \\end{array} \\right)\n",
    " = \\left( \\begin{array}{c}6 \\\\ 15 \\end{array} \\right) $$\n",
    " "
   ]
  },
  {
   "cell_type": "markdown",
   "metadata": {},
   "source": [
    "세 개의 열벡터를 선형결합해서 만들 수 있는 벡터들의 집합은 어떤 것일까?"
   ]
  },
  {
   "cell_type": "markdown",
   "metadata": {},
   "source": [
    "$$ \\mathbf {Ax} = \\left( \\begin{array}{ccc} 1 & 2 & 3 \\\\ 4 & 5 & 6 \\end{array} \\right) \n",
    "\\left( \\begin{array}{c} x \\\\ y \\\\ z \\end{array} \\right) \n",
    "=  x \\left( \\begin{array}{c}1 \\\\ 4 \\end{array} \\right)+\n",
    "y \\left( \\begin{array}{c}2 \\\\ 5 \\end{array} \\right) + \n",
    " z \\left( \\begin{array}{c}3 \\\\ 6 \\end{array} \\right)\n",
    " = \\left( \\begin{array}{c} x+2y+3z \\\\ 4x+5y+6z \\end{array} \\right) $$"
   ]
  },
  {
   "cell_type": "markdown",
   "metadata": {},
   "source": [
    "행렬 $\\mathbf A$의 열벡터들을 선형결합시켜서 만든 모든 벡터들의 집합을 **$\\mathbf A$의 열공간(column space)** 이라고 한다. 이 공간은 2차원 평면공간($R^2 $)과 같다."
   ]
  },
  {
   "cell_type": "markdown",
   "metadata": {},
   "source": [
    "A의 두 행벡터들을 선형결합하여 **행공간** 도 만들어보자. 3차원공간($R^3 $)의 부분집합으로서 공간의 차원은 2다."
   ]
  },
  {
   "cell_type": "markdown",
   "metadata": {},
   "source": [
    "$$ \\left( \\begin{array}{c} x & y \\end{array} \\right) \\left( \\begin{array}{ccc} 1 & 2 & 3 \\\\ 4 & 5 & 6 \\end{array} \\right) \n",
    "=  x \\left( \\begin{array}{ccc}1 & 2 & 3 \\end{array} \\right)+\n",
    "y \\left( \\begin{array}{ccc} 4 & 5 & 6 \\end{array} \\right) \n",
    " = \\left( \\begin{array}{ccc} x+4y & 2x+5y & 3x+6y \\end{array} \\right) $$"
   ]
  },
  {
   "cell_type": "markdown",
   "metadata": {},
   "source": [
    "* 일차 연립방정식과 열공간\n",
    "\n",
    "아래와 같은 연립방정식을 생각해보자. \n",
    "\n",
    "$$  \\begin{array}{r} &-x +3y+z &=&0 \\\\ &x -3y +z &=&0 \\\\ &4x-12y+4z &=&0 \\end{array} $$\n",
    "\n",
    "행렬을 이용해서 표현하면,\n",
    "\n",
    "$$  \\mathbf {Av} = \\left( \\begin{array}{rrr} -1 & 3 & 1 \\\\ 1 & -3 & 1 \\\\ 4 & -12 & 4 \\end{array} \\right) \n",
    "\\left( \\begin{array}{r} x \\\\ y \\\\ z \\end{array} \\right) \n",
    "=  x \\left( \\begin{array}{r}-1 \\\\ 1 \\\\ 4 \\end{array} \\right)+\n",
    "y \\left( \\begin{array}{r} 3 \\\\ -3 \\\\ -12 \\end{array} \\right) + \n",
    " z \\left( \\begin{array}{c} 1 \\\\ 1 \\\\  4 \\end{array} \\right)\n",
    " = \\left( \\begin{array}{c}0 \\\\ 0 \\\\0 \\end{array} \\right) $$\n",
    " "
   ]
  },
  {
   "cell_type": "markdown",
   "metadata": {},
   "source": [
    "`이 방정식의 답을 찾는 것은 세 열벡터들 사이의 선형독립 관계를 알아보는 것과 같다.` 또는 열벡터들을 선형결합시켜 0벡터를 만들 수 있는지 묻는 것과 같다. 연립방정식을 풀면 $(x,y,z) = (3, 1, 0)$라는 답을 얻을 수 있는데 여기서는 결과 자체보다는 자명한 답 $(0, 0, 0)$ 이외에 다른 답이 존재하는지 여부가 중요하다. \n",
    "\n",
    "이의 경우와 같이 $\\mathbf 0$이 아닌 방정식의 답이 존재한다는 것은 세 열벡터가 선형종속 관계임을 나타낸다. 즉 행렬 $\\mathbf A$의 열벡터들이 선형종속관계인지 알아보려면 $\\mathbf {Av=0}$ 이 되는 영벡터가 아닌 벡터 $\\mathbf v$가 존재하는지 확인해보면 된다. 만약 그런 벡터 $\\mathbf v$가 존재한다면 열벡터들은 선형종속이며, 행렬 $\\mathbf A$의 행렬식은 0이고, $\\mathbf A^{-1}$은 존재하지 않는다."
   ]
  },
  {
   "cell_type": "markdown",
   "metadata": {},
   "source": [
    "만일 행렬의 열벡터들이 **선형독립인 경우라면** 위와 같은 방정식은 `np.linalg.solve()`를 이용해서 풀 수 있다. (연립방정식)\n",
    "\n",
    "세 벡터가 다음과 같다고 하자.\n",
    "\n",
    "$$\\mathbf a=(-1, 1, 4),~~ \\mathbf b=(3, -3, -12), ~~ \\mathbf c= (1, 1, 4)$$"
   ]
  },
  {
   "cell_type": "code",
   "execution_count": 7,
   "metadata": {},
   "outputs": [
    {
     "data": {
      "text/plain": [
       "array([[ -1,   3,   1],\n",
       "       [  1,  -3,   1],\n",
       "       [  4, -12,   4]])"
      ]
     },
     "execution_count": 7,
     "metadata": {},
     "output_type": "execute_result"
    }
   ],
   "source": [
    "alist = [[-1, 1, 4], [3, -3, -12], [1, 1, 4]]\n",
    "A = np.array(alist).T\n",
    "b = np.array([0, 0, 0])\n",
    "A"
   ]
  },
  {
   "cell_type": "markdown",
   "metadata": {},
   "source": [
    "$\\mathbf A$의 행렬식을 구해보면 0이므로 역행렬이 없다."
   ]
  },
  {
   "cell_type": "code",
   "execution_count": 8,
   "metadata": {},
   "outputs": [
    {
     "data": {
      "text/plain": [
       "0.0"
      ]
     },
     "execution_count": 8,
     "metadata": {},
     "output_type": "execute_result"
    }
   ],
   "source": [
    "np.linalg.det(A)  #행렬식"
   ]
  },
  {
   "cell_type": "markdown",
   "metadata": {},
   "source": [
    "위의 행렬에서 값을 하나만 바꾸어보자. (-1, 1, 4 에서 -1, 2, 4로 바꿈)"
   ]
  },
  {
   "cell_type": "code",
   "execution_count": 9,
   "metadata": {
    "scrolled": true
   },
   "outputs": [
    {
     "data": {
      "text/plain": [
       "array([[ -1,   3,   1],\n",
       "       [  2,  -3,   1],\n",
       "       [  4, -12,   4]])"
      ]
     },
     "execution_count": 9,
     "metadata": {},
     "output_type": "execute_result"
    }
   ],
   "source": [
    "blist = [[-1, 2, 4], [3, -3, -12], [1, 1, 4]]\n",
    "B = np.array(blist).T\n",
    "b = np.array([0, 0, 0]) #위의 b = (3, -3, -12) 과 다른것임 밑에서의 b = 0\n",
    "B"
   ]
  },
  {
   "cell_type": "markdown",
   "metadata": {},
   "source": [
    "$\\mathbf B$의 세 열벡터가 선형독립이고 따라서 행렬식이 0이 아니므로 역행렬을 구할 수 있다."
   ]
  },
  {
   "cell_type": "code",
   "execution_count": 10,
   "metadata": {},
   "outputs": [
    {
     "data": {
      "text/plain": [
       "-24.000000000000004"
      ]
     },
     "execution_count": 10,
     "metadata": {},
     "output_type": "execute_result"
    }
   ],
   "source": [
    "np.linalg.det(B)"
   ]
  },
  {
   "cell_type": "code",
   "execution_count": 11,
   "metadata": {},
   "outputs": [
    {
     "data": {
      "text/plain": [
       "array([[-2.77555756e-17,  1.00000000e+00, -2.50000000e-01],\n",
       "       [ 1.66666667e-01,  3.33333333e-01, -1.25000000e-01],\n",
       "       [ 5.00000000e-01,  0.00000000e+00,  1.25000000e-01]])"
      ]
     },
     "execution_count": 11,
     "metadata": {},
     "output_type": "execute_result"
    }
   ],
   "source": [
    "np.linalg.inv(B)"
   ]
  },
  {
   "cell_type": "markdown",
   "metadata": {},
   "source": [
    "$\\mathbf B$의 역행렬이 존재한다면 연립방정식 $\\mathbf {Bx = b}$는 \n",
    "\n",
    "$$\\mathbf {B^{-1} B x} = \\mathbf  x  = \\mathbf { B^{-1}b}$$\n",
    "\n",
    "\n",
    "라는 유일한 답을 갖는다. 이럴 때 만약 $\\mathbf {b = 0}$ 벡터라면 $\\mathbf {x = 0}$이 연립방정식 $\\mathbf {Bx = 0}$의 유일한 답이다.\n",
    "\n",
    "이제 넘파이로 방정식을 풀어보자."
   ]
  },
  {
   "cell_type": "code",
   "execution_count": 12,
   "metadata": {},
   "outputs": [
    {
     "data": {
      "text/plain": [
       "array([0., 0., 0.])"
      ]
     },
     "execution_count": 12,
     "metadata": {},
     "output_type": "execute_result"
    }
   ],
   "source": [
    "np.linalg.solve(B,b)  #연립방정식"
   ]
  },
  {
   "cell_type": "markdown",
   "metadata": {},
   "source": [
    "$\\mathbf A$의 열벡터들이 선형독립이므로 위의 결과는 당연하다. 다른 $\\mathbf b$ 벡터에 대해서도 연습해보자."
   ]
  },
  {
   "cell_type": "code",
   "execution_count": 13,
   "metadata": {},
   "outputs": [
    {
     "data": {
      "text/plain": [
       "array([-1.75      , -0.54166667,  0.875     ])"
      ]
     },
     "execution_count": 13,
     "metadata": {},
     "output_type": "execute_result"
    }
   ],
   "source": [
    "b = np.array([1, -1, 3])\n",
    "np.linalg.solve(B,b)"
   ]
  },
  {
   "cell_type": "markdown",
   "metadata": {},
   "source": [
    "어떤 벡터 $\\mathbf b$에 대해서도 방정식 $\\mathbf {Bx=b}$는 답을 갖는다. 이유는 행렬 $\\mathbf B$의 세 열벡터가 선형독립이므로  $\\mathbf B$의 열공간은 $R^3 $이기 때문이다."
   ]
  },
  {
   "cell_type": "markdown",
   "metadata": {},
   "source": [
    "* **선형변환(linear transformation)**"
   ]
  },
  {
   "cell_type": "code",
   "execution_count": 14,
   "metadata": {},
   "outputs": [
    {
     "name": "stdout",
     "output_type": "stream",
     "text": [
      "[[4 2]\n",
      " [3 5]] \n",
      "\n",
      " [1 2]\n"
     ]
    }
   ],
   "source": [
    "M = np.array([4, 2, 3, 5]).reshape(2, 2)\n",
    "a = np.array([1, 2])\n",
    "\n",
    "print(M, \"\\n\\n\", a)"
   ]
  },
  {
   "cell_type": "code",
   "execution_count": 15,
   "metadata": {},
   "outputs": [
    {
     "data": {
      "text/plain": [
       "array([ 8, 13])"
      ]
     },
     "execution_count": 15,
     "metadata": {},
     "output_type": "execute_result"
    }
   ],
   "source": [
    "M.dot(a)"
   ]
  },
  {
   "cell_type": "markdown",
   "metadata": {},
   "source": [
    "벡터 $ \\mathbf a = (1, 2)$ 앞에 행렬 $\\mathbf M$을 곱하니 새로운 벡터 $(8, 13)$이 되었다. 이 변환은 임의의 벡터 ${\\mathbf v, \\mathbf w}$와 행렬 $\\mathbf A$, 그리고 임의의 상수 $k_1 , k_2$에 대해 $$\\mathbf A (k_1 \\mathbf v + k_2 \\mathbf w ) = k_1 \\mathbf {Av} + k_2 \\mathbf {Aw}$$\n",
    "\n",
    "가 된다. 이러한 변환을 `선형변환`이라고 부른다. "
   ]
  },
  {
   "cell_type": "markdown",
   "metadata": {},
   "source": [
    "* 행렬의 분해(factorization)\n",
    "\n",
    "행렬 $\\mathbf A$가 다음과 같다고 하자.\n",
    "\n",
    "$$  \\mathbf {A} = \\left( \\begin{array}{rrr} 1 & 3 & 8 \\\\ 1 & 2 & 6 \\\\ 0 & 1 & 2 \\end{array} \\right) $$\n",
    "\n",
    "이 행렬의 열벡터들은 선형독립인가? 아니다. 3열 = 2 x (1열) + 2 x (2열)이다. 따라서 다음과 같이 행렬  $\\mathbf A$를 두 행렬의 곱으로 분해할 수 있다. \n",
    "\n",
    "$$  \\mathbf {A} = \\left( \\begin{array}{rrr} 1 & 3 & 8 \\\\ 1 & 2 & 6 \\\\ 0 & 1 & 2 \\end{array} \\right) =  \n",
    " \\left( \\begin{array}{rrr} 1 & 3 \\\\ 1 & 2  \\\\ 0 & 1  \\end{array} \\right)  \\left( \\begin{array}{rrr} 1 & 0 & 2 \\\\ 0 & 1 & 2 \\end{array} \\right) $$\n",
    " \n",
    "위와 같은 행렬 분해는 $ \\mathbf {A} $의 열벡터들 사이에 있는 선형독립, 종속 관계를 잘 보여준다."
   ]
  },
  {
   "cell_type": "markdown",
   "metadata": {},
   "source": [
    "3. **고유값, 고유벡터, 스펙트럴 분해**\n",
    "\n",
    "$n \\times n$ 행렬 $\\mathbf A$에 대해 \n",
    "\n",
    "$$ \\mathbf {A v} = \\lambda \\mathbf v $$\n",
    "\n",
    "를 만족하는 벡터 $\\mathbf {v \\;\\; (v \\neq 0)}$를 $\\mathbf A$의 고유벡터(eigenvector)라 하고 스칼라값 $\\lambda$를 고유값(eigenvalue)라고 한다.\n",
    "\n",
    "위의 정의는 \n",
    "\n",
    "$$ \\mathbf {(A- \\lambda I)v = 0 }$$\n",
    "\n",
    "과 같으므로 $$ \\det (\\mathbf A- \\lambda \\mathbf I) = 0 $$\n",
    "\n",
    "을 풀어 고유값과 고유벡터를 구할 수 있다."
   ]
  },
  {
   "cell_type": "code",
   "execution_count": 16,
   "metadata": {},
   "outputs": [
    {
     "data": {
      "text/plain": [
       "array([[4, 2],\n",
       "       [3, 5]])"
      ]
     },
     "execution_count": 16,
     "metadata": {},
     "output_type": "execute_result"
    }
   ],
   "source": [
    "M"
   ]
  },
  {
   "cell_type": "code",
   "execution_count": 19,
   "metadata": {
    "scrolled": true
   },
   "outputs": [
    {
     "data": {
      "text/plain": [
       "14.000000000000004"
      ]
     },
     "execution_count": 19,
     "metadata": {},
     "output_type": "execute_result"
    }
   ],
   "source": [
    "from numpy.linalg import inv, det, eig\n",
    "det(M)"
   ]
  },
  {
   "cell_type": "markdown",
   "metadata": {},
   "source": [
    "행렬 $\\mathbf M$의 교유치와 고유벡터는 `eig(M)`으로 구한다. 결과는 <u>고유값들과 고유벡터들로 이루어진 두 개의 배열이 들어있는 튜플</u>이다. 데이터가 들어있는 어떤 행렬의 고유벡터는 데이터 축의 방향을 나타내는데 각 축의 중요도는 고유치 절대값의 크기로 결정된다."
   ]
  },
  {
   "cell_type": "code",
   "execution_count": 20,
   "metadata": {
    "scrolled": true
   },
   "outputs": [
    {
     "data": {
      "text/plain": [
       "(array([2., 7.]),\n",
       " array([[-0.7071, -0.5547],\n",
       "        [ 0.7071, -0.8321]]))"
      ]
     },
     "execution_count": 20,
     "metadata": {},
     "output_type": "execute_result"
    }
   ],
   "source": [
    "eig(M)"
   ]
  },
  {
   "cell_type": "markdown",
   "metadata": {},
   "source": [
    "행렬 $\\mathbf M$의 행렬식은 14이고 고유치는 2와 7이다. 고유치들이 들어있는 1차원 배열에서 첫 고유벡터에 대응하는 맨 첫번째 고유치를 부르기 위해서는 아래와 같이 해야한다."
   ]
  },
  {
   "cell_type": "code",
   "execution_count": 21,
   "metadata": {},
   "outputs": [
    {
     "data": {
      "text/plain": [
       "tuple"
      ]
     },
     "execution_count": 21,
     "metadata": {},
     "output_type": "execute_result"
    }
   ],
   "source": [
    "Eig = eig(M)\n",
    "type(Eig)"
   ]
  },
  {
   "cell_type": "code",
   "execution_count": 22,
   "metadata": {},
   "outputs": [
    {
     "data": {
      "text/plain": [
       "2.0"
      ]
     },
     "execution_count": 22,
     "metadata": {},
     "output_type": "execute_result"
    }
   ],
   "source": [
    "Eig[0][0]"
   ]
  },
  {
   "cell_type": "markdown",
   "metadata": {},
   "source": [
    "또 고유벡터들로 이루어진 배열은 2차원 배열이므로 맨 첫번째 고유벡터를 부르기 위해서는 다음과 같이 해야한다."
   ]
  },
  {
   "cell_type": "code",
   "execution_count": 23,
   "metadata": {
    "scrolled": true
   },
   "outputs": [
    {
     "data": {
      "text/plain": [
       "array([-0.7071,  0.7071])"
      ]
     },
     "execution_count": 23,
     "metadata": {},
     "output_type": "execute_result"
    }
   ],
   "source": [
    "Eig[1][:,0]"
   ]
  },
  {
   "cell_type": "markdown",
   "metadata": {},
   "source": [
    "고유치 2에 대응하는 고유벡터는(편의상 값들을 정수로 표현하면) $(-1, 1)$이며 고유치 7에 대응하는 고유벡터는 $(2, 3)$이다. 고유치 $\\lambda = 2$에 대해 $\\mathbf {Mv} = \\lambda \\mathbf v$임을 곱셈으로 확인해보자."
   ]
  },
  {
   "cell_type": "code",
   "execution_count": 24,
   "metadata": {},
   "outputs": [
    {
     "data": {
      "text/plain": [
       "array([-1.4142,  1.4142])"
      ]
     },
     "execution_count": 24,
     "metadata": {},
     "output_type": "execute_result"
    }
   ],
   "source": [
    "M.dot(Eig[1][:,0])"
   ]
  },
  {
   "cell_type": "code",
   "execution_count": 25,
   "metadata": {},
   "outputs": [
    {
     "data": {
      "text/plain": [
       "array([-1.4142,  1.4142])"
      ]
     },
     "execution_count": 25,
     "metadata": {},
     "output_type": "execute_result"
    }
   ],
   "source": [
    "np.dot((Eig[0][0]), Eig[1][:,0])"
   ]
  },
  {
   "cell_type": "markdown",
   "metadata": {},
   "source": [
    "* $\\mathbf {MV} = \\mathbf {VD}$"
   ]
  },
  {
   "cell_type": "code",
   "execution_count": 26,
   "metadata": {},
   "outputs": [
    {
     "data": {
      "text/plain": [
       "(array([2., 7.]),\n",
       " array([[-0.7071, -0.5547],\n",
       "        [ 0.7071, -0.8321]]))"
      ]
     },
     "execution_count": 26,
     "metadata": {},
     "output_type": "execute_result"
    }
   ],
   "source": [
    "Eig"
   ]
  },
  {
   "cell_type": "code",
   "execution_count": 27,
   "metadata": {},
   "outputs": [
    {
     "data": {
      "text/plain": [
       "array([[2., 0.],\n",
       "       [0., 7.]])"
      ]
     },
     "execution_count": 27,
     "metadata": {},
     "output_type": "execute_result"
    }
   ],
   "source": [
    "D = np.diag(Eig[0])  #대각행렬\n",
    "D"
   ]
  },
  {
   "cell_type": "code",
   "execution_count": 28,
   "metadata": {},
   "outputs": [
    {
     "data": {
      "text/plain": [
       "array([[-0.7071, -0.5547],\n",
       "       [ 0.7071, -0.8321]])"
      ]
     },
     "execution_count": 28,
     "metadata": {},
     "output_type": "execute_result"
    }
   ],
   "source": [
    "V = Eig[1]\n",
    "V"
   ]
  },
  {
   "cell_type": "code",
   "execution_count": 29,
   "metadata": {},
   "outputs": [
    {
     "data": {
      "text/plain": [
       "array([[-1.4142, -3.8829],\n",
       "       [ 1.4142, -5.8244]])"
      ]
     },
     "execution_count": 29,
     "metadata": {},
     "output_type": "execute_result"
    }
   ],
   "source": [
    "M.dot(V)"
   ]
  },
  {
   "cell_type": "code",
   "execution_count": 30,
   "metadata": {},
   "outputs": [
    {
     "data": {
      "text/plain": [
       "array([[-1.4142, -3.8829],\n",
       "       [ 1.4142, -5.8244]])"
      ]
     },
     "execution_count": 30,
     "metadata": {},
     "output_type": "execute_result"
    }
   ],
   "source": [
    "V.dot(D)"
   ]
  },
  {
   "cell_type": "markdown",
   "metadata": {},
   "source": [
    "고유치, 고유벡터의 정의로부터 쉽게 위의 등식이 성립함을 알 수 있다."
   ]
  },
  {
   "cell_type": "code",
   "execution_count": 31,
   "metadata": {},
   "outputs": [
    {
     "data": {
      "text/plain": [
       "array([[-0.8485,  0.5657],\n",
       "       [-0.7211, -0.7211]])"
      ]
     },
     "execution_count": 31,
     "metadata": {},
     "output_type": "execute_result"
    }
   ],
   "source": [
    "IV = inv(V)\n",
    "IV"
   ]
  },
  {
   "cell_type": "code",
   "execution_count": 32,
   "metadata": {},
   "outputs": [
    {
     "data": {
      "text/plain": [
       "array([[ 2.0000e+00, -5.5511e-16],\n",
       "       [ 0.0000e+00,  7.0000e+00]])"
      ]
     },
     "execution_count": 32,
     "metadata": {},
     "output_type": "execute_result"
    }
   ],
   "source": [
    "IV.dot(M).dot(V)"
   ]
  },
  {
   "cell_type": "markdown",
   "metadata": {},
   "source": [
    "$\\mathbf {V^{-1} M V} = \\mathbf D$이며, $\\mathbf {M} = \\mathbf {VDV^{-1}}$도 성립한다."
   ]
  },
  {
   "cell_type": "code",
   "execution_count": 33,
   "metadata": {},
   "outputs": [
    {
     "data": {
      "text/plain": [
       "array([[4., 2.],\n",
       "       [3., 5.]])"
      ]
     },
     "execution_count": 33,
     "metadata": {},
     "output_type": "execute_result"
    }
   ],
   "source": [
    "V.dot(D).dot(IV)"
   ]
  },
  {
   "cell_type": "markdown",
   "metadata": {},
   "source": [
    "*  spectral decomposition (eigendecomposition)"
   ]
  },
  {
   "cell_type": "markdown",
   "metadata": {},
   "source": [
    "1) 대칭행렬 : $\\mathbf {S^T = S}$ \n",
    "\n",
    "대칭행렬 $ \\mathbf S$에 대해 $ \\mathbf {Sx=0}$을 만족하는 벡터 $\\mathbf x$는 $ \\mathbf S$의 행공간에 속하는 모든 벡터와 직교한다. 대칭행렬에서는 <u>행공간 = 열공간</u> 이므로 당연히  벡터 $\\mathbf x$는 $ \\mathbf S$의 열공간에 속하는 모든 벡터와도 직교한다."
   ]
  },
  {
   "cell_type": "markdown",
   "metadata": {},
   "source": [
    "2) 직교행렬 : 길이가 1이고 서로 직교하는 열들로 이루어진 $ n \\times n$ 행렬\n",
    "\n",
    "$\\mathbf {Q^T = Q^{-1} }$,        \n",
    "\n",
    "$\\mathbf {Q^T Q = I}$"
   ]
  },
  {
   "cell_type": "markdown",
   "metadata": {},
   "source": [
    "3) 고유치, 고유벡터 : $ \\mathbf {Sq} = \\lambda \\mathbf q $ \n",
    "\n",
    "<u>대칭행렬의 고유치는 모두 실수이다. 그리고 길이가 1이고 서로 직교하는 정규직교 고유벡터(orthonormal eigenvector)들을 갖는다.</u>\n",
    "\n",
    "**spectral decomposion** : \n",
    "\n",
    "$ \\mathbf {SQ = QD}$"
   ]
  },
  {
   "cell_type": "markdown",
   "metadata": {},
   "source": [
    "$\\mathbf {S [q_1 , q_2, \\ldots, q_n ]} = \\mathbf {[q_1 , q_2, \\ldots, q_n ]}  \\left( \\begin{array}\n",
    "& \\lambda_1  & 0     & 0      & \\cdots        & 0     & 0  \\\\\n",
    "0 & \\lambda_2 & 0 & \\cdots &  0      & 0 \\\\\n",
    "0 & 0 & \\lambda_3 & \\cdots & 0 &  0  \\\\\n",
    "\\vdots & \\vdots & \\ddots &  & \\vdots  & \\vdots  \\\\\n",
    "0 &  0 & 0 & \\cdots & \\lambda_{n-1} & 0 \\\\\n",
    "0 & 0      & 0     &  \\cdots      & 0      & \\lambda_n \\end{array}  \\right)$"
   ]
  },
  {
   "cell_type": "markdown",
   "metadata": {},
   "source": [
    "$ \\mathbf {S = QDQ^T }$\n",
    "\n",
    "$\\mathbf S = \\mathbf {[q_1 , q_2, \\ldots, q_n ]}  \\left( \\begin{array}\n",
    "& \\lambda_1  & 0     & 0      & \\cdots        & 0     & 0  \\\\\n",
    "0 & \\lambda_2 & 0 & \\cdots &  0      & 0 \\\\\n",
    "0 & 0 & \\lambda_3 & \\cdots & 0 &  0  \\\\\n",
    "\\vdots & \\vdots & \\ddots &  & \\vdots  & \\vdots  \\\\\n",
    "0 &  0 & 0 & \\cdots & \\lambda_{n-1} & 0 \\\\\n",
    "0 & 0      & 0     &  \\cdots      & 0      & \\lambda_n \\end{array} \\right)   \\left[ \\begin{array} &  \\mathbf {q_1^T \\\\ q_2^T \\\\ \\vdots, \\\\ q_n^T}  \\end{array} \\right]  $"
   ]
  },
  {
   "cell_type": "markdown",
   "metadata": {},
   "source": [
    "$\\mathbf S = \\lambda_1 \\mathbf {q_1 \\cdot q_1^T} + \\lambda_2 \\mathbf {q_2 \\cdot q_2^T} + \\ldots +  \\lambda_n \\mathbf {q_n \\cdot q_n^T} $ "
   ]
  },
  {
   "cell_type": "code",
   "execution_count": 3,
   "metadata": {},
   "outputs": [
    {
     "data": {
      "text/plain": [
       "array([[43, 37, 26, 46, 46],\n",
       "       [37, 52, 36, 53, 41],\n",
       "       [26, 36, 48, 38, 39],\n",
       "       [46, 53, 38, 81, 56],\n",
       "       [46, 41, 39, 56, 81]])"
      ]
     },
     "execution_count": 3,
     "metadata": {},
     "output_type": "execute_result"
    }
   ],
   "source": [
    "data = np.random.randint(5, size=(10,5))\n",
    "dxd = data.T.dot(data)\n",
    "dxd"
   ]
  },
  {
   "cell_type": "code",
   "execution_count": 4,
   "metadata": {},
   "outputs": [
    {
     "data": {
      "text/plain": [
       "array([[43, 37, 26, 46, 46],\n",
       "       [37, 52, 36, 53, 41],\n",
       "       [26, 36, 48, 38, 39],\n",
       "       [46, 53, 38, 81, 56],\n",
       "       [46, 41, 39, 56, 81]])"
      ]
     },
     "execution_count": 4,
     "metadata": {},
     "output_type": "execute_result"
    }
   ],
   "source": [
    "dxd.T"
   ]
  },
  {
   "cell_type": "code",
   "execution_count": 5,
   "metadata": {},
   "outputs": [],
   "source": [
    "from numpy.linalg import inv, det, eig\n",
    "eig_d = eig(dxd)"
   ]
  },
  {
   "cell_type": "code",
   "execution_count": 6,
   "metadata": {},
   "outputs": [
    {
     "data": {
      "text/plain": [
       "tuple"
      ]
     },
     "execution_count": 6,
     "metadata": {},
     "output_type": "execute_result"
    }
   ],
   "source": [
    "type(eig_d)"
   ]
  },
  {
   "cell_type": "code",
   "execution_count": 7,
   "metadata": {},
   "outputs": [
    {
     "data": {
      "text/plain": [
       "(array([233.88227507,   6.1204594 ,  11.75217844,  24.07420696,\n",
       "         29.17088013]),\n",
       " array([[ 0.38276524,  0.62701293,  0.62350541,  0.25412854,  0.08369736],\n",
       "        [ 0.42002855, -0.633203  ,  0.47860674, -0.10378792, -0.42754373],\n",
       "        [ 0.35255271,  0.32048781, -0.17509365, -0.85359657, -0.11708655],\n",
       "        [ 0.53682628,  0.12246018, -0.57814552,  0.44233049, -0.40854931],\n",
       "        [ 0.51438402, -0.29698455, -0.1314023 ,  0.01906255,  0.79346034]]))"
      ]
     },
     "execution_count": 7,
     "metadata": {},
     "output_type": "execute_result"
    }
   ],
   "source": [
    "eig_d"
   ]
  },
  {
   "cell_type": "code",
   "execution_count": 8,
   "metadata": {},
   "outputs": [],
   "source": [
    "eig_vals = eig_d[0] #고유값\n",
    "eig_vecs = eig_d[1] #고유벡터"
   ]
  },
  {
   "cell_type": "code",
   "execution_count": 9,
   "metadata": {},
   "outputs": [],
   "source": [
    "V = eig_d[1]\n",
    "D = np.diag(eig_vals)"
   ]
  },
  {
   "cell_type": "code",
   "execution_count": 10,
   "metadata": {},
   "outputs": [
    {
     "data": {
      "text/plain": [
       "array([233.88227507,   6.1204594 ,  11.75217844,  24.07420696,\n",
       "        29.17088013])"
      ]
     },
     "execution_count": 10,
     "metadata": {},
     "output_type": "execute_result"
    }
   ],
   "source": [
    "eig_vals"
   ]
  },
  {
   "cell_type": "code",
   "execution_count": 11,
   "metadata": {},
   "outputs": [
    {
     "data": {
      "text/plain": [
       "array([[43., 37., 26., 46., 46.],\n",
       "       [37., 52., 36., 53., 41.],\n",
       "       [26., 36., 48., 38., 39.],\n",
       "       [46., 53., 38., 81., 56.],\n",
       "       [46., 41., 39., 56., 81.]])"
      ]
     },
     "execution_count": 11,
     "metadata": {},
     "output_type": "execute_result"
    }
   ],
   "source": [
    "V.dot(D).dot(V.T)"
   ]
  },
  {
   "cell_type": "code",
   "execution_count": 12,
   "metadata": {},
   "outputs": [
    {
     "data": {
      "text/plain": [
       "[(233.88227506668193,\n",
       "  array([0.38276524, 0.42002855, 0.35255271, 0.53682628, 0.51438402])),\n",
       " (29.170880126871122,\n",
       "  array([ 0.08369736, -0.42754373, -0.11708655, -0.40854931,  0.79346034])),\n",
       " (24.074206961798687,\n",
       "  array([ 0.25412854, -0.10378792, -0.85359657,  0.44233049,  0.01906255])),\n",
       " (11.75217844067462,\n",
       "  array([ 0.62350541,  0.47860674, -0.17509365, -0.57814552, -0.1314023 ])),\n",
       " (6.1204594039736895,\n",
       "  array([ 0.62701293, -0.633203  ,  0.32048781,  0.12246018, -0.29698455]))]"
      ]
     },
     "execution_count": 12,
     "metadata": {},
     "output_type": "execute_result"
    }
   ],
   "source": [
    "eig_pairs = [(np.abs(eig_vals[i]), eig_vecs[:,i]) for i in range(len(eig_vals))]\n",
    "eig_pairs.sort(key=lambda k : k[0], reverse=True)\n",
    "eig_pairs"
   ]
  },
  {
   "cell_type": "code",
   "execution_count": 13,
   "metadata": {},
   "outputs": [
    {
     "data": {
      "text/plain": [
       "array([[0.38276524],\n",
       "       [0.42002855],\n",
       "       [0.35255271],\n",
       "       [0.53682628],\n",
       "       [0.51438402]])"
      ]
     },
     "execution_count": 13,
     "metadata": {},
     "output_type": "execute_result"
    }
   ],
   "source": [
    "eig_v0 = eig_pairs[0][1].reshape(5,1)\n",
    "eig_v0"
   ]
  },
  {
   "cell_type": "code",
   "execution_count": 14,
   "metadata": {},
   "outputs": [
    {
     "data": {
      "text/plain": [
       "array([[34.26591242, 37.6017987 , 31.56122567, 48.05776516, 46.04868919],\n",
       "       [37.6017987 , 41.26244322, 34.63380282, 52.73632844, 50.53166308],\n",
       "       [31.56122567, 34.63380282, 29.07002602, 44.26445596, 42.41396095],\n",
       "       [48.05776516, 52.73632844, 44.26445596, 67.40076739, 64.58304872],\n",
       "       [46.04868919, 50.53166308, 42.41396095, 64.58304872, 61.88312602]])"
      ]
     },
     "execution_count": 14,
     "metadata": {},
     "output_type": "execute_result"
    }
   ],
   "source": [
    "m_0 = eig_pairs[0][0] * eig_v0.dot(eig_v0.T)\n",
    "m_0"
   ]
  },
  {
   "cell_type": "code",
   "execution_count": 15,
   "metadata": {},
   "outputs": [
    {
     "data": {
      "text/plain": [
       "array([[34.47026167, 36.55793971, 31.27535584, 47.06028153, 47.98594299],\n",
       "       [36.55793971, 46.59469453, 36.09408604, 57.83168467, 40.63576312],\n",
       "       [31.27535584, 36.09408604, 29.46993723, 45.65986341, 39.70388302],\n",
       "       [47.06028153, 57.83168467, 45.65986341, 72.26975305, 55.12679233],\n",
       "       [47.98594299, 40.63576312, 39.70388302, 55.12679233, 80.24850871]])"
      ]
     },
     "execution_count": 15,
     "metadata": {},
     "output_type": "execute_result"
    }
   ],
   "source": [
    "eig_v1 = eig_pairs[1][1].reshape(5,1)\n",
    "m_1 = eig_pairs[1][0]* eig_v1.dot(eig_v1.T)\n",
    "m_0 + m_1"
   ]
  },
  {
   "cell_type": "code",
   "execution_count": 16,
   "metadata": {},
   "outputs": [
    {
     "data": {
      "text/plain": [
       "array([[34.98231736, 36.34881248, 29.55540349, 47.95155429, 48.02435302],\n",
       "       [33.94225151, 47.6629604 , 44.87996447, 53.2788759 , 40.43955661],\n",
       "       [30.55902697, 36.3866399 , 31.87602615, 44.41303729, 39.65015017],\n",
       "       [44.56080009, 58.85249087, 54.05541302, 67.91921119, 54.93930266],\n",
       "       [52.84028822, 38.65321362, 23.39854239, 63.5761578 , 80.61264009]])"
      ]
     },
     "execution_count": 16,
     "metadata": {},
     "output_type": "execute_result"
    }
   ],
   "source": [
    "eig_v2 = eig_pairs[2][1].reshape(5,1)\n",
    "m_2 = eig_pairs[2][0]* eig_v1.dot(eig_v2.T)\n",
    "m_0 + m_1 + m_2"
   ]
  },
  {
   "cell_type": "code",
   "execution_count": 17,
   "metadata": {},
   "outputs": [
    {
     "data": {
      "text/plain": [
       "array([[35.59561369, 36.81958267, 29.38317677, 47.38287514, 47.89510226],\n",
       "       [30.80940484, 45.25816727, 45.75973479, 56.18380866, 41.09979671],\n",
       "       [29.70106976, 35.72806647, 32.11695888, 45.20857829, 39.83096264],\n",
       "       [41.5671359 , 56.5545351 , 54.89609793, 70.69508696, 55.57021037],\n",
       "       [58.65440602, 43.1161676 , 21.76581381, 58.18501581, 79.38732839]])"
      ]
     },
     "execution_count": 17,
     "metadata": {},
     "output_type": "execute_result"
    }
   ],
   "source": [
    "eig_v3 = eig_pairs[3][1].reshape(5,1)\n",
    "m_3 = eig_pairs[3][0]* eig_v1.dot(eig_v3.T)\n",
    "m_0 + m_1 + m_2 + m_3"
   ]
  },
  {
   "cell_type": "code",
   "execution_count": 18,
   "metadata": {},
   "outputs": [
    {
     "data": {
      "text/plain": [
       "array([[36.20891002, 37.29035285, 29.21095005, 46.81419598, 47.76585149],\n",
       "       [27.67655817, 42.85337415, 46.63950511, 59.08874142, 41.7600368 ],\n",
       "       [28.84311256, 35.06949304, 32.3578916 , 46.00411929, 40.0117751 ],\n",
       "       [38.5734717 , 54.25657933, 55.73678284, 73.47096273, 56.20111808],\n",
       "       [64.46852381, 47.57912158, 20.13308524, 52.79387382, 78.16201669]])"
      ]
     },
     "execution_count": 18,
     "metadata": {},
     "output_type": "execute_result"
    }
   ],
   "source": [
    "eig_v4 = eig_pairs[4][1].reshape(5,1)\n",
    "m_4 = eig_pairs[4][0]* eig_v1.dot(eig_v4.T)\n",
    "m_0 + m_1 + m_2 + m_3 + m_3"
   ]
  },
  {
   "cell_type": "markdown",
   "metadata": {},
   "source": [
    "4. 특이값 분해 (singular value decomposition) (p. 396)\n",
    "\n",
    "일반적으로 데이터행렬은 대칭 행렬이 아니다. 따라서 그 행렬을 위와 같이 분해할 수 없다. 이런 경우 특이값분해를 이용하면 된다. $ \\mathbf A$ 가 $ m \\times n$ 행렬일 때 $ \\mathbf A$ 의 특이값분해는 다음과 같다."
   ]
  },
  {
   "cell_type": "markdown",
   "metadata": {},
   "source": [
    "$ \\mathbf {A = U \\Sigma V^T }$\n",
    "\n",
    "$ \\mathbf {AV = U \\Sigma }$\n",
    "\n",
    "여기서 $ \\mathbf U$는 $ m \\times m $ 직교행렬,  $ \\mathbf V$는 $ n \\times n $ 직교행렬이고 $ \\Sigma$는 '특이값'들을 대각선원소로 갖는 $ m \\times n$ 행렬이다."
   ]
  },
  {
   "cell_type": "markdown",
   "metadata": {},
   "source": [
    "`대칭행렬의 특이값 분해는 고유치-고유벡터 분해와 같다. 하지만 특이값분는 행의 수와 열의 수가 다른 일반적인 행렬에 대해서도 구할 수 있기 때문에 고유치-고유벡터 분해보다 더 일반적이다.`"
   ]
  }
 ],
 "metadata": {
  "kernelspec": {
   "display_name": "Python 3",
   "language": "python",
   "name": "python3"
  },
  "language_info": {
   "codemirror_mode": {
    "name": "ipython",
    "version": 3
   },
   "file_extension": ".py",
   "mimetype": "text/x-python",
   "name": "python",
   "nbconvert_exporter": "python",
   "pygments_lexer": "ipython3",
   "version": "3.8.8"
  }
 },
 "nbformat": 4,
 "nbformat_minor": 4
}
