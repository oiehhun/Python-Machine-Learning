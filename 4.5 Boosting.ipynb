{
 "cells": [
  {
   "cell_type": "markdown",
   "metadata": {
    "id": "e-kYKaPDuXEM"
   },
   "source": [
    "# 4.5 Boosting"
   ]
  },
  {
   "cell_type": "markdown",
   "metadata": {
    "id": "RJqS3TdQuXEV"
   },
   "source": [
    "영어 사전에서 'boost'의 뜻을 찾아보자."
   ]
  },
  {
   "cell_type": "markdown",
   "metadata": {
    "id": "PapgQMR_uXEW"
   },
   "source": [
    "## 1. 아이디어\n",
    "\n",
    "여러 개의 약한 학습기들로 `순차적으로` 학습-예측하면서 `잘못 예측한 데이터에 가중치를 부여하여` 오류를 개선해 나가는 앙상블 학습법.\n",
    "\n",
    "약한 학습기 사례 : depth가 얕은 결정 tree."
   ]
  },
  {
   "cell_type": "markdown",
   "metadata": {
    "id": "2fMLy2KruXEX"
   },
   "source": [
    "* [그림](https://velog.io/@sset2323/04-05.-GBMGradient-Boosting-Machine)을 보자 (교재 223쪽 그림)."
   ]
  },
  {
   "cell_type": "markdown",
   "metadata": {
    "id": "wJVlCe1suXEY"
   },
   "source": [
    "+와 - 두 가지 범주로 된 피처 데이터를 약한 학습기로 순차적으로 분류하는 과정을 반복한다. step1부터 step5까지 각 단계에서 잘못 분류된 데이터에 가중치를 부여(step 2, 4)하는 것을 잘 보라. 가중치가 높은 데이터는 다른 데이터보다 더 비중이 큰 데이터로 취급된다. 가령 데이터 A의 가중치가 B의 두 배라면 A 데이터를 두 개로 복제해서 훈련 데이터에 포함시키는 셈이다.\n",
    "\n",
    "처음 분류에서 오류가 생긴 데이터는 간단히 분류하기 어려운 데이터라고 할 수 있다. 부스팅은 쉬운 데이터보다는 어려운 데이터에 더 집중해서 반복 분류하고 그 결과를 결합하는 방법이다. \n",
    "\n",
    "이전 단계의 분류 결과를 바탕으로 데이터에 가중치를 부여하고 다시 분류하는 방법이므로 '순차적(sequential)'방법이라고 한다."
   ]
  },
  {
   "cell_type": "markdown",
   "metadata": {
    "id": "cTcYK0BTuXEZ"
   },
   "source": [
    "## 2. AdaBoosting\n",
    "\n",
    "부스팅의 종류 : Adaptive Boost (AdaBoost), Gradient Boost (GBM),......"
   ]
  },
  {
   "cell_type": "markdown",
   "metadata": {
    "id": "fbs4TCJzuXEZ"
   },
   "source": [
    "유방암 데이터를 가지고 부스팅의 기본 방법인 AdaBoost를 연습해보자. 이 방법은 `DecisionTreeClassifier(max_depth = 1)` 모델을 이용한다."
   ]
  },
  {
   "cell_type": "code",
   "execution_count": 1,
   "metadata": {
    "id": "OhB-8uXDuXEa"
   },
   "outputs": [
    {
     "data": {
      "text/plain": [
       "sklearn.utils.Bunch"
      ]
     },
     "execution_count": 1,
     "metadata": {},
     "output_type": "execute_result"
    }
   ],
   "source": [
    "from sklearn.datasets import load_breast_cancer\n",
    "from sklearn.tree import DecisionTreeClassifier\n",
    "\n",
    "from sklearn.model_selection import train_test_split\n",
    "from sklearn.metrics import accuracy_score\n",
    "import warnings\n",
    "warnings.filterwarnings(action='ignore') \n",
    "\n",
    "import numpy as np\n",
    "np.random.seed(5)\n",
    "\n",
    "cancer = load_breast_cancer()\n",
    "type(cancer)"
   ]
  },
  {
   "cell_type": "markdown",
   "metadata": {
    "id": "RynJUFxCuXEc"
   },
   "source": [
    "먼저 `DecisionTreeClassifier(max_depth = 1)` 모델로 분류한 경우를 복습하자."
   ]
  },
  {
   "cell_type": "code",
   "execution_count": 2,
   "metadata": {
    "id": "O_0yj8n3uXEd"
   },
   "outputs": [
    {
     "data": {
      "text/plain": [
       "0.9035087719298246"
      ]
     },
     "execution_count": 2,
     "metadata": {},
     "output_type": "execute_result"
    }
   ],
   "source": [
    "X_train , X_test , y_train , y_test = \\\n",
    "train_test_split(cancer.data, cancer.target,test_size = 0.2,  random_state = 0)\n",
    "\n",
    "dt_clf = DecisionTreeClassifier(max_depth=1) \n",
    "dt_clf.fit(X_train , y_train)\n",
    "\n",
    "pred = dt_clf.predict(X_test)\n",
    "\n",
    "acc = accuracy_score(y_test, pred)\n",
    "acc"
   ]
  },
  {
   "cell_type": "markdown",
   "metadata": {
    "id": "dZ_yGxcer48p"
   },
   "source": [
    "이어서 sklean.ensemble 안에 있는 AdaBoostClassifier를 불러와서 분류해보자. "
   ]
  },
  {
   "cell_type": "markdown",
   "metadata": {
    "id": "FM2FzWkBuXEd"
   },
   "source": [
    "분류 성능은 이용하는 트리모형의 수 `n_estimator`와 `learning_rate`에 따라 달라진다.  learning_rate 값은 0과 1 사이의 값을 가질 수 있는데(기본값(디폴트)은 1) 과대적합 우려가 있을 경우 `learning_rate 값을 낮추면 모형의 복잡도를 낮출 수 있다.`"
   ]
  },
  {
   "cell_type": "markdown",
   "metadata": {
    "id": "o_7c39dasZ5w"
   },
   "source": [
    "일단 나무 수(n_estimators)는 10개로 두고 `learning_rate` 값은 기본값을 이용하자."
   ]
  },
  {
   "cell_type": "code",
   "execution_count": 3,
   "metadata": {
    "id": "XO-Veuc8uXEf"
   },
   "outputs": [
    {
     "name": "stdout",
     "output_type": "stream",
     "text": [
      "훈련 세트 정확도: 0.976\n",
      "테스트 세트 정확도: 0.965\n"
     ]
    }
   ],
   "source": [
    "from sklearn.ensemble import AdaBoostClassifier\n",
    "\n",
    "ada = AdaBoostClassifier(n_estimators = 10, random_state=0)\n",
    "ada.fit(X_train, y_train)\n",
    "\n",
    "print(\"훈련 세트 정확도: {:.3f}\".format(ada.score(X_train, y_train)))\n",
    "print(\"테스트 세트 정확도: {:.3f}\".format(ada.score(X_test, y_test)))"
   ]
  },
  {
   "cell_type": "markdown",
   "metadata": {
    "id": "N7VlDaLfuXEe"
   },
   "source": [
    "나무 수(`n_estimators`) 값을 바꾸어서 비교해보자."
   ]
  },
  {
   "cell_type": "code",
   "execution_count": 4,
   "metadata": {
    "id": "yQdxtnF3uXEf"
   },
   "outputs": [
    {
     "name": "stdout",
     "output_type": "stream",
     "text": [
      "훈련 세트 정확도: 1.000\n",
      "테스트 세트 정확도: 0.956\n"
     ]
    }
   ],
   "source": [
    "from sklearn.ensemble import AdaBoostClassifier\n",
    "\n",
    "ada = AdaBoostClassifier(n_estimators = 100, random_state=0)\n",
    "ada.fit(X_train, y_train)\n",
    "\n",
    "print(\"훈련 세트 정확도: {:.3f}\".format(ada.score(X_train, y_train)))\n",
    "print(\"테스트 세트 정확도: {:.3f}\".format(ada.score(X_test, y_test)))"
   ]
  },
  {
   "cell_type": "markdown",
   "metadata": {
    "id": "G6cUuBQQuXEg"
   },
   "source": [
    "`n_estimators`가 100일 때 단독 결정 트리 모델이나 `n_estimators`가 10일 때에 비해 훈련세트 정확도는 높아졌지만 테스트 세트 정확도는 낮아졌다. 과대적합된 것으로 볼 수 있으므로 `learning_rate` 값을 낮추어보자."
   ]
  },
  {
   "cell_type": "code",
   "execution_count": 5,
   "metadata": {
    "id": "UPhl1MqNuXEh"
   },
   "outputs": [
    {
     "name": "stdout",
     "output_type": "stream",
     "text": [
      "훈련 세트 정확도: 0.989\n",
      "테스트 세트 정확도: 0.974\n"
     ]
    }
   ],
   "source": [
    "from sklearn.ensemble import AdaBoostClassifier\n",
    "\n",
    "ada = AdaBoostClassifier(n_estimators = 100, learning_rate = 0.1, random_state=0)\n",
    "ada.fit(X_train, y_train)\n",
    "\n",
    "print(\"훈련 세트 정확도: {:.3f}\".format(ada.score(X_train, y_train)))\n",
    "print(\"테스트 세트 정확도: {:.3f}\".format(ada.score(X_test, y_test)))"
   ]
  },
  {
   "cell_type": "markdown",
   "metadata": {
    "id": "W0c5zUiJuXEh"
   },
   "source": [
    "그렇다고 해서  `learning_rate` 값을 너무 낮추면 분류 성능이 떨어져버릴 수도 있다."
   ]
  },
  {
   "cell_type": "code",
   "execution_count": 6,
   "metadata": {
    "id": "CRtQv5EKuXEi"
   },
   "outputs": [
    {
     "name": "stdout",
     "output_type": "stream",
     "text": [
      "훈련 세트 정확도: 0.947\n",
      "테스트 세트 정확도: 0.965\n"
     ]
    }
   ],
   "source": [
    "from sklearn.ensemble import AdaBoostClassifier\n",
    "\n",
    "ada = AdaBoostClassifier(n_estimators = 100, learning_rate = 0.01, random_state=0)\n",
    "ada.fit(X_train, y_train)\n",
    "\n",
    "print(\"훈련 세트 정확도: {:.3f}\".format(ada.score(X_train, y_train)))\n",
    "print(\"테스트 세트 정확도: {:.3f}\".format(ada.score(X_test, y_test)))"
   ]
  },
  {
   "cell_type": "markdown",
   "metadata": {
    "id": "oSTzeOsCuXEi"
   },
   "source": [
    "위의 경우 훈련세트 정확도가 테스트세트 정확도보다 더 낮으므로 과소적합된 경우라고 볼 수 있다.  `learning_rate` 값을 너무 줄여서 모형을 지나치게 단순하게 만들었다는 의미다."
   ]
  },
  {
   "cell_type": "markdown",
   "metadata": {
    "id": "i1T5f212uXEi"
   },
   "source": [
    "## 3. GBM (Gradient Boosting Machine)"
   ]
  },
  {
   "cell_type": "markdown",
   "metadata": {
    "id": "y2dF2-XGuXEj"
   },
   "source": [
    "두번째로 GBM 또는 Gradient Boosted Decision Trees (GBDT)이라고 불리는 부스팅을 살펴보자. 사이킷런에서 GradientBoostingClassifier를 불러 이용할 수 있는 이 방법은 `max_depth = 3`인 트리 100개를 양상블한 것으로 `learning_rate`의 기본값은 0.1이다. 모델 이름에 'gradient'라는 단어가 붙은 이유는 가중치를 업데이트할 때 `'경사하강법(gradient descent)'`이라는 방법을 이용하기 때문이다(교재 224쪽에 간단한 설명이 나와있다).  \n",
    "\n",
    "GBM은 매우 인기 높은 앙상블 분류 방법이지만 `학습 시간이 오래 걸리고` AdaBoost에 비해 `많은 hyper parameter들을 선택`해야하는 **단점**도 있다. 이 방법의 중요한 hyper parameter들에 대해서는 교재 225-6쪽의 설명을 보자."
   ]
  },
  {
   "cell_type": "markdown",
   "metadata": {
    "id": "Jc2NzhonGROL"
   },
   "source": [
    "앞에서와 마찬가지로 breast cancer data로 연습해보자."
   ]
  },
  {
   "cell_type": "code",
   "execution_count": 7,
   "metadata": {
    "id": "hzX57hlsGOWe"
   },
   "outputs": [],
   "source": [
    "from sklearn.datasets import load_breast_cancer\n",
    "from sklearn.model_selection import train_test_split\n",
    "from sklearn.metrics import accuracy_score\n",
    "import warnings\n",
    "warnings.filterwarnings(action='ignore') \n",
    "import numpy as np\n",
    "np.random.seed(5)\n",
    "\n",
    "cancer = load_breast_cancer()\n",
    "X_train , X_test , y_train , y_test = \\\n",
    "train_test_split(cancer.data, cancer.target,test_size = 0.2,  random_state = 0)"
   ]
  },
  {
   "cell_type": "markdown",
   "metadata": {
    "id": "ggI-iiL-GibV"
   },
   "source": [
    "분석 과정은 다른 방법들과 거의 같다. 단, `fit()` 함수로 GBM 모델을 만든 다음에는 예측 정확도를 구하기 위해 `predict` 단계를 거칠 필요없이 바로 `score` 함수를 이용할 수 있다."
   ]
  },
  {
   "cell_type": "code",
   "execution_count": 8,
   "metadata": {
    "id": "6EtVr9QcuXEj"
   },
   "outputs": [
    {
     "name": "stdout",
     "output_type": "stream",
     "text": [
      "훈련 세트 정확도: 1.000\n",
      "테스트 세트 정확도: 0.965\n"
     ]
    }
   ],
   "source": [
    "from sklearn.ensemble import GradientBoostingClassifier\n",
    "\n",
    "gbrt = GradientBoostingClassifier(random_state=0)\n",
    "gbrt.fit(X_train, y_train)\n",
    "\n",
    "print(\"훈련 세트 정확도: {:.3f}\".format(gbrt.score(X_train, y_train)))\n",
    "print(\"테스트 세트 정확도: {:.3f}\".format(gbrt.score(X_test, y_test)))"
   ]
  },
  {
   "cell_type": "markdown",
   "metadata": {
    "id": "pOUsBMKXuXEj"
   },
   "source": [
    "훈련 세트 정확도가 100%이므로 과대적합된 것으로 볼 수 있다. `max_depth`와 `learning_rate` 값을 낮추어보자."
   ]
  },
  {
   "cell_type": "code",
   "execution_count": 9,
   "metadata": {
    "id": "sT9SVNaSuXEk"
   },
   "outputs": [
    {
     "name": "stdout",
     "output_type": "stream",
     "text": [
      "훈련 세트 정확도: 0.991\n",
      "테스트 세트 정확도: 0.974\n"
     ]
    }
   ],
   "source": [
    "from sklearn.ensemble import GradientBoostingClassifier\n",
    "\n",
    "gbrt = GradientBoostingClassifier(max_depth = 1, random_state=0)\n",
    "gbrt.fit(X_train, y_train)\n",
    "\n",
    "print(\"훈련 세트 정확도: {:.3f}\".format(gbrt.score(X_train, y_train)))\n",
    "print(\"테스트 세트 정확도: {:.3f}\".format(gbrt.score(X_test, y_test)))"
   ]
  },
  {
   "cell_type": "code",
   "execution_count": 10,
   "metadata": {
    "id": "Ucv366cWuXEk"
   },
   "outputs": [
    {
     "name": "stdout",
     "output_type": "stream",
     "text": [
      "훈련 세트 정확도: 0.985\n",
      "테스트 세트 정확도: 0.965\n"
     ]
    }
   ],
   "source": [
    "from sklearn.ensemble import GradientBoostingClassifier\n",
    "\n",
    "gbrt = GradientBoostingClassifier(learning_rate = 0.01, random_state=0)\n",
    "gbrt.fit(X_train, y_train)\n",
    "\n",
    "print(\"훈련 세트 정확도: {:.3f}\".format(gbrt.score(X_train, y_train)))\n",
    "print(\"테스트 세트 정확도: {:.3f}\".format(gbrt.score(X_test, y_test)))"
   ]
  },
  {
   "cell_type": "markdown",
   "metadata": {
    "id": "BtP9D9H_uXEk"
   },
   "source": [
    "위의 두 결과만 본다면 `learning_rate`를 낮추는 것보다 `max_depth`를 1로 만든 것이 더 효과를 보는 것 같다."
   ]
  },
  {
   "cell_type": "markdown",
   "metadata": {
    "id": "kVW405bUuXEl"
   },
   "source": [
    "* GBM 최적 hyper parameter 찾기\n",
    "\n",
    "우리가 여러번 공부한 `GridSearchCV`를 이용해서 최적 hyper parameter를 찾을 수 있다. 하지만 학습하는 모델의 수가 늘어날수록 학습 시간이 많이 걸린다. 아래 코드는 세 가지 hyper parameter 각각에 대해 3가지 후보 값을 넣어본다. 모두 $ 3 \\times 3 \\times 3 = 27 $가지 조합을 비교하는데 `cv=2`라고 지정했으므로 각 조합에 대해 두번씩 모두 54번 모델을 학습한다."
   ]
  },
  {
   "cell_type": "code",
   "execution_count": 11,
   "metadata": {
    "id": "iRluGJ-iuXEm"
   },
   "outputs": [
    {
     "name": "stdout",
     "output_type": "stream",
     "text": [
      "Fitting 2 folds for each of 27 candidates, totalling 54 fits\n",
      "최적 하이퍼 파라미터:\n",
      " {'learning_rate': 0.1, 'max_depth': 1, 'n_estimators': 300}\n",
      "최고 예측 정확도: 0.9671\n"
     ]
    }
   ],
   "source": [
    "from sklearn.model_selection import GridSearchCV\n",
    "gb_clf = GradientBoostingClassifier(random_state=0)\n",
    "params = {\n",
    "    'n_estimators':[50, 100, 300],\n",
    "    'max_depth':[1, 2, 3],\n",
    "    'learning_rate' : [0.01, 0.05, 0.1]\n",
    "}\n",
    "grid_cv = GridSearchCV(gb_clf , param_grid=params , cv=2 ,verbose=1)\n",
    "grid_cv.fit(X_train , y_train)\n",
    "print('최적 하이퍼 파라미터:\\n', grid_cv.best_params_)\n",
    "print('최고 예측 정확도: {0:.4f}'.format(grid_cv.best_score_))"
   ]
  },
  {
   "cell_type": "markdown",
   "metadata": {
    "id": "43BJFZtCuXEm"
   },
   "source": [
    "이렇게 GridSearchCV를 이용하여 최적으로 학습된 estimator로 test data에서 예측하고 정확도를 계산해보자. "
   ]
  },
  {
   "cell_type": "code",
   "execution_count": 12,
   "metadata": {
    "id": "FTPW4KU_uXEm"
   },
   "outputs": [
    {
     "name": "stdout",
     "output_type": "stream",
     "text": [
      "GBM 정확도: 0.9825\n"
     ]
    }
   ],
   "source": [
    "gb_pred = grid_cv.best_estimator_.predict(X_test)\n",
    "gb_accuracy = accuracy_score(y_test, gb_pred)\n",
    "print('GBM 정확도: {0:.4f}'.format(gb_accuracy))"
   ]
  },
  {
   "cell_type": "markdown",
   "metadata": {
    "id": "rj2cUEkvjOtE"
   },
   "source": [
    "## 4. XGBoost \n",
    "\n",
    "(**수업시간에는 생략**)\n",
    "\n",
    "GBM의 단점은 시간이 오래 걸린다는 점이다. XGBoost 역시 tree 모델을 이용하며, 과적합을 규제하기 위한 hyper parameter, `조기 중단`을 위한 hyper parameter등이 추가되어 GBM보다 속도가 빠르면서도 뛰어난 성능을 보인다. 여기서 조기 중단이란 오류가 더 이상 개선되지 않으면 `n_estimators` 값으로 지정한 부스팅 반복 횟수에 이르기 전에 부스팅을 종료하는 기능을 뜻한다.\n",
    "\n",
    "breast cancer를 가지고 간단히 연습해보자. 만약 코랩을 이용하지 않는다면 다음과 같이 설치해서 이용해야 한다.\n",
    "\n",
    "`conda install -c anaconda py-xgboost`"
   ]
  },
  {
   "cell_type": "markdown",
   "metadata": {
    "id": "F3yVDJhRmtNV"
   },
   "source": [
    "* XGBoost 임포트, 버전 확인"
   ]
  },
  {
   "cell_type": "code",
   "execution_count": 13,
   "metadata": {
    "id": "YTJmVqammyRs"
   },
   "outputs": [
    {
     "name": "stdout",
     "output_type": "stream",
     "text": [
      "1.3.3\n"
     ]
    }
   ],
   "source": [
    "import xgboost as xgb\n",
    "print(xgb.__version__)"
   ]
  },
  {
   "cell_type": "markdown",
   "metadata": {
    "id": "LjUW138Zu5kA"
   },
   "source": [
    "* breast cancer data 가져오기, 분할하기"
   ]
  },
  {
   "cell_type": "code",
   "execution_count": 14,
   "metadata": {
    "id": "Tlad5YRKmmb-"
   },
   "outputs": [],
   "source": [
    "import pandas as pd\n",
    "import numpy as np\n",
    "\n",
    "from sklearn.datasets import load_breast_cancer\n",
    "from sklearn.model_selection import train_test_split\n",
    "import warnings\n",
    "warnings.filterwarnings('ignore')\n",
    "\n",
    "cancer = load_breast_cancer()\n",
    "X_train, X_test, y_train, y_test=train_test_split(cancer.data, cancer.target,\n",
    "                                         test_size=0.2, random_state=0 )      "
   ]
  },
  {
   "cell_type": "code",
   "execution_count": 15,
   "metadata": {
    "id": "uphgeHc-ubGV"
   },
   "outputs": [
    {
     "data": {
      "text/plain": [
       "array([212, 357], dtype=int64)"
      ]
     },
     "execution_count": 15,
     "metadata": {},
     "output_type": "execute_result"
    }
   ],
   "source": [
    "np.bincount(cancer.target)"
   ]
  },
  {
   "cell_type": "code",
   "execution_count": 16,
   "metadata": {
    "id": "_Txa15HouRyH"
   },
   "outputs": [
    {
     "name": "stdout",
     "output_type": "stream",
     "text": [
      "(455, 30) (114, 30)\n"
     ]
    }
   ],
   "source": [
    "print(X_train.shape , X_test.shape)"
   ]
  },
  {
   "cell_type": "code",
   "execution_count": 17,
   "metadata": {
    "id": "EGwe4PRyucql"
   },
   "outputs": [
    {
     "data": {
      "text/plain": [
       "array([165, 290], dtype=int64)"
      ]
     },
     "execution_count": 17,
     "metadata": {},
     "output_type": "execute_result"
    }
   ],
   "source": [
    "np.bincount(y_train)"
   ]
  },
  {
   "cell_type": "code",
   "execution_count": 18,
   "metadata": {
    "id": "QgJdHr8-uuoW"
   },
   "outputs": [
    {
     "data": {
      "text/plain": [
       "array([47, 67], dtype=int64)"
      ]
     },
     "execution_count": 18,
     "metadata": {},
     "output_type": "execute_result"
    }
   ],
   "source": [
    "np.bincount(y_test)"
   ]
  },
  {
   "cell_type": "markdown",
   "metadata": {
    "id": "JY0CSakRoVr1"
   },
   "source": [
    "* 분류"
   ]
  },
  {
   "cell_type": "code",
   "execution_count": 19,
   "metadata": {
    "id": "tTNw1YJ7oUao"
   },
   "outputs": [],
   "source": [
    "from xgboost import plot_importance, plot_tree, to_graphviz\n",
    "from xgboost import XGBClassifier"
   ]
  },
  {
   "cell_type": "code",
   "execution_count": 20,
   "metadata": {
    "id": "R5RdHVOEmmnE"
   },
   "outputs": [
    {
     "name": "stdout",
     "output_type": "stream",
     "text": [
      "[15:32:09] WARNING: ..\\src\\learner.cc:1061: Starting in XGBoost 1.3.0, the default evaluation metric used with the objective 'binary:logistic' was changed from 'error' to 'logloss'. Explicitly set eval_metric if you'd like to restore the old behavior.\n"
     ]
    }
   ],
   "source": [
    "xgb_clf = XGBClassifier(n_estimators=400, learning_rate=0.1, max_depth=3)\n",
    "xgb_clf.fit(X_train, y_train)\n",
    "preds = xgb_clf.predict(X_test)\n",
    "pred_proba = xgb_clf.predict_proba(X_test)[:, 1]"
   ]
  },
  {
   "cell_type": "markdown",
   "metadata": {
    "id": "mBSQ0PEevr44"
   },
   "source": [
    "* 성능 평가"
   ]
  },
  {
   "cell_type": "code",
   "execution_count": 21,
   "metadata": {
    "id": "EOexuo3VtqJx"
   },
   "outputs": [],
   "source": [
    "from sklearn.metrics import confusion_matrix, accuracy_score\n",
    "from sklearn.metrics import precision_score, recall_score\n",
    "from sklearn.metrics import f1_score, roc_auc_score"
   ]
  },
  {
   "cell_type": "code",
   "execution_count": 22,
   "metadata": {
    "id": "uGJJyubxspKy"
   },
   "outputs": [],
   "source": [
    "def get_clf_eval(y_test, pred=None, pred_proba=None):\n",
    "    confusion = confusion_matrix( y_test, pred)\n",
    "    accuracy = accuracy_score(y_test , pred)\n",
    "    precision = precision_score(y_test , pred)\n",
    "    recall = recall_score(y_test , pred)\n",
    "    f1 = f1_score(y_test,pred)\n",
    "    # ROC-AUC 추가 \n",
    "    roc_auc = roc_auc_score(y_test, pred_proba)\n",
    "    print('오차 행렬')\n",
    "    print(confusion)\n",
    "    # ROC-AUC print 추가\n",
    "    print('정확도: {0:.4f}, 정밀도: {1:.4f}, 재현율: {2:.4f},\\\n",
    "    F1: {3:.4f}, AUC:{4:.4f}'.format(accuracy, precision, recall, f1, roc_auc))"
   ]
  },
  {
   "cell_type": "code",
   "execution_count": 23,
   "metadata": {
    "id": "ysNWiliisv4s"
   },
   "outputs": [
    {
     "name": "stdout",
     "output_type": "stream",
     "text": [
      "오차 행렬\n",
      "[[46  1]\n",
      " [ 0 67]]\n",
      "정확도: 0.9912, 정밀도: 0.9853, 재현율: 1.0000,    F1: 0.9926, AUC:0.9990\n"
     ]
    }
   ],
   "source": [
    "get_clf_eval(y_test , preds, pred_proba)"
   ]
  },
  {
   "cell_type": "markdown",
   "metadata": {
    "id": "iCUWa-cPvfGw"
   },
   "source": [
    "* 시각화"
   ]
  },
  {
   "cell_type": "code",
   "execution_count": 24,
   "metadata": {
    "id": "_sueSh1-tcMT"
   },
   "outputs": [
    {
     "data": {
      "text/plain": [
       "<AxesSubplot:title={'center':'Feature importance'}, xlabel='F score', ylabel='Features'>"
      ]
     },
     "execution_count": 24,
     "metadata": {},
     "output_type": "execute_result"
    },
    {
     "data": {
      "image/png": "[encoded data removed]",
      "text/plain": [
       "<Figure size 432x576 with 1 Axes>"
      ]
     },
     "metadata": {
      "needs_background": "light"
     },
     "output_type": "display_data"
    }
   ],
   "source": [
    "import matplotlib.pyplot as plt\n",
    "%matplotlib inline\n",
    "\n",
    "fig, ax = plt.subplots(figsize=(6, 8))\n",
    "plot_importance(xgb_clf, ax=ax)"
   ]
  },
  {
   "cell_type": "markdown",
   "metadata": {
    "id": "BQjldFYKOhN-"
   },
   "source": [
    "아래와 같이 `num_trees = `를 지정해서 특정 나무 그림을 그려볼 수도 있는데 부스팅을 비롯한 앙상블 방법은 여러 모델을 결합하는 방법이다. 그러므로 위의 경우에는 400개에 이르는 나무 가운데 `개별 나무 그림을 그리는 것은 별다른 의미는 없다.` 분석에 도움되는 것은 아님"
   ]
  },
  {
   "cell_type": "code",
   "execution_count": 25,
   "metadata": {
    "id": "CyO1Nk2CIZQL"
   },
   "outputs": [
    {
     "data": {
      "text/plain": [
       "<AxesSubplot:>"
      ]
     },
     "execution_count": 25,
     "metadata": {},
     "output_type": "execute_result"
    },
    {
     "data": {
      "image/png": "[encoded data removed]",
      "text/plain": [
       "<Figure size 1440x1296 with 1 Axes>"
      ]
     },
     "metadata": {
      "needs_background": "light"
     },
     "output_type": "display_data"
    }
   ],
   "source": [
    "fig, ax = plt.subplots(figsize=(20, 18))\n",
    "plot_tree(xgb_clf, ax=ax, num_trees = 10)"
   ]
  },
  {
   "cell_type": "code",
   "execution_count": 26,
   "metadata": {
    "id": "BQ63Dw9e-rAP"
   },
   "outputs": [
    {
     "data": {
      "image/svg+xml": [
       "<?xml version=\"1.0\" encoding=\"UTF-8\" standalone=\"no\"?>\r\n",
       "<!DOCTYPE svg PUBLIC \"-//W3C//DTD SVG 1.1//EN\"\r\n",
       " \"http://www.w3.org/Graphics/SVG/1.1/DTD/svg11.dtd\">\r\n",
       "<!-- Generated by graphviz version 2.38.0 (20140413.2041)\r\n",
       " -->\r\n",
       "<!-- Title: %3 Pages: 1 -->\r\n",
       "<svg width=\"1292pt\" height=\"305pt\"\r\n",
       " viewBox=\"0.00 0.00 1292.39 305.00\" xmlns=\"http://www.w3.org/2000/svg\" xmlns:xlink=\"http://www.w3.org/1999/xlink\">\r\n",
       "<g id=\"graph0\" class=\"graph\" transform=\"scale(1 1) rotate(0) translate(4 301)\">\r\n",
       "<title>%3</title>\r\n",
       "<polygon fill=\"white\" stroke=\"none\" points=\"-4,4 -4,-301 1288.39,-301 1288.39,4 -4,4\"/>\r\n",
       "<!-- 0 -->\r\n",
       "<g id=\"node1\" class=\"node\"><title>0</title>\r\n",
       "<ellipse fill=\"none\" stroke=\"black\" cx=\"634.393\" cy=\"-279\" rx=\"74.187\" ry=\"18\"/>\r\n",
       "<text text-anchor=\"middle\" x=\"634.393\" y=\"-275.3\" font-family=\"Times New Roman,serif\" font-size=\"14.00\">f27&lt;0.142349988</text>\r\n",
       "</g>\r\n",
       "<!-- 1 -->\r\n",
       "<g id=\"node2\" class=\"node\"><title>1</title>\r\n",
       "<ellipse fill=\"none\" stroke=\"black\" cx=\"449.393\" cy=\"-192\" rx=\"69.5877\" ry=\"18\"/>\r\n",
       "<text text-anchor=\"middle\" x=\"449.393\" y=\"-188.3\" font-family=\"Times New Roman,serif\" font-size=\"14.00\">f23&lt;957.450012</text>\r\n",
       "</g>\r\n",
       "<!-- 0&#45;&gt;1 -->\r\n",
       "<g id=\"edge1\" class=\"edge\"><title>0&#45;&gt;1</title>\r\n",
       "<path fill=\"none\" stroke=\"#0000ff\" d=\"M601.319,-262.804C570.576,-248.679 524.646,-227.576 491.339,-212.272\"/>\r\n",
       "<polygon fill=\"#0000ff\" stroke=\"#0000ff\" points=\"492.419,-208.917 481.871,-207.922 489.496,-215.278 492.419,-208.917\"/>\r\n",
       "<text text-anchor=\"middle\" x=\"587.893\" y=\"-231.8\" font-family=\"Times New Roman,serif\" font-size=\"14.00\">yes, missing</text>\r\n",
       "</g>\r\n",
       "<!-- 2 -->\r\n",
       "<g id=\"node3\" class=\"node\"><title>2</title>\r\n",
       "<ellipse fill=\"none\" stroke=\"black\" cx=\"764.393\" cy=\"-192\" rx=\"69.5877\" ry=\"18\"/>\r\n",
       "<text text-anchor=\"middle\" x=\"764.393\" y=\"-188.3\" font-family=\"Times New Roman,serif\" font-size=\"14.00\">f23&lt;729.549988</text>\r\n",
       "</g>\r\n",
       "<!-- 0&#45;&gt;2 -->\r\n",
       "<g id=\"edge2\" class=\"edge\"><title>0&#45;&gt;2</title>\r\n",
       "<path fill=\"none\" stroke=\"#ff0000\" d=\"M659.151,-261.812C679.572,-248.46 708.73,-229.395 731.179,-214.717\"/>\r\n",
       "<polygon fill=\"#ff0000\" stroke=\"#ff0000\" points=\"733.273,-217.53 739.727,-209.128 729.442,-211.671 733.273,-217.53\"/>\r\n",
       "<text text-anchor=\"middle\" x=\"714.893\" y=\"-231.8\" font-family=\"Times New Roman,serif\" font-size=\"14.00\">no</text>\r\n",
       "</g>\r\n",
       "<!-- 3 -->\r\n",
       "<g id=\"node4\" class=\"node\"><title>3</title>\r\n",
       "<ellipse fill=\"none\" stroke=\"black\" cx=\"248.393\" cy=\"-105\" rx=\"51.9908\" ry=\"18\"/>\r\n",
       "<text text-anchor=\"middle\" x=\"248.393\" y=\"-101.3\" font-family=\"Times New Roman,serif\" font-size=\"14.00\">f22&lt;107.75</text>\r\n",
       "</g>\r\n",
       "<!-- 1&#45;&gt;3 -->\r\n",
       "<g id=\"edge3\" class=\"edge\"><title>1&#45;&gt;3</title>\r\n",
       "<path fill=\"none\" stroke=\"#0000ff\" d=\"M414.382,-176.194C379.587,-161.48 326.241,-138.921 289.465,-123.369\"/>\r\n",
       "<polygon fill=\"#0000ff\" stroke=\"#0000ff\" points=\"290.601,-120.049 280.028,-119.378 287.875,-126.496 290.601,-120.049\"/>\r\n",
       "<text text-anchor=\"middle\" x=\"395.893\" y=\"-144.8\" font-family=\"Times New Roman,serif\" font-size=\"14.00\">yes, missing</text>\r\n",
       "</g>\r\n",
       "<!-- 4 -->\r\n",
       "<g id=\"node5\" class=\"node\"><title>4</title>\r\n",
       "<ellipse fill=\"none\" stroke=\"black\" cx=\"449.393\" cy=\"-105\" rx=\"65.7887\" ry=\"18\"/>\r\n",
       "<text text-anchor=\"middle\" x=\"449.393\" y=\"-101.3\" font-family=\"Times New Roman,serif\" font-size=\"14.00\">f1&lt;18.8850002</text>\r\n",
       "</g>\r\n",
       "<!-- 1&#45;&gt;4 -->\r\n",
       "<g id=\"edge4\" class=\"edge\"><title>1&#45;&gt;4</title>\r\n",
       "<path fill=\"none\" stroke=\"#ff0000\" d=\"M449.393,-173.799C449.393,-162.163 449.393,-146.548 449.393,-133.237\"/>\r\n",
       "<polygon fill=\"#ff0000\" stroke=\"#ff0000\" points=\"452.893,-133.175 449.393,-123.175 445.893,-133.175 452.893,-133.175\"/>\r\n",
       "<text text-anchor=\"middle\" x=\"456.893\" y=\"-144.8\" font-family=\"Times New Roman,serif\" font-size=\"14.00\">no</text>\r\n",
       "</g>\r\n",
       "<!-- 5 -->\r\n",
       "<g id=\"node10\" class=\"node\"><title>5</title>\r\n",
       "<ellipse fill=\"none\" stroke=\"black\" cx=\"764.393\" cy=\"-105\" rx=\"48.1917\" ry=\"18\"/>\r\n",
       "<text text-anchor=\"middle\" x=\"764.393\" y=\"-101.3\" font-family=\"Times New Roman,serif\" font-size=\"14.00\">f4&lt;0.1083</text>\r\n",
       "</g>\r\n",
       "<!-- 2&#45;&gt;5 -->\r\n",
       "<g id=\"edge9\" class=\"edge\"><title>2&#45;&gt;5</title>\r\n",
       "<path fill=\"none\" stroke=\"#0000ff\" d=\"M764.393,-173.799C764.393,-162.163 764.393,-146.548 764.393,-133.237\"/>\r\n",
       "<polygon fill=\"#0000ff\" stroke=\"#0000ff\" points=\"767.893,-133.175 764.393,-123.175 760.893,-133.175 767.893,-133.175\"/>\r\n",
       "<text text-anchor=\"middle\" x=\"798.893\" y=\"-144.8\" font-family=\"Times New Roman,serif\" font-size=\"14.00\">yes, missing</text>\r\n",
       "</g>\r\n",
       "<!-- 6 -->\r\n",
       "<g id=\"node11\" class=\"node\"><title>6</title>\r\n",
       "<ellipse fill=\"none\" stroke=\"black\" cx=\"1027.39\" cy=\"-105\" rx=\"65.7887\" ry=\"18\"/>\r\n",
       "<text text-anchor=\"middle\" x=\"1027.39\" y=\"-101.3\" font-family=\"Times New Roman,serif\" font-size=\"14.00\">f1&lt;15.3700008</text>\r\n",
       "</g>\r\n",
       "<!-- 2&#45;&gt;6 -->\r\n",
       "<g id=\"edge10\" class=\"edge\"><title>2&#45;&gt;6</title>\r\n",
       "<path fill=\"none\" stroke=\"#ff0000\" d=\"M806.066,-177.531C852.37,-162.566 927.138,-138.402 976.772,-122.36\"/>\r\n",
       "<polygon fill=\"#ff0000\" stroke=\"#ff0000\" points=\"977.909,-125.671 986.348,-119.266 975.756,-119.011 977.909,-125.671\"/>\r\n",
       "<text text-anchor=\"middle\" x=\"919.893\" y=\"-144.8\" font-family=\"Times New Roman,serif\" font-size=\"14.00\">no</text>\r\n",
       "</g>\r\n",
       "<!-- 7 -->\r\n",
       "<g id=\"node6\" class=\"node\"><title>7</title>\r\n",
       "<ellipse fill=\"none\" stroke=\"black\" cx=\"75.3933\" cy=\"-18\" rx=\"75.2868\" ry=\"18\"/>\r\n",
       "<text text-anchor=\"middle\" x=\"75.3933\" y=\"-14.3\" font-family=\"Times New Roman,serif\" font-size=\"14.00\">leaf=0.189743593</text>\r\n",
       "</g>\r\n",
       "<!-- 3&#45;&gt;7 -->\r\n",
       "<g id=\"edge5\" class=\"edge\"><title>3&#45;&gt;7</title>\r\n",
       "<path fill=\"none\" stroke=\"#0000ff\" d=\"M218.859,-89.9762C205.552,-83.6227 189.657,-75.9848 175.393,-69 155.65,-59.3319 133.803,-48.4319 115.578,-39.2823\"/>\r\n",
       "<polygon fill=\"#0000ff\" stroke=\"#0000ff\" points=\"116.915,-36.0371 106.408,-34.6731 113.771,-42.2914 116.915,-36.0371\"/>\r\n",
       "<text text-anchor=\"middle\" x=\"209.893\" y=\"-57.8\" font-family=\"Times New Roman,serif\" font-size=\"14.00\">yes, missing</text>\r\n",
       "</g>\r\n",
       "<!-- 8 -->\r\n",
       "<g id=\"node7\" class=\"node\"><title>8</title>\r\n",
       "<ellipse fill=\"none\" stroke=\"black\" cx=\"248.393\" cy=\"-18\" rx=\"79.0865\" ry=\"18\"/>\r\n",
       "<text text-anchor=\"middle\" x=\"248.393\" y=\"-14.3\" font-family=\"Times New Roman,serif\" font-size=\"14.00\">leaf=0.0608695634</text>\r\n",
       "</g>\r\n",
       "<!-- 3&#45;&gt;8 -->\r\n",
       "<g id=\"edge6\" class=\"edge\"><title>3&#45;&gt;8</title>\r\n",
       "<path fill=\"none\" stroke=\"#ff0000\" d=\"M248.393,-86.799C248.393,-75.1626 248.393,-59.5479 248.393,-46.2368\"/>\r\n",
       "<polygon fill=\"#ff0000\" stroke=\"#ff0000\" points=\"251.893,-46.1754 248.393,-36.1754 244.893,-46.1755 251.893,-46.1754\"/>\r\n",
       "<text text-anchor=\"middle\" x=\"255.893\" y=\"-57.8\" font-family=\"Times New Roman,serif\" font-size=\"14.00\">no</text>\r\n",
       "</g>\r\n",
       "<!-- 9 -->\r\n",
       "<g id=\"node8\" class=\"node\"><title>9</title>\r\n",
       "<ellipse fill=\"none\" stroke=\"black\" cx=\"382.393\" cy=\"-18\" rx=\"36.2938\" ry=\"18\"/>\r\n",
       "<text text-anchor=\"middle\" x=\"382.393\" y=\"-14.3\" font-family=\"Times New Roman,serif\" font-size=\"14.00\">leaf=&#45;0</text>\r\n",
       "</g>\r\n",
       "<!-- 4&#45;&gt;9 -->\r\n",
       "<g id=\"edge7\" class=\"edge\"><title>4&#45;&gt;9</title>\r\n",
       "<path fill=\"none\" stroke=\"#0000ff\" d=\"M425.179,-88.0123C418.175,-82.5744 410.934,-76.0666 405.393,-69 399.86,-61.9439 395.293,-53.342 391.727,-45.2759\"/>\r\n",
       "<polygon fill=\"#0000ff\" stroke=\"#0000ff\" points=\"394.896,-43.7782 387.877,-35.8427 388.416,-46.4238 394.896,-43.7782\"/>\r\n",
       "<text text-anchor=\"middle\" x=\"439.893\" y=\"-57.8\" font-family=\"Times New Roman,serif\" font-size=\"14.00\">yes, missing</text>\r\n",
       "</g>\r\n",
       "<!-- 10 -->\r\n",
       "<g id=\"node9\" class=\"node\"><title>10</title>\r\n",
       "<ellipse fill=\"none\" stroke=\"black\" cx=\"514.393\" cy=\"-18\" rx=\"77.9862\" ry=\"18\"/>\r\n",
       "<text text-anchor=\"middle\" x=\"514.393\" y=\"-14.3\" font-family=\"Times New Roman,serif\" font-size=\"14.00\">leaf=&#45;0.146666676</text>\r\n",
       "</g>\r\n",
       "<!-- 4&#45;&gt;10 -->\r\n",
       "<g id=\"edge8\" class=\"edge\"><title>4&#45;&gt;10</title>\r\n",
       "<path fill=\"none\" stroke=\"#ff0000\" d=\"M462.235,-87.2067C471.672,-74.8663 484.651,-57.8941 495.301,-43.9675\"/>\r\n",
       "<polygon fill=\"#ff0000\" stroke=\"#ff0000\" points=\"498.284,-45.8281 501.578,-35.7584 492.723,-41.5759 498.284,-45.8281\"/>\r\n",
       "<text text-anchor=\"middle\" x=\"493.893\" y=\"-57.8\" font-family=\"Times New Roman,serif\" font-size=\"14.00\">no</text>\r\n",
       "</g>\r\n",
       "<!-- 11 -->\r\n",
       "<g id=\"node12\" class=\"node\"><title>11</title>\r\n",
       "<ellipse fill=\"none\" stroke=\"black\" cx=\"681.393\" cy=\"-18\" rx=\"70.6878\" ry=\"18\"/>\r\n",
       "<text text-anchor=\"middle\" x=\"681.393\" y=\"-14.3\" font-family=\"Times New Roman,serif\" font-size=\"14.00\">leaf=0.13333334</text>\r\n",
       "</g>\r\n",
       "<!-- 5&#45;&gt;11 -->\r\n",
       "<g id=\"edge11\" class=\"edge\"><title>5&#45;&gt;11</title>\r\n",
       "<path fill=\"none\" stroke=\"#0000ff\" d=\"M748.39,-87.6111C736.069,-74.9928 718.851,-57.3607 704.956,-43.1307\"/>\r\n",
       "<polygon fill=\"#0000ff\" stroke=\"#0000ff\" points=\"707.121,-40.3381 697.631,-35.6286 702.113,-45.2286 707.121,-40.3381\"/>\r\n",
       "<text text-anchor=\"middle\" x=\"762.893\" y=\"-57.8\" font-family=\"Times New Roman,serif\" font-size=\"14.00\">yes, missing</text>\r\n",
       "</g>\r\n",
       "<!-- 12 -->\r\n",
       "<g id=\"node13\" class=\"node\"><title>12</title>\r\n",
       "<ellipse fill=\"none\" stroke=\"black\" cx=\"848.393\" cy=\"-18\" rx=\"77.9862\" ry=\"18\"/>\r\n",
       "<text text-anchor=\"middle\" x=\"848.393\" y=\"-14.3\" font-family=\"Times New Roman,serif\" font-size=\"14.00\">leaf=&#45;0.120000005</text>\r\n",
       "</g>\r\n",
       "<!-- 5&#45;&gt;12 -->\r\n",
       "<g id=\"edge12\" class=\"edge\"><title>5&#45;&gt;12</title>\r\n",
       "<path fill=\"none\" stroke=\"#ff0000\" d=\"M781.54,-88.1758C787.859,-82.2413 795.026,-75.3875 801.393,-69 809.552,-60.8157 818.276,-51.6551 825.965,-43.433\"/>\r\n",
       "<polygon fill=\"#ff0000\" stroke=\"#ff0000\" points=\"828.722,-45.6072 832.968,-35.9001 823.596,-40.841 828.722,-45.6072\"/>\r\n",
       "<text text-anchor=\"middle\" x=\"823.893\" y=\"-57.8\" font-family=\"Times New Roman,serif\" font-size=\"14.00\">no</text>\r\n",
       "</g>\r\n",
       "<!-- 13 -->\r\n",
       "<g id=\"node14\" class=\"node\"><title>13</title>\r\n",
       "<ellipse fill=\"none\" stroke=\"black\" cx=\"1027.39\" cy=\"-18\" rx=\"82.5854\" ry=\"18\"/>\r\n",
       "<text text-anchor=\"middle\" x=\"1027.39\" y=\"-14.3\" font-family=\"Times New Roman,serif\" font-size=\"14.00\">leaf=&#45;0.0400000028</text>\r\n",
       "</g>\r\n",
       "<!-- 6&#45;&gt;13 -->\r\n",
       "<g id=\"edge13\" class=\"edge\"><title>6&#45;&gt;13</title>\r\n",
       "<path fill=\"none\" stroke=\"#0000ff\" d=\"M1027.39,-86.799C1027.39,-75.1626 1027.39,-59.5479 1027.39,-46.2368\"/>\r\n",
       "<polygon fill=\"#0000ff\" stroke=\"#0000ff\" points=\"1030.89,-46.1754 1027.39,-36.1754 1023.89,-46.1755 1030.89,-46.1754\"/>\r\n",
       "<text text-anchor=\"middle\" x=\"1061.89\" y=\"-57.8\" font-family=\"Times New Roman,serif\" font-size=\"14.00\">yes, missing</text>\r\n",
       "</g>\r\n",
       "<!-- 14 -->\r\n",
       "<g id=\"node15\" class=\"node\"><title>14</title>\r\n",
       "<ellipse fill=\"none\" stroke=\"black\" cx=\"1206.39\" cy=\"-18\" rx=\"77.9862\" ry=\"18\"/>\r\n",
       "<text text-anchor=\"middle\" x=\"1206.39\" y=\"-14.3\" font-family=\"Times New Roman,serif\" font-size=\"14.00\">leaf=&#45;0.191176474</text>\r\n",
       "</g>\r\n",
       "<!-- 6&#45;&gt;14 -->\r\n",
       "<g id=\"edge14\" class=\"edge\"><title>6&#45;&gt;14</title>\r\n",
       "<path fill=\"none\" stroke=\"#ff0000\" d=\"M1058.98,-88.9994C1088.4,-75.0317 1132.44,-54.1193 1164.72,-38.7891\"/>\r\n",
       "<polygon fill=\"#ff0000\" stroke=\"#ff0000\" points=\"1166.38,-41.8757 1173.91,-34.4244 1163.38,-35.5524 1166.38,-41.8757\"/>\r\n",
       "<text text-anchor=\"middle\" x=\"1135.89\" y=\"-57.8\" font-family=\"Times New Roman,serif\" font-size=\"14.00\">no</text>\r\n",
       "</g>\r\n",
       "</g>\r\n",
       "</svg>\r\n"
      ],
      "text/plain": [
       "<graphviz.files.Source at 0x1ae0c3cd040>"
      ]
     },
     "execution_count": 26,
     "metadata": {},
     "output_type": "execute_result"
    }
   ],
   "source": [
    "to_graphviz(xgb_clf, num_trees= 0)"
   ]
  }
 ],
 "metadata": {
  "colab": {
   "collapsed_sections": [],
   "name": "Boosting_0512.ipynb",
   "provenance": []
  },
  "kernelspec": {
   "display_name": "Python 3",
   "language": "python",
   "name": "python3"
  },
  "language_info": {
   "codemirror_mode": {
    "name": "ipython",
    "version": 3
   },
   "file_extension": ".py",
   "mimetype": "text/x-python",
   "name": "python",
   "nbconvert_exporter": "python",
   "pygments_lexer": "ipython3",
   "version": "3.8.8"
  }
 },
 "nbformat": 4,
 "nbformat_minor": 1
}
