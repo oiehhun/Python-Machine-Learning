{
 "cells": [
  {
   "cell_type": "code",
   "execution_count": 1,
   "id": "fdd5420f",
   "metadata": {},
   "outputs": [],
   "source": [
    "from sklearn.datasets import load_iris\n",
    "import pandas as pd\n",
    "import numpy as np\n",
    "from numpy.linalg import inv, det, eig, svd"
   ]
  },
  {
   "cell_type": "code",
   "execution_count": 2,
   "id": "7b5e990e",
   "metadata": {},
   "outputs": [],
   "source": [
    "a = np.array([[8, 3],[2, 7]])"
   ]
  },
  {
   "cell_type": "markdown",
   "id": "7db16ac6",
   "metadata": {},
   "source": [
    "* a의 고유값, 고유벡터 계산"
   ]
  },
  {
   "cell_type": "code",
   "execution_count": 3,
   "id": "ebfa0bb5",
   "metadata": {},
   "outputs": [
    {
     "data": {
      "text/plain": [
       "(array([10.,  5.]),\n",
       " array([[ 0.83205029, -0.70710678],\n",
       "        [ 0.5547002 ,  0.70710678]]))"
      ]
     },
     "execution_count": 3,
     "metadata": {},
     "output_type": "execute_result"
    }
   ],
   "source": [
    "ea = eig(a)\n",
    "ea"
   ]
  },
  {
   "cell_type": "markdown",
   "id": "77c5bd4f",
   "metadata": {},
   "source": [
    "* 고유벡터들로 이루어진 행렬"
   ]
  },
  {
   "cell_type": "code",
   "execution_count": 4,
   "id": "0760d88f",
   "metadata": {},
   "outputs": [
    {
     "data": {
      "text/plain": [
       "array([[ 0.83205029,  0.5547002 ],\n",
       "       [-0.70710678,  0.70710678]])"
      ]
     },
     "execution_count": 4,
     "metadata": {},
     "output_type": "execute_result"
    }
   ],
   "source": [
    "v = ea[1].T\n",
    "v"
   ]
  },
  {
   "cell_type": "markdown",
   "id": "15a0388b",
   "metadata": {},
   "source": [
    "* $ A v_1 = \\lambda_1 v_1 $ 확인"
   ]
  },
  {
   "cell_type": "code",
   "execution_count": 5,
   "id": "69d62f65",
   "metadata": {},
   "outputs": [
    {
     "data": {
      "text/plain": [
       "array([8.32050294, 5.54700196])"
      ]
     },
     "execution_count": 5,
     "metadata": {},
     "output_type": "execute_result"
    }
   ],
   "source": [
    "a.dot(v[0])"
   ]
  },
  {
   "cell_type": "code",
   "execution_count": 6,
   "id": "34f50681",
   "metadata": {},
   "outputs": [
    {
     "data": {
      "text/plain": [
       "array([8.32050294, 5.54700196])"
      ]
     },
     "execution_count": 6,
     "metadata": {},
     "output_type": "execute_result"
    }
   ],
   "source": [
    "ea[0][0] * v[0]"
   ]
  },
  {
   "cell_type": "markdown",
   "id": "434b0d1e",
   "metadata": {},
   "source": [
    "* $ A^T A $의 고유값, 고유벡터 계산"
   ]
  },
  {
   "cell_type": "code",
   "execution_count": 7,
   "id": "8a9bbb66",
   "metadata": {},
   "outputs": [],
   "source": [
    "b = a.T.dot(a)\n",
    "\n",
    "c = a.dot(a.T)"
   ]
  },
  {
   "cell_type": "code",
   "execution_count": 39,
   "id": "8eb2b24e",
   "metadata": {},
   "outputs": [
    {
     "data": {
      "text/plain": [
       "array([[68, 38],\n",
       "       [38, 58]])"
      ]
     },
     "execution_count": 39,
     "metadata": {},
     "output_type": "execute_result"
    }
   ],
   "source": [
    "b"
   ]
  },
  {
   "cell_type": "code",
   "execution_count": 40,
   "id": "d830c008",
   "metadata": {},
   "outputs": [
    {
     "data": {
      "text/plain": [
       "array([[73, 37],\n",
       "       [37, 53]])"
      ]
     },
     "execution_count": 40,
     "metadata": {},
     "output_type": "execute_result"
    }
   ],
   "source": [
    "c"
   ]
  },
  {
   "cell_type": "code",
   "execution_count": 8,
   "id": "76fb040f",
   "metadata": {},
   "outputs": [
    {
     "data": {
      "text/plain": [
       "(array([101.32753579,  24.67246421]),\n",
       " array([[ 0.75181597, -0.65937299],\n",
       "        [ 0.65937299,  0.75181597]]))"
      ]
     },
     "execution_count": 8,
     "metadata": {},
     "output_type": "execute_result"
    }
   ],
   "source": [
    "eig(b)  #A.T*A"
   ]
  },
  {
   "cell_type": "code",
   "execution_count": 9,
   "id": "4e1b76bc",
   "metadata": {},
   "outputs": [
    {
     "data": {
      "text/plain": [
       "(array([101.32753579,  24.67246421]),\n",
       " array([[ 0.79401166, -0.60790253],\n",
       "        [ 0.60790253,  0.79401166]]))"
      ]
     },
     "execution_count": 9,
     "metadata": {},
     "output_type": "execute_result"
    }
   ],
   "source": [
    "eig(c)  #A*A.T"
   ]
  },
  {
   "cell_type": "markdown",
   "id": "d6674e83",
   "metadata": {},
   "source": [
    "* $A$의 svd 계산"
   ]
  },
  {
   "cell_type": "code",
   "execution_count": 10,
   "id": "ace65b6b",
   "metadata": {},
   "outputs": [],
   "source": [
    "svda = svd(a)\n",
    "mu, s, mvt = svda"
   ]
  },
  {
   "cell_type": "code",
   "execution_count": 11,
   "id": "8b71d8ec",
   "metadata": {},
   "outputs": [
    {
     "name": "stdout",
     "output_type": "stream",
     "text": [
      "[[-0.79401166 -0.60790253]\n",
      " [-0.60790253  0.79401166]]\n",
      "\n",
      "[10.06615795  4.96713843]\n",
      "\n",
      "[[-0.75181597 -0.65937299]\n",
      " [-0.65937299  0.75181597]]\n"
     ]
    }
   ],
   "source": [
    "print(mu) \n",
    "print()\n",
    "print(s)\n",
    "print()\n",
    "print(mvt)"
   ]
  },
  {
   "cell_type": "markdown",
   "id": "2c75f3d1",
   "metadata": {},
   "source": [
    "* $A = U \\Sigma V^T $ 확인"
   ]
  },
  {
   "cell_type": "code",
   "execution_count": 12,
   "id": "d0209b28",
   "metadata": {},
   "outputs": [
    {
     "data": {
      "text/plain": [
       "array([[8., 3.],\n",
       "       [2., 7.]])"
      ]
     },
     "execution_count": 12,
     "metadata": {},
     "output_type": "execute_result"
    }
   ],
   "source": [
    "mu.dot(np.diag(s)).dot(mvt)"
   ]
  },
  {
   "cell_type": "markdown",
   "id": "72e32bc8",
   "metadata": {},
   "source": [
    "* iris data 주성분분석과 svd"
   ]
  },
  {
   "cell_type": "code",
   "execution_count": 13,
   "id": "e6528d91",
   "metadata": {},
   "outputs": [],
   "source": [
    "iris = load_iris()\n",
    "\n",
    "columns = ['sepal_length','sepal_width','petal_length','petal_width']\n",
    "irisDF = pd.DataFrame(iris.data , columns=columns)\n",
    "irisDF['target']=iris.target"
   ]
  },
  {
   "cell_type": "code",
   "execution_count": 14,
   "id": "a08506ee",
   "metadata": {},
   "outputs": [],
   "source": [
    "from sklearn.preprocessing import StandardScaler\n",
    "iris_scaled = StandardScaler().fit_transform(irisDF.iloc[:, :-1])  #irisDF.iloc[:, :-1] : 맨 마지막 열 타겟데이터 빼고 스케일링\n",
    "# 표준화를 하는 이유 : 변수들에 해당하는 범위가 달라지면 변수들이 어느정도까지 관련성이 강한건지 알 수 없다.\n",
    "\n",
    "# PCA를 적용하기 전에 개별 속성을 함께 스케일링해야 합니다. PCA는 여러 속성의 값을 연산해야 하므로 속성의 스케일에 영향을 받는다. \n",
    "# 따라서 여러 속성을 PCA로 압축 하기 전에 각 속성값을 동일한 스케일로 변환하는 것이 필요하다."
   ]
  },
  {
   "cell_type": "code",
   "execution_count": 15,
   "id": "8762f6f6",
   "metadata": {},
   "outputs": [
    {
     "name": "stdout",
     "output_type": "stream",
     "text": [
      "(150, 2)\n"
     ]
    }
   ],
   "source": [
    "from sklearn.decomposition import PCA\n",
    "pca = PCA(n_components = 2)\n",
    "\n",
    "pca.fit(iris_scaled)\n",
    "iris_pca = pca.transform(iris_scaled)\n",
    "\n",
    "print(iris_pca.shape)"
   ]
  },
  {
   "cell_type": "code",
   "execution_count": 16,
   "id": "16abe840",
   "metadata": {},
   "outputs": [
    {
     "data": {
      "text/plain": [
       "array([[-2.26470281,  0.4800266 ],\n",
       "       [-2.08096115, -0.67413356],\n",
       "       [-2.36422905, -0.34190802],\n",
       "       [-2.29938422, -0.59739451],\n",
       "       [-2.38984217,  0.64683538]])"
      ]
     },
     "execution_count": 16,
     "metadata": {},
     "output_type": "execute_result"
    }
   ],
   "source": [
    "iris_pca[:5]"
   ]
  },
  {
   "cell_type": "code",
   "execution_count": 17,
   "id": "42343de2",
   "metadata": {
    "scrolled": true
   },
   "outputs": [
    {
     "data": {
      "text/plain": [
       "array([[ 1.00671141, -0.11835884,  0.87760447,  0.82343066],\n",
       "       [-0.11835884,  1.00671141, -0.43131554, -0.36858315],\n",
       "       [ 0.87760447, -0.43131554,  1.00671141,  0.96932762],\n",
       "       [ 0.82343066, -0.36858315,  0.96932762,  1.00671141]])"
      ]
     },
     "execution_count": 17,
     "metadata": {},
     "output_type": "execute_result"
    }
   ],
   "source": [
    "cov_m = np.cov(iris_scaled, rowvar = False)  #rowvar = False : (iris_scaled).T * ris_scaled = 4x150 * 150x4 = 4x4\n",
    "cov_m"
   ]
  },
  {
   "cell_type": "code",
   "execution_count": 18,
   "id": "6a6e596e",
   "metadata": {},
   "outputs": [
    {
     "data": {
      "text/plain": [
       "(array([2.93808505, 0.9201649 , 0.14774182, 0.02085386]),\n",
       " array([[ 0.52106591, -0.37741762, -0.71956635,  0.26128628],\n",
       "        [-0.26934744, -0.92329566,  0.24438178, -0.12350962],\n",
       "        [ 0.5804131 , -0.02449161,  0.14212637, -0.80144925],\n",
       "        [ 0.56485654, -0.06694199,  0.63427274,  0.52359713]]))"
      ]
     },
     "execution_count": 18,
     "metadata": {},
     "output_type": "execute_result"
    }
   ],
   "source": [
    "eig_iris = eig(cov_m)  \n",
    "eig_iris"
   ]
  },
  {
   "cell_type": "code",
   "execution_count": null,
   "id": "fde08811",
   "metadata": {},
   "outputs": [],
   "source": [
    "cov_m = np.cov(iris_scaled)  #디폴트 : ris_scaled * (iris_scaled).T  = 150x4 * 4x150 = 150x150\n",
    "cov_m"
   ]
  },
  {
   "cell_type": "markdown",
   "id": "c2c15234",
   "metadata": {},
   "source": [
    "사이킷런의 PCA는 특이값분해 **(p.380쪽 참고)**\n",
    "\n",
    "$$  \\mathbf A =  \\mathbf U  \\mathbf \\Sigma  \\mathbf V^T $$\n",
    "\n",
    "를 이용해서 주성분을 계산한다 (실제로 특이값분해 결과를 보려면 `np.linalg.svd()` 또는 `scipy.linalg.svd()` 이용)."
   ]
  },
  {
   "cell_type": "markdown",
   "id": "31590a72",
   "metadata": {},
   "source": [
    "`np.linalg.svd()`의 결과는 세 항목으로 된 튜플이다. 위의 결과를 `np.linalg.eig()`로 계산한 결과와 비교해보자."
   ]
  },
  {
   "cell_type": "code",
   "execution_count": 19,
   "id": "e5e8d1fa",
   "metadata": {},
   "outputs": [],
   "source": [
    "U, s, Vt = svd(cov_m)"
   ]
  },
  {
   "cell_type": "code",
   "execution_count": 20,
   "id": "73ed4416",
   "metadata": {},
   "outputs": [
    {
     "data": {
      "text/plain": [
       "array([[-0.52106591,  0.26934744, -0.5804131 , -0.56485654],\n",
       "       [-0.37741762, -0.92329566, -0.02449161, -0.06694199],\n",
       "       [ 0.71956635, -0.24438178, -0.14212637, -0.63427274],\n",
       "       [ 0.26128628, -0.12350962, -0.80144925,  0.52359713]])"
      ]
     },
     "execution_count": 20,
     "metadata": {},
     "output_type": "execute_result"
    }
   ],
   "source": [
    "Vt"
   ]
  },
  {
   "cell_type": "code",
   "execution_count": 21,
   "id": "d2d65daa",
   "metadata": {},
   "outputs": [
    {
     "data": {
      "text/plain": [
       "array([2.93808505, 0.9201649 , 0.14774182, 0.02085386])"
      ]
     },
     "execution_count": 21,
     "metadata": {},
     "output_type": "execute_result"
    }
   ],
   "source": [
    "s"
   ]
  },
  {
   "cell_type": "code",
   "execution_count": 22,
   "id": "db45a5fe",
   "metadata": {},
   "outputs": [
    {
     "data": {
      "text/plain": [
       "array([2.93808505, 0.9201649 , 0.14774182, 0.02085386])"
      ]
     },
     "execution_count": 22,
     "metadata": {},
     "output_type": "execute_result"
    }
   ],
   "source": [
    "eig_iris[0]"
   ]
  },
  {
   "cell_type": "markdown",
   "id": "67b39e03",
   "metadata": {},
   "source": [
    "처음 두 주성분은 `Vt.T`의 첫 두 컬럼이다. `np.linalg.eig()`로 계산한 결과와 비교해보면 부호만 서로 다르다. 이제 아래와 같이 `원래데이터를 투영하면 새로운 데이터를 얻게된다.`"
   ]
  },
  {
   "cell_type": "code",
   "execution_count": 23,
   "id": "274be5fe",
   "metadata": {},
   "outputs": [
    {
     "data": {
      "text/plain": [
       "array([[ 2.26470281, -0.4800266 ],\n",
       "       [ 2.08096115,  0.67413356],\n",
       "       [ 2.36422905,  0.34190802],\n",
       "       [ 2.29938422,  0.59739451],\n",
       "       [ 2.38984217, -0.64683538]])"
      ]
     },
     "execution_count": 23,
     "metadata": {},
     "output_type": "execute_result"
    }
   ],
   "source": [
    "svd_iris = iris_scaled.dot(Vt.T[:, :2])\n",
    "svd_iris[:5]"
   ]
  },
  {
   "cell_type": "markdown",
   "id": "680015c2",
   "metadata": {},
   "source": [
    "위의 결과를 `iris_pca[:5]`의 결과와 비교해보라."
   ]
  },
  {
   "cell_type": "markdown",
   "id": "cd997679",
   "metadata": {},
   "source": [
    "* 교재에서는 6.4절에서 SVD와 truncated SVD에 대해 설명하고 사이킷런의 `TruncatedSVD`클래스를 이용해서 iris data를 분석하는 과정도 설명하고 있다. "
   ]
  },
  {
   "cell_type": "markdown",
   "id": "60bf89fa",
   "metadata": {},
   "source": [
    "`cov_m`과 같은 **실수 대칭행렬의 특이값분해는 고유치-고유벡터 분해와 같다.** 하지만 특이값분해는 `행의 수와  열의 수가 다른 일반적인 행렬에 대해서도 구할 수 있기 때문에 고유치-고유벡터 분해보다 더 일반적이다.` 원래 feature 데이터 행렬 `iris_scaled`을 특이값분해해보자."
   ]
  },
  {
   "cell_type": "markdown",
   "id": "094bb4e2",
   "metadata": {},
   "source": [
    "행렬 $\\mathbf A$ 가 $ m \\times n ~~(m \\ge n)$행렬이라고 하자. 그리고 $n$개의 `열벡터가 선형독립이라고 하자.` 특이값 분해는 다음과 같다.\n",
    "\n",
    "$$  \\mathbf A \\mathbf V = \\mathbf U \\mathbf \\Sigma, ~~~~~~~~ \\mathbf A =  \\mathbf U  \\mathbf \\Sigma  \\mathbf V^T $$\n",
    "\n",
    "여기서 $\\mathbf U $는 모든 열벡터가 정직교벡터인 $ m \\times n$ 행렬이다. 즉 $ \\mathbf U^T  \\mathbf U =  \\mathbf I_n $이며 $\\mathbf U $의 열벡터들은 $\\mathbf A  \\mathbf A^T$의 고유벡터들 가운데 처음 $n$개로 이루어진다. 또한  $\\mathbf V $는 모든 열벡터가 정직교벡터인 $ n \\times n $ 행렬이다. 즉 $ \\mathbf V^T \\mathbf V =  \\mathbf I_n $이며 $\\mathbf V $의 열벡터들은 $\\mathbf A^T  \\mathbf A$의 고유벡터들이다. 또 $ \\Sigma $는 특이값 $ \\sigma_1, \\sigma_2 , \\ldots, \\sigma_n $ 들을 대각선 원소로 갖는 $ n \\times n $ 대각행렬이다. $ \\sigma_1^2, \\sigma_2^2 , \\ldots, \\sigma_n^2$들은 $\\mathbf A^T  \\mathbf A$와 $\\mathbf A  \\mathbf A^T$의 0이 아닌 고유값들이다."
   ]
  },
  {
   "cell_type": "code",
   "execution_count": 24,
   "id": "f0d5391c",
   "metadata": {},
   "outputs": [],
   "source": [
    "u, s, vh = svd(iris_scaled)"
   ]
  },
  {
   "cell_type": "code",
   "execution_count": 25,
   "id": "880071fe",
   "metadata": {},
   "outputs": [
    {
     "data": {
      "text/plain": [
       "array([[ 0.52106591, -0.26934744,  0.5804131 ,  0.56485654],\n",
       "       [-0.37741762, -0.92329566, -0.02449161, -0.06694199],\n",
       "       [ 0.71956635, -0.24438178, -0.14212637, -0.63427274],\n",
       "       [ 0.26128628, -0.12350962, -0.80144925,  0.52359713]])"
      ]
     },
     "execution_count": 25,
     "metadata": {},
     "output_type": "execute_result"
    }
   ],
   "source": [
    "vh"
   ]
  },
  {
   "cell_type": "code",
   "execution_count": 26,
   "id": "abf5be04",
   "metadata": {},
   "outputs": [
    {
     "data": {
      "text/plain": [
       "array([[-1.08239531e-01, -4.09957970e-02,  2.72186462e-02, ...,\n",
       "         5.43380310e-02,  1.96438400e-03,  2.46978090e-03],\n",
       "       [-9.94577561e-02,  5.75731483e-02,  5.00034005e-02, ...,\n",
       "         5.12936114e-03,  8.48544595e-02,  5.83496936e-03],\n",
       "       [-1.12996303e-01,  2.92000319e-02, -9.42089147e-03, ...,\n",
       "         2.75184277e-02,  1.78604309e-01,  1.49419118e-01],\n",
       "       ...,\n",
       "       [ 7.27030413e-02, -2.29793601e-02, -3.84023516e-02, ...,\n",
       "         9.89532683e-01, -1.25488246e-02, -7.17729676e-04],\n",
       "       [ 6.56112167e-02, -8.63643414e-02, -1.98939364e-01, ...,\n",
       "        -1.41206665e-02,  9.52049996e-01, -2.32048811e-02],\n",
       "       [ 4.59137323e-02,  2.07800179e-03, -1.12588405e-01, ...,\n",
       "        -8.30595907e-04, -2.19201906e-02,  9.77300244e-01]])"
      ]
     },
     "execution_count": 26,
     "metadata": {},
     "output_type": "execute_result"
    }
   ],
   "source": [
    "u"
   ]
  },
  {
   "cell_type": "code",
   "execution_count": 27,
   "id": "574b129d",
   "metadata": {},
   "outputs": [
    {
     "data": {
      "text/plain": [
       "array([20.92306556, 11.7091661 ,  4.69185798,  1.76273239])"
      ]
     },
     "execution_count": 27,
     "metadata": {},
     "output_type": "execute_result"
    }
   ],
   "source": [
    "s"
   ]
  },
  {
   "cell_type": "markdown",
   "id": "a6fb6c55",
   "metadata": {},
   "source": [
    "`np.linalg.svd()`의 결과에서 길이 $n$인 벡터 `s`에 들어있는 값들이 특이값들이다. 그리고 출력 가운데 `u`는 $\\mathbf A \\mathbf A^T$의 고유벡터들로 이루어진 행렬인데 그 가운데 처음 $n$개가 행렬 $\\mathbf A$의 왼쪽 특이벡터가 된다. 또 `vh`의 행들은 오른쪽 특이벡터로 이루어진 행렬 $\\mathbf V$다(즉 `vh`는 $\\mathbf V^T$다). 곱해서 확인해보자. $\\mathbf A = u \\Sigma vh $가 되어야한다. `iris_scaled`는 $150 \\times 4$ 행렬이고 네 개의 열이 선형독립이므로 아래와 같이 곱하면 되겠다. 150개 벡터 가운데 처음 세 개만 확인하자."
   ]
  },
  {
   "cell_type": "code",
   "execution_count": 28,
   "id": "c01f776d",
   "metadata": {},
   "outputs": [
    {
     "data": {
      "text/plain": [
       "array([[-0.90068117,  1.01900435, -1.34022653, -1.3154443 ],\n",
       "       [-1.14301691, -0.13197948, -1.34022653, -1.3154443 ],\n",
       "       [-1.38535265,  0.32841405, -1.39706395, -1.3154443 ]])"
      ]
     },
     "execution_count": 28,
     "metadata": {},
     "output_type": "execute_result"
    }
   ],
   "source": [
    "u[:,:4].dot(np.diag(s)).dot(vh)[:3]"
   ]
  },
  {
   "cell_type": "code",
   "execution_count": 29,
   "id": "44ed58ad",
   "metadata": {},
   "outputs": [
    {
     "data": {
      "text/plain": [
       "array([[-0.90068117,  1.01900435, -1.34022653, -1.3154443 ],\n",
       "       [-1.14301691, -0.13197948, -1.34022653, -1.3154443 ],\n",
       "       [-1.38535265,  0.32841405, -1.39706395, -1.3154443 ]])"
      ]
     },
     "execution_count": 29,
     "metadata": {},
     "output_type": "execute_result"
    }
   ],
   "source": [
    "iris_scaled[:3]"
   ]
  },
  {
   "cell_type": "markdown",
   "id": "193b7f04",
   "metadata": {},
   "source": [
    "서로 일치한다. 위에서 구한 `iris_scaled의 특이값`과 `공분산행렬의 고유치` 사이의 관계도 확인해보자. "
   ]
  },
  {
   "cell_type": "code",
   "execution_count": 30,
   "id": "ebd4922a",
   "metadata": {},
   "outputs": [
    {
     "data": {
      "text/plain": [
       "array([[ 1.00671141, -0.11835884,  0.87760447,  0.82343066],\n",
       "       [-0.11835884,  1.00671141, -0.43131554, -0.36858315],\n",
       "       [ 0.87760447, -0.43131554,  1.00671141,  0.96932762],\n",
       "       [ 0.82343066, -0.36858315,  0.96932762,  1.00671141]])"
      ]
     },
     "execution_count": 30,
     "metadata": {},
     "output_type": "execute_result"
    }
   ],
   "source": [
    "cov_m"
   ]
  },
  {
   "cell_type": "markdown",
   "id": "ba7f1f3b",
   "metadata": {},
   "source": [
    "이와 같은 cov(공분산행렬)은 다음과 같이 계산한 것이다."
   ]
  },
  {
   "cell_type": "code",
   "execution_count": 31,
   "id": "a641a7c4",
   "metadata": {},
   "outputs": [
    {
     "data": {
      "text/plain": [
       "array([[ 1.00671141, -0.11835884,  0.87760447,  0.82343066],\n",
       "       [-0.11835884,  1.00671141, -0.43131554, -0.36858315],\n",
       "       [ 0.87760447, -0.43131554,  1.00671141,  0.96932762],\n",
       "       [ 0.82343066, -0.36858315,  0.96932762,  1.00671141]])"
      ]
     },
     "execution_count": 31,
     "metadata": {},
     "output_type": "execute_result"
    }
   ],
   "source": [
    "iris_scaled.T.dot(iris_scaled)/149"
   ]
  },
  {
   "cell_type": "markdown",
   "id": "9a58685a",
   "metadata": {},
   "source": [
    "`A = iris_scaled`라고 할 때 $ \\mathbf A^T \\mathbf A $ / 149 = cov_m 이므로, $ \\mathbf A^T \\mathbf A $의 고유값은 아래와 같다."
   ]
  },
  {
   "cell_type": "code",
   "execution_count": 32,
   "id": "5105cb18",
   "metadata": {},
   "outputs": [
    {
     "data": {
      "text/plain": [
       "array([437.77467248, 137.10457072,  22.01353134,   3.10722546])"
      ]
     },
     "execution_count": 32,
     "metadata": {},
     "output_type": "execute_result"
    }
   ],
   "source": [
    "sm, Vtm = eig(cov_m)\n",
    "149 * sm"
   ]
  },
  {
   "cell_type": "code",
   "execution_count": 33,
   "id": "ed1bfb5b",
   "metadata": {},
   "outputs": [
    {
     "data": {
      "text/plain": [
       "array([2.93808505, 0.9201649 , 0.14774182, 0.02085386])"
      ]
     },
     "execution_count": 33,
     "metadata": {},
     "output_type": "execute_result"
    }
   ],
   "source": [
    "sm"
   ]
  },
  {
   "cell_type": "code",
   "execution_count": 34,
   "id": "14601fb9",
   "metadata": {},
   "outputs": [
    {
     "data": {
      "text/plain": [
       "array([[ 0.52106591, -0.37741762, -0.71956635,  0.26128628],\n",
       "       [-0.26934744, -0.92329566,  0.24438178, -0.12350962],\n",
       "       [ 0.5804131 , -0.02449161,  0.14212637, -0.80144925],\n",
       "       [ 0.56485654, -0.06694199,  0.63427274,  0.52359713]])"
      ]
     },
     "execution_count": 34,
     "metadata": {},
     "output_type": "execute_result"
    }
   ],
   "source": [
    "Vtm"
   ]
  },
  {
   "cell_type": "markdown",
   "id": "a634a825",
   "metadata": {},
   "source": [
    "위의 결과는 `A = iris_scaled`의 특이값을 제곱한 것과 같아야한다. 확인해보자."
   ]
  },
  {
   "cell_type": "code",
   "execution_count": 35,
   "id": "566ce5c3",
   "metadata": {},
   "outputs": [],
   "source": [
    "u, s, vh = np.linalg.svd(iris_scaled)"
   ]
  },
  {
   "cell_type": "code",
   "execution_count": 36,
   "id": "3379ab38",
   "metadata": {},
   "outputs": [
    {
     "data": {
      "text/plain": [
       "array([20.92306556, 11.7091661 ,  4.69185798,  1.76273239])"
      ]
     },
     "execution_count": 36,
     "metadata": {},
     "output_type": "execute_result"
    }
   ],
   "source": [
    "s"
   ]
  },
  {
   "cell_type": "code",
   "execution_count": 37,
   "id": "76416707",
   "metadata": {},
   "outputs": [
    {
     "data": {
      "text/plain": [
       "array([437.77467248, 137.10457072,  22.01353134,   3.10722546])"
      ]
     },
     "execution_count": 37,
     "metadata": {},
     "output_type": "execute_result"
    }
   ],
   "source": [
    "s**2"
   ]
  },
  {
   "cell_type": "markdown",
   "id": "c26e8862",
   "metadata": {},
   "source": [
    "정확히 일치한다."
   ]
  },
  {
   "cell_type": "markdown",
   "id": "f9adfef6",
   "metadata": {},
   "source": [
    "위와 같은 특이값 중 큰 값 둘은 주성분이 2인 PCA의 결과로부터 아래처럼 출력할 수 있다."
   ]
  },
  {
   "cell_type": "code",
   "execution_count": 38,
   "id": "214268d5",
   "metadata": {},
   "outputs": [
    {
     "name": "stdout",
     "output_type": "stream",
     "text": [
      "[20.92306556 11.7091661 ]\n"
     ]
    }
   ],
   "source": [
    "print(pca.singular_values_)"
   ]
  }
 ],
 "metadata": {
  "kernelspec": {
   "display_name": "Python 3",
   "language": "python",
   "name": "python3"
  },
  "language_info": {
   "codemirror_mode": {
    "name": "ipython",
    "version": 3
   },
   "file_extension": ".py",
   "mimetype": "text/x-python",
   "name": "python",
   "nbconvert_exporter": "python",
   "pygments_lexer": "ipython3",
   "version": "3.8.8"
  }
 },
 "nbformat": 4,
 "nbformat_minor": 5
}
