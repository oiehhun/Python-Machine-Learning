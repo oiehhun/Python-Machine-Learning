{
 "cells": [
  {
   "cell_type": "markdown",
   "metadata": {
    "id": "MiKsE7DblXH6"
   },
   "source": [
    "# 5장 회귀 (regression)"
   ]
  },
  {
   "cell_type": "markdown",
   "metadata": {
    "id": "U8wYB9JAlXIH"
   },
   "source": [
    "_이 수업자료는 우리 교재 내용 뿐아니라 다른 머신러닝 책들을 참고해서 만든 것이다. 특히 다음 책의 코드를 많이 활용했다._\n",
    "\n",
    "[\\<핸즈온 머신러닝\\>](https://tensorflow.blog/handson-ml2/)"
   ]
  },
  {
   "cell_type": "markdown",
   "metadata": {
    "id": "vLv2vfOdlXIJ"
   },
   "source": [
    "## 5.1 회귀 소개\n",
    "\n",
    "회귀에 대해서는 3학년 1학기 \\<회귀분석\\> 과목에서 충분히 공부하였을 테지만 그래도 교재 290-291쪽에서 독립, 종속 변수, 회귀계수, 회귀 유형 등에 대해 간단히 복습하고 시작하자. 특히 `지도학습`에 속하는 분류와 회귀의 차이점을 잘 이해하자. 또, `이름은 회귀지만 분류알고리즘에 속하는 '로지스틱회귀'도 기억해두자.`"
   ]
  },
  {
   "cell_type": "markdown",
   "metadata": {
    "id": "fRfdCrj6lXIK"
   },
   "source": [
    "**규제(regularization)**\n",
    "\n",
    "1) 318쪽으로 가서 **'편향-분산 tradeoff'** 에 대해 먼저 공부하자([그림](https://m.blog.naver.com/ckdgus1433/221594203319)). 318쪽 과녁 그림 네개를 잘 보라. 편향(bias)은 목표에서 벗어난 정도를 말하고 분산(variance)은 값의 변화 정도를 의미한다. 우리는 분산도 적고 편향도 적은 예측을 하고 싶지만 회귀를 위한 머신러닝 모델의 편향을 낮추면 분산이 커지고 분산을 낮추면 편향이 커진다. 이런 관계를 **bias-variance tradeoff** 라고 한다. \n",
    "\n",
    "319쪽 그림을 보자. 아래쪽 세 그림 가운데 가장 왼쪽 그림은 곡선 패턴을 가진 훈련 데이터에 직선 모델을 적합시키고 있다. 이 경우 데이터가 패턴에서 조금씩 벗어나도 직선은 거의 안 변하는 대신(분산이 낮다) 직선과 실제 데이터 패턴이 거리가 멀기 때문에 편향이 높다. 즉 `과소적합`(underfitting)의 경우라고 할 수 있다. 반대로 훈련데이터를 지나치게 민감하게 따라가는 오른쪽 곡선으로 모형을 만들면 편향은 낮은 대신 분산이 높아진다. 즉 훈련데이터에 대한 `과대적합`(overfitting)이 생길 수 있다.\n",
    "\n",
    "그러므로 편향-분산 tradeoff는 모형의 복잡성과 관계있다. 모형의 복잡도가 높아지면 분산이 커지고 편향이 작아지며, 반대로 복잡도가 낮아지면 분산이 줄어드는 대신 편향이 커진다."
   ]
  },
  {
   "cell_type": "markdown",
   "metadata": {
    "id": "XS1dayOylXIM"
   },
   "source": [
    "2) 회귀 모형을 만들 때에는 실제 데이터 값과 모형 값 사이의 오차를 최소로 만든다. `오차를 줄이는 데에만 신경쓸 경우 자주 문제가 되는 것이 과대적합`, 즉 모델을 너무 복잡하게 만드는 위험이다. 그와 같은 위험을 피하기 위해 이용하는 방법으로 회귀계수의 크기를 제어하는 규제(regularization)라는 것이 있다. 일반선형회귀, 릿지(ridge), 라쏘(lasso), 엘라스틱넷(elasticnet) 등이 규제 여부, 규제 종류에 따른 회귀 모델의 종류들이다.  "
   ]
  },
  {
   "cell_type": "markdown",
   "metadata": {
    "id": "BNKDX10KlXIO"
   },
   "source": [
    "**로지스틱 회귀(logstic regression)** \n",
    "\n",
    "종속변수가 범주형 변수일 때 분류를 위해 이용하는 회귀 모델."
   ]
  },
  {
   "cell_type": "markdown",
   "metadata": {
    "id": "x0fGJzyglXIP"
   },
   "source": [
    "## 5.2 단순선형회귀를 통한 회귀 이해\n",
    "\n",
    "292-294쪽 설명을 잘 읽고 잔차, 회귀계수, RSS(잔차제곱합, residual sum of square, SSE), 비용(cost, 손실)에 대해 이해하자. "
   ]
  },
  {
   "cell_type": "code",
   "execution_count": 3,
   "metadata": {
    "id": "w56_BH6xlXIQ"
   },
   "outputs": [],
   "source": [
    "import numpy as np\n",
    "np.random.seed(52)\n",
    "\n",
    "%matplotlib inline\n",
    "import matplotlib as mpl\n",
    "import matplotlib.pyplot as plt"
   ]
  },
  {
   "cell_type": "markdown",
   "metadata": {
    "id": "vEMEluY6lXIS"
   },
   "source": [
    "### 1) 정규 방정식을 사용한 선형 회귀"
   ]
  },
  {
   "cell_type": "markdown",
   "metadata": {
    "id": "qiPb0uvAlXIT"
   },
   "source": [
    "* 데이터 준비"
   ]
  },
  {
   "cell_type": "markdown",
   "metadata": {
    "id": "Tq5JbbAulXIU"
   },
   "source": [
    "`np.random` 모듈의 `rand(), randn()`을 이용해서 100개의 데이터를 만들자."
   ]
  },
  {
   "cell_type": "code",
   "execution_count": 21,
   "metadata": {
    "id": "oToP-D0ElXIV"
   },
   "outputs": [],
   "source": [
    "X = 2 * np.random.rand(100)  # 0과 1사이 난수, np.random.rand( , 1) : 2차원\n",
    "y = 4 + 3 * X + np.random.randn(100)  # 표준정규분포 난수"
   ]
  },
  {
   "cell_type": "code",
   "execution_count": 19,
   "metadata": {
    "id": "1jR_Yo5ZlXIW"
   },
   "outputs": [
    {
     "name": "stdout",
     "output_type": "stream",
     "text": [
      "(100,) 1\n"
     ]
    }
   ],
   "source": [
    "print(X.shape, X.ndim)"
   ]
  },
  {
   "cell_type": "code",
   "execution_count": 20,
   "metadata": {
    "id": "jaq3GCeslXIX"
   },
   "outputs": [
    {
     "data": {
      "text/plain": [
       "(100,)"
      ]
     },
     "execution_count": 20,
     "metadata": {},
     "output_type": "execute_result"
    }
   ],
   "source": [
    "y.shape"
   ]
  },
  {
   "cell_type": "markdown",
   "metadata": {
    "id": "pE95uAHXlXIX"
   },
   "source": [
    "X, y는 각각 길이가 100인 1차원 배열이다."
   ]
  },
  {
   "cell_type": "code",
   "execution_count": 5,
   "metadata": {
    "id": "gdmDnZ1JlXIY"
   },
   "outputs": [
    {
     "data": {
      "image/png": "[encoded data removed]",
      "text/plain": [
       "<Figure size 432x288 with 1 Axes>"
      ]
     },
     "metadata": {
      "needs_background": "light"
     },
     "output_type": "display_data"
    }
   ],
   "source": [
    "plt.plot(X, y, \"b.\")\n",
    "plt.xlabel(\"x\", fontsize=18)\n",
    "plt.ylabel(\"y\", rotation=0, fontsize=18)\n",
    "plt.axis([0, 2, 0, 15])\n",
    "plt.show()"
   ]
  },
  {
   "cell_type": "markdown",
   "metadata": {
    "id": "Ufq4wzNIlXIZ"
   },
   "source": [
    "* 단순선형회귀 모델 회귀계수 추정"
   ]
  },
  {
   "cell_type": "markdown",
   "metadata": {
    "id": "mR5rGLAYol68"
   },
   "source": [
    "**단순선형회귀모델**\n",
    "\n",
    "data : $ (X_i , Y_i ) , ~~~ i = 1, \\ldots, n$\n",
    "\n",
    "$Y_i = w_0 + w_1 X_i + \\epsilon_i , ~~~~ i = 1, \\ldots, n $"
   ]
  },
  {
   "cell_type": "markdown",
   "metadata": {
    "id": "cyNTK4phlXIa"
   },
   "source": [
    "\n",
    "\n",
    "\n",
    "**최소제곱법 정규 방정식** : \n",
    "$ (\\mathbf{X}^T \\mathbf{X}) {\\boldsymbol{w}} = \\mathbf{X}^T \\mathbf{y}$\n",
    "\n",
    "정규방정식의 해 : \n",
    "$\\hat{\\boldsymbol{w}} = (\\mathbf{X}^T \\mathbf{X})^{-1} \\mathbf{X}^T \\mathbf{y}$"
   ]
  },
  {
   "cell_type": "markdown",
   "metadata": {
    "id": "JCHDDoMalXIb"
   },
   "source": [
    "**퀴즈** : 위의 행렬 $\\mathbf{X}$와 y, w의 shape은?\\\n",
    "X (100, 2) y (100, 1) w (2, 1)"
   ]
  },
  {
   "cell_type": "markdown",
   "metadata": {
    "id": "JfgjSiQ6lXIc"
   },
   "source": [
    "이제 numpy 행렬 연산을 이용하여 정규방정식의 해를 구해보자.\n",
    "\n",
    "아래 코드에서는 `np.c_(a, b)`는 배열 `a`와 `b`를 열 방향으로 차례대로 결합한다."
   ]
  },
  {
   "cell_type": "code",
   "execution_count": 27,
   "metadata": {
    "id": "3usnxKeilXIc"
   },
   "outputs": [
    {
     "name": "stdout",
     "output_type": "stream",
     "text": [
      "[[1.         0.69427875]\n",
      " [1.         1.83633684]\n",
      " [1.         0.92024434]\n",
      " [1.         0.90647264]\n",
      " [1.         1.78956445]]\n"
     ]
    }
   ],
   "source": [
    "np.random.seed(52)\n",
    "X_b = np.c_[np.ones((100)), X]  \n",
    "print(X_b[:5])"
   ]
  },
  {
   "cell_type": "code",
   "execution_count": 28,
   "metadata": {
    "id": "PxvHKczGlXIe"
   },
   "outputs": [
    {
     "name": "stdout",
     "output_type": "stream",
     "text": [
      "(100, 2)\n"
     ]
    }
   ],
   "source": [
    "print(X_b.shape)"
   ]
  },
  {
   "cell_type": "markdown",
   "metadata": {
    "id": "3hyL-wzplXIf"
   },
   "source": [
    "행렬 `X_b` 는 두 1차원 배열을 세로로 결합한 2차원 배열($ 100 \\times 2 $)이다."
   ]
  },
  {
   "cell_type": "markdown",
   "metadata": {
    "id": "v0FRsQwGlXIg"
   },
   "source": [
    "행렬 `A`의 전치행렬은 `A.T`이며 `A`의 역행렬은 **np.linalg.inv(A)**으로 구할 수 있다. 또 두 행렬 `A, B`의 곱은 **A.dot(B)**로 구할 수 있다 (교재 37-8쪽 참조). 이러한 행렬 연산들을 이용하여 정규방정식의 해를 구할 수 있다."
   ]
  },
  {
   "cell_type": "code",
   "execution_count": 29,
   "metadata": {
    "id": "_sUZ-8-wlXIh"
   },
   "outputs": [
    {
     "name": "stdout",
     "output_type": "stream",
     "text": [
      "[4.09952619 3.04913504]\n"
     ]
    }
   ],
   "source": [
    "w_best = np.linalg.inv(X_b.T.dot(X_b)).dot(X_b.T).dot(y)\n",
    "print(w_best)"
   ]
  },
  {
   "cell_type": "code",
   "execution_count": 30,
   "metadata": {
    "id": "aM9MqEqdlXIi"
   },
   "outputs": [
    {
     "data": {
      "text/plain": [
       "array([4.09952619, 3.04913504])"
      ]
     },
     "execution_count": 30,
     "metadata": {},
     "output_type": "execute_result"
    }
   ],
   "source": [
    "w_best"
   ]
  },
  {
   "cell_type": "markdown",
   "metadata": {
    "id": "TNhBA38nlXIj"
   },
   "source": [
    "절편 $w_0$, 기울기 $w_1$의 추정값을 구했다. 이 직선으로 X 값이 0과 2일 때의 예측값을 계산해보자."
   ]
  },
  {
   "cell_type": "markdown",
   "metadata": {
    "id": "_urI-3SRlXIj"
   },
   "source": [
    "$\\hat{y} = \\mathbf{X} \\boldsymbol{\\hat{w}}$"
   ]
  },
  {
   "cell_type": "code",
   "execution_count": 10,
   "metadata": {
    "id": "AbQ7U3cKlXIk"
   },
   "outputs": [
    {
     "name": "stdout",
     "output_type": "stream",
     "text": [
      "[0 2]\n",
      "\n",
      "[[1. 0.]\n",
      " [1. 2.]]\n"
     ]
    }
   ],
   "source": [
    "X_new = np.array([0, 2])\n",
    "X_new_b = np.c_[np.ones((2)), X_new]  \n",
    "print(X_new) \n",
    "print()\n",
    "print(X_new_b)"
   ]
  },
  {
   "cell_type": "code",
   "execution_count": 11,
   "metadata": {
    "id": "wEAcjV1tpRB0"
   },
   "outputs": [
    {
     "data": {
      "text/plain": [
       "array([ 3.79212432, 10.12023969])"
      ]
     },
     "execution_count": 11,
     "metadata": {},
     "output_type": "execute_result"
    }
   ],
   "source": [
    "y_predict = X_new_b.dot(w_best)\n",
    "y_predict"
   ]
  },
  {
   "cell_type": "markdown",
   "metadata": {
    "id": "eLP4-MfzXHTh"
   },
   "source": [
    "100개 데이터와 최소제곱법으로 구한 회귀 직선을 그림으로 나타내보자."
   ]
  },
  {
   "cell_type": "code",
   "execution_count": 12,
   "metadata": {
    "id": "o-nRBNbClXIl",
    "scrolled": true
   },
   "outputs": [
    {
     "data": {
      "image/png": "[encoded data removed]",
      "text/plain": [
       "<Figure size 432x288 with 1 Axes>"
      ]
     },
     "metadata": {
      "needs_background": "light"
     },
     "output_type": "display_data"
    }
   ],
   "source": [
    "plt.plot(X_new, y_predict, \"r-\", label=\"regression line\")\n",
    "plt.plot(X, y, \"b.\")\n",
    "plt.axis([0, 2, 0, 15])\n",
    "plt.legend()\n",
    "plt.show()"
   ]
  },
  {
   "cell_type": "markdown",
   "metadata": {},
   "source": [
    "100개 데이터의 예측값(`pred`)을 만든 뒤, 아래와 같이 그림을 그려도 마찬가지."
   ]
  },
  {
   "cell_type": "code",
   "execution_count": 13,
   "metadata": {},
   "outputs": [],
   "source": [
    "pred = X_b.dot(w_best)"
   ]
  },
  {
   "cell_type": "code",
   "execution_count": 14,
   "metadata": {
    "scrolled": true
   },
   "outputs": [
    {
     "data": {
      "image/png": "[encoded data removed]",
      "text/plain": [
       "<Figure size 432x288 with 1 Axes>"
      ]
     },
     "metadata": {
      "needs_background": "light"
     },
     "output_type": "display_data"
    }
   ],
   "source": [
    "plt.scatter(X,y, c='b', s=10)\n",
    "plt.plot(X, pred, c='r', label='regression line')\n",
    "plt.legend()\n",
    "plt.show()"
   ]
  },
  {
   "cell_type": "markdown",
   "metadata": {},
   "source": [
    "- feature 변수들의 다중공선성\n",
    "\n",
    "교재 304쪽 설명을 보자."
   ]
  },
  {
   "cell_type": "markdown",
   "metadata": {
    "id": "YHhdaQIflXIl"
   },
   "source": [
    "* 사이킷런을 이용한 회귀\n",
    "\n",
    "이번에는 같은 100개 데이터의 회귀직선을 `sklearn.linear_model`에 있는 [LinearRegression](https://scikit-learn.org/stable/modules/generated/sklearn.linear_model.LinearRegression.html?highlight=linearregression#sklearn.linear_model.LinearRegression)을 불러와서 구해보자. 절차는 분류 알고리즘들과 마찬가지로 객체를 만들고 `fit()`과 `predict()`로 모델과 예측값을 구한다. 따로 지정하지 않으면 절편항 계수도 자동으로 계산한다. \n",
    "\n",
    "다중회귀에서 만일 독립변수들이 갖는 값의 범위가 서로 많이 다르다면 `normalize = True` 옵션을 지정해서 각 변수 벡터의 길이를 1로 만들어주는 편이 좋다. normalization 대신 모든 독립변수를 표준화(평균 0, 분산 1)시키고 싶다면 회귀분석을 하기 전에 미리 `sklearn.preprocessing.StandardScaler`를 이용해서 데이터를 전처리해야한다 (실제 분석에서는 전체 데이터를 **train, test data로 분리하기 이전에 미리 전처리**해두는 편이 좋다).\n",
    "먼저 위에서 만든 100개 데이터 X, y에 대해 단순회귀모형 회귀계수를 추정해보자. \n",
    "\n",
    "sklearn.linear_model에 있는`LinearRegression().fit(X, y)`은 feature 데이터 X자리에 2차원 배열을 필요로한다. 즉 X의 shape은 `(n_samples, n_features)`이어야 하고 y의 shape은 `(n_samples,)` 또는 `(n_samples, n_targets)`이어야한다. \n",
    "\n",
    "지금 우리가 연습하는 단순회귀에서는 독립변수의 수가 1개이므로 `X = 2 * np.random.rand(100)`와 같이 1차원 배열 X를 만든 다음 `X = X.reshape(-1,1)`라는 코드로 열이 하나인 2차원 배열로 바꾸면 되겠다. 아니면 처음에 X를 만들 때 `X = 2 * np.random.rand(100,1)`과 같이 2차원 배열로 만들어도 된다."
   ]
  },
  {
   "cell_type": "code",
   "execution_count": 2,
   "metadata": {
    "id": "TH6o_Wy158-q"
   },
   "outputs": [],
   "source": [
    "import numpy as np\n",
    "np.random.seed(52)\n",
    "X = 2 * np.random.rand(100)\n",
    "y = 4 + 3 * X + np.random.randn(100)"
   ]
  },
  {
   "cell_type": "code",
   "execution_count": 5,
   "metadata": {
    "id": "updGOXb158-q"
   },
   "outputs": [
    {
     "data": {
      "text/html": [
       "<style>#sk-container-id-2 {color: black;background-color: white;}#sk-container-id-2 pre{padding: 0;}#sk-container-id-2 div.sk-toggleable {background-color: white;}#sk-container-id-2 label.sk-toggleable__label {cursor: pointer;display: block;width: 100%;margin-bottom: 0;padding: 0.3em;box-sizing: border-box;text-align: center;}#sk-container-id-2 label.sk-toggleable__label-arrow:before {content: \"▸\";float: left;margin-right: 0.25em;color: #696969;}#sk-container-id-2 label.sk-toggleable__label-arrow:hover:before {color: black;}#sk-container-id-2 div.sk-estimator:hover label.sk-toggleable__label-arrow:before {color: black;}#sk-container-id-2 div.sk-toggleable__content {max-height: 0;max-width: 0;overflow: hidden;text-align: left;background-color: #f0f8ff;}#sk-container-id-2 div.sk-toggleable__content pre {margin: 0.2em;color: black;border-radius: 0.25em;background-color: #f0f8ff;}#sk-container-id-2 input.sk-toggleable__control:checked~div.sk-toggleable__content {max-height: 200px;max-width: 100%;overflow: auto;}#sk-container-id-2 input.sk-toggleable__control:checked~label.sk-toggleable__label-arrow:before {content: \"▾\";}#sk-container-id-2 div.sk-estimator input.sk-toggleable__control:checked~label.sk-toggleable__label {background-color: #d4ebff;}#sk-container-id-2 div.sk-label input.sk-toggleable__control:checked~label.sk-toggleable__label {background-color: #d4ebff;}#sk-container-id-2 input.sk-hidden--visually {border: 0;clip: rect(1px 1px 1px 1px);clip: rect(1px, 1px, 1px, 1px);height: 1px;margin: -1px;overflow: hidden;padding: 0;position: absolute;width: 1px;}#sk-container-id-2 div.sk-estimator {font-family: monospace;background-color: #f0f8ff;border: 1px dotted black;border-radius: 0.25em;box-sizing: border-box;margin-bottom: 0.5em;}#sk-container-id-2 div.sk-estimator:hover {background-color: #d4ebff;}#sk-container-id-2 div.sk-parallel-item::after {content: \"\";width: 100%;border-bottom: 1px solid gray;flex-grow: 1;}#sk-container-id-2 div.sk-label:hover label.sk-toggleable__label {background-color: #d4ebff;}#sk-container-id-2 div.sk-serial::before {content: \"\";position: absolute;border-left: 1px solid gray;box-sizing: border-box;top: 0;bottom: 0;left: 50%;z-index: 0;}#sk-container-id-2 div.sk-serial {display: flex;flex-direction: column;align-items: center;background-color: white;padding-right: 0.2em;padding-left: 0.2em;position: relative;}#sk-container-id-2 div.sk-item {position: relative;z-index: 1;}#sk-container-id-2 div.sk-parallel {display: flex;align-items: stretch;justify-content: center;background-color: white;position: relative;}#sk-container-id-2 div.sk-item::before, #sk-container-id-2 div.sk-parallel-item::before {content: \"\";position: absolute;border-left: 1px solid gray;box-sizing: border-box;top: 0;bottom: 0;left: 50%;z-index: -1;}#sk-container-id-2 div.sk-parallel-item {display: flex;flex-direction: column;z-index: 1;position: relative;background-color: white;}#sk-container-id-2 div.sk-parallel-item:first-child::after {align-self: flex-end;width: 50%;}#sk-container-id-2 div.sk-parallel-item:last-child::after {align-self: flex-start;width: 50%;}#sk-container-id-2 div.sk-parallel-item:only-child::after {width: 0;}#sk-container-id-2 div.sk-dashed-wrapped {border: 1px dashed gray;margin: 0 0.4em 0.5em 0.4em;box-sizing: border-box;padding-bottom: 0.4em;background-color: white;}#sk-container-id-2 div.sk-label label {font-family: monospace;font-weight: bold;display: inline-block;line-height: 1.2em;}#sk-container-id-2 div.sk-label-container {text-align: center;}#sk-container-id-2 div.sk-container {/* jupyter's `normalize.less` sets `[hidden] { display: none; }` but bootstrap.min.css set `[hidden] { display: none !important; }` so we also need the `!important` here to be able to override the default hidden behavior on the sphinx rendered scikit-learn.org. See: https://github.com/scikit-learn/scikit-learn/issues/21755 */display: inline-block !important;position: relative;}#sk-container-id-2 div.sk-text-repr-fallback {display: none;}</style><div id=\"sk-container-id-2\" class=\"sk-top-container\"><div class=\"sk-text-repr-fallback\"><pre>LinearRegression()</pre><b>In a Jupyter environment, please rerun this cell to show the HTML representation or trust the notebook. <br />On GitHub, the HTML representation is unable to render, please try loading this page with nbviewer.org.</b></div><div class=\"sk-container\" hidden><div class=\"sk-item\"><div class=\"sk-estimator sk-toggleable\"><input class=\"sk-toggleable__control sk-hidden--visually\" id=\"sk-estimator-id-2\" type=\"checkbox\" checked><label for=\"sk-estimator-id-2\" class=\"sk-toggleable__label sk-toggleable__label-arrow\">LinearRegression</label><div class=\"sk-toggleable__content\"><pre>LinearRegression()</pre></div></div></div></div></div>"
      ],
      "text/plain": [
       "LinearRegression()"
      ]
     },
     "execution_count": 5,
     "metadata": {},
     "output_type": "execute_result"
    }
   ],
   "source": [
    "from sklearn.linear_model import LinearRegression\n",
    "\n",
    "X = X.reshape(-1, 1)\n",
    "y = y.reshape(-1, 1)\n",
    "lin_reg = LinearRegression()\n",
    "lin_reg.fit(X, y)"
   ]
  },
  {
   "cell_type": "markdown",
   "metadata": {
    "id": "bB-ZlfFUlXIn"
   },
   "source": [
    "데이터로 추정한 절편항 회귀계수 값은 **lin_reg.intercept_**에 있고, 기울기는 **lin_reg.coef_**에 있다. 아래 결과를 위에서 구한 `w_beta`와 비교해보라."
   ]
  },
  {
   "cell_type": "code",
   "execution_count": 9,
   "metadata": {
    "id": "EJRdo61UlXIo"
   },
   "outputs": [
    {
     "name": "stdout",
     "output_type": "stream",
     "text": [
      "[3.79212432]\n",
      "[[3.16405769]]\n"
     ]
    }
   ],
   "source": [
    "print(lin_reg.intercept_)\n",
    "print(lin_reg.coef_)"
   ]
  },
  {
   "cell_type": "markdown",
   "metadata": {
    "id": "KncB4_9RlXIo"
   },
   "source": [
    "새로운 데이터 `X_new`에서 `Y`값을 예측하려면,"
   ]
  },
  {
   "cell_type": "code",
   "execution_count": 7,
   "metadata": {
    "id": "UV5hz9jtlXIp"
   },
   "outputs": [
    {
     "data": {
      "text/plain": [
       "array([[ 3.79212432],\n",
       "       [10.12023969]])"
      ]
     },
     "execution_count": 7,
     "metadata": {},
     "output_type": "execute_result"
    }
   ],
   "source": [
    "X_new = np.array([0, 2]).reshape(-1,1)\n",
    "lin_reg.predict(X_new)"
   ]
  },
  {
   "cell_type": "markdown",
   "metadata": {
    "id": "zl9lG0BhlXIq"
   },
   "source": [
    "단순선형회귀가 아닌 다중회귀 모형은 교재 302쪽을 보라. 독립변수의 수는 $m$개이며 절편항을 첫번째 열로 포함시킨다면 `X`행렬은 $n \\times (m + 1)$ 행렬이다."
   ]
  },
  {
   "cell_type": "markdown",
   "metadata": {
    "id": "w4OSus21kAP_"
   },
   "source": [
    "결정계수 ($R^2 $)"
   ]
  },
  {
   "cell_type": "code",
   "execution_count": 10,
   "metadata": {
    "id": "0ixmpc9_jRMs"
   },
   "outputs": [
    {
     "name": "stdout",
     "output_type": "stream",
     "text": [
      "0.7703706971161476\n"
     ]
    }
   ],
   "source": [
    "print(lin_reg.score(X,y))"
   ]
  },
  {
   "cell_type": "markdown",
   "metadata": {
    "id": "71Z_iAEGlXIs"
   },
   "source": [
    "## 5.4 보스턴 주택가격 예측"
   ]
  },
  {
   "cell_type": "markdown",
   "metadata": {},
   "source": [
    "p. 303 ~ 311"
   ]
  },
  {
   "cell_type": "markdown",
   "metadata": {
    "id": "-ACDTn9plXIs"
   },
   "source": [
    "* 데이터"
   ]
  },
  {
   "cell_type": "markdown",
   "metadata": {
    "id": "2-zYytNylXIt"
   },
   "source": [
    "데이터 설명과 코드는 교재 306쪽에 있다."
   ]
  },
  {
   "cell_type": "code",
   "execution_count": 3,
   "metadata": {
    "id": "H7w83mNdlXIw"
   },
   "outputs": [
    {
     "ename": "ImportError",
     "evalue": "\n`load_boston` has been removed from scikit-learn since version 1.2.\n\nThe Boston housing prices dataset has an ethical problem: as\ninvestigated in [1], the authors of this dataset engineered a\nnon-invertible variable \"B\" assuming that racial self-segregation had a\npositive impact on house prices [2]. Furthermore the goal of the\nresearch that led to the creation of this dataset was to study the\nimpact of air quality but it did not give adequate demonstration of the\nvalidity of this assumption.\n\nThe scikit-learn maintainers therefore strongly discourage the use of\nthis dataset unless the purpose of the code is to study and educate\nabout ethical issues in data science and machine learning.\n\nIn this special case, you can fetch the dataset from the original\nsource::\n\n    import pandas as pd\n    import numpy as np\n\n    data_url = \"http://lib.stat.cmu.edu/datasets/boston\"\n    raw_df = pd.read_csv(data_url, sep=\"\\s+\", skiprows=22, header=None)\n    data = np.hstack([raw_df.values[::2, :], raw_df.values[1::2, :2]])\n    target = raw_df.values[1::2, 2]\n\nAlternative datasets include the California housing dataset and the\nAmes housing dataset. You can load the datasets as follows::\n\n    from sklearn.datasets import fetch_california_housing\n    housing = fetch_california_housing()\n\nfor the California housing dataset and::\n\n    from sklearn.datasets import fetch_openml\n    housing = fetch_openml(name=\"house_prices\", as_frame=True)\n\nfor the Ames housing dataset.\n\n[1] M Carlisle.\n\"Racist data destruction?\"\n<https://medium.com/@docintangible/racist-data-destruction-113e3eff54a8>\n\n[2] Harrison Jr, David, and Daniel L. Rubinfeld.\n\"Hedonic housing prices and the demand for clean air.\"\nJournal of environmental economics and management 5.1 (1978): 81-102.\n<https://www.researchgate.net/publication/4974606_Hedonic_housing_prices_and_the_demand_for_clean_air>\n",
     "output_type": "error",
     "traceback": [
      "\u001b[0;31m---------------------------------------------------------------------------\u001b[0m",
      "\u001b[0;31mImportError\u001b[0m                               Traceback (most recent call last)",
      "\u001b[0;32m<ipython-input-3-4adbfa6ab597>\u001b[0m in \u001b[0;36m<module>\u001b[0;34m\u001b[0m\n\u001b[1;32m      4\u001b[0m \u001b[0;32mimport\u001b[0m \u001b[0mseaborn\u001b[0m \u001b[0;32mas\u001b[0m \u001b[0msns\u001b[0m\u001b[0;34m\u001b[0m\u001b[0;34m\u001b[0m\u001b[0m\n\u001b[1;32m      5\u001b[0m \u001b[0;32mfrom\u001b[0m \u001b[0mscipy\u001b[0m \u001b[0;32mimport\u001b[0m \u001b[0mstats\u001b[0m\u001b[0;34m\u001b[0m\u001b[0;34m\u001b[0m\u001b[0m\n\u001b[0;32m----> 6\u001b[0;31m \u001b[0;32mfrom\u001b[0m \u001b[0msklearn\u001b[0m\u001b[0;34m.\u001b[0m\u001b[0mdatasets\u001b[0m \u001b[0;32mimport\u001b[0m \u001b[0mload_boston\u001b[0m\u001b[0;34m\u001b[0m\u001b[0;34m\u001b[0m\u001b[0m\n\u001b[0m\u001b[1;32m      7\u001b[0m \u001b[0mget_ipython\u001b[0m\u001b[0;34m(\u001b[0m\u001b[0;34m)\u001b[0m\u001b[0;34m.\u001b[0m\u001b[0mrun_line_magic\u001b[0m\u001b[0;34m(\u001b[0m\u001b[0;34m'matplotlib'\u001b[0m\u001b[0;34m,\u001b[0m \u001b[0;34m'inline'\u001b[0m\u001b[0;34m)\u001b[0m\u001b[0;34m\u001b[0m\u001b[0;34m\u001b[0m\u001b[0m\n\u001b[1;32m      8\u001b[0m \u001b[0;34m\u001b[0m\u001b[0m\n",
      "\u001b[0;32m~/opt/anaconda3/lib/python3.8/site-packages/sklearn/datasets/__init__.py\u001b[0m in \u001b[0;36m__getattr__\u001b[0;34m(name)\u001b[0m\n\u001b[1;32m    154\u001b[0m             \"\"\"\n\u001b[1;32m    155\u001b[0m         )\n\u001b[0;32m--> 156\u001b[0;31m         \u001b[0;32mraise\u001b[0m \u001b[0mImportError\u001b[0m\u001b[0;34m(\u001b[0m\u001b[0mmsg\u001b[0m\u001b[0;34m)\u001b[0m\u001b[0;34m\u001b[0m\u001b[0;34m\u001b[0m\u001b[0m\n\u001b[0m\u001b[1;32m    157\u001b[0m     \u001b[0;32mtry\u001b[0m\u001b[0;34m:\u001b[0m\u001b[0;34m\u001b[0m\u001b[0;34m\u001b[0m\u001b[0m\n\u001b[1;32m    158\u001b[0m         \u001b[0;32mreturn\u001b[0m \u001b[0mglobals\u001b[0m\u001b[0;34m(\u001b[0m\u001b[0;34m)\u001b[0m\u001b[0;34m[\u001b[0m\u001b[0mname\u001b[0m\u001b[0;34m]\u001b[0m\u001b[0;34m\u001b[0m\u001b[0;34m\u001b[0m\u001b[0m\n",
      "\u001b[0;31mImportError\u001b[0m: \n`load_boston` has been removed from scikit-learn since version 1.2.\n\nThe Boston housing prices dataset has an ethical problem: as\ninvestigated in [1], the authors of this dataset engineered a\nnon-invertible variable \"B\" assuming that racial self-segregation had a\npositive impact on house prices [2]. Furthermore the goal of the\nresearch that led to the creation of this dataset was to study the\nimpact of air quality but it did not give adequate demonstration of the\nvalidity of this assumption.\n\nThe scikit-learn maintainers therefore strongly discourage the use of\nthis dataset unless the purpose of the code is to study and educate\nabout ethical issues in data science and machine learning.\n\nIn this special case, you can fetch the dataset from the original\nsource::\n\n    import pandas as pd\n    import numpy as np\n\n    data_url = \"http://lib.stat.cmu.edu/datasets/boston\"\n    raw_df = pd.read_csv(data_url, sep=\"\\s+\", skiprows=22, header=None)\n    data = np.hstack([raw_df.values[::2, :], raw_df.values[1::2, :2]])\n    target = raw_df.values[1::2, 2]\n\nAlternative datasets include the California housing dataset and the\nAmes housing dataset. You can load the datasets as follows::\n\n    from sklearn.datasets import fetch_california_housing\n    housing = fetch_california_housing()\n\nfor the California housing dataset and::\n\n    from sklearn.datasets import fetch_openml\n    housing = fetch_openml(name=\"house_prices\", as_frame=True)\n\nfor the Ames housing dataset.\n\n[1] M Carlisle.\n\"Racist data destruction?\"\n<https://medium.com/@docintangible/racist-data-destruction-113e3eff54a8>\n\n[2] Harrison Jr, David, and Daniel L. Rubinfeld.\n\"Hedonic housing prices and the demand for clean air.\"\nJournal of environmental economics and management 5.1 (1978): 81-102.\n<https://www.researchgate.net/publication/4974606_Hedonic_housing_prices_and_the_demand_for_clean_air>\n"
     ]
    }
   ],
   "source": [
    "import numpy as np\n",
    "import matplotlib.pyplot as plt\n",
    "import pandas as pd\n",
    "import seaborn as sns\n",
    "from scipy import stats\n",
    "from sklearn.datasets import load_boston\n",
    "%matplotlib inline\n",
    "\n",
    "boston = load_boston()"
   ]
  },
  {
   "cell_type": "code",
   "execution_count": 21,
   "metadata": {
    "id": "fr1zSsy4lXIy"
   },
   "outputs": [
    {
     "data": {
      "text/plain": [
       "sklearn.utils.Bunch"
      ]
     },
     "execution_count": 21,
     "metadata": {},
     "output_type": "execute_result"
    }
   ],
   "source": [
    "type(boston)"
   ]
  },
  {
   "cell_type": "code",
   "execution_count": 22,
   "metadata": {
    "id": "qAa7X7P0lXIz"
   },
   "outputs": [
    {
     "data": {
      "text/plain": [
       "dict_keys(['data', 'target', 'feature_names', 'DESCR', 'filename'])"
      ]
     },
     "execution_count": 22,
     "metadata": {},
     "output_type": "execute_result"
    }
   ],
   "source": [
    "boston.keys()"
   ]
  },
  {
   "cell_type": "code",
   "execution_count": 23,
   "metadata": {
    "id": "0gD4IN9DlXIz"
   },
   "outputs": [
    {
     "data": {
      "text/plain": [
       "array(['CRIM', 'ZN', 'INDUS', 'CHAS', 'NOX', 'RM', 'AGE', 'DIS', 'RAD',\n",
       "       'TAX', 'PTRATIO', 'B', 'LSTAT'], dtype='<U7')"
      ]
     },
     "execution_count": 23,
     "metadata": {},
     "output_type": "execute_result"
    }
   ],
   "source": [
    "boston.feature_names"
   ]
  },
  {
   "cell_type": "code",
   "execution_count": 24,
   "metadata": {
    "id": "7TkR59u3lXI0",
    "scrolled": true
   },
   "outputs": [
    {
     "name": "stdout",
     "output_type": "stream",
     "text": [
      ".. _boston_dataset:\n",
      "\n",
      "Boston house prices dataset\n",
      "---------------------------\n",
      "\n",
      "**Data Set Characteristics:**  \n",
      "\n",
      "    :Number of Instances: 506 \n",
      "\n",
      "    :Number of Attributes: 13 numeric/categorical predictive. Median Value (attribute 14) is usually the target.\n",
      "\n",
      "    :Attribute Information (in order):\n",
      "        - CRIM     per capita crime rate by town\n",
      "        - ZN       proportion of residential land zoned for lots over 25,000 sq.ft.\n",
      "        - INDUS    proportion of non-retail business acres per town\n",
      "        - CHAS     Charles River dummy variable (= 1 if tract bounds river; 0 otherwise)\n",
      "        - NOX      nitric oxides concentration (parts per 10 million)\n",
      "        - RM       average number of rooms per dwelling\n",
      "        - AGE      proportion of owner-occupied units built prior to 1940\n",
      "        - DIS      weighted distances to five Boston employment centres\n",
      "        - RAD      index of accessibility to radial highways\n",
      "        - TAX      full-value property-tax rate per $10,000\n",
      "        - PTRATIO  pupil-teacher ratio by town\n",
      "        - B        1000(Bk - 0.63)^2 where Bk is the proportion of blacks by town\n",
      "        - LSTAT    % lower status of the population\n",
      "        - MEDV     Median value of owner-occupied homes in $1000's\n",
      "\n",
      "    :Missing Attribute Values: None\n",
      "\n",
      "    :Creator: Harrison, D. and Rubinfeld, D.L.\n",
      "\n",
      "This is a copy of UCI ML housing dataset.\n",
      "https://archive.ics.uci.edu/ml/machine-learning-databases/housing/\n",
      "\n",
      "\n",
      "This dataset was taken from the StatLib library which is maintained at Carnegie Mellon University.\n",
      "\n",
      "The Boston house-price data of Harrison, D. and Rubinfeld, D.L. 'Hedonic\n",
      "prices and the demand for clean air', J. Environ. Economics & Management,\n",
      "vol.5, 81-102, 1978.   Used in Belsley, Kuh & Welsch, 'Regression diagnostics\n",
      "...', Wiley, 1980.   N.B. Various transformations are used in the table on\n",
      "pages 244-261 of the latter.\n",
      "\n",
      "The Boston house-price data has been used in many machine learning papers that address regression\n",
      "problems.   \n",
      "     \n",
      ".. topic:: References\n",
      "\n",
      "   - Belsley, Kuh & Welsch, 'Regression diagnostics: Identifying Influential Data and Sources of Collinearity', Wiley, 1980. 244-261.\n",
      "   - Quinlan,R. (1993). Combining Instance-Based and Model-Based Learning. In Proceedings on the Tenth International Conference of Machine Learning, 236-243, University of Massachusetts, Amherst. Morgan Kaufmann.\n",
      "\n"
     ]
    }
   ],
   "source": [
    "print(boston.DESCR)"
   ]
  },
  {
   "cell_type": "markdown",
   "metadata": {
    "id": "e2je5XcKlXI1"
   },
   "source": [
    "* CRIM: 지역별 범죄 발생률  \n",
    "* ZN: 25,000평방피트를 초과하는 거주 지역의 비율\n",
    "* NDUS: 비상업 지역 넓이 비율\n",
    "* CHAS: 찰스강에 대한 더미 변수(강의 경계에 위치한 경우는 1, 아니면 0)\n",
    "* NOX: 일산화질소 농도\n",
    "* RM: 거주할 수 있는 방 개수\n",
    "* AGE: 1940년 이전에 건축된 소유 주택의 비율\n",
    "* DIS: 5개 주요 고용센터까지의 가중 거리\n",
    "* RAD: 고속도로 접근 용이도\n",
    "* TAX: 10,000달러당 재산세율\n",
    "* PTRATIO: 지역의 교사와 학생 수 비율\n",
    "* B: 지역의 흑인 거주 비율\n",
    "* LSTAT: 하위 계층의 비율\n",
    "* MEDV: 본인 소유의 주택 가격(중앙값)"
   ]
  },
  {
   "cell_type": "markdown",
   "metadata": {
    "id": "ifZvftqVlXI1"
   },
   "source": [
    "위의 변수 목록에서 맨 아래에있는 주택 가격이 target변수다."
   ]
  },
  {
   "cell_type": "markdown",
   "metadata": {
    "id": "FYjKgnr8lXI2"
   },
   "source": [
    "boston 데이터의 data와 target을 data frame으로 만들어서 살펴보자."
   ]
  },
  {
   "cell_type": "code",
   "execution_count": 25,
   "metadata": {
    "id": "hgK_8FmflXI2"
   },
   "outputs": [],
   "source": [
    "bostonDF = pd.DataFrame(boston.data , columns = boston.feature_names)\n",
    "bostonDF['PRICE'] = boston.target"
   ]
  },
  {
   "cell_type": "code",
   "execution_count": 26,
   "metadata": {
    "id": "QHiOxOgLlXI3"
   },
   "outputs": [
    {
     "name": "stdout",
     "output_type": "stream",
     "text": [
      "(506, 14)\n"
     ]
    }
   ],
   "source": [
    "print(bostonDF.shape)"
   ]
  },
  {
   "cell_type": "markdown",
   "metadata": {
    "id": "ums0GIGmlXI3"
   },
   "source": [
    "독립변수들과 주택가격의 관계를 그림으로 그려보자."
   ]
  },
  {
   "cell_type": "code",
   "execution_count": 27,
   "metadata": {
    "id": "pGNUqxsmlXI3"
   },
   "outputs": [
    {
     "data": {
      "image/png": "[encoded data removed]",
      "text/plain": [
       "<Figure size 1440x864 with 12 Axes>"
      ]
     },
     "metadata": {
      "needs_background": "light"
     },
     "output_type": "display_data"
    }
   ],
   "source": [
    "fig, axs = plt.subplots(figsize=(20,12) , ncols=4 , nrows=3)\n",
    "lm_features = ['CRIM', 'RM','ZN','INDUS','NOX', 'DIS', 'TAX', 'B', 'AGE','PTRATIO','LSTAT','RAD']\n",
    "for i , feature in enumerate(lm_features):\n",
    "    row = int(i/4)\n",
    "    col = i%4\n",
    "    \n",
    "    sns.regplot(x=feature , y='PRICE',data=bostonDF , ax=axs[row][col])"
   ]
  },
  {
   "cell_type": "markdown",
   "metadata": {
    "id": "Q-VZQUtalXI4"
   },
   "source": [
    "위의 그림을 보면 어떤 독립변수가 중요할 것 같은가? 방의수(RM), 하층민비율(LSTAT) 등이 중요해보인다. 과연 그림을 보고 예상한 변수의 중요도가 회귀모형 적합 결과에서도 나타나는지 알아보자."
   ]
  },
  {
   "cell_type": "markdown",
   "metadata": {
    "id": "Xn24buzzlXI4"
   },
   "source": [
    "* (데이터 전처리 없이) 학습과 테스트 데이터 세트로 데이터 분리, 학습/예측/평가"
   ]
  },
  {
   "cell_type": "code",
   "execution_count": 28,
   "metadata": {
    "id": "z9AZ677klXI5"
   },
   "outputs": [],
   "source": [
    "from sklearn.model_selection import train_test_split\n",
    "from sklearn.linear_model import LinearRegression\n",
    "from sklearn.metrics import mean_squared_error , r2_score\n",
    "\n",
    "y_target = bostonDF['PRICE']\n",
    "X_data = bostonDF.drop(['PRICE'],axis=1,inplace=False)\n",
    "\n",
    "X_train , X_test , y_train , y_test = train_test_split(X_data , y_target ,test_size=0.3, random_state=156)"
   ]
  },
  {
   "cell_type": "code",
   "execution_count": 29,
   "metadata": {
    "id": "sFxLdj9GlXJD"
   },
   "outputs": [
    {
     "data": {
      "text/plain": [
       "(354, 13)"
      ]
     },
     "execution_count": 29,
     "metadata": {},
     "output_type": "execute_result"
    }
   ],
   "source": [
    "X_train.shape"
   ]
  },
  {
   "cell_type": "code",
   "execution_count": 30,
   "metadata": {
    "id": "48kmtakMlXJE"
   },
   "outputs": [
    {
     "data": {
      "text/plain": [
       "(152, 13)"
      ]
     },
     "execution_count": 30,
     "metadata": {},
     "output_type": "execute_result"
    }
   ],
   "source": [
    "X_test.shape"
   ]
  },
  {
   "cell_type": "markdown",
   "metadata": {
    "id": "lRj-yCfwlXJE"
   },
   "source": [
    "`sklearn.metrics` 에 있는 `mean_squared_error , r2_score`에 대해 잠시 알아보자. [sklearn 설명서](https://scikit-learn.org/stable/modules/model_evaluation.html#mean-squared-error)"
   ]
  },
  {
   "cell_type": "code",
   "execution_count": 31,
   "metadata": {
    "id": "6ZMncqzxlXJF"
   },
   "outputs": [
    {
     "name": "stdout",
     "output_type": "stream",
     "text": [
      "MSE : 17.297 , RMSE : 4.159\n",
      "Variance score : 0.757\n"
     ]
    }
   ],
   "source": [
    "lr = LinearRegression()\n",
    "lr.fit(X_train ,y_train )\n",
    "y_preds = lr.predict(X_test)\n",
    "mse = mean_squared_error(y_test, y_preds)\n",
    "rmse = np.sqrt(mse)\n",
    "\n",
    "print('MSE : {0:.3f} , RMSE : {1:.3F}'.format(mse , rmse))\n",
    "print('Variance score : {0:.3f}'.format(r2_score(y_test, y_preds)))"
   ]
  },
  {
   "cell_type": "code",
   "execution_count": 32,
   "metadata": {
    "id": "ZTuGItZslXJF"
   },
   "outputs": [
    {
     "name": "stdout",
     "output_type": "stream",
     "text": [
      "절편 값: 40.995595172164336\n",
      "회귀 계수값: [ -0.1   0.1   0.    3.  -19.8   3.4   0.   -1.7   0.4  -0.   -0.9   0.\n",
      "  -0.6]\n"
     ]
    }
   ],
   "source": [
    "print('절편 값:',lr.intercept_)\n",
    "print('회귀 계수값:', np.round(lr.coef_, 1))"
   ]
  },
  {
   "cell_type": "markdown",
   "metadata": {
    "id": "WiNEPvZalXJG"
   },
   "source": [
    "값의 크기 순으로 회귀 계수 정렬"
   ]
  },
  {
   "cell_type": "code",
   "execution_count": 33,
   "metadata": {
    "id": "1_DwirrVlXJH"
   },
   "outputs": [
    {
     "data": {
      "text/plain": [
       "RM          3.4\n",
       "CHAS        3.0\n",
       "RAD         0.4\n",
       "ZN          0.1\n",
       "B           0.0\n",
       "TAX        -0.0\n",
       "AGE         0.0\n",
       "INDUS       0.0\n",
       "CRIM       -0.1\n",
       "LSTAT      -0.6\n",
       "PTRATIO    -0.9\n",
       "DIS        -1.7\n",
       "NOX       -19.8\n",
       "dtype: float64"
      ]
     },
     "execution_count": 33,
     "metadata": {},
     "output_type": "execute_result"
    }
   ],
   "source": [
    "coeff = pd.Series(data=np.round(lr.coef_, 1), index=X_data.columns )\n",
    "coeff.sort_values(ascending=False)  #내림차순"
   ]
  },
  {
   "cell_type": "markdown",
   "metadata": {
    "id": "yPtG9FkDksMN"
   },
   "source": [
    "$R^2 $"
   ]
  },
  {
   "cell_type": "code",
   "execution_count": 34,
   "metadata": {
    "id": "B8tdTCWlkbaO"
   },
   "outputs": [
    {
     "data": {
      "text/plain": [
       "0.7273505005599823"
      ]
     },
     "execution_count": 34,
     "metadata": {},
     "output_type": "execute_result"
    }
   ],
   "source": [
    "lr.score(X_train, y_train)"
   ]
  },
  {
   "cell_type": "markdown",
   "metadata": {
    "id": "EQNxBVFCXyF9"
   },
   "source": [
    "회귀계수의 절대값 순으로 정렬"
   ]
  },
  {
   "cell_type": "code",
   "execution_count": 35,
   "metadata": {
    "id": "Pex-FPmRXMkr",
    "scrolled": true
   },
   "outputs": [
    {
     "data": {
      "text/plain": [
       "NOX        19.8\n",
       "RM          3.4\n",
       "CHAS        3.0\n",
       "DIS         1.7\n",
       "PTRATIO     0.9\n",
       "LSTAT       0.6\n",
       "RAD         0.4\n",
       "ZN          0.1\n",
       "CRIM        0.1\n",
       "B           0.0\n",
       "TAX         0.0\n",
       "AGE         0.0\n",
       "INDUS       0.0\n",
       "dtype: float64"
      ]
     },
     "execution_count": 35,
     "metadata": {},
     "output_type": "execute_result"
    }
   ],
   "source": [
    "coeff_abs = np.abs(coeff)  # 절대값\n",
    "coeff_abs.sort_values(ascending=False)"
   ]
  },
  {
   "cell_type": "markdown",
   "metadata": {
    "id": "AKTYQXiKX7Uz"
   },
   "source": [
    "이번에는 독립변수들을 `normalization` 시켜서 모형을 만들어보자."
   ]
  },
  {
   "cell_type": "code",
   "execution_count": 36,
   "metadata": {
    "id": "8dVjwwFKRhKI"
   },
   "outputs": [
    {
     "name": "stdout",
     "output_type": "stream",
     "text": [
      "MSE : 17.297 , RMSE : 4.159\n",
      "Variance score : 0.757\n"
     ]
    }
   ],
   "source": [
    "lr = LinearRegression(normalize=True)  #정규화 스케일링\n",
    "lr.fit(X_train ,y_train)\n",
    "y_preds = lr.predict(X_test)\n",
    "mse = mean_squared_error(y_test, y_preds)\n",
    "rmse = np.sqrt(mse)\n",
    "\n",
    "print('MSE : {0:.3f} , RMSE : {1:.3F}'.format(mse , rmse))\n",
    "print('Variance score : {0:.3f}'.format(r2_score(y_test, y_preds)))"
   ]
  },
  {
   "cell_type": "code",
   "execution_count": 37,
   "metadata": {
    "id": "lreLKqkYSINx"
   },
   "outputs": [
    {
     "name": "stdout",
     "output_type": "stream",
     "text": [
      "절편 값: 40.99559517216461\n",
      "회귀 계수값: [ -0.1   0.1   0.    3.  -19.8   3.4   0.   -1.7   0.4  -0.   -0.9   0.\n",
      "  -0.6]\n"
     ]
    }
   ],
   "source": [
    "print('절편 값:',lr.intercept_)\n",
    "print('회귀 계수값:', np.round(lr.coef_, 1))"
   ]
  },
  {
   "cell_type": "markdown",
   "metadata": {
    "id": "QmJP2QSzYEGN"
   },
   "source": [
    "회귀 계수 추정 결과가 달라야하는데 사이킷런에서는 계산은 noramlize시킨 변수들로 한 다음 결과는 다시 원래 데이터에 대한 값을 보여준다."
   ]
  },
  {
   "cell_type": "markdown",
   "metadata": {
    "id": "Ky6TAdPAYPfV"
   },
   "source": [
    "이번에는 모형을 만들기 전에 독립변수들을 standardize 시켜보자. `표준화는 데이터를 train,test data로 나누기 전에 해두는 편이 안전하다.`"
   ]
  },
  {
   "cell_type": "code",
   "execution_count": 38,
   "metadata": {
    "id": "6RvuSw8wU_qr"
   },
   "outputs": [
    {
     "name": "stdout",
     "output_type": "stream",
     "text": [
      "MSE : 17.297 , RMSE : 4.159\n",
      "Variance score : 0.757\n",
      "절편 값: 22.95123067721854\n",
      "회귀 계수값: [-1.   1.5  0.2  0.8 -2.3  2.4  0.2 -3.7  3.1 -2.4 -2.   0.9 -4. ]\n"
     ]
    }
   ],
   "source": [
    "bostonDF = pd.DataFrame(boston.data , columns = boston.feature_names)\n",
    "bostonDF['PRICE'] = boston.target\n",
    "y_target = bostonDF['PRICE']\n",
    "X_data = bostonDF.drop(['PRICE'],axis=1,inplace=False)\n",
    "\n",
    "from sklearn.preprocessing import StandardScaler\n",
    "scaler = StandardScaler()\n",
    "X_data_scaled = scaler.fit_transform(X_data)\n",
    "\n",
    "X_train_scaled , X_test_scaled , y_train , y_test = train_test_split(X_data_scaled , y_target ,test_size=0.3, random_state=156)\n",
    "\n",
    "lr = LinearRegression()\n",
    "lr.fit(X_train_scaled ,y_train)\n",
    "y_preds = lr.predict(X_test_scaled)\n",
    "\n",
    "mse = mean_squared_error(y_test, y_preds)\n",
    "rmse = np.sqrt(mse)\n",
    "\n",
    "print('MSE : {0:.3f} , RMSE : {1:.3F}'.format(mse , rmse))\n",
    "print('Variance score : {0:.3f}'.format(r2_score(y_test, y_preds)))\n",
    "\n",
    "print('절편 값:',lr.intercept_)\n",
    "print('회귀 계수값:', np.round(lr.coef_, 1))"
   ]
  },
  {
   "cell_type": "markdown",
   "metadata": {
    "id": "xagd4Y3faBLX"
   },
   "source": [
    "회귀 계수들은 어떻게 달라졌을까?"
   ]
  },
  {
   "cell_type": "code",
   "execution_count": 39,
   "metadata": {
    "id": "yffU2aSNWqAa"
   },
   "outputs": [
    {
     "data": {
      "text/plain": [
       "RAD        3.1\n",
       "RM         2.4\n",
       "ZN         1.5\n",
       "B          0.9\n",
       "CHAS       0.8\n",
       "AGE        0.2\n",
       "INDUS      0.2\n",
       "CRIM      -1.0\n",
       "PTRATIO   -2.0\n",
       "NOX       -2.3\n",
       "TAX       -2.4\n",
       "DIS       -3.7\n",
       "LSTAT     -4.0\n",
       "dtype: float64"
      ]
     },
     "execution_count": 39,
     "metadata": {},
     "output_type": "execute_result"
    }
   ],
   "source": [
    "coeff = pd.Series(data=np.round(lr.coef_, 1), index=X_data.columns )\n",
    "coeff.sort_values(ascending=False)"
   ]
  },
  {
   "cell_type": "markdown",
   "metadata": {
    "id": "Bm4JjIolZRDL"
   },
   "source": [
    "회귀계수의 절대값 순으로 정렬"
   ]
  },
  {
   "cell_type": "code",
   "execution_count": 40,
   "metadata": {
    "id": "iEZ4orjHZRDS"
   },
   "outputs": [
    {
     "data": {
      "text/plain": [
       "LSTAT      4.0\n",
       "DIS        3.7\n",
       "RAD        3.1\n",
       "TAX        2.4\n",
       "RM         2.4\n",
       "NOX        2.3\n",
       "PTRATIO    2.0\n",
       "ZN         1.5\n",
       "CRIM       1.0\n",
       "B          0.9\n",
       "CHAS       0.8\n",
       "AGE        0.2\n",
       "INDUS      0.2\n",
       "dtype: float64"
      ]
     },
     "execution_count": 40,
     "metadata": {},
     "output_type": "execute_result"
    }
   ],
   "source": [
    "coeff_abs = np.abs(coeff)\n",
    "coeff_abs.sort_values(ascending=False)"
   ]
  },
  {
   "cell_type": "markdown",
   "metadata": {
    "id": "QxLZtBEWZe_h"
   },
   "source": [
    "standardization 여부에 따라 회귀계수 추정결과가 상당히 달라진다."
   ]
  },
  {
   "cell_type": "markdown",
   "metadata": {
    "id": "LU1baEmwlXJL"
   },
   "source": [
    "## 5.3 비용 최소화하기- 경사하강법(GD)\n",
    "\n",
    "1) **경사하강법** (중요)\n",
    "\n",
    "독립변수의 수가 많지 않을 때에는 정규방정식을 이용해서 회귀계수를 추정하는 데 별 문제가 없다. 하지만 `변수 수가 많아지면 역행렬 계산이 어려워지는 등의 문제가 생긴다.` 이럴 때 **경사하강법**(gradient descent, GD)으로 최적 회귀계수를 추정한다.\n",
    "\n",
    "정규방정식을 이용한 추정방법은 한 번의 계산만 필요하지만 경사하강법은 반복적으로 최적의 답을 찾아나가는 방법이다. 우리가 찾는 최적값은 어떤 비용함수를 가장 작게 만드는 값이라고 하자. 경사하강법에서는 처음 w값에서 구한 비용함수의 미분값에 학습률(learning rate)를 곱한 값을 빼서 새로운 w값을 구한다."
   ]
  },
  {
   "cell_type": "markdown",
   "metadata": {
    "id": "nUaYoVK_lXJL"
   },
   "source": [
    "[그림](https://velog.io/@sset2323/05-03.-%EB%B9%84%EC%9A%A9-%EC%B5%9C%EC%86%8C%ED%99%94%ED%95%98%EA%B8%B0-%EA%B2%BD%EC%82%AC-%ED%95%98%EA%B0%95%EB%B2%95Gradient-Descent-%EC%86%8C%EA%B0%9C)을 보자."
   ]
  },
  {
   "cell_type": "markdown",
   "metadata": {
    "id": "l6hoOzu1lXJN"
   },
   "source": [
    "2) **단순회귀 모형의 경사하강법**\n",
    "\n",
    "이어서 교재 296쪽의 그림과 그 아래 설명을 읽어보자. 우리는 비용함수를 최소화하는 회귀계수 w의 값을 찾으려고 한다. 가령 단순선형회귀 모형에서 오차제곱평균(MSE, 교재에서는 RSS라고 부르고 R(w)로 나타낸다)를 비용함수로 정했는데 그 비용함수의 모양이 교재 그림과 같다고 하자. 이 함수는 w의 함수이므로 가로축은 w를 나타내고 세로축은 MSE값을 나타낸다. 처음에 우리는 가로축에서 임의로 한 점을 w로 골라 그 값에서 비용함수의 편미분을 구한다. \n",
    "\n",
    "$ \\frac {\\partial}{\\partial w_0 } R(w_0, w_1 ) $ \n",
    "\n",
    "$ \\frac {\\partial}{\\partial w_1 } R(w_0, w_1 ) $\n",
    "\n",
    "두 식의 모양은 교재 296에 나와있다. (위의 [그림](https://velog.io/@sset2323/05-03.-%EB%B9%84%EC%9A%A9-%EC%B5%9C%EC%86%8C%ED%99%94%ED%95%98%EA%B8%B0-%EA%B2%BD%EC%82%AC-%ED%95%98%EA%B0%95%EB%B2%95Gradient-Descent-%EC%86%8C%EA%B0%9C)에도 교재 내용이 나온다.)\n",
    "\n",
    "절차를 정리하면 교재 297과 같다."
   ]
  },
  {
   "cell_type": "markdown",
   "metadata": {
    "id": "_8W-EIWKlXJO"
   },
   "source": [
    "3) 학습률\n",
    "\n",
    "경사하강법에서 가장 중요한 parameter는 학습률이다. 학습률이 너무 작은 값이면 반복계산을 거듭해야하므로 시간이 오래걸린다. 한편 학습률이 너무 크면 찾는 값을 건너뛰어버리는 경우가 생길 수 있다. [그림](https://m.blog.naver.com/PostView.naver?blogId=ollehw&logNo=221517423957&proxyReferer=https:%2F%2Fwww.google.com%2F)을 보라. 또한 최소화해야할 비용함수가 지역 최소값을 갖는다면 처음 시작점 선택에 따라 다른 결과를 얻을 수도 있다. [그림](https://librewiki.net/wiki/%EA%B2%BD%EC%82%AC%ED%95%98%EA%B0%95%EB%B2%95)을 보라.\n",
    "\n",
    "경사하강법은 변수들의 scale에 큰 영향을 받는다. 따라서 StandardScaler 등을 이용한 전처리 과정이 매우 중요하다."
   ]
  },
  {
   "cell_type": "markdown",
   "metadata": {
    "id": "N5-9Mg3elXJP"
   },
   "source": [
    "3) **배치 경사 하강법을 사용한 선형 회귀**\n",
    "\n",
    "경사하강법의 반복 계산 과정에서 `전체 훈련 데이터세트`를 가지고 계산하는 방법. `데이터 규모가 크면 계산 속도가 느려진다.`"
   ]
  },
  {
   "cell_type": "markdown",
   "metadata": {
    "id": "e578X15ilXJQ"
   },
   "source": [
    "**비용 함수의 그레이디언트 벡터**\n",
    "\n",
    "$\n",
    "\\dfrac{\\partial}{\\partial \\boldsymbol{w}} \\text{MSE}(\\boldsymbol{w})\n",
    " = \\dfrac{2}{N} \\mathbf{X}^T (\\mathbf{X} \\boldsymbol{w} - \\mathbf{y})\n",
    "$\n",
    "\n"
   ]
  },
  {
   "cell_type": "markdown",
   "metadata": {
    "id": "njRcAltmrRA9"
   },
   "source": [
    "**경사 하강법의 스텝**\n",
    "\n",
    "$\n",
    "\\boldsymbol{w}^{(\\text{next step})} = \\boldsymbol{w} - \\eta \\dfrac{\\partial}{\\partial \\boldsymbol{w}} \\text{MSE}(\\boldsymbol{w})\n",
    "$\n"
   ]
  },
  {
   "cell_type": "markdown",
   "metadata": {
    "id": "i69YmgMmrfI_"
   },
   "source": [
    "앞에서 만든 100개의 X, y 데이터에 대해 임의의 난수로 회귀계수 w의 초기값을 정한 다음 위의 경사하강법 반복 단계를 1,000회 반복해서 회귀계수를 추정해보자. 학습률은 0.1로 두자.\n"
   ]
  },
  {
   "cell_type": "code",
   "execution_count": 41,
   "metadata": {
    "id": "gRpgoC38-HgP",
    "scrolled": true
   },
   "outputs": [
    {
     "data": {
      "text/plain": [
       "array([[1.        , 1.64622068],\n",
       "       [1.        , 0.05223596],\n",
       "       [1.        , 0.42154128],\n",
       "       [1.        , 1.23684354],\n",
       "       [1.        , 0.19656893],\n",
       "       [1.        , 1.24026262],\n",
       "       [1.        , 0.10778044],\n",
       "       [1.        , 1.92130812],\n",
       "       [1.        , 1.96085875],\n",
       "       [1.        , 1.0422553 ],\n",
       "       [1.        , 1.27310669],\n",
       "       [1.        , 1.5295139 ],\n",
       "       [1.        , 1.52991059],\n",
       "       [1.        , 0.83537116],\n",
       "       [1.        , 1.53761061],\n",
       "       [1.        , 0.8464035 ],\n",
       "       [1.        , 1.85220714],\n",
       "       [1.        , 1.36385297],\n",
       "       [1.        , 0.73691118],\n",
       "       [1.        , 1.71781971],\n",
       "       [1.        , 0.76099136],\n",
       "       [1.        , 0.18990853],\n",
       "       [1.        , 0.64978143],\n",
       "       [1.        , 0.83022437],\n",
       "       [1.        , 1.4845479 ],\n",
       "       [1.        , 1.31581774],\n",
       "       [1.        , 0.40263366],\n",
       "       [1.        , 1.61697583],\n",
       "       [1.        , 1.57280488],\n",
       "       [1.        , 0.78987928],\n",
       "       [1.        , 1.02123247],\n",
       "       [1.        , 1.59231908],\n",
       "       [1.        , 0.89075499],\n",
       "       [1.        , 1.48613382],\n",
       "       [1.        , 0.15749815],\n",
       "       [1.        , 0.97529052],\n",
       "       [1.        , 0.86877729],\n",
       "       [1.        , 0.49211589],\n",
       "       [1.        , 1.72328144],\n",
       "       [1.        , 0.04004512],\n",
       "       [1.        , 0.90165342],\n",
       "       [1.        , 0.09484575],\n",
       "       [1.        , 0.99545499],\n",
       "       [1.        , 1.71754801],\n",
       "       [1.        , 0.66963131],\n",
       "       [1.        , 1.80318006],\n",
       "       [1.        , 0.24577511],\n",
       "       [1.        , 0.31486749],\n",
       "       [1.        , 1.57477058],\n",
       "       [1.        , 1.32987812],\n",
       "       [1.        , 1.44040834],\n",
       "       [1.        , 1.07851065],\n",
       "       [1.        , 0.94389491],\n",
       "       [1.        , 1.80137501],\n",
       "       [1.        , 0.74902502],\n",
       "       [1.        , 1.05557289],\n",
       "       [1.        , 1.38898685],\n",
       "       [1.        , 0.85113653],\n",
       "       [1.        , 1.27715336],\n",
       "       [1.        , 1.18864937],\n",
       "       [1.        , 0.90856196],\n",
       "       [1.        , 1.83155283],\n",
       "       [1.        , 1.48813481],\n",
       "       [1.        , 1.8589716 ],\n",
       "       [1.        , 1.78235598],\n",
       "       [1.        , 0.64066641],\n",
       "       [1.        , 1.3800527 ],\n",
       "       [1.        , 0.11773616],\n",
       "       [1.        , 0.40356773],\n",
       "       [1.        , 1.44612353],\n",
       "       [1.        , 1.50401985],\n",
       "       [1.        , 0.59076225],\n",
       "       [1.        , 1.91689384],\n",
       "       [1.        , 0.00872655],\n",
       "       [1.        , 0.69948428],\n",
       "       [1.        , 0.39496474],\n",
       "       [1.        , 0.87517702],\n",
       "       [1.        , 1.85923134],\n",
       "       [1.        , 0.56049096],\n",
       "       [1.        , 0.8557678 ],\n",
       "       [1.        , 0.93032992],\n",
       "       [1.        , 1.71024763],\n",
       "       [1.        , 1.96877368],\n",
       "       [1.        , 0.95545513],\n",
       "       [1.        , 1.07340873],\n",
       "       [1.        , 1.56440916],\n",
       "       [1.        , 1.62965053],\n",
       "       [1.        , 0.29131027],\n",
       "       [1.        , 0.68645933],\n",
       "       [1.        , 1.39123981],\n",
       "       [1.        , 0.37643876],\n",
       "       [1.        , 0.91084938],\n",
       "       [1.        , 1.94084616],\n",
       "       [1.        , 1.98869158],\n",
       "       [1.        , 1.50101676],\n",
       "       [1.        , 1.02457779],\n",
       "       [1.        , 1.02954468],\n",
       "       [1.        , 0.13834427],\n",
       "       [1.        , 1.94236473],\n",
       "       [1.        , 1.90964082]])"
      ]
     },
     "execution_count": 41,
     "metadata": {},
     "output_type": "execute_result"
    }
   ],
   "source": [
    "X_b"
   ]
  },
  {
   "cell_type": "code",
   "execution_count": 42,
   "metadata": {
    "id": "Tr1J86HJlXJQ"
   },
   "outputs": [
    {
     "data": {
      "text/plain": [
       "array([[ 0.63980761],\n",
       "       [-0.23388038]])"
      ]
     },
     "execution_count": 42,
     "metadata": {},
     "output_type": "execute_result"
    }
   ],
   "source": [
    "eta = 0.1  # 학습률\n",
    "n_iterations = 1000\n",
    "n = 100\n",
    "\n",
    "w = np.random.randn(2,1)  \n",
    "w"
   ]
  },
  {
   "cell_type": "code",
   "execution_count": 43,
   "metadata": {
    "id": "4CCA0bfOlXJR"
   },
   "outputs": [],
   "source": [
    "for iteration in range(n_iterations):\n",
    "    gradients = 2/n * X_b.T.dot(X_b.dot(w) - y)  # 편미분\n",
    "    w = w - eta * gradients"
   ]
  },
  {
   "cell_type": "code",
   "execution_count": 44,
   "metadata": {
    "id": "AatUTAablXJS"
   },
   "outputs": [
    {
     "data": {
      "text/plain": [
       "array([[3.79212432],\n",
       "       [3.16405769]])"
      ]
     },
     "execution_count": 44,
     "metadata": {},
     "output_type": "execute_result"
    }
   ],
   "source": [
    "w"
   ]
  },
  {
   "cell_type": "markdown",
   "metadata": {
    "id": "o1nVh4TslXJT"
   },
   "source": [
    "위의 결과를 앞에서 정규방정식을 풀어서 구한 단순회귀모형 추정결과와 비교해보라. 경사하강법이 쓸 만하겠는가?\n",
    "\n",
    "또한 x가 0일 때, 2일 때 y 값도 예측해보자."
   ]
  },
  {
   "cell_type": "code",
   "execution_count": 45,
   "metadata": {
    "id": "XCBEPNmIlXJU"
   },
   "outputs": [
    {
     "data": {
      "text/plain": [
       "array([[ 3.79212432],\n",
       "       [10.12023969]])"
      ]
     },
     "execution_count": 45,
     "metadata": {},
     "output_type": "execute_result"
    }
   ],
   "source": [
    "X_new_b.dot(w)"
   ]
  },
  {
   "cell_type": "markdown",
   "metadata": {
    "id": "wm-3UwcZlXJU"
   },
   "source": [
    "이번에는 학습률을 0.02, 0.1, 0.5로 바꾸어서 경사하강법을 적용해보자."
   ]
  },
  {
   "cell_type": "code",
   "execution_count": 46,
   "metadata": {
    "id": "WVT_Zn2AlXJV"
   },
   "outputs": [],
   "source": [
    "w_path_bgd = []\n",
    "\n",
    "def plot_gradient_descent(w, eta, w_path=None):\n",
    "    n = len(X_b)\n",
    "    plt.plot(X, y, \"b.\")\n",
    "    n_iterations = 1000\n",
    "    for iteration in range(n_iterations):\n",
    "        if iteration < 10:\n",
    "            y_predict = X_new_b.dot(w)\n",
    "            style = \"b-\" if iteration > 0 else \"r--\"\n",
    "            plt.plot(X_new, y_predict, style)\n",
    "        gradients = 2/n * X_b.T.dot(X_b.dot(w) - y)  # 편미분\n",
    "        w = w - eta * gradients\n",
    "        if w_path is not None:\n",
    "            w_path.append(w)\n",
    "    plt.xlabel(\"x_1\", fontsize=18)\n",
    "    plt.axis([0, 2, 0, 15])\n",
    "    plt.title(r\"$\\eta = {}$\".format(eta), fontsize=16)"
   ]
  },
  {
   "cell_type": "code",
   "execution_count": 47,
   "metadata": {
    "id": "owFmxSh4lXJW",
    "scrolled": true
   },
   "outputs": [
    {
     "data": {
      "image/png": "[encoded data removed]",
      "text/plain": [
       "<Figure size 720x288 with 3 Axes>"
      ]
     },
     "metadata": {
      "needs_background": "light"
     },
     "output_type": "display_data"
    }
   ],
   "source": [
    "np.random.seed(42)\n",
    "w = np.random.randn(2,1)  # random initialization\n",
    "\n",
    "plt.figure(figsize=(10,4))\n",
    "plt.subplot(131); plot_gradient_descent(w, eta=0.02)\n",
    "plt.ylabel(\"$y$\", rotation=0, fontsize=18)\n",
    "plt.subplot(132); plot_gradient_descent(w, eta=0.1, w_path=w_path_bgd)\n",
    "plt.subplot(133); plot_gradient_descent(w, eta=0.5)\n",
    "\n",
    "plt.show()"
   ]
  },
  {
   "cell_type": "markdown",
   "metadata": {
    "id": "ogxOlO0NlXJX"
   },
   "source": [
    "각 그림에서 붉은 선은 맨처음 난수를 뽑아서 임의로 정한 w로 구한 회귀선, 즉 반복작업의 출발점이다. 세 그림을 비교해보자.\n",
    "\n",
    "왼쪽 그림은 학습률이 너무 작아서 최적값을 찾는데 오래 걸릴 것이다. 반면 오른쪽 그림은 학습률이 너무 커서 최적값을 지나쳐 버린다. 가운데 그림이 가장 적절해 보인다.\n",
    "\n",
    "최적 학습률을 구하기 위해 GridSearch 방법을 이용할 수 있다."
   ]
  },
  {
   "cell_type": "markdown",
   "metadata": {
    "id": "_d4xmWddlXJX"
   },
   "source": [
    "4) **확률적 경사 하강법(stochastic gradient descent)**\n",
    "\n",
    "배치경사하강법과 달리 `일부 데이터(랜덤하게 선택한 하나의 데이터)만으로 w를 업데이트하므로 속도가 빠르다. 하지만 결과가 불안정해질 수 있다.` 즉 최적값을 못 찾을 수도 있다.\n"
   ]
  },
  {
   "cell_type": "markdown",
   "metadata": {
    "id": "kRIz_GNilXJa"
   },
   "source": [
    "사이킷런에서는 `linear_model` 안에 있는 `SGDRegresor` 클래스를 이용하면 된다.\n",
    "`LinearRegression()` 과 달리 `SGDRegresor`는 1차원 `y`를 요구하므로 아래와 같이 넘파이 함수 **revel()** 또는 **reshape(-1)** 등을 이용해서 2차원 배열 `y`를 1차원 배열로 바꿔야한다."
   ]
  },
  {
   "cell_type": "code",
   "execution_count": 48,
   "metadata": {
    "id": "GM6Sr9FBlXJa"
   },
   "outputs": [
    {
     "data": {
      "text/plain": [
       "SGDRegressor(eta0=0.1, penalty=None, random_state=42)"
      ]
     },
     "execution_count": 48,
     "metadata": {},
     "output_type": "execute_result"
    }
   ],
   "source": [
    "from sklearn.linear_model import SGDRegressor\n",
    "\n",
    "sgd_reg = SGDRegressor(max_iter=1000, tol=1e-3, penalty=None, eta0=0.1, random_state=42)\n",
    "sgd_reg.fit(X, y.ravel())"
   ]
  },
  {
   "cell_type": "code",
   "execution_count": 49,
   "metadata": {
    "id": "HbC3wELMlXJc"
   },
   "outputs": [
    {
     "data": {
      "text/plain": [
       "(array([3.67284304]), array([3.10292283]))"
      ]
     },
     "execution_count": 49,
     "metadata": {},
     "output_type": "execute_result"
    }
   ],
   "source": [
    "sgd_reg.intercept_, sgd_reg.coef_"
   ]
  },
  {
   "cell_type": "markdown",
   "metadata": {
    "id": "SLsgcyxXlXJh"
   },
   "source": [
    "## 5.5 다항 회귀와 과대적합, 과소적합"
   ]
  },
  {
   "cell_type": "markdown",
   "metadata": {
    "id": "bd5xoq35i4k4"
   },
   "source": [
    "1. 다항회귀의 이해 (교재 311쪽)\n",
    "\n",
    "polynomial (다항식) : 1차직선 뿐 아니라 아닌 2차, 3차 등 `고차항이 포함된 함수 식.`\n",
    "\n",
    "사이킷런에서는 PolynomialFeatures 클래스를 이용하여 변수를 다항식 변수로 변환할 수 있다.\n",
    "\n",
    "자칫하면 모형을 너무 복잡하게 만들 수 있는 방법이다.\n",
    "\n",
    "* 독립변수가 하나인 경우의 다항회귀"
   ]
  },
  {
   "cell_type": "code",
   "execution_count": 9,
   "metadata": {
    "id": "KSFznWL0nZML"
   },
   "outputs": [],
   "source": [
    "import numpy as np"
   ]
  },
  {
   "cell_type": "code",
   "execution_count": 10,
   "metadata": {
    "id": "Y5g1xnvvna0W"
   },
   "outputs": [
    {
     "data": {
      "image/png": "[encoded data removed]",
      "text/plain": [
       "<Figure size 432x288 with 1 Axes>"
      ]
     },
     "metadata": {
      "needs_background": "light"
     },
     "output_type": "display_data"
    }
   ],
   "source": [
    "n = 100\n",
    "np.random.seed(0)\n",
    "X = 6 * np.random.rand(n, 1) -3\n",
    "y = 2* X**2 + X + 3 + np.random.randn(n, 1)*1.5\n",
    "plt.scatter(X, y)\n",
    "plt.show()"
   ]
  },
  {
   "cell_type": "markdown",
   "metadata": {
    "id": "AUpeUUt8A3eb"
   },
   "source": [
    "그림으로 보면 X의 제곱항이 필요해보인다. 이럴 때 `sklearn.preprocessing`의 `PolynomialFeatures` 클래스를 이용하면 쉽게 고차항 feature 변수들을 만들 수 있다."
   ]
  },
  {
   "cell_type": "code",
   "execution_count": 11,
   "metadata": {
    "id": "TzRqmPDIoqZJ"
   },
   "outputs": [],
   "source": [
    "from sklearn.preprocessing import PolynomialFeatures\n",
    "poly = PolynomialFeatures(degree=2, include_bias= False)  # degree=2 : 2차항\n",
    "X_poly = poly.fit_transform(X)"
   ]
  },
  {
   "cell_type": "code",
   "execution_count": 12,
   "metadata": {
    "id": "3QheCZuFpB7n"
   },
   "outputs": [
    {
     "data": {
      "text/plain": [
       "array([0.29288102])"
      ]
     },
     "execution_count": 12,
     "metadata": {},
     "output_type": "execute_result"
    }
   ],
   "source": [
    "X[0]  # x"
   ]
  },
  {
   "cell_type": "code",
   "execution_count": 13,
   "metadata": {
    "id": "HUQ9oZf1pFI2"
   },
   "outputs": [
    {
     "data": {
      "text/plain": [
       "array([0.29288102, 0.08577929])"
      ]
     },
     "execution_count": 13,
     "metadata": {},
     "output_type": "execute_result"
    }
   ],
   "source": [
    "X_poly[0]  # x, x^2"
   ]
  },
  {
   "cell_type": "markdown",
   "metadata": {
    "id": "_zQRrAtqpQNa"
   },
   "source": [
    "즉, 원래 데이터가 $x$였다면 `X_poly`에는 $(x, x^2 )$이 들어있다. 이렇게 2차항까지 확장된 데이터 X_poly를 독립변수로 삼아 사이킷런 LinearRegression을 실행해보자."
   ]
  },
  {
   "cell_type": "code",
   "execution_count": 14,
   "metadata": {
    "id": "TrlvVDulp3oa"
   },
   "outputs": [
    {
     "data": {
      "text/plain": [
       "(array([3.51075113]), array([[0.96859828, 1.92468235]]))"
      ]
     },
     "execution_count": 14,
     "metadata": {},
     "output_type": "execute_result"
    }
   ],
   "source": [
    "lr2 = LinearRegression()\n",
    "lr2.fit(X_poly, y)\n",
    "lr2.intercept_, lr2.coef_"
   ]
  },
  {
   "cell_type": "code",
   "execution_count": 15,
   "metadata": {
    "id": "MV5XQSGdqegP"
   },
   "outputs": [
    {
     "data": {
      "image/png": "[encoded data removed]",
      "text/plain": [
       "<Figure size 432x288 with 1 Axes>"
      ]
     },
     "metadata": {
      "needs_background": "light"
     },
     "output_type": "display_data"
    }
   ],
   "source": [
    "X_new=np.linspace(-3, 3, 100).reshape(100, 1)\n",
    "X_new_poly = poly.transform(X_new)\n",
    "y_new = lr2.predict(X_new_poly)\n",
    "plt.plot(X, y, \"b.\")\n",
    "plt.plot(X_new, y_new, \"r-\", linewidth=2, label=\"Predictions\")\n",
    "plt.xlabel(\"x\", fontsize=18)\n",
    "plt.ylabel(\"y\", rotation=0, fontsize=18)\n",
    "plt.legend(loc=\"upper left\", fontsize=14)\n",
    "plt.axis([-3, 3, 0, 25])\n",
    "\n",
    "plt.show()"
   ]
  },
  {
   "cell_type": "markdown",
   "metadata": {
    "id": "wbuSj2CWrW6W"
   },
   "source": [
    "* 독립변수가 둘 이상인 경우의 다항 회귀"
   ]
  },
  {
   "cell_type": "code",
   "execution_count": 16,
   "metadata": {
    "id": "H4-br0zaj262"
   },
   "outputs": [
    {
     "name": "stdout",
     "output_type": "stream",
     "text": [
      "[[0 1]\n",
      " [2 3]]\n"
     ]
    }
   ],
   "source": [
    "X = np.arange(4).reshape(2,2)\n",
    "print(X )"
   ]
  },
  {
   "cell_type": "markdown",
   "metadata": {
    "id": "3o_g-YaxkIrm"
   },
   "source": [
    "`PolynomialFeatures(degree=2)`라고 지정하면 두 변수 $(x_1 , x_2 )$를 $(1, x_1 , x_2 , x_1^2 , x_1 x_2 , x_2^2 )$로 변환한다. 만일 절편항에 해당하는 맨 앞의 1이 필요없다면 `include_bias= False`라고 지정한다."
   ]
  },
  {
   "cell_type": "code",
   "execution_count": 17,
   "metadata": {
    "id": "uJ7Zwis6gPMs"
   },
   "outputs": [
    {
     "name": "stdout",
     "output_type": "stream",
     "text": [
      "[[1. 0. 1. 0. 0. 1.]\n",
      " [1. 2. 3. 4. 6. 9.]]\n"
     ]
    }
   ],
   "source": [
    "poly = PolynomialFeatures(degree=2)\n",
    "poly.fit(X)\n",
    "poly_ftr = poly.transform(X)\n",
    "print(poly_ftr)"
   ]
  },
  {
   "cell_type": "markdown",
   "metadata": {
    "id": "O9_BsA0Ks6QY"
   },
   "source": [
    "2. 고차 다항회귀와 과대적합\n",
    "\n",
    "아래 코드를 상세히 보지 말고 결과 그림만 보자."
   ]
  },
  {
   "cell_type": "code",
   "execution_count": 18,
   "metadata": {
    "id": "wm3P7ujGB-JI"
   },
   "outputs": [],
   "source": [
    "import numpy as np\n",
    "n = 100\n",
    "np.random.seed(0)\n",
    "X = 6 * np.random.rand(n, 1) -3\n",
    "y = 2* X**2 + X + 3 + np.random.randn(n, 1)*1.5"
   ]
  },
  {
   "cell_type": "code",
   "execution_count": 19,
   "metadata": {
    "id": "ZU1oGKhytEUe"
   },
   "outputs": [
    {
     "name": "stdout",
     "output_type": "stream",
     "text": [
      "degree : 60, MSE : 1.159754561565509\n",
      "degree : 15, MSE : 2.030027352724501\n",
      "degree : 2, MSE : 2.190504762768198\n",
      "degree : 1, MSE : 29.93210521461668\n"
     ]
    },
    {
     "data": {
      "image/png": "[encoded data removed]",
      "text/plain": [
       "<Figure size 576x432 with 1 Axes>"
      ]
     },
     "metadata": {
      "needs_background": "light"
     },
     "output_type": "display_data"
    }
   ],
   "source": [
    "from sklearn.preprocessing import StandardScaler\n",
    "from sklearn.metrics import mean_squared_error\n",
    "from sklearn.pipeline import Pipeline\n",
    "from sklearn.linear_model import LinearRegression\n",
    "plt.figure(figsize = (8, 6))\n",
    "\n",
    "for style, width, degree in ((\"g-\", 1, 60), (\"c-\", 1, 15), (\"b--\", 2, 2), (\"r-+\", 1, 1)):\n",
    "    polybig_features = PolynomialFeatures(degree=degree, include_bias=False)\n",
    "    std_scaler = StandardScaler()\n",
    "    lin_reg = LinearRegression()\n",
    "    polynomial_regression = Pipeline([\n",
    "            (\"poly_features\", polybig_features),\n",
    "            (\"std_scaler\", std_scaler),\n",
    "            (\"lin_reg\", lin_reg),\n",
    "        ])\n",
    "    polynomial_regression.fit(X, y)\n",
    "    pred =  polynomial_regression.predict(X)\n",
    "    mse = mean_squared_error(y, pred)\n",
    "    print(\"degree : {}, MSE : {}\".format(degree, mse))\n",
    "    y_newbig = polynomial_regression.predict(X_new)\n",
    "    plt.plot(X_new, y_newbig, style, label=str(degree), linewidth=width)\n",
    "\n",
    "plt.plot(X, y, \"b.\")\n",
    "plt.legend(loc=\"upper left\")\n",
    "plt.xlabel(\"x\", fontsize=18)\n",
    "plt.ylabel(\"y\", rotation=0, fontsize=18)\n",
    "plt.axis([-3, 3, 0, 25])\n",
    "\n",
    "plt.show()"
   ]
  },
  {
   "cell_type": "markdown",
   "metadata": {
    "id": "YJLzRFOxtzPu"
   },
   "source": [
    "그림을 보면 1차 직선은 데이터의 패턴을 거의 무시하는 과소적합 모델이다. 한편 60차 다항모델은 지나치게 데이터 변화에 민감한 과대적합 모델이다. 이처럼 다항회귀모델의 차수를 높이다보면 과대적합의 가능성이 생긴다. 차수가 높아질수록 MSE는 작아지지만 그 댓가는 복잡한 과대적합 모델이다."
   ]
  },
  {
   "cell_type": "markdown",
   "metadata": {
    "id": "nMExGMcBIz-w"
   },
   "source": [
    "아래 그림들을 통해 1차 직선 모델과 15차 다항 모델의 RMSE 값 변화를 보자."
   ]
  },
  {
   "cell_type": "code",
   "execution_count": 20,
   "metadata": {
    "id": "gm8ho9XrtEUf"
   },
   "outputs": [],
   "source": [
    "from sklearn.metrics import mean_squared_error\n",
    "from sklearn.model_selection import train_test_split\n",
    "\n",
    "def plot_learning_curves(model, X, y):\n",
    "    X_train, X_val, y_train, y_val = train_test_split(X, y, test_size=0.2, random_state=10)\n",
    "    train_errors, val_errors = [], []\n",
    "    for m in range(1, len(X_train)):\n",
    "        model.fit(X_train[:m], y_train[:m])\n",
    "        y_train_predict = model.predict(X_train[:m])\n",
    "        y_val_predict = model.predict(X_val)\n",
    "        train_errors.append(mean_squared_error(y_train[:m], y_train_predict))\n",
    "        val_errors.append(mean_squared_error(y_val, y_val_predict))\n",
    "\n",
    "    plt.plot(np.sqrt(train_errors), \"r-+\", linewidth=2, label=\"train\")\n",
    "    plt.plot(np.sqrt(val_errors), \"b-\", linewidth=3, label=\"val\")\n",
    "    plt.legend(loc=\"upper right\", fontsize=14)   \n",
    "    plt.xlabel(\"Training set size\", fontsize=14) \n",
    "    plt.ylabel(\"RMSE\", fontsize=14)              "
   ]
  },
  {
   "cell_type": "code",
   "execution_count": 21,
   "metadata": {
    "id": "ws4-XRvKHqBN"
   },
   "outputs": [
    {
     "data": {
      "image/png": "[encoded data removed]",
      "text/plain": [
       "<Figure size 432x288 with 1 Axes>"
      ]
     },
     "metadata": {
      "needs_background": "light"
     },
     "output_type": "display_data"
    }
   ],
   "source": [
    "lin_reg = LinearRegression()\n",
    "plot_learning_curves(lin_reg, X, y)\n",
    "plt.axis([0, 80, 0, 10])                         \n",
    "\n",
    "plt.show()                                     "
   ]
  },
  {
   "cell_type": "markdown",
   "metadata": {
    "id": "3q9i2enoK2ls"
   },
   "source": [
    "위의 그림에서 가로축은 독립변수 데이터의 수이고 세로축은 오차의 크기를 나타내는 MSE의 제곱근(RMSE)이다. 훈련데이터와 테스트데이터에서 모두 RMSE 값이 높으므로 이 모델은 과소적합 모델이라고 할 수 있다. 이제 다항회귀를 이용해서 오차를 줄여보자."
   ]
  },
  {
   "cell_type": "code",
   "execution_count": 22,
   "metadata": {
    "id": "VMp7JpjeHqBY"
   },
   "outputs": [
    {
     "data": {
      "image/png": "[encoded data removed]",
      "text/plain": [
       "<Figure size 432x288 with 1 Axes>"
      ]
     },
     "metadata": {
      "needs_background": "light"
     },
     "output_type": "display_data"
    }
   ],
   "source": [
    "from sklearn.pipeline import Pipeline\n",
    "\n",
    "polynomial_regression = Pipeline([\n",
    "        (\"poly_features\", PolynomialFeatures(degree=15, include_bias=False)),\n",
    "        (\"lin_reg\", LinearRegression()),\n",
    "    ])\n",
    "\n",
    "plot_learning_curves(polynomial_regression, X, y)\n",
    "plt.axis([0, 80, 0, 5])           # 책에는 없음\n",
    "\n",
    "plt.show()                        # 책에는 없음"
   ]
  },
  {
   "cell_type": "markdown",
   "metadata": {
    "id": "9tOLw7hPLP9y"
   },
   "source": [
    "위의 그림은 15차 다항 모델에서 train set, test set에서의 RMSE를 그린 것이다. 1차 모형과 달리 두 선 사이에 간극이 있다. 즉 train data에서는 오차가 매우 낮지만 test data에서는 그렇지 않다. 즉 15차 회귀모델은 훈련데이터에 과대적합된 모델이라고 할 수 있다."
   ]
  },
  {
   "cell_type": "markdown",
   "metadata": {
    "id": "-bZKn1--gPMx"
   },
   "source": [
    "## 5.6. 규제가 있는 선형 모델 : Ridge, Lasso, ElasticNet"
   ]
  },
  {
   "cell_type": "markdown",
   "metadata": {
    "id": "gTKrx3UJOSw4"
   },
   "source": [
    "1. 규제 선형 모형(Regularized Linear Models)의 개요 (교재 319쪽)\n",
    "\n",
    "오차제곱합(SSE)를 줄이는 데에 집중하다보면 모델이 복잡해져서 과대적합의 문제가 생긴다. 모델의 복잡도를 줄이는 방법으로는 독립변수의 수를 줄이는 방법도 있고 회귀계수(w)의 영향력을 줄이는 방법도 있다. 여기서는 회귀계수에 규제를 가하는 방법을 알아보자."
   ]
  },
  {
   "cell_type": "markdown",
   "metadata": {
    "id": "sfUnC8SUOXwG"
   },
   "source": [
    "2. 릿지"
   ]
  },
  {
   "cell_type": "markdown",
   "metadata": {
    "id": "Gn9YUuJ3PAM_"
   },
   "source": [
    "**릿지 회귀의 비용 함수**\n",
    "\n",
    "$\n",
    "J(\\boldsymbol{w}) = \\text{MSE}(\\boldsymbol{w}) + \\alpha \\dfrac{1}{2}\\sum\\limits_{i=1}^{n}{w_i}^2\n",
    "$\n",
    "\n",
    "위의 식에서 $\\alpha$의 역할이 중요하다. 그 값이 0이면 비용함수를 작게만드는 것은 MSE만 작게 만드는 것과 같다. 즉 아무 규제없는 최소제곱법으로 모델을 추정하는 것과 같다. 하지만 $\\alpha$ 값이 커지면 MSE 못지 않게 w값들의 크기도 중요해진다. 즉 비용함수를 작게 만들기 위해서는 오차 뿐 아니라 회귀계수 값들도 작게 만들어서 모델이 데이터에 덜 민감하도록, 즉 모델을 덜 복잡하게 만들어야한다. \n",
    "\n",
    "실제 데이터를 가지고 알아보자."
   ]
  },
  {
   "attachments": {},
   "cell_type": "markdown",
   "metadata": {
    "id": "Ao9TA27sYZ6i"
   },
   "source": [
    "* boston 데이터 부르기(현재 사이킷런에서 윤리적인 문제로 삭제됨)"
   ]
  },
  {
   "cell_type": "code",
   "execution_count": 2,
   "metadata": {
    "id": "y9RsYDAzgPMx"
   },
   "outputs": [
    {
     "ename": "ImportError",
     "evalue": "\n`load_boston` has been removed from scikit-learn since version 1.2.\n\nThe Boston housing prices dataset has an ethical problem: as\ninvestigated in [1], the authors of this dataset engineered a\nnon-invertible variable \"B\" assuming that racial self-segregation had a\npositive impact on house prices [2]. Furthermore the goal of the\nresearch that led to the creation of this dataset was to study the\nimpact of air quality but it did not give adequate demonstration of the\nvalidity of this assumption.\n\nThe scikit-learn maintainers therefore strongly discourage the use of\nthis dataset unless the purpose of the code is to study and educate\nabout ethical issues in data science and machine learning.\n\nIn this special case, you can fetch the dataset from the original\nsource::\n\n    import pandas as pd\n    import numpy as np\n\n    data_url = \"http://lib.stat.cmu.edu/datasets/boston\"\n    raw_df = pd.read_csv(data_url, sep=\"\\s+\", skiprows=22, header=None)\n    data = np.hstack([raw_df.values[::2, :], raw_df.values[1::2, :2]])\n    target = raw_df.values[1::2, 2]\n\nAlternative datasets include the California housing dataset and the\nAmes housing dataset. You can load the datasets as follows::\n\n    from sklearn.datasets import fetch_california_housing\n    housing = fetch_california_housing()\n\nfor the California housing dataset and::\n\n    from sklearn.datasets import fetch_openml\n    housing = fetch_openml(name=\"house_prices\", as_frame=True)\n\nfor the Ames housing dataset.\n\n[1] M Carlisle.\n\"Racist data destruction?\"\n<https://medium.com/@docintangible/racist-data-destruction-113e3eff54a8>\n\n[2] Harrison Jr, David, and Daniel L. Rubinfeld.\n\"Hedonic housing prices and the demand for clean air.\"\nJournal of environmental economics and management 5.1 (1978): 81-102.\n<https://www.researchgate.net/publication/4974606_Hedonic_housing_prices_and_the_demand_for_clean_air>\n",
     "output_type": "error",
     "traceback": [
      "\u001b[0;31m---------------------------------------------------------------------------\u001b[0m",
      "\u001b[0;31mImportError\u001b[0m                               Traceback (most recent call last)",
      "\u001b[0;32m<ipython-input-2-cbb6d51d2ece>\u001b[0m in \u001b[0;36m<module>\u001b[0;34m\u001b[0m\n\u001b[1;32m      1\u001b[0m \u001b[0;32mfrom\u001b[0m \u001b[0msklearn\u001b[0m\u001b[0;34m.\u001b[0m\u001b[0mlinear_model\u001b[0m \u001b[0;32mimport\u001b[0m \u001b[0mRidge\u001b[0m\u001b[0;34m\u001b[0m\u001b[0;34m\u001b[0m\u001b[0m\n\u001b[1;32m      2\u001b[0m \u001b[0;32mfrom\u001b[0m \u001b[0msklearn\u001b[0m\u001b[0;34m.\u001b[0m\u001b[0mmodel_selection\u001b[0m \u001b[0;32mimport\u001b[0m \u001b[0mcross_val_score\u001b[0m\u001b[0;34m\u001b[0m\u001b[0;34m\u001b[0m\u001b[0m\n\u001b[0;32m----> 3\u001b[0;31m \u001b[0;32mfrom\u001b[0m \u001b[0msklearn\u001b[0m\u001b[0;34m.\u001b[0m\u001b[0mdatasets\u001b[0m \u001b[0;32mimport\u001b[0m \u001b[0mload_boston\u001b[0m\u001b[0;34m\u001b[0m\u001b[0;34m\u001b[0m\u001b[0m\n\u001b[0m\u001b[1;32m      4\u001b[0m \u001b[0;32mimport\u001b[0m \u001b[0mpandas\u001b[0m \u001b[0;32mas\u001b[0m \u001b[0mpd\u001b[0m\u001b[0;34m\u001b[0m\u001b[0;34m\u001b[0m\u001b[0m\n\u001b[1;32m      5\u001b[0m \u001b[0;32mimport\u001b[0m \u001b[0mnumpy\u001b[0m \u001b[0;32mas\u001b[0m \u001b[0mnp\u001b[0m\u001b[0;34m\u001b[0m\u001b[0;34m\u001b[0m\u001b[0m\n",
      "\u001b[0;32m~/opt/anaconda3/lib/python3.8/site-packages/sklearn/datasets/__init__.py\u001b[0m in \u001b[0;36m__getattr__\u001b[0;34m(name)\u001b[0m\n\u001b[1;32m    154\u001b[0m             \"\"\"\n\u001b[1;32m    155\u001b[0m         )\n\u001b[0;32m--> 156\u001b[0;31m         \u001b[0;32mraise\u001b[0m \u001b[0mImportError\u001b[0m\u001b[0;34m(\u001b[0m\u001b[0mmsg\u001b[0m\u001b[0;34m)\u001b[0m\u001b[0;34m\u001b[0m\u001b[0;34m\u001b[0m\u001b[0m\n\u001b[0m\u001b[1;32m    157\u001b[0m     \u001b[0;32mtry\u001b[0m\u001b[0;34m:\u001b[0m\u001b[0;34m\u001b[0m\u001b[0;34m\u001b[0m\u001b[0m\n\u001b[1;32m    158\u001b[0m         \u001b[0;32mreturn\u001b[0m \u001b[0mglobals\u001b[0m\u001b[0;34m(\u001b[0m\u001b[0;34m)\u001b[0m\u001b[0;34m[\u001b[0m\u001b[0mname\u001b[0m\u001b[0;34m]\u001b[0m\u001b[0;34m\u001b[0m\u001b[0;34m\u001b[0m\u001b[0m\n",
      "\u001b[0;31mImportError\u001b[0m: \n`load_boston` has been removed from scikit-learn since version 1.2.\n\nThe Boston housing prices dataset has an ethical problem: as\ninvestigated in [1], the authors of this dataset engineered a\nnon-invertible variable \"B\" assuming that racial self-segregation had a\npositive impact on house prices [2]. Furthermore the goal of the\nresearch that led to the creation of this dataset was to study the\nimpact of air quality but it did not give adequate demonstration of the\nvalidity of this assumption.\n\nThe scikit-learn maintainers therefore strongly discourage the use of\nthis dataset unless the purpose of the code is to study and educate\nabout ethical issues in data science and machine learning.\n\nIn this special case, you can fetch the dataset from the original\nsource::\n\n    import pandas as pd\n    import numpy as np\n\n    data_url = \"http://lib.stat.cmu.edu/datasets/boston\"\n    raw_df = pd.read_csv(data_url, sep=\"\\s+\", skiprows=22, header=None)\n    data = np.hstack([raw_df.values[::2, :], raw_df.values[1::2, :2]])\n    target = raw_df.values[1::2, 2]\n\nAlternative datasets include the California housing dataset and the\nAmes housing dataset. You can load the datasets as follows::\n\n    from sklearn.datasets import fetch_california_housing\n    housing = fetch_california_housing()\n\nfor the California housing dataset and::\n\n    from sklearn.datasets import fetch_openml\n    housing = fetch_openml(name=\"house_prices\", as_frame=True)\n\nfor the Ames housing dataset.\n\n[1] M Carlisle.\n\"Racist data destruction?\"\n<https://medium.com/@docintangible/racist-data-destruction-113e3eff54a8>\n\n[2] Harrison Jr, David, and Daniel L. Rubinfeld.\n\"Hedonic housing prices and the demand for clean air.\"\nJournal of environmental economics and management 5.1 (1978): 81-102.\n<https://www.researchgate.net/publication/4974606_Hedonic_housing_prices_and_the_demand_for_clean_air>\n"
     ]
    }
   ],
   "source": [
    "from sklearn.linear_model import Ridge\n",
    "from sklearn.model_selection import cross_val_score\n",
    "from sklearn.datasets import load_boston\n",
    "import pandas as pd\n",
    "import numpy as np\n",
    "\n",
    "boston = load_boston()\n",
    "bostonDF = pd.DataFrame(boston.data , columns = boston.feature_names)\n",
    "\n",
    "bostonDF['PRICE'] = boston.target\n",
    "print('Boston 데이타셋 크기 :',bostonDF.shape)\n",
    "\n",
    "y_target = bostonDF['PRICE']\n",
    "X_data = bostonDF.drop(['PRICE'],axis=1,inplace=False)\n",
    "\n",
    "ridge = Ridge(alpha = 10)\n",
    "neg_mse_scores = cross_val_score(ridge, X_data, y_target, scoring=\"neg_mean_squared_error\", cv = 5)\n",
    "rmse_scores  = np.sqrt(-1 * neg_mse_scores)\n",
    "avg_rmse = np.mean(rmse_scores)\n",
    "print(' 5 folds 의 개별 Negative MSE scores: ', np.round(neg_mse_scores, 3))\n",
    "print(' 5 folds 의 개별 RMSE scores : ', np.round(rmse_scores,3))\n",
    "print(' 5 folds 의 평균 RMSE : {0:.3f} '.format(avg_rmse))"
   ]
  },
  {
   "cell_type": "markdown",
   "metadata": {
    "id": "E7neefpAgPMx"
   },
   "source": [
    "* alpha값을 0 , 0.1 , 1 , 10 , 100 으로 변경하면서 RMSE 측정"
   ]
  },
  {
   "cell_type": "code",
   "execution_count": null,
   "metadata": {
    "id": "xUU-spf8gPMy"
   },
   "outputs": [],
   "source": [
    "alphas = [0 , 0.1 , 1 , 10 , 100]\n",
    "\n",
    "for alpha in alphas :\n",
    "    ridge = Ridge(alpha = alpha)\n",
    "    \n",
    "    #cross_val_score를 이용하여 5 fold의 평균 RMSE 계산\n",
    "    neg_mse_scores = cross_val_score(ridge, X_data, y_target, scoring=\"neg_mean_squared_error\", cv = 5)\n",
    "    avg_rmse = np.mean(np.sqrt(-1 * neg_mse_scores))\n",
    "    print('alpha {0} 일 때 5 folds 의 평균 RMSE : {1:.3f} '.format(alpha,avg_rmse))"
   ]
  },
  {
   "cell_type": "markdown",
   "metadata": {
    "id": "HlZ2NL-RgPMy"
   },
   "source": [
    "* 각 alpha에 따른 회귀 계수 값을 시각화"
   ]
  },
  {
   "cell_type": "code",
   "execution_count": null,
   "metadata": {
    "id": "_zB5rcF2gPMy"
   },
   "outputs": [],
   "source": [
    "fig , axs = plt.subplots(figsize=(18,6) , nrows=1 , ncols=5)\n",
    "coeff_df = pd.DataFrame()\n",
    "\n",
    "# alphas 리스트 값을 차례로 입력해 회귀 계수 값 시각화 및 데이터 저장. pos는 axis의 위치 지정\n",
    "for pos , alpha in enumerate(alphas) :\n",
    "    ridge = Ridge(alpha = alpha)\n",
    "    ridge.fit(X_data , y_target)\n",
    "    # alpha에 따른 피처별 회귀 계수를 Series로 변환하고 이를 DataFrame의 컬럼으로 추가.  \n",
    "    coeff = pd.Series(data=ridge.coef_ , index=X_data.columns )\n",
    "    colname='alpha:'+str(alpha)\n",
    "    coeff_df[colname] = coeff\n",
    "    # 막대 그래프로 각 alpha 값에서의 회귀 계수를 시각화. 회귀 계수값이 높은 순으로 표현\n",
    "    coeff = coeff.sort_values(ascending=False)\n",
    "    axs[pos].set_title(colname)\n",
    "    axs[pos].set_xlim(-3,6)\n",
    "    sns.barplot(x=coeff.values , y=coeff.index, ax=axs[pos])\n",
    "\n",
    "# for 문 바깥에서 맷플롯립의 show 호출 및 alpha에 따른 피처별 회귀 계수를 DataFrame으로 표시\n",
    "plt.show()"
   ]
  },
  {
   "cell_type": "markdown",
   "metadata": {
    "id": "e6BdH2MTgPMy"
   },
   "source": [
    "* alpha 값에 따른 컬럼별 회귀계수 출력"
   ]
  },
  {
   "cell_type": "code",
   "execution_count": null,
   "metadata": {
    "id": "-PAuME9mgPMy"
   },
   "outputs": [],
   "source": [
    "ridge_alphas = [0 , 0.1 , 1 , 10 , 100]\n",
    "sort_column = 'alpha:'+str(ridge_alphas[0])\n",
    "coeff_df.sort_values(by=sort_column, ascending=False)"
   ]
  },
  {
   "cell_type": "markdown",
   "metadata": {
    "id": "dE_uLxP2gPMz"
   },
   "source": [
    "3. 라쏘"
   ]
  },
  {
   "cell_type": "markdown",
   "metadata": {
    "id": "vle1UfzUPXI3"
   },
   "source": [
    "**라쏘 회귀의 비용 함수**\n",
    "\n",
    "$\n",
    "J(\\boldsymbol{w}) = \\text{MSE}(\\boldsymbol{w}) + \\alpha \\sum\\limits_{i=1}^{n}\\left| w_i \\right|\n",
    "$"
   ]
  },
  {
   "cell_type": "code",
   "execution_count": null,
   "metadata": {
    "id": "jT59w5a4gPMz"
   },
   "outputs": [],
   "source": [
    "from sklearn.linear_model import Lasso, ElasticNet\n",
    "\n",
    "# alpha값에 따른 회귀 모델의 폴드 평균 RMSE를 출력하고 회귀 계수값들을 DataFrame으로 반환 \n",
    "def get_linear_reg_eval(model_name, params=None, X_data_n=None, y_target_n=None, \n",
    "                        verbose=True, return_coeff=True):\n",
    "    coeff_df = pd.DataFrame()\n",
    "    if verbose : print('####### ', model_name , '#######')\n",
    "    for param in params:\n",
    "        if model_name =='Ridge': model = Ridge(alpha=param)\n",
    "        elif model_name =='Lasso': model = Lasso(alpha=param)\n",
    "        elif model_name =='ElasticNet': model = ElasticNet(alpha=param, l1_ratio=0.7)\n",
    "        neg_mse_scores = cross_val_score(model, X_data_n, \n",
    "                                             y_target_n, scoring=\"neg_mean_squared_error\", cv = 5)\n",
    "        avg_rmse = np.mean(np.sqrt(-1 * neg_mse_scores))\n",
    "        print('alpha {0}일 때 5 폴드 세트의 평균 RMSE: {1:.3f} '.format(param, avg_rmse))\n",
    "        # cross_val_score는 evaluation metric만 반환하므로 모델을 다시 학습하여 회귀 계수 추출\n",
    "        \n",
    "        model.fit(X_data_n , y_target_n)\n",
    "        if return_coeff:\n",
    "            # alpha에 따른 피처별 회귀 계수를 Series로 변환하고 이를 DataFrame의 컬럼으로 추가. \n",
    "            coeff = pd.Series(data=model.coef_ , index=X_data_n.columns )\n",
    "            colname='alpha:'+str(param)\n",
    "            coeff_df[colname] = coeff\n",
    "    \n",
    "    return coeff_df\n",
    "# end of get_linear_regre_eval"
   ]
  },
  {
   "cell_type": "code",
   "execution_count": null,
   "metadata": {
    "id": "kxJleJmngPMz"
   },
   "outputs": [],
   "source": [
    "# 라쏘에 사용될 alpha 파라미터의 값들을 정의하고 get_linear_reg_eval() 함수 호출\n",
    "lasso_alphas = [ 0.07, 0.1, 0.5, 1, 3]\n",
    "coeff_lasso_df =get_linear_reg_eval('Lasso', params=lasso_alphas, X_data_n=X_data, y_target_n=y_target)"
   ]
  },
  {
   "cell_type": "code",
   "execution_count": null,
   "metadata": {
    "id": "SVo07HUKgPMz"
   },
   "outputs": [],
   "source": [
    "print(lasso_alphas)"
   ]
  },
  {
   "cell_type": "code",
   "execution_count": null,
   "metadata": {
    "id": "dgRivk6egPM0"
   },
   "outputs": [],
   "source": [
    "# 반환된 coeff_lasso_df를 첫번째 컬럼순으로 내림차순 정렬하여 회귀계수 DataFrame출력\n",
    "sort_column = 'alpha:'+str(lasso_alphas[0])\n",
    "coeff_lasso_df.sort_values(by=sort_column, ascending=False)"
   ]
  },
  {
   "cell_type": "markdown",
   "metadata": {
    "id": "cL17IApygPM0"
   },
   "source": [
    "4. 엘라스틱넷 회귀"
   ]
  },
  {
   "cell_type": "markdown",
   "metadata": {
    "id": "9dvnpAsTPp5u"
   },
   "source": [
    "**엘라스틱넷 비용 함수**\n",
    "\n",
    "$\n",
    "J(\\boldsymbol{w}) = \\text{MSE}(\\boldsymbol{w}) + r \\alpha \\sum\\limits_{i=1}^{n}\\left| w_i \\right| + \\dfrac{1 - r}{2} \\alpha \\sum\\limits_{i=1}^{n}{{w_i}^2}\n",
    "$"
   ]
  },
  {
   "cell_type": "code",
   "execution_count": null,
   "metadata": {
    "id": "06rJTfc-gPM0"
   },
   "outputs": [],
   "source": [
    "# 엘라스틱넷에 사용될 alpha 파라미터의 값들을 정의하고 get_linear_reg_eval() 함수 호출\n",
    "# l1_ratio는 0.7로 고정\n",
    "elastic_alphas = [ 0.07, 0.1, 0.5, 1, 3]\n",
    "coeff_elastic_df =get_linear_reg_eval('ElasticNet', params=elastic_alphas,\n",
    "                                      X_data_n=X_data, y_target_n=y_target)"
   ]
  },
  {
   "cell_type": "code",
   "execution_count": null,
   "metadata": {
    "id": "n7rtDIlDgPM0"
   },
   "outputs": [],
   "source": [
    "# 반환된 coeff_elastic_df를 첫번째 컬럼순으로 내림차순 정렬하여 회귀계수 DataFrame출력\n",
    "sort_column = 'alpha:'+str(elastic_alphas[0])\n",
    "coeff_elastic_df.sort_values(by=sort_column, ascending=False)"
   ]
  }
 ],
 "metadata": {
  "colab": {
   "collapsed_sections": [],
   "name": "5장_회귀_0531.ipynb",
   "provenance": []
  },
  "kernelspec": {
   "display_name": "Python 3",
   "language": "python",
   "name": "python3"
  },
  "language_info": {
   "codemirror_mode": {
    "name": "ipython",
    "version": 3
   },
   "file_extension": ".py",
   "mimetype": "text/x-python",
   "name": "python",
   "nbconvert_exporter": "python",
   "pygments_lexer": "ipython3",
   "version": "3.8.8"
  }
 },
 "nbformat": 4,
 "nbformat_minor": 1
}
