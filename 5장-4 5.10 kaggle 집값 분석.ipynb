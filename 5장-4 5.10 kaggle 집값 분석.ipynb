{
 "cells": [
  {
   "cell_type": "markdown",
   "metadata": {
    "id": "HE9P5UmuBHBw"
   },
   "source": [
    "## 5.10 캐글 집값 데이터 분석"
   ]
  },
  {
   "cell_type": "markdown",
   "metadata": {},
   "source": [
    "교재 pp. 353-370."
   ]
  },
  {
   "cell_type": "code",
   "execution_count": 1,
   "metadata": {
    "id": "HVcWbn3ei2j6"
   },
   "outputs": [],
   "source": [
    "import pandas as pd\n",
    "import numpy as np\n",
    "import matplotlib.pyplot as plt\n",
    "import seaborn as sns"
   ]
  },
  {
   "cell_type": "code",
   "execution_count": 3,
   "metadata": {
    "id": "DgIwEPXtTgos"
   },
   "outputs": [
    {
     "data": {
      "text/plain": [
       "(1460, 81)"
      ]
     },
     "execution_count": 3,
     "metadata": {},
     "output_type": "execute_result"
    }
   ],
   "source": [
    "data=pd.read_csv('train.csv')\n",
    "data.shape"
   ]
  },
  {
   "cell_type": "markdown",
   "metadata": {
    "id": "JTDeXj6UXw2S"
   },
   "source": [
    "* 데이터 전처리, 선형 회귀"
   ]
  },
  {
   "cell_type": "code",
   "execution_count": null,
   "metadata": {
    "id": "Je7nrHmzZTxQ"
   },
   "outputs": [],
   "source": [
    "print(data.isnull().sum().sort_values(ascending = False))"
   ]
  },
  {
   "cell_type": "markdown",
   "metadata": {
    "id": "iYKIbXZ9IqrO"
   },
   "source": [
    "분석에 사용하지 않는 Id와 결측값이 많은 5개의 변수는 삭제하자."
   ]
  },
  {
   "cell_type": "code",
   "execution_count": null,
   "metadata": {
    "id": "uZAe_Q_UZTt6"
   },
   "outputs": [],
   "source": [
    "drop_data=[\"Id\",\"Alley\",\"PoolQC\",\"MiscFeature\",\"Fence\",\"FireplaceQu\"]\n",
    "data.drop(columns=drop_data, axis=1, inplace=True)\n",
    "data.shape"
   ]
  },
  {
   "cell_type": "markdown",
   "metadata": {
    "id": "HV0GZwMwI9ss"
   },
   "source": [
    "남아있는 수치형 변수의 결측값들은 그 변수의 평균으로 대체하자."
   ]
  },
  {
   "cell_type": "code",
   "execution_count": null,
   "metadata": {
    "id": "81M9WUzfd8x-"
   },
   "outputs": [],
   "source": [
    "data.fillna(data.mean(), inplace = True)"
   ]
  },
  {
   "cell_type": "markdown",
   "metadata": {
    "id": "_ThIfC3qJFYt"
   },
   "source": [
    "범주형 변수는 OneHot 인코딩을 이용해서 수치형 변수로 만들자."
   ]
  },
  {
   "cell_type": "code",
   "execution_count": null,
   "metadata": {
    "id": "eigQDof8j53n"
   },
   "outputs": [],
   "source": [
    "data = pd.get_dummies(data, drop_first=True)\n",
    "data.shape"
   ]
  },
  {
   "cell_type": "markdown",
   "metadata": {
    "id": "DJE5RVpYYPYR"
   },
   "source": [
    "seaborn의 `distplot()`을 이용해서 target 변수의 분포를 그림으로 그려보자."
   ]
  },
  {
   "cell_type": "code",
   "execution_count": null,
   "metadata": {
    "id": "8lVh7RDoKOPc"
   },
   "outputs": [],
   "source": [
    "plt.title('Original Sale Price Histogram')\n",
    "sns.distplot(data['SalePrice'])"
   ]
  },
  {
   "cell_type": "markdown",
   "metadata": {
    "id": "hfLdgVTMYdwP"
   },
   "source": [
    "대칭이 아니라 오른쪽으로 긴 꼬리를 가진 분포다. 로그 변환시켜보자. 아래 코드에서 `np.log1p()` 함수는 $\\log(1+x)$를 계산해준다(왜 $\\log(x)$를 안 썼을까?). 로그 변환 결과 대칭에 가까운 모양이므로 target변수의 변환값을 data frame에 포함시키면 되겠다."
   ]
  },
  {
   "cell_type": "code",
   "execution_count": null,
   "metadata": {
    "id": "plHPiiAAKOPd"
   },
   "outputs": [],
   "source": [
    "plt.title('Log Transformed Sale Price Histogram')\n",
    "log_SalePrice = np.log1p(data['SalePrice'])\n",
    "sns.distplot(log_SalePrice)"
   ]
  },
  {
   "cell_type": "code",
   "execution_count": null,
   "metadata": {
    "id": "ntaiRp2Xa8xP"
   },
   "outputs": [],
   "source": [
    "original_SalePrice = data['SalePrice']\n",
    "data['SalePrice'] = np.log1p(data['SalePrice'])"
   ]
  },
  {
   "cell_type": "code",
   "execution_count": null,
   "metadata": {
    "id": "hK65UMDWgZhI"
   },
   "outputs": [],
   "source": [
    "data.isnull().sum().sum()"
   ]
  },
  {
   "cell_type": "markdown",
   "metadata": {
    "id": "AzQdp-ftml08"
   },
   "source": [
    "결측값이 1개도 없는 것을 알 수 있다."
   ]
  },
  {
   "cell_type": "code",
   "execution_count": null,
   "metadata": {
    "id": "rI5ByWjRlSso"
   },
   "outputs": [],
   "source": [
    "from sklearn.model_selection import train_test_split\n",
    "from sklearn.linear_model import LinearRegression\n",
    "from sklearn.metrics import mean_squared_error , r2_score\n",
    "\n",
    "y_target = data['SalePrice']\n",
    "X_data = data.drop(['SalePrice'], axis=1, inplace=False)\n",
    "\n",
    "X_train , X_test , y_train , y_test = train_test_split(X_data , y_target , random_state=611)"
   ]
  },
  {
   "cell_type": "markdown",
   "metadata": {
    "id": "fQPS4DH_t69L"
   },
   "source": [
    "표준화하지 않은 원 데이터로 선형회귀분석\n"
   ]
  },
  {
   "cell_type": "code",
   "execution_count": null,
   "metadata": {
    "id": "LqXV0K6VpJ7b"
   },
   "outputs": [],
   "source": [
    "lr = LinearRegression()\n",
    "lr.fit(X_train ,y_train)\n",
    "\n",
    "y_preds = lr.predict(X_test)\n",
    "mse = mean_squared_error(y_test, y_preds)\n",
    "rmse = np.sqrt(mse)\n",
    "\n",
    "print('MSE : {0:.3f} , RMSE : {1:.3F}'.format(mse , rmse))\n",
    "print('Variance score : {0:.3f}'.format(r2_score(y_test, y_preds)))\n",
    "\n",
    "#print('절편 값:',lr.intercept_)\n",
    "#print('회귀 계수값:', np.round(lr.coef_, 1))"
   ]
  },
  {
   "cell_type": "markdown",
   "metadata": {
    "id": "Kwe5biWcumh7"
   },
   "source": [
    "회귀계수를 큰 값부터 정렬하여 10개만 보자."
   ]
  },
  {
   "cell_type": "code",
   "execution_count": null,
   "metadata": {
    "id": "WpymuNgypQQR"
   },
   "outputs": [],
   "source": [
    "coeff = pd.Series(lr.coef_, index=X_data.columns )\n",
    "coeff.sort_values(ascending=False)[:10]"
   ]
  },
  {
   "cell_type": "markdown",
   "metadata": {
    "id": "ZGBi0rP1Jt_A"
   },
   "source": [
    "이번에는 feature 변수들을 표준화한 뒤 분석해보자."
   ]
  },
  {
   "cell_type": "code",
   "execution_count": null,
   "metadata": {
    "id": "BhFop2Qz7cmR"
   },
   "outputs": [],
   "source": [
    "from sklearn.preprocessing import StandardScaler\n",
    "scaler = StandardScaler()\n",
    "\n",
    "data_scaled = scaler.fit_transform(data)\n",
    "data_scaled_df = pd.DataFrame(data_scaled, columns = data.columns)\n",
    "data_scaled_df.shape"
   ]
  },
  {
   "cell_type": "code",
   "execution_count": null,
   "metadata": {
    "id": "QE2uWwTp33Wx"
   },
   "outputs": [],
   "source": [
    "y_scaled = data_scaled_df['SalePrice']\n",
    "X_scaled = data_scaled_df.drop(['SalePrice'], axis=1, inplace=False)\n",
    "\n",
    "X_train_scaled , X_test_scaled , y_train_scaled , y_test_scaled = train_test_split(X_scaled , \n",
    "                                                                     y_scaled , random_state=611)"
   ]
  },
  {
   "cell_type": "code",
   "execution_count": null,
   "metadata": {
    "id": "xS7FFRxO343C"
   },
   "outputs": [],
   "source": [
    "X_train_scaled.shape"
   ]
  },
  {
   "cell_type": "code",
   "execution_count": null,
   "metadata": {
    "id": "b7uHRy5Z38RJ"
   },
   "outputs": [],
   "source": [
    "X_test_scaled.shape"
   ]
  },
  {
   "cell_type": "code",
   "execution_count": null,
   "metadata": {
    "id": "NfqVhaiN7cmj"
   },
   "outputs": [],
   "source": [
    "lr = LinearRegression()\n",
    "lr.fit(X_train_scaled, y_train_scaled)\n",
    "y_preds = lr.predict(X_test_scaled)\n",
    "\n",
    "mse = mean_squared_error(y_test_scaled, y_preds)\n",
    "rmse = np.sqrt(mse)\n",
    "\n",
    "print('MSE : {0:.3f} , RMSE : {1:.3F}'.format(mse , rmse))\n",
    "# print('Variance score : {0:.3f}'.format(r2_score(y_test_scaled, y_preds)))\n",
    "print('훈련 데이터 점수:{0:.3f}'.format(lr.score(X_train_scaled, y_train_scaled)))\n",
    "print('test 데이터 점수:{0:.3f}'.format(lr.score(X_test_scaled, y_test_scaled)))\n",
    "#print('절편 값:',lr.intercept_)\n",
    "#print('회귀 계수값:', np.round(lr.coef_, 1))"
   ]
  },
  {
   "cell_type": "markdown",
   "metadata": {
    "id": "B8-RhQRe8h0M"
   },
   "source": [
    "아주 이상한 결과가 나왔다. 무엇이 문제일까? test data에서의 잔차들을 살펴보자."
   ]
  },
  {
   "cell_type": "code",
   "execution_count": null,
   "metadata": {
    "id": "_bN0_f767cml"
   },
   "outputs": [],
   "source": [
    "(y_test_scaled - y_preds)"
   ]
  },
  {
   "cell_type": "code",
   "execution_count": null,
   "metadata": {
    "id": "tcjB1G3y7cmm"
   },
   "outputs": [],
   "source": [
    "plt.scatter(y_test_scaled, y_preds)\n",
    "\n",
    "plt.show()"
   ]
  },
  {
   "cell_type": "markdown",
   "metadata": {
    "id": "FlBF-zyb8wzu"
   },
   "source": [
    "그림을 보니 어마어마하게 큰 예측값들이 몇 개 있다. 큰 값들을 제외하고 다시 그려보자."
   ]
  },
  {
   "cell_type": "code",
   "execution_count": null,
   "metadata": {
    "id": "5M4Bo39T7cmm"
   },
   "outputs": [],
   "source": [
    "plt.scatter(y_test_scaled, y_preds)\n",
    "plt.axis([-3, 5, -4, 4])\n",
    "plt.show()"
   ]
  },
  {
   "cell_type": "markdown",
   "metadata": {
    "id": "aV624DwI9PWC"
   },
   "source": [
    "위의 그림을 보면 회귀모형은 좋은 모형인 것 같다. 즉 비정상적인 몇 개 데이터를 찾아서 적절한 조치를 하면 되겠다. "
   ]
  },
  {
   "cell_type": "code",
   "execution_count": null,
   "metadata": {
    "id": "-XAlv6P97cmn"
   },
   "outputs": [],
   "source": [
    "np.abs(y_preds).max()"
   ]
  },
  {
   "cell_type": "code",
   "execution_count": null,
   "metadata": {
    "id": "4p1xtew37cmo"
   },
   "outputs": [],
   "source": [
    "np.abs(y_test_scaled - y_preds).max()"
   ]
  },
  {
   "cell_type": "code",
   "execution_count": null,
   "metadata": {
    "id": "LBbYIPPn7cmp"
   },
   "outputs": [],
   "source": [
    "(np.abs(y_test_scaled - y_preds) >2).sum()"
   ]
  },
  {
   "cell_type": "code",
   "execution_count": null,
   "metadata": {
    "id": "sE5ciXFM7cmq"
   },
   "outputs": [],
   "source": [
    "y_test_adj = y_test_scaled[np.abs(y_test_scaled - y_preds) <2]\n",
    "X_test_adj = X_test_scaled[np.abs(y_test_scaled - y_preds) < 2]\n",
    "\n",
    "y_p_adj = y_preds[np.abs(y_test_scaled - y_preds) <2]\n",
    "\n",
    "X_test_adj.shape"
   ]
  },
  {
   "cell_type": "code",
   "execution_count": null,
   "metadata": {
    "id": "vBdsGp1UpWNp"
   },
   "outputs": [],
   "source": [
    "mse = mean_squared_error(y_test_adj, y_p_adj)\n",
    "rmse = np.sqrt(mse)\n",
    "\n",
    "print('MSE : {0:.3f} , RMSE : {1:.3F}'.format(mse , rmse))\n",
    "print('Variance score : {0:.3f}'.format(r2_score(y_test_adj, y_p_adj)))"
   ]
  },
  {
   "cell_type": "markdown",
   "metadata": {
    "id": "qr4ZKZZT9oU7"
   },
   "source": [
    "테스트 데이터에서 비정상적인 예측값이 나온 데이터를 제외하고 보니 결정계수가 높아졌다. 문제가 된 데이터를 찾아보자."
   ]
  },
  {
   "cell_type": "code",
   "execution_count": null,
   "metadata": {
    "id": "CLpH-jG87cms"
   },
   "outputs": [],
   "source": [
    "ind = X_test_scaled[np.abs(y_test_scaled - y_preds) >2].index\n",
    "(y_test_scaled-y_preds)[ind]"
   ]
  },
  {
   "cell_type": "markdown",
   "metadata": {
    "id": "J6biDKWN-BGY"
   },
   "source": [
    "그런데 이상한 데이터가 test data에만 들어있을까? "
   ]
  },
  {
   "cell_type": "code",
   "execution_count": null,
   "metadata": {
    "id": "Is-CV8mN-IGy"
   },
   "outputs": [],
   "source": [
    "y_preds_tr = lr.predict(X_train_scaled)\n",
    "\n",
    "mse = mean_squared_error(y_train_scaled, y_preds_tr)\n",
    "rmse = np.sqrt(mse)"
   ]
  },
  {
   "cell_type": "code",
   "execution_count": null,
   "metadata": {
    "id": "dvVJK8Jz-Tm0"
   },
   "outputs": [],
   "source": [
    "print('MSE : {0:.3f} , RMSE : {1:.3F}'.format(mse , rmse))\n",
    "print('Variance score : {0:.3f}'.format(r2_score(y_train_scaled, y_preds_tr)))"
   ]
  },
  {
   "cell_type": "code",
   "execution_count": null,
   "metadata": {
    "id": "yHWRYp_cWKIm"
   },
   "outputs": [],
   "source": [
    "(abs(y_train_scaled- y_preds_tr) > 2).sum()"
   ]
  },
  {
   "cell_type": "markdown",
   "metadata": {
    "id": "1R0XW2cR-uGL"
   },
   "source": [
    "train data에서는 MSE, 결정계수값이 아주 좋다. 그런데 test data에서는 다른 결과가 나오는 것으로 볼 때 우리가 만든 회귀모델은 과적합 모델로 판단된다. 그렇다고 해서 아주 나쁜 모델이라고 할 수는 없다. 테스트 데이터에서의 나쁜 성능은 모델보다는 test data에 들어있는 몇몇 특별한 이상치 데이터때문에 생겼기 때문이다.\n",
    "\n",
    "이제 해야할 일은 위의 분석 결과 등을 이용해서 극단적으로 큰 오차가 생기는 이상치 데이터들을 찾아 그 데이터들을 제외한 다음 다시 회귀 모델을 만드는 것이다.  "
   ]
  },
  {
   "cell_type": "markdown",
   "metadata": {
    "id": "kK6hXcnIAdot"
   },
   "source": [
    "그런데 앞서 scale 전처리를 하지 않았을 때에는 이런 극단적인 문제가 생기지 않았다. 하지만 역시 test data에서의 결정계수 값이 상당히 낮은 값이므로 이상치 데이터들이 모델의 성능에 나쁜 영향을 미쳤다고 볼 수 있다. 전처리가 문제가 아니라 이상치가 문제다.\n"
   ]
  },
  {
   "cell_type": "markdown",
   "metadata": {
    "id": "dc01tU1obcF7"
   },
   "source": [
    "이번에는 표준화하지 않은 원 데이터에서도 이상치를 찾아보자."
   ]
  },
  {
   "cell_type": "code",
   "execution_count": null,
   "metadata": {
    "id": "n75Ml7qlb3_G"
   },
   "outputs": [],
   "source": [
    "y_preds = lr.predict(X_test)\n",
    "plt.scatter(y_test, y_preds)\n",
    "plt.show()"
   ]
  },
  {
   "cell_type": "code",
   "execution_count": null,
   "metadata": {
    "id": "nUyn-axOdB-m"
   },
   "outputs": [],
   "source": [
    "lr.fit(X_train ,y_train)\n",
    "print('훈련데이터 점수: {0:.3f}'.format(lr.score(X_train, y_train)))\n",
    "print('test 데이터 점수: {0:.3f}'.format(lr.score(X_test, y_test)))"
   ]
  },
  {
   "cell_type": "code",
   "execution_count": null,
   "metadata": {
    "id": "hJutb4NRnaTo"
   },
   "outputs": [],
   "source": [
    "coef = pd.Series(lr.coef_, index = X_data.columns)\n",
    "coef_h = coef.sort_values(ascending = False).head(10)\n",
    "coef_l = coef.sort_values(ascending = False).tail(10)\n",
    "coef_hl = pd.concat([coef_h, coef_l])\n",
    "sns.barplot(x=coef_hl.values, y=coef_hl.index)"
   ]
  },
  {
   "cell_type": "code",
   "execution_count": null,
   "metadata": {
    "id": "EtJzj99BbgPQ"
   },
   "outputs": [],
   "source": [
    "y_preds = lr.predict(X_test)\n",
    "\n",
    "(np.abs(y_test - y_preds) > 1).sum()"
   ]
  },
  {
   "cell_type": "markdown",
   "metadata": {
    "id": "20pri2WgeFHw"
   },
   "source": [
    "잔차가 큰 데이터들을 test data에서 제외하면?"
   ]
  },
  {
   "cell_type": "code",
   "execution_count": null,
   "metadata": {
    "id": "irt7TgS0cf4B"
   },
   "outputs": [],
   "source": [
    "y_test_a = y_test[np.abs(y_test - y_preds) < 1]\n",
    "X_test_a = X_test[np.abs(y_test - y_preds) < 1]\n",
    "\n",
    "print('훈련데이터 점수: {0:.3f}'.format(lr.score(X_train, y_train)))\n",
    "print('test 데이터 점수: {0:.3f}'.format(lr.score(X_test_a, y_test_a)))"
   ]
  },
  {
   "cell_type": "markdown",
   "metadata": {
    "id": "R7EnSbmTeROp"
   },
   "source": [
    "잔차가 큰 데이터를 제외했더니 예상대로 상당히 성능이 좋아졌다."
   ]
  },
  {
   "cell_type": "markdown",
   "metadata": {
    "id": "ZUtjH9WbzMx4"
   },
   "source": [
    "* ridge, lasso\n",
    "\n",
    "과대적합이 생긴 모델의 복잡도를 낮추기 위해 규제가 있는 모델을 이용해보자. 데이터는 위에서 찾은 이상치들을 제외하고 표준화하지 않은 원 데이터를 이용한다."
   ]
  },
  {
   "cell_type": "markdown",
   "metadata": {
    "id": "bZ4U9lmBRRax"
   },
   "source": [
    "**ridge 회귀**"
   ]
  },
  {
   "cell_type": "code",
   "execution_count": null,
   "metadata": {
    "id": "LoDg0qltW-72"
   },
   "outputs": [],
   "source": [
    "from sklearn.linear_model import Ridge\n",
    "\n",
    "ridge = Ridge(alpha = 0.1)\n",
    "ridge.fit(X_train, y_train)"
   ]
  },
  {
   "cell_type": "markdown",
   "metadata": {
    "id": "aBQJtemhW-73"
   },
   "source": [
    "훈련 데이터와 테스트데이터에서 $R^2 $ 값을 구해보자."
   ]
  },
  {
   "cell_type": "code",
   "execution_count": null,
   "metadata": {
    "id": "zGAhbgVvW-73"
   },
   "outputs": [],
   "source": [
    "print('훈련 데이터 점수: {}'.format(ridge.score(X_train, y_train)))\n",
    "print('test 데이터 점수: {}'.format(ridge.score(X_test_a, y_test_a)))"
   ]
  },
  {
   "cell_type": "code",
   "execution_count": null,
   "metadata": {
    "id": "zgHAAQFbm8IA"
   },
   "outputs": [],
   "source": [
    "coef = pd.Series(ridge.coef_, index = X_data.columns)\n",
    "coef_h = coef.sort_values(ascending = False).head(10)\n",
    "coef_l = coef.sort_values(ascending = False).tail(10)\n",
    "coef_hl = pd.concat([coef_h, coef_l])\n",
    "sns.barplot(x=coef_hl.values, y=coef_hl.index)"
   ]
  },
  {
   "cell_type": "markdown",
   "metadata": {
    "id": "Y31-7tD0fBQQ"
   },
   "source": [
    "훈련데이터에 대해 다소 과대적합되었다고 보고 알파값을 크게 해보자."
   ]
  },
  {
   "cell_type": "code",
   "execution_count": null,
   "metadata": {
    "id": "0kHnX65oW-74"
   },
   "outputs": [],
   "source": [
    "ridge = Ridge(alpha = 1)\n",
    "ridge.fit(X_train, y_train)\n",
    "\n",
    "print('훈련 데이터 점수: {}'.format(ridge.score(X_train, y_train)))\n",
    "print('test 데이터 점수: {}'.format(ridge.score(X_test_a, y_test_a)))"
   ]
  },
  {
   "cell_type": "code",
   "execution_count": null,
   "metadata": {
    "id": "rE0e0LS6fP1G"
   },
   "outputs": [],
   "source": [
    "ridge = Ridge(alpha = 5)\n",
    "ridge.fit(X_train, y_train)\n",
    "\n",
    "print('훈련 데이터 점수: {}'.format(ridge.score(X_train, y_train)))\n",
    "print('test 데이터 점수: {}'.format(ridge.score(X_test_a, y_test_a)))"
   ]
  },
  {
   "cell_type": "code",
   "execution_count": null,
   "metadata": {
    "id": "fRwFRlYPfP1H"
   },
   "outputs": [],
   "source": [
    "ridge = Ridge(alpha = 10)\n",
    "ridge.fit(X_train, y_train)\n",
    "\n",
    "print('훈련 데이터 점수: {}'.format(ridge.score(X_train, y_train)))\n",
    "print('test 데이터 점수: {}'.format(ridge.score(X_test_a, y_test_a)))"
   ]
  },
  {
   "cell_type": "code",
   "execution_count": null,
   "metadata": {
    "id": "3QxLHLifmExX"
   },
   "outputs": [],
   "source": [
    "coef = pd.Series(ridge.coef_, index = X_data.columns)\n",
    "coef_h = coef.sort_values(ascending = False).head(10)\n",
    "coef_l = coef.sort_values(ascending = False).tail(10)\n",
    "coef_hl = pd.concat([coef_h, coef_l])\n",
    "sns.barplot(x=coef_hl.values, y=coef_hl.index)"
   ]
  },
  {
   "cell_type": "markdown",
   "metadata": {
    "id": "RtA4TBbwW-74"
   },
   "source": [
    "**lasso 회귀**"
   ]
  },
  {
   "cell_type": "code",
   "execution_count": null,
   "metadata": {
    "id": "aX4LtVRCW-74"
   },
   "outputs": [],
   "source": [
    "from sklearn.linear_model import Lasso\n",
    "\n",
    "lasso = Lasso(alpha=0.0001)\n",
    "lasso.fit(X_train, y_train)"
   ]
  },
  {
   "cell_type": "code",
   "execution_count": null,
   "metadata": {
    "id": "XOatI9C2W-75"
   },
   "outputs": [],
   "source": [
    "print('훈련 데이터 점수: {}'.format(lasso.score(X_train, y_train)))\n",
    "print('test 데이터 점수: {}'.format(lasso.score(X_test_a, y_test_a)))\n",
    "print(\"모델에서 이용한 변수의 수: {}\".format(np.sum(lasso.coef_ != 0)))"
   ]
  },
  {
   "cell_type": "code",
   "execution_count": null,
   "metadata": {
    "id": "lkqFr-yDlx3V"
   },
   "outputs": [],
   "source": [
    "coef = pd.Series(lasso.coef_, index = X_data.columns)\n",
    "coef_h = coef.sort_values(ascending = False).head(10)\n",
    "coef_l = coef.sort_values(ascending = False).tail(10)\n",
    "coef_hl = pd.concat([coef_h, coef_l])\n",
    "sns.barplot(x=coef_hl.values, y=coef_hl.index)"
   ]
  },
  {
   "cell_type": "markdown",
   "metadata": {
    "id": "0OuTqqXXgjAv"
   },
   "source": [
    "과적합 모델이라고 할 수 있다. 알파값을 크게 해보자."
   ]
  },
  {
   "cell_type": "code",
   "execution_count": null,
   "metadata": {
    "id": "D5xT5T1Zg1MV"
   },
   "outputs": [],
   "source": [
    "lasso = Lasso(alpha=0.001)\n",
    "lasso.fit(X_train, y_train)\n",
    "\n",
    "print('훈련 데이터 점수: {}'.format(lasso.score(X_train, y_train)))\n",
    "print('test 데이터 점수: {}'.format(lasso.score(X_test_a, y_test_a)))\n",
    "print(\"모델에서 이용한 변수의 수: {}\".format(np.sum(lasso.coef_ != 0)))"
   ]
  },
  {
   "cell_type": "code",
   "execution_count": null,
   "metadata": {
    "id": "wtf0Vvnwg6hc"
   },
   "outputs": [],
   "source": [
    "coef = pd.Series(lasso.coef_, index = X_data.columns)\n",
    "coef_h = coef.sort_values(ascending = False).head(10)\n",
    "coef_l = coef.sort_values(ascending = False).tail(10)\n",
    "coef_hl = pd.concat([coef_h, coef_l])\n",
    "sns.barplot(x=coef_hl.values, y=coef_hl.index)"
   ]
  },
  {
   "cell_type": "code",
   "execution_count": null,
   "metadata": {
    "id": "0CkMSV6bh0Cj"
   },
   "outputs": [],
   "source": []
  }
 ],
 "metadata": {
  "colab": {
   "name": "회귀_0611_수업자료.ipynb",
   "provenance": []
  },
  "kernelspec": {
   "display_name": "Python 3",
   "language": "python",
   "name": "python3"
  },
  "language_info": {
   "codemirror_mode": {
    "name": "ipython",
    "version": 3
   },
   "file_extension": ".py",
   "mimetype": "text/x-python",
   "name": "python",
   "nbconvert_exporter": "python",
   "pygments_lexer": "ipython3",
   "version": "3.8.5"
  }
 },
 "nbformat": 4,
 "nbformat_minor": 1
}
