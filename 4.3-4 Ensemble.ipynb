{
 "cells": [
  {
   "cell_type": "markdown",
   "metadata": {
    "id": "X-gPideJy0mf"
   },
   "source": [
    "## 4.3 Ensemble"
   ]
  },
  {
   "cell_type": "markdown",
   "metadata": {
    "id": "0b3wVysY1qa4"
   },
   "source": [
    "### 1. 앙상블학습이란?"
   ]
  },
  {
   "cell_type": "markdown",
   "metadata": {
    "id": "2UDVdKoqy8eE"
   },
   "source": [
    "1) `아이디어` : **협동**\n",
    "\n",
    "\"어떤 일을 혼자 다 하는 것보다 `서로 다른 여럿이` 함께 하면 더 잘 된다.\"\n",
    "\n",
    "이유는?\n",
    "\n",
    "각자 부족한 점을 서로 메워줄 수 있기 때문에.\n",
    "\n",
    "머신러닝 알고리즘이 하는 일도 마찬가지 아닐까? 알고리즘마다 각각 장점, 단점을 갖고 있으니 한 가지만으로 분석하는 것보다는 여러 알고리즘을 함께 이용하면 더 성능좋은 방법이 생기지 않을까?\n",
    "\n"
   ]
  },
  {
   "cell_type": "markdown",
   "metadata": {
    "id": "OZul3bWc10sH"
   },
   "source": [
    "* Ensemble : 어려운 문제의 답을 한 사람에게 물어보기보다는 많은 사람들에게 물어보면(집단 지성을 동원해서) 더 좋은 결과가 나올 것이다. 앙상블을 이용한 분류 학습은 여러 개의 분류기를 만들어 예측한 다음 그 결과를 결합하여 개별 분류기의 예측보다 성능 좋은 결과를 얻으려고 한다."
   ]
  },
  {
   "cell_type": "markdown",
   "metadata": {
    "id": "V4whKfz52E-g"
   },
   "source": [
    "2) `앙상블 학습의 유형`\n",
    " + voting\n",
    " + bagging\n",
    " + boosting \n",
    " + stacking\n",
    " + ...\n",
    "\n",
    "\n"
   ]
  },
  {
   "cell_type": "markdown",
   "metadata": {
    "id": "GcYnTSk18zUG"
   },
   "source": [
    "3) `앙상블 분류 학습` : 여러 개의 분류기를 만들어서 예측결과들을 결합함으로써 단일 분류방법보다 나은 예측을 하는 기법\n",
    "\n",
    "* 앙상블 분류의 종류\n",
    " + **Random Forest** : 의사결정트리 알고리즘을 이용한 배깅\n",
    " + Gradient Boosting\n",
    " + XGBoost (eXtra Gradient Boost)\n",
    " + LightGBM (Light Gradient Boost)\n",
    " + Stacking"
   ]
  },
  {
   "cell_type": "markdown",
   "metadata": {
    "id": "MX1QnRNP9L2Z"
   },
   "source": [
    "### 2. 보팅과 배깅\n",
    " \n",
    "1) `보팅과 배깅의 차이`\n",
    " + **voting** : `서로 다른 알고리즘`을 하나의 데이터세트에 적용하고 그 결과를 투표를 통해 결합.\n",
    " + **bagging** (bootstrap + aggregating): `붓스트래핑 방법`(복원 추출)으로 데이터를 샘플링한 다음 같은 종류의 알고리즘을 데이터마다 적용하고 그 결과를 투표를 통해 결합. \n",
    "\n",
    "보팅과 배깅의 다른 점을 [그림](https://velog.io/@jiselectric/Ensemble-Learning-Voting-and-Bagging-at6219ae)을 참조해서 이해하자.\n",
    "\n",
    "\n",
    " 2) `하드보팅과 소프트보팅`\n",
    "(분류의 경우를 예로 들어 설명)\n",
    "\n",
    " + **hard voting** : 다수결 방식 투표, 여러 분류기들이 예측한 결과 가운데 가장 많은 분류기가 예측한 결과로 최종 예측값을 결정.\n",
    " + **soft voting** : target 변수의 범주별로 각 분류기들이 계산한 예측 확률을 모두 더해서 그 값이 가장 높은 결과를 최종 예측값으로 결정.\n",
    "\n",
    " [그림](https://velog.io/@jiselectric/Ensemble-Learning-Voting-and-Bagging-at6219ae) 참조. (교재 214쪽 그림)\n",
    "\n"
   ]
  },
  {
   "cell_type": "markdown",
   "metadata": {
    "id": "sPhx2yWUK16L"
   },
   "source": [
    "### 3. voting ensemble 방법을 이용한 손글씨 데이터 분석 실습 \n",
    "\n",
    "knn(최근접 이웃), logistic regression(목표변수가 범주형)은 의사결정트리와 더불어 널리 이용되는 분류 알고리즘이다.\n",
    "\n",
    "의사결정트리, knn, logistic regression 모델의 앙상블로 손글씨 숫자를 분류할 때와 개별 분류방법 단독으로 숫자를 분류할 때 결과를 비교해보자."
   ]
  },
  {
   "cell_type": "markdown",
   "metadata": {
    "id": "GH1XHTbtyo2P"
   },
   "source": [
    "* 라이브러리 불러오기 \n",
    "\n",
    "사이킷런의 `tree, neighbors, linear_model` 모듈에서 필요한 클래스를 불러온다. 또한 사이킷런 `ensemble` 모듈에서 보팅 분류를 위한 클래스 `VotingClassifier`를 불러온다. `model_selection` 안에 있는 `train_test_split`, `metrics` 모듈 안에 있는 `accuracy_score` 역시 데이터 분할과 모델 성능 평가를 위해 필요하다."
   ]
  },
  {
   "cell_type": "code",
   "execution_count": 1,
   "metadata": {
    "id": "3jBFndT5yo2R"
   },
   "outputs": [],
   "source": [
    "from sklearn import datasets\n",
    "from sklearn import tree\n",
    "from sklearn.neighbors import KNeighborsClassifier\n",
    "from sklearn.linear_model import LogisticRegression\n",
    "from sklearn.ensemble import VotingClassifier\n",
    "\n",
    "from sklearn.model_selection import train_test_split\n",
    "from sklearn.metrics import accuracy_score\n",
    "import warnings\n",
    "warnings.filterwarnings(action='ignore') \n",
    "\n",
    "import numpy as np\n",
    "np.random.seed(5)"
   ]
  },
  {
   "cell_type": "markdown",
   "metadata": {
    "id": "kt1zIGB5yo2S"
   },
   "source": [
    "* MNIST 손글씨 데이터 불러오기\n",
    "\n",
    "예제로 이용할 유명한 [**MNIST 데이터베이스**](https://en.wikipedia.org/wiki/MNIST_database) (Modified National Institute of Standards and Technology database)는 사람들이 손으로 쓴 0부터 9까지 열 개 숫자 글씨를 이미지 파일로 만든 것이다. 이 데이터는 이미지를 판독하는 머신러닝의 성능을 알아볼 때 널리 쓰인다. [사이킷런의 설명](https://scikit-learn.org/stable/modules/generated/sklearn.datasets.load_digits.html#sklearn.datasets.load_digits)을 잠시 보자. \n",
    "\n",
    "교재에서 이용할 데이터는 `from sklearn.datasets import load_digits`와 같이 불러올 수 있다."
   ]
  },
  {
   "cell_type": "code",
   "execution_count": 2,
   "metadata": {
    "id": "b4y2vA8CQNxa"
   },
   "outputs": [
    {
     "data": {
      "text/plain": [
       "sklearn.utils.Bunch"
      ]
     },
     "execution_count": 2,
     "metadata": {},
     "output_type": "execute_result"
    }
   ],
   "source": [
    "from sklearn.datasets import load_digits\n",
    "mnist = load_digits()\n",
    "type(mnist)"
   ]
  },
  {
   "cell_type": "markdown",
   "metadata": {
    "id": "HJgHT1lJOp0T"
   },
   "source": [
    "Bunch type 데이터 `mnist`에 어떤 키들이 있는지 확인해보자.\n"
   ]
  },
  {
   "cell_type": "code",
   "execution_count": 3,
   "metadata": {
    "id": "kByVFQn_P261"
   },
   "outputs": [
    {
     "data": {
      "text/plain": [
       "dict_keys(['data', 'target', 'frame', 'feature_names', 'target_names', 'images', 'DESCR'])"
      ]
     },
     "execution_count": 3,
     "metadata": {},
     "output_type": "execute_result"
    }
   ],
   "source": [
    "mnist.keys()"
   ]
  },
  {
   "cell_type": "code",
   "execution_count": 4,
   "metadata": {
    "id": "aToKSBs2rOpp"
   },
   "outputs": [
    {
     "data": {
      "text/plain": [
       "array([0, 1, 2, 3, 4, 5, 6, 7, 8, 9])"
      ]
     },
     "execution_count": 4,
     "metadata": {},
     "output_type": "execute_result"
    }
   ],
   "source": [
    "mnist.target_names"
   ]
  },
  {
   "cell_type": "code",
   "execution_count": 5,
   "metadata": {
    "id": "P_wsoUKhrZKJ"
   },
   "outputs": [
    {
     "data": {
      "text/plain": [
       "array([0, 1, 2, 3, 4, 5, 6, 7, 8, 9, 0, 1, 2, 3, 4, 5, 6, 7, 8, 9, 0, 1,\n",
       "       2, 3, 4, 5, 6, 7, 8, 9])"
      ]
     },
     "execution_count": 5,
     "metadata": {},
     "output_type": "execute_result"
    }
   ],
   "source": [
    "mnist.target[:30]"
   ]
  },
  {
   "cell_type": "code",
   "execution_count": 6,
   "metadata": {
    "id": "hg9yI0cisCMQ"
   },
   "outputs": [
    {
     "data": {
      "text/plain": [
       "array([0, 8])"
      ]
     },
     "execution_count": 6,
     "metadata": {},
     "output_type": "execute_result"
    }
   ],
   "source": [
    "mnist.target[[0, -1]] "
   ]
  },
  {
   "cell_type": "code",
   "execution_count": 7,
   "metadata": {
    "id": "h83NskN6P44p"
   },
   "outputs": [
    {
     "name": "stdout",
     "output_type": "stream",
     "text": [
      "(1797, 64)\n"
     ]
    }
   ],
   "source": [
    "print(mnist.data.shape)"
   ]
  },
  {
   "cell_type": "code",
   "execution_count": 8,
   "metadata": {
    "id": "2rWQ7eAUSJ57"
   },
   "outputs": [
    {
     "name": "stdout",
     "output_type": "stream",
     "text": [
      "[[ 0.  0.  5. ...  0.  0.  0.]\n",
      " [ 0.  0.  0. ... 10.  0.  0.]\n",
      " [ 0.  0.  0. ... 16.  9.  0.]\n",
      " ...\n",
      " [ 0.  0.  1. ...  6.  0.  0.]\n",
      " [ 0.  0.  2. ... 12.  0.  0.]\n",
      " [ 0.  0. 10. ... 12.  1.  0.]]\n",
      "### mnist.data.shape: (1797, 64)\n"
     ]
    }
   ],
   "source": [
    "print(mnist.data)\n",
    "print(\"### mnist.data.shape:\", mnist.data.shape)"
   ]
  },
  {
   "cell_type": "markdown",
   "metadata": {
    "id": "1YR__SVNRYxY"
   },
   "source": [
    "\n",
    "\n",
    "1797개 feature 데이터 가운데 가장 앞에 있는 것을 살펴보자. 64개의 값으로 이루어져 있는데 $ 8 \\times 8$ pixel의 강도를 0부터 16까지의 숫자로 나타낸 것이다.\n"
   ]
  },
  {
   "cell_type": "code",
   "execution_count": 9,
   "metadata": {
    "id": "kfeewfy2SSci"
   },
   "outputs": [
    {
     "data": {
      "text/plain": [
       "array([ 0.,  0.,  5., 13.,  9.,  1.,  0.,  0.,  0.,  0., 13., 15., 10.,\n",
       "       15.,  5.,  0.,  0.,  3., 15.,  2.,  0., 11.,  8.,  0.,  0.,  4.,\n",
       "       12.,  0.,  0.,  8.,  8.,  0.,  0.,  5.,  8.,  0.,  0.,  9.,  8.,\n",
       "        0.,  0.,  4., 11.,  0.,  1., 12.,  7.,  0.,  0.,  2., 14.,  5.,\n",
       "       10., 12.,  0.,  0.,  0.,  0.,  6., 13., 10.,  0.,  0.,  0.])"
      ]
     },
     "execution_count": 9,
     "metadata": {},
     "output_type": "execute_result"
    }
   ],
   "source": [
    "mnist.data[0]"
   ]
  },
  {
   "cell_type": "markdown",
   "metadata": {
    "id": "2nPCzpnVueFk"
   },
   "source": [
    "* 숫자 데이터 행렬 시각화"
   ]
  },
  {
   "cell_type": "code",
   "execution_count": 10,
   "metadata": {
    "id": "QAuw4cuiKEHj"
   },
   "outputs": [
    {
     "data": {
      "text/plain": [
       "array([[ 0.,  0.,  5., 13.,  9.,  1.,  0.,  0.],\n",
       "       [ 0.,  0., 13., 15., 10., 15.,  5.,  0.],\n",
       "       [ 0.,  3., 15.,  2.,  0., 11.,  8.,  0.],\n",
       "       [ 0.,  4., 12.,  0.,  0.,  8.,  8.,  0.],\n",
       "       [ 0.,  5.,  8.,  0.,  0.,  9.,  8.,  0.],\n",
       "       [ 0.,  4., 11.,  0.,  1., 12.,  7.,  0.],\n",
       "       [ 0.,  2., 14.,  5., 10., 12.,  0.,  0.],\n",
       "       [ 0.,  0.,  6., 13., 10.,  0.,  0.,  0.]])"
      ]
     },
     "execution_count": 10,
     "metadata": {},
     "output_type": "execute_result"
    }
   ],
   "source": [
    "mnist.images[0]"
   ]
  },
  {
   "cell_type": "code",
   "execution_count": 11,
   "metadata": {
    "id": "mLeY88VHrxXQ"
   },
   "outputs": [
    {
     "data": {
      "text/plain": [
       "array([[ 0.,  0., 10., 14.,  8.,  1.,  0.,  0.],\n",
       "       [ 0.,  2., 16., 14.,  6.,  1.,  0.,  0.],\n",
       "       [ 0.,  0., 15., 15.,  8., 15.,  0.,  0.],\n",
       "       [ 0.,  0.,  5., 16., 16., 10.,  0.,  0.],\n",
       "       [ 0.,  0., 12., 15., 15., 12.,  0.,  0.],\n",
       "       [ 0.,  4., 16.,  6.,  4., 16.,  6.,  0.],\n",
       "       [ 0.,  8., 16., 10.,  8., 16.,  8.,  0.],\n",
       "       [ 0.,  1.,  8., 12., 14., 12.,  1.,  0.]])"
      ]
     },
     "execution_count": 11,
     "metadata": {},
     "output_type": "execute_result"
    }
   ],
   "source": [
    "mnist.images[-1]"
   ]
  },
  {
   "cell_type": "markdown",
   "metadata": {
    "id": "iVhyf9T9Rcow"
   },
   "source": [
    "\n",
    "이 데이터를 아래와 같이 그림으로 나타내보자. 어떤 숫자로 보이는가?\n"
   ]
  },
  {
   "cell_type": "code",
   "execution_count": 12,
   "metadata": {
    "id": "RYrzs8i4Rgkg"
   },
   "outputs": [
    {
     "data": {
      "text/plain": [
       "<Figure size 432x288 with 0 Axes>"
      ]
     },
     "metadata": {},
     "output_type": "display_data"
    },
    {
     "data": {
      "image/png": "[encoded data removed]",
      "text/plain": [
       "<Figure size 288x288 with 1 Axes>"
      ]
     },
     "metadata": {
      "needs_background": "light"
     },
     "output_type": "display_data"
    }
   ],
   "source": [
    "import matplotlib.pyplot as plt \n",
    "plt.gray() \n",
    "plt.matshow(mnist.images[0]) \n",
    "plt.show() "
   ]
  },
  {
   "cell_type": "markdown",
   "metadata": {
    "id": "mfQqNK6RXMb6"
   },
   "source": [
    "`plt.matshow()`는 숫자로 된 행렬을 시각화하는 함수다. 간단한 행렬을 만들어 연습해보자."
   ]
  },
  {
   "cell_type": "code",
   "execution_count": 13,
   "metadata": {
    "id": "5NTrwHwSXRkg"
   },
   "outputs": [
    {
     "data": {
      "image/png": "[encoded data removed]",
      "text/plain": [
       "<Figure size 288x288 with 1 Axes>"
      ]
     },
     "metadata": {
      "needs_background": "light"
     },
     "output_type": "display_data"
    }
   ],
   "source": [
    "c = np.array([1, 4, 13, 8]).reshape(2,2)\n",
    "plt.matshow(c)\n",
    "plt.show()"
   ]
  },
  {
   "cell_type": "markdown",
   "metadata": {
    "id": "nLLg7woOPcdG"
   },
   "source": [
    "손글씨를 판독하는 문제이므로 흑백 그림을 그리기 위해 위의 코드에서는  `plt.gray()`라고 지정했다. `gray`는 그림의 색상을 지정하는 colormap의 하나인데 아래와 같이 `plt.matshow()` 안에서 `cmap = `으로 지정해도 된다. `gray`와 `gray_r`의 결과를 비교해보라.\n",
    "\n"
   ]
  },
  {
   "cell_type": "code",
   "execution_count": 14,
   "metadata": {
    "id": "ueNcLVVzTs3v"
   },
   "outputs": [
    {
     "data": {
      "image/png": "[encoded data removed]",
      "text/plain": [
       "<Figure size 288x288 with 1 Axes>"
      ]
     },
     "metadata": {
      "needs_background": "light"
     },
     "output_type": "display_data"
    }
   ],
   "source": [
    "plt.matshow(mnist.images[0], cmap = 'gray_r')\n",
    "plt.show()"
   ]
  },
  {
   "cell_type": "markdown",
   "metadata": {
    "id": "E-D6CORLTrdB"
   },
   "source": [
    "만약 흑백이 대신 컬러로 그림을 그리고 싶다면 `matplotlib.pyplot`이 제공하는 여러가지 [colormap](https://matplotlib.org/stable/tutorials/colors/colormaps.html) 옵션 중에서 적절한 것을 선택하면 된다."
   ]
  },
  {
   "cell_type": "code",
   "execution_count": 15,
   "metadata": {
    "id": "3BbcZwNXXj4I"
   },
   "outputs": [
    {
     "data": {
      "text/plain": [
       "<Figure size 432x288 with 0 Axes>"
      ]
     },
     "metadata": {},
     "output_type": "display_data"
    },
    {
     "data": {
      "image/png": "[encoded data removed]",
      "text/plain": [
       "<Figure size 288x288 with 1 Axes>"
      ]
     },
     "metadata": {
      "needs_background": "light"
     },
     "output_type": "display_data"
    }
   ],
   "source": [
    "c = np.array([1, 4, 0, 8]).reshape(2,2)\n",
    "plt.viridis()\n",
    "plt.matshow(c)\n",
    "plt.show()"
   ]
  },
  {
   "cell_type": "code",
   "execution_count": 16,
   "metadata": {
    "id": "kP4EZ-vsRC5x"
   },
   "outputs": [
    {
     "data": {
      "image/png": "[encoded data removed]",
      "text/plain": [
       "<Figure size 288x288 with 1 Axes>"
      ]
     },
     "metadata": {
      "needs_background": "light"
     },
     "output_type": "display_data"
    }
   ],
   "source": [
    "plt.matshow(mnist.images[0], cmap = 'plasma') \n",
    "plt.show() "
   ]
  },
  {
   "cell_type": "markdown",
   "metadata": {
    "id": "WNnzBJ4xWRRm"
   },
   "source": [
    "mnist 데이터세트에는 하나의 숫자를 나타내는 64개 데이터가 두 군데 들어있다. `mnist.image`에는 $8 \\times 8$ 이미지 파일로, `mnist.data`에는 길이가 64인 array로 들어있다. 이미지 파일 대신 `mnist.data`로 그림을 그리고 싶다면 아래와 같이 2차원 배열로 만들어서 그리면 된다."
   ]
  },
  {
   "cell_type": "code",
   "execution_count": 17,
   "metadata": {
    "id": "_1V7tez4WHbx"
   },
   "outputs": [
    {
     "data": {
      "image/png": "[encoded data removed]",
      "text/plain": [
       "<Figure size 288x288 with 1 Axes>"
      ]
     },
     "metadata": {
      "needs_background": "light"
     },
     "output_type": "display_data"
    }
   ],
   "source": [
    "plt.matshow(mnist.data[59].reshape(8,8), cmap = 'cividis') \n",
    "plt.show() "
   ]
  },
  {
   "cell_type": "markdown",
   "metadata": {
    "id": "N7p1YdkTTBbf"
   },
   "source": [
    "동일한 그림을 `matshow()` 대신 `imshow()`를 이용해서 그릴 수도 있다."
   ]
  },
  {
   "cell_type": "code",
   "execution_count": 18,
   "metadata": {
    "id": "OiH0TIk_PDFd"
   },
   "outputs": [
    {
     "data": {
      "text/plain": [
       "<matplotlib.image.AxesImage at 0x24cf24c9490>"
      ]
     },
     "execution_count": 18,
     "metadata": {},
     "output_type": "execute_result"
    },
    {
     "data": {
      "image/png": "[encoded data removed]",
      "text/plain": [
       "<Figure size 432x288 with 1 Axes>"
      ]
     },
     "metadata": {
      "needs_background": "light"
     },
     "output_type": "display_data"
    }
   ],
   "source": [
    "plt.imshow(mnist.images[59], cmap = 'spring')"
   ]
  },
  {
   "cell_type": "markdown",
   "metadata": {
    "id": "IDXMon7RRkNA"
   },
   "source": [
    "\n",
    "\n",
    "또 100, 1000번째, 그리고 마지막 숫자의 이미지를 그린 아래 그림들을 보자. 각각 어떤 숫자로 보이는가?\n"
   ]
  },
  {
   "cell_type": "code",
   "execution_count": 19,
   "metadata": {
    "id": "2acZDHuKRnCo"
   },
   "outputs": [
    {
     "data": {
      "text/plain": [
       "<Figure size 432x288 with 0 Axes>"
      ]
     },
     "metadata": {},
     "output_type": "display_data"
    },
    {
     "data": {
      "image/png": "[encoded data removed]",
      "text/plain": [
       "<Figure size 288x288 with 1 Axes>"
      ]
     },
     "metadata": {
      "needs_background": "light"
     },
     "output_type": "display_data"
    },
    {
     "data": {
      "image/png": "[encoded data removed]",
      "text/plain": [
       "<Figure size 288x288 with 1 Axes>"
      ]
     },
     "metadata": {
      "needs_background": "light"
     },
     "output_type": "display_data"
    },
    {
     "data": {
      "image/png": "[encoded data removed]",
      "text/plain": [
       "<Figure size 288x288 with 1 Axes>"
      ]
     },
     "metadata": {
      "needs_background": "light"
     },
     "output_type": "display_data"
    }
   ],
   "source": [
    "import matplotlib.pyplot as plt \n",
    "plt.gray() \n",
    "plt.matshow(mnist.images[100]) \n",
    "plt.matshow(mnist.images[1000]) \n",
    "plt.matshow(mnist.images[-1])\n",
    "plt.show() "
   ]
  },
  {
   "cell_type": "markdown",
   "metadata": {
    "id": "AXnBZfJ4RpHo"
   },
   "source": [
    "\n",
    "target 값들을 확인해보자.\n"
   ]
  },
  {
   "cell_type": "code",
   "execution_count": 20,
   "metadata": {
    "id": "sIZ_pSrKRqt4"
   },
   "outputs": [
    {
     "name": "stdout",
     "output_type": "stream",
     "text": [
      "[0 1 2 ... 8 9 8]\n",
      "### mnist.target.shape: (1797,)\n"
     ]
    }
   ],
   "source": [
    "print(mnist.target)\n",
    "print(\"### mnist.target.shape:\", mnist.target.shape)"
   ]
  },
  {
   "cell_type": "markdown",
   "metadata": {
    "id": "6i-7inJURtq4"
   },
   "source": [
    "\n",
    "\n",
    "즉 맨 첫번째 숫자의 정답은 0이다.\n"
   ]
  },
  {
   "cell_type": "code",
   "execution_count": 21,
   "metadata": {
    "id": "RT2TgLpjRw9z"
   },
   "outputs": [
    {
     "data": {
      "text/plain": [
       "0"
      ]
     },
     "execution_count": 21,
     "metadata": {},
     "output_type": "execute_result"
    }
   ],
   "source": [
    "mnist.target[0]"
   ]
  },
  {
   "cell_type": "markdown",
   "metadata": {
    "id": "egV2uD3KRylQ"
   },
   "source": [
    "\n",
    "\n",
    "100번, 1000번째와 마지막 숫자도 확인해보자. 이미지를 보고 짐작한 것과 일치하는가?\n"
   ]
  },
  {
   "cell_type": "code",
   "execution_count": 22,
   "metadata": {
    "id": "KQw7vLzTR0Wg"
   },
   "outputs": [
    {
     "name": "stdout",
     "output_type": "stream",
     "text": [
      "[4 1 8]\n"
     ]
    }
   ],
   "source": [
    "print(mnist.target[[100, 1000, -1]])"
   ]
  },
  {
   "cell_type": "markdown",
   "metadata": {
    "id": "MHxI4Fh7t9Az"
   },
   "source": [
    "어떤 숫자일지 알쏭달쏭한 데이터가 많다. 머신러닝 방법으로 모델을 훈련시켜서 숫자를 판독하도록 해보자. 어쩌면 우리보다 더 잘 할지도 모른다."
   ]
  },
  {
   "cell_type": "markdown",
   "metadata": {
    "id": "RxpZjG5LSz0Q"
   },
   "source": [
    "* 데이터 분할"
   ]
  },
  {
   "cell_type": "code",
   "execution_count": 23,
   "metadata": {
    "id": "KgLmI-rdyo2T"
   },
   "outputs": [],
   "source": [
    "X_train,X_test,y_train,y_test=train_test_split(mnist.data,mnist.target,test_size=0.2)"
   ]
  },
  {
   "cell_type": "code",
   "execution_count": 24,
   "metadata": {
    "id": "8ZbT1F6JcNn5"
   },
   "outputs": [
    {
     "data": {
      "text/plain": [
       "(1437, 64)"
      ]
     },
     "execution_count": 24,
     "metadata": {},
     "output_type": "execute_result"
    }
   ],
   "source": [
    "X_train.shape"
   ]
  },
  {
   "cell_type": "code",
   "execution_count": 25,
   "metadata": {
    "id": "qUKf_oXucgs2"
   },
   "outputs": [
    {
     "data": {
      "text/plain": [
       "(360,)"
      ]
     },
     "execution_count": 25,
     "metadata": {},
     "output_type": "execute_result"
    }
   ],
   "source": [
    "y_test.shape"
   ]
  },
  {
   "cell_type": "markdown",
   "metadata": {
    "id": "804iTxOScrZ8"
   },
   "source": [
    "* 우리는 mnist 이미지 데이터를 의사결정트리, knn, lr 모델을 이용해서 0부터 9 사이의 숫자로 분류하려 한다. \n",
    "\n",
    "**퀴즈 : 이 데이터에 대해 어떤 전처리 과정이 필요할까?**"
   ]
  },
  {
   "cell_type": "markdown",
   "metadata": {
    "id": "-PEZOu9Qd3nW"
   },
   "source": [
    "   numpy의 `isnana()`을 이용하여 누락값 확인"
   ]
  },
  {
   "cell_type": "code",
   "execution_count": 26,
   "metadata": {
    "id": "gCMwwNdedUdP"
   },
   "outputs": [
    {
     "data": {
      "text/plain": [
       "0"
      ]
     },
     "execution_count": 26,
     "metadata": {},
     "output_type": "execute_result"
    }
   ],
   "source": [
    "np.isnan(mnist.data).sum()"
   ]
  },
  {
   "cell_type": "code",
   "execution_count": 27,
   "metadata": {
    "id": "8bzt1JKUd3Ob"
   },
   "outputs": [
    {
     "data": {
      "text/plain": [
       "0"
      ]
     },
     "execution_count": 27,
     "metadata": {},
     "output_type": "execute_result"
    }
   ],
   "source": [
    "np.isnan(mnist.target).sum()"
   ]
  },
  {
   "cell_type": "markdown",
   "metadata": {
    "id": "dJSzserYeWE7"
   },
   "source": [
    "문자열 데이터 인코딩은 필요할까? X"
   ]
  },
  {
   "cell_type": "markdown",
   "metadata": {
    "id": "XERqiJBBea1c"
   },
   "source": [
    "feature 변수 데이터의 정규화, 표준화는 필요할까? X"
   ]
  },
  {
   "cell_type": "markdown",
   "metadata": {
    "id": "6DjfCvi1yo2U"
   },
   "source": [
    "* 의사결정트리, knn, lr 모델 각각의 정확도를 측정. 교재 129쪽 코드에서 각 모델의 parameter들은 임의로 넣은 것이다. 교재 코드와 달리 아무런 parameter 없이 모델을 만들어서 비교해보자. SVC()에 들어있는 `probability = True` 옵션은 soft voting에 필요한 예측확률을 구하기 위한 것이다."
   ]
  },
  {
   "cell_type": "code",
   "execution_count": 28,
   "metadata": {
    "id": "cWRq-pj2yo2U"
   },
   "outputs": [],
   "source": [
    "dtree = tree.DecisionTreeClassifier()\n",
    "dtree.fit(X_train, y_train)\n",
    "dtree_predicted = dtree.predict(X_test)\n",
    "\n",
    "knn = KNeighborsClassifier().fit(X_train, y_train)\n",
    "knn_predicted = knn.predict(X_test)\n",
    "\n",
    "lr = LogisticRegression().fit(X_train, y_train)\n",
    "lr_predicted = lr.predict(X_test)"
   ]
  },
  {
   "cell_type": "code",
   "execution_count": 29,
   "metadata": {
    "id": "3DZ0Cl-Pyo2V"
   },
   "outputs": [
    {
     "name": "stdout",
     "output_type": "stream",
     "text": [
      "[accuarcy]\n",
      "d-tree:  0.8694444444444445\n",
      "knn   :  0.9833333333333333\n",
      "lr   :  0.9555555555555556\n"
     ]
    }
   ],
   "source": [
    "print(\"[accuarcy]\")\n",
    "print(\"d-tree: \",accuracy_score(y_test, dtree_predicted))\n",
    "print(\"knn   : \",accuracy_score(y_test, knn_predicted))\n",
    "print(\"lr   : \",accuracy_score(y_test, lr_predicted))"
   ]
  },
  {
   "cell_type": "markdown",
   "metadata": {
    "id": "dQEAvxkG1e31"
   },
   "source": [
    "knn, lr의 경우 정확도가 상당히 높다. 우리의 눈보다 머신러닝이 손글씨 글자를 더 정확하게 판독하는 것 같다.\n",
    "\n",
    "여기서 잠깐, 의사결정나무 그림을 그려보자. "
   ]
  },
  {
   "cell_type": "code",
   "execution_count": 30,
   "metadata": {
    "id": "BIqN5SPbFo03"
   },
   "outputs": [],
   "source": [
    "from sklearn.tree import export_graphviz\n",
    "\n",
    "export_graphviz(dtree, out_file=\"tree.dot\", impurity=True, filled=True)"
   ]
  },
  {
   "cell_type": "code",
   "execution_count": 31,
   "metadata": {
    "id": "BIqN5SPbFo03",
    "scrolled": true
   },
   "outputs": [
    {
     "data": {
      "image/svg+xml": [
       "<?xml version=\"1.0\" encoding=\"UTF-8\" standalone=\"no\"?>\r\n",
       "<!DOCTYPE svg PUBLIC \"-//W3C//DTD SVG 1.1//EN\"\r\n",
       " \"http://www.w3.org/Graphics/SVG/1.1/DTD/svg11.dtd\">\r\n",
       "<!-- Generated by graphviz version 2.38.0 (20140413.2041)\r\n",
       " -->\r\n",
       "<!-- Title: Tree Pages: 1 -->\r\n",
       "<svg width=\"14614pt\" height=\"1517pt\"\r\n",
       " viewBox=\"0.00 0.00 14613.50 1517.00\" xmlns=\"http://www.w3.org/2000/svg\" xmlns:xlink=\"http://www.w3.org/1999/xlink\">\r\n",
       "<g id=\"graph0\" class=\"graph\" transform=\"scale(1 1) rotate(0) translate(4 1513)\">\r\n",
       "<title>Tree</title>\r\n",
       "<polygon fill=\"white\" stroke=\"none\" points=\"-4,4 -4,-1513 14609.5,-1513 14609.5,4 -4,4\"/>\r\n",
       "<!-- 0 -->\r\n",
       "<g id=\"node1\" class=\"node\"><title>0</title>\r\n",
       "<polygon fill=\"#ffffff\" stroke=\"black\" points=\"2649,-1509 2309,-1509 2309,-1441 2649,-1441 2649,-1509\"/>\r\n",
       "<text text-anchor=\"middle\" x=\"2479\" y=\"-1493.8\" font-family=\"Times New Roman,serif\" font-size=\"14.00\">X[36] &lt;= 0.5</text>\r\n",
       "<text text-anchor=\"middle\" x=\"2479\" y=\"-1478.8\" font-family=\"Times New Roman,serif\" font-size=\"14.00\">gini = 0.9</text>\r\n",
       "<text text-anchor=\"middle\" x=\"2479\" y=\"-1463.8\" font-family=\"Times New Roman,serif\" font-size=\"14.00\">samples = 1437</text>\r\n",
       "<text text-anchor=\"middle\" x=\"2479\" y=\"-1448.8\" font-family=\"Times New Roman,serif\" font-size=\"14.00\">value = [143, 147, 141, 146, 149, 136, 151, 137, 136, 151]</text>\r\n",
       "</g>\r\n",
       "<!-- 1 -->\r\n",
       "<g id=\"node2\" class=\"node\"><title>1</title>\r\n",
       "<polygon fill=\"#f1b991\" stroke=\"black\" points=\"1492,-1405 1260,-1405 1260,-1337 1492,-1337 1492,-1405\"/>\r\n",
       "<text text-anchor=\"middle\" x=\"1376\" y=\"-1389.8\" font-family=\"Times New Roman,serif\" font-size=\"14.00\">X[42] &lt;= 5.0</text>\r\n",
       "<text text-anchor=\"middle\" x=\"1376\" y=\"-1374.8\" font-family=\"Times New Roman,serif\" font-size=\"14.00\">gini = 0.547</text>\r\n",
       "<text text-anchor=\"middle\" x=\"1376\" y=\"-1359.8\" font-family=\"Times New Roman,serif\" font-size=\"14.00\">samples = 221</text>\r\n",
       "<text text-anchor=\"middle\" x=\"1376\" y=\"-1344.8\" font-family=\"Times New Roman,serif\" font-size=\"14.00\">value = [141, 0, 3, 1, 6, 20, 5, 0, 3, 42]</text>\r\n",
       "</g>\r\n",
       "<!-- 0&#45;&gt;1 -->\r\n",
       "<g id=\"edge1\" class=\"edge\"><title>0&#45;&gt;1</title>\r\n",
       "<path fill=\"none\" stroke=\"black\" d=\"M2308.77,-1458.26C2086.11,-1437.67 1701.05,-1402.06 1502.5,-1383.7\"/>\r\n",
       "<polygon fill=\"black\" stroke=\"black\" points=\"1502.59,-1380.19 1492.31,-1382.76 1501.95,-1387.16 1502.59,-1380.19\"/>\r\n",
       "<text text-anchor=\"middle\" x=\"1508.29\" y=\"-1398.29\" font-family=\"Times New Roman,serif\" font-size=\"14.00\">True</text>\r\n",
       "</g>\r\n",
       "<!-- 30 -->\r\n",
       "<g id=\"node31\" class=\"node\"><title>30</title>\r\n",
       "<polygon fill=\"#ffffff\" stroke=\"black\" points=\"3770,-1405 3444,-1405 3444,-1337 3770,-1337 3770,-1405\"/>\r\n",
       "<text text-anchor=\"middle\" x=\"3607\" y=\"-1389.8\" font-family=\"Times New Roman,serif\" font-size=\"14.00\">X[21] &lt;= 0.5</text>\r\n",
       "<text text-anchor=\"middle\" x=\"3607\" y=\"-1374.8\" font-family=\"Times New Roman,serif\" font-size=\"14.00\">gini = 0.888</text>\r\n",
       "<text text-anchor=\"middle\" x=\"3607\" y=\"-1359.8\" font-family=\"Times New Roman,serif\" font-size=\"14.00\">samples = 1216</text>\r\n",
       "<text text-anchor=\"middle\" x=\"3607\" y=\"-1344.8\" font-family=\"Times New Roman,serif\" font-size=\"14.00\">value = [2, 147, 138, 145, 143, 116, 146, 137, 133, 109]</text>\r\n",
       "</g>\r\n",
       "<!-- 0&#45;&gt;30 -->\r\n",
       "<g id=\"edge30\" class=\"edge\"><title>0&#45;&gt;30</title>\r\n",
       "<path fill=\"none\" stroke=\"black\" d=\"M2649.09,-1458.62C2860.84,-1439.47 3220.53,-1406.95 3433.74,-1387.67\"/>\r\n",
       "<polygon fill=\"black\" stroke=\"black\" points=\"3434.13,-1391.15 3443.78,-1386.76 3433.5,-1384.17 3434.13,-1391.15\"/>\r\n",
       "<text text-anchor=\"middle\" x=\"3427.76\" y=\"-1402.26\" font-family=\"Times New Roman,serif\" font-size=\"14.00\">False</text>\r\n",
       "</g>\r\n",
       "<!-- 2 -->\r\n",
       "<g id=\"node3\" class=\"node\"><title>2</title>\r\n",
       "<polygon fill=\"#f0899c\" stroke=\"black\" points=\"782,-1301 564,-1301 564,-1233 782,-1233 782,-1301\"/>\r\n",
       "<text text-anchor=\"middle\" x=\"673\" y=\"-1285.8\" font-family=\"Times New Roman,serif\" font-size=\"14.00\">X[21] &lt;= 6.5</text>\r\n",
       "<text text-anchor=\"middle\" x=\"673\" y=\"-1270.8\" font-family=\"Times New Roman,serif\" font-size=\"14.00\">gini = 0.424</text>\r\n",
       "<text text-anchor=\"middle\" x=\"673\" y=\"-1255.8\" font-family=\"Times New Roman,serif\" font-size=\"14.00\">samples = 58</text>\r\n",
       "<text text-anchor=\"middle\" x=\"673\" y=\"-1240.8\" font-family=\"Times New Roman,serif\" font-size=\"14.00\">value = [0, 0, 0, 1, 0, 16, 0, 0, 0, 41]</text>\r\n",
       "</g>\r\n",
       "<!-- 1&#45;&gt;2 -->\r\n",
       "<g id=\"edge2\" class=\"edge\"><title>1&#45;&gt;2</title>\r\n",
       "<path fill=\"none\" stroke=\"black\" d=\"M1259.91,-1353.16C1130.59,-1334.39 922.585,-1304.21 792.068,-1285.28\"/>\r\n",
       "<polygon fill=\"black\" stroke=\"black\" points=\"792.426,-1281.79 782.027,-1283.82 791.421,-1288.72 792.426,-1281.79\"/>\r\n",
       "</g>\r\n",
       "<!-- 9 -->\r\n",
       "<g id=\"node10\" class=\"node\"><title>9</title>\r\n",
       "<polygon fill=\"#e99355\" stroke=\"black\" points=\"1485,-1301 1267,-1301 1267,-1233 1485,-1233 1485,-1301\"/>\r\n",
       "<text text-anchor=\"middle\" x=\"1376\" y=\"-1285.8\" font-family=\"Times New Roman,serif\" font-size=\"14.00\">X[21] &lt;= 1.0</text>\r\n",
       "<text text-anchor=\"middle\" x=\"1376\" y=\"-1270.8\" font-family=\"Times New Roman,serif\" font-size=\"14.00\">gini = 0.248</text>\r\n",
       "<text text-anchor=\"middle\" x=\"1376\" y=\"-1255.8\" font-family=\"Times New Roman,serif\" font-size=\"14.00\">samples = 163</text>\r\n",
       "<text text-anchor=\"middle\" x=\"1376\" y=\"-1240.8\" font-family=\"Times New Roman,serif\" font-size=\"14.00\">value = [141, 0, 3, 0, 6, 4, 5, 0, 3, 1]</text>\r\n",
       "</g>\r\n",
       "<!-- 1&#45;&gt;9 -->\r\n",
       "<g id=\"edge9\" class=\"edge\"><title>1&#45;&gt;9</title>\r\n",
       "<path fill=\"none\" stroke=\"black\" d=\"M1376,-1336.88C1376,-1328.78 1376,-1319.98 1376,-1311.47\"/>\r\n",
       "<polygon fill=\"black\" stroke=\"black\" points=\"1379.5,-1311.3 1376,-1301.3 1372.5,-1311.3 1379.5,-1311.3\"/>\r\n",
       "</g>\r\n",
       "<!-- 3 -->\r\n",
       "<g id=\"node4\" class=\"node\"><title>3</title>\r\n",
       "<polygon fill=\"#45a3e7\" stroke=\"black\" points=\"439,-1197 227,-1197 227,-1129 439,-1129 439,-1197\"/>\r\n",
       "<text text-anchor=\"middle\" x=\"333\" y=\"-1181.8\" font-family=\"Times New Roman,serif\" font-size=\"14.00\">X[55] &lt;= 1.0</text>\r\n",
       "<text text-anchor=\"middle\" x=\"333\" y=\"-1166.8\" font-family=\"Times New Roman,serif\" font-size=\"14.00\">gini = 0.111</text>\r\n",
       "<text text-anchor=\"middle\" x=\"333\" y=\"-1151.8\" font-family=\"Times New Roman,serif\" font-size=\"14.00\">samples = 17</text>\r\n",
       "<text text-anchor=\"middle\" x=\"333\" y=\"-1136.8\" font-family=\"Times New Roman,serif\" font-size=\"14.00\">value = [0, 0, 0, 0, 0, 16, 0, 0, 0, 1]</text>\r\n",
       "</g>\r\n",
       "<!-- 2&#45;&gt;3 -->\r\n",
       "<g id=\"edge3\" class=\"edge\"><title>2&#45;&gt;3</title>\r\n",
       "<path fill=\"none\" stroke=\"black\" d=\"M563.55,-1233.17C526.93,-1222.18 485.997,-1209.9 448.901,-1198.77\"/>\r\n",
       "<polygon fill=\"black\" stroke=\"black\" points=\"449.638,-1195.34 439.054,-1195.82 447.627,-1202.04 449.638,-1195.34\"/>\r\n",
       "</g>\r\n",
       "<!-- 6 -->\r\n",
       "<g id=\"node7\" class=\"node\"><title>6</title>\r\n",
       "<polygon fill=\"#e63e5c\" stroke=\"black\" points=\"779,-1197 567,-1197 567,-1129 779,-1129 779,-1197\"/>\r\n",
       "<text text-anchor=\"middle\" x=\"673\" y=\"-1181.8\" font-family=\"Times New Roman,serif\" font-size=\"14.00\">X[27] &lt;= 1.5</text>\r\n",
       "<text text-anchor=\"middle\" x=\"673\" y=\"-1166.8\" font-family=\"Times New Roman,serif\" font-size=\"14.00\">gini = 0.048</text>\r\n",
       "<text text-anchor=\"middle\" x=\"673\" y=\"-1151.8\" font-family=\"Times New Roman,serif\" font-size=\"14.00\">samples = 41</text>\r\n",
       "<text text-anchor=\"middle\" x=\"673\" y=\"-1136.8\" font-family=\"Times New Roman,serif\" font-size=\"14.00\">value = [0, 0, 0, 1, 0, 0, 0, 0, 0, 40]</text>\r\n",
       "</g>\r\n",
       "<!-- 2&#45;&gt;6 -->\r\n",
       "<g id=\"edge6\" class=\"edge\"><title>2&#45;&gt;6</title>\r\n",
       "<path fill=\"none\" stroke=\"black\" d=\"M673,-1232.88C673,-1224.78 673,-1215.98 673,-1207.47\"/>\r\n",
       "<polygon fill=\"black\" stroke=\"black\" points=\"676.5,-1207.3 673,-1197.3 669.5,-1207.3 676.5,-1207.3\"/>\r\n",
       "</g>\r\n",
       "<!-- 4 -->\r\n",
       "<g id=\"node5\" class=\"node\"><title>4</title>\r\n",
       "<polygon fill=\"#399de5\" stroke=\"black\" points=\"212,-1085.5 0,-1085.5 0,-1032.5 212,-1032.5 212,-1085.5\"/>\r\n",
       "<text text-anchor=\"middle\" x=\"106\" y=\"-1070.3\" font-family=\"Times New Roman,serif\" font-size=\"14.00\">gini = 0.0</text>\r\n",
       "<text text-anchor=\"middle\" x=\"106\" y=\"-1055.3\" font-family=\"Times New Roman,serif\" font-size=\"14.00\">samples = 16</text>\r\n",
       "<text text-anchor=\"middle\" x=\"106\" y=\"-1040.3\" font-family=\"Times New Roman,serif\" font-size=\"14.00\">value = [0, 0, 0, 0, 0, 16, 0, 0, 0, 0]</text>\r\n",
       "</g>\r\n",
       "<!-- 3&#45;&gt;4 -->\r\n",
       "<g id=\"edge4\" class=\"edge\"><title>3&#45;&gt;4</title>\r\n",
       "<path fill=\"none\" stroke=\"black\" d=\"M259.3,-1128.88C231.275,-1116.29 199.544,-1102.03 172.25,-1089.77\"/>\r\n",
       "<polygon fill=\"black\" stroke=\"black\" points=\"173.35,-1086.43 162.794,-1085.52 170.481,-1092.81 173.35,-1086.43\"/>\r\n",
       "</g>\r\n",
       "<!-- 5 -->\r\n",
       "<g id=\"node6\" class=\"node\"><title>5</title>\r\n",
       "<polygon fill=\"#e53958\" stroke=\"black\" points=\"435.5,-1085.5 230.5,-1085.5 230.5,-1032.5 435.5,-1032.5 435.5,-1085.5\"/>\r\n",
       "<text text-anchor=\"middle\" x=\"333\" y=\"-1070.3\" font-family=\"Times New Roman,serif\" font-size=\"14.00\">gini = 0.0</text>\r\n",
       "<text text-anchor=\"middle\" x=\"333\" y=\"-1055.3\" font-family=\"Times New Roman,serif\" font-size=\"14.00\">samples = 1</text>\r\n",
       "<text text-anchor=\"middle\" x=\"333\" y=\"-1040.3\" font-family=\"Times New Roman,serif\" font-size=\"14.00\">value = [0, 0, 0, 0, 0, 0, 0, 0, 0, 1]</text>\r\n",
       "</g>\r\n",
       "<!-- 3&#45;&gt;5 -->\r\n",
       "<g id=\"edge5\" class=\"edge\"><title>3&#45;&gt;5</title>\r\n",
       "<path fill=\"none\" stroke=\"black\" d=\"M333,-1128.88C333,-1118.33 333,-1106.6 333,-1095.85\"/>\r\n",
       "<polygon fill=\"black\" stroke=\"black\" points=\"336.5,-1095.52 333,-1085.52 329.5,-1095.52 336.5,-1095.52\"/>\r\n",
       "</g>\r\n",
       "<!-- 7 -->\r\n",
       "<g id=\"node8\" class=\"node\"><title>7</title>\r\n",
       "<polygon fill=\"#39e55e\" stroke=\"black\" points=\"658.5,-1085.5 453.5,-1085.5 453.5,-1032.5 658.5,-1032.5 658.5,-1085.5\"/>\r\n",
       "<text text-anchor=\"middle\" x=\"556\" y=\"-1070.3\" font-family=\"Times New Roman,serif\" font-size=\"14.00\">gini = 0.0</text>\r\n",
       "<text text-anchor=\"middle\" x=\"556\" y=\"-1055.3\" font-family=\"Times New Roman,serif\" font-size=\"14.00\">samples = 1</text>\r\n",
       "<text text-anchor=\"middle\" x=\"556\" y=\"-1040.3\" font-family=\"Times New Roman,serif\" font-size=\"14.00\">value = [0, 0, 0, 1, 0, 0, 0, 0, 0, 0]</text>\r\n",
       "</g>\r\n",
       "<!-- 6&#45;&gt;7 -->\r\n",
       "<g id=\"edge7\" class=\"edge\"><title>6&#45;&gt;7</title>\r\n",
       "<path fill=\"none\" stroke=\"black\" d=\"M635.013,-1128.88C621.515,-1117.12 606.349,-1103.89 592.939,-1092.2\"/>\r\n",
       "<polygon fill=\"black\" stroke=\"black\" points=\"595.111,-1089.45 585.273,-1085.52 590.511,-1094.73 595.111,-1089.45\"/>\r\n",
       "</g>\r\n",
       "<!-- 8 -->\r\n",
       "<g id=\"node9\" class=\"node\"><title>8</title>\r\n",
       "<polygon fill=\"#e53958\" stroke=\"black\" points=\"889,-1085.5 677,-1085.5 677,-1032.5 889,-1032.5 889,-1085.5\"/>\r\n",
       "<text text-anchor=\"middle\" x=\"783\" y=\"-1070.3\" font-family=\"Times New Roman,serif\" font-size=\"14.00\">gini = 0.0</text>\r\n",
       "<text text-anchor=\"middle\" x=\"783\" y=\"-1055.3\" font-family=\"Times New Roman,serif\" font-size=\"14.00\">samples = 40</text>\r\n",
       "<text text-anchor=\"middle\" x=\"783\" y=\"-1040.3\" font-family=\"Times New Roman,serif\" font-size=\"14.00\">value = [0, 0, 0, 0, 0, 0, 0, 0, 0, 40]</text>\r\n",
       "</g>\r\n",
       "<!-- 6&#45;&gt;8 -->\r\n",
       "<g id=\"edge8\" class=\"edge\"><title>6&#45;&gt;8</title>\r\n",
       "<path fill=\"none\" stroke=\"black\" d=\"M708.714,-1128.88C721.286,-1117.23 735.397,-1104.14 747.917,-1092.53\"/>\r\n",
       "<polygon fill=\"black\" stroke=\"black\" points=\"750.526,-1094.89 755.479,-1085.52 745.766,-1089.75 750.526,-1094.89\"/>\r\n",
       "</g>\r\n",
       "<!-- 10 -->\r\n",
       "<g id=\"node11\" class=\"node\"><title>10</title>\r\n",
       "<polygon fill=\"#eefdfa\" stroke=\"black\" points=\"1335.5,-1197 1130.5,-1197 1130.5,-1129 1335.5,-1129 1335.5,-1197\"/>\r\n",
       "<text text-anchor=\"middle\" x=\"1233\" y=\"-1181.8\" font-family=\"Times New Roman,serif\" font-size=\"14.00\">X[3] &lt;= 4.5</text>\r\n",
       "<text text-anchor=\"middle\" x=\"1233\" y=\"-1166.8\" font-family=\"Times New Roman,serif\" font-size=\"14.00\">gini = 0.758</text>\r\n",
       "<text text-anchor=\"middle\" x=\"1233\" y=\"-1151.8\" font-family=\"Times New Roman,serif\" font-size=\"14.00\">samples = 16</text>\r\n",
       "<text text-anchor=\"middle\" x=\"1233\" y=\"-1136.8\" font-family=\"Times New Roman,serif\" font-size=\"14.00\">value = [1, 0, 2, 0, 5, 4, 4, 0, 0, 0]</text>\r\n",
       "</g>\r\n",
       "<!-- 9&#45;&gt;10 -->\r\n",
       "<g id=\"edge10\" class=\"edge\"><title>9&#45;&gt;10</title>\r\n",
       "<path fill=\"none\" stroke=\"black\" d=\"M1329.57,-1232.88C1316.33,-1223.44 1301.79,-1213.06 1288.09,-1203.29\"/>\r\n",
       "<polygon fill=\"black\" stroke=\"black\" points=\"1289.86,-1200.26 1279.68,-1197.3 1285.79,-1205.96 1289.86,-1200.26\"/>\r\n",
       "</g>\r\n",
       "<!-- 19 -->\r\n",
       "<g id=\"node20\" class=\"node\"><title>19</title>\r\n",
       "<polygon fill=\"#e68743\" stroke=\"black\" points=\"1628,-1197 1410,-1197 1410,-1129 1628,-1129 1628,-1197\"/>\r\n",
       "<text text-anchor=\"middle\" x=\"1519\" y=\"-1181.8\" font-family=\"Times New Roman,serif\" font-size=\"14.00\">X[27] &lt;= 14.5</text>\r\n",
       "<text text-anchor=\"middle\" x=\"1519\" y=\"-1166.8\" font-family=\"Times New Roman,serif\" font-size=\"14.00\">gini = 0.092</text>\r\n",
       "<text text-anchor=\"middle\" x=\"1519\" y=\"-1151.8\" font-family=\"Times New Roman,serif\" font-size=\"14.00\">samples = 147</text>\r\n",
       "<text text-anchor=\"middle\" x=\"1519\" y=\"-1136.8\" font-family=\"Times New Roman,serif\" font-size=\"14.00\">value = [140, 0, 1, 0, 1, 0, 1, 0, 3, 1]</text>\r\n",
       "</g>\r\n",
       "<!-- 9&#45;&gt;19 -->\r\n",
       "<g id=\"edge19\" class=\"edge\"><title>9&#45;&gt;19</title>\r\n",
       "<path fill=\"none\" stroke=\"black\" d=\"M1422.43,-1232.88C1435.67,-1223.44 1450.21,-1213.06 1463.91,-1203.29\"/>\r\n",
       "<polygon fill=\"black\" stroke=\"black\" points=\"1466.21,-1205.96 1472.32,-1197.3 1462.14,-1200.26 1466.21,-1205.96\"/>\r\n",
       "</g>\r\n",
       "<!-- 11 -->\r\n",
       "<g id=\"node12\" class=\"node\"><title>11</title>\r\n",
       "<polygon fill=\"#39e5c5\" stroke=\"black\" points=\"1112.5,-1085.5 907.5,-1085.5 907.5,-1032.5 1112.5,-1032.5 1112.5,-1085.5\"/>\r\n",
       "<text text-anchor=\"middle\" x=\"1010\" y=\"-1070.3\" font-family=\"Times New Roman,serif\" font-size=\"14.00\">gini = 0.0</text>\r\n",
       "<text text-anchor=\"middle\" x=\"1010\" y=\"-1055.3\" font-family=\"Times New Roman,serif\" font-size=\"14.00\">samples = 5</text>\r\n",
       "<text text-anchor=\"middle\" x=\"1010\" y=\"-1040.3\" font-family=\"Times New Roman,serif\" font-size=\"14.00\">value = [0, 0, 0, 0, 5, 0, 0, 0, 0, 0]</text>\r\n",
       "</g>\r\n",
       "<!-- 10&#45;&gt;11 -->\r\n",
       "<g id=\"edge11\" class=\"edge\"><title>10&#45;&gt;11</title>\r\n",
       "<path fill=\"none\" stroke=\"black\" d=\"M1160.6,-1128.88C1133.07,-1116.29 1101.9,-1102.03 1075.08,-1089.77\"/>\r\n",
       "<polygon fill=\"black\" stroke=\"black\" points=\"1076.34,-1086.5 1065.79,-1085.52 1073.43,-1092.86 1076.34,-1086.5\"/>\r\n",
       "</g>\r\n",
       "<!-- 12 -->\r\n",
       "<g id=\"node13\" class=\"node\"><title>12</title>\r\n",
       "<polygon fill=\"#ffffff\" stroke=\"black\" points=\"1335.5,-1093 1130.5,-1093 1130.5,-1025 1335.5,-1025 1335.5,-1093\"/>\r\n",
       "<text text-anchor=\"middle\" x=\"1233\" y=\"-1077.8\" font-family=\"Times New Roman,serif\" font-size=\"14.00\">X[6] &lt;= 1.0</text>\r\n",
       "<text text-anchor=\"middle\" x=\"1233\" y=\"-1062.8\" font-family=\"Times New Roman,serif\" font-size=\"14.00\">gini = 0.694</text>\r\n",
       "<text text-anchor=\"middle\" x=\"1233\" y=\"-1047.8\" font-family=\"Times New Roman,serif\" font-size=\"14.00\">samples = 11</text>\r\n",
       "<text text-anchor=\"middle\" x=\"1233\" y=\"-1032.8\" font-family=\"Times New Roman,serif\" font-size=\"14.00\">value = [1, 0, 2, 0, 0, 4, 4, 0, 0, 0]</text>\r\n",
       "</g>\r\n",
       "<!-- 10&#45;&gt;12 -->\r\n",
       "<g id=\"edge12\" class=\"edge\"><title>10&#45;&gt;12</title>\r\n",
       "<path fill=\"none\" stroke=\"black\" d=\"M1233,-1128.88C1233,-1120.78 1233,-1111.98 1233,-1103.47\"/>\r\n",
       "<polygon fill=\"black\" stroke=\"black\" points=\"1236.5,-1103.3 1233,-1093.3 1229.5,-1103.3 1236.5,-1103.3\"/>\r\n",
       "</g>\r\n",
       "<!-- 13 -->\r\n",
       "<g id=\"node14\" class=\"node\"><title>13</title>\r\n",
       "<polygon fill=\"#b1b0f5\" stroke=\"black\" points=\"1056.5,-989 851.5,-989 851.5,-921 1056.5,-921 1056.5,-989\"/>\r\n",
       "<text text-anchor=\"middle\" x=\"954\" y=\"-973.8\" font-family=\"Times New Roman,serif\" font-size=\"14.00\">X[10] &lt;= 8.5</text>\r\n",
       "<text text-anchor=\"middle\" x=\"954\" y=\"-958.8\" font-family=\"Times New Roman,serif\" font-size=\"14.00\">gini = 0.571</text>\r\n",
       "<text text-anchor=\"middle\" x=\"954\" y=\"-943.8\" font-family=\"Times New Roman,serif\" font-size=\"14.00\">samples = 7</text>\r\n",
       "<text text-anchor=\"middle\" x=\"954\" y=\"-928.8\" font-family=\"Times New Roman,serif\" font-size=\"14.00\">value = [1, 0, 2, 0, 0, 0, 4, 0, 0, 0]</text>\r\n",
       "</g>\r\n",
       "<!-- 12&#45;&gt;13 -->\r\n",
       "<g id=\"edge13\" class=\"edge\"><title>12&#45;&gt;13</title>\r\n",
       "<path fill=\"none\" stroke=\"black\" d=\"M1142.42,-1024.88C1114.25,-1014.59 1083.05,-1003.18 1054.27,-992.656\"/>\r\n",
       "<polygon fill=\"black\" stroke=\"black\" points=\"1055.2,-989.271 1044.61,-989.125 1052.8,-995.846 1055.2,-989.271\"/>\r\n",
       "</g>\r\n",
       "<!-- 18 -->\r\n",
       "<g id=\"node19\" class=\"node\"><title>18</title>\r\n",
       "<polygon fill=\"#399de5\" stroke=\"black\" points=\"1279.5,-981.5 1074.5,-981.5 1074.5,-928.5 1279.5,-928.5 1279.5,-981.5\"/>\r\n",
       "<text text-anchor=\"middle\" x=\"1177\" y=\"-966.3\" font-family=\"Times New Roman,serif\" font-size=\"14.00\">gini = 0.0</text>\r\n",
       "<text text-anchor=\"middle\" x=\"1177\" y=\"-951.3\" font-family=\"Times New Roman,serif\" font-size=\"14.00\">samples = 4</text>\r\n",
       "<text text-anchor=\"middle\" x=\"1177\" y=\"-936.3\" font-family=\"Times New Roman,serif\" font-size=\"14.00\">value = [0, 0, 0, 0, 0, 4, 0, 0, 0, 0]</text>\r\n",
       "</g>\r\n",
       "<!-- 12&#45;&gt;18 -->\r\n",
       "<g id=\"edge18\" class=\"edge\"><title>12&#45;&gt;18</title>\r\n",
       "<path fill=\"none\" stroke=\"black\" d=\"M1214.82,-1024.88C1208.78,-1013.89 1202.04,-1001.62 1195.95,-990.517\"/>\r\n",
       "<polygon fill=\"black\" stroke=\"black\" points=\"1198.89,-988.601 1191.01,-981.52 1192.76,-991.97 1198.89,-988.601\"/>\r\n",
       "</g>\r\n",
       "<!-- 14 -->\r\n",
       "<g id=\"node15\" class=\"node\"><title>14</title>\r\n",
       "<polygon fill=\"#3c39e5\" stroke=\"black\" points=\"837.5,-877.5 632.5,-877.5 632.5,-824.5 837.5,-824.5 837.5,-877.5\"/>\r\n",
       "<text text-anchor=\"middle\" x=\"735\" y=\"-862.3\" font-family=\"Times New Roman,serif\" font-size=\"14.00\">gini = 0.0</text>\r\n",
       "<text text-anchor=\"middle\" x=\"735\" y=\"-847.3\" font-family=\"Times New Roman,serif\" font-size=\"14.00\">samples = 4</text>\r\n",
       "<text text-anchor=\"middle\" x=\"735\" y=\"-832.3\" font-family=\"Times New Roman,serif\" font-size=\"14.00\">value = [0, 0, 0, 0, 0, 0, 4, 0, 0, 0]</text>\r\n",
       "</g>\r\n",
       "<!-- 13&#45;&gt;14 -->\r\n",
       "<g id=\"edge14\" class=\"edge\"><title>13&#45;&gt;14</title>\r\n",
       "<path fill=\"none\" stroke=\"black\" d=\"M882.897,-920.884C855.86,-908.291 825.247,-894.033 798.915,-881.769\"/>\r\n",
       "<polygon fill=\"black\" stroke=\"black\" points=\"800.336,-878.569 789.793,-877.52 797.38,-884.915 800.336,-878.569\"/>\r\n",
       "</g>\r\n",
       "<!-- 15 -->\r\n",
       "<g id=\"node16\" class=\"node\"><title>15</title>\r\n",
       "<polygon fill=\"#bdf29c\" stroke=\"black\" points=\"1060.5,-885 855.5,-885 855.5,-817 1060.5,-817 1060.5,-885\"/>\r\n",
       "<text text-anchor=\"middle\" x=\"958\" y=\"-869.8\" font-family=\"Times New Roman,serif\" font-size=\"14.00\">X[42] &lt;= 12.5</text>\r\n",
       "<text text-anchor=\"middle\" x=\"958\" y=\"-854.8\" font-family=\"Times New Roman,serif\" font-size=\"14.00\">gini = 0.444</text>\r\n",
       "<text text-anchor=\"middle\" x=\"958\" y=\"-839.8\" font-family=\"Times New Roman,serif\" font-size=\"14.00\">samples = 3</text>\r\n",
       "<text text-anchor=\"middle\" x=\"958\" y=\"-824.8\" font-family=\"Times New Roman,serif\" font-size=\"14.00\">value = [1, 0, 2, 0, 0, 0, 0, 0, 0, 0]</text>\r\n",
       "</g>\r\n",
       "<!-- 13&#45;&gt;15 -->\r\n",
       "<g id=\"edge15\" class=\"edge\"><title>13&#45;&gt;15</title>\r\n",
       "<path fill=\"none\" stroke=\"black\" d=\"M955.299,-920.884C955.617,-912.778 955.961,-903.982 956.295,-895.472\"/>\r\n",
       "<polygon fill=\"black\" stroke=\"black\" points=\"959.8,-895.429 956.694,-885.299 952.805,-895.155 959.8,-895.429\"/>\r\n",
       "</g>\r\n",
       "<!-- 16 -->\r\n",
       "<g id=\"node17\" class=\"node\"><title>16</title>\r\n",
       "<polygon fill=\"#e58139\" stroke=\"black\" points=\"948.5,-773.5 743.5,-773.5 743.5,-720.5 948.5,-720.5 948.5,-773.5\"/>\r\n",
       "<text text-anchor=\"middle\" x=\"846\" y=\"-758.3\" font-family=\"Times New Roman,serif\" font-size=\"14.00\">gini = 0.0</text>\r\n",
       "<text text-anchor=\"middle\" x=\"846\" y=\"-743.3\" font-family=\"Times New Roman,serif\" font-size=\"14.00\">samples = 1</text>\r\n",
       "<text text-anchor=\"middle\" x=\"846\" y=\"-728.3\" font-family=\"Times New Roman,serif\" font-size=\"14.00\">value = [1, 0, 0, 0, 0, 0, 0, 0, 0, 0]</text>\r\n",
       "</g>\r\n",
       "<!-- 15&#45;&gt;16 -->\r\n",
       "<g id=\"edge16\" class=\"edge\"><title>15&#45;&gt;16</title>\r\n",
       "<path fill=\"none\" stroke=\"black\" d=\"M921.637,-816.884C908.836,-805.226 894.468,-792.141 881.721,-780.532\"/>\r\n",
       "<polygon fill=\"black\" stroke=\"black\" points=\"883.772,-777.666 874.022,-773.52 879.059,-782.841 883.772,-777.666\"/>\r\n",
       "</g>\r\n",
       "<!-- 17 -->\r\n",
       "<g id=\"node18\" class=\"node\"><title>17</title>\r\n",
       "<polygon fill=\"#7be539\" stroke=\"black\" points=\"1171.5,-773.5 966.5,-773.5 966.5,-720.5 1171.5,-720.5 1171.5,-773.5\"/>\r\n",
       "<text text-anchor=\"middle\" x=\"1069\" y=\"-758.3\" font-family=\"Times New Roman,serif\" font-size=\"14.00\">gini = 0.0</text>\r\n",
       "<text text-anchor=\"middle\" x=\"1069\" y=\"-743.3\" font-family=\"Times New Roman,serif\" font-size=\"14.00\">samples = 2</text>\r\n",
       "<text text-anchor=\"middle\" x=\"1069\" y=\"-728.3\" font-family=\"Times New Roman,serif\" font-size=\"14.00\">value = [0, 0, 2, 0, 0, 0, 0, 0, 0, 0]</text>\r\n",
       "</g>\r\n",
       "<!-- 15&#45;&gt;17 -->\r\n",
       "<g id=\"edge17\" class=\"edge\"><title>15&#45;&gt;17</title>\r\n",
       "<path fill=\"none\" stroke=\"black\" d=\"M994.039,-816.884C1006.72,-805.226 1020.96,-792.141 1033.6,-780.532\"/>\r\n",
       "<polygon fill=\"black\" stroke=\"black\" points=\"1036.23,-782.863 1041.23,-773.52 1031.5,-777.709 1036.23,-782.863\"/>\r\n",
       "</g>\r\n",
       "<!-- 20 -->\r\n",
       "<g id=\"node21\" class=\"node\"><title>20</title>\r\n",
       "<polygon fill=\"#e5833c\" stroke=\"black\" points=\"1628,-1093 1410,-1093 1410,-1025 1628,-1025 1628,-1093\"/>\r\n",
       "<text text-anchor=\"middle\" x=\"1519\" y=\"-1077.8\" font-family=\"Times New Roman,serif\" font-size=\"14.00\">X[34] &lt;= 2.0</text>\r\n",
       "<text text-anchor=\"middle\" x=\"1519\" y=\"-1062.8\" font-family=\"Times New Roman,serif\" font-size=\"14.00\">gini = 0.028</text>\r\n",
       "<text text-anchor=\"middle\" x=\"1519\" y=\"-1047.8\" font-family=\"Times New Roman,serif\" font-size=\"14.00\">samples = 142</text>\r\n",
       "<text text-anchor=\"middle\" x=\"1519\" y=\"-1032.8\" font-family=\"Times New Roman,serif\" font-size=\"14.00\">value = [140, 0, 1, 0, 0, 0, 0, 0, 0, 1]</text>\r\n",
       "</g>\r\n",
       "<!-- 19&#45;&gt;20 -->\r\n",
       "<g id=\"edge20\" class=\"edge\"><title>19&#45;&gt;20</title>\r\n",
       "<path fill=\"none\" stroke=\"black\" d=\"M1519,-1128.88C1519,-1120.78 1519,-1111.98 1519,-1103.47\"/>\r\n",
       "<polygon fill=\"black\" stroke=\"black\" points=\"1522.5,-1103.3 1519,-1093.3 1515.5,-1103.3 1522.5,-1103.3\"/>\r\n",
       "</g>\r\n",
       "<!-- 25 -->\r\n",
       "<g id=\"node26\" class=\"node\"><title>25</title>\r\n",
       "<polygon fill=\"#f29ce0\" stroke=\"black\" points=\"1962.5,-1093 1757.5,-1093 1757.5,-1025 1962.5,-1025 1962.5,-1093\"/>\r\n",
       "<text text-anchor=\"middle\" x=\"1860\" y=\"-1077.8\" font-family=\"Times New Roman,serif\" font-size=\"14.00\">X[58] &lt;= 3.0</text>\r\n",
       "<text text-anchor=\"middle\" x=\"1860\" y=\"-1062.8\" font-family=\"Times New Roman,serif\" font-size=\"14.00\">gini = 0.56</text>\r\n",
       "<text text-anchor=\"middle\" x=\"1860\" y=\"-1047.8\" font-family=\"Times New Roman,serif\" font-size=\"14.00\">samples = 5</text>\r\n",
       "<text text-anchor=\"middle\" x=\"1860\" y=\"-1032.8\" font-family=\"Times New Roman,serif\" font-size=\"14.00\">value = [0, 0, 0, 0, 1, 0, 1, 0, 3, 0]</text>\r\n",
       "</g>\r\n",
       "<!-- 19&#45;&gt;25 -->\r\n",
       "<g id=\"edge25\" class=\"edge\"><title>19&#45;&gt;25</title>\r\n",
       "<path fill=\"none\" stroke=\"black\" d=\"M1628.3,-1129.31C1666.46,-1117.89 1709.34,-1105.06 1747.74,-1093.58\"/>\r\n",
       "<polygon fill=\"black\" stroke=\"black\" points=\"1748.82,-1096.91 1757.4,-1090.69 1746.82,-1090.2 1748.82,-1096.91\"/>\r\n",
       "</g>\r\n",
       "<!-- 21 -->\r\n",
       "<g id=\"node22\" class=\"node\"><title>21</title>\r\n",
       "<polygon fill=\"#ffffff\" stroke=\"black\" points=\"1502.5,-989 1297.5,-989 1297.5,-921 1502.5,-921 1502.5,-989\"/>\r\n",
       "<text text-anchor=\"middle\" x=\"1400\" y=\"-973.8\" font-family=\"Times New Roman,serif\" font-size=\"14.00\">X[58] &lt;= 3.5</text>\r\n",
       "<text text-anchor=\"middle\" x=\"1400\" y=\"-958.8\" font-family=\"Times New Roman,serif\" font-size=\"14.00\">gini = 0.5</text>\r\n",
       "<text text-anchor=\"middle\" x=\"1400\" y=\"-943.8\" font-family=\"Times New Roman,serif\" font-size=\"14.00\">samples = 2</text>\r\n",
       "<text text-anchor=\"middle\" x=\"1400\" y=\"-928.8\" font-family=\"Times New Roman,serif\" font-size=\"14.00\">value = [0, 0, 1, 0, 0, 0, 0, 0, 0, 1]</text>\r\n",
       "</g>\r\n",
       "<!-- 20&#45;&gt;21 -->\r\n",
       "<g id=\"edge21\" class=\"edge\"><title>20&#45;&gt;21</title>\r\n",
       "<path fill=\"none\" stroke=\"black\" d=\"M1480.36,-1024.88C1469.56,-1015.62 1457.7,-1005.45 1446.49,-995.845\"/>\r\n",
       "<polygon fill=\"black\" stroke=\"black\" points=\"1448.72,-993.15 1438.85,-989.299 1444.16,-998.465 1448.72,-993.15\"/>\r\n",
       "</g>\r\n",
       "<!-- 24 -->\r\n",
       "<g id=\"node25\" class=\"node\"><title>24</title>\r\n",
       "<polygon fill=\"#e58139\" stroke=\"black\" points=\"1739,-981.5 1521,-981.5 1521,-928.5 1739,-928.5 1739,-981.5\"/>\r\n",
       "<text text-anchor=\"middle\" x=\"1630\" y=\"-966.3\" font-family=\"Times New Roman,serif\" font-size=\"14.00\">gini = 0.0</text>\r\n",
       "<text text-anchor=\"middle\" x=\"1630\" y=\"-951.3\" font-family=\"Times New Roman,serif\" font-size=\"14.00\">samples = 140</text>\r\n",
       "<text text-anchor=\"middle\" x=\"1630\" y=\"-936.3\" font-family=\"Times New Roman,serif\" font-size=\"14.00\">value = [140, 0, 0, 0, 0, 0, 0, 0, 0, 0]</text>\r\n",
       "</g>\r\n",
       "<!-- 20&#45;&gt;24 -->\r\n",
       "<g id=\"edge24\" class=\"edge\"><title>20&#45;&gt;24</title>\r\n",
       "<path fill=\"none\" stroke=\"black\" d=\"M1555.04,-1024.88C1567.72,-1013.23 1581.96,-1000.14 1594.6,-988.532\"/>\r\n",
       "<polygon fill=\"black\" stroke=\"black\" points=\"1597.23,-990.863 1602.23,-981.52 1592.5,-985.709 1597.23,-990.863\"/>\r\n",
       "</g>\r\n",
       "<!-- 22 -->\r\n",
       "<g id=\"node23\" class=\"node\"><title>22</title>\r\n",
       "<polygon fill=\"#e53958\" stroke=\"black\" points=\"1286.5,-877.5 1081.5,-877.5 1081.5,-824.5 1286.5,-824.5 1286.5,-877.5\"/>\r\n",
       "<text text-anchor=\"middle\" x=\"1184\" y=\"-862.3\" font-family=\"Times New Roman,serif\" font-size=\"14.00\">gini = 0.0</text>\r\n",
       "<text text-anchor=\"middle\" x=\"1184\" y=\"-847.3\" font-family=\"Times New Roman,serif\" font-size=\"14.00\">samples = 1</text>\r\n",
       "<text text-anchor=\"middle\" x=\"1184\" y=\"-832.3\" font-family=\"Times New Roman,serif\" font-size=\"14.00\">value = [0, 0, 0, 0, 0, 0, 0, 0, 0, 1]</text>\r\n",
       "</g>\r\n",
       "<!-- 21&#45;&gt;22 -->\r\n",
       "<g id=\"edge22\" class=\"edge\"><title>21&#45;&gt;22</title>\r\n",
       "<path fill=\"none\" stroke=\"black\" d=\"M1329.87,-920.884C1303.32,-908.346 1273.27,-894.157 1247.38,-881.93\"/>\r\n",
       "<polygon fill=\"black\" stroke=\"black\" points=\"1248.58,-878.625 1238.04,-877.52 1245.59,-884.955 1248.58,-878.625\"/>\r\n",
       "</g>\r\n",
       "<!-- 23 -->\r\n",
       "<g id=\"node24\" class=\"node\"><title>23</title>\r\n",
       "<polygon fill=\"#7be539\" stroke=\"black\" points=\"1509.5,-877.5 1304.5,-877.5 1304.5,-824.5 1509.5,-824.5 1509.5,-877.5\"/>\r\n",
       "<text text-anchor=\"middle\" x=\"1407\" y=\"-862.3\" font-family=\"Times New Roman,serif\" font-size=\"14.00\">gini = 0.0</text>\r\n",
       "<text text-anchor=\"middle\" x=\"1407\" y=\"-847.3\" font-family=\"Times New Roman,serif\" font-size=\"14.00\">samples = 1</text>\r\n",
       "<text text-anchor=\"middle\" x=\"1407\" y=\"-832.3\" font-family=\"Times New Roman,serif\" font-size=\"14.00\">value = [0, 0, 1, 0, 0, 0, 0, 0, 0, 0]</text>\r\n",
       "</g>\r\n",
       "<!-- 21&#45;&gt;23 -->\r\n",
       "<g id=\"edge23\" class=\"edge\"><title>21&#45;&gt;23</title>\r\n",
       "<path fill=\"none\" stroke=\"black\" d=\"M1402.27,-920.884C1403,-910.216 1403.82,-898.352 1404.56,-887.519\"/>\r\n",
       "<polygon fill=\"black\" stroke=\"black\" points=\"1408.06,-887.736 1405.25,-877.52 1401.07,-887.257 1408.06,-887.736\"/>\r\n",
       "</g>\r\n",
       "<!-- 26 -->\r\n",
       "<g id=\"node27\" class=\"node\"><title>26</title>\r\n",
       "<polygon fill=\"#ffffff\" stroke=\"black\" points=\"1962.5,-989 1757.5,-989 1757.5,-921 1962.5,-921 1962.5,-989\"/>\r\n",
       "<text text-anchor=\"middle\" x=\"1860\" y=\"-973.8\" font-family=\"Times New Roman,serif\" font-size=\"14.00\">X[2] &lt;= 0.5</text>\r\n",
       "<text text-anchor=\"middle\" x=\"1860\" y=\"-958.8\" font-family=\"Times New Roman,serif\" font-size=\"14.00\">gini = 0.5</text>\r\n",
       "<text text-anchor=\"middle\" x=\"1860\" y=\"-943.8\" font-family=\"Times New Roman,serif\" font-size=\"14.00\">samples = 2</text>\r\n",
       "<text text-anchor=\"middle\" x=\"1860\" y=\"-928.8\" font-family=\"Times New Roman,serif\" font-size=\"14.00\">value = [0, 0, 0, 0, 1, 0, 1, 0, 0, 0]</text>\r\n",
       "</g>\r\n",
       "<!-- 25&#45;&gt;26 -->\r\n",
       "<g id=\"edge26\" class=\"edge\"><title>25&#45;&gt;26</title>\r\n",
       "<path fill=\"none\" stroke=\"black\" d=\"M1860,-1024.88C1860,-1016.78 1860,-1007.98 1860,-999.472\"/>\r\n",
       "<polygon fill=\"black\" stroke=\"black\" points=\"1863.5,-999.299 1860,-989.299 1856.5,-999.299 1863.5,-999.299\"/>\r\n",
       "</g>\r\n",
       "<!-- 29 -->\r\n",
       "<g id=\"node30\" class=\"node\"><title>29</title>\r\n",
       "<polygon fill=\"#e539c0\" stroke=\"black\" points=\"2185.5,-981.5 1980.5,-981.5 1980.5,-928.5 2185.5,-928.5 2185.5,-981.5\"/>\r\n",
       "<text text-anchor=\"middle\" x=\"2083\" y=\"-966.3\" font-family=\"Times New Roman,serif\" font-size=\"14.00\">gini = 0.0</text>\r\n",
       "<text text-anchor=\"middle\" x=\"2083\" y=\"-951.3\" font-family=\"Times New Roman,serif\" font-size=\"14.00\">samples = 3</text>\r\n",
       "<text text-anchor=\"middle\" x=\"2083\" y=\"-936.3\" font-family=\"Times New Roman,serif\" font-size=\"14.00\">value = [0, 0, 0, 0, 0, 0, 0, 0, 3, 0]</text>\r\n",
       "</g>\r\n",
       "<!-- 25&#45;&gt;29 -->\r\n",
       "<g id=\"edge29\" class=\"edge\"><title>25&#45;&gt;29</title>\r\n",
       "<path fill=\"none\" stroke=\"black\" d=\"M1932.4,-1024.88C1959.93,-1012.29 1991.1,-998.033 2017.92,-985.769\"/>\r\n",
       "<polygon fill=\"black\" stroke=\"black\" points=\"2019.57,-988.862 2027.21,-981.52 2016.66,-982.497 2019.57,-988.862\"/>\r\n",
       "</g>\r\n",
       "<!-- 27 -->\r\n",
       "<g id=\"node28\" class=\"node\"><title>27</title>\r\n",
       "<polygon fill=\"#39e5c5\" stroke=\"black\" points=\"1739.5,-877.5 1534.5,-877.5 1534.5,-824.5 1739.5,-824.5 1739.5,-877.5\"/>\r\n",
       "<text text-anchor=\"middle\" x=\"1637\" y=\"-862.3\" font-family=\"Times New Roman,serif\" font-size=\"14.00\">gini = 0.0</text>\r\n",
       "<text text-anchor=\"middle\" x=\"1637\" y=\"-847.3\" font-family=\"Times New Roman,serif\" font-size=\"14.00\">samples = 1</text>\r\n",
       "<text text-anchor=\"middle\" x=\"1637\" y=\"-832.3\" font-family=\"Times New Roman,serif\" font-size=\"14.00\">value = [0, 0, 0, 0, 1, 0, 0, 0, 0, 0]</text>\r\n",
       "</g>\r\n",
       "<!-- 26&#45;&gt;27 -->\r\n",
       "<g id=\"edge27\" class=\"edge\"><title>26&#45;&gt;27</title>\r\n",
       "<path fill=\"none\" stroke=\"black\" d=\"M1787.6,-920.884C1760.07,-908.291 1728.9,-894.033 1702.08,-881.769\"/>\r\n",
       "<polygon fill=\"black\" stroke=\"black\" points=\"1703.34,-878.497 1692.79,-877.52 1700.43,-884.862 1703.34,-878.497\"/>\r\n",
       "</g>\r\n",
       "<!-- 28 -->\r\n",
       "<g id=\"node29\" class=\"node\"><title>28</title>\r\n",
       "<polygon fill=\"#3c39e5\" stroke=\"black\" points=\"1962.5,-877.5 1757.5,-877.5 1757.5,-824.5 1962.5,-824.5 1962.5,-877.5\"/>\r\n",
       "<text text-anchor=\"middle\" x=\"1860\" y=\"-862.3\" font-family=\"Times New Roman,serif\" font-size=\"14.00\">gini = 0.0</text>\r\n",
       "<text text-anchor=\"middle\" x=\"1860\" y=\"-847.3\" font-family=\"Times New Roman,serif\" font-size=\"14.00\">samples = 1</text>\r\n",
       "<text text-anchor=\"middle\" x=\"1860\" y=\"-832.3\" font-family=\"Times New Roman,serif\" font-size=\"14.00\">value = [0, 0, 0, 0, 0, 0, 1, 0, 0, 0]</text>\r\n",
       "</g>\r\n",
       "<!-- 26&#45;&gt;28 -->\r\n",
       "<g id=\"edge28\" class=\"edge\"><title>26&#45;&gt;28</title>\r\n",
       "<path fill=\"none\" stroke=\"black\" d=\"M1860,-920.884C1860,-910.326 1860,-898.597 1860,-887.854\"/>\r\n",
       "<polygon fill=\"black\" stroke=\"black\" points=\"1863.5,-887.52 1860,-877.52 1856.5,-887.52 1863.5,-887.52\"/>\r\n",
       "</g>\r\n",
       "<!-- 31 -->\r\n",
       "<g id=\"node32\" class=\"node\"><title>31</title>\r\n",
       "<polygon fill=\"#e7e6fc\" stroke=\"black\" points=\"3736.5,-1301 3477.5,-1301 3477.5,-1233 3736.5,-1233 3736.5,-1301\"/>\r\n",
       "<text text-anchor=\"middle\" x=\"3607\" y=\"-1285.8\" font-family=\"Times New Roman,serif\" font-size=\"14.00\">X[42] &lt;= 8.5</text>\r\n",
       "<text text-anchor=\"middle\" x=\"3607\" y=\"-1270.8\" font-family=\"Times New Roman,serif\" font-size=\"14.00\">gini = 0.74</text>\r\n",
       "<text text-anchor=\"middle\" x=\"3607\" y=\"-1255.8\" font-family=\"Times New Roman,serif\" font-size=\"14.00\">samples = 373</text>\r\n",
       "<text text-anchor=\"middle\" x=\"3607\" y=\"-1240.8\" font-family=\"Times New Roman,serif\" font-size=\"14.00\">value = [0, 36, 34, 10, 32, 110, 143, 5, 2, 1]</text>\r\n",
       "</g>\r\n",
       "<!-- 30&#45;&gt;31 -->\r\n",
       "<g id=\"edge31\" class=\"edge\"><title>30&#45;&gt;31</title>\r\n",
       "<path fill=\"none\" stroke=\"black\" d=\"M3607,-1336.88C3607,-1328.78 3607,-1319.98 3607,-1311.47\"/>\r\n",
       "<polygon fill=\"black\" stroke=\"black\" points=\"3610.5,-1311.3 3607,-1301.3 3603.5,-1311.3 3610.5,-1311.3\"/>\r\n",
       "</g>\r\n",
       "<!-- 84 -->\r\n",
       "<g id=\"node85\" class=\"node\"><title>84</title>\r\n",
       "<polygon fill=\"#fefffe\" stroke=\"black\" points=\"5089.5,-1301 4790.5,-1301 4790.5,-1233 5089.5,-1233 5089.5,-1301\"/>\r\n",
       "<text text-anchor=\"middle\" x=\"4940\" y=\"-1285.8\" font-family=\"Times New Roman,serif\" font-size=\"14.00\">X[60] &lt;= 2.5</text>\r\n",
       "<text text-anchor=\"middle\" x=\"4940\" y=\"-1270.8\" font-family=\"Times New Roman,serif\" font-size=\"14.00\">gini = 0.859</text>\r\n",
       "<text text-anchor=\"middle\" x=\"4940\" y=\"-1255.8\" font-family=\"Times New Roman,serif\" font-size=\"14.00\">samples = 843</text>\r\n",
       "<text text-anchor=\"middle\" x=\"4940\" y=\"-1240.8\" font-family=\"Times New Roman,serif\" font-size=\"14.00\">value = [2, 111, 104, 135, 111, 6, 3, 132, 131, 108]</text>\r\n",
       "</g>\r\n",
       "<!-- 30&#45;&gt;84 -->\r\n",
       "<g id=\"edge84\" class=\"edge\"><title>30&#45;&gt;84</title>\r\n",
       "<path fill=\"none\" stroke=\"black\" d=\"M3770.12,-1357.52C4027.52,-1337.82 4524.82,-1299.77 4780.17,-1280.23\"/>\r\n",
       "<polygon fill=\"black\" stroke=\"black\" points=\"4780.56,-1283.71 4790.27,-1279.46 4780.03,-1276.73 4780.56,-1283.71\"/>\r\n",
       "</g>\r\n",
       "<!-- 32 -->\r\n",
       "<g id=\"node33\" class=\"node\"><title>32</title>\r\n",
       "<polygon fill=\"#9bcef2\" stroke=\"black\" points=\"3416.5,-1197 3177.5,-1197 3177.5,-1129 3416.5,-1129 3416.5,-1197\"/>\r\n",
       "<text text-anchor=\"middle\" x=\"3297\" y=\"-1181.8\" font-family=\"Times New Roman,serif\" font-size=\"14.00\">X[5] &lt;= 1.5</text>\r\n",
       "<text text-anchor=\"middle\" x=\"3297\" y=\"-1166.8\" font-family=\"Times New Roman,serif\" font-size=\"14.00\">gini = 0.615</text>\r\n",
       "<text text-anchor=\"middle\" x=\"3297\" y=\"-1151.8\" font-family=\"Times New Roman,serif\" font-size=\"14.00\">samples = 184</text>\r\n",
       "<text text-anchor=\"middle\" x=\"3297\" y=\"-1136.8\" font-family=\"Times New Roman,serif\" font-size=\"14.00\">value = [0, 29, 24, 10, 6, 107, 1, 4, 2, 1]</text>\r\n",
       "</g>\r\n",
       "<!-- 31&#45;&gt;32 -->\r\n",
       "<g id=\"edge32\" class=\"edge\"><title>31&#45;&gt;32</title>\r\n",
       "<path fill=\"none\" stroke=\"black\" d=\"M3506.35,-1232.88C3474.57,-1222.43 3439.3,-1210.82 3406.91,-1200.16\"/>\r\n",
       "<polygon fill=\"black\" stroke=\"black\" points=\"3408,-1196.84 3397.41,-1197.04 3405.81,-1203.49 3408,-1196.84\"/>\r\n",
       "</g>\r\n",
       "<!-- 63 -->\r\n",
       "<g id=\"node64\" class=\"node\"><title>63</title>\r\n",
       "<polygon fill=\"#7472ec\" stroke=\"black\" points=\"3922,-1197 3690,-1197 3690,-1129 3922,-1129 3922,-1197\"/>\r\n",
       "<text text-anchor=\"middle\" x=\"3806\" y=\"-1181.8\" font-family=\"Times New Roman,serif\" font-size=\"14.00\">X[54] &lt;= 1.5</text>\r\n",
       "<text text-anchor=\"middle\" x=\"3806\" y=\"-1166.8\" font-family=\"Times New Roman,serif\" font-size=\"14.00\">gini = 0.412</text>\r\n",
       "<text text-anchor=\"middle\" x=\"3806\" y=\"-1151.8\" font-family=\"Times New Roman,serif\" font-size=\"14.00\">samples = 189</text>\r\n",
       "<text text-anchor=\"middle\" x=\"3806\" y=\"-1136.8\" font-family=\"Times New Roman,serif\" font-size=\"14.00\">value = [0, 7, 10, 0, 26, 3, 142, 1, 0, 0]</text>\r\n",
       "</g>\r\n",
       "<!-- 31&#45;&gt;63 -->\r\n",
       "<g id=\"edge63\" class=\"edge\"><title>31&#45;&gt;63</title>\r\n",
       "<path fill=\"none\" stroke=\"black\" d=\"M3671.61,-1232.88C3691,-1222.95 3712.41,-1211.97 3732.34,-1201.76\"/>\r\n",
       "<polygon fill=\"black\" stroke=\"black\" points=\"3734.07,-1204.8 3741.37,-1197.12 3730.88,-1198.57 3734.07,-1204.8\"/>\r\n",
       "</g>\r\n",
       "<!-- 33 -->\r\n",
       "<g id=\"node34\" class=\"node\"><title>33</title>\r\n",
       "<polygon fill=\"#fcfcec\" stroke=\"black\" points=\"2952,-1093 2734,-1093 2734,-1025 2952,-1025 2952,-1093\"/>\r\n",
       "<text text-anchor=\"middle\" x=\"2843\" y=\"-1077.8\" font-family=\"Times New Roman,serif\" font-size=\"14.00\">X[19] &lt;= 13.5</text>\r\n",
       "<text text-anchor=\"middle\" x=\"2843\" y=\"-1062.8\" font-family=\"Times New Roman,serif\" font-size=\"14.00\">gini = 0.733</text>\r\n",
       "<text text-anchor=\"middle\" x=\"2843\" y=\"-1047.8\" font-family=\"Times New Roman,serif\" font-size=\"14.00\">samples = 76</text>\r\n",
       "<text text-anchor=\"middle\" x=\"2843\" y=\"-1032.8\" font-family=\"Times New Roman,serif\" font-size=\"14.00\">value = [0, 29, 24, 9, 5, 2, 1, 3, 2, 1]</text>\r\n",
       "</g>\r\n",
       "<!-- 32&#45;&gt;33 -->\r\n",
       "<g id=\"edge33\" class=\"edge\"><title>32&#45;&gt;33</title>\r\n",
       "<path fill=\"none\" stroke=\"black\" d=\"M3177.42,-1135.13C3110.95,-1120.2 3028.51,-1101.68 2962.11,-1086.76\"/>\r\n",
       "<polygon fill=\"black\" stroke=\"black\" points=\"2962.54,-1083.27 2952.02,-1084.49 2961.01,-1090.1 2962.54,-1083.27\"/>\r\n",
       "</g>\r\n",
       "<!-- 56 -->\r\n",
       "<g id=\"node57\" class=\"node\"><title>56</title>\r\n",
       "<polygon fill=\"#3fa0e6\" stroke=\"black\" points=\"3406,-1093 3188,-1093 3188,-1025 3406,-1025 3406,-1093\"/>\r\n",
       "<text text-anchor=\"middle\" x=\"3297\" y=\"-1077.8\" font-family=\"Times New Roman,serif\" font-size=\"14.00\">X[18] &lt;= 4.5</text>\r\n",
       "<text text-anchor=\"middle\" x=\"3297\" y=\"-1062.8\" font-family=\"Times New Roman,serif\" font-size=\"14.00\">gini = 0.055</text>\r\n",
       "<text text-anchor=\"middle\" x=\"3297\" y=\"-1047.8\" font-family=\"Times New Roman,serif\" font-size=\"14.00\">samples = 108</text>\r\n",
       "<text text-anchor=\"middle\" x=\"3297\" y=\"-1032.8\" font-family=\"Times New Roman,serif\" font-size=\"14.00\">value = [0, 0, 0, 1, 1, 105, 0, 1, 0, 0]</text>\r\n",
       "</g>\r\n",
       "<!-- 32&#45;&gt;56 -->\r\n",
       "<g id=\"edge56\" class=\"edge\"><title>32&#45;&gt;56</title>\r\n",
       "<path fill=\"none\" stroke=\"black\" d=\"M3297,-1128.88C3297,-1120.78 3297,-1111.98 3297,-1103.47\"/>\r\n",
       "<polygon fill=\"black\" stroke=\"black\" points=\"3300.5,-1103.3 3297,-1093.3 3293.5,-1103.3 3300.5,-1103.3\"/>\r\n",
       "</g>\r\n",
       "<!-- 34 -->\r\n",
       "<g id=\"node35\" class=\"node\"><title>34</title>\r\n",
       "<polygon fill=\"#c8f4ac\" stroke=\"black\" points=\"2475,-989 2263,-989 2263,-921 2475,-921 2475,-989\"/>\r\n",
       "<text text-anchor=\"middle\" x=\"2369\" y=\"-973.8\" font-family=\"Times New Roman,serif\" font-size=\"14.00\">X[37] &lt;= 0.5</text>\r\n",
       "<text text-anchor=\"middle\" x=\"2369\" y=\"-958.8\" font-family=\"Times New Roman,serif\" font-size=\"14.00\">gini = 0.663</text>\r\n",
       "<text text-anchor=\"middle\" x=\"2369\" y=\"-943.8\" font-family=\"Times New Roman,serif\" font-size=\"14.00\">samples = 45</text>\r\n",
       "<text text-anchor=\"middle\" x=\"2369\" y=\"-928.8\" font-family=\"Times New Roman,serif\" font-size=\"14.00\">value = [0, 2, 24, 9, 2, 2, 0, 3, 2, 1]</text>\r\n",
       "</g>\r\n",
       "<!-- 33&#45;&gt;34 -->\r\n",
       "<g id=\"edge34\" class=\"edge\"><title>33&#45;&gt;34</title>\r\n",
       "<path fill=\"none\" stroke=\"black\" d=\"M2733.96,-1034.54C2659.53,-1018.52 2561.05,-997.327 2485.15,-980.994\"/>\r\n",
       "<polygon fill=\"black\" stroke=\"black\" points=\"2485.58,-977.507 2475.07,-978.825 2484.11,-984.35 2485.58,-977.507\"/>\r\n",
       "</g>\r\n",
       "<!-- 51 -->\r\n",
       "<g id=\"node52\" class=\"node\"><title>51</title>\r\n",
       "<polygon fill=\"#e6e955\" stroke=\"black\" points=\"2949,-989 2737,-989 2737,-921 2949,-921 2949,-989\"/>\r\n",
       "<text text-anchor=\"middle\" x=\"2843\" y=\"-973.8\" font-family=\"Times New Roman,serif\" font-size=\"14.00\">X[26] &lt;= 15.5</text>\r\n",
       "<text text-anchor=\"middle\" x=\"2843\" y=\"-958.8\" font-family=\"Times New Roman,serif\" font-size=\"14.00\">gini = 0.231</text>\r\n",
       "<text text-anchor=\"middle\" x=\"2843\" y=\"-943.8\" font-family=\"Times New Roman,serif\" font-size=\"14.00\">samples = 31</text>\r\n",
       "<text text-anchor=\"middle\" x=\"2843\" y=\"-928.8\" font-family=\"Times New Roman,serif\" font-size=\"14.00\">value = [0, 27, 0, 0, 3, 0, 1, 0, 0, 0]</text>\r\n",
       "</g>\r\n",
       "<!-- 33&#45;&gt;51 -->\r\n",
       "<g id=\"edge51\" class=\"edge\"><title>33&#45;&gt;51</title>\r\n",
       "<path fill=\"none\" stroke=\"black\" d=\"M2843,-1024.88C2843,-1016.78 2843,-1007.98 2843,-999.472\"/>\r\n",
       "<polygon fill=\"black\" stroke=\"black\" points=\"2846.5,-999.299 2843,-989.299 2839.5,-999.299 2846.5,-999.299\"/>\r\n",
       "</g>\r\n",
       "<!-- 35 -->\r\n",
       "<g id=\"node36\" class=\"node\"><title>35</title>\r\n",
       "<polygon fill=\"#80e641\" stroke=\"black\" points=\"2193,-885 1981,-885 1981,-817 2193,-817 2193,-885\"/>\r\n",
       "<text text-anchor=\"middle\" x=\"2087\" y=\"-869.8\" font-family=\"Times New Roman,serif\" font-size=\"14.00\">X[18] &lt;= 0.5</text>\r\n",
       "<text text-anchor=\"middle\" x=\"2087\" y=\"-854.8\" font-family=\"Times New Roman,serif\" font-size=\"14.00\">gini = 0.077</text>\r\n",
       "<text text-anchor=\"middle\" x=\"2087\" y=\"-839.8\" font-family=\"Times New Roman,serif\" font-size=\"14.00\">samples = 25</text>\r\n",
       "<text text-anchor=\"middle\" x=\"2087\" y=\"-824.8\" font-family=\"Times New Roman,serif\" font-size=\"14.00\">value = [0, 1, 24, 0, 0, 0, 0, 0, 0, 0]</text>\r\n",
       "</g>\r\n",
       "<!-- 34&#45;&gt;35 -->\r\n",
       "<g id=\"edge35\" class=\"edge\"><title>34&#45;&gt;35</title>\r\n",
       "<path fill=\"none\" stroke=\"black\" d=\"M2277.44,-920.884C2248.98,-910.588 2217.44,-899.179 2188.34,-888.656\"/>\r\n",
       "<polygon fill=\"black\" stroke=\"black\" points=\"2189.17,-885.235 2178.58,-885.125 2186.79,-891.817 2189.17,-885.235\"/>\r\n",
       "</g>\r\n",
       "<!-- 38 -->\r\n",
       "<g id=\"node39\" class=\"node\"><title>38</title>\r\n",
       "<polygon fill=\"#b9f6c6\" stroke=\"black\" points=\"2471.5,-885 2266.5,-885 2266.5,-817 2471.5,-817 2471.5,-885\"/>\r\n",
       "<text text-anchor=\"middle\" x=\"2369\" y=\"-869.8\" font-family=\"Times New Roman,serif\" font-size=\"14.00\">X[43] &lt;= 5.5</text>\r\n",
       "<text text-anchor=\"middle\" x=\"2369\" y=\"-854.8\" font-family=\"Times New Roman,serif\" font-size=\"14.00\">gini = 0.74</text>\r\n",
       "<text text-anchor=\"middle\" x=\"2369\" y=\"-839.8\" font-family=\"Times New Roman,serif\" font-size=\"14.00\">samples = 20</text>\r\n",
       "<text text-anchor=\"middle\" x=\"2369\" y=\"-824.8\" font-family=\"Times New Roman,serif\" font-size=\"14.00\">value = [0, 1, 0, 9, 2, 2, 0, 3, 2, 1]</text>\r\n",
       "</g>\r\n",
       "<!-- 34&#45;&gt;38 -->\r\n",
       "<g id=\"edge38\" class=\"edge\"><title>34&#45;&gt;38</title>\r\n",
       "<path fill=\"none\" stroke=\"black\" d=\"M2369,-920.884C2369,-912.778 2369,-903.982 2369,-895.472\"/>\r\n",
       "<polygon fill=\"black\" stroke=\"black\" points=\"2372.5,-895.299 2369,-885.299 2365.5,-895.299 2372.5,-895.299\"/>\r\n",
       "</g>\r\n",
       "<!-- 36 -->\r\n",
       "<g id=\"node37\" class=\"node\"><title>36</title>\r\n",
       "<polygon fill=\"#e2e539\" stroke=\"black\" points=\"1906.5,-773.5 1701.5,-773.5 1701.5,-720.5 1906.5,-720.5 1906.5,-773.5\"/>\r\n",
       "<text text-anchor=\"middle\" x=\"1804\" y=\"-758.3\" font-family=\"Times New Roman,serif\" font-size=\"14.00\">gini = 0.0</text>\r\n",
       "<text text-anchor=\"middle\" x=\"1804\" y=\"-743.3\" font-family=\"Times New Roman,serif\" font-size=\"14.00\">samples = 1</text>\r\n",
       "<text text-anchor=\"middle\" x=\"1804\" y=\"-728.3\" font-family=\"Times New Roman,serif\" font-size=\"14.00\">value = [0, 1, 0, 0, 0, 0, 0, 0, 0, 0]</text>\r\n",
       "</g>\r\n",
       "<!-- 35&#45;&gt;36 -->\r\n",
       "<g id=\"edge36\" class=\"edge\"><title>35&#45;&gt;36</title>\r\n",
       "<path fill=\"none\" stroke=\"black\" d=\"M1995.12,-816.884C1959.42,-804.016 1918.89,-789.409 1884.37,-776.968\"/>\r\n",
       "<polygon fill=\"black\" stroke=\"black\" points=\"1885.4,-773.618 1874.81,-773.52 1883.03,-780.203 1885.4,-773.618\"/>\r\n",
       "</g>\r\n",
       "<!-- 37 -->\r\n",
       "<g id=\"node38\" class=\"node\"><title>37</title>\r\n",
       "<polygon fill=\"#7be539\" stroke=\"black\" points=\"2137,-773.5 1925,-773.5 1925,-720.5 2137,-720.5 2137,-773.5\"/>\r\n",
       "<text text-anchor=\"middle\" x=\"2031\" y=\"-758.3\" font-family=\"Times New Roman,serif\" font-size=\"14.00\">gini = 0.0</text>\r\n",
       "<text text-anchor=\"middle\" x=\"2031\" y=\"-743.3\" font-family=\"Times New Roman,serif\" font-size=\"14.00\">samples = 24</text>\r\n",
       "<text text-anchor=\"middle\" x=\"2031\" y=\"-728.3\" font-family=\"Times New Roman,serif\" font-size=\"14.00\">value = [0, 0, 24, 0, 0, 0, 0, 0, 0, 0]</text>\r\n",
       "</g>\r\n",
       "<!-- 35&#45;&gt;37 -->\r\n",
       "<g id=\"edge37\" class=\"edge\"><title>35&#45;&gt;37</title>\r\n",
       "<path fill=\"none\" stroke=\"black\" d=\"M2068.82,-816.884C2062.78,-805.886 2056.04,-793.617 2049.95,-782.517\"/>\r\n",
       "<polygon fill=\"black\" stroke=\"black\" points=\"2052.89,-780.601 2045.01,-773.52 2046.76,-783.97 2052.89,-780.601\"/>\r\n",
       "</g>\r\n",
       "<!-- 39 -->\r\n",
       "<g id=\"node40\" class=\"node\"><title>39</title>\r\n",
       "<polygon fill=\"#74ed8e\" stroke=\"black\" points=\"2360.5,-781 2155.5,-781 2155.5,-713 2360.5,-713 2360.5,-781\"/>\r\n",
       "<text text-anchor=\"middle\" x=\"2258\" y=\"-765.8\" font-family=\"Times New Roman,serif\" font-size=\"14.00\">X[12] &lt;= 10.5</text>\r\n",
       "<text text-anchor=\"middle\" x=\"2258\" y=\"-750.8\" font-family=\"Times New Roman,serif\" font-size=\"14.00\">gini = 0.403</text>\r\n",
       "<text text-anchor=\"middle\" x=\"2258\" y=\"-735.8\" font-family=\"Times New Roman,serif\" font-size=\"14.00\">samples = 12</text>\r\n",
       "<text text-anchor=\"middle\" x=\"2258\" y=\"-720.8\" font-family=\"Times New Roman,serif\" font-size=\"14.00\">value = [0, 0, 0, 9, 0, 2, 0, 0, 0, 1]</text>\r\n",
       "</g>\r\n",
       "<!-- 38&#45;&gt;39 -->\r\n",
       "<g id=\"edge39\" class=\"edge\"><title>38&#45;&gt;39</title>\r\n",
       "<path fill=\"none\" stroke=\"black\" d=\"M2332.96,-816.884C2322.98,-807.709 2312.03,-797.65 2301.66,-788.123\"/>\r\n",
       "<polygon fill=\"black\" stroke=\"black\" points=\"2303.97,-785.488 2294.24,-781.299 2299.23,-790.643 2303.97,-785.488\"/>\r\n",
       "</g>\r\n",
       "<!-- 44 -->\r\n",
       "<g id=\"node45\" class=\"node\"><title>44</title>\r\n",
       "<polygon fill=\"#f0defb\" stroke=\"black\" points=\"2583.5,-781 2378.5,-781 2378.5,-713 2583.5,-713 2583.5,-781\"/>\r\n",
       "<text text-anchor=\"middle\" x=\"2481\" y=\"-765.8\" font-family=\"Times New Roman,serif\" font-size=\"14.00\">X[52] &lt;= 3.5</text>\r\n",
       "<text text-anchor=\"middle\" x=\"2481\" y=\"-750.8\" font-family=\"Times New Roman,serif\" font-size=\"14.00\">gini = 0.719</text>\r\n",
       "<text text-anchor=\"middle\" x=\"2481\" y=\"-735.8\" font-family=\"Times New Roman,serif\" font-size=\"14.00\">samples = 8</text>\r\n",
       "<text text-anchor=\"middle\" x=\"2481\" y=\"-720.8\" font-family=\"Times New Roman,serif\" font-size=\"14.00\">value = [0, 1, 0, 0, 2, 0, 0, 3, 2, 0]</text>\r\n",
       "</g>\r\n",
       "<!-- 38&#45;&gt;44 -->\r\n",
       "<g id=\"edge44\" class=\"edge\"><title>38&#45;&gt;44</title>\r\n",
       "<path fill=\"none\" stroke=\"black\" d=\"M2405.36,-816.884C2415.44,-807.709 2426.48,-797.65 2436.94,-788.123\"/>\r\n",
       "<polygon fill=\"black\" stroke=\"black\" points=\"2439.4,-790.62 2444.44,-781.299 2434.69,-785.445 2439.4,-790.62\"/>\r\n",
       "</g>\r\n",
       "<!-- 40 -->\r\n",
       "<g id=\"node41\" class=\"node\"><title>40</title>\r\n",
       "<polygon fill=\"#9ccef2\" stroke=\"black\" points=\"2137.5,-677 1932.5,-677 1932.5,-609 2137.5,-609 2137.5,-677\"/>\r\n",
       "<text text-anchor=\"middle\" x=\"2035\" y=\"-661.8\" font-family=\"Times New Roman,serif\" font-size=\"14.00\">X[53] &lt;= 9.5</text>\r\n",
       "<text text-anchor=\"middle\" x=\"2035\" y=\"-646.8\" font-family=\"Times New Roman,serif\" font-size=\"14.00\">gini = 0.444</text>\r\n",
       "<text text-anchor=\"middle\" x=\"2035\" y=\"-631.8\" font-family=\"Times New Roman,serif\" font-size=\"14.00\">samples = 3</text>\r\n",
       "<text text-anchor=\"middle\" x=\"2035\" y=\"-616.8\" font-family=\"Times New Roman,serif\" font-size=\"14.00\">value = [0, 0, 0, 0, 0, 2, 0, 0, 0, 1]</text>\r\n",
       "</g>\r\n",
       "<!-- 39&#45;&gt;40 -->\r\n",
       "<g id=\"edge40\" class=\"edge\"><title>39&#45;&gt;40</title>\r\n",
       "<path fill=\"none\" stroke=\"black\" d=\"M2185.6,-712.884C2163.58,-702.812 2139.23,-691.674 2116.64,-681.344\"/>\r\n",
       "<polygon fill=\"black\" stroke=\"black\" points=\"2117.97,-678.101 2107.42,-677.125 2115.06,-684.467 2117.97,-678.101\"/>\r\n",
       "</g>\r\n",
       "<!-- 43 -->\r\n",
       "<g id=\"node44\" class=\"node\"><title>43</title>\r\n",
       "<polygon fill=\"#39e55e\" stroke=\"black\" points=\"2360.5,-669.5 2155.5,-669.5 2155.5,-616.5 2360.5,-616.5 2360.5,-669.5\"/>\r\n",
       "<text text-anchor=\"middle\" x=\"2258\" y=\"-654.3\" font-family=\"Times New Roman,serif\" font-size=\"14.00\">gini = 0.0</text>\r\n",
       "<text text-anchor=\"middle\" x=\"2258\" y=\"-639.3\" font-family=\"Times New Roman,serif\" font-size=\"14.00\">samples = 9</text>\r\n",
       "<text text-anchor=\"middle\" x=\"2258\" y=\"-624.3\" font-family=\"Times New Roman,serif\" font-size=\"14.00\">value = [0, 0, 0, 9, 0, 0, 0, 0, 0, 0]</text>\r\n",
       "</g>\r\n",
       "<!-- 39&#45;&gt;43 -->\r\n",
       "<g id=\"edge43\" class=\"edge\"><title>39&#45;&gt;43</title>\r\n",
       "<path fill=\"none\" stroke=\"black\" d=\"M2258,-712.884C2258,-702.326 2258,-690.597 2258,-679.854\"/>\r\n",
       "<polygon fill=\"black\" stroke=\"black\" points=\"2261.5,-679.52 2258,-669.52 2254.5,-679.52 2261.5,-679.52\"/>\r\n",
       "</g>\r\n",
       "<!-- 41 -->\r\n",
       "<g id=\"node42\" class=\"node\"><title>41</title>\r\n",
       "<polygon fill=\"#e53958\" stroke=\"black\" points=\"2026.5,-565.5 1821.5,-565.5 1821.5,-512.5 2026.5,-512.5 2026.5,-565.5\"/>\r\n",
       "<text text-anchor=\"middle\" x=\"1924\" y=\"-550.3\" font-family=\"Times New Roman,serif\" font-size=\"14.00\">gini = 0.0</text>\r\n",
       "<text text-anchor=\"middle\" x=\"1924\" y=\"-535.3\" font-family=\"Times New Roman,serif\" font-size=\"14.00\">samples = 1</text>\r\n",
       "<text text-anchor=\"middle\" x=\"1924\" y=\"-520.3\" font-family=\"Times New Roman,serif\" font-size=\"14.00\">value = [0, 0, 0, 0, 0, 0, 0, 0, 0, 1]</text>\r\n",
       "</g>\r\n",
       "<!-- 40&#45;&gt;41 -->\r\n",
       "<g id=\"edge41\" class=\"edge\"><title>40&#45;&gt;41</title>\r\n",
       "<path fill=\"none\" stroke=\"black\" d=\"M1998.96,-608.884C1986.28,-597.226 1972.04,-584.141 1959.4,-572.532\"/>\r\n",
       "<polygon fill=\"black\" stroke=\"black\" points=\"1961.5,-569.709 1951.77,-565.52 1956.77,-574.863 1961.5,-569.709\"/>\r\n",
       "</g>\r\n",
       "<!-- 42 -->\r\n",
       "<g id=\"node43\" class=\"node\"><title>42</title>\r\n",
       "<polygon fill=\"#399de5\" stroke=\"black\" points=\"2249.5,-565.5 2044.5,-565.5 2044.5,-512.5 2249.5,-512.5 2249.5,-565.5\"/>\r\n",
       "<text text-anchor=\"middle\" x=\"2147\" y=\"-550.3\" font-family=\"Times New Roman,serif\" font-size=\"14.00\">gini = 0.0</text>\r\n",
       "<text text-anchor=\"middle\" x=\"2147\" y=\"-535.3\" font-family=\"Times New Roman,serif\" font-size=\"14.00\">samples = 2</text>\r\n",
       "<text text-anchor=\"middle\" x=\"2147\" y=\"-520.3\" font-family=\"Times New Roman,serif\" font-size=\"14.00\">value = [0, 0, 0, 0, 0, 2, 0, 0, 0, 0]</text>\r\n",
       "</g>\r\n",
       "<!-- 40&#45;&gt;42 -->\r\n",
       "<g id=\"edge42\" class=\"edge\"><title>40&#45;&gt;42</title>\r\n",
       "<path fill=\"none\" stroke=\"black\" d=\"M2071.36,-608.884C2084.16,-597.226 2098.53,-584.141 2111.28,-572.532\"/>\r\n",
       "<polygon fill=\"black\" stroke=\"black\" points=\"2113.94,-574.841 2118.98,-565.52 2109.23,-569.666 2113.94,-574.841\"/>\r\n",
       "</g>\r\n",
       "<!-- 45 -->\r\n",
       "<g id=\"node46\" class=\"node\"><title>45</title>\r\n",
       "<polygon fill=\"#a339e5\" stroke=\"black\" points=\"2583.5,-669.5 2378.5,-669.5 2378.5,-616.5 2583.5,-616.5 2583.5,-669.5\"/>\r\n",
       "<text text-anchor=\"middle\" x=\"2481\" y=\"-654.3\" font-family=\"Times New Roman,serif\" font-size=\"14.00\">gini = 0.0</text>\r\n",
       "<text text-anchor=\"middle\" x=\"2481\" y=\"-639.3\" font-family=\"Times New Roman,serif\" font-size=\"14.00\">samples = 3</text>\r\n",
       "<text text-anchor=\"middle\" x=\"2481\" y=\"-624.3\" font-family=\"Times New Roman,serif\" font-size=\"14.00\">value = [0, 0, 0, 0, 0, 0, 0, 3, 0, 0]</text>\r\n",
       "</g>\r\n",
       "<!-- 44&#45;&gt;45 -->\r\n",
       "<g id=\"edge45\" class=\"edge\"><title>44&#45;&gt;45</title>\r\n",
       "<path fill=\"none\" stroke=\"black\" d=\"M2481,-712.884C2481,-702.326 2481,-690.597 2481,-679.854\"/>\r\n",
       "<polygon fill=\"black\" stroke=\"black\" points=\"2484.5,-679.52 2481,-669.52 2477.5,-679.52 2484.5,-679.52\"/>\r\n",
       "</g>\r\n",
       "<!-- 46 -->\r\n",
       "<g id=\"node47\" class=\"node\"><title>46</title>\r\n",
       "<polygon fill=\"#ffffff\" stroke=\"black\" points=\"2806.5,-677 2601.5,-677 2601.5,-609 2806.5,-609 2806.5,-677\"/>\r\n",
       "<text text-anchor=\"middle\" x=\"2704\" y=\"-661.8\" font-family=\"Times New Roman,serif\" font-size=\"14.00\">X[9] &lt;= 0.5</text>\r\n",
       "<text text-anchor=\"middle\" x=\"2704\" y=\"-646.8\" font-family=\"Times New Roman,serif\" font-size=\"14.00\">gini = 0.64</text>\r\n",
       "<text text-anchor=\"middle\" x=\"2704\" y=\"-631.8\" font-family=\"Times New Roman,serif\" font-size=\"14.00\">samples = 5</text>\r\n",
       "<text text-anchor=\"middle\" x=\"2704\" y=\"-616.8\" font-family=\"Times New Roman,serif\" font-size=\"14.00\">value = [0, 1, 0, 0, 2, 0, 0, 0, 2, 0]</text>\r\n",
       "</g>\r\n",
       "<!-- 44&#45;&gt;46 -->\r\n",
       "<g id=\"edge46\" class=\"edge\"><title>44&#45;&gt;46</title>\r\n",
       "<path fill=\"none\" stroke=\"black\" d=\"M2553.4,-712.884C2575.42,-702.812 2599.77,-691.674 2622.36,-681.344\"/>\r\n",
       "<polygon fill=\"black\" stroke=\"black\" points=\"2623.94,-684.467 2631.58,-677.125 2621.03,-678.101 2623.94,-684.467\"/>\r\n",
       "</g>\r\n",
       "<!-- 47 -->\r\n",
       "<g id=\"node48\" class=\"node\"><title>47</title>\r\n",
       "<polygon fill=\"#9cf2e2\" stroke=\"black\" points=\"2694.5,-573 2489.5,-573 2489.5,-505 2694.5,-505 2694.5,-573\"/>\r\n",
       "<text text-anchor=\"middle\" x=\"2592\" y=\"-557.8\" font-family=\"Times New Roman,serif\" font-size=\"14.00\">X[33] &lt;= 2.0</text>\r\n",
       "<text text-anchor=\"middle\" x=\"2592\" y=\"-542.8\" font-family=\"Times New Roman,serif\" font-size=\"14.00\">gini = 0.444</text>\r\n",
       "<text text-anchor=\"middle\" x=\"2592\" y=\"-527.8\" font-family=\"Times New Roman,serif\" font-size=\"14.00\">samples = 3</text>\r\n",
       "<text text-anchor=\"middle\" x=\"2592\" y=\"-512.8\" font-family=\"Times New Roman,serif\" font-size=\"14.00\">value = [0, 1, 0, 0, 2, 0, 0, 0, 0, 0]</text>\r\n",
       "</g>\r\n",
       "<!-- 46&#45;&gt;47 -->\r\n",
       "<g id=\"edge47\" class=\"edge\"><title>46&#45;&gt;47</title>\r\n",
       "<path fill=\"none\" stroke=\"black\" d=\"M2667.64,-608.884C2657.56,-599.709 2646.52,-589.65 2636.06,-580.123\"/>\r\n",
       "<polygon fill=\"black\" stroke=\"black\" points=\"2638.31,-577.445 2628.56,-573.299 2633.6,-582.62 2638.31,-577.445\"/>\r\n",
       "</g>\r\n",
       "<!-- 50 -->\r\n",
       "<g id=\"node51\" class=\"node\"><title>50</title>\r\n",
       "<polygon fill=\"#e539c0\" stroke=\"black\" points=\"2917.5,-565.5 2712.5,-565.5 2712.5,-512.5 2917.5,-512.5 2917.5,-565.5\"/>\r\n",
       "<text text-anchor=\"middle\" x=\"2815\" y=\"-550.3\" font-family=\"Times New Roman,serif\" font-size=\"14.00\">gini = 0.0</text>\r\n",
       "<text text-anchor=\"middle\" x=\"2815\" y=\"-535.3\" font-family=\"Times New Roman,serif\" font-size=\"14.00\">samples = 2</text>\r\n",
       "<text text-anchor=\"middle\" x=\"2815\" y=\"-520.3\" font-family=\"Times New Roman,serif\" font-size=\"14.00\">value = [0, 0, 0, 0, 0, 0, 0, 0, 2, 0]</text>\r\n",
       "</g>\r\n",
       "<!-- 46&#45;&gt;50 -->\r\n",
       "<g id=\"edge50\" class=\"edge\"><title>46&#45;&gt;50</title>\r\n",
       "<path fill=\"none\" stroke=\"black\" d=\"M2740.04,-608.884C2752.72,-597.226 2766.96,-584.141 2779.6,-572.532\"/>\r\n",
       "<polygon fill=\"black\" stroke=\"black\" points=\"2782.23,-574.863 2787.23,-565.52 2777.5,-569.709 2782.23,-574.863\"/>\r\n",
       "</g>\r\n",
       "<!-- 48 -->\r\n",
       "<g id=\"node49\" class=\"node\"><title>48</title>\r\n",
       "<polygon fill=\"#e2e539\" stroke=\"black\" points=\"2582.5,-461.5 2377.5,-461.5 2377.5,-408.5 2582.5,-408.5 2582.5,-461.5\"/>\r\n",
       "<text text-anchor=\"middle\" x=\"2480\" y=\"-446.3\" font-family=\"Times New Roman,serif\" font-size=\"14.00\">gini = 0.0</text>\r\n",
       "<text text-anchor=\"middle\" x=\"2480\" y=\"-431.3\" font-family=\"Times New Roman,serif\" font-size=\"14.00\">samples = 1</text>\r\n",
       "<text text-anchor=\"middle\" x=\"2480\" y=\"-416.3\" font-family=\"Times New Roman,serif\" font-size=\"14.00\">value = [0, 1, 0, 0, 0, 0, 0, 0, 0, 0]</text>\r\n",
       "</g>\r\n",
       "<!-- 47&#45;&gt;48 -->\r\n",
       "<g id=\"edge48\" class=\"edge\"><title>47&#45;&gt;48</title>\r\n",
       "<path fill=\"none\" stroke=\"black\" d=\"M2555.64,-504.884C2542.84,-493.226 2528.47,-480.141 2515.72,-468.532\"/>\r\n",
       "<polygon fill=\"black\" stroke=\"black\" points=\"2517.77,-465.666 2508.02,-461.52 2513.06,-470.841 2517.77,-465.666\"/>\r\n",
       "</g>\r\n",
       "<!-- 49 -->\r\n",
       "<g id=\"node50\" class=\"node\"><title>49</title>\r\n",
       "<polygon fill=\"#39e5c5\" stroke=\"black\" points=\"2805.5,-461.5 2600.5,-461.5 2600.5,-408.5 2805.5,-408.5 2805.5,-461.5\"/>\r\n",
       "<text text-anchor=\"middle\" x=\"2703\" y=\"-446.3\" font-family=\"Times New Roman,serif\" font-size=\"14.00\">gini = 0.0</text>\r\n",
       "<text text-anchor=\"middle\" x=\"2703\" y=\"-431.3\" font-family=\"Times New Roman,serif\" font-size=\"14.00\">samples = 2</text>\r\n",
       "<text text-anchor=\"middle\" x=\"2703\" y=\"-416.3\" font-family=\"Times New Roman,serif\" font-size=\"14.00\">value = [0, 0, 0, 0, 2, 0, 0, 0, 0, 0]</text>\r\n",
       "</g>\r\n",
       "<!-- 47&#45;&gt;49 -->\r\n",
       "<g id=\"edge49\" class=\"edge\"><title>47&#45;&gt;49</title>\r\n",
       "<path fill=\"none\" stroke=\"black\" d=\"M2628.04,-504.884C2640.72,-493.226 2654.96,-480.141 2667.6,-468.532\"/>\r\n",
       "<polygon fill=\"black\" stroke=\"black\" points=\"2670.23,-470.863 2675.23,-461.52 2665.5,-465.709 2670.23,-470.863\"/>\r\n",
       "</g>\r\n",
       "<!-- 52 -->\r\n",
       "<g id=\"node53\" class=\"node\"><title>52</title>\r\n",
       "<polygon fill=\"#e3e640\" stroke=\"black\" points=\"2812,-885 2600,-885 2600,-817 2812,-817 2812,-885\"/>\r\n",
       "<text text-anchor=\"middle\" x=\"2706\" y=\"-869.8\" font-family=\"Times New Roman,serif\" font-size=\"14.00\">X[59] &lt;= 6.0</text>\r\n",
       "<text text-anchor=\"middle\" x=\"2706\" y=\"-854.8\" font-family=\"Times New Roman,serif\" font-size=\"14.00\">gini = 0.069</text>\r\n",
       "<text text-anchor=\"middle\" x=\"2706\" y=\"-839.8\" font-family=\"Times New Roman,serif\" font-size=\"14.00\">samples = 28</text>\r\n",
       "<text text-anchor=\"middle\" x=\"2706\" y=\"-824.8\" font-family=\"Times New Roman,serif\" font-size=\"14.00\">value = [0, 27, 0, 0, 0, 0, 1, 0, 0, 0]</text>\r\n",
       "</g>\r\n",
       "<!-- 51&#45;&gt;52 -->\r\n",
       "<g id=\"edge52\" class=\"edge\"><title>51&#45;&gt;52</title>\r\n",
       "<path fill=\"none\" stroke=\"black\" d=\"M2798.52,-920.884C2785.84,-911.442 2771.9,-901.064 2758.77,-891.292\"/>\r\n",
       "<polygon fill=\"black\" stroke=\"black\" points=\"2760.84,-888.464 2750.73,-885.299 2756.66,-894.079 2760.84,-888.464\"/>\r\n",
       "</g>\r\n",
       "<!-- 55 -->\r\n",
       "<g id=\"node56\" class=\"node\"><title>55</title>\r\n",
       "<polygon fill=\"#39e5c5\" stroke=\"black\" points=\"3035.5,-877.5 2830.5,-877.5 2830.5,-824.5 3035.5,-824.5 3035.5,-877.5\"/>\r\n",
       "<text text-anchor=\"middle\" x=\"2933\" y=\"-862.3\" font-family=\"Times New Roman,serif\" font-size=\"14.00\">gini = 0.0</text>\r\n",
       "<text text-anchor=\"middle\" x=\"2933\" y=\"-847.3\" font-family=\"Times New Roman,serif\" font-size=\"14.00\">samples = 3</text>\r\n",
       "<text text-anchor=\"middle\" x=\"2933\" y=\"-832.3\" font-family=\"Times New Roman,serif\" font-size=\"14.00\">value = [0, 0, 0, 0, 3, 0, 0, 0, 0, 0]</text>\r\n",
       "</g>\r\n",
       "<!-- 51&#45;&gt;55 -->\r\n",
       "<g id=\"edge55\" class=\"edge\"><title>51&#45;&gt;55</title>\r\n",
       "<path fill=\"none\" stroke=\"black\" d=\"M2872.22,-920.884C2882.31,-909.446 2893.62,-896.634 2903.71,-885.19\"/>\r\n",
       "<polygon fill=\"black\" stroke=\"black\" points=\"2906.49,-887.334 2910.48,-877.52 2901.24,-882.703 2906.49,-887.334\"/>\r\n",
       "</g>\r\n",
       "<!-- 53 -->\r\n",
       "<g id=\"node54\" class=\"node\"><title>53</title>\r\n",
       "<polygon fill=\"#3c39e5\" stroke=\"black\" points=\"2806.5,-773.5 2601.5,-773.5 2601.5,-720.5 2806.5,-720.5 2806.5,-773.5\"/>\r\n",
       "<text text-anchor=\"middle\" x=\"2704\" y=\"-758.3\" font-family=\"Times New Roman,serif\" font-size=\"14.00\">gini = 0.0</text>\r\n",
       "<text text-anchor=\"middle\" x=\"2704\" y=\"-743.3\" font-family=\"Times New Roman,serif\" font-size=\"14.00\">samples = 1</text>\r\n",
       "<text text-anchor=\"middle\" x=\"2704\" y=\"-728.3\" font-family=\"Times New Roman,serif\" font-size=\"14.00\">value = [0, 0, 0, 0, 0, 0, 1, 0, 0, 0]</text>\r\n",
       "</g>\r\n",
       "<!-- 52&#45;&gt;53 -->\r\n",
       "<g id=\"edge53\" class=\"edge\"><title>52&#45;&gt;53</title>\r\n",
       "<path fill=\"none\" stroke=\"black\" d=\"M2705.35,-816.884C2705.14,-806.216 2704.91,-794.352 2704.7,-783.519\"/>\r\n",
       "<polygon fill=\"black\" stroke=\"black\" points=\"2708.2,-783.449 2704.5,-773.52 2701.2,-783.587 2708.2,-783.449\"/>\r\n",
       "</g>\r\n",
       "<!-- 54 -->\r\n",
       "<g id=\"node55\" class=\"node\"><title>54</title>\r\n",
       "<polygon fill=\"#e2e539\" stroke=\"black\" points=\"3037,-773.5 2825,-773.5 2825,-720.5 3037,-720.5 3037,-773.5\"/>\r\n",
       "<text text-anchor=\"middle\" x=\"2931\" y=\"-758.3\" font-family=\"Times New Roman,serif\" font-size=\"14.00\">gini = 0.0</text>\r\n",
       "<text text-anchor=\"middle\" x=\"2931\" y=\"-743.3\" font-family=\"Times New Roman,serif\" font-size=\"14.00\">samples = 27</text>\r\n",
       "<text text-anchor=\"middle\" x=\"2931\" y=\"-728.3\" font-family=\"Times New Roman,serif\" font-size=\"14.00\">value = [0, 27, 0, 0, 0, 0, 0, 0, 0, 0]</text>\r\n",
       "</g>\r\n",
       "<!-- 52&#45;&gt;54 -->\r\n",
       "<g id=\"edge54\" class=\"edge\"><title>52&#45;&gt;54</title>\r\n",
       "<path fill=\"none\" stroke=\"black\" d=\"M2779.05,-816.884C2806.83,-804.291 2838.28,-790.033 2865.33,-777.769\"/>\r\n",
       "<polygon fill=\"black\" stroke=\"black\" points=\"2867.04,-780.837 2874.71,-773.52 2864.15,-774.461 2867.04,-780.837\"/>\r\n",
       "</g>\r\n",
       "<!-- 57 -->\r\n",
       "<g id=\"node58\" class=\"node\"><title>57</title>\r\n",
       "<polygon fill=\"#ffffff\" stroke=\"black\" points=\"3284.5,-989 3079.5,-989 3079.5,-921 3284.5,-921 3284.5,-989\"/>\r\n",
       "<text text-anchor=\"middle\" x=\"3182\" y=\"-973.8\" font-family=\"Times New Roman,serif\" font-size=\"14.00\">X[25] &lt;= 1.0</text>\r\n",
       "<text text-anchor=\"middle\" x=\"3182\" y=\"-958.8\" font-family=\"Times New Roman,serif\" font-size=\"14.00\">gini = 0.667</text>\r\n",
       "<text text-anchor=\"middle\" x=\"3182\" y=\"-943.8\" font-family=\"Times New Roman,serif\" font-size=\"14.00\">samples = 3</text>\r\n",
       "<text text-anchor=\"middle\" x=\"3182\" y=\"-928.8\" font-family=\"Times New Roman,serif\" font-size=\"14.00\">value = [0, 0, 0, 1, 1, 0, 0, 1, 0, 0]</text>\r\n",
       "</g>\r\n",
       "<!-- 56&#45;&gt;57 -->\r\n",
       "<g id=\"edge57\" class=\"edge\"><title>56&#45;&gt;57</title>\r\n",
       "<path fill=\"none\" stroke=\"black\" d=\"M3259.66,-1024.88C3249.32,-1015.71 3237.98,-1005.65 3227.24,-996.123\"/>\r\n",
       "<polygon fill=\"black\" stroke=\"black\" points=\"3229.35,-993.317 3219.54,-989.299 3224.7,-998.553 3229.35,-993.317\"/>\r\n",
       "</g>\r\n",
       "<!-- 62 -->\r\n",
       "<g id=\"node63\" class=\"node\"><title>62</title>\r\n",
       "<polygon fill=\"#399de5\" stroke=\"black\" points=\"3521,-981.5 3303,-981.5 3303,-928.5 3521,-928.5 3521,-981.5\"/>\r\n",
       "<text text-anchor=\"middle\" x=\"3412\" y=\"-966.3\" font-family=\"Times New Roman,serif\" font-size=\"14.00\">gini = 0.0</text>\r\n",
       "<text text-anchor=\"middle\" x=\"3412\" y=\"-951.3\" font-family=\"Times New Roman,serif\" font-size=\"14.00\">samples = 105</text>\r\n",
       "<text text-anchor=\"middle\" x=\"3412\" y=\"-936.3\" font-family=\"Times New Roman,serif\" font-size=\"14.00\">value = [0, 0, 0, 0, 0, 105, 0, 0, 0, 0]</text>\r\n",
       "</g>\r\n",
       "<!-- 56&#45;&gt;62 -->\r\n",
       "<g id=\"edge62\" class=\"edge\"><title>56&#45;&gt;62</title>\r\n",
       "<path fill=\"none\" stroke=\"black\" d=\"M3334.34,-1024.88C3347.6,-1013.12 3362.51,-999.894 3375.69,-988.203\"/>\r\n",
       "<polygon fill=\"black\" stroke=\"black\" points=\"3378.07,-990.774 3383.23,-981.52 3373.42,-985.537 3378.07,-990.774\"/>\r\n",
       "</g>\r\n",
       "<!-- 58 -->\r\n",
       "<g id=\"node59\" class=\"node\"><title>58</title>\r\n",
       "<polygon fill=\"#ffffff\" stroke=\"black\" points=\"3260.5,-885 3055.5,-885 3055.5,-817 3260.5,-817 3260.5,-885\"/>\r\n",
       "<text text-anchor=\"middle\" x=\"3158\" y=\"-869.8\" font-family=\"Times New Roman,serif\" font-size=\"14.00\">X[54] &lt;= 3.5</text>\r\n",
       "<text text-anchor=\"middle\" x=\"3158\" y=\"-854.8\" font-family=\"Times New Roman,serif\" font-size=\"14.00\">gini = 0.5</text>\r\n",
       "<text text-anchor=\"middle\" x=\"3158\" y=\"-839.8\" font-family=\"Times New Roman,serif\" font-size=\"14.00\">samples = 2</text>\r\n",
       "<text text-anchor=\"middle\" x=\"3158\" y=\"-824.8\" font-family=\"Times New Roman,serif\" font-size=\"14.00\">value = [0, 0, 0, 1, 0, 0, 0, 1, 0, 0]</text>\r\n",
       "</g>\r\n",
       "<!-- 57&#45;&gt;58 -->\r\n",
       "<g id=\"edge58\" class=\"edge\"><title>57&#45;&gt;58</title>\r\n",
       "<path fill=\"none\" stroke=\"black\" d=\"M3174.21,-920.884C3172.28,-912.689 3170.19,-903.789 3168.16,-895.192\"/>\r\n",
       "<polygon fill=\"black\" stroke=\"black\" points=\"3171.53,-894.232 3165.84,-885.299 3164.72,-895.835 3171.53,-894.232\"/>\r\n",
       "</g>\r\n",
       "<!-- 61 -->\r\n",
       "<g id=\"node62\" class=\"node\"><title>61</title>\r\n",
       "<polygon fill=\"#39e5c5\" stroke=\"black\" points=\"3483.5,-877.5 3278.5,-877.5 3278.5,-824.5 3483.5,-824.5 3483.5,-877.5\"/>\r\n",
       "<text text-anchor=\"middle\" x=\"3381\" y=\"-862.3\" font-family=\"Times New Roman,serif\" font-size=\"14.00\">gini = 0.0</text>\r\n",
       "<text text-anchor=\"middle\" x=\"3381\" y=\"-847.3\" font-family=\"Times New Roman,serif\" font-size=\"14.00\">samples = 1</text>\r\n",
       "<text text-anchor=\"middle\" x=\"3381\" y=\"-832.3\" font-family=\"Times New Roman,serif\" font-size=\"14.00\">value = [0, 0, 0, 0, 1, 0, 0, 0, 0, 0]</text>\r\n",
       "</g>\r\n",
       "<!-- 57&#45;&gt;61 -->\r\n",
       "<g id=\"edge61\" class=\"edge\"><title>57&#45;&gt;61</title>\r\n",
       "<path fill=\"none\" stroke=\"black\" d=\"M3246.61,-920.884C3270.96,-908.401 3298.51,-894.282 3322.29,-882.091\"/>\r\n",
       "<polygon fill=\"black\" stroke=\"black\" points=\"3323.91,-885.196 3331.21,-877.52 3320.72,-878.967 3323.91,-885.196\"/>\r\n",
       "</g>\r\n",
       "<!-- 59 -->\r\n",
       "<g id=\"node60\" class=\"node\"><title>59</title>\r\n",
       "<polygon fill=\"#a339e5\" stroke=\"black\" points=\"3260.5,-773.5 3055.5,-773.5 3055.5,-720.5 3260.5,-720.5 3260.5,-773.5\"/>\r\n",
       "<text text-anchor=\"middle\" x=\"3158\" y=\"-758.3\" font-family=\"Times New Roman,serif\" font-size=\"14.00\">gini = 0.0</text>\r\n",
       "<text text-anchor=\"middle\" x=\"3158\" y=\"-743.3\" font-family=\"Times New Roman,serif\" font-size=\"14.00\">samples = 1</text>\r\n",
       "<text text-anchor=\"middle\" x=\"3158\" y=\"-728.3\" font-family=\"Times New Roman,serif\" font-size=\"14.00\">value = [0, 0, 0, 0, 0, 0, 0, 1, 0, 0]</text>\r\n",
       "</g>\r\n",
       "<!-- 58&#45;&gt;59 -->\r\n",
       "<g id=\"edge59\" class=\"edge\"><title>58&#45;&gt;59</title>\r\n",
       "<path fill=\"none\" stroke=\"black\" d=\"M3158,-816.884C3158,-806.326 3158,-794.597 3158,-783.854\"/>\r\n",
       "<polygon fill=\"black\" stroke=\"black\" points=\"3161.5,-783.52 3158,-773.52 3154.5,-783.52 3161.5,-783.52\"/>\r\n",
       "</g>\r\n",
       "<!-- 60 -->\r\n",
       "<g id=\"node61\" class=\"node\"><title>60</title>\r\n",
       "<polygon fill=\"#39e55e\" stroke=\"black\" points=\"3483.5,-773.5 3278.5,-773.5 3278.5,-720.5 3483.5,-720.5 3483.5,-773.5\"/>\r\n",
       "<text text-anchor=\"middle\" x=\"3381\" y=\"-758.3\" font-family=\"Times New Roman,serif\" font-size=\"14.00\">gini = 0.0</text>\r\n",
       "<text text-anchor=\"middle\" x=\"3381\" y=\"-743.3\" font-family=\"Times New Roman,serif\" font-size=\"14.00\">samples = 1</text>\r\n",
       "<text text-anchor=\"middle\" x=\"3381\" y=\"-728.3\" font-family=\"Times New Roman,serif\" font-size=\"14.00\">value = [0, 0, 0, 1, 0, 0, 0, 0, 0, 0]</text>\r\n",
       "</g>\r\n",
       "<!-- 58&#45;&gt;60 -->\r\n",
       "<g id=\"edge60\" class=\"edge\"><title>58&#45;&gt;60</title>\r\n",
       "<path fill=\"none\" stroke=\"black\" d=\"M3230.4,-816.884C3257.93,-804.291 3289.1,-790.033 3315.92,-777.769\"/>\r\n",
       "<polygon fill=\"black\" stroke=\"black\" points=\"3317.57,-780.862 3325.21,-773.52 3314.66,-774.497 3317.57,-780.862\"/>\r\n",
       "</g>\r\n",
       "<!-- 64 -->\r\n",
       "<g id=\"node65\" class=\"node\"><title>64</title>\r\n",
       "<polygon fill=\"#9cf2e2\" stroke=\"black\" points=\"3912,-1093 3700,-1093 3700,-1025 3912,-1025 3912,-1093\"/>\r\n",
       "<text text-anchor=\"middle\" x=\"3806\" y=\"-1077.8\" font-family=\"Times New Roman,serif\" font-size=\"14.00\">X[2] &lt;= 0.5</text>\r\n",
       "<text text-anchor=\"middle\" x=\"3806\" y=\"-1062.8\" font-family=\"Times New Roman,serif\" font-size=\"14.00\">gini = 0.617</text>\r\n",
       "<text text-anchor=\"middle\" x=\"3806\" y=\"-1047.8\" font-family=\"Times New Roman,serif\" font-size=\"14.00\">samples = 45</text>\r\n",
       "<text text-anchor=\"middle\" x=\"3806\" y=\"-1032.8\" font-family=\"Times New Roman,serif\" font-size=\"14.00\">value = [0, 7, 2, 0, 26, 3, 6, 1, 0, 0]</text>\r\n",
       "</g>\r\n",
       "<!-- 63&#45;&gt;64 -->\r\n",
       "<g id=\"edge64\" class=\"edge\"><title>63&#45;&gt;64</title>\r\n",
       "<path fill=\"none\" stroke=\"black\" d=\"M3806,-1128.88C3806,-1120.78 3806,-1111.98 3806,-1103.47\"/>\r\n",
       "<polygon fill=\"black\" stroke=\"black\" points=\"3809.5,-1103.3 3806,-1093.3 3802.5,-1103.3 3809.5,-1103.3\"/>\r\n",
       "</g>\r\n",
       "<!-- 81 -->\r\n",
       "<g id=\"node82\" class=\"node\"><title>81</title>\r\n",
       "<polygon fill=\"#4745e7\" stroke=\"black\" points=\"4260,-1093 4042,-1093 4042,-1025 4260,-1025 4260,-1093\"/>\r\n",
       "<text text-anchor=\"middle\" x=\"4151\" y=\"-1077.8\" font-family=\"Times New Roman,serif\" font-size=\"14.00\">X[2] &lt;= 11.0</text>\r\n",
       "<text text-anchor=\"middle\" x=\"4151\" y=\"-1062.8\" font-family=\"Times New Roman,serif\" font-size=\"14.00\">gini = 0.105</text>\r\n",
       "<text text-anchor=\"middle\" x=\"4151\" y=\"-1047.8\" font-family=\"Times New Roman,serif\" font-size=\"14.00\">samples = 144</text>\r\n",
       "<text text-anchor=\"middle\" x=\"4151\" y=\"-1032.8\" font-family=\"Times New Roman,serif\" font-size=\"14.00\">value = [0, 0, 8, 0, 0, 0, 136, 0, 0, 0]</text>\r\n",
       "</g>\r\n",
       "<!-- 63&#45;&gt;81 -->\r\n",
       "<g id=\"edge81\" class=\"edge\"><title>63&#45;&gt;81</title>\r\n",
       "<path fill=\"none\" stroke=\"black\" d=\"M3918.01,-1128.88C3954.5,-1118.1 3995.11,-1106.09 4032.08,-1095.16\"/>\r\n",
       "<polygon fill=\"black\" stroke=\"black\" points=\"4033.31,-1098.45 4041.9,-1092.25 4031.32,-1091.73 4033.31,-1098.45\"/>\r\n",
       "</g>\r\n",
       "<!-- 65 -->\r\n",
       "<g id=\"node66\" class=\"node\"><title>65</title>\r\n",
       "<polygon fill=\"#51e8cc\" stroke=\"black\" points=\"3800,-989 3588,-989 3588,-921 3800,-921 3800,-989\"/>\r\n",
       "<text text-anchor=\"middle\" x=\"3694\" y=\"-973.8\" font-family=\"Times New Roman,serif\" font-size=\"14.00\">X[44] &lt;= 6.5</text>\r\n",
       "<text text-anchor=\"middle\" x=\"3694\" y=\"-958.8\" font-family=\"Times New Roman,serif\" font-size=\"14.00\">gini = 0.191</text>\r\n",
       "<text text-anchor=\"middle\" x=\"3694\" y=\"-943.8\" font-family=\"Times New Roman,serif\" font-size=\"14.00\">samples = 28</text>\r\n",
       "<text text-anchor=\"middle\" x=\"3694\" y=\"-928.8\" font-family=\"Times New Roman,serif\" font-size=\"14.00\">value = [0, 0, 0, 0, 25, 0, 3, 0, 0, 0]</text>\r\n",
       "</g>\r\n",
       "<!-- 64&#45;&gt;65 -->\r\n",
       "<g id=\"edge65\" class=\"edge\"><title>64&#45;&gt;65</title>\r\n",
       "<path fill=\"none\" stroke=\"black\" d=\"M3769.64,-1024.88C3759.56,-1015.71 3748.52,-1005.65 3738.06,-996.123\"/>\r\n",
       "<polygon fill=\"black\" stroke=\"black\" points=\"3740.31,-993.445 3730.56,-989.299 3735.6,-998.62 3740.31,-993.445\"/>\r\n",
       "</g>\r\n",
       "<!-- 70 -->\r\n",
       "<g id=\"node71\" class=\"node\"><title>70</title>\r\n",
       "<polygon fill=\"#f7f8c6\" stroke=\"black\" points=\"4023.5,-989 3818.5,-989 3818.5,-921 4023.5,-921 4023.5,-989\"/>\r\n",
       "<text text-anchor=\"middle\" x=\"3921\" y=\"-973.8\" font-family=\"Times New Roman,serif\" font-size=\"14.00\">X[27] &lt;= 15.0</text>\r\n",
       "<text text-anchor=\"middle\" x=\"3921\" y=\"-958.8\" font-family=\"Times New Roman,serif\" font-size=\"14.00\">gini = 0.747</text>\r\n",
       "<text text-anchor=\"middle\" x=\"3921\" y=\"-943.8\" font-family=\"Times New Roman,serif\" font-size=\"14.00\">samples = 17</text>\r\n",
       "<text text-anchor=\"middle\" x=\"3921\" y=\"-928.8\" font-family=\"Times New Roman,serif\" font-size=\"14.00\">value = [0, 7, 2, 0, 1, 3, 3, 1, 0, 0]</text>\r\n",
       "</g>\r\n",
       "<!-- 64&#45;&gt;70 -->\r\n",
       "<g id=\"edge70\" class=\"edge\"><title>64&#45;&gt;70</title>\r\n",
       "<path fill=\"none\" stroke=\"black\" d=\"M3843.34,-1024.88C3853.68,-1015.71 3865.02,-1005.65 3875.76,-996.123\"/>\r\n",
       "<polygon fill=\"black\" stroke=\"black\" points=\"3878.3,-998.553 3883.46,-989.299 3873.65,-993.317 3878.3,-998.553\"/>\r\n",
       "</g>\r\n",
       "<!-- 66 -->\r\n",
       "<g id=\"node67\" class=\"node\"><title>66</title>\r\n",
       "<polygon fill=\"#3c39e5\" stroke=\"black\" points=\"3706.5,-877.5 3501.5,-877.5 3501.5,-824.5 3706.5,-824.5 3706.5,-877.5\"/>\r\n",
       "<text text-anchor=\"middle\" x=\"3604\" y=\"-862.3\" font-family=\"Times New Roman,serif\" font-size=\"14.00\">gini = 0.0</text>\r\n",
       "<text text-anchor=\"middle\" x=\"3604\" y=\"-847.3\" font-family=\"Times New Roman,serif\" font-size=\"14.00\">samples = 2</text>\r\n",
       "<text text-anchor=\"middle\" x=\"3604\" y=\"-832.3\" font-family=\"Times New Roman,serif\" font-size=\"14.00\">value = [0, 0, 0, 0, 0, 0, 2, 0, 0, 0]</text>\r\n",
       "</g>\r\n",
       "<!-- 65&#45;&gt;66 -->\r\n",
       "<g id=\"edge66\" class=\"edge\"><title>65&#45;&gt;66</title>\r\n",
       "<path fill=\"none\" stroke=\"black\" d=\"M3664.78,-920.884C3654.69,-909.446 3643.38,-896.634 3633.29,-885.19\"/>\r\n",
       "<polygon fill=\"black\" stroke=\"black\" points=\"3635.76,-882.703 3626.52,-877.52 3630.51,-887.334 3635.76,-882.703\"/>\r\n",
       "</g>\r\n",
       "<!-- 67 -->\r\n",
       "<g id=\"node68\" class=\"node\"><title>67</title>\r\n",
       "<polygon fill=\"#41e6c7\" stroke=\"black\" points=\"3937,-885 3725,-885 3725,-817 3937,-817 3937,-885\"/>\r\n",
       "<text text-anchor=\"middle\" x=\"3831\" y=\"-869.8\" font-family=\"Times New Roman,serif\" font-size=\"14.00\">X[59] &lt;= 11.5</text>\r\n",
       "<text text-anchor=\"middle\" x=\"3831\" y=\"-854.8\" font-family=\"Times New Roman,serif\" font-size=\"14.00\">gini = 0.074</text>\r\n",
       "<text text-anchor=\"middle\" x=\"3831\" y=\"-839.8\" font-family=\"Times New Roman,serif\" font-size=\"14.00\">samples = 26</text>\r\n",
       "<text text-anchor=\"middle\" x=\"3831\" y=\"-824.8\" font-family=\"Times New Roman,serif\" font-size=\"14.00\">value = [0, 0, 0, 0, 25, 0, 1, 0, 0, 0]</text>\r\n",
       "</g>\r\n",
       "<!-- 65&#45;&gt;67 -->\r\n",
       "<g id=\"edge67\" class=\"edge\"><title>65&#45;&gt;67</title>\r\n",
       "<path fill=\"none\" stroke=\"black\" d=\"M3738.48,-920.884C3751.16,-911.442 3765.1,-901.064 3778.23,-891.292\"/>\r\n",
       "<polygon fill=\"black\" stroke=\"black\" points=\"3780.34,-894.079 3786.27,-885.299 3776.16,-888.464 3780.34,-894.079\"/>\r\n",
       "</g>\r\n",
       "<!-- 68 -->\r\n",
       "<g id=\"node69\" class=\"node\"><title>68</title>\r\n",
       "<polygon fill=\"#39e5c5\" stroke=\"black\" points=\"3714,-773.5 3502,-773.5 3502,-720.5 3714,-720.5 3714,-773.5\"/>\r\n",
       "<text text-anchor=\"middle\" x=\"3608\" y=\"-758.3\" font-family=\"Times New Roman,serif\" font-size=\"14.00\">gini = 0.0</text>\r\n",
       "<text text-anchor=\"middle\" x=\"3608\" y=\"-743.3\" font-family=\"Times New Roman,serif\" font-size=\"14.00\">samples = 25</text>\r\n",
       "<text text-anchor=\"middle\" x=\"3608\" y=\"-728.3\" font-family=\"Times New Roman,serif\" font-size=\"14.00\">value = [0, 0, 0, 0, 25, 0, 0, 0, 0, 0]</text>\r\n",
       "</g>\r\n",
       "<!-- 67&#45;&gt;68 -->\r\n",
       "<g id=\"edge68\" class=\"edge\"><title>67&#45;&gt;68</title>\r\n",
       "<path fill=\"none\" stroke=\"black\" d=\"M3758.6,-816.884C3731.07,-804.291 3699.9,-790.033 3673.08,-777.769\"/>\r\n",
       "<polygon fill=\"black\" stroke=\"black\" points=\"3674.34,-774.497 3663.79,-773.52 3671.43,-780.862 3674.34,-774.497\"/>\r\n",
       "</g>\r\n",
       "<!-- 69 -->\r\n",
       "<g id=\"node70\" class=\"node\"><title>69</title>\r\n",
       "<polygon fill=\"#3c39e5\" stroke=\"black\" points=\"3937.5,-773.5 3732.5,-773.5 3732.5,-720.5 3937.5,-720.5 3937.5,-773.5\"/>\r\n",
       "<text text-anchor=\"middle\" x=\"3835\" y=\"-758.3\" font-family=\"Times New Roman,serif\" font-size=\"14.00\">gini = 0.0</text>\r\n",
       "<text text-anchor=\"middle\" x=\"3835\" y=\"-743.3\" font-family=\"Times New Roman,serif\" font-size=\"14.00\">samples = 1</text>\r\n",
       "<text text-anchor=\"middle\" x=\"3835\" y=\"-728.3\" font-family=\"Times New Roman,serif\" font-size=\"14.00\">value = [0, 0, 0, 0, 0, 0, 1, 0, 0, 0]</text>\r\n",
       "</g>\r\n",
       "<!-- 67&#45;&gt;69 -->\r\n",
       "<g id=\"edge69\" class=\"edge\"><title>67&#45;&gt;69</title>\r\n",
       "<path fill=\"none\" stroke=\"black\" d=\"M3832.3,-816.884C3832.72,-806.216 3833.18,-794.352 3833.61,-783.519\"/>\r\n",
       "<polygon fill=\"black\" stroke=\"black\" points=\"3837.1,-783.649 3834,-773.52 3830.11,-783.375 3837.1,-783.649\"/>\r\n",
       "</g>\r\n",
       "<!-- 71 -->\r\n",
       "<g id=\"node72\" class=\"node\"><title>71</title>\r\n",
       "<polygon fill=\"#ffffff\" stroke=\"black\" points=\"4160.5,-885 3955.5,-885 3955.5,-817 4160.5,-817 4160.5,-885\"/>\r\n",
       "<text text-anchor=\"middle\" x=\"4058\" y=\"-869.8\" font-family=\"Times New Roman,serif\" font-size=\"14.00\">X[46] &lt;= 3.0</text>\r\n",
       "<text text-anchor=\"middle\" x=\"4058\" y=\"-854.8\" font-family=\"Times New Roman,serif\" font-size=\"14.00\">gini = 0.76</text>\r\n",
       "<text text-anchor=\"middle\" x=\"4058\" y=\"-839.8\" font-family=\"Times New Roman,serif\" font-size=\"14.00\">samples = 10</text>\r\n",
       "<text text-anchor=\"middle\" x=\"4058\" y=\"-824.8\" font-family=\"Times New Roman,serif\" font-size=\"14.00\">value = [0, 0, 2, 0, 1, 3, 3, 1, 0, 0]</text>\r\n",
       "</g>\r\n",
       "<!-- 70&#45;&gt;71 -->\r\n",
       "<g id=\"edge71\" class=\"edge\"><title>70&#45;&gt;71</title>\r\n",
       "<path fill=\"none\" stroke=\"black\" d=\"M3965.48,-920.884C3978.16,-911.442 3992.1,-901.064 4005.23,-891.292\"/>\r\n",
       "<polygon fill=\"black\" stroke=\"black\" points=\"4007.34,-894.079 4013.27,-885.299 4003.16,-888.464 4007.34,-894.079\"/>\r\n",
       "</g>\r\n",
       "<!-- 80 -->\r\n",
       "<g id=\"node81\" class=\"node\"><title>80</title>\r\n",
       "<polygon fill=\"#e2e539\" stroke=\"black\" points=\"4383.5,-877.5 4178.5,-877.5 4178.5,-824.5 4383.5,-824.5 4383.5,-877.5\"/>\r\n",
       "<text text-anchor=\"middle\" x=\"4281\" y=\"-862.3\" font-family=\"Times New Roman,serif\" font-size=\"14.00\">gini = 0.0</text>\r\n",
       "<text text-anchor=\"middle\" x=\"4281\" y=\"-847.3\" font-family=\"Times New Roman,serif\" font-size=\"14.00\">samples = 7</text>\r\n",
       "<text text-anchor=\"middle\" x=\"4281\" y=\"-832.3\" font-family=\"Times New Roman,serif\" font-size=\"14.00\">value = [0, 7, 0, 0, 0, 0, 0, 0, 0, 0]</text>\r\n",
       "</g>\r\n",
       "<!-- 70&#45;&gt;80 -->\r\n",
       "<g id=\"edge80\" class=\"edge\"><title>70&#45;&gt;80</title>\r\n",
       "<path fill=\"none\" stroke=\"black\" d=\"M4023.51,-923.673C4026.71,-922.767 4029.88,-921.873 4033,-921 4093.22,-904.162 4108.78,-901.838 4169,-885 4174.31,-883.516 4179.75,-881.975 4185.24,-880.406\"/>\r\n",
       "<polygon fill=\"black\" stroke=\"black\" points=\"4186.51,-883.682 4195.16,-877.557 4184.58,-876.955 4186.51,-883.682\"/>\r\n",
       "</g>\r\n",
       "<!-- 72 -->\r\n",
       "<g id=\"node73\" class=\"node\"><title>72</title>\r\n",
       "<polygon fill=\"#d8d7fa\" stroke=\"black\" points=\"4160.5,-781 3955.5,-781 3955.5,-713 4160.5,-713 4160.5,-781\"/>\r\n",
       "<text text-anchor=\"middle\" x=\"4058\" y=\"-765.8\" font-family=\"Times New Roman,serif\" font-size=\"14.00\">X[45] &lt;= 5.5</text>\r\n",
       "<text text-anchor=\"middle\" x=\"4058\" y=\"-750.8\" font-family=\"Times New Roman,serif\" font-size=\"14.00\">gini = 0.694</text>\r\n",
       "<text text-anchor=\"middle\" x=\"4058\" y=\"-735.8\" font-family=\"Times New Roman,serif\" font-size=\"14.00\">samples = 7</text>\r\n",
       "<text text-anchor=\"middle\" x=\"4058\" y=\"-720.8\" font-family=\"Times New Roman,serif\" font-size=\"14.00\">value = [0, 0, 2, 0, 1, 0, 3, 1, 0, 0]</text>\r\n",
       "</g>\r\n",
       "<!-- 71&#45;&gt;72 -->\r\n",
       "<g id=\"edge72\" class=\"edge\"><title>71&#45;&gt;72</title>\r\n",
       "<path fill=\"none\" stroke=\"black\" d=\"M4058,-816.884C4058,-808.778 4058,-799.982 4058,-791.472\"/>\r\n",
       "<polygon fill=\"black\" stroke=\"black\" points=\"4061.5,-791.299 4058,-781.299 4054.5,-791.299 4061.5,-791.299\"/>\r\n",
       "</g>\r\n",
       "<!-- 79 -->\r\n",
       "<g id=\"node80\" class=\"node\"><title>79</title>\r\n",
       "<polygon fill=\"#399de5\" stroke=\"black\" points=\"4383.5,-773.5 4178.5,-773.5 4178.5,-720.5 4383.5,-720.5 4383.5,-773.5\"/>\r\n",
       "<text text-anchor=\"middle\" x=\"4281\" y=\"-758.3\" font-family=\"Times New Roman,serif\" font-size=\"14.00\">gini = 0.0</text>\r\n",
       "<text text-anchor=\"middle\" x=\"4281\" y=\"-743.3\" font-family=\"Times New Roman,serif\" font-size=\"14.00\">samples = 3</text>\r\n",
       "<text text-anchor=\"middle\" x=\"4281\" y=\"-728.3\" font-family=\"Times New Roman,serif\" font-size=\"14.00\">value = [0, 0, 0, 0, 0, 3, 0, 0, 0, 0]</text>\r\n",
       "</g>\r\n",
       "<!-- 71&#45;&gt;79 -->\r\n",
       "<g id=\"edge79\" class=\"edge\"><title>71&#45;&gt;79</title>\r\n",
       "<path fill=\"none\" stroke=\"black\" d=\"M4130.4,-816.884C4157.93,-804.291 4189.1,-790.033 4215.92,-777.769\"/>\r\n",
       "<polygon fill=\"black\" stroke=\"black\" points=\"4217.57,-780.862 4225.21,-773.52 4214.66,-774.497 4217.57,-780.862\"/>\r\n",
       "</g>\r\n",
       "<!-- 73 -->\r\n",
       "<g id=\"node74\" class=\"node\"><title>73</title>\r\n",
       "<polygon fill=\"#d3f6bd\" stroke=\"black\" points=\"3962.5,-677 3757.5,-677 3757.5,-609 3962.5,-609 3962.5,-677\"/>\r\n",
       "<text text-anchor=\"middle\" x=\"3860\" y=\"-661.8\" font-family=\"Times New Roman,serif\" font-size=\"14.00\">X[25] &lt;= 1.5</text>\r\n",
       "<text text-anchor=\"middle\" x=\"3860\" y=\"-646.8\" font-family=\"Times New Roman,serif\" font-size=\"14.00\">gini = 0.625</text>\r\n",
       "<text text-anchor=\"middle\" x=\"3860\" y=\"-631.8\" font-family=\"Times New Roman,serif\" font-size=\"14.00\">samples = 4</text>\r\n",
       "<text text-anchor=\"middle\" x=\"3860\" y=\"-616.8\" font-family=\"Times New Roman,serif\" font-size=\"14.00\">value = [0, 0, 2, 0, 1, 0, 0, 1, 0, 0]</text>\r\n",
       "</g>\r\n",
       "<!-- 72&#45;&gt;73 -->\r\n",
       "<g id=\"edge73\" class=\"edge\"><title>72&#45;&gt;73</title>\r\n",
       "<path fill=\"none\" stroke=\"black\" d=\"M3993.72,-712.884C3974.42,-702.946 3953.12,-691.971 3933.29,-681.757\"/>\r\n",
       "<polygon fill=\"black\" stroke=\"black\" points=\"3934.79,-678.593 3924.3,-677.125 3931.59,-684.816 3934.79,-678.593\"/>\r\n",
       "</g>\r\n",
       "<!-- 78 -->\r\n",
       "<g id=\"node79\" class=\"node\"><title>78</title>\r\n",
       "<polygon fill=\"#3c39e5\" stroke=\"black\" points=\"4185.5,-669.5 3980.5,-669.5 3980.5,-616.5 4185.5,-616.5 4185.5,-669.5\"/>\r\n",
       "<text text-anchor=\"middle\" x=\"4083\" y=\"-654.3\" font-family=\"Times New Roman,serif\" font-size=\"14.00\">gini = 0.0</text>\r\n",
       "<text text-anchor=\"middle\" x=\"4083\" y=\"-639.3\" font-family=\"Times New Roman,serif\" font-size=\"14.00\">samples = 3</text>\r\n",
       "<text text-anchor=\"middle\" x=\"4083\" y=\"-624.3\" font-family=\"Times New Roman,serif\" font-size=\"14.00\">value = [0, 0, 0, 0, 0, 0, 3, 0, 0, 0]</text>\r\n",
       "</g>\r\n",
       "<!-- 72&#45;&gt;78 -->\r\n",
       "<g id=\"edge78\" class=\"edge\"><title>72&#45;&gt;78</title>\r\n",
       "<path fill=\"none\" stroke=\"black\" d=\"M4066.12,-712.884C4068.73,-702.216 4071.64,-690.352 4074.29,-679.519\"/>\r\n",
       "<polygon fill=\"black\" stroke=\"black\" points=\"4077.76,-680.066 4076.75,-669.52 4070.97,-678.399 4077.76,-680.066\"/>\r\n",
       "</g>\r\n",
       "<!-- 74 -->\r\n",
       "<g id=\"node75\" class=\"node\"><title>74</title>\r\n",
       "<polygon fill=\"#7be539\" stroke=\"black\" points=\"3851.5,-565.5 3646.5,-565.5 3646.5,-512.5 3851.5,-512.5 3851.5,-565.5\"/>\r\n",
       "<text text-anchor=\"middle\" x=\"3749\" y=\"-550.3\" font-family=\"Times New Roman,serif\" font-size=\"14.00\">gini = 0.0</text>\r\n",
       "<text text-anchor=\"middle\" x=\"3749\" y=\"-535.3\" font-family=\"Times New Roman,serif\" font-size=\"14.00\">samples = 2</text>\r\n",
       "<text text-anchor=\"middle\" x=\"3749\" y=\"-520.3\" font-family=\"Times New Roman,serif\" font-size=\"14.00\">value = [0, 0, 2, 0, 0, 0, 0, 0, 0, 0]</text>\r\n",
       "</g>\r\n",
       "<!-- 73&#45;&gt;74 -->\r\n",
       "<g id=\"edge74\" class=\"edge\"><title>73&#45;&gt;74</title>\r\n",
       "<path fill=\"none\" stroke=\"black\" d=\"M3823.96,-608.884C3811.28,-597.226 3797.04,-584.141 3784.4,-572.532\"/>\r\n",
       "<polygon fill=\"black\" stroke=\"black\" points=\"3786.5,-569.709 3776.77,-565.52 3781.77,-574.863 3786.5,-569.709\"/>\r\n",
       "</g>\r\n",
       "<!-- 75 -->\r\n",
       "<g id=\"node76\" class=\"node\"><title>75</title>\r\n",
       "<polygon fill=\"#ffffff\" stroke=\"black\" points=\"4074.5,-573 3869.5,-573 3869.5,-505 4074.5,-505 4074.5,-573\"/>\r\n",
       "<text text-anchor=\"middle\" x=\"3972\" y=\"-557.8\" font-family=\"Times New Roman,serif\" font-size=\"14.00\">X[34] &lt;= 14.5</text>\r\n",
       "<text text-anchor=\"middle\" x=\"3972\" y=\"-542.8\" font-family=\"Times New Roman,serif\" font-size=\"14.00\">gini = 0.5</text>\r\n",
       "<text text-anchor=\"middle\" x=\"3972\" y=\"-527.8\" font-family=\"Times New Roman,serif\" font-size=\"14.00\">samples = 2</text>\r\n",
       "<text text-anchor=\"middle\" x=\"3972\" y=\"-512.8\" font-family=\"Times New Roman,serif\" font-size=\"14.00\">value = [0, 0, 0, 0, 1, 0, 0, 1, 0, 0]</text>\r\n",
       "</g>\r\n",
       "<!-- 73&#45;&gt;75 -->\r\n",
       "<g id=\"edge75\" class=\"edge\"><title>73&#45;&gt;75</title>\r\n",
       "<path fill=\"none\" stroke=\"black\" d=\"M3896.36,-608.884C3906.44,-599.709 3917.48,-589.65 3927.94,-580.123\"/>\r\n",
       "<polygon fill=\"black\" stroke=\"black\" points=\"3930.4,-582.62 3935.44,-573.299 3925.69,-577.445 3930.4,-582.62\"/>\r\n",
       "</g>\r\n",
       "<!-- 76 -->\r\n",
       "<g id=\"node77\" class=\"node\"><title>76</title>\r\n",
       "<polygon fill=\"#a339e5\" stroke=\"black\" points=\"3962.5,-461.5 3757.5,-461.5 3757.5,-408.5 3962.5,-408.5 3962.5,-461.5\"/>\r\n",
       "<text text-anchor=\"middle\" x=\"3860\" y=\"-446.3\" font-family=\"Times New Roman,serif\" font-size=\"14.00\">gini = 0.0</text>\r\n",
       "<text text-anchor=\"middle\" x=\"3860\" y=\"-431.3\" font-family=\"Times New Roman,serif\" font-size=\"14.00\">samples = 1</text>\r\n",
       "<text text-anchor=\"middle\" x=\"3860\" y=\"-416.3\" font-family=\"Times New Roman,serif\" font-size=\"14.00\">value = [0, 0, 0, 0, 0, 0, 0, 1, 0, 0]</text>\r\n",
       "</g>\r\n",
       "<!-- 75&#45;&gt;76 -->\r\n",
       "<g id=\"edge76\" class=\"edge\"><title>75&#45;&gt;76</title>\r\n",
       "<path fill=\"none\" stroke=\"black\" d=\"M3935.64,-504.884C3922.84,-493.226 3908.47,-480.141 3895.72,-468.532\"/>\r\n",
       "<polygon fill=\"black\" stroke=\"black\" points=\"3897.77,-465.666 3888.02,-461.52 3893.06,-470.841 3897.77,-465.666\"/>\r\n",
       "</g>\r\n",
       "<!-- 77 -->\r\n",
       "<g id=\"node78\" class=\"node\"><title>77</title>\r\n",
       "<polygon fill=\"#39e5c5\" stroke=\"black\" points=\"4185.5,-461.5 3980.5,-461.5 3980.5,-408.5 4185.5,-408.5 4185.5,-461.5\"/>\r\n",
       "<text text-anchor=\"middle\" x=\"4083\" y=\"-446.3\" font-family=\"Times New Roman,serif\" font-size=\"14.00\">gini = 0.0</text>\r\n",
       "<text text-anchor=\"middle\" x=\"4083\" y=\"-431.3\" font-family=\"Times New Roman,serif\" font-size=\"14.00\">samples = 1</text>\r\n",
       "<text text-anchor=\"middle\" x=\"4083\" y=\"-416.3\" font-family=\"Times New Roman,serif\" font-size=\"14.00\">value = [0, 0, 0, 0, 1, 0, 0, 0, 0, 0]</text>\r\n",
       "</g>\r\n",
       "<!-- 75&#45;&gt;77 -->\r\n",
       "<g id=\"edge77\" class=\"edge\"><title>75&#45;&gt;77</title>\r\n",
       "<path fill=\"none\" stroke=\"black\" d=\"M4008.04,-504.884C4020.72,-493.226 4034.96,-480.141 4047.6,-468.532\"/>\r\n",
       "<polygon fill=\"black\" stroke=\"black\" points=\"4050.23,-470.863 4055.23,-461.52 4045.5,-465.709 4050.23,-470.863\"/>\r\n",
       "</g>\r\n",
       "<!-- 82 -->\r\n",
       "<g id=\"node83\" class=\"node\"><title>82</title>\r\n",
       "<polygon fill=\"#3c39e5\" stroke=\"black\" points=\"4260,-981.5 4042,-981.5 4042,-928.5 4260,-928.5 4260,-981.5\"/>\r\n",
       "<text text-anchor=\"middle\" x=\"4151\" y=\"-966.3\" font-family=\"Times New Roman,serif\" font-size=\"14.00\">gini = 0.0</text>\r\n",
       "<text text-anchor=\"middle\" x=\"4151\" y=\"-951.3\" font-family=\"Times New Roman,serif\" font-size=\"14.00\">samples = 136</text>\r\n",
       "<text text-anchor=\"middle\" x=\"4151\" y=\"-936.3\" font-family=\"Times New Roman,serif\" font-size=\"14.00\">value = [0, 0, 0, 0, 0, 0, 136, 0, 0, 0]</text>\r\n",
       "</g>\r\n",
       "<!-- 81&#45;&gt;82 -->\r\n",
       "<g id=\"edge82\" class=\"edge\"><title>81&#45;&gt;82</title>\r\n",
       "<path fill=\"none\" stroke=\"black\" d=\"M4151,-1024.88C4151,-1014.33 4151,-1002.6 4151,-991.854\"/>\r\n",
       "<polygon fill=\"black\" stroke=\"black\" points=\"4154.5,-991.52 4151,-981.52 4147.5,-991.52 4154.5,-991.52\"/>\r\n",
       "</g>\r\n",
       "<!-- 83 -->\r\n",
       "<g id=\"node84\" class=\"node\"><title>83</title>\r\n",
       "<polygon fill=\"#7be539\" stroke=\"black\" points=\"4483.5,-981.5 4278.5,-981.5 4278.5,-928.5 4483.5,-928.5 4483.5,-981.5\"/>\r\n",
       "<text text-anchor=\"middle\" x=\"4381\" y=\"-966.3\" font-family=\"Times New Roman,serif\" font-size=\"14.00\">gini = 0.0</text>\r\n",
       "<text text-anchor=\"middle\" x=\"4381\" y=\"-951.3\" font-family=\"Times New Roman,serif\" font-size=\"14.00\">samples = 8</text>\r\n",
       "<text text-anchor=\"middle\" x=\"4381\" y=\"-936.3\" font-family=\"Times New Roman,serif\" font-size=\"14.00\">value = [0, 0, 8, 0, 0, 0, 0, 0, 0, 0]</text>\r\n",
       "</g>\r\n",
       "<!-- 81&#45;&gt;83 -->\r\n",
       "<g id=\"edge83\" class=\"edge\"><title>81&#45;&gt;83</title>\r\n",
       "<path fill=\"none\" stroke=\"black\" d=\"M4225.67,-1024.88C4254.19,-1012.24 4286.5,-997.908 4314.24,-985.608\"/>\r\n",
       "<polygon fill=\"black\" stroke=\"black\" points=\"4315.73,-988.773 4323.46,-981.52 4312.89,-982.375 4315.73,-988.773\"/>\r\n",
       "</g>\r\n",
       "<!-- 85 -->\r\n",
       "<g id=\"node86\" class=\"node\"><title>85</title>\r\n",
       "<polygon fill=\"#b157e9\" stroke=\"black\" points=\"5046,-1197 4834,-1197 4834,-1129 5046,-1129 5046,-1197\"/>\r\n",
       "<text text-anchor=\"middle\" x=\"4940\" y=\"-1181.8\" font-family=\"Times New Roman,serif\" font-size=\"14.00\">X[12] &lt;= 3.5</text>\r\n",
       "<text text-anchor=\"middle\" x=\"4940\" y=\"-1166.8\" font-family=\"Times New Roman,serif\" font-size=\"14.00\">gini = 0.254</text>\r\n",
       "<text text-anchor=\"middle\" x=\"4940\" y=\"-1151.8\" font-family=\"Times New Roman,serif\" font-size=\"14.00\">samples = 107</text>\r\n",
       "<text text-anchor=\"middle\" x=\"4940\" y=\"-1136.8\" font-family=\"Times New Roman,serif\" font-size=\"14.00\">value = [0, 0, 1, 2, 7, 0, 0, 92, 0, 5]</text>\r\n",
       "</g>\r\n",
       "<!-- 84&#45;&gt;85 -->\r\n",
       "<g id=\"edge85\" class=\"edge\"><title>84&#45;&gt;85</title>\r\n",
       "<path fill=\"none\" stroke=\"black\" d=\"M4940,-1232.88C4940,-1224.78 4940,-1215.98 4940,-1207.47\"/>\r\n",
       "<polygon fill=\"black\" stroke=\"black\" points=\"4943.5,-1207.3 4940,-1197.3 4936.5,-1207.3 4943.5,-1207.3\"/>\r\n",
       "</g>\r\n",
       "<!-- 104 -->\r\n",
       "<g id=\"node105\" class=\"node\"><title>104</title>\r\n",
       "<polygon fill=\"#fefffe\" stroke=\"black\" points=\"8374.5,-1197 8081.5,-1197 8081.5,-1129 8374.5,-1129 8374.5,-1197\"/>\r\n",
       "<text text-anchor=\"middle\" x=\"8228\" y=\"-1181.8\" font-family=\"Times New Roman,serif\" font-size=\"14.00\">X[33] &lt;= 4.5</text>\r\n",
       "<text text-anchor=\"middle\" x=\"8228\" y=\"-1166.8\" font-family=\"Times New Roman,serif\" font-size=\"14.00\">gini = 0.851</text>\r\n",
       "<text text-anchor=\"middle\" x=\"8228\" y=\"-1151.8\" font-family=\"Times New Roman,serif\" font-size=\"14.00\">samples = 736</text>\r\n",
       "<text text-anchor=\"middle\" x=\"8228\" y=\"-1136.8\" font-family=\"Times New Roman,serif\" font-size=\"14.00\">value = [2, 111, 103, 133, 104, 6, 3, 40, 131, 103]</text>\r\n",
       "</g>\r\n",
       "<!-- 84&#45;&gt;104 -->\r\n",
       "<g id=\"edge104\" class=\"edge\"><title>84&#45;&gt;104</title>\r\n",
       "<path fill=\"none\" stroke=\"black\" d=\"M5089.55,-1261.36C5635,-1244.44 7514.56,-1186.13 8071.37,-1168.86\"/>\r\n",
       "<polygon fill=\"black\" stroke=\"black\" points=\"8071.6,-1172.35 8081.48,-1168.55 8071.38,-1165.36 8071.6,-1172.35\"/>\r\n",
       "</g>\r\n",
       "<!-- 86 -->\r\n",
       "<g id=\"node87\" class=\"node\"><title>86</title>\r\n",
       "<polygon fill=\"#5ae9cf\" stroke=\"black\" points=\"4929.5,-1093 4724.5,-1093 4724.5,-1025 4929.5,-1025 4929.5,-1093\"/>\r\n",
       "<text text-anchor=\"middle\" x=\"4827\" y=\"-1077.8\" font-family=\"Times New Roman,serif\" font-size=\"14.00\">X[10] &lt;= 3.0</text>\r\n",
       "<text text-anchor=\"middle\" x=\"4827\" y=\"-1062.8\" font-family=\"Times New Roman,serif\" font-size=\"14.00\">gini = 0.245</text>\r\n",
       "<text text-anchor=\"middle\" x=\"4827\" y=\"-1047.8\" font-family=\"Times New Roman,serif\" font-size=\"14.00\">samples = 7</text>\r\n",
       "<text text-anchor=\"middle\" x=\"4827\" y=\"-1032.8\" font-family=\"Times New Roman,serif\" font-size=\"14.00\">value = [0, 0, 0, 0, 6, 0, 0, 1, 0, 0]</text>\r\n",
       "</g>\r\n",
       "<!-- 85&#45;&gt;86 -->\r\n",
       "<g id=\"edge86\" class=\"edge\"><title>85&#45;&gt;86</title>\r\n",
       "<path fill=\"none\" stroke=\"black\" d=\"M4903.31,-1128.88C4893.15,-1119.71 4882,-1109.65 4871.45,-1100.12\"/>\r\n",
       "<polygon fill=\"black\" stroke=\"black\" points=\"4873.66,-1097.4 4863.89,-1093.3 4868.97,-1102.6 4873.66,-1097.4\"/>\r\n",
       "</g>\r\n",
       "<!-- 89 -->\r\n",
       "<g id=\"node90\" class=\"node\"><title>89</title>\r\n",
       "<polygon fill=\"#ac4ce7\" stroke=\"black\" points=\"5160,-1093 4948,-1093 4948,-1025 5160,-1025 5160,-1093\"/>\r\n",
       "<text text-anchor=\"middle\" x=\"5054\" y=\"-1077.8\" font-family=\"Times New Roman,serif\" font-size=\"14.00\">X[17] &lt;= 5.5</text>\r\n",
       "<text text-anchor=\"middle\" x=\"5054\" y=\"-1062.8\" font-family=\"Times New Roman,serif\" font-size=\"14.00\">gini = 0.169</text>\r\n",
       "<text text-anchor=\"middle\" x=\"5054\" y=\"-1047.8\" font-family=\"Times New Roman,serif\" font-size=\"14.00\">samples = 100</text>\r\n",
       "<text text-anchor=\"middle\" x=\"5054\" y=\"-1032.8\" font-family=\"Times New Roman,serif\" font-size=\"14.00\">value = [0, 0, 1, 2, 1, 0, 0, 91, 0, 5]</text>\r\n",
       "</g>\r\n",
       "<!-- 85&#45;&gt;89 -->\r\n",
       "<g id=\"edge89\" class=\"edge\"><title>85&#45;&gt;89</title>\r\n",
       "<path fill=\"none\" stroke=\"black\" d=\"M4977.01,-1128.88C4987.27,-1119.71 4998.51,-1109.65 5009.16,-1100.12\"/>\r\n",
       "<polygon fill=\"black\" stroke=\"black\" points=\"5011.66,-1102.58 5016.78,-1093.3 5007,-1097.36 5011.66,-1102.58\"/>\r\n",
       "</g>\r\n",
       "<!-- 87 -->\r\n",
       "<g id=\"node88\" class=\"node\"><title>87</title>\r\n",
       "<polygon fill=\"#a339e5\" stroke=\"black\" points=\"4706.5,-981.5 4501.5,-981.5 4501.5,-928.5 4706.5,-928.5 4706.5,-981.5\"/>\r\n",
       "<text text-anchor=\"middle\" x=\"4604\" y=\"-966.3\" font-family=\"Times New Roman,serif\" font-size=\"14.00\">gini = 0.0</text>\r\n",
       "<text text-anchor=\"middle\" x=\"4604\" y=\"-951.3\" font-family=\"Times New Roman,serif\" font-size=\"14.00\">samples = 1</text>\r\n",
       "<text text-anchor=\"middle\" x=\"4604\" y=\"-936.3\" font-family=\"Times New Roman,serif\" font-size=\"14.00\">value = [0, 0, 0, 0, 0, 0, 0, 1, 0, 0]</text>\r\n",
       "</g>\r\n",
       "<!-- 86&#45;&gt;87 -->\r\n",
       "<g id=\"edge87\" class=\"edge\"><title>86&#45;&gt;87</title>\r\n",
       "<path fill=\"none\" stroke=\"black\" d=\"M4754.6,-1024.88C4727.07,-1012.29 4695.9,-998.033 4669.08,-985.769\"/>\r\n",
       "<polygon fill=\"black\" stroke=\"black\" points=\"4670.34,-982.497 4659.79,-981.52 4667.43,-988.862 4670.34,-982.497\"/>\r\n",
       "</g>\r\n",
       "<!-- 88 -->\r\n",
       "<g id=\"node89\" class=\"node\"><title>88</title>\r\n",
       "<polygon fill=\"#39e5c5\" stroke=\"black\" points=\"4929.5,-981.5 4724.5,-981.5 4724.5,-928.5 4929.5,-928.5 4929.5,-981.5\"/>\r\n",
       "<text text-anchor=\"middle\" x=\"4827\" y=\"-966.3\" font-family=\"Times New Roman,serif\" font-size=\"14.00\">gini = 0.0</text>\r\n",
       "<text text-anchor=\"middle\" x=\"4827\" y=\"-951.3\" font-family=\"Times New Roman,serif\" font-size=\"14.00\">samples = 6</text>\r\n",
       "<text text-anchor=\"middle\" x=\"4827\" y=\"-936.3\" font-family=\"Times New Roman,serif\" font-size=\"14.00\">value = [0, 0, 0, 0, 6, 0, 0, 0, 0, 0]</text>\r\n",
       "</g>\r\n",
       "<!-- 86&#45;&gt;88 -->\r\n",
       "<g id=\"edge88\" class=\"edge\"><title>86&#45;&gt;88</title>\r\n",
       "<path fill=\"none\" stroke=\"black\" d=\"M4827,-1024.88C4827,-1014.33 4827,-1002.6 4827,-991.854\"/>\r\n",
       "<polygon fill=\"black\" stroke=\"black\" points=\"4830.5,-991.52 4827,-981.52 4823.5,-991.52 4830.5,-991.52\"/>\r\n",
       "</g>\r\n",
       "<!-- 90 -->\r\n",
       "<g id=\"node91\" class=\"node\"><title>90</title>\r\n",
       "<polygon fill=\"#a844e6\" stroke=\"black\" points=\"5160,-989 4948,-989 4948,-921 5160,-921 5160,-989\"/>\r\n",
       "<text text-anchor=\"middle\" x=\"5054\" y=\"-973.8\" font-family=\"Times New Roman,serif\" font-size=\"14.00\">X[37] &lt;= 0.5</text>\r\n",
       "<text text-anchor=\"middle\" x=\"5054\" y=\"-958.8\" font-family=\"Times New Roman,serif\" font-size=\"14.00\">gini = 0.105</text>\r\n",
       "<text text-anchor=\"middle\" x=\"5054\" y=\"-943.8\" font-family=\"Times New Roman,serif\" font-size=\"14.00\">samples = 92</text>\r\n",
       "<text text-anchor=\"middle\" x=\"5054\" y=\"-928.8\" font-family=\"Times New Roman,serif\" font-size=\"14.00\">value = [0, 0, 1, 2, 1, 0, 0, 87, 0, 1]</text>\r\n",
       "</g>\r\n",
       "<!-- 89&#45;&gt;90 -->\r\n",
       "<g id=\"edge90\" class=\"edge\"><title>89&#45;&gt;90</title>\r\n",
       "<path fill=\"none\" stroke=\"black\" d=\"M5054,-1024.88C5054,-1016.78 5054,-1007.98 5054,-999.472\"/>\r\n",
       "<polygon fill=\"black\" stroke=\"black\" points=\"5057.5,-999.299 5054,-989.299 5050.5,-999.299 5057.5,-999.299\"/>\r\n",
       "</g>\r\n",
       "<!-- 101 -->\r\n",
       "<g id=\"node102\" class=\"node\"><title>101</title>\r\n",
       "<polygon fill=\"#ffffff\" stroke=\"black\" points=\"5383.5,-989 5178.5,-989 5178.5,-921 5383.5,-921 5383.5,-989\"/>\r\n",
       "<text text-anchor=\"middle\" x=\"5281\" y=\"-973.8\" font-family=\"Times New Roman,serif\" font-size=\"14.00\">X[27] &lt;= 11.0</text>\r\n",
       "<text text-anchor=\"middle\" x=\"5281\" y=\"-958.8\" font-family=\"Times New Roman,serif\" font-size=\"14.00\">gini = 0.5</text>\r\n",
       "<text text-anchor=\"middle\" x=\"5281\" y=\"-943.8\" font-family=\"Times New Roman,serif\" font-size=\"14.00\">samples = 8</text>\r\n",
       "<text text-anchor=\"middle\" x=\"5281\" y=\"-928.8\" font-family=\"Times New Roman,serif\" font-size=\"14.00\">value = [0, 0, 0, 0, 0, 0, 0, 4, 0, 4]</text>\r\n",
       "</g>\r\n",
       "<!-- 89&#45;&gt;101 -->\r\n",
       "<g id=\"edge101\" class=\"edge\"><title>89&#45;&gt;101</title>\r\n",
       "<path fill=\"none\" stroke=\"black\" d=\"M5127.7,-1024.88C5150.12,-1014.81 5174.9,-1003.67 5197.89,-993.344\"/>\r\n",
       "<polygon fill=\"black\" stroke=\"black\" points=\"5199.59,-996.416 5207.28,-989.125 5196.73,-990.031 5199.59,-996.416\"/>\r\n",
       "</g>\r\n",
       "<!-- 91 -->\r\n",
       "<g id=\"node92\" class=\"node\"><title>91</title>\r\n",
       "<polygon fill=\"#d8aaf4\" stroke=\"black\" points=\"4879.5,-885 4674.5,-885 4674.5,-817 4879.5,-817 4879.5,-885\"/>\r\n",
       "<text text-anchor=\"middle\" x=\"4777\" y=\"-869.8\" font-family=\"Times New Roman,serif\" font-size=\"14.00\">X[43] &lt;= 14.5</text>\r\n",
       "<text text-anchor=\"middle\" x=\"4777\" y=\"-854.8\" font-family=\"Times New Roman,serif\" font-size=\"14.00\">gini = 0.617</text>\r\n",
       "<text text-anchor=\"middle\" x=\"4777\" y=\"-839.8\" font-family=\"Times New Roman,serif\" font-size=\"14.00\">samples = 9</text>\r\n",
       "<text text-anchor=\"middle\" x=\"4777\" y=\"-824.8\" font-family=\"Times New Roman,serif\" font-size=\"14.00\">value = [0, 0, 0, 2, 1, 0, 0, 5, 0, 1]</text>\r\n",
       "</g>\r\n",
       "<!-- 90&#45;&gt;91 -->\r\n",
       "<g id=\"edge91\" class=\"edge\"><title>90&#45;&gt;91</title>\r\n",
       "<path fill=\"none\" stroke=\"black\" d=\"M4964.07,-920.884C4936.11,-910.588 4905.12,-899.179 4876.55,-888.656\"/>\r\n",
       "<polygon fill=\"black\" stroke=\"black\" points=\"4877.55,-885.296 4866.96,-885.125 4875.13,-891.865 4877.55,-885.296\"/>\r\n",
       "</g>\r\n",
       "<!-- 98 -->\r\n",
       "<g id=\"node99\" class=\"node\"><title>98</title>\r\n",
       "<polygon fill=\"#a43be5\" stroke=\"black\" points=\"5160,-885 4948,-885 4948,-817 5160,-817 5160,-885\"/>\r\n",
       "<text text-anchor=\"middle\" x=\"5054\" y=\"-869.8\" font-family=\"Times New Roman,serif\" font-size=\"14.00\">X[52] &lt;= 13.5</text>\r\n",
       "<text text-anchor=\"middle\" x=\"5054\" y=\"-854.8\" font-family=\"Times New Roman,serif\" font-size=\"14.00\">gini = 0.024</text>\r\n",
       "<text text-anchor=\"middle\" x=\"5054\" y=\"-839.8\" font-family=\"Times New Roman,serif\" font-size=\"14.00\">samples = 83</text>\r\n",
       "<text text-anchor=\"middle\" x=\"5054\" y=\"-824.8\" font-family=\"Times New Roman,serif\" font-size=\"14.00\">value = [0, 0, 1, 0, 0, 0, 0, 82, 0, 0]</text>\r\n",
       "</g>\r\n",
       "<!-- 90&#45;&gt;98 -->\r\n",
       "<g id=\"edge98\" class=\"edge\"><title>90&#45;&gt;98</title>\r\n",
       "<path fill=\"none\" stroke=\"black\" d=\"M5054,-920.884C5054,-912.778 5054,-903.982 5054,-895.472\"/>\r\n",
       "<polygon fill=\"black\" stroke=\"black\" points=\"5057.5,-895.299 5054,-885.299 5050.5,-895.299 5057.5,-895.299\"/>\r\n",
       "</g>\r\n",
       "<!-- 92 -->\r\n",
       "<g id=\"node93\" class=\"node\"><title>92</title>\r\n",
       "<polygon fill=\"#bdf6c9\" stroke=\"black\" points=\"4656.5,-781 4451.5,-781 4451.5,-713 4656.5,-713 4656.5,-781\"/>\r\n",
       "<text text-anchor=\"middle\" x=\"4554\" y=\"-765.8\" font-family=\"Times New Roman,serif\" font-size=\"14.00\">X[36] &lt;= 13.5</text>\r\n",
       "<text text-anchor=\"middle\" x=\"4554\" y=\"-750.8\" font-family=\"Times New Roman,serif\" font-size=\"14.00\">gini = 0.625</text>\r\n",
       "<text text-anchor=\"middle\" x=\"4554\" y=\"-735.8\" font-family=\"Times New Roman,serif\" font-size=\"14.00\">samples = 4</text>\r\n",
       "<text text-anchor=\"middle\" x=\"4554\" y=\"-720.8\" font-family=\"Times New Roman,serif\" font-size=\"14.00\">value = [0, 0, 0, 2, 1, 0, 0, 0, 0, 1]</text>\r\n",
       "</g>\r\n",
       "<!-- 91&#45;&gt;92 -->\r\n",
       "<g id=\"edge92\" class=\"edge\"><title>91&#45;&gt;92</title>\r\n",
       "<path fill=\"none\" stroke=\"black\" d=\"M4704.6,-816.884C4682.58,-806.812 4658.23,-795.674 4635.64,-785.344\"/>\r\n",
       "<polygon fill=\"black\" stroke=\"black\" points=\"4636.97,-782.101 4626.42,-781.125 4634.06,-788.467 4636.97,-782.101\"/>\r\n",
       "</g>\r\n",
       "<!-- 97 -->\r\n",
       "<g id=\"node98\" class=\"node\"><title>97</title>\r\n",
       "<polygon fill=\"#a339e5\" stroke=\"black\" points=\"4879.5,-773.5 4674.5,-773.5 4674.5,-720.5 4879.5,-720.5 4879.5,-773.5\"/>\r\n",
       "<text text-anchor=\"middle\" x=\"4777\" y=\"-758.3\" font-family=\"Times New Roman,serif\" font-size=\"14.00\">gini = 0.0</text>\r\n",
       "<text text-anchor=\"middle\" x=\"4777\" y=\"-743.3\" font-family=\"Times New Roman,serif\" font-size=\"14.00\">samples = 5</text>\r\n",
       "<text text-anchor=\"middle\" x=\"4777\" y=\"-728.3\" font-family=\"Times New Roman,serif\" font-size=\"14.00\">value = [0, 0, 0, 0, 0, 0, 0, 5, 0, 0]</text>\r\n",
       "</g>\r\n",
       "<!-- 91&#45;&gt;97 -->\r\n",
       "<g id=\"edge97\" class=\"edge\"><title>91&#45;&gt;97</title>\r\n",
       "<path fill=\"none\" stroke=\"black\" d=\"M4777,-816.884C4777,-806.326 4777,-794.597 4777,-783.854\"/>\r\n",
       "<polygon fill=\"black\" stroke=\"black\" points=\"4780.5,-783.52 4777,-773.52 4773.5,-783.52 4780.5,-783.52\"/>\r\n",
       "</g>\r\n",
       "<!-- 93 -->\r\n",
       "<g id=\"node94\" class=\"node\"><title>93</title>\r\n",
       "<polygon fill=\"#39e55e\" stroke=\"black\" points=\"4470.5,-669.5 4265.5,-669.5 4265.5,-616.5 4470.5,-616.5 4470.5,-669.5\"/>\r\n",
       "<text text-anchor=\"middle\" x=\"4368\" y=\"-654.3\" font-family=\"Times New Roman,serif\" font-size=\"14.00\">gini = 0.0</text>\r\n",
       "<text text-anchor=\"middle\" x=\"4368\" y=\"-639.3\" font-family=\"Times New Roman,serif\" font-size=\"14.00\">samples = 2</text>\r\n",
       "<text text-anchor=\"middle\" x=\"4368\" y=\"-624.3\" font-family=\"Times New Roman,serif\" font-size=\"14.00\">value = [0, 0, 0, 2, 0, 0, 0, 0, 0, 0]</text>\r\n",
       "</g>\r\n",
       "<!-- 92&#45;&gt;93 -->\r\n",
       "<g id=\"edge93\" class=\"edge\"><title>92&#45;&gt;93</title>\r\n",
       "<path fill=\"none\" stroke=\"black\" d=\"M4493.61,-712.884C4471.05,-700.511 4445.56,-686.53 4423.46,-674.413\"/>\r\n",
       "<polygon fill=\"black\" stroke=\"black\" points=\"4424.99,-671.259 4414.54,-669.52 4421.62,-677.397 4424.99,-671.259\"/>\r\n",
       "</g>\r\n",
       "<!-- 94 -->\r\n",
       "<g id=\"node95\" class=\"node\"><title>94</title>\r\n",
       "<polygon fill=\"#ffffff\" stroke=\"black\" points=\"4693.5,-677 4488.5,-677 4488.5,-609 4693.5,-609 4693.5,-677\"/>\r\n",
       "<text text-anchor=\"middle\" x=\"4591\" y=\"-661.8\" font-family=\"Times New Roman,serif\" font-size=\"14.00\">X[25] &lt;= 1.0</text>\r\n",
       "<text text-anchor=\"middle\" x=\"4591\" y=\"-646.8\" font-family=\"Times New Roman,serif\" font-size=\"14.00\">gini = 0.5</text>\r\n",
       "<text text-anchor=\"middle\" x=\"4591\" y=\"-631.8\" font-family=\"Times New Roman,serif\" font-size=\"14.00\">samples = 2</text>\r\n",
       "<text text-anchor=\"middle\" x=\"4591\" y=\"-616.8\" font-family=\"Times New Roman,serif\" font-size=\"14.00\">value = [0, 0, 0, 0, 1, 0, 0, 0, 0, 1]</text>\r\n",
       "</g>\r\n",
       "<!-- 92&#45;&gt;94 -->\r\n",
       "<g id=\"edge94\" class=\"edge\"><title>92&#45;&gt;94</title>\r\n",
       "<path fill=\"none\" stroke=\"black\" d=\"M4566.01,-712.884C4569.02,-704.6 4572.28,-695.595 4575.43,-686.911\"/>\r\n",
       "<polygon fill=\"black\" stroke=\"black\" points=\"4578.8,-687.894 4578.92,-677.299 4572.22,-685.506 4578.8,-687.894\"/>\r\n",
       "</g>\r\n",
       "<!-- 95 -->\r\n",
       "<g id=\"node96\" class=\"node\"><title>95</title>\r\n",
       "<polygon fill=\"#39e5c5\" stroke=\"black\" points=\"4544.5,-565.5 4339.5,-565.5 4339.5,-512.5 4544.5,-512.5 4544.5,-565.5\"/>\r\n",
       "<text text-anchor=\"middle\" x=\"4442\" y=\"-550.3\" font-family=\"Times New Roman,serif\" font-size=\"14.00\">gini = 0.0</text>\r\n",
       "<text text-anchor=\"middle\" x=\"4442\" y=\"-535.3\" font-family=\"Times New Roman,serif\" font-size=\"14.00\">samples = 1</text>\r\n",
       "<text text-anchor=\"middle\" x=\"4442\" y=\"-520.3\" font-family=\"Times New Roman,serif\" font-size=\"14.00\">value = [0, 0, 0, 0, 1, 0, 0, 0, 0, 0]</text>\r\n",
       "</g>\r\n",
       "<!-- 94&#45;&gt;95 -->\r\n",
       "<g id=\"edge95\" class=\"edge\"><title>94&#45;&gt;95</title>\r\n",
       "<path fill=\"none\" stroke=\"black\" d=\"M4542.62,-608.884C4524.95,-596.786 4505.03,-583.151 4487.61,-571.224\"/>\r\n",
       "<polygon fill=\"black\" stroke=\"black\" points=\"4489.51,-568.281 4479.28,-565.52 4485.55,-574.057 4489.51,-568.281\"/>\r\n",
       "</g>\r\n",
       "<!-- 96 -->\r\n",
       "<g id=\"node97\" class=\"node\"><title>96</title>\r\n",
       "<polygon fill=\"#e53958\" stroke=\"black\" points=\"4767.5,-565.5 4562.5,-565.5 4562.5,-512.5 4767.5,-512.5 4767.5,-565.5\"/>\r\n",
       "<text text-anchor=\"middle\" x=\"4665\" y=\"-550.3\" font-family=\"Times New Roman,serif\" font-size=\"14.00\">gini = 0.0</text>\r\n",
       "<text text-anchor=\"middle\" x=\"4665\" y=\"-535.3\" font-family=\"Times New Roman,serif\" font-size=\"14.00\">samples = 1</text>\r\n",
       "<text text-anchor=\"middle\" x=\"4665\" y=\"-520.3\" font-family=\"Times New Roman,serif\" font-size=\"14.00\">value = [0, 0, 0, 0, 0, 0, 0, 0, 0, 1]</text>\r\n",
       "</g>\r\n",
       "<!-- 94&#45;&gt;96 -->\r\n",
       "<g id=\"edge96\" class=\"edge\"><title>94&#45;&gt;96</title>\r\n",
       "<path fill=\"none\" stroke=\"black\" d=\"M4615.03,-608.884C4623.16,-597.666 4632.26,-585.126 4640.44,-573.852\"/>\r\n",
       "<polygon fill=\"black\" stroke=\"black\" points=\"4643.45,-575.669 4646.49,-565.52 4637.78,-571.559 4643.45,-575.669\"/>\r\n",
       "</g>\r\n",
       "<!-- 99 -->\r\n",
       "<g id=\"node100\" class=\"node\"><title>99</title>\r\n",
       "<polygon fill=\"#a339e5\" stroke=\"black\" points=\"5110,-773.5 4898,-773.5 4898,-720.5 5110,-720.5 5110,-773.5\"/>\r\n",
       "<text text-anchor=\"middle\" x=\"5004\" y=\"-758.3\" font-family=\"Times New Roman,serif\" font-size=\"14.00\">gini = 0.0</text>\r\n",
       "<text text-anchor=\"middle\" x=\"5004\" y=\"-743.3\" font-family=\"Times New Roman,serif\" font-size=\"14.00\">samples = 82</text>\r\n",
       "<text text-anchor=\"middle\" x=\"5004\" y=\"-728.3\" font-family=\"Times New Roman,serif\" font-size=\"14.00\">value = [0, 0, 0, 0, 0, 0, 0, 82, 0, 0]</text>\r\n",
       "</g>\r\n",
       "<!-- 98&#45;&gt;99 -->\r\n",
       "<g id=\"edge99\" class=\"edge\"><title>98&#45;&gt;99</title>\r\n",
       "<path fill=\"none\" stroke=\"black\" d=\"M5037.77,-816.884C5032.38,-805.886 5026.36,-793.617 5020.92,-782.517\"/>\r\n",
       "<polygon fill=\"black\" stroke=\"black\" points=\"5024.05,-780.959 5016.51,-773.52 5017.77,-784.04 5024.05,-780.959\"/>\r\n",
       "</g>\r\n",
       "<!-- 100 -->\r\n",
       "<g id=\"node101\" class=\"node\"><title>100</title>\r\n",
       "<polygon fill=\"#7be539\" stroke=\"black\" points=\"5333.5,-773.5 5128.5,-773.5 5128.5,-720.5 5333.5,-720.5 5333.5,-773.5\"/>\r\n",
       "<text text-anchor=\"middle\" x=\"5231\" y=\"-758.3\" font-family=\"Times New Roman,serif\" font-size=\"14.00\">gini = 0.0</text>\r\n",
       "<text text-anchor=\"middle\" x=\"5231\" y=\"-743.3\" font-family=\"Times New Roman,serif\" font-size=\"14.00\">samples = 1</text>\r\n",
       "<text text-anchor=\"middle\" x=\"5231\" y=\"-728.3\" font-family=\"Times New Roman,serif\" font-size=\"14.00\">value = [0, 0, 1, 0, 0, 0, 0, 0, 0, 0]</text>\r\n",
       "</g>\r\n",
       "<!-- 98&#45;&gt;100 -->\r\n",
       "<g id=\"edge100\" class=\"edge\"><title>98&#45;&gt;100</title>\r\n",
       "<path fill=\"none\" stroke=\"black\" d=\"M5111.47,-816.884C5132.84,-804.566 5156.98,-790.655 5177.94,-778.575\"/>\r\n",
       "<polygon fill=\"black\" stroke=\"black\" points=\"5179.8,-781.545 5186.72,-773.52 5176.3,-775.48 5179.8,-781.545\"/>\r\n",
       "</g>\r\n",
       "<!-- 102 -->\r\n",
       "<g id=\"node103\" class=\"node\"><title>102</title>\r\n",
       "<polygon fill=\"#a339e5\" stroke=\"black\" points=\"5383.5,-877.5 5178.5,-877.5 5178.5,-824.5 5383.5,-824.5 5383.5,-877.5\"/>\r\n",
       "<text text-anchor=\"middle\" x=\"5281\" y=\"-862.3\" font-family=\"Times New Roman,serif\" font-size=\"14.00\">gini = 0.0</text>\r\n",
       "<text text-anchor=\"middle\" x=\"5281\" y=\"-847.3\" font-family=\"Times New Roman,serif\" font-size=\"14.00\">samples = 4</text>\r\n",
       "<text text-anchor=\"middle\" x=\"5281\" y=\"-832.3\" font-family=\"Times New Roman,serif\" font-size=\"14.00\">value = [0, 0, 0, 0, 0, 0, 0, 4, 0, 0]</text>\r\n",
       "</g>\r\n",
       "<!-- 101&#45;&gt;102 -->\r\n",
       "<g id=\"edge102\" class=\"edge\"><title>101&#45;&gt;102</title>\r\n",
       "<path fill=\"none\" stroke=\"black\" d=\"M5281,-920.884C5281,-910.326 5281,-898.597 5281,-887.854\"/>\r\n",
       "<polygon fill=\"black\" stroke=\"black\" points=\"5284.5,-887.52 5281,-877.52 5277.5,-887.52 5284.5,-887.52\"/>\r\n",
       "</g>\r\n",
       "<!-- 103 -->\r\n",
       "<g id=\"node104\" class=\"node\"><title>103</title>\r\n",
       "<polygon fill=\"#e53958\" stroke=\"black\" points=\"5606.5,-877.5 5401.5,-877.5 5401.5,-824.5 5606.5,-824.5 5606.5,-877.5\"/>\r\n",
       "<text text-anchor=\"middle\" x=\"5504\" y=\"-862.3\" font-family=\"Times New Roman,serif\" font-size=\"14.00\">gini = 0.0</text>\r\n",
       "<text text-anchor=\"middle\" x=\"5504\" y=\"-847.3\" font-family=\"Times New Roman,serif\" font-size=\"14.00\">samples = 4</text>\r\n",
       "<text text-anchor=\"middle\" x=\"5504\" y=\"-832.3\" font-family=\"Times New Roman,serif\" font-size=\"14.00\">value = [0, 0, 0, 0, 0, 0, 0, 0, 0, 4]</text>\r\n",
       "</g>\r\n",
       "<!-- 101&#45;&gt;103 -->\r\n",
       "<g id=\"edge103\" class=\"edge\"><title>101&#45;&gt;103</title>\r\n",
       "<path fill=\"none\" stroke=\"black\" d=\"M5353.4,-920.884C5380.93,-908.291 5412.1,-894.033 5438.92,-881.769\"/>\r\n",
       "<polygon fill=\"black\" stroke=\"black\" points=\"5440.57,-884.862 5448.21,-877.52 5437.66,-878.497 5440.57,-884.862\"/>\r\n",
       "</g>\r\n",
       "<!-- 105 -->\r\n",
       "<g id=\"node106\" class=\"node\"><title>105</title>\r\n",
       "<polygon fill=\"#fefffe\" stroke=\"black\" points=\"8371,-1093 8085,-1093 8085,-1025 8371,-1025 8371,-1093\"/>\r\n",
       "<text text-anchor=\"middle\" x=\"8228\" y=\"-1077.8\" font-family=\"Times New Roman,serif\" font-size=\"14.00\">X[43] &lt;= 1.5</text>\r\n",
       "<text text-anchor=\"middle\" x=\"8228\" y=\"-1062.8\" font-family=\"Times New Roman,serif\" font-size=\"14.00\">gini = 0.827</text>\r\n",
       "<text text-anchor=\"middle\" x=\"8228\" y=\"-1047.8\" font-family=\"Times New Roman,serif\" font-size=\"14.00\">samples = 621</text>\r\n",
       "<text text-anchor=\"middle\" x=\"8228\" y=\"-1032.8\" font-family=\"Times New Roman,serif\" font-size=\"14.00\">value = [2, 101, 103, 132, 11, 4, 1, 36, 129, 102]</text>\r\n",
       "</g>\r\n",
       "<!-- 104&#45;&gt;105 -->\r\n",
       "<g id=\"edge105\" class=\"edge\"><title>104&#45;&gt;105</title>\r\n",
       "<path fill=\"none\" stroke=\"black\" d=\"M8228,-1128.88C8228,-1120.78 8228,-1111.98 8228,-1103.47\"/>\r\n",
       "<polygon fill=\"black\" stroke=\"black\" points=\"8231.5,-1103.3 8228,-1093.3 8224.5,-1103.3 8231.5,-1103.3\"/>\r\n",
       "</g>\r\n",
       "<!-- 264 -->\r\n",
       "<g id=\"node265\" class=\"node\"><title>264</title>\r\n",
       "<polygon fill=\"#62ead1\" stroke=\"black\" points=\"13159,-1093 12941,-1093 12941,-1025 13159,-1025 13159,-1093\"/>\r\n",
       "<text text-anchor=\"middle\" x=\"13050\" y=\"-1077.8\" font-family=\"Times New Roman,serif\" font-size=\"14.00\">X[13] &lt;= 8.5</text>\r\n",
       "<text text-anchor=\"middle\" x=\"13050\" y=\"-1062.8\" font-family=\"Times New Roman,serif\" font-size=\"14.00\">gini = 0.336</text>\r\n",
       "<text text-anchor=\"middle\" x=\"13050\" y=\"-1047.8\" font-family=\"Times New Roman,serif\" font-size=\"14.00\">samples = 115</text>\r\n",
       "<text text-anchor=\"middle\" x=\"13050\" y=\"-1032.8\" font-family=\"Times New Roman,serif\" font-size=\"14.00\">value = [0, 10, 0, 1, 93, 2, 2, 4, 2, 1]</text>\r\n",
       "</g>\r\n",
       "<!-- 104&#45;&gt;264 -->\r\n",
       "<g id=\"edge264\" class=\"edge\"><title>104&#45;&gt;264</title>\r\n",
       "<path fill=\"none\" stroke=\"black\" d=\"M8374.62,-1158.9C9097.4,-1143.61 12272.8,-1076.44 12930.5,-1062.53\"/>\r\n",
       "<polygon fill=\"black\" stroke=\"black\" points=\"12931,-1066.02 12940.9,-1062.31 12930.9,-1059.02 12931,-1066.02\"/>\r\n",
       "</g>\r\n",
       "<!-- 106 -->\r\n",
       "<g id=\"node107\" class=\"node\"><title>106</title>\r\n",
       "<polygon fill=\"#dffbe5\" stroke=\"black\" points=\"7113.5,-989 6874.5,-989 6874.5,-921 7113.5,-921 7113.5,-989\"/>\r\n",
       "<text text-anchor=\"middle\" x=\"6994\" y=\"-973.8\" font-family=\"Times New Roman,serif\" font-size=\"14.00\">X[26] &lt;= 3.5</text>\r\n",
       "<text text-anchor=\"middle\" x=\"6994\" y=\"-958.8\" font-family=\"Times New Roman,serif\" font-size=\"14.00\">gini = 0.658</text>\r\n",
       "<text text-anchor=\"middle\" x=\"6994\" y=\"-943.8\" font-family=\"Times New Roman,serif\" font-size=\"14.00\">samples = 257</text>\r\n",
       "<text text-anchor=\"middle\" x=\"6994\" y=\"-928.8\" font-family=\"Times New Roman,serif\" font-size=\"14.00\">value = [0, 22, 6, 117, 0, 4, 0, 3, 15, 90]</text>\r\n",
       "</g>\r\n",
       "<!-- 105&#45;&gt;106 -->\r\n",
       "<g id=\"edge106\" class=\"edge\"><title>105&#45;&gt;106</title>\r\n",
       "<path fill=\"none\" stroke=\"black\" d=\"M8084.94,-1046.17C7843.04,-1026.18 7356.86,-985.994 7124.05,-966.75\"/>\r\n",
       "<polygon fill=\"black\" stroke=\"black\" points=\"7124.1,-963.242 7113.84,-965.906 7123.52,-970.218 7124.1,-963.242\"/>\r\n",
       "</g>\r\n",
       "<!-- 161 -->\r\n",
       "<g id=\"node162\" class=\"node\"><title>161</title>\r\n",
       "<polygon fill=\"#fdf2fb\" stroke=\"black\" points=\"9482.5,-989 9223.5,-989 9223.5,-921 9482.5,-921 9482.5,-989\"/>\r\n",
       "<text text-anchor=\"middle\" x=\"9353\" y=\"-973.8\" font-family=\"Times New Roman,serif\" font-size=\"14.00\">X[27] &lt;= 10.5</text>\r\n",
       "<text text-anchor=\"middle\" x=\"9353\" y=\"-958.8\" font-family=\"Times New Roman,serif\" font-size=\"14.00\">gini = 0.772</text>\r\n",
       "<text text-anchor=\"middle\" x=\"9353\" y=\"-943.8\" font-family=\"Times New Roman,serif\" font-size=\"14.00\">samples = 364</text>\r\n",
       "<text text-anchor=\"middle\" x=\"9353\" y=\"-928.8\" font-family=\"Times New Roman,serif\" font-size=\"14.00\">value = [2, 79, 97, 15, 11, 0, 1, 33, 114, 12]</text>\r\n",
       "</g>\r\n",
       "<!-- 105&#45;&gt;161 -->\r\n",
       "<g id=\"edge161\" class=\"edge\"><title>105&#45;&gt;161</title>\r\n",
       "<path fill=\"none\" stroke=\"black\" d=\"M8371.05,-1045.03C8588.06,-1025.35 8997.88,-988.198 9213.04,-968.69\"/>\r\n",
       "<polygon fill=\"black\" stroke=\"black\" points=\"9213.49,-972.163 9223.13,-967.775 9212.86,-965.192 9213.49,-972.163\"/>\r\n",
       "</g>\r\n",
       "<!-- 107 -->\r\n",
       "<g id=\"node108\" class=\"node\"><title>107</title>\r\n",
       "<polygon fill=\"#55e974\" stroke=\"black\" points=\"5941,-885 5723,-885 5723,-817 5941,-817 5941,-885\"/>\r\n",
       "<text text-anchor=\"middle\" x=\"5832\" y=\"-869.8\" font-family=\"Times New Roman,serif\" font-size=\"14.00\">X[19] &lt;= 10.5</text>\r\n",
       "<text text-anchor=\"middle\" x=\"5832\" y=\"-854.8\" font-family=\"Times New Roman,serif\" font-size=\"14.00\">gini = 0.242</text>\r\n",
       "<text text-anchor=\"middle\" x=\"5832\" y=\"-839.8\" font-family=\"Times New Roman,serif\" font-size=\"14.00\">samples = 121</text>\r\n",
       "<text text-anchor=\"middle\" x=\"5832\" y=\"-824.8\" font-family=\"Times New Roman,serif\" font-size=\"14.00\">value = [0, 1, 5, 105, 0, 0, 0, 0, 4, 6]</text>\r\n",
       "</g>\r\n",
       "<!-- 106&#45;&gt;107 -->\r\n",
       "<g id=\"edge107\" class=\"edge\"><title>106&#45;&gt;107</title>\r\n",
       "<path fill=\"none\" stroke=\"black\" d=\"M6874.29,-943.492C6651.14,-923.904 6174.06,-882.026 5951.25,-862.468\"/>\r\n",
       "<polygon fill=\"black\" stroke=\"black\" points=\"5951.43,-858.97 5941.16,-861.582 5950.82,-865.943 5951.43,-858.97\"/>\r\n",
       "</g>\r\n",
       "<!-- 126 -->\r\n",
       "<g id=\"node127\" class=\"node\"><title>126</title>\r\n",
       "<polygon fill=\"#f193a4\" stroke=\"black\" points=\"7110,-885 6878,-885 6878,-817 7110,-817 7110,-885\"/>\r\n",
       "<text text-anchor=\"middle\" x=\"6994\" y=\"-869.8\" font-family=\"Times New Roman,serif\" font-size=\"14.00\">X[29] &lt;= 13.5</text>\r\n",
       "<text text-anchor=\"middle\" x=\"6994\" y=\"-854.8\" font-family=\"Times New Roman,serif\" font-size=\"14.00\">gini = 0.579</text>\r\n",
       "<text text-anchor=\"middle\" x=\"6994\" y=\"-839.8\" font-family=\"Times New Roman,serif\" font-size=\"14.00\">samples = 136</text>\r\n",
       "<text text-anchor=\"middle\" x=\"6994\" y=\"-824.8\" font-family=\"Times New Roman,serif\" font-size=\"14.00\">value = [0, 21, 1, 12, 0, 4, 0, 3, 11, 84]</text>\r\n",
       "</g>\r\n",
       "<!-- 106&#45;&gt;126 -->\r\n",
       "<g id=\"edge126\" class=\"edge\"><title>106&#45;&gt;126</title>\r\n",
       "<path fill=\"none\" stroke=\"black\" d=\"M6994,-920.884C6994,-912.778 6994,-903.982 6994,-895.472\"/>\r\n",
       "<polygon fill=\"black\" stroke=\"black\" points=\"6997.5,-895.299 6994,-885.299 6990.5,-895.299 6997.5,-895.299\"/>\r\n",
       "</g>\r\n",
       "<!-- 108 -->\r\n",
       "<g id=\"node109\" class=\"node\"><title>108</title>\r\n",
       "<polygon fill=\"#44e667\" stroke=\"black\" points=\"5570,-781 5352,-781 5352,-713 5570,-713 5570,-781\"/>\r\n",
       "<text text-anchor=\"middle\" x=\"5461\" y=\"-765.8\" font-family=\"Times New Roman,serif\" font-size=\"14.00\">X[63] &lt;= 1.5</text>\r\n",
       "<text text-anchor=\"middle\" x=\"5461\" y=\"-750.8\" font-family=\"Times New Roman,serif\" font-size=\"14.00\">gini = 0.105</text>\r\n",
       "<text text-anchor=\"middle\" x=\"5461\" y=\"-735.8\" font-family=\"Times New Roman,serif\" font-size=\"14.00\">samples = 110</text>\r\n",
       "<text text-anchor=\"middle\" x=\"5461\" y=\"-720.8\" font-family=\"Times New Roman,serif\" font-size=\"14.00\">value = [0, 0, 4, 104, 0, 0, 0, 0, 1, 1]</text>\r\n",
       "</g>\r\n",
       "<!-- 107&#45;&gt;108 -->\r\n",
       "<g id=\"edge108\" class=\"edge\"><title>107&#45;&gt;108</title>\r\n",
       "<path fill=\"none\" stroke=\"black\" d=\"M5722.69,-819.948C5677.8,-807.604 5625.69,-793.279 5579.85,-780.675\"/>\r\n",
       "<polygon fill=\"black\" stroke=\"black\" points=\"5580.73,-777.289 5570.16,-778.013 5578.88,-784.039 5580.73,-777.289\"/>\r\n",
       "</g>\r\n",
       "<!-- 117 -->\r\n",
       "<g id=\"node118\" class=\"node\"><title>117</title>\r\n",
       "<polygon fill=\"#f8ced5\" stroke=\"black\" points=\"5934.5,-781 5729.5,-781 5729.5,-713 5934.5,-713 5934.5,-781\"/>\r\n",
       "<text text-anchor=\"middle\" x=\"5832\" y=\"-765.8\" font-family=\"Times New Roman,serif\" font-size=\"14.00\">X[29] &lt;= 13.5</text>\r\n",
       "<text text-anchor=\"middle\" x=\"5832\" y=\"-750.8\" font-family=\"Times New Roman,serif\" font-size=\"14.00\">gini = 0.694</text>\r\n",
       "<text text-anchor=\"middle\" x=\"5832\" y=\"-735.8\" font-family=\"Times New Roman,serif\" font-size=\"14.00\">samples = 11</text>\r\n",
       "<text text-anchor=\"middle\" x=\"5832\" y=\"-720.8\" font-family=\"Times New Roman,serif\" font-size=\"14.00\">value = [0, 1, 1, 1, 0, 0, 0, 0, 3, 5]</text>\r\n",
       "</g>\r\n",
       "<!-- 107&#45;&gt;117 -->\r\n",
       "<g id=\"edge117\" class=\"edge\"><title>107&#45;&gt;117</title>\r\n",
       "<path fill=\"none\" stroke=\"black\" d=\"M5832,-816.884C5832,-808.778 5832,-799.982 5832,-791.472\"/>\r\n",
       "<polygon fill=\"black\" stroke=\"black\" points=\"5835.5,-791.299 5832,-781.299 5828.5,-791.299 5835.5,-791.299\"/>\r\n",
       "</g>\r\n",
       "<!-- 109 -->\r\n",
       "<g id=\"node110\" class=\"node\"><title>109</title>\r\n",
       "<polygon fill=\"#3de561\" stroke=\"black\" points=\"5302,-677 5084,-677 5084,-609 5302,-609 5302,-677\"/>\r\n",
       "<text text-anchor=\"middle\" x=\"5193\" y=\"-661.8\" font-family=\"Times New Roman,serif\" font-size=\"14.00\">X[34] &lt;= 11.0</text>\r\n",
       "<text text-anchor=\"middle\" x=\"5193\" y=\"-646.8\" font-family=\"Times New Roman,serif\" font-size=\"14.00\">gini = 0.037</text>\r\n",
       "<text text-anchor=\"middle\" x=\"5193\" y=\"-631.8\" font-family=\"Times New Roman,serif\" font-size=\"14.00\">samples = 106</text>\r\n",
       "<text text-anchor=\"middle\" x=\"5193\" y=\"-616.8\" font-family=\"Times New Roman,serif\" font-size=\"14.00\">value = [0, 0, 0, 104, 0, 0, 0, 0, 1, 1]</text>\r\n",
       "</g>\r\n",
       "<!-- 108&#45;&gt;109 -->\r\n",
       "<g id=\"edge109\" class=\"edge\"><title>108&#45;&gt;109</title>\r\n",
       "<path fill=\"none\" stroke=\"black\" d=\"M5373.99,-712.884C5347.05,-702.633 5317.22,-691.278 5289.67,-680.794\"/>\r\n",
       "<polygon fill=\"black\" stroke=\"black\" points=\"5290.62,-677.411 5280.03,-677.125 5288.13,-683.953 5290.62,-677.411\"/>\r\n",
       "</g>\r\n",
       "<!-- 116 -->\r\n",
       "<g id=\"node117\" class=\"node\"><title>116</title>\r\n",
       "<polygon fill=\"#7be539\" stroke=\"black\" points=\"5525.5,-669.5 5320.5,-669.5 5320.5,-616.5 5525.5,-616.5 5525.5,-669.5\"/>\r\n",
       "<text text-anchor=\"middle\" x=\"5423\" y=\"-654.3\" font-family=\"Times New Roman,serif\" font-size=\"14.00\">gini = 0.0</text>\r\n",
       "<text text-anchor=\"middle\" x=\"5423\" y=\"-639.3\" font-family=\"Times New Roman,serif\" font-size=\"14.00\">samples = 4</text>\r\n",
       "<text text-anchor=\"middle\" x=\"5423\" y=\"-624.3\" font-family=\"Times New Roman,serif\" font-size=\"14.00\">value = [0, 0, 4, 0, 0, 0, 0, 0, 0, 0]</text>\r\n",
       "</g>\r\n",
       "<!-- 108&#45;&gt;116 -->\r\n",
       "<g id=\"edge116\" class=\"edge\"><title>108&#45;&gt;116</title>\r\n",
       "<path fill=\"none\" stroke=\"black\" d=\"M5448.66,-712.884C5444.65,-702.106 5440.18,-690.108 5436.11,-679.184\"/>\r\n",
       "<polygon fill=\"black\" stroke=\"black\" points=\"5439.28,-677.669 5432.51,-669.52 5432.72,-680.113 5439.28,-677.669\"/>\r\n",
       "</g>\r\n",
       "<!-- 110 -->\r\n",
       "<g id=\"node111\" class=\"node\"><title>110</title>\r\n",
       "<polygon fill=\"#3be560\" stroke=\"black\" points=\"5075,-573 4857,-573 4857,-505 5075,-505 5075,-573\"/>\r\n",
       "<text text-anchor=\"middle\" x=\"4966\" y=\"-557.8\" font-family=\"Times New Roman,serif\" font-size=\"14.00\">X[13] &lt;= 3.5</text>\r\n",
       "<text text-anchor=\"middle\" x=\"4966\" y=\"-542.8\" font-family=\"Times New Roman,serif\" font-size=\"14.00\">gini = 0.019</text>\r\n",
       "<text text-anchor=\"middle\" x=\"4966\" y=\"-527.8\" font-family=\"Times New Roman,serif\" font-size=\"14.00\">samples = 105</text>\r\n",
       "<text text-anchor=\"middle\" x=\"4966\" y=\"-512.8\" font-family=\"Times New Roman,serif\" font-size=\"14.00\">value = [0, 0, 0, 104, 0, 0, 0, 0, 0, 1]</text>\r\n",
       "</g>\r\n",
       "<!-- 109&#45;&gt;110 -->\r\n",
       "<g id=\"edge110\" class=\"edge\"><title>109&#45;&gt;110</title>\r\n",
       "<path fill=\"none\" stroke=\"black\" d=\"M5119.3,-608.884C5096.88,-598.812 5072.1,-587.674 5049.11,-577.344\"/>\r\n",
       "<polygon fill=\"black\" stroke=\"black\" points=\"5050.27,-574.031 5039.72,-573.125 5047.41,-580.416 5050.27,-574.031\"/>\r\n",
       "</g>\r\n",
       "<!-- 115 -->\r\n",
       "<g id=\"node116\" class=\"node\"><title>115</title>\r\n",
       "<polygon fill=\"#e539c0\" stroke=\"black\" points=\"5298.5,-565.5 5093.5,-565.5 5093.5,-512.5 5298.5,-512.5 5298.5,-565.5\"/>\r\n",
       "<text text-anchor=\"middle\" x=\"5196\" y=\"-550.3\" font-family=\"Times New Roman,serif\" font-size=\"14.00\">gini = 0.0</text>\r\n",
       "<text text-anchor=\"middle\" x=\"5196\" y=\"-535.3\" font-family=\"Times New Roman,serif\" font-size=\"14.00\">samples = 1</text>\r\n",
       "<text text-anchor=\"middle\" x=\"5196\" y=\"-520.3\" font-family=\"Times New Roman,serif\" font-size=\"14.00\">value = [0, 0, 0, 0, 0, 0, 0, 0, 1, 0]</text>\r\n",
       "</g>\r\n",
       "<!-- 109&#45;&gt;115 -->\r\n",
       "<g id=\"edge115\" class=\"edge\"><title>109&#45;&gt;115</title>\r\n",
       "<path fill=\"none\" stroke=\"black\" d=\"M5193.97,-608.884C5194.29,-598.216 5194.64,-586.352 5194.96,-575.519\"/>\r\n",
       "<polygon fill=\"black\" stroke=\"black\" points=\"5198.45,-575.619 5195.25,-565.52 5191.46,-575.413 5198.45,-575.619\"/>\r\n",
       "</g>\r\n",
       "<!-- 111 -->\r\n",
       "<g id=\"node112\" class=\"node\"><title>111</title>\r\n",
       "<polygon fill=\"#ffffff\" stroke=\"black\" points=\"4895.5,-469 4690.5,-469 4690.5,-401 4895.5,-401 4895.5,-469\"/>\r\n",
       "<text text-anchor=\"middle\" x=\"4793\" y=\"-453.8\" font-family=\"Times New Roman,serif\" font-size=\"14.00\">X[38] &lt;= 1.0</text>\r\n",
       "<text text-anchor=\"middle\" x=\"4793\" y=\"-438.8\" font-family=\"Times New Roman,serif\" font-size=\"14.00\">gini = 0.5</text>\r\n",
       "<text text-anchor=\"middle\" x=\"4793\" y=\"-423.8\" font-family=\"Times New Roman,serif\" font-size=\"14.00\">samples = 2</text>\r\n",
       "<text text-anchor=\"middle\" x=\"4793\" y=\"-408.8\" font-family=\"Times New Roman,serif\" font-size=\"14.00\">value = [0, 0, 0, 1, 0, 0, 0, 0, 0, 1]</text>\r\n",
       "</g>\r\n",
       "<!-- 110&#45;&gt;111 -->\r\n",
       "<g id=\"edge111\" class=\"edge\"><title>110&#45;&gt;111</title>\r\n",
       "<path fill=\"none\" stroke=\"black\" d=\"M4909.83,-504.884C4893.28,-495.125 4875.03,-484.366 4857.98,-474.31\"/>\r\n",
       "<polygon fill=\"black\" stroke=\"black\" points=\"4859.57,-471.189 4849.18,-469.125 4856.02,-477.219 4859.57,-471.189\"/>\r\n",
       "</g>\r\n",
       "<!-- 114 -->\r\n",
       "<g id=\"node115\" class=\"node\"><title>114</title>\r\n",
       "<polygon fill=\"#39e55e\" stroke=\"black\" points=\"5132,-461.5 4914,-461.5 4914,-408.5 5132,-408.5 5132,-461.5\"/>\r\n",
       "<text text-anchor=\"middle\" x=\"5023\" y=\"-446.3\" font-family=\"Times New Roman,serif\" font-size=\"14.00\">gini = 0.0</text>\r\n",
       "<text text-anchor=\"middle\" x=\"5023\" y=\"-431.3\" font-family=\"Times New Roman,serif\" font-size=\"14.00\">samples = 103</text>\r\n",
       "<text text-anchor=\"middle\" x=\"5023\" y=\"-416.3\" font-family=\"Times New Roman,serif\" font-size=\"14.00\">value = [0, 0, 0, 103, 0, 0, 0, 0, 0, 0]</text>\r\n",
       "</g>\r\n",
       "<!-- 110&#45;&gt;114 -->\r\n",
       "<g id=\"edge114\" class=\"edge\"><title>110&#45;&gt;114</title>\r\n",
       "<path fill=\"none\" stroke=\"black\" d=\"M4984.51,-504.884C4990.65,-493.886 4997.51,-481.617 5003.71,-470.517\"/>\r\n",
       "<polygon fill=\"black\" stroke=\"black\" points=\"5006.92,-471.957 5008.74,-461.52 5000.81,-468.542 5006.92,-471.957\"/>\r\n",
       "</g>\r\n",
       "<!-- 112 -->\r\n",
       "<g id=\"node113\" class=\"node\"><title>112</title>\r\n",
       "<polygon fill=\"#e53958\" stroke=\"black\" points=\"4679.5,-357.5 4474.5,-357.5 4474.5,-304.5 4679.5,-304.5 4679.5,-357.5\"/>\r\n",
       "<text text-anchor=\"middle\" x=\"4577\" y=\"-342.3\" font-family=\"Times New Roman,serif\" font-size=\"14.00\">gini = 0.0</text>\r\n",
       "<text text-anchor=\"middle\" x=\"4577\" y=\"-327.3\" font-family=\"Times New Roman,serif\" font-size=\"14.00\">samples = 1</text>\r\n",
       "<text text-anchor=\"middle\" x=\"4577\" y=\"-312.3\" font-family=\"Times New Roman,serif\" font-size=\"14.00\">value = [0, 0, 0, 0, 0, 0, 0, 0, 0, 1]</text>\r\n",
       "</g>\r\n",
       "<!-- 111&#45;&gt;112 -->\r\n",
       "<g id=\"edge112\" class=\"edge\"><title>111&#45;&gt;112</title>\r\n",
       "<path fill=\"none\" stroke=\"black\" d=\"M4722.87,-400.884C4696.32,-388.346 4666.27,-374.157 4640.38,-361.93\"/>\r\n",
       "<polygon fill=\"black\" stroke=\"black\" points=\"4641.58,-358.625 4631.04,-357.52 4638.59,-364.955 4641.58,-358.625\"/>\r\n",
       "</g>\r\n",
       "<!-- 113 -->\r\n",
       "<g id=\"node114\" class=\"node\"><title>113</title>\r\n",
       "<polygon fill=\"#39e55e\" stroke=\"black\" points=\"4902.5,-357.5 4697.5,-357.5 4697.5,-304.5 4902.5,-304.5 4902.5,-357.5\"/>\r\n",
       "<text text-anchor=\"middle\" x=\"4800\" y=\"-342.3\" font-family=\"Times New Roman,serif\" font-size=\"14.00\">gini = 0.0</text>\r\n",
       "<text text-anchor=\"middle\" x=\"4800\" y=\"-327.3\" font-family=\"Times New Roman,serif\" font-size=\"14.00\">samples = 1</text>\r\n",
       "<text text-anchor=\"middle\" x=\"4800\" y=\"-312.3\" font-family=\"Times New Roman,serif\" font-size=\"14.00\">value = [0, 0, 0, 1, 0, 0, 0, 0, 0, 0]</text>\r\n",
       "</g>\r\n",
       "<!-- 111&#45;&gt;113 -->\r\n",
       "<g id=\"edge113\" class=\"edge\"><title>111&#45;&gt;113</title>\r\n",
       "<path fill=\"none\" stroke=\"black\" d=\"M4795.27,-400.884C4796,-390.216 4796.82,-378.352 4797.56,-367.519\"/>\r\n",
       "<polygon fill=\"black\" stroke=\"black\" points=\"4801.06,-367.736 4798.25,-357.52 4794.07,-367.257 4801.06,-367.736\"/>\r\n",
       "</g>\r\n",
       "<!-- 118 -->\r\n",
       "<g id=\"node119\" class=\"node\"><title>118</title>\r\n",
       "<polygon fill=\"#f5b0e6\" stroke=\"black\" points=\"5748.5,-677 5543.5,-677 5543.5,-609 5748.5,-609 5748.5,-677\"/>\r\n",
       "<text text-anchor=\"middle\" x=\"5646\" y=\"-661.8\" font-family=\"Times New Roman,serif\" font-size=\"14.00\">X[37] &lt;= 7.0</text>\r\n",
       "<text text-anchor=\"middle\" x=\"5646\" y=\"-646.8\" font-family=\"Times New Roman,serif\" font-size=\"14.00\">gini = 0.667</text>\r\n",
       "<text text-anchor=\"middle\" x=\"5646\" y=\"-631.8\" font-family=\"Times New Roman,serif\" font-size=\"14.00\">samples = 6</text>\r\n",
       "<text text-anchor=\"middle\" x=\"5646\" y=\"-616.8\" font-family=\"Times New Roman,serif\" font-size=\"14.00\">value = [0, 1, 1, 1, 0, 0, 0, 0, 3, 0]</text>\r\n",
       "</g>\r\n",
       "<!-- 117&#45;&gt;118 -->\r\n",
       "<g id=\"edge118\" class=\"edge\"><title>117&#45;&gt;118</title>\r\n",
       "<path fill=\"none\" stroke=\"black\" d=\"M5771.61,-712.884C5753.65,-703.035 5733.84,-692.169 5715.36,-682.034\"/>\r\n",
       "<polygon fill=\"black\" stroke=\"black\" points=\"5716.85,-678.864 5706.4,-677.125 5713.49,-685.002 5716.85,-678.864\"/>\r\n",
       "</g>\r\n",
       "<!-- 125 -->\r\n",
       "<g id=\"node126\" class=\"node\"><title>125</title>\r\n",
       "<polygon fill=\"#e53958\" stroke=\"black\" points=\"5971.5,-669.5 5766.5,-669.5 5766.5,-616.5 5971.5,-616.5 5971.5,-669.5\"/>\r\n",
       "<text text-anchor=\"middle\" x=\"5869\" y=\"-654.3\" font-family=\"Times New Roman,serif\" font-size=\"14.00\">gini = 0.0</text>\r\n",
       "<text text-anchor=\"middle\" x=\"5869\" y=\"-639.3\" font-family=\"Times New Roman,serif\" font-size=\"14.00\">samples = 5</text>\r\n",
       "<text text-anchor=\"middle\" x=\"5869\" y=\"-624.3\" font-family=\"Times New Roman,serif\" font-size=\"14.00\">value = [0, 0, 0, 0, 0, 0, 0, 0, 0, 5]</text>\r\n",
       "</g>\r\n",
       "<!-- 117&#45;&gt;125 -->\r\n",
       "<g id=\"edge125\" class=\"edge\"><title>117&#45;&gt;125</title>\r\n",
       "<path fill=\"none\" stroke=\"black\" d=\"M5844.01,-712.884C5847.92,-702.106 5852.27,-690.108 5856.24,-679.184\"/>\r\n",
       "<polygon fill=\"black\" stroke=\"black\" points=\"5859.62,-680.114 5859.74,-669.52 5853.04,-677.727 5859.62,-680.114\"/>\r\n",
       "</g>\r\n",
       "<!-- 119 -->\r\n",
       "<g id=\"node120\" class=\"node\"><title>119</title>\r\n",
       "<polygon fill=\"#e539c0\" stroke=\"black\" points=\"5523.5,-565.5 5318.5,-565.5 5318.5,-512.5 5523.5,-512.5 5523.5,-565.5\"/>\r\n",
       "<text text-anchor=\"middle\" x=\"5421\" y=\"-550.3\" font-family=\"Times New Roman,serif\" font-size=\"14.00\">gini = 0.0</text>\r\n",
       "<text text-anchor=\"middle\" x=\"5421\" y=\"-535.3\" font-family=\"Times New Roman,serif\" font-size=\"14.00\">samples = 3</text>\r\n",
       "<text text-anchor=\"middle\" x=\"5421\" y=\"-520.3\" font-family=\"Times New Roman,serif\" font-size=\"14.00\">value = [0, 0, 0, 0, 0, 0, 0, 0, 3, 0]</text>\r\n",
       "</g>\r\n",
       "<!-- 118&#45;&gt;119 -->\r\n",
       "<g id=\"edge119\" class=\"edge\"><title>118&#45;&gt;119</title>\r\n",
       "<path fill=\"none\" stroke=\"black\" d=\"M5572.95,-608.884C5545.17,-596.291 5513.72,-582.033 5486.67,-569.769\"/>\r\n",
       "<polygon fill=\"black\" stroke=\"black\" points=\"5487.85,-566.461 5477.29,-565.52 5484.96,-572.837 5487.85,-566.461\"/>\r\n",
       "</g>\r\n",
       "<!-- 120 -->\r\n",
       "<g id=\"node121\" class=\"node\"><title>120</title>\r\n",
       "<polygon fill=\"#ffffff\" stroke=\"black\" points=\"5746.5,-573 5541.5,-573 5541.5,-505 5746.5,-505 5746.5,-573\"/>\r\n",
       "<text text-anchor=\"middle\" x=\"5644\" y=\"-557.8\" font-family=\"Times New Roman,serif\" font-size=\"14.00\">X[51] &lt;= 9.5</text>\r\n",
       "<text text-anchor=\"middle\" x=\"5644\" y=\"-542.8\" font-family=\"Times New Roman,serif\" font-size=\"14.00\">gini = 0.667</text>\r\n",
       "<text text-anchor=\"middle\" x=\"5644\" y=\"-527.8\" font-family=\"Times New Roman,serif\" font-size=\"14.00\">samples = 3</text>\r\n",
       "<text text-anchor=\"middle\" x=\"5644\" y=\"-512.8\" font-family=\"Times New Roman,serif\" font-size=\"14.00\">value = [0, 1, 1, 1, 0, 0, 0, 0, 0, 0]</text>\r\n",
       "</g>\r\n",
       "<!-- 118&#45;&gt;120 -->\r\n",
       "<g id=\"edge120\" class=\"edge\"><title>118&#45;&gt;120</title>\r\n",
       "<path fill=\"none\" stroke=\"black\" d=\"M5645.35,-608.884C5645.19,-600.778 5645.02,-591.982 5644.85,-583.472\"/>\r\n",
       "<polygon fill=\"black\" stroke=\"black\" points=\"5648.35,-583.229 5644.65,-573.299 5641.35,-583.366 5648.35,-583.229\"/>\r\n",
       "</g>\r\n",
       "<!-- 121 -->\r\n",
       "<g id=\"node122\" class=\"node\"><title>121</title>\r\n",
       "<polygon fill=\"#e2e539\" stroke=\"black\" points=\"5468.5,-461.5 5263.5,-461.5 5263.5,-408.5 5468.5,-408.5 5468.5,-461.5\"/>\r\n",
       "<text text-anchor=\"middle\" x=\"5366\" y=\"-446.3\" font-family=\"Times New Roman,serif\" font-size=\"14.00\">gini = 0.0</text>\r\n",
       "<text text-anchor=\"middle\" x=\"5366\" y=\"-431.3\" font-family=\"Times New Roman,serif\" font-size=\"14.00\">samples = 1</text>\r\n",
       "<text text-anchor=\"middle\" x=\"5366\" y=\"-416.3\" font-family=\"Times New Roman,serif\" font-size=\"14.00\">value = [0, 1, 0, 0, 0, 0, 0, 0, 0, 0]</text>\r\n",
       "</g>\r\n",
       "<!-- 120&#45;&gt;121 -->\r\n",
       "<g id=\"edge121\" class=\"edge\"><title>120&#45;&gt;121</title>\r\n",
       "<path fill=\"none\" stroke=\"black\" d=\"M5553.74,-504.884C5518.67,-492.016 5478.86,-477.409 5444.95,-464.968\"/>\r\n",
       "<polygon fill=\"black\" stroke=\"black\" points=\"5446.15,-461.679 5435.55,-461.52 5443.74,-468.25 5446.15,-461.679\"/>\r\n",
       "</g>\r\n",
       "<!-- 122 -->\r\n",
       "<g id=\"node123\" class=\"node\"><title>122</title>\r\n",
       "<polygon fill=\"#ffffff\" stroke=\"black\" points=\"5691.5,-469 5486.5,-469 5486.5,-401 5691.5,-401 5691.5,-469\"/>\r\n",
       "<text text-anchor=\"middle\" x=\"5589\" y=\"-453.8\" font-family=\"Times New Roman,serif\" font-size=\"14.00\">X[10] &lt;= 12.0</text>\r\n",
       "<text text-anchor=\"middle\" x=\"5589\" y=\"-438.8\" font-family=\"Times New Roman,serif\" font-size=\"14.00\">gini = 0.5</text>\r\n",
       "<text text-anchor=\"middle\" x=\"5589\" y=\"-423.8\" font-family=\"Times New Roman,serif\" font-size=\"14.00\">samples = 2</text>\r\n",
       "<text text-anchor=\"middle\" x=\"5589\" y=\"-408.8\" font-family=\"Times New Roman,serif\" font-size=\"14.00\">value = [0, 0, 1, 1, 0, 0, 0, 0, 0, 0]</text>\r\n",
       "</g>\r\n",
       "<!-- 120&#45;&gt;122 -->\r\n",
       "<g id=\"edge122\" class=\"edge\"><title>120&#45;&gt;122</title>\r\n",
       "<path fill=\"none\" stroke=\"black\" d=\"M5626.14,-504.884C5621.58,-496.422 5616.61,-487.207 5611.84,-478.352\"/>\r\n",
       "<polygon fill=\"black\" stroke=\"black\" points=\"5614.78,-476.44 5606.96,-469.299 5608.62,-479.762 5614.78,-476.44\"/>\r\n",
       "</g>\r\n",
       "<!-- 123 -->\r\n",
       "<g id=\"node124\" class=\"node\"><title>123</title>\r\n",
       "<polygon fill=\"#7be539\" stroke=\"black\" points=\"5356.5,-357.5 5151.5,-357.5 5151.5,-304.5 5356.5,-304.5 5356.5,-357.5\"/>\r\n",
       "<text text-anchor=\"middle\" x=\"5254\" y=\"-342.3\" font-family=\"Times New Roman,serif\" font-size=\"14.00\">gini = 0.0</text>\r\n",
       "<text text-anchor=\"middle\" x=\"5254\" y=\"-327.3\" font-family=\"Times New Roman,serif\" font-size=\"14.00\">samples = 1</text>\r\n",
       "<text text-anchor=\"middle\" x=\"5254\" y=\"-312.3\" font-family=\"Times New Roman,serif\" font-size=\"14.00\">value = [0, 0, 1, 0, 0, 0, 0, 0, 0, 0]</text>\r\n",
       "</g>\r\n",
       "<!-- 122&#45;&gt;123 -->\r\n",
       "<g id=\"edge123\" class=\"edge\"><title>122&#45;&gt;123</title>\r\n",
       "<path fill=\"none\" stroke=\"black\" d=\"M5486.21,-402.703C5441.96,-389.229 5390.58,-373.585 5347.42,-360.444\"/>\r\n",
       "<polygon fill=\"black\" stroke=\"black\" points=\"5348.36,-357.072 5337.77,-357.507 5346.32,-363.769 5348.36,-357.072\"/>\r\n",
       "</g>\r\n",
       "<!-- 124 -->\r\n",
       "<g id=\"node125\" class=\"node\"><title>124</title>\r\n",
       "<polygon fill=\"#39e55e\" stroke=\"black\" points=\"5579.5,-357.5 5374.5,-357.5 5374.5,-304.5 5579.5,-304.5 5579.5,-357.5\"/>\r\n",
       "<text text-anchor=\"middle\" x=\"5477\" y=\"-342.3\" font-family=\"Times New Roman,serif\" font-size=\"14.00\">gini = 0.0</text>\r\n",
       "<text text-anchor=\"middle\" x=\"5477\" y=\"-327.3\" font-family=\"Times New Roman,serif\" font-size=\"14.00\">samples = 1</text>\r\n",
       "<text text-anchor=\"middle\" x=\"5477\" y=\"-312.3\" font-family=\"Times New Roman,serif\" font-size=\"14.00\">value = [0, 0, 0, 1, 0, 0, 0, 0, 0, 0]</text>\r\n",
       "</g>\r\n",
       "<!-- 122&#45;&gt;124 -->\r\n",
       "<g id=\"edge124\" class=\"edge\"><title>122&#45;&gt;124</title>\r\n",
       "<path fill=\"none\" stroke=\"black\" d=\"M5552.64,-400.884C5539.84,-389.226 5525.47,-376.141 5512.72,-364.532\"/>\r\n",
       "<polygon fill=\"black\" stroke=\"black\" points=\"5514.77,-361.666 5505.02,-357.52 5510.06,-366.841 5514.77,-361.666\"/>\r\n",
       "</g>\r\n",
       "<!-- 127 -->\r\n",
       "<g id=\"node128\" class=\"node\"><title>127</title>\r\n",
       "<polygon fill=\"#fefafb\" stroke=\"black\" points=\"6986.5,-781 6761.5,-781 6761.5,-713 6986.5,-713 6986.5,-781\"/>\r\n",
       "<text text-anchor=\"middle\" x=\"6874\" y=\"-765.8\" font-family=\"Times New Roman,serif\" font-size=\"14.00\">X[42] &lt;= 11.0</text>\r\n",
       "<text text-anchor=\"middle\" x=\"6874\" y=\"-750.8\" font-family=\"Times New Roman,serif\" font-size=\"14.00\">gini = 0.802</text>\r\n",
       "<text text-anchor=\"middle\" x=\"6874\" y=\"-735.8\" font-family=\"Times New Roman,serif\" font-size=\"14.00\">samples = 50</text>\r\n",
       "<text text-anchor=\"middle\" x=\"6874\" y=\"-720.8\" font-family=\"Times New Roman,serif\" font-size=\"14.00\">value = [0, 6, 1, 12, 0, 4, 0, 3, 11, 13]</text>\r\n",
       "</g>\r\n",
       "<!-- 126&#45;&gt;127 -->\r\n",
       "<g id=\"edge127\" class=\"edge\"><title>126&#45;&gt;127</title>\r\n",
       "<path fill=\"none\" stroke=\"black\" d=\"M6955.04,-816.884C6944.14,-807.62 6932.18,-797.455 6920.88,-787.845\"/>\r\n",
       "<polygon fill=\"black\" stroke=\"black\" points=\"6923.06,-785.109 6913.18,-781.299 6918.53,-790.443 6923.06,-785.109\"/>\r\n",
       "</g>\r\n",
       "<!-- 150 -->\r\n",
       "<g id=\"node151\" class=\"node\"><title>150</title>\r\n",
       "<polygon fill=\"#ea637b\" stroke=\"black\" points=\"7223,-781 7005,-781 7005,-713 7223,-713 7223,-781\"/>\r\n",
       "<text text-anchor=\"middle\" x=\"7114\" y=\"-765.8\" font-family=\"Times New Roman,serif\" font-size=\"14.00\">X[3] &lt;= 0.5</text>\r\n",
       "<text text-anchor=\"middle\" x=\"7114\" y=\"-750.8\" font-family=\"Times New Roman,serif\" font-size=\"14.00\">gini = 0.288</text>\r\n",
       "<text text-anchor=\"middle\" x=\"7114\" y=\"-735.8\" font-family=\"Times New Roman,serif\" font-size=\"14.00\">samples = 86</text>\r\n",
       "<text text-anchor=\"middle\" x=\"7114\" y=\"-720.8\" font-family=\"Times New Roman,serif\" font-size=\"14.00\">value = [0, 15, 0, 0, 0, 0, 0, 0, 0, 71]</text>\r\n",
       "</g>\r\n",
       "<!-- 126&#45;&gt;150 -->\r\n",
       "<g id=\"edge150\" class=\"edge\"><title>126&#45;&gt;150</title>\r\n",
       "<path fill=\"none\" stroke=\"black\" d=\"M7032.96,-816.884C7043.86,-807.62 7055.82,-797.455 7067.12,-787.845\"/>\r\n",
       "<polygon fill=\"black\" stroke=\"black\" points=\"7069.47,-790.443 7074.82,-781.299 7064.94,-785.109 7069.47,-790.443\"/>\r\n",
       "</g>\r\n",
       "<!-- 128 -->\r\n",
       "<g id=\"node129\" class=\"node\"><title>128</title>\r\n",
       "<polygon fill=\"#fef8f9\" stroke=\"black\" points=\"6759,-677 6541,-677 6541,-609 6759,-609 6759,-677\"/>\r\n",
       "<text text-anchor=\"middle\" x=\"6650\" y=\"-661.8\" font-family=\"Times New Roman,serif\" font-size=\"14.00\">X[26] &lt;= 8.5</text>\r\n",
       "<text text-anchor=\"middle\" x=\"6650\" y=\"-646.8\" font-family=\"Times New Roman,serif\" font-size=\"14.00\">gini = 0.775</text>\r\n",
       "<text text-anchor=\"middle\" x=\"6650\" y=\"-631.8\" font-family=\"Times New Roman,serif\" font-size=\"14.00\">samples = 41</text>\r\n",
       "<text text-anchor=\"middle\" x=\"6650\" y=\"-616.8\" font-family=\"Times New Roman,serif\" font-size=\"14.00\">value = [0, 6, 1, 12, 0, 4, 0, 3, 2, 13]</text>\r\n",
       "</g>\r\n",
       "<!-- 127&#45;&gt;128 -->\r\n",
       "<g id=\"edge128\" class=\"edge\"><title>127&#45;&gt;128</title>\r\n",
       "<path fill=\"none\" stroke=\"black\" d=\"M6801.27,-712.884C6779.15,-702.812 6754.7,-691.674 6732.01,-681.344\"/>\r\n",
       "<polygon fill=\"black\" stroke=\"black\" points=\"6733.3,-678.084 6722.74,-677.125 6730.39,-684.454 6733.3,-678.084\"/>\r\n",
       "</g>\r\n",
       "<!-- 149 -->\r\n",
       "<g id=\"node150\" class=\"node\"><title>149</title>\r\n",
       "<polygon fill=\"#e539c0\" stroke=\"black\" points=\"6982.5,-669.5 6777.5,-669.5 6777.5,-616.5 6982.5,-616.5 6982.5,-669.5\"/>\r\n",
       "<text text-anchor=\"middle\" x=\"6880\" y=\"-654.3\" font-family=\"Times New Roman,serif\" font-size=\"14.00\">gini = 0.0</text>\r\n",
       "<text text-anchor=\"middle\" x=\"6880\" y=\"-639.3\" font-family=\"Times New Roman,serif\" font-size=\"14.00\">samples = 9</text>\r\n",
       "<text text-anchor=\"middle\" x=\"6880\" y=\"-624.3\" font-family=\"Times New Roman,serif\" font-size=\"14.00\">value = [0, 0, 0, 0, 0, 0, 0, 0, 9, 0]</text>\r\n",
       "</g>\r\n",
       "<!-- 127&#45;&gt;149 -->\r\n",
       "<g id=\"edge149\" class=\"edge\"><title>127&#45;&gt;149</title>\r\n",
       "<path fill=\"none\" stroke=\"black\" d=\"M6875.95,-712.884C6876.58,-702.216 6877.27,-690.352 6877.91,-679.519\"/>\r\n",
       "<polygon fill=\"black\" stroke=\"black\" points=\"6881.41,-679.708 6878.5,-669.52 6874.42,-679.297 6881.41,-679.708\"/>\r\n",
       "</g>\r\n",
       "<!-- 129 -->\r\n",
       "<g id=\"node130\" class=\"node\"><title>129</title>\r\n",
       "<polygon fill=\"#85ef9c\" stroke=\"black\" points=\"6422,-573 6210,-573 6210,-505 6422,-505 6422,-573\"/>\r\n",
       "<text text-anchor=\"middle\" x=\"6316\" y=\"-557.8\" font-family=\"Times New Roman,serif\" font-size=\"14.00\">X[44] &lt;= 10.5</text>\r\n",
       "<text text-anchor=\"middle\" x=\"6316\" y=\"-542.8\" font-family=\"Times New Roman,serif\" font-size=\"14.00\">gini = 0.484</text>\r\n",
       "<text text-anchor=\"middle\" x=\"6316\" y=\"-527.8\" font-family=\"Times New Roman,serif\" font-size=\"14.00\">samples = 16</text>\r\n",
       "<text text-anchor=\"middle\" x=\"6316\" y=\"-512.8\" font-family=\"Times New Roman,serif\" font-size=\"14.00\">value = [0, 3, 1, 11, 0, 0, 0, 0, 0, 1]</text>\r\n",
       "</g>\r\n",
       "<!-- 128&#45;&gt;129 -->\r\n",
       "<g id=\"edge129\" class=\"edge\"><title>128&#45;&gt;129</title>\r\n",
       "<path fill=\"none\" stroke=\"black\" d=\"M6541.56,-608.884C6506.56,-598.196 6467.64,-586.309 6432.11,-575.459\"/>\r\n",
       "<polygon fill=\"black\" stroke=\"black\" points=\"6432.77,-572.002 6422.19,-572.428 6430.73,-578.697 6432.77,-572.002\"/>\r\n",
       "</g>\r\n",
       "<!-- 136 -->\r\n",
       "<g id=\"node137\" class=\"node\"><title>136</title>\r\n",
       "<polygon fill=\"#f5b4bf\" stroke=\"black\" points=\"6760,-573 6548,-573 6548,-505 6760,-505 6760,-573\"/>\r\n",
       "<text text-anchor=\"middle\" x=\"6654\" y=\"-557.8\" font-family=\"Times New Roman,serif\" font-size=\"14.00\">X[2] &lt;= 11.5</text>\r\n",
       "<text text-anchor=\"middle\" x=\"6654\" y=\"-542.8\" font-family=\"Times New Roman,serif\" font-size=\"14.00\">gini = 0.707</text>\r\n",
       "<text text-anchor=\"middle\" x=\"6654\" y=\"-527.8\" font-family=\"Times New Roman,serif\" font-size=\"14.00\">samples = 25</text>\r\n",
       "<text text-anchor=\"middle\" x=\"6654\" y=\"-512.8\" font-family=\"Times New Roman,serif\" font-size=\"14.00\">value = [0, 3, 0, 1, 0, 4, 0, 3, 2, 12]</text>\r\n",
       "</g>\r\n",
       "<!-- 128&#45;&gt;136 -->\r\n",
       "<g id=\"edge136\" class=\"edge\"><title>128&#45;&gt;136</title>\r\n",
       "<path fill=\"none\" stroke=\"black\" d=\"M6651.3,-608.884C6651.62,-600.778 6651.96,-591.982 6652.3,-583.472\"/>\r\n",
       "<polygon fill=\"black\" stroke=\"black\" points=\"6655.8,-583.429 6652.69,-573.299 6648.8,-583.155 6655.8,-583.429\"/>\r\n",
       "</g>\r\n",
       "<!-- 130 -->\r\n",
       "<g id=\"node131\" class=\"node\"><title>130</title>\r\n",
       "<polygon fill=\"#4be76d\" stroke=\"black\" points=\"6033,-469 5821,-469 5821,-401 6033,-401 6033,-469\"/>\r\n",
       "<text text-anchor=\"middle\" x=\"5927\" y=\"-453.8\" font-family=\"Times New Roman,serif\" font-size=\"14.00\">X[46] &lt;= 0.5</text>\r\n",
       "<text text-anchor=\"middle\" x=\"5927\" y=\"-438.8\" font-family=\"Times New Roman,serif\" font-size=\"14.00\">gini = 0.153</text>\r\n",
       "<text text-anchor=\"middle\" x=\"5927\" y=\"-423.8\" font-family=\"Times New Roman,serif\" font-size=\"14.00\">samples = 12</text>\r\n",
       "<text text-anchor=\"middle\" x=\"5927\" y=\"-408.8\" font-family=\"Times New Roman,serif\" font-size=\"14.00\">value = [0, 0, 0, 11, 0, 0, 0, 0, 0, 1]</text>\r\n",
       "</g>\r\n",
       "<!-- 129&#45;&gt;130 -->\r\n",
       "<g id=\"edge130\" class=\"edge\"><title>129&#45;&gt;130</title>\r\n",
       "<path fill=\"none\" stroke=\"black\" d=\"M6209.96,-510.195C6158.29,-496.646 6096.02,-480.32 6043.08,-466.436\"/>\r\n",
       "<polygon fill=\"black\" stroke=\"black\" points=\"6043.86,-463.024 6033.3,-463.874 6042.09,-469.796 6043.86,-463.024\"/>\r\n",
       "</g>\r\n",
       "<!-- 133 -->\r\n",
       "<g id=\"node134\" class=\"node\"><title>133</title>\r\n",
       "<polygon fill=\"#ecee7b\" stroke=\"black\" points=\"6418.5,-469 6213.5,-469 6213.5,-401 6418.5,-401 6418.5,-469\"/>\r\n",
       "<text text-anchor=\"middle\" x=\"6316\" y=\"-453.8\" font-family=\"Times New Roman,serif\" font-size=\"14.00\">X[36] &lt;= 6.5</text>\r\n",
       "<text text-anchor=\"middle\" x=\"6316\" y=\"-438.8\" font-family=\"Times New Roman,serif\" font-size=\"14.00\">gini = 0.375</text>\r\n",
       "<text text-anchor=\"middle\" x=\"6316\" y=\"-423.8\" font-family=\"Times New Roman,serif\" font-size=\"14.00\">samples = 4</text>\r\n",
       "<text text-anchor=\"middle\" x=\"6316\" y=\"-408.8\" font-family=\"Times New Roman,serif\" font-size=\"14.00\">value = [0, 3, 1, 0, 0, 0, 0, 0, 0, 0]</text>\r\n",
       "</g>\r\n",
       "<!-- 129&#45;&gt;133 -->\r\n",
       "<g id=\"edge133\" class=\"edge\"><title>129&#45;&gt;133</title>\r\n",
       "<path fill=\"none\" stroke=\"black\" d=\"M6316,-504.884C6316,-496.778 6316,-487.982 6316,-479.472\"/>\r\n",
       "<polygon fill=\"black\" stroke=\"black\" points=\"6319.5,-479.299 6316,-469.299 6312.5,-479.299 6319.5,-479.299\"/>\r\n",
       "</g>\r\n",
       "<!-- 131 -->\r\n",
       "<g id=\"node132\" class=\"node\"><title>131</title>\r\n",
       "<polygon fill=\"#e53958\" stroke=\"black\" points=\"5802.5,-357.5 5597.5,-357.5 5597.5,-304.5 5802.5,-304.5 5802.5,-357.5\"/>\r\n",
       "<text text-anchor=\"middle\" x=\"5700\" y=\"-342.3\" font-family=\"Times New Roman,serif\" font-size=\"14.00\">gini = 0.0</text>\r\n",
       "<text text-anchor=\"middle\" x=\"5700\" y=\"-327.3\" font-family=\"Times New Roman,serif\" font-size=\"14.00\">samples = 1</text>\r\n",
       "<text text-anchor=\"middle\" x=\"5700\" y=\"-312.3\" font-family=\"Times New Roman,serif\" font-size=\"14.00\">value = [0, 0, 0, 0, 0, 0, 0, 0, 0, 1]</text>\r\n",
       "</g>\r\n",
       "<!-- 130&#45;&gt;131 -->\r\n",
       "<g id=\"edge131\" class=\"edge\"><title>130&#45;&gt;131</title>\r\n",
       "<path fill=\"none\" stroke=\"black\" d=\"M5853.3,-400.884C5825.27,-388.291 5793.54,-374.033 5766.25,-361.769\"/>\r\n",
       "<polygon fill=\"black\" stroke=\"black\" points=\"5767.35,-358.426 5756.79,-357.52 5764.48,-364.811 5767.35,-358.426\"/>\r\n",
       "</g>\r\n",
       "<!-- 132 -->\r\n",
       "<g id=\"node133\" class=\"node\"><title>132</title>\r\n",
       "<polygon fill=\"#39e55e\" stroke=\"black\" points=\"6033,-357.5 5821,-357.5 5821,-304.5 6033,-304.5 6033,-357.5\"/>\r\n",
       "<text text-anchor=\"middle\" x=\"5927\" y=\"-342.3\" font-family=\"Times New Roman,serif\" font-size=\"14.00\">gini = 0.0</text>\r\n",
       "<text text-anchor=\"middle\" x=\"5927\" y=\"-327.3\" font-family=\"Times New Roman,serif\" font-size=\"14.00\">samples = 11</text>\r\n",
       "<text text-anchor=\"middle\" x=\"5927\" y=\"-312.3\" font-family=\"Times New Roman,serif\" font-size=\"14.00\">value = [0, 0, 0, 11, 0, 0, 0, 0, 0, 0]</text>\r\n",
       "</g>\r\n",
       "<!-- 130&#45;&gt;132 -->\r\n",
       "<g id=\"edge132\" class=\"edge\"><title>130&#45;&gt;132</title>\r\n",
       "<path fill=\"none\" stroke=\"black\" d=\"M5927,-400.884C5927,-390.326 5927,-378.597 5927,-367.854\"/>\r\n",
       "<polygon fill=\"black\" stroke=\"black\" points=\"5930.5,-367.52 5927,-357.52 5923.5,-367.52 5930.5,-367.52\"/>\r\n",
       "</g>\r\n",
       "<!-- 134 -->\r\n",
       "<g id=\"node135\" class=\"node\"><title>134</title>\r\n",
       "<polygon fill=\"#7be539\" stroke=\"black\" points=\"6256.5,-357.5 6051.5,-357.5 6051.5,-304.5 6256.5,-304.5 6256.5,-357.5\"/>\r\n",
       "<text text-anchor=\"middle\" x=\"6154\" y=\"-342.3\" font-family=\"Times New Roman,serif\" font-size=\"14.00\">gini = 0.0</text>\r\n",
       "<text text-anchor=\"middle\" x=\"6154\" y=\"-327.3\" font-family=\"Times New Roman,serif\" font-size=\"14.00\">samples = 1</text>\r\n",
       "<text text-anchor=\"middle\" x=\"6154\" y=\"-312.3\" font-family=\"Times New Roman,serif\" font-size=\"14.00\">value = [0, 0, 1, 0, 0, 0, 0, 0, 0, 0]</text>\r\n",
       "</g>\r\n",
       "<!-- 133&#45;&gt;134 -->\r\n",
       "<g id=\"edge134\" class=\"edge\"><title>133&#45;&gt;134</title>\r\n",
       "<path fill=\"none\" stroke=\"black\" d=\"M6263.4,-400.884C6244.01,-388.676 6222.14,-374.903 6203.07,-362.899\"/>\r\n",
       "<polygon fill=\"black\" stroke=\"black\" points=\"6204.86,-359.886 6194.53,-357.52 6201.13,-365.81 6204.86,-359.886\"/>\r\n",
       "</g>\r\n",
       "<!-- 135 -->\r\n",
       "<g id=\"node136\" class=\"node\"><title>135</title>\r\n",
       "<polygon fill=\"#e2e539\" stroke=\"black\" points=\"6479.5,-357.5 6274.5,-357.5 6274.5,-304.5 6479.5,-304.5 6479.5,-357.5\"/>\r\n",
       "<text text-anchor=\"middle\" x=\"6377\" y=\"-342.3\" font-family=\"Times New Roman,serif\" font-size=\"14.00\">gini = 0.0</text>\r\n",
       "<text text-anchor=\"middle\" x=\"6377\" y=\"-327.3\" font-family=\"Times New Roman,serif\" font-size=\"14.00\">samples = 3</text>\r\n",
       "<text text-anchor=\"middle\" x=\"6377\" y=\"-312.3\" font-family=\"Times New Roman,serif\" font-size=\"14.00\">value = [0, 3, 0, 0, 0, 0, 0, 0, 0, 0]</text>\r\n",
       "</g>\r\n",
       "<!-- 133&#45;&gt;135 -->\r\n",
       "<g id=\"edge135\" class=\"edge\"><title>133&#45;&gt;135</title>\r\n",
       "<path fill=\"none\" stroke=\"black\" d=\"M6335.8,-400.884C6342.45,-389.776 6349.87,-377.372 6356.56,-366.184\"/>\r\n",
       "<polygon fill=\"black\" stroke=\"black\" points=\"6359.61,-367.899 6361.74,-357.52 6353.6,-364.306 6359.61,-367.899\"/>\r\n",
       "</g>\r\n",
       "<!-- 137 -->\r\n",
       "<g id=\"node138\" class=\"node\"><title>137</title>\r\n",
       "<polygon fill=\"#f196a7\" stroke=\"black\" points=\"6760,-469 6548,-469 6548,-401 6760,-401 6760,-469\"/>\r\n",
       "<text text-anchor=\"middle\" x=\"6654\" y=\"-453.8\" font-family=\"Times New Roman,serif\" font-size=\"14.00\">X[28] &lt;= 10.5</text>\r\n",
       "<text text-anchor=\"middle\" x=\"6654\" y=\"-438.8\" font-family=\"Times New Roman,serif\" font-size=\"14.00\">gini = 0.59</text>\r\n",
       "<text text-anchor=\"middle\" x=\"6654\" y=\"-423.8\" font-family=\"Times New Roman,serif\" font-size=\"14.00\">samples = 20</text>\r\n",
       "<text text-anchor=\"middle\" x=\"6654\" y=\"-408.8\" font-family=\"Times New Roman,serif\" font-size=\"14.00\">value = [0, 3, 0, 1, 0, 0, 0, 3, 1, 12]</text>\r\n",
       "</g>\r\n",
       "<!-- 136&#45;&gt;137 -->\r\n",
       "<g id=\"edge137\" class=\"edge\"><title>136&#45;&gt;137</title>\r\n",
       "<path fill=\"none\" stroke=\"black\" d=\"M6654,-504.884C6654,-496.778 6654,-487.982 6654,-479.472\"/>\r\n",
       "<polygon fill=\"black\" stroke=\"black\" points=\"6657.5,-479.299 6654,-469.299 6650.5,-479.299 6657.5,-479.299\"/>\r\n",
       "</g>\r\n",
       "<!-- 146 -->\r\n",
       "<g id=\"node147\" class=\"node\"><title>146</title>\r\n",
       "<polygon fill=\"#6ab6ec\" stroke=\"black\" points=\"7156.5,-469 6951.5,-469 6951.5,-401 7156.5,-401 7156.5,-469\"/>\r\n",
       "<text text-anchor=\"middle\" x=\"7054\" y=\"-453.8\" font-family=\"Times New Roman,serif\" font-size=\"14.00\">X[11] &lt;= 7.5</text>\r\n",
       "<text text-anchor=\"middle\" x=\"7054\" y=\"-438.8\" font-family=\"Times New Roman,serif\" font-size=\"14.00\">gini = 0.32</text>\r\n",
       "<text text-anchor=\"middle\" x=\"7054\" y=\"-423.8\" font-family=\"Times New Roman,serif\" font-size=\"14.00\">samples = 5</text>\r\n",
       "<text text-anchor=\"middle\" x=\"7054\" y=\"-408.8\" font-family=\"Times New Roman,serif\" font-size=\"14.00\">value = [0, 0, 0, 0, 0, 4, 0, 0, 1, 0]</text>\r\n",
       "</g>\r\n",
       "<!-- 136&#45;&gt;146 -->\r\n",
       "<g id=\"edge146\" class=\"edge\"><title>136&#45;&gt;146</title>\r\n",
       "<path fill=\"none\" stroke=\"black\" d=\"M6760.04,-508.423C6764.41,-507.256 6768.75,-506.111 6773,-505 6828.36,-490.53 6890.09,-475.276 6941.56,-462.801\"/>\r\n",
       "<polygon fill=\"black\" stroke=\"black\" points=\"6942.48,-466.179 6951.38,-460.424 6940.83,-459.375 6942.48,-466.179\"/>\r\n",
       "</g>\r\n",
       "<!-- 138 -->\r\n",
       "<g id=\"node139\" class=\"node\"><title>138</title>\r\n",
       "<polygon fill=\"#d19cf2\" stroke=\"black\" points=\"6702.5,-365 6497.5,-365 6497.5,-297 6702.5,-297 6702.5,-365\"/>\r\n",
       "<text text-anchor=\"middle\" x=\"6600\" y=\"-349.8\" font-family=\"Times New Roman,serif\" font-size=\"14.00\">X[51] &lt;= 5.5</text>\r\n",
       "<text text-anchor=\"middle\" x=\"6600\" y=\"-334.8\" font-family=\"Times New Roman,serif\" font-size=\"14.00\">gini = 0.56</text>\r\n",
       "<text text-anchor=\"middle\" x=\"6600\" y=\"-319.8\" font-family=\"Times New Roman,serif\" font-size=\"14.00\">samples = 5</text>\r\n",
       "<text text-anchor=\"middle\" x=\"6600\" y=\"-304.8\" font-family=\"Times New Roman,serif\" font-size=\"14.00\">value = [0, 0, 0, 1, 0, 0, 0, 3, 1, 0]</text>\r\n",
       "</g>\r\n",
       "<!-- 137&#45;&gt;138 -->\r\n",
       "<g id=\"edge138\" class=\"edge\"><title>137&#45;&gt;138</title>\r\n",
       "<path fill=\"none\" stroke=\"black\" d=\"M6636.47,-400.884C6631.99,-392.422 6627.11,-383.207 6622.42,-374.352\"/>\r\n",
       "<polygon fill=\"black\" stroke=\"black\" points=\"6625.4,-372.5 6617.63,-365.299 6619.21,-375.775 6625.4,-372.5\"/>\r\n",
       "</g>\r\n",
       "<!-- 143 -->\r\n",
       "<g id=\"node144\" class=\"node\"><title>143</title>\r\n",
       "<polygon fill=\"#ec6a82\" stroke=\"black\" points=\"6933,-365 6721,-365 6721,-297 6933,-297 6933,-365\"/>\r\n",
       "<text text-anchor=\"middle\" x=\"6827\" y=\"-349.8\" font-family=\"Times New Roman,serif\" font-size=\"14.00\">X[10] &lt;= 0.5</text>\r\n",
       "<text text-anchor=\"middle\" x=\"6827\" y=\"-334.8\" font-family=\"Times New Roman,serif\" font-size=\"14.00\">gini = 0.32</text>\r\n",
       "<text text-anchor=\"middle\" x=\"6827\" y=\"-319.8\" font-family=\"Times New Roman,serif\" font-size=\"14.00\">samples = 15</text>\r\n",
       "<text text-anchor=\"middle\" x=\"6827\" y=\"-304.8\" font-family=\"Times New Roman,serif\" font-size=\"14.00\">value = [0, 3, 0, 0, 0, 0, 0, 0, 0, 12]</text>\r\n",
       "</g>\r\n",
       "<!-- 137&#45;&gt;143 -->\r\n",
       "<g id=\"edge143\" class=\"edge\"><title>137&#45;&gt;143</title>\r\n",
       "<path fill=\"none\" stroke=\"black\" d=\"M6710.17,-400.884C6726.72,-391.125 6744.97,-380.366 6762.02,-370.31\"/>\r\n",
       "<polygon fill=\"black\" stroke=\"black\" points=\"6763.98,-373.219 6770.82,-365.125 6760.43,-367.189 6763.98,-373.219\"/>\r\n",
       "</g>\r\n",
       "<!-- 139 -->\r\n",
       "<g id=\"node140\" class=\"node\"><title>139</title>\r\n",
       "<polygon fill=\"#ffffff\" stroke=\"black\" points=\"6480.5,-261 6275.5,-261 6275.5,-193 6480.5,-193 6480.5,-261\"/>\r\n",
       "<text text-anchor=\"middle\" x=\"6378\" y=\"-245.8\" font-family=\"Times New Roman,serif\" font-size=\"14.00\">X[25] &lt;= 0.5</text>\r\n",
       "<text text-anchor=\"middle\" x=\"6378\" y=\"-230.8\" font-family=\"Times New Roman,serif\" font-size=\"14.00\">gini = 0.5</text>\r\n",
       "<text text-anchor=\"middle\" x=\"6378\" y=\"-215.8\" font-family=\"Times New Roman,serif\" font-size=\"14.00\">samples = 2</text>\r\n",
       "<text text-anchor=\"middle\" x=\"6378\" y=\"-200.8\" font-family=\"Times New Roman,serif\" font-size=\"14.00\">value = [0, 0, 0, 1, 0, 0, 0, 0, 1, 0]</text>\r\n",
       "</g>\r\n",
       "<!-- 138&#45;&gt;139 -->\r\n",
       "<g id=\"edge139\" class=\"edge\"><title>138&#45;&gt;139</title>\r\n",
       "<path fill=\"none\" stroke=\"black\" d=\"M6527.92,-296.884C6506,-286.812 6481.76,-275.674 6459.28,-265.344\"/>\r\n",
       "<polygon fill=\"black\" stroke=\"black\" points=\"6460.64,-262.119 6450.1,-261.125 6457.72,-268.48 6460.64,-262.119\"/>\r\n",
       "</g>\r\n",
       "<!-- 142 -->\r\n",
       "<g id=\"node143\" class=\"node\"><title>142</title>\r\n",
       "<polygon fill=\"#a339e5\" stroke=\"black\" points=\"6703.5,-253.5 6498.5,-253.5 6498.5,-200.5 6703.5,-200.5 6703.5,-253.5\"/>\r\n",
       "<text text-anchor=\"middle\" x=\"6601\" y=\"-238.3\" font-family=\"Times New Roman,serif\" font-size=\"14.00\">gini = 0.0</text>\r\n",
       "<text text-anchor=\"middle\" x=\"6601\" y=\"-223.3\" font-family=\"Times New Roman,serif\" font-size=\"14.00\">samples = 3</text>\r\n",
       "<text text-anchor=\"middle\" x=\"6601\" y=\"-208.3\" font-family=\"Times New Roman,serif\" font-size=\"14.00\">value = [0, 0, 0, 0, 0, 0, 0, 3, 0, 0]</text>\r\n",
       "</g>\r\n",
       "<!-- 138&#45;&gt;142 -->\r\n",
       "<g id=\"edge142\" class=\"edge\"><title>138&#45;&gt;142</title>\r\n",
       "<path fill=\"none\" stroke=\"black\" d=\"M6600.32,-296.884C6600.43,-286.326 6600.54,-274.597 6600.65,-263.854\"/>\r\n",
       "<polygon fill=\"black\" stroke=\"black\" points=\"6604.15,-263.554 6600.75,-253.52 6597.15,-263.485 6604.15,-263.554\"/>\r\n",
       "</g>\r\n",
       "<!-- 140 -->\r\n",
       "<g id=\"node141\" class=\"node\"><title>140</title>\r\n",
       "<polygon fill=\"#e539c0\" stroke=\"black\" points=\"6369.5,-149.5 6164.5,-149.5 6164.5,-96.5 6369.5,-96.5 6369.5,-149.5\"/>\r\n",
       "<text text-anchor=\"middle\" x=\"6267\" y=\"-134.3\" font-family=\"Times New Roman,serif\" font-size=\"14.00\">gini = 0.0</text>\r\n",
       "<text text-anchor=\"middle\" x=\"6267\" y=\"-119.3\" font-family=\"Times New Roman,serif\" font-size=\"14.00\">samples = 1</text>\r\n",
       "<text text-anchor=\"middle\" x=\"6267\" y=\"-104.3\" font-family=\"Times New Roman,serif\" font-size=\"14.00\">value = [0, 0, 0, 0, 0, 0, 0, 0, 1, 0]</text>\r\n",
       "</g>\r\n",
       "<!-- 139&#45;&gt;140 -->\r\n",
       "<g id=\"edge140\" class=\"edge\"><title>139&#45;&gt;140</title>\r\n",
       "<path fill=\"none\" stroke=\"black\" d=\"M6341.96,-192.884C6329.28,-181.226 6315.04,-168.141 6302.4,-156.532\"/>\r\n",
       "<polygon fill=\"black\" stroke=\"black\" points=\"6304.5,-153.709 6294.77,-149.52 6299.77,-158.863 6304.5,-153.709\"/>\r\n",
       "</g>\r\n",
       "<!-- 141 -->\r\n",
       "<g id=\"node142\" class=\"node\"><title>141</title>\r\n",
       "<polygon fill=\"#39e55e\" stroke=\"black\" points=\"6592.5,-149.5 6387.5,-149.5 6387.5,-96.5 6592.5,-96.5 6592.5,-149.5\"/>\r\n",
       "<text text-anchor=\"middle\" x=\"6490\" y=\"-134.3\" font-family=\"Times New Roman,serif\" font-size=\"14.00\">gini = 0.0</text>\r\n",
       "<text text-anchor=\"middle\" x=\"6490\" y=\"-119.3\" font-family=\"Times New Roman,serif\" font-size=\"14.00\">samples = 1</text>\r\n",
       "<text text-anchor=\"middle\" x=\"6490\" y=\"-104.3\" font-family=\"Times New Roman,serif\" font-size=\"14.00\">value = [0, 0, 0, 1, 0, 0, 0, 0, 0, 0]</text>\r\n",
       "</g>\r\n",
       "<!-- 139&#45;&gt;141 -->\r\n",
       "<g id=\"edge141\" class=\"edge\"><title>139&#45;&gt;141</title>\r\n",
       "<path fill=\"none\" stroke=\"black\" d=\"M6414.36,-192.884C6427.16,-181.226 6441.53,-168.141 6454.28,-156.532\"/>\r\n",
       "<polygon fill=\"black\" stroke=\"black\" points=\"6456.94,-158.841 6461.98,-149.52 6452.23,-153.666 6456.94,-158.841\"/>\r\n",
       "</g>\r\n",
       "<!-- 144 -->\r\n",
       "<g id=\"node145\" class=\"node\"><title>144</title>\r\n",
       "<polygon fill=\"#e2e539\" stroke=\"black\" points=\"6928.5,-253.5 6723.5,-253.5 6723.5,-200.5 6928.5,-200.5 6928.5,-253.5\"/>\r\n",
       "<text text-anchor=\"middle\" x=\"6826\" y=\"-238.3\" font-family=\"Times New Roman,serif\" font-size=\"14.00\">gini = 0.0</text>\r\n",
       "<text text-anchor=\"middle\" x=\"6826\" y=\"-223.3\" font-family=\"Times New Roman,serif\" font-size=\"14.00\">samples = 3</text>\r\n",
       "<text text-anchor=\"middle\" x=\"6826\" y=\"-208.3\" font-family=\"Times New Roman,serif\" font-size=\"14.00\">value = [0, 3, 0, 0, 0, 0, 0, 0, 0, 0]</text>\r\n",
       "</g>\r\n",
       "<!-- 143&#45;&gt;144 -->\r\n",
       "<g id=\"edge144\" class=\"edge\"><title>143&#45;&gt;144</title>\r\n",
       "<path fill=\"none\" stroke=\"black\" d=\"M6826.68,-296.884C6826.57,-286.326 6826.46,-274.597 6826.35,-263.854\"/>\r\n",
       "<polygon fill=\"black\" stroke=\"black\" points=\"6829.85,-263.485 6826.25,-253.52 6822.85,-263.554 6829.85,-263.485\"/>\r\n",
       "</g>\r\n",
       "<!-- 145 -->\r\n",
       "<g id=\"node146\" class=\"node\"><title>145</title>\r\n",
       "<polygon fill=\"#e53958\" stroke=\"black\" points=\"7159,-253.5 6947,-253.5 6947,-200.5 7159,-200.5 7159,-253.5\"/>\r\n",
       "<text text-anchor=\"middle\" x=\"7053\" y=\"-238.3\" font-family=\"Times New Roman,serif\" font-size=\"14.00\">gini = 0.0</text>\r\n",
       "<text text-anchor=\"middle\" x=\"7053\" y=\"-223.3\" font-family=\"Times New Roman,serif\" font-size=\"14.00\">samples = 12</text>\r\n",
       "<text text-anchor=\"middle\" x=\"7053\" y=\"-208.3\" font-family=\"Times New Roman,serif\" font-size=\"14.00\">value = [0, 0, 0, 0, 0, 0, 0, 0, 0, 12]</text>\r\n",
       "</g>\r\n",
       "<!-- 143&#45;&gt;145 -->\r\n",
       "<g id=\"edge145\" class=\"edge\"><title>143&#45;&gt;145</title>\r\n",
       "<path fill=\"none\" stroke=\"black\" d=\"M6900.38,-296.884C6928.28,-284.291 6959.87,-270.033 6987.04,-257.769\"/>\r\n",
       "<polygon fill=\"black\" stroke=\"black\" points=\"6988.78,-260.824 6996.46,-253.52 6985.9,-254.444 6988.78,-260.824\"/>\r\n",
       "</g>\r\n",
       "<!-- 147 -->\r\n",
       "<g id=\"node148\" class=\"node\"><title>147</title>\r\n",
       "<polygon fill=\"#e539c0\" stroke=\"black\" points=\"7156.5,-357.5 6951.5,-357.5 6951.5,-304.5 7156.5,-304.5 7156.5,-357.5\"/>\r\n",
       "<text text-anchor=\"middle\" x=\"7054\" y=\"-342.3\" font-family=\"Times New Roman,serif\" font-size=\"14.00\">gini = 0.0</text>\r\n",
       "<text text-anchor=\"middle\" x=\"7054\" y=\"-327.3\" font-family=\"Times New Roman,serif\" font-size=\"14.00\">samples = 1</text>\r\n",
       "<text text-anchor=\"middle\" x=\"7054\" y=\"-312.3\" font-family=\"Times New Roman,serif\" font-size=\"14.00\">value = [0, 0, 0, 0, 0, 0, 0, 0, 1, 0]</text>\r\n",
       "</g>\r\n",
       "<!-- 146&#45;&gt;147 -->\r\n",
       "<g id=\"edge147\" class=\"edge\"><title>146&#45;&gt;147</title>\r\n",
       "<path fill=\"none\" stroke=\"black\" d=\"M7054,-400.884C7054,-390.326 7054,-378.597 7054,-367.854\"/>\r\n",
       "<polygon fill=\"black\" stroke=\"black\" points=\"7057.5,-367.52 7054,-357.52 7050.5,-367.52 7057.5,-367.52\"/>\r\n",
       "</g>\r\n",
       "<!-- 148 -->\r\n",
       "<g id=\"node149\" class=\"node\"><title>148</title>\r\n",
       "<polygon fill=\"#399de5\" stroke=\"black\" points=\"7379.5,-357.5 7174.5,-357.5 7174.5,-304.5 7379.5,-304.5 7379.5,-357.5\"/>\r\n",
       "<text text-anchor=\"middle\" x=\"7277\" y=\"-342.3\" font-family=\"Times New Roman,serif\" font-size=\"14.00\">gini = 0.0</text>\r\n",
       "<text text-anchor=\"middle\" x=\"7277\" y=\"-327.3\" font-family=\"Times New Roman,serif\" font-size=\"14.00\">samples = 4</text>\r\n",
       "<text text-anchor=\"middle\" x=\"7277\" y=\"-312.3\" font-family=\"Times New Roman,serif\" font-size=\"14.00\">value = [0, 0, 0, 0, 0, 4, 0, 0, 0, 0]</text>\r\n",
       "</g>\r\n",
       "<!-- 146&#45;&gt;148 -->\r\n",
       "<g id=\"edge148\" class=\"edge\"><title>146&#45;&gt;148</title>\r\n",
       "<path fill=\"none\" stroke=\"black\" d=\"M7126.4,-400.884C7153.93,-388.291 7185.1,-374.033 7211.92,-361.769\"/>\r\n",
       "<polygon fill=\"black\" stroke=\"black\" points=\"7213.57,-364.862 7221.21,-357.52 7210.66,-358.497 7213.57,-364.862\"/>\r\n",
       "</g>\r\n",
       "<!-- 151 -->\r\n",
       "<g id=\"node152\" class=\"node\"><title>151</title>\r\n",
       "<polygon fill=\"#e9eb67\" stroke=\"black\" points=\"7217,-677 7005,-677 7005,-609 7217,-609 7217,-677\"/>\r\n",
       "<text text-anchor=\"middle\" x=\"7111\" y=\"-661.8\" font-family=\"Times New Roman,serif\" font-size=\"14.00\">X[35] &lt;= 7.5</text>\r\n",
       "<text text-anchor=\"middle\" x=\"7111\" y=\"-646.8\" font-family=\"Times New Roman,serif\" font-size=\"14.00\">gini = 0.305</text>\r\n",
       "<text text-anchor=\"middle\" x=\"7111\" y=\"-631.8\" font-family=\"Times New Roman,serif\" font-size=\"14.00\">samples = 16</text>\r\n",
       "<text text-anchor=\"middle\" x=\"7111\" y=\"-616.8\" font-family=\"Times New Roman,serif\" font-size=\"14.00\">value = [0, 13, 0, 0, 0, 0, 0, 0, 0, 3]</text>\r\n",
       "</g>\r\n",
       "<!-- 150&#45;&gt;151 -->\r\n",
       "<g id=\"edge151\" class=\"edge\"><title>150&#45;&gt;151</title>\r\n",
       "<path fill=\"none\" stroke=\"black\" d=\"M7113.03,-712.884C7112.79,-704.778 7112.53,-695.982 7112.28,-687.472\"/>\r\n",
       "<polygon fill=\"black\" stroke=\"black\" points=\"7115.77,-687.192 7111.98,-677.299 7108.77,-687.398 7115.77,-687.192\"/>\r\n",
       "</g>\r\n",
       "<!-- 154 -->\r\n",
       "<g id=\"node155\" class=\"node\"><title>154</title>\r\n",
       "<polygon fill=\"#e63f5d\" stroke=\"black\" points=\"7447,-677 7235,-677 7235,-609 7447,-609 7447,-677\"/>\r\n",
       "<text text-anchor=\"middle\" x=\"7341\" y=\"-661.8\" font-family=\"Times New Roman,serif\" font-size=\"14.00\">X[27] &lt;= 0.5</text>\r\n",
       "<text text-anchor=\"middle\" x=\"7341\" y=\"-646.8\" font-family=\"Times New Roman,serif\" font-size=\"14.00\">gini = 0.056</text>\r\n",
       "<text text-anchor=\"middle\" x=\"7341\" y=\"-631.8\" font-family=\"Times New Roman,serif\" font-size=\"14.00\">samples = 70</text>\r\n",
       "<text text-anchor=\"middle\" x=\"7341\" y=\"-616.8\" font-family=\"Times New Roman,serif\" font-size=\"14.00\">value = [0, 2, 0, 0, 0, 0, 0, 0, 0, 68]</text>\r\n",
       "</g>\r\n",
       "<!-- 150&#45;&gt;154 -->\r\n",
       "<g id=\"edge154\" class=\"edge\"><title>150&#45;&gt;154</title>\r\n",
       "<path fill=\"none\" stroke=\"black\" d=\"M7187.7,-712.884C7210.12,-702.812 7234.9,-691.674 7257.89,-681.344\"/>\r\n",
       "<polygon fill=\"black\" stroke=\"black\" points=\"7259.59,-684.416 7267.28,-677.125 7256.73,-678.031 7259.59,-684.416\"/>\r\n",
       "</g>\r\n",
       "<!-- 152 -->\r\n",
       "<g id=\"node153\" class=\"node\"><title>152</title>\r\n",
       "<polygon fill=\"#e2e539\" stroke=\"black\" points=\"6994,-565.5 6782,-565.5 6782,-512.5 6994,-512.5 6994,-565.5\"/>\r\n",
       "<text text-anchor=\"middle\" x=\"6888\" y=\"-550.3\" font-family=\"Times New Roman,serif\" font-size=\"14.00\">gini = 0.0</text>\r\n",
       "<text text-anchor=\"middle\" x=\"6888\" y=\"-535.3\" font-family=\"Times New Roman,serif\" font-size=\"14.00\">samples = 13</text>\r\n",
       "<text text-anchor=\"middle\" x=\"6888\" y=\"-520.3\" font-family=\"Times New Roman,serif\" font-size=\"14.00\">value = [0, 13, 0, 0, 0, 0, 0, 0, 0, 0]</text>\r\n",
       "</g>\r\n",
       "<!-- 151&#45;&gt;152 -->\r\n",
       "<g id=\"edge152\" class=\"edge\"><title>151&#45;&gt;152</title>\r\n",
       "<path fill=\"none\" stroke=\"black\" d=\"M7038.6,-608.884C7011.07,-596.291 6979.9,-582.033 6953.08,-569.769\"/>\r\n",
       "<polygon fill=\"black\" stroke=\"black\" points=\"6954.34,-566.497 6943.79,-565.52 6951.43,-572.862 6954.34,-566.497\"/>\r\n",
       "</g>\r\n",
       "<!-- 153 -->\r\n",
       "<g id=\"node154\" class=\"node\"><title>153</title>\r\n",
       "<polygon fill=\"#e53958\" stroke=\"black\" points=\"7217.5,-565.5 7012.5,-565.5 7012.5,-512.5 7217.5,-512.5 7217.5,-565.5\"/>\r\n",
       "<text text-anchor=\"middle\" x=\"7115\" y=\"-550.3\" font-family=\"Times New Roman,serif\" font-size=\"14.00\">gini = 0.0</text>\r\n",
       "<text text-anchor=\"middle\" x=\"7115\" y=\"-535.3\" font-family=\"Times New Roman,serif\" font-size=\"14.00\">samples = 3</text>\r\n",
       "<text text-anchor=\"middle\" x=\"7115\" y=\"-520.3\" font-family=\"Times New Roman,serif\" font-size=\"14.00\">value = [0, 0, 0, 0, 0, 0, 0, 0, 0, 3]</text>\r\n",
       "</g>\r\n",
       "<!-- 151&#45;&gt;153 -->\r\n",
       "<g id=\"edge153\" class=\"edge\"><title>151&#45;&gt;153</title>\r\n",
       "<path fill=\"none\" stroke=\"black\" d=\"M7112.3,-608.884C7112.72,-598.216 7113.18,-586.352 7113.61,-575.519\"/>\r\n",
       "<polygon fill=\"black\" stroke=\"black\" points=\"7117.1,-575.649 7114,-565.52 7110.11,-575.375 7117.1,-575.649\"/>\r\n",
       "</g>\r\n",
       "<!-- 155 -->\r\n",
       "<g id=\"node156\" class=\"node\"><title>155</title>\r\n",
       "<polygon fill=\"#e2e539\" stroke=\"black\" points=\"7440.5,-565.5 7235.5,-565.5 7235.5,-512.5 7440.5,-512.5 7440.5,-565.5\"/>\r\n",
       "<text text-anchor=\"middle\" x=\"7338\" y=\"-550.3\" font-family=\"Times New Roman,serif\" font-size=\"14.00\">gini = 0.0</text>\r\n",
       "<text text-anchor=\"middle\" x=\"7338\" y=\"-535.3\" font-family=\"Times New Roman,serif\" font-size=\"14.00\">samples = 1</text>\r\n",
       "<text text-anchor=\"middle\" x=\"7338\" y=\"-520.3\" font-family=\"Times New Roman,serif\" font-size=\"14.00\">value = [0, 1, 0, 0, 0, 0, 0, 0, 0, 0]</text>\r\n",
       "</g>\r\n",
       "<!-- 154&#45;&gt;155 -->\r\n",
       "<g id=\"edge155\" class=\"edge\"><title>154&#45;&gt;155</title>\r\n",
       "<path fill=\"none\" stroke=\"black\" d=\"M7340.03,-608.884C7339.71,-598.216 7339.36,-586.352 7339.04,-575.519\"/>\r\n",
       "<polygon fill=\"black\" stroke=\"black\" points=\"7342.54,-575.413 7338.75,-565.52 7335.55,-575.619 7342.54,-575.413\"/>\r\n",
       "</g>\r\n",
       "<!-- 156 -->\r\n",
       "<g id=\"node157\" class=\"node\"><title>156</title>\r\n",
       "<polygon fill=\"#e53c5a\" stroke=\"black\" points=\"7671,-573 7459,-573 7459,-505 7671,-505 7671,-573\"/>\r\n",
       "<text text-anchor=\"middle\" x=\"7565\" y=\"-557.8\" font-family=\"Times New Roman,serif\" font-size=\"14.00\">X[17] &lt;= 10.5</text>\r\n",
       "<text text-anchor=\"middle\" x=\"7565\" y=\"-542.8\" font-family=\"Times New Roman,serif\" font-size=\"14.00\">gini = 0.029</text>\r\n",
       "<text text-anchor=\"middle\" x=\"7565\" y=\"-527.8\" font-family=\"Times New Roman,serif\" font-size=\"14.00\">samples = 69</text>\r\n",
       "<text text-anchor=\"middle\" x=\"7565\" y=\"-512.8\" font-family=\"Times New Roman,serif\" font-size=\"14.00\">value = [0, 1, 0, 0, 0, 0, 0, 0, 0, 68]</text>\r\n",
       "</g>\r\n",
       "<!-- 154&#45;&gt;156 -->\r\n",
       "<g id=\"edge156\" class=\"edge\"><title>154&#45;&gt;156</title>\r\n",
       "<path fill=\"none\" stroke=\"black\" d=\"M7413.73,-608.884C7435.85,-598.812 7460.3,-587.674 7482.99,-577.344\"/>\r\n",
       "<polygon fill=\"black\" stroke=\"black\" points=\"7484.61,-580.454 7492.26,-573.125 7481.7,-574.084 7484.61,-580.454\"/>\r\n",
       "</g>\r\n",
       "<!-- 157 -->\r\n",
       "<g id=\"node158\" class=\"node\"><title>157</title>\r\n",
       "<polygon fill=\"#e53958\" stroke=\"black\" points=\"7494,-461.5 7282,-461.5 7282,-408.5 7494,-408.5 7494,-461.5\"/>\r\n",
       "<text text-anchor=\"middle\" x=\"7388\" y=\"-446.3\" font-family=\"Times New Roman,serif\" font-size=\"14.00\">gini = 0.0</text>\r\n",
       "<text text-anchor=\"middle\" x=\"7388\" y=\"-431.3\" font-family=\"Times New Roman,serif\" font-size=\"14.00\">samples = 66</text>\r\n",
       "<text text-anchor=\"middle\" x=\"7388\" y=\"-416.3\" font-family=\"Times New Roman,serif\" font-size=\"14.00\">value = [0, 0, 0, 0, 0, 0, 0, 0, 0, 66]</text>\r\n",
       "</g>\r\n",
       "<!-- 156&#45;&gt;157 -->\r\n",
       "<g id=\"edge157\" class=\"edge\"><title>156&#45;&gt;157</title>\r\n",
       "<path fill=\"none\" stroke=\"black\" d=\"M7507.53,-504.884C7486.16,-492.566 7462.02,-478.655 7441.06,-466.575\"/>\r\n",
       "<polygon fill=\"black\" stroke=\"black\" points=\"7442.7,-463.48 7432.28,-461.52 7439.2,-469.545 7442.7,-463.48\"/>\r\n",
       "</g>\r\n",
       "<!-- 158 -->\r\n",
       "<g id=\"node159\" class=\"node\"><title>158</title>\r\n",
       "<polygon fill=\"#f29cac\" stroke=\"black\" points=\"7717.5,-469 7512.5,-469 7512.5,-401 7717.5,-401 7717.5,-469\"/>\r\n",
       "<text text-anchor=\"middle\" x=\"7615\" y=\"-453.8\" font-family=\"Times New Roman,serif\" font-size=\"14.00\">X[27] &lt;= 2.5</text>\r\n",
       "<text text-anchor=\"middle\" x=\"7615\" y=\"-438.8\" font-family=\"Times New Roman,serif\" font-size=\"14.00\">gini = 0.444</text>\r\n",
       "<text text-anchor=\"middle\" x=\"7615\" y=\"-423.8\" font-family=\"Times New Roman,serif\" font-size=\"14.00\">samples = 3</text>\r\n",
       "<text text-anchor=\"middle\" x=\"7615\" y=\"-408.8\" font-family=\"Times New Roman,serif\" font-size=\"14.00\">value = [0, 1, 0, 0, 0, 0, 0, 0, 0, 2]</text>\r\n",
       "</g>\r\n",
       "<!-- 156&#45;&gt;158 -->\r\n",
       "<g id=\"edge158\" class=\"edge\"><title>156&#45;&gt;158</title>\r\n",
       "<path fill=\"none\" stroke=\"black\" d=\"M7581.23,-504.884C7585.38,-496.422 7589.9,-487.207 7594.24,-478.352\"/>\r\n",
       "<polygon fill=\"black\" stroke=\"black\" points=\"7597.42,-479.819 7598.68,-469.299 7591.13,-476.738 7597.42,-479.819\"/>\r\n",
       "</g>\r\n",
       "<!-- 159 -->\r\n",
       "<g id=\"node160\" class=\"node\"><title>159</title>\r\n",
       "<polygon fill=\"#e2e539\" stroke=\"black\" points=\"7602.5,-357.5 7397.5,-357.5 7397.5,-304.5 7602.5,-304.5 7602.5,-357.5\"/>\r\n",
       "<text text-anchor=\"middle\" x=\"7500\" y=\"-342.3\" font-family=\"Times New Roman,serif\" font-size=\"14.00\">gini = 0.0</text>\r\n",
       "<text text-anchor=\"middle\" x=\"7500\" y=\"-327.3\" font-family=\"Times New Roman,serif\" font-size=\"14.00\">samples = 1</text>\r\n",
       "<text text-anchor=\"middle\" x=\"7500\" y=\"-312.3\" font-family=\"Times New Roman,serif\" font-size=\"14.00\">value = [0, 1, 0, 0, 0, 0, 0, 0, 0, 0]</text>\r\n",
       "</g>\r\n",
       "<!-- 158&#45;&gt;159 -->\r\n",
       "<g id=\"edge159\" class=\"edge\"><title>158&#45;&gt;159</title>\r\n",
       "<path fill=\"none\" stroke=\"black\" d=\"M7577.66,-400.884C7564.4,-389.116 7549.49,-375.894 7536.31,-364.203\"/>\r\n",
       "<polygon fill=\"black\" stroke=\"black\" points=\"7538.58,-361.537 7528.77,-357.52 7533.93,-366.774 7538.58,-361.537\"/>\r\n",
       "</g>\r\n",
       "<!-- 160 -->\r\n",
       "<g id=\"node161\" class=\"node\"><title>160</title>\r\n",
       "<polygon fill=\"#e53958\" stroke=\"black\" points=\"7825.5,-357.5 7620.5,-357.5 7620.5,-304.5 7825.5,-304.5 7825.5,-357.5\"/>\r\n",
       "<text text-anchor=\"middle\" x=\"7723\" y=\"-342.3\" font-family=\"Times New Roman,serif\" font-size=\"14.00\">gini = 0.0</text>\r\n",
       "<text text-anchor=\"middle\" x=\"7723\" y=\"-327.3\" font-family=\"Times New Roman,serif\" font-size=\"14.00\">samples = 2</text>\r\n",
       "<text text-anchor=\"middle\" x=\"7723\" y=\"-312.3\" font-family=\"Times New Roman,serif\" font-size=\"14.00\">value = [0, 0, 0, 0, 0, 0, 0, 0, 0, 2]</text>\r\n",
       "</g>\r\n",
       "<!-- 158&#45;&gt;160 -->\r\n",
       "<g id=\"edge160\" class=\"edge\"><title>158&#45;&gt;160</title>\r\n",
       "<path fill=\"none\" stroke=\"black\" d=\"M7650.06,-400.884C7662.41,-389.226 7676.26,-376.141 7688.55,-364.532\"/>\r\n",
       "<polygon fill=\"black\" stroke=\"black\" points=\"7691.11,-366.931 7695.98,-357.52 7686.31,-361.842 7691.11,-366.931\"/>\r\n",
       "</g>\r\n",
       "<!-- 162 -->\r\n",
       "<g id=\"node163\" class=\"node\"><title>162</title>\r\n",
       "<polygon fill=\"#c5f4a8\" stroke=\"black\" points=\"9465.5,-885 9240.5,-885 9240.5,-817 9465.5,-817 9465.5,-885\"/>\r\n",
       "<text text-anchor=\"middle\" x=\"9353\" y=\"-869.8\" font-family=\"Times New Roman,serif\" font-size=\"14.00\">X[38] &lt;= 0.5</text>\r\n",
       "<text text-anchor=\"middle\" x=\"9353\" y=\"-854.8\" font-family=\"Times New Roman,serif\" font-size=\"14.00\">gini = 0.65</text>\r\n",
       "<text text-anchor=\"middle\" x=\"9353\" y=\"-839.8\" font-family=\"Times New Roman,serif\" font-size=\"14.00\">samples = 170</text>\r\n",
       "<text text-anchor=\"middle\" x=\"9353\" y=\"-824.8\" font-family=\"Times New Roman,serif\" font-size=\"14.00\">value = [2, 4, 92, 4, 7, 0, 0, 31, 24, 6]</text>\r\n",
       "</g>\r\n",
       "<!-- 161&#45;&gt;162 -->\r\n",
       "<g id=\"edge162\" class=\"edge\"><title>161&#45;&gt;162</title>\r\n",
       "<path fill=\"none\" stroke=\"black\" d=\"M9353,-920.884C9353,-912.778 9353,-903.982 9353,-895.472\"/>\r\n",
       "<polygon fill=\"black\" stroke=\"black\" points=\"9356.5,-895.299 9353,-885.299 9349.5,-895.299 9356.5,-895.299\"/>\r\n",
       "</g>\r\n",
       "<!-- 211 -->\r\n",
       "<g id=\"node212\" class=\"node\"><title>211</title>\r\n",
       "<polygon fill=\"#fce6f7\" stroke=\"black\" points=\"11089.5,-885 10864.5,-885 10864.5,-817 11089.5,-817 11089.5,-885\"/>\r\n",
       "<text text-anchor=\"middle\" x=\"10977\" y=\"-869.8\" font-family=\"Times New Roman,serif\" font-size=\"14.00\">X[20] &lt;= 15.5</text>\r\n",
       "<text text-anchor=\"middle\" x=\"10977\" y=\"-854.8\" font-family=\"Times New Roman,serif\" font-size=\"14.00\">gini = 0.63</text>\r\n",
       "<text text-anchor=\"middle\" x=\"10977\" y=\"-839.8\" font-family=\"Times New Roman,serif\" font-size=\"14.00\">samples = 194</text>\r\n",
       "<text text-anchor=\"middle\" x=\"10977\" y=\"-824.8\" font-family=\"Times New Roman,serif\" font-size=\"14.00\">value = [0, 75, 5, 11, 4, 0, 1, 2, 90, 6]</text>\r\n",
       "</g>\r\n",
       "<!-- 161&#45;&gt;211 -->\r\n",
       "<g id=\"edge211\" class=\"edge\"><title>161&#45;&gt;211</title>\r\n",
       "<path fill=\"none\" stroke=\"black\" d=\"M9482.81,-945.847C9789.37,-926.593 10554.9,-878.514 10854.2,-859.71\"/>\r\n",
       "<polygon fill=\"black\" stroke=\"black\" points=\"10854.5,-863.201 10864.3,-859.081 10854.1,-856.215 10854.5,-863.201\"/>\r\n",
       "</g>\r\n",
       "<!-- 163 -->\r\n",
       "<g id=\"node164\" class=\"node\"><title>163</title>\r\n",
       "<polygon fill=\"#a5ed78\" stroke=\"black\" points=\"9232,-781 9014,-781 9014,-713 9232,-713 9232,-781\"/>\r\n",
       "<text text-anchor=\"middle\" x=\"9123\" y=\"-765.8\" font-family=\"Times New Roman,serif\" font-size=\"14.00\">X[26] &lt;= 9.0</text>\r\n",
       "<text text-anchor=\"middle\" x=\"9123\" y=\"-750.8\" font-family=\"Times New Roman,serif\" font-size=\"14.00\">gini = 0.416</text>\r\n",
       "<text text-anchor=\"middle\" x=\"9123\" y=\"-735.8\" font-family=\"Times New Roman,serif\" font-size=\"14.00\">samples = 123</text>\r\n",
       "<text text-anchor=\"middle\" x=\"9123\" y=\"-720.8\" font-family=\"Times New Roman,serif\" font-size=\"14.00\">value = [1, 4, 91, 1, 1, 0, 0, 2, 23, 0]</text>\r\n",
       "</g>\r\n",
       "<!-- 162&#45;&gt;163 -->\r\n",
       "<g id=\"edge163\" class=\"edge\"><title>162&#45;&gt;163</title>\r\n",
       "<path fill=\"none\" stroke=\"black\" d=\"M9278.33,-816.884C9255.51,-806.767 9230.28,-795.575 9206.9,-785.206\"/>\r\n",
       "<polygon fill=\"black\" stroke=\"black\" points=\"9208.25,-781.979 9197.69,-781.125 9205.42,-788.378 9208.25,-781.979\"/>\r\n",
       "</g>\r\n",
       "<!-- 194 -->\r\n",
       "<g id=\"node195\" class=\"node\"><title>194</title>\r\n",
       "<polygon fill=\"#cb90f0\" stroke=\"black\" points=\"9686,-781 9474,-781 9474,-713 9686,-713 9686,-781\"/>\r\n",
       "<text text-anchor=\"middle\" x=\"9580\" y=\"-765.8\" font-family=\"Times New Roman,serif\" font-size=\"14.00\">X[60] &lt;= 10.0</text>\r\n",
       "<text text-anchor=\"middle\" x=\"9580\" y=\"-750.8\" font-family=\"Times New Roman,serif\" font-size=\"14.00\">gini = 0.581</text>\r\n",
       "<text text-anchor=\"middle\" x=\"9580\" y=\"-735.8\" font-family=\"Times New Roman,serif\" font-size=\"14.00\">samples = 47</text>\r\n",
       "<text text-anchor=\"middle\" x=\"9580\" y=\"-720.8\" font-family=\"Times New Roman,serif\" font-size=\"14.00\">value = [1, 0, 1, 3, 6, 0, 0, 29, 1, 6]</text>\r\n",
       "</g>\r\n",
       "<!-- 162&#45;&gt;194 -->\r\n",
       "<g id=\"edge194\" class=\"edge\"><title>162&#45;&gt;194</title>\r\n",
       "<path fill=\"none\" stroke=\"black\" d=\"M9426.7,-816.884C9449.12,-806.812 9473.9,-795.674 9496.89,-785.344\"/>\r\n",
       "<polygon fill=\"black\" stroke=\"black\" points=\"9498.59,-788.416 9506.28,-781.125 9495.73,-782.031 9498.59,-788.416\"/>\r\n",
       "</g>\r\n",
       "<!-- 164 -->\r\n",
       "<g id=\"node165\" class=\"node\"><title>164</title>\r\n",
       "<polygon fill=\"#85e748\" stroke=\"black\" points=\"8783,-677 8571,-677 8571,-609 8783,-609 8783,-677\"/>\r\n",
       "<text text-anchor=\"middle\" x=\"8677\" y=\"-661.8\" font-family=\"Times New Roman,serif\" font-size=\"14.00\">X[19] &lt;= 13.5</text>\r\n",
       "<text text-anchor=\"middle\" x=\"8677\" y=\"-646.8\" font-family=\"Times New Roman,serif\" font-size=\"14.00\">gini = 0.138</text>\r\n",
       "<text text-anchor=\"middle\" x=\"8677\" y=\"-631.8\" font-family=\"Times New Roman,serif\" font-size=\"14.00\">samples = 96</text>\r\n",
       "<text text-anchor=\"middle\" x=\"8677\" y=\"-616.8\" font-family=\"Times New Roman,serif\" font-size=\"14.00\">value = [0, 3, 89, 1, 0, 0, 0, 0, 3, 0]</text>\r\n",
       "</g>\r\n",
       "<!-- 163&#45;&gt;164 -->\r\n",
       "<g id=\"edge164\" class=\"edge\"><title>163&#45;&gt;164</title>\r\n",
       "<path fill=\"none\" stroke=\"black\" d=\"M9013.9,-721.048C8946.92,-705.73 8861.2,-686.126 8792.99,-670.526\"/>\r\n",
       "<polygon fill=\"black\" stroke=\"black\" points=\"8793.58,-667.072 8783.05,-668.255 8792.02,-673.896 8793.58,-667.072\"/>\r\n",
       "</g>\r\n",
       "<!-- 181 -->\r\n",
       "<g id=\"node182\" class=\"node\"><title>181</title>\r\n",
       "<polygon fill=\"#ec70d2\" stroke=\"black\" points=\"9229,-677 9017,-677 9017,-609 9229,-609 9229,-677\"/>\r\n",
       "<text text-anchor=\"middle\" x=\"9123\" y=\"-661.8\" font-family=\"Times New Roman,serif\" font-size=\"14.00\">X[35] &lt;= 12.0</text>\r\n",
       "<text text-anchor=\"middle\" x=\"9123\" y=\"-646.8\" font-family=\"Times New Roman,serif\" font-size=\"14.00\">gini = 0.436</text>\r\n",
       "<text text-anchor=\"middle\" x=\"9123\" y=\"-631.8\" font-family=\"Times New Roman,serif\" font-size=\"14.00\">samples = 27</text>\r\n",
       "<text text-anchor=\"middle\" x=\"9123\" y=\"-616.8\" font-family=\"Times New Roman,serif\" font-size=\"14.00\">value = [1, 1, 2, 0, 1, 0, 0, 2, 20, 0]</text>\r\n",
       "</g>\r\n",
       "<!-- 163&#45;&gt;181 -->\r\n",
       "<g id=\"edge181\" class=\"edge\"><title>163&#45;&gt;181</title>\r\n",
       "<path fill=\"none\" stroke=\"black\" d=\"M9123,-712.884C9123,-704.778 9123,-695.982 9123,-687.472\"/>\r\n",
       "<polygon fill=\"black\" stroke=\"black\" points=\"9126.5,-687.299 9123,-677.299 9119.5,-687.299 9126.5,-687.299\"/>\r\n",
       "</g>\r\n",
       "<!-- 165 -->\r\n",
       "<g id=\"node166\" class=\"node\"><title>165</title>\r\n",
       "<polygon fill=\"#81e642\" stroke=\"black\" points=\"8450,-573 8238,-573 8238,-505 8450,-505 8450,-573\"/>\r\n",
       "<text text-anchor=\"middle\" x=\"8344\" y=\"-557.8\" font-family=\"Times New Roman,serif\" font-size=\"14.00\">X[34] &lt;= 11.0</text>\r\n",
       "<text text-anchor=\"middle\" x=\"8344\" y=\"-542.8\" font-family=\"Times New Roman,serif\" font-size=\"14.00\">gini = 0.083</text>\r\n",
       "<text text-anchor=\"middle\" x=\"8344\" y=\"-527.8\" font-family=\"Times New Roman,serif\" font-size=\"14.00\">samples = 93</text>\r\n",
       "<text text-anchor=\"middle\" x=\"8344\" y=\"-512.8\" font-family=\"Times New Roman,serif\" font-size=\"14.00\">value = [0, 1, 89, 1, 0, 0, 0, 0, 2, 0]</text>\r\n",
       "</g>\r\n",
       "<!-- 164&#45;&gt;165 -->\r\n",
       "<g id=\"edge165\" class=\"edge\"><title>164&#45;&gt;165</title>\r\n",
       "<path fill=\"none\" stroke=\"black\" d=\"M8570.72,-609.446C8535.34,-598.608 8495.76,-586.486 8459.7,-575.441\"/>\r\n",
       "<polygon fill=\"black\" stroke=\"black\" points=\"8460.71,-572.089 8450.13,-572.507 8458.66,-578.782 8460.71,-572.089\"/>\r\n",
       "</g>\r\n",
       "<!-- 178 -->\r\n",
       "<g id=\"node179\" class=\"node\"><title>178</title>\r\n",
       "<polygon fill=\"#f0f29c\" stroke=\"black\" points=\"8779.5,-573 8574.5,-573 8574.5,-505 8779.5,-505 8779.5,-573\"/>\r\n",
       "<text text-anchor=\"middle\" x=\"8677\" y=\"-557.8\" font-family=\"Times New Roman,serif\" font-size=\"14.00\">X[42] &lt;= 4.0</text>\r\n",
       "<text text-anchor=\"middle\" x=\"8677\" y=\"-542.8\" font-family=\"Times New Roman,serif\" font-size=\"14.00\">gini = 0.444</text>\r\n",
       "<text text-anchor=\"middle\" x=\"8677\" y=\"-527.8\" font-family=\"Times New Roman,serif\" font-size=\"14.00\">samples = 3</text>\r\n",
       "<text text-anchor=\"middle\" x=\"8677\" y=\"-512.8\" font-family=\"Times New Roman,serif\" font-size=\"14.00\">value = [0, 2, 0, 0, 0, 0, 0, 0, 1, 0]</text>\r\n",
       "</g>\r\n",
       "<!-- 164&#45;&gt;178 -->\r\n",
       "<g id=\"edge178\" class=\"edge\"><title>164&#45;&gt;178</title>\r\n",
       "<path fill=\"none\" stroke=\"black\" d=\"M8677,-608.884C8677,-600.778 8677,-591.982 8677,-583.472\"/>\r\n",
       "<polygon fill=\"black\" stroke=\"black\" points=\"8680.5,-583.299 8677,-573.299 8673.5,-583.299 8680.5,-583.299\"/>\r\n",
       "</g>\r\n",
       "<!-- 166 -->\r\n",
       "<g id=\"node167\" class=\"node\"><title>166</title>\r\n",
       "<polygon fill=\"#7ee63d\" stroke=\"black\" points=\"8223,-469 8011,-469 8011,-401 8223,-401 8223,-469\"/>\r\n",
       "<text text-anchor=\"middle\" x=\"8117\" y=\"-453.8\" font-family=\"Times New Roman,serif\" font-size=\"14.00\">X[61] &lt;= 0.5</text>\r\n",
       "<text text-anchor=\"middle\" x=\"8117\" y=\"-438.8\" font-family=\"Times New Roman,serif\" font-size=\"14.00\">gini = 0.043</text>\r\n",
       "<text text-anchor=\"middle\" x=\"8117\" y=\"-423.8\" font-family=\"Times New Roman,serif\" font-size=\"14.00\">samples = 91</text>\r\n",
       "<text text-anchor=\"middle\" x=\"8117\" y=\"-408.8\" font-family=\"Times New Roman,serif\" font-size=\"14.00\">value = [0, 0, 89, 1, 0, 0, 0, 0, 1, 0]</text>\r\n",
       "</g>\r\n",
       "<!-- 165&#45;&gt;166 -->\r\n",
       "<g id=\"edge166\" class=\"edge\"><title>165&#45;&gt;166</title>\r\n",
       "<path fill=\"none\" stroke=\"black\" d=\"M8270.3,-504.884C8247.88,-494.812 8223.1,-483.674 8200.11,-473.344\"/>\r\n",
       "<polygon fill=\"black\" stroke=\"black\" points=\"8201.27,-470.031 8190.72,-469.125 8198.41,-476.416 8201.27,-470.031\"/>\r\n",
       "</g>\r\n",
       "<!-- 175 -->\r\n",
       "<g id=\"node176\" class=\"node\"><title>175</title>\r\n",
       "<polygon fill=\"#ffffff\" stroke=\"black\" points=\"8446.5,-469 8241.5,-469 8241.5,-401 8446.5,-401 8446.5,-469\"/>\r\n",
       "<text text-anchor=\"middle\" x=\"8344\" y=\"-453.8\" font-family=\"Times New Roman,serif\" font-size=\"14.00\">X[45] &lt;= 6.0</text>\r\n",
       "<text text-anchor=\"middle\" x=\"8344\" y=\"-438.8\" font-family=\"Times New Roman,serif\" font-size=\"14.00\">gini = 0.5</text>\r\n",
       "<text text-anchor=\"middle\" x=\"8344\" y=\"-423.8\" font-family=\"Times New Roman,serif\" font-size=\"14.00\">samples = 2</text>\r\n",
       "<text text-anchor=\"middle\" x=\"8344\" y=\"-408.8\" font-family=\"Times New Roman,serif\" font-size=\"14.00\">value = [0, 1, 0, 0, 0, 0, 0, 0, 1, 0]</text>\r\n",
       "</g>\r\n",
       "<!-- 165&#45;&gt;175 -->\r\n",
       "<g id=\"edge175\" class=\"edge\"><title>165&#45;&gt;175</title>\r\n",
       "<path fill=\"none\" stroke=\"black\" d=\"M8344,-504.884C8344,-496.778 8344,-487.982 8344,-479.472\"/>\r\n",
       "<polygon fill=\"black\" stroke=\"black\" points=\"8347.5,-479.299 8344,-469.299 8340.5,-479.299 8347.5,-479.299\"/>\r\n",
       "</g>\r\n",
       "<!-- 167 -->\r\n",
       "<g id=\"node168\" class=\"node\"><title>167</title>\r\n",
       "<polygon fill=\"#ffffff\" stroke=\"black\" points=\"8048.5,-365 7843.5,-365 7843.5,-297 8048.5,-297 8048.5,-365\"/>\r\n",
       "<text text-anchor=\"middle\" x=\"7946\" y=\"-349.8\" font-family=\"Times New Roman,serif\" font-size=\"14.00\">X[60] &lt;= 10.5</text>\r\n",
       "<text text-anchor=\"middle\" x=\"7946\" y=\"-334.8\" font-family=\"Times New Roman,serif\" font-size=\"14.00\">gini = 0.5</text>\r\n",
       "<text text-anchor=\"middle\" x=\"7946\" y=\"-319.8\" font-family=\"Times New Roman,serif\" font-size=\"14.00\">samples = 2</text>\r\n",
       "<text text-anchor=\"middle\" x=\"7946\" y=\"-304.8\" font-family=\"Times New Roman,serif\" font-size=\"14.00\">value = [0, 0, 1, 1, 0, 0, 0, 0, 0, 0]</text>\r\n",
       "</g>\r\n",
       "<!-- 166&#45;&gt;167 -->\r\n",
       "<g id=\"edge167\" class=\"edge\"><title>166&#45;&gt;167</title>\r\n",
       "<path fill=\"none\" stroke=\"black\" d=\"M8061.48,-400.884C8045.12,-391.125 8027.08,-380.366 8010.23,-370.31\"/>\r\n",
       "<polygon fill=\"black\" stroke=\"black\" points=\"8011.91,-367.242 8001.53,-365.125 8008.33,-373.253 8011.91,-367.242\"/>\r\n",
       "</g>\r\n",
       "<!-- 170 -->\r\n",
       "<g id=\"node171\" class=\"node\"><title>170</title>\r\n",
       "<polygon fill=\"#7ce53b\" stroke=\"black\" points=\"8279,-365 8067,-365 8067,-297 8279,-297 8279,-365\"/>\r\n",
       "<text text-anchor=\"middle\" x=\"8173\" y=\"-349.8\" font-family=\"Times New Roman,serif\" font-size=\"14.00\">X[26] &lt;= 6.5</text>\r\n",
       "<text text-anchor=\"middle\" x=\"8173\" y=\"-334.8\" font-family=\"Times New Roman,serif\" font-size=\"14.00\">gini = 0.022</text>\r\n",
       "<text text-anchor=\"middle\" x=\"8173\" y=\"-319.8\" font-family=\"Times New Roman,serif\" font-size=\"14.00\">samples = 89</text>\r\n",
       "<text text-anchor=\"middle\" x=\"8173\" y=\"-304.8\" font-family=\"Times New Roman,serif\" font-size=\"14.00\">value = [0, 0, 88, 0, 0, 0, 0, 0, 1, 0]</text>\r\n",
       "</g>\r\n",
       "<!-- 166&#45;&gt;170 -->\r\n",
       "<g id=\"edge170\" class=\"edge\"><title>166&#45;&gt;170</title>\r\n",
       "<path fill=\"none\" stroke=\"black\" d=\"M8135.18,-400.884C8139.88,-392.332 8144.99,-383.013 8149.9,-374.072\"/>\r\n",
       "<polygon fill=\"black\" stroke=\"black\" points=\"8152.97,-375.75 8154.72,-365.299 8146.84,-372.381 8152.97,-375.75\"/>\r\n",
       "</g>\r\n",
       "<!-- 168 -->\r\n",
       "<g id=\"node169\" class=\"node\"><title>168</title>\r\n",
       "<polygon fill=\"#7be539\" stroke=\"black\" points=\"7825.5,-253.5 7620.5,-253.5 7620.5,-200.5 7825.5,-200.5 7825.5,-253.5\"/>\r\n",
       "<text text-anchor=\"middle\" x=\"7723\" y=\"-238.3\" font-family=\"Times New Roman,serif\" font-size=\"14.00\">gini = 0.0</text>\r\n",
       "<text text-anchor=\"middle\" x=\"7723\" y=\"-223.3\" font-family=\"Times New Roman,serif\" font-size=\"14.00\">samples = 1</text>\r\n",
       "<text text-anchor=\"middle\" x=\"7723\" y=\"-208.3\" font-family=\"Times New Roman,serif\" font-size=\"14.00\">value = [0, 0, 1, 0, 0, 0, 0, 0, 0, 0]</text>\r\n",
       "</g>\r\n",
       "<!-- 167&#45;&gt;168 -->\r\n",
       "<g id=\"edge168\" class=\"edge\"><title>167&#45;&gt;168</title>\r\n",
       "<path fill=\"none\" stroke=\"black\" d=\"M7873.6,-296.884C7846.07,-284.291 7814.9,-270.033 7788.08,-257.769\"/>\r\n",
       "<polygon fill=\"black\" stroke=\"black\" points=\"7789.34,-254.497 7778.79,-253.52 7786.43,-260.862 7789.34,-254.497\"/>\r\n",
       "</g>\r\n",
       "<!-- 169 -->\r\n",
       "<g id=\"node170\" class=\"node\"><title>169</title>\r\n",
       "<polygon fill=\"#39e55e\" stroke=\"black\" points=\"8048.5,-253.5 7843.5,-253.5 7843.5,-200.5 8048.5,-200.5 8048.5,-253.5\"/>\r\n",
       "<text text-anchor=\"middle\" x=\"7946\" y=\"-238.3\" font-family=\"Times New Roman,serif\" font-size=\"14.00\">gini = 0.0</text>\r\n",
       "<text text-anchor=\"middle\" x=\"7946\" y=\"-223.3\" font-family=\"Times New Roman,serif\" font-size=\"14.00\">samples = 1</text>\r\n",
       "<text text-anchor=\"middle\" x=\"7946\" y=\"-208.3\" font-family=\"Times New Roman,serif\" font-size=\"14.00\">value = [0, 0, 0, 1, 0, 0, 0, 0, 0, 0]</text>\r\n",
       "</g>\r\n",
       "<!-- 167&#45;&gt;169 -->\r\n",
       "<g id=\"edge169\" class=\"edge\"><title>167&#45;&gt;169</title>\r\n",
       "<path fill=\"none\" stroke=\"black\" d=\"M7946,-296.884C7946,-286.326 7946,-274.597 7946,-263.854\"/>\r\n",
       "<polygon fill=\"black\" stroke=\"black\" points=\"7949.5,-263.52 7946,-253.52 7942.5,-263.52 7949.5,-263.52\"/>\r\n",
       "</g>\r\n",
       "<!-- 171 -->\r\n",
       "<g id=\"node172\" class=\"node\"><title>171</title>\r\n",
       "<polygon fill=\"#7be539\" stroke=\"black\" points=\"8279,-253.5 8067,-253.5 8067,-200.5 8279,-200.5 8279,-253.5\"/>\r\n",
       "<text text-anchor=\"middle\" x=\"8173\" y=\"-238.3\" font-family=\"Times New Roman,serif\" font-size=\"14.00\">gini = 0.0</text>\r\n",
       "<text text-anchor=\"middle\" x=\"8173\" y=\"-223.3\" font-family=\"Times New Roman,serif\" font-size=\"14.00\">samples = 86</text>\r\n",
       "<text text-anchor=\"middle\" x=\"8173\" y=\"-208.3\" font-family=\"Times New Roman,serif\" font-size=\"14.00\">value = [0, 0, 86, 0, 0, 0, 0, 0, 0, 0]</text>\r\n",
       "</g>\r\n",
       "<!-- 170&#45;&gt;171 -->\r\n",
       "<g id=\"edge171\" class=\"edge\"><title>170&#45;&gt;171</title>\r\n",
       "<path fill=\"none\" stroke=\"black\" d=\"M8173,-296.884C8173,-286.326 8173,-274.597 8173,-263.854\"/>\r\n",
       "<polygon fill=\"black\" stroke=\"black\" points=\"8176.5,-263.52 8173,-253.52 8169.5,-263.52 8176.5,-263.52\"/>\r\n",
       "</g>\r\n",
       "<!-- 172 -->\r\n",
       "<g id=\"node173\" class=\"node\"><title>172</title>\r\n",
       "<polygon fill=\"#bdf29c\" stroke=\"black\" points=\"8502.5,-261 8297.5,-261 8297.5,-193 8502.5,-193 8502.5,-261\"/>\r\n",
       "<text text-anchor=\"middle\" x=\"8400\" y=\"-245.8\" font-family=\"Times New Roman,serif\" font-size=\"14.00\">X[20] &lt;= 5.5</text>\r\n",
       "<text text-anchor=\"middle\" x=\"8400\" y=\"-230.8\" font-family=\"Times New Roman,serif\" font-size=\"14.00\">gini = 0.444</text>\r\n",
       "<text text-anchor=\"middle\" x=\"8400\" y=\"-215.8\" font-family=\"Times New Roman,serif\" font-size=\"14.00\">samples = 3</text>\r\n",
       "<text text-anchor=\"middle\" x=\"8400\" y=\"-200.8\" font-family=\"Times New Roman,serif\" font-size=\"14.00\">value = [0, 0, 2, 0, 0, 0, 0, 0, 1, 0]</text>\r\n",
       "</g>\r\n",
       "<!-- 170&#45;&gt;172 -->\r\n",
       "<g id=\"edge172\" class=\"edge\"><title>170&#45;&gt;172</title>\r\n",
       "<path fill=\"none\" stroke=\"black\" d=\"M8246.7,-296.884C8269.12,-286.812 8293.9,-275.674 8316.89,-265.344\"/>\r\n",
       "<polygon fill=\"black\" stroke=\"black\" points=\"8318.59,-268.416 8326.28,-261.125 8315.73,-262.031 8318.59,-268.416\"/>\r\n",
       "</g>\r\n",
       "<!-- 173 -->\r\n",
       "<g id=\"node174\" class=\"node\"><title>173</title>\r\n",
       "<polygon fill=\"#e539c0\" stroke=\"black\" points=\"8390.5,-149.5 8185.5,-149.5 8185.5,-96.5 8390.5,-96.5 8390.5,-149.5\"/>\r\n",
       "<text text-anchor=\"middle\" x=\"8288\" y=\"-134.3\" font-family=\"Times New Roman,serif\" font-size=\"14.00\">gini = 0.0</text>\r\n",
       "<text text-anchor=\"middle\" x=\"8288\" y=\"-119.3\" font-family=\"Times New Roman,serif\" font-size=\"14.00\">samples = 1</text>\r\n",
       "<text text-anchor=\"middle\" x=\"8288\" y=\"-104.3\" font-family=\"Times New Roman,serif\" font-size=\"14.00\">value = [0, 0, 0, 0, 0, 0, 0, 0, 1, 0]</text>\r\n",
       "</g>\r\n",
       "<!-- 172&#45;&gt;173 -->\r\n",
       "<g id=\"edge173\" class=\"edge\"><title>172&#45;&gt;173</title>\r\n",
       "<path fill=\"none\" stroke=\"black\" d=\"M8363.64,-192.884C8350.84,-181.226 8336.47,-168.141 8323.72,-156.532\"/>\r\n",
       "<polygon fill=\"black\" stroke=\"black\" points=\"8325.77,-153.666 8316.02,-149.52 8321.06,-158.841 8325.77,-153.666\"/>\r\n",
       "</g>\r\n",
       "<!-- 174 -->\r\n",
       "<g id=\"node175\" class=\"node\"><title>174</title>\r\n",
       "<polygon fill=\"#7be539\" stroke=\"black\" points=\"8613.5,-149.5 8408.5,-149.5 8408.5,-96.5 8613.5,-96.5 8613.5,-149.5\"/>\r\n",
       "<text text-anchor=\"middle\" x=\"8511\" y=\"-134.3\" font-family=\"Times New Roman,serif\" font-size=\"14.00\">gini = 0.0</text>\r\n",
       "<text text-anchor=\"middle\" x=\"8511\" y=\"-119.3\" font-family=\"Times New Roman,serif\" font-size=\"14.00\">samples = 2</text>\r\n",
       "<text text-anchor=\"middle\" x=\"8511\" y=\"-104.3\" font-family=\"Times New Roman,serif\" font-size=\"14.00\">value = [0, 0, 2, 0, 0, 0, 0, 0, 0, 0]</text>\r\n",
       "</g>\r\n",
       "<!-- 172&#45;&gt;174 -->\r\n",
       "<g id=\"edge174\" class=\"edge\"><title>172&#45;&gt;174</title>\r\n",
       "<path fill=\"none\" stroke=\"black\" d=\"M8436.04,-192.884C8448.72,-181.226 8462.96,-168.141 8475.6,-156.532\"/>\r\n",
       "<polygon fill=\"black\" stroke=\"black\" points=\"8478.23,-158.863 8483.23,-149.52 8473.5,-153.709 8478.23,-158.863\"/>\r\n",
       "</g>\r\n",
       "<!-- 176 -->\r\n",
       "<g id=\"node177\" class=\"node\"><title>176</title>\r\n",
       "<polygon fill=\"#e539c0\" stroke=\"black\" points=\"8502.5,-357.5 8297.5,-357.5 8297.5,-304.5 8502.5,-304.5 8502.5,-357.5\"/>\r\n",
       "<text text-anchor=\"middle\" x=\"8400\" y=\"-342.3\" font-family=\"Times New Roman,serif\" font-size=\"14.00\">gini = 0.0</text>\r\n",
       "<text text-anchor=\"middle\" x=\"8400\" y=\"-327.3\" font-family=\"Times New Roman,serif\" font-size=\"14.00\">samples = 1</text>\r\n",
       "<text text-anchor=\"middle\" x=\"8400\" y=\"-312.3\" font-family=\"Times New Roman,serif\" font-size=\"14.00\">value = [0, 0, 0, 0, 0, 0, 0, 0, 1, 0]</text>\r\n",
       "</g>\r\n",
       "<!-- 175&#45;&gt;176 -->\r\n",
       "<g id=\"edge176\" class=\"edge\"><title>175&#45;&gt;176</title>\r\n",
       "<path fill=\"none\" stroke=\"black\" d=\"M8362.18,-400.884C8368.22,-389.886 8374.96,-377.617 8381.05,-366.517\"/>\r\n",
       "<polygon fill=\"black\" stroke=\"black\" points=\"8384.24,-367.97 8385.99,-357.52 8378.11,-364.601 8384.24,-367.97\"/>\r\n",
       "</g>\r\n",
       "<!-- 177 -->\r\n",
       "<g id=\"node178\" class=\"node\"><title>177</title>\r\n",
       "<polygon fill=\"#e2e539\" stroke=\"black\" points=\"8725.5,-357.5 8520.5,-357.5 8520.5,-304.5 8725.5,-304.5 8725.5,-357.5\"/>\r\n",
       "<text text-anchor=\"middle\" x=\"8623\" y=\"-342.3\" font-family=\"Times New Roman,serif\" font-size=\"14.00\">gini = 0.0</text>\r\n",
       "<text text-anchor=\"middle\" x=\"8623\" y=\"-327.3\" font-family=\"Times New Roman,serif\" font-size=\"14.00\">samples = 1</text>\r\n",
       "<text text-anchor=\"middle\" x=\"8623\" y=\"-312.3\" font-family=\"Times New Roman,serif\" font-size=\"14.00\">value = [0, 1, 0, 0, 0, 0, 0, 0, 0, 0]</text>\r\n",
       "</g>\r\n",
       "<!-- 175&#45;&gt;177 -->\r\n",
       "<g id=\"edge177\" class=\"edge\"><title>175&#45;&gt;177</title>\r\n",
       "<path fill=\"none\" stroke=\"black\" d=\"M8434.58,-400.884C8469.78,-388.016 8509.73,-373.409 8543.76,-360.968\"/>\r\n",
       "<polygon fill=\"black\" stroke=\"black\" points=\"8545.01,-364.241 8553.2,-357.52 8542.6,-357.666 8545.01,-364.241\"/>\r\n",
       "</g>\r\n",
       "<!-- 179 -->\r\n",
       "<g id=\"node180\" class=\"node\"><title>179</title>\r\n",
       "<polygon fill=\"#e2e539\" stroke=\"black\" points=\"8669.5,-461.5 8464.5,-461.5 8464.5,-408.5 8669.5,-408.5 8669.5,-461.5\"/>\r\n",
       "<text text-anchor=\"middle\" x=\"8567\" y=\"-446.3\" font-family=\"Times New Roman,serif\" font-size=\"14.00\">gini = 0.0</text>\r\n",
       "<text text-anchor=\"middle\" x=\"8567\" y=\"-431.3\" font-family=\"Times New Roman,serif\" font-size=\"14.00\">samples = 2</text>\r\n",
       "<text text-anchor=\"middle\" x=\"8567\" y=\"-416.3\" font-family=\"Times New Roman,serif\" font-size=\"14.00\">value = [0, 2, 0, 0, 0, 0, 0, 0, 0, 0]</text>\r\n",
       "</g>\r\n",
       "<!-- 178&#45;&gt;179 -->\r\n",
       "<g id=\"edge179\" class=\"edge\"><title>178&#45;&gt;179</title>\r\n",
       "<path fill=\"none\" stroke=\"black\" d=\"M8641.29,-504.884C8628.71,-493.226 8614.6,-480.141 8602.08,-468.532\"/>\r\n",
       "<polygon fill=\"black\" stroke=\"black\" points=\"8604.23,-465.753 8594.52,-461.52 8599.47,-470.886 8604.23,-465.753\"/>\r\n",
       "</g>\r\n",
       "<!-- 180 -->\r\n",
       "<g id=\"node181\" class=\"node\"><title>180</title>\r\n",
       "<polygon fill=\"#e539c0\" stroke=\"black\" points=\"8892.5,-461.5 8687.5,-461.5 8687.5,-408.5 8892.5,-408.5 8892.5,-461.5\"/>\r\n",
       "<text text-anchor=\"middle\" x=\"8790\" y=\"-446.3\" font-family=\"Times New Roman,serif\" font-size=\"14.00\">gini = 0.0</text>\r\n",
       "<text text-anchor=\"middle\" x=\"8790\" y=\"-431.3\" font-family=\"Times New Roman,serif\" font-size=\"14.00\">samples = 1</text>\r\n",
       "<text text-anchor=\"middle\" x=\"8790\" y=\"-416.3\" font-family=\"Times New Roman,serif\" font-size=\"14.00\">value = [0, 0, 0, 0, 0, 0, 0, 0, 1, 0]</text>\r\n",
       "</g>\r\n",
       "<!-- 178&#45;&gt;180 -->\r\n",
       "<g id=\"edge180\" class=\"edge\"><title>178&#45;&gt;180</title>\r\n",
       "<path fill=\"none\" stroke=\"black\" d=\"M8713.69,-504.884C8726.6,-493.226 8741.1,-480.141 8753.96,-468.532\"/>\r\n",
       "<polygon fill=\"black\" stroke=\"black\" points=\"8756.65,-470.819 8761.73,-461.52 8751.96,-465.622 8756.65,-470.819\"/>\r\n",
       "</g>\r\n",
       "<!-- 182 -->\r\n",
       "<g id=\"node183\" class=\"node\"><title>182</title>\r\n",
       "<polygon fill=\"#ffffff\" stroke=\"black\" points=\"9115.5,-573 8910.5,-573 8910.5,-505 9115.5,-505 9115.5,-573\"/>\r\n",
       "<text text-anchor=\"middle\" x=\"9013\" y=\"-557.8\" font-family=\"Times New Roman,serif\" font-size=\"14.00\">X[15] &lt;= 1.5</text>\r\n",
       "<text text-anchor=\"middle\" x=\"9013\" y=\"-542.8\" font-family=\"Times New Roman,serif\" font-size=\"14.00\">gini = 0.776</text>\r\n",
       "<text text-anchor=\"middle\" x=\"9013\" y=\"-527.8\" font-family=\"Times New Roman,serif\" font-size=\"14.00\">samples = 7</text>\r\n",
       "<text text-anchor=\"middle\" x=\"9013\" y=\"-512.8\" font-family=\"Times New Roman,serif\" font-size=\"14.00\">value = [1, 1, 2, 0, 0, 0, 0, 2, 1, 0]</text>\r\n",
       "</g>\r\n",
       "<!-- 181&#45;&gt;182 -->\r\n",
       "<g id=\"edge182\" class=\"edge\"><title>181&#45;&gt;182</title>\r\n",
       "<path fill=\"none\" stroke=\"black\" d=\"M9087.29,-608.884C9077.39,-599.709 9066.54,-589.65 9056.27,-580.123\"/>\r\n",
       "<polygon fill=\"black\" stroke=\"black\" points=\"9058.62,-577.532 9048.91,-573.299 9053.86,-582.665 9058.62,-577.532\"/>\r\n",
       "</g>\r\n",
       "<!-- 191 -->\r\n",
       "<g id=\"node192\" class=\"node\"><title>191</title>\r\n",
       "<polygon fill=\"#e643c3\" stroke=\"black\" points=\"9346,-573 9134,-573 9134,-505 9346,-505 9346,-573\"/>\r\n",
       "<text text-anchor=\"middle\" x=\"9240\" y=\"-557.8\" font-family=\"Times New Roman,serif\" font-size=\"14.00\">X[23] &lt;= 1.0</text>\r\n",
       "<text text-anchor=\"middle\" x=\"9240\" y=\"-542.8\" font-family=\"Times New Roman,serif\" font-size=\"14.00\">gini = 0.095</text>\r\n",
       "<text text-anchor=\"middle\" x=\"9240\" y=\"-527.8\" font-family=\"Times New Roman,serif\" font-size=\"14.00\">samples = 20</text>\r\n",
       "<text text-anchor=\"middle\" x=\"9240\" y=\"-512.8\" font-family=\"Times New Roman,serif\" font-size=\"14.00\">value = [0, 0, 0, 0, 1, 0, 0, 0, 19, 0]</text>\r\n",
       "</g>\r\n",
       "<!-- 181&#45;&gt;191 -->\r\n",
       "<g id=\"edge191\" class=\"edge\"><title>181&#45;&gt;191</title>\r\n",
       "<path fill=\"none\" stroke=\"black\" d=\"M9160.99,-608.884C9171.51,-599.709 9183.05,-589.65 9193.98,-580.123\"/>\r\n",
       "<polygon fill=\"black\" stroke=\"black\" points=\"9196.57,-582.509 9201.8,-573.299 9191.97,-577.233 9196.57,-582.509\"/>\r\n",
       "</g>\r\n",
       "<!-- 183 -->\r\n",
       "<g id=\"node184\" class=\"node\"><title>183</title>\r\n",
       "<polygon fill=\"#def8ce\" stroke=\"black\" points=\"9115.5,-469 8910.5,-469 8910.5,-401 9115.5,-401 9115.5,-469\"/>\r\n",
       "<text text-anchor=\"middle\" x=\"9013\" y=\"-453.8\" font-family=\"Times New Roman,serif\" font-size=\"14.00\">X[17] &lt;= 6.0</text>\r\n",
       "<text text-anchor=\"middle\" x=\"9013\" y=\"-438.8\" font-family=\"Times New Roman,serif\" font-size=\"14.00\">gini = 0.72</text>\r\n",
       "<text text-anchor=\"middle\" x=\"9013\" y=\"-423.8\" font-family=\"Times New Roman,serif\" font-size=\"14.00\">samples = 5</text>\r\n",
       "<text text-anchor=\"middle\" x=\"9013\" y=\"-408.8\" font-family=\"Times New Roman,serif\" font-size=\"14.00\">value = [1, 1, 2, 0, 0, 0, 0, 0, 1, 0]</text>\r\n",
       "</g>\r\n",
       "<!-- 182&#45;&gt;183 -->\r\n",
       "<g id=\"edge183\" class=\"edge\"><title>182&#45;&gt;183</title>\r\n",
       "<path fill=\"none\" stroke=\"black\" d=\"M9013,-504.884C9013,-496.778 9013,-487.982 9013,-479.472\"/>\r\n",
       "<polygon fill=\"black\" stroke=\"black\" points=\"9016.5,-479.299 9013,-469.299 9009.5,-479.299 9016.5,-479.299\"/>\r\n",
       "</g>\r\n",
       "<!-- 190 -->\r\n",
       "<g id=\"node191\" class=\"node\"><title>190</title>\r\n",
       "<polygon fill=\"#a339e5\" stroke=\"black\" points=\"9338.5,-461.5 9133.5,-461.5 9133.5,-408.5 9338.5,-408.5 9338.5,-461.5\"/>\r\n",
       "<text text-anchor=\"middle\" x=\"9236\" y=\"-446.3\" font-family=\"Times New Roman,serif\" font-size=\"14.00\">gini = 0.0</text>\r\n",
       "<text text-anchor=\"middle\" x=\"9236\" y=\"-431.3\" font-family=\"Times New Roman,serif\" font-size=\"14.00\">samples = 2</text>\r\n",
       "<text text-anchor=\"middle\" x=\"9236\" y=\"-416.3\" font-family=\"Times New Roman,serif\" font-size=\"14.00\">value = [0, 0, 0, 0, 0, 0, 0, 2, 0, 0]</text>\r\n",
       "</g>\r\n",
       "<!-- 182&#45;&gt;190 -->\r\n",
       "<g id=\"edge190\" class=\"edge\"><title>182&#45;&gt;190</title>\r\n",
       "<path fill=\"none\" stroke=\"black\" d=\"M9085.4,-504.884C9112.93,-492.291 9144.1,-478.033 9170.92,-465.769\"/>\r\n",
       "<polygon fill=\"black\" stroke=\"black\" points=\"9172.57,-468.862 9180.21,-461.52 9169.66,-462.497 9172.57,-468.862\"/>\r\n",
       "</g>\r\n",
       "<!-- 184 -->\r\n",
       "<g id=\"node185\" class=\"node\"><title>184</title>\r\n",
       "<polygon fill=\"#ffffff\" stroke=\"black\" points=\"9059.5,-365 8854.5,-365 8854.5,-297 9059.5,-297 9059.5,-365\"/>\r\n",
       "<text text-anchor=\"middle\" x=\"8957\" y=\"-349.8\" font-family=\"Times New Roman,serif\" font-size=\"14.00\">X[21] &lt;= 10.0</text>\r\n",
       "<text text-anchor=\"middle\" x=\"8957\" y=\"-334.8\" font-family=\"Times New Roman,serif\" font-size=\"14.00\">gini = 0.667</text>\r\n",
       "<text text-anchor=\"middle\" x=\"8957\" y=\"-319.8\" font-family=\"Times New Roman,serif\" font-size=\"14.00\">samples = 3</text>\r\n",
       "<text text-anchor=\"middle\" x=\"8957\" y=\"-304.8\" font-family=\"Times New Roman,serif\" font-size=\"14.00\">value = [1, 1, 0, 0, 0, 0, 0, 0, 1, 0]</text>\r\n",
       "</g>\r\n",
       "<!-- 183&#45;&gt;184 -->\r\n",
       "<g id=\"edge184\" class=\"edge\"><title>183&#45;&gt;184</title>\r\n",
       "<path fill=\"none\" stroke=\"black\" d=\"M8994.82,-400.884C8990.12,-392.332 8985.01,-383.013 8980.1,-374.072\"/>\r\n",
       "<polygon fill=\"black\" stroke=\"black\" points=\"8983.16,-372.381 8975.28,-365.299 8977.03,-375.75 8983.16,-372.381\"/>\r\n",
       "</g>\r\n",
       "<!-- 189 -->\r\n",
       "<g id=\"node190\" class=\"node\"><title>189</title>\r\n",
       "<polygon fill=\"#7be539\" stroke=\"black\" points=\"9282.5,-357.5 9077.5,-357.5 9077.5,-304.5 9282.5,-304.5 9282.5,-357.5\"/>\r\n",
       "<text text-anchor=\"middle\" x=\"9180\" y=\"-342.3\" font-family=\"Times New Roman,serif\" font-size=\"14.00\">gini = 0.0</text>\r\n",
       "<text text-anchor=\"middle\" x=\"9180\" y=\"-327.3\" font-family=\"Times New Roman,serif\" font-size=\"14.00\">samples = 2</text>\r\n",
       "<text text-anchor=\"middle\" x=\"9180\" y=\"-312.3\" font-family=\"Times New Roman,serif\" font-size=\"14.00\">value = [0, 0, 2, 0, 0, 0, 0, 0, 0, 0]</text>\r\n",
       "</g>\r\n",
       "<!-- 183&#45;&gt;189 -->\r\n",
       "<g id=\"edge189\" class=\"edge\"><title>183&#45;&gt;189</title>\r\n",
       "<path fill=\"none\" stroke=\"black\" d=\"M9067.22,-400.884C9087.3,-388.621 9109.96,-374.779 9129.68,-362.737\"/>\r\n",
       "<polygon fill=\"black\" stroke=\"black\" points=\"9131.51,-365.719 9138.22,-357.52 9127.86,-359.745 9131.51,-365.719\"/>\r\n",
       "</g>\r\n",
       "<!-- 185 -->\r\n",
       "<g id=\"node186\" class=\"node\"><title>185</title>\r\n",
       "<polygon fill=\"#e2e539\" stroke=\"black\" points=\"8947.5,-253.5 8742.5,-253.5 8742.5,-200.5 8947.5,-200.5 8947.5,-253.5\"/>\r\n",
       "<text text-anchor=\"middle\" x=\"8845\" y=\"-238.3\" font-family=\"Times New Roman,serif\" font-size=\"14.00\">gini = 0.0</text>\r\n",
       "<text text-anchor=\"middle\" x=\"8845\" y=\"-223.3\" font-family=\"Times New Roman,serif\" font-size=\"14.00\">samples = 1</text>\r\n",
       "<text text-anchor=\"middle\" x=\"8845\" y=\"-208.3\" font-family=\"Times New Roman,serif\" font-size=\"14.00\">value = [0, 1, 0, 0, 0, 0, 0, 0, 0, 0]</text>\r\n",
       "</g>\r\n",
       "<!-- 184&#45;&gt;185 -->\r\n",
       "<g id=\"edge185\" class=\"edge\"><title>184&#45;&gt;185</title>\r\n",
       "<path fill=\"none\" stroke=\"black\" d=\"M8920.64,-296.884C8907.84,-285.226 8893.47,-272.141 8880.72,-260.532\"/>\r\n",
       "<polygon fill=\"black\" stroke=\"black\" points=\"8882.77,-257.666 8873.02,-253.52 8878.06,-262.841 8882.77,-257.666\"/>\r\n",
       "</g>\r\n",
       "<!-- 186 -->\r\n",
       "<g id=\"node187\" class=\"node\"><title>186</title>\r\n",
       "<polygon fill=\"#ffffff\" stroke=\"black\" points=\"9170.5,-261 8965.5,-261 8965.5,-193 9170.5,-193 9170.5,-261\"/>\r\n",
       "<text text-anchor=\"middle\" x=\"9068\" y=\"-245.8\" font-family=\"Times New Roman,serif\" font-size=\"14.00\">X[44] &lt;= 15.0</text>\r\n",
       "<text text-anchor=\"middle\" x=\"9068\" y=\"-230.8\" font-family=\"Times New Roman,serif\" font-size=\"14.00\">gini = 0.5</text>\r\n",
       "<text text-anchor=\"middle\" x=\"9068\" y=\"-215.8\" font-family=\"Times New Roman,serif\" font-size=\"14.00\">samples = 2</text>\r\n",
       "<text text-anchor=\"middle\" x=\"9068\" y=\"-200.8\" font-family=\"Times New Roman,serif\" font-size=\"14.00\">value = [1, 0, 0, 0, 0, 0, 0, 0, 1, 0]</text>\r\n",
       "</g>\r\n",
       "<!-- 184&#45;&gt;186 -->\r\n",
       "<g id=\"edge186\" class=\"edge\"><title>184&#45;&gt;186</title>\r\n",
       "<path fill=\"none\" stroke=\"black\" d=\"M8993.04,-296.884C9003.02,-287.709 9013.97,-277.65 9024.34,-268.123\"/>\r\n",
       "<polygon fill=\"black\" stroke=\"black\" points=\"9026.77,-270.643 9031.76,-261.299 9022.03,-265.488 9026.77,-270.643\"/>\r\n",
       "</g>\r\n",
       "<!-- 187 -->\r\n",
       "<g id=\"node188\" class=\"node\"><title>187</title>\r\n",
       "<polygon fill=\"#e539c0\" stroke=\"black\" points=\"9059.5,-149.5 8854.5,-149.5 8854.5,-96.5 9059.5,-96.5 9059.5,-149.5\"/>\r\n",
       "<text text-anchor=\"middle\" x=\"8957\" y=\"-134.3\" font-family=\"Times New Roman,serif\" font-size=\"14.00\">gini = 0.0</text>\r\n",
       "<text text-anchor=\"middle\" x=\"8957\" y=\"-119.3\" font-family=\"Times New Roman,serif\" font-size=\"14.00\">samples = 1</text>\r\n",
       "<text text-anchor=\"middle\" x=\"8957\" y=\"-104.3\" font-family=\"Times New Roman,serif\" font-size=\"14.00\">value = [0, 0, 0, 0, 0, 0, 0, 0, 1, 0]</text>\r\n",
       "</g>\r\n",
       "<!-- 186&#45;&gt;187 -->\r\n",
       "<g id=\"edge187\" class=\"edge\"><title>186&#45;&gt;187</title>\r\n",
       "<path fill=\"none\" stroke=\"black\" d=\"M9031.96,-192.884C9019.28,-181.226 9005.04,-168.141 8992.4,-156.532\"/>\r\n",
       "<polygon fill=\"black\" stroke=\"black\" points=\"8994.5,-153.709 8984.77,-149.52 8989.77,-158.863 8994.5,-153.709\"/>\r\n",
       "</g>\r\n",
       "<!-- 188 -->\r\n",
       "<g id=\"node189\" class=\"node\"><title>188</title>\r\n",
       "<polygon fill=\"#e58139\" stroke=\"black\" points=\"9282.5,-149.5 9077.5,-149.5 9077.5,-96.5 9282.5,-96.5 9282.5,-149.5\"/>\r\n",
       "<text text-anchor=\"middle\" x=\"9180\" y=\"-134.3\" font-family=\"Times New Roman,serif\" font-size=\"14.00\">gini = 0.0</text>\r\n",
       "<text text-anchor=\"middle\" x=\"9180\" y=\"-119.3\" font-family=\"Times New Roman,serif\" font-size=\"14.00\">samples = 1</text>\r\n",
       "<text text-anchor=\"middle\" x=\"9180\" y=\"-104.3\" font-family=\"Times New Roman,serif\" font-size=\"14.00\">value = [1, 0, 0, 0, 0, 0, 0, 0, 0, 0]</text>\r\n",
       "</g>\r\n",
       "<!-- 186&#45;&gt;188 -->\r\n",
       "<g id=\"edge188\" class=\"edge\"><title>186&#45;&gt;188</title>\r\n",
       "<path fill=\"none\" stroke=\"black\" d=\"M9104.36,-192.884C9117.16,-181.226 9131.53,-168.141 9144.28,-156.532\"/>\r\n",
       "<polygon fill=\"black\" stroke=\"black\" points=\"9146.94,-158.841 9151.98,-149.52 9142.23,-153.666 9146.94,-158.841\"/>\r\n",
       "</g>\r\n",
       "<!-- 192 -->\r\n",
       "<g id=\"node193\" class=\"node\"><title>192</title>\r\n",
       "<polygon fill=\"#e539c0\" stroke=\"black\" points=\"9569,-461.5 9357,-461.5 9357,-408.5 9569,-408.5 9569,-461.5\"/>\r\n",
       "<text text-anchor=\"middle\" x=\"9463\" y=\"-446.3\" font-family=\"Times New Roman,serif\" font-size=\"14.00\">gini = 0.0</text>\r\n",
       "<text text-anchor=\"middle\" x=\"9463\" y=\"-431.3\" font-family=\"Times New Roman,serif\" font-size=\"14.00\">samples = 19</text>\r\n",
       "<text text-anchor=\"middle\" x=\"9463\" y=\"-416.3\" font-family=\"Times New Roman,serif\" font-size=\"14.00\">value = [0, 0, 0, 0, 0, 0, 0, 0, 19, 0]</text>\r\n",
       "</g>\r\n",
       "<!-- 191&#45;&gt;192 -->\r\n",
       "<g id=\"edge192\" class=\"edge\"><title>191&#45;&gt;192</title>\r\n",
       "<path fill=\"none\" stroke=\"black\" d=\"M9312.4,-504.884C9339.93,-492.291 9371.1,-478.033 9397.92,-465.769\"/>\r\n",
       "<polygon fill=\"black\" stroke=\"black\" points=\"9399.57,-468.862 9407.21,-461.52 9396.66,-462.497 9399.57,-468.862\"/>\r\n",
       "</g>\r\n",
       "<!-- 193 -->\r\n",
       "<g id=\"node194\" class=\"node\"><title>193</title>\r\n",
       "<polygon fill=\"#39e5c5\" stroke=\"black\" points=\"9792.5,-461.5 9587.5,-461.5 9587.5,-408.5 9792.5,-408.5 9792.5,-461.5\"/>\r\n",
       "<text text-anchor=\"middle\" x=\"9690\" y=\"-446.3\" font-family=\"Times New Roman,serif\" font-size=\"14.00\">gini = 0.0</text>\r\n",
       "<text text-anchor=\"middle\" x=\"9690\" y=\"-431.3\" font-family=\"Times New Roman,serif\" font-size=\"14.00\">samples = 1</text>\r\n",
       "<text text-anchor=\"middle\" x=\"9690\" y=\"-416.3\" font-family=\"Times New Roman,serif\" font-size=\"14.00\">value = [0, 0, 0, 0, 1, 0, 0, 0, 0, 0]</text>\r\n",
       "</g>\r\n",
       "<!-- 191&#45;&gt;193 -->\r\n",
       "<g id=\"edge193\" class=\"edge\"><title>191&#45;&gt;193</title>\r\n",
       "<path fill=\"none\" stroke=\"black\" d=\"M9346.09,-507.058C9349.09,-506.345 9352.06,-505.657 9355,-505 9452.98,-483.115 9480.1,-491.232 9578,-469 9584.51,-467.522 9591.19,-465.879 9597.91,-464.137\"/>\r\n",
       "<polygon fill=\"black\" stroke=\"black\" points=\"9598.97,-467.474 9607.74,-461.521 9597.17,-460.709 9598.97,-467.474\"/>\r\n",
       "</g>\r\n",
       "<!-- 195 -->\r\n",
       "<g id=\"node196\" class=\"node\"><title>195</title>\r\n",
       "<polygon fill=\"#a640e6\" stroke=\"black\" points=\"9686,-677 9474,-677 9474,-609 9686,-609 9686,-677\"/>\r\n",
       "<text text-anchor=\"middle\" x=\"9580\" y=\"-661.8\" font-family=\"Times New Roman,serif\" font-size=\"14.00\">X[5] &lt;= 3.0</text>\r\n",
       "<text text-anchor=\"middle\" x=\"9580\" y=\"-646.8\" font-family=\"Times New Roman,serif\" font-size=\"14.00\">gini = 0.067</text>\r\n",
       "<text text-anchor=\"middle\" x=\"9580\" y=\"-631.8\" font-family=\"Times New Roman,serif\" font-size=\"14.00\">samples = 29</text>\r\n",
       "<text text-anchor=\"middle\" x=\"9580\" y=\"-616.8\" font-family=\"Times New Roman,serif\" font-size=\"14.00\">value = [0, 0, 0, 0, 1, 0, 0, 28, 0, 0]</text>\r\n",
       "</g>\r\n",
       "<!-- 194&#45;&gt;195 -->\r\n",
       "<g id=\"edge195\" class=\"edge\"><title>194&#45;&gt;195</title>\r\n",
       "<path fill=\"none\" stroke=\"black\" d=\"M9580,-712.884C9580,-704.778 9580,-695.982 9580,-687.472\"/>\r\n",
       "<polygon fill=\"black\" stroke=\"black\" points=\"9583.5,-687.299 9580,-677.299 9576.5,-687.299 9583.5,-687.299\"/>\r\n",
       "</g>\r\n",
       "<!-- 198 -->\r\n",
       "<g id=\"node199\" class=\"node\"><title>198</title>\r\n",
       "<polygon fill=\"#fdf0f2\" stroke=\"black\" points=\"10023.5,-677 9818.5,-677 9818.5,-609 10023.5,-609 10023.5,-677\"/>\r\n",
       "<text text-anchor=\"middle\" x=\"9921\" y=\"-661.8\" font-family=\"Times New Roman,serif\" font-size=\"14.00\">X[13] &lt;= 8.0</text>\r\n",
       "<text text-anchor=\"middle\" x=\"9921\" y=\"-646.8\" font-family=\"Times New Roman,serif\" font-size=\"14.00\">gini = 0.772</text>\r\n",
       "<text text-anchor=\"middle\" x=\"9921\" y=\"-631.8\" font-family=\"Times New Roman,serif\" font-size=\"14.00\">samples = 18</text>\r\n",
       "<text text-anchor=\"middle\" x=\"9921\" y=\"-616.8\" font-family=\"Times New Roman,serif\" font-size=\"14.00\">value = [1, 0, 1, 3, 5, 0, 0, 1, 1, 6]</text>\r\n",
       "</g>\r\n",
       "<!-- 194&#45;&gt;198 -->\r\n",
       "<g id=\"edge198\" class=\"edge\"><title>194&#45;&gt;198</title>\r\n",
       "<path fill=\"none\" stroke=\"black\" d=\"M9686.03,-714.286C9724.95,-702.643 9769.13,-689.428 9808.59,-677.623\"/>\r\n",
       "<polygon fill=\"black\" stroke=\"black\" points=\"9809.68,-680.953 9818.25,-674.734 9807.67,-674.246 9809.68,-680.953\"/>\r\n",
       "</g>\r\n",
       "<!-- 196 -->\r\n",
       "<g id=\"node197\" class=\"node\"><title>196</title>\r\n",
       "<polygon fill=\"#39e5c5\" stroke=\"black\" points=\"9569.5,-565.5 9364.5,-565.5 9364.5,-512.5 9569.5,-512.5 9569.5,-565.5\"/>\r\n",
       "<text text-anchor=\"middle\" x=\"9467\" y=\"-550.3\" font-family=\"Times New Roman,serif\" font-size=\"14.00\">gini = 0.0</text>\r\n",
       "<text text-anchor=\"middle\" x=\"9467\" y=\"-535.3\" font-family=\"Times New Roman,serif\" font-size=\"14.00\">samples = 1</text>\r\n",
       "<text text-anchor=\"middle\" x=\"9467\" y=\"-520.3\" font-family=\"Times New Roman,serif\" font-size=\"14.00\">value = [0, 0, 0, 0, 1, 0, 0, 0, 0, 0]</text>\r\n",
       "</g>\r\n",
       "<!-- 195&#45;&gt;196 -->\r\n",
       "<g id=\"edge196\" class=\"edge\"><title>195&#45;&gt;196</title>\r\n",
       "<path fill=\"none\" stroke=\"black\" d=\"M9543.31,-608.884C9530.4,-597.226 9515.9,-584.141 9503.04,-572.532\"/>\r\n",
       "<polygon fill=\"black\" stroke=\"black\" points=\"9505.04,-569.622 9495.27,-565.52 9500.35,-574.819 9505.04,-569.622\"/>\r\n",
       "</g>\r\n",
       "<!-- 197 -->\r\n",
       "<g id=\"node198\" class=\"node\"><title>197</title>\r\n",
       "<polygon fill=\"#a339e5\" stroke=\"black\" points=\"9800,-565.5 9588,-565.5 9588,-512.5 9800,-512.5 9800,-565.5\"/>\r\n",
       "<text text-anchor=\"middle\" x=\"9694\" y=\"-550.3\" font-family=\"Times New Roman,serif\" font-size=\"14.00\">gini = 0.0</text>\r\n",
       "<text text-anchor=\"middle\" x=\"9694\" y=\"-535.3\" font-family=\"Times New Roman,serif\" font-size=\"14.00\">samples = 28</text>\r\n",
       "<text text-anchor=\"middle\" x=\"9694\" y=\"-520.3\" font-family=\"Times New Roman,serif\" font-size=\"14.00\">value = [0, 0, 0, 0, 0, 0, 0, 28, 0, 0]</text>\r\n",
       "</g>\r\n",
       "<!-- 195&#45;&gt;197 -->\r\n",
       "<g id=\"edge197\" class=\"edge\"><title>195&#45;&gt;197</title>\r\n",
       "<path fill=\"none\" stroke=\"black\" d=\"M9617.01,-608.884C9630.16,-597.116 9644.94,-583.894 9658.01,-572.203\"/>\r\n",
       "<polygon fill=\"black\" stroke=\"black\" points=\"9660.36,-574.796 9665.48,-565.52 9655.69,-569.58 9660.36,-574.796\"/>\r\n",
       "</g>\r\n",
       "<!-- 199 -->\r\n",
       "<g id=\"node200\" class=\"node\"><title>199</title>\r\n",
       "<polygon fill=\"#39e5c5\" stroke=\"black\" points=\"10023.5,-565.5 9818.5,-565.5 9818.5,-512.5 10023.5,-512.5 10023.5,-565.5\"/>\r\n",
       "<text text-anchor=\"middle\" x=\"9921\" y=\"-550.3\" font-family=\"Times New Roman,serif\" font-size=\"14.00\">gini = 0.0</text>\r\n",
       "<text text-anchor=\"middle\" x=\"9921\" y=\"-535.3\" font-family=\"Times New Roman,serif\" font-size=\"14.00\">samples = 5</text>\r\n",
       "<text text-anchor=\"middle\" x=\"9921\" y=\"-520.3\" font-family=\"Times New Roman,serif\" font-size=\"14.00\">value = [0, 0, 0, 0, 5, 0, 0, 0, 0, 0]</text>\r\n",
       "</g>\r\n",
       "<!-- 198&#45;&gt;199 -->\r\n",
       "<g id=\"edge199\" class=\"edge\"><title>198&#45;&gt;199</title>\r\n",
       "<path fill=\"none\" stroke=\"black\" d=\"M9921,-608.884C9921,-598.326 9921,-586.597 9921,-575.854\"/>\r\n",
       "<polygon fill=\"black\" stroke=\"black\" points=\"9924.5,-575.52 9921,-565.52 9917.5,-575.52 9924.5,-575.52\"/>\r\n",
       "</g>\r\n",
       "<!-- 200 -->\r\n",
       "<g id=\"node201\" class=\"node\"><title>200</title>\r\n",
       "<polygon fill=\"#f7c4cd\" stroke=\"black\" points=\"10246.5,-573 10041.5,-573 10041.5,-505 10246.5,-505 10246.5,-573\"/>\r\n",
       "<text text-anchor=\"middle\" x=\"10144\" y=\"-557.8\" font-family=\"Times New Roman,serif\" font-size=\"14.00\">X[29] &lt;= 13.0</text>\r\n",
       "<text text-anchor=\"middle\" x=\"10144\" y=\"-542.8\" font-family=\"Times New Roman,serif\" font-size=\"14.00\">gini = 0.71</text>\r\n",
       "<text text-anchor=\"middle\" x=\"10144\" y=\"-527.8\" font-family=\"Times New Roman,serif\" font-size=\"14.00\">samples = 13</text>\r\n",
       "<text text-anchor=\"middle\" x=\"10144\" y=\"-512.8\" font-family=\"Times New Roman,serif\" font-size=\"14.00\">value = [1, 0, 1, 3, 0, 0, 0, 1, 1, 6]</text>\r\n",
       "</g>\r\n",
       "<!-- 198&#45;&gt;200 -->\r\n",
       "<g id=\"edge200\" class=\"edge\"><title>198&#45;&gt;200</title>\r\n",
       "<path fill=\"none\" stroke=\"black\" d=\"M9993.4,-608.884C10015.4,-598.812 10039.8,-587.674 10062.4,-577.344\"/>\r\n",
       "<polygon fill=\"black\" stroke=\"black\" points=\"10063.9,-580.467 10071.6,-573.125 10061,-574.101 10063.9,-580.467\"/>\r\n",
       "</g>\r\n",
       "<!-- 201 -->\r\n",
       "<g id=\"node202\" class=\"node\"><title>201</title>\r\n",
       "<polygon fill=\"#39e55e\" stroke=\"black\" points=\"10019.5,-461.5 9814.5,-461.5 9814.5,-408.5 10019.5,-408.5 10019.5,-461.5\"/>\r\n",
       "<text text-anchor=\"middle\" x=\"9917\" y=\"-446.3\" font-family=\"Times New Roman,serif\" font-size=\"14.00\">gini = 0.0</text>\r\n",
       "<text text-anchor=\"middle\" x=\"9917\" y=\"-431.3\" font-family=\"Times New Roman,serif\" font-size=\"14.00\">samples = 3</text>\r\n",
       "<text text-anchor=\"middle\" x=\"9917\" y=\"-416.3\" font-family=\"Times New Roman,serif\" font-size=\"14.00\">value = [0, 0, 0, 3, 0, 0, 0, 0, 0, 0]</text>\r\n",
       "</g>\r\n",
       "<!-- 200&#45;&gt;201 -->\r\n",
       "<g id=\"edge201\" class=\"edge\"><title>200&#45;&gt;201</title>\r\n",
       "<path fill=\"none\" stroke=\"black\" d=\"M10070.3,-504.884C10042.3,-492.291 10010.5,-478.033 9983.25,-465.769\"/>\r\n",
       "<polygon fill=\"black\" stroke=\"black\" points=\"9984.35,-462.426 9973.79,-461.52 9981.48,-468.811 9984.35,-462.426\"/>\r\n",
       "</g>\r\n",
       "<!-- 202 -->\r\n",
       "<g id=\"node203\" class=\"node\"><title>202</title>\r\n",
       "<polygon fill=\"#f191a2\" stroke=\"black\" points=\"10242.5,-469 10037.5,-469 10037.5,-401 10242.5,-401 10242.5,-469\"/>\r\n",
       "<text text-anchor=\"middle\" x=\"10140\" y=\"-453.8\" font-family=\"Times New Roman,serif\" font-size=\"14.00\">X[44] &lt;= 8.5</text>\r\n",
       "<text text-anchor=\"middle\" x=\"10140\" y=\"-438.8\" font-family=\"Times New Roman,serif\" font-size=\"14.00\">gini = 0.6</text>\r\n",
       "<text text-anchor=\"middle\" x=\"10140\" y=\"-423.8\" font-family=\"Times New Roman,serif\" font-size=\"14.00\">samples = 10</text>\r\n",
       "<text text-anchor=\"middle\" x=\"10140\" y=\"-408.8\" font-family=\"Times New Roman,serif\" font-size=\"14.00\">value = [1, 0, 1, 0, 0, 0, 0, 1, 1, 6]</text>\r\n",
       "</g>\r\n",
       "<!-- 200&#45;&gt;202 -->\r\n",
       "<g id=\"edge202\" class=\"edge\"><title>200&#45;&gt;202</title>\r\n",
       "<path fill=\"none\" stroke=\"black\" d=\"M10142.7,-504.884C10142.4,-496.778 10142,-487.982 10141.7,-479.472\"/>\r\n",
       "<polygon fill=\"black\" stroke=\"black\" points=\"10145.2,-479.155 10141.3,-469.299 10138.2,-479.429 10145.2,-479.155\"/>\r\n",
       "</g>\r\n",
       "<!-- 203 -->\r\n",
       "<g id=\"node204\" class=\"node\"><title>203</title>\r\n",
       "<polygon fill=\"#e95a74\" stroke=\"black\" points=\"10019.5,-365 9814.5,-365 9814.5,-297 10019.5,-297 10019.5,-365\"/>\r\n",
       "<text text-anchor=\"middle\" x=\"9917\" y=\"-349.8\" font-family=\"Times New Roman,serif\" font-size=\"14.00\">X[20] &lt;= 1.5</text>\r\n",
       "<text text-anchor=\"middle\" x=\"9917\" y=\"-334.8\" font-family=\"Times New Roman,serif\" font-size=\"14.00\">gini = 0.245</text>\r\n",
       "<text text-anchor=\"middle\" x=\"9917\" y=\"-319.8\" font-family=\"Times New Roman,serif\" font-size=\"14.00\">samples = 7</text>\r\n",
       "<text text-anchor=\"middle\" x=\"9917\" y=\"-304.8\" font-family=\"Times New Roman,serif\" font-size=\"14.00\">value = [0, 0, 0, 0, 0, 0, 0, 0, 1, 6]</text>\r\n",
       "</g>\r\n",
       "<!-- 202&#45;&gt;203 -->\r\n",
       "<g id=\"edge203\" class=\"edge\"><title>202&#45;&gt;203</title>\r\n",
       "<path fill=\"none\" stroke=\"black\" d=\"M10067.6,-400.884C10045.6,-390.812 10021.2,-379.674 9998.64,-369.344\"/>\r\n",
       "<polygon fill=\"black\" stroke=\"black\" points=\"9999.97,-366.101 9989.42,-365.125 9997.06,-372.467 9999.97,-366.101\"/>\r\n",
       "</g>\r\n",
       "<!-- 206 -->\r\n",
       "<g id=\"node207\" class=\"node\"><title>206</title>\r\n",
       "<polygon fill=\"#ffffff\" stroke=\"black\" points=\"10242.5,-365 10037.5,-365 10037.5,-297 10242.5,-297 10242.5,-365\"/>\r\n",
       "<text text-anchor=\"middle\" x=\"10140\" y=\"-349.8\" font-family=\"Times New Roman,serif\" font-size=\"14.00\">X[43] &lt;= 6.5</text>\r\n",
       "<text text-anchor=\"middle\" x=\"10140\" y=\"-334.8\" font-family=\"Times New Roman,serif\" font-size=\"14.00\">gini = 0.667</text>\r\n",
       "<text text-anchor=\"middle\" x=\"10140\" y=\"-319.8\" font-family=\"Times New Roman,serif\" font-size=\"14.00\">samples = 3</text>\r\n",
       "<text text-anchor=\"middle\" x=\"10140\" y=\"-304.8\" font-family=\"Times New Roman,serif\" font-size=\"14.00\">value = [1, 0, 1, 0, 0, 0, 0, 1, 0, 0]</text>\r\n",
       "</g>\r\n",
       "<!-- 202&#45;&gt;206 -->\r\n",
       "<g id=\"edge206\" class=\"edge\"><title>202&#45;&gt;206</title>\r\n",
       "<path fill=\"none\" stroke=\"black\" d=\"M10140,-400.884C10140,-392.778 10140,-383.982 10140,-375.472\"/>\r\n",
       "<polygon fill=\"black\" stroke=\"black\" points=\"10143.5,-375.299 10140,-365.299 10136.5,-375.299 10143.5,-375.299\"/>\r\n",
       "</g>\r\n",
       "<!-- 204 -->\r\n",
       "<g id=\"node205\" class=\"node\"><title>204</title>\r\n",
       "<polygon fill=\"#e539c0\" stroke=\"black\" points=\"9796.5,-253.5 9591.5,-253.5 9591.5,-200.5 9796.5,-200.5 9796.5,-253.5\"/>\r\n",
       "<text text-anchor=\"middle\" x=\"9694\" y=\"-238.3\" font-family=\"Times New Roman,serif\" font-size=\"14.00\">gini = 0.0</text>\r\n",
       "<text text-anchor=\"middle\" x=\"9694\" y=\"-223.3\" font-family=\"Times New Roman,serif\" font-size=\"14.00\">samples = 1</text>\r\n",
       "<text text-anchor=\"middle\" x=\"9694\" y=\"-208.3\" font-family=\"Times New Roman,serif\" font-size=\"14.00\">value = [0, 0, 0, 0, 0, 0, 0, 0, 1, 0]</text>\r\n",
       "</g>\r\n",
       "<!-- 203&#45;&gt;204 -->\r\n",
       "<g id=\"edge204\" class=\"edge\"><title>203&#45;&gt;204</title>\r\n",
       "<path fill=\"none\" stroke=\"black\" d=\"M9844.6,-296.884C9817.07,-284.291 9785.9,-270.033 9759.08,-257.769\"/>\r\n",
       "<polygon fill=\"black\" stroke=\"black\" points=\"9760.34,-254.497 9749.79,-253.52 9757.43,-260.862 9760.34,-254.497\"/>\r\n",
       "</g>\r\n",
       "<!-- 205 -->\r\n",
       "<g id=\"node206\" class=\"node\"><title>205</title>\r\n",
       "<polygon fill=\"#e53958\" stroke=\"black\" points=\"10019.5,-253.5 9814.5,-253.5 9814.5,-200.5 10019.5,-200.5 10019.5,-253.5\"/>\r\n",
       "<text text-anchor=\"middle\" x=\"9917\" y=\"-238.3\" font-family=\"Times New Roman,serif\" font-size=\"14.00\">gini = 0.0</text>\r\n",
       "<text text-anchor=\"middle\" x=\"9917\" y=\"-223.3\" font-family=\"Times New Roman,serif\" font-size=\"14.00\">samples = 6</text>\r\n",
       "<text text-anchor=\"middle\" x=\"9917\" y=\"-208.3\" font-family=\"Times New Roman,serif\" font-size=\"14.00\">value = [0, 0, 0, 0, 0, 0, 0, 0, 0, 6]</text>\r\n",
       "</g>\r\n",
       "<!-- 203&#45;&gt;205 -->\r\n",
       "<g id=\"edge205\" class=\"edge\"><title>203&#45;&gt;205</title>\r\n",
       "<path fill=\"none\" stroke=\"black\" d=\"M9917,-296.884C9917,-286.326 9917,-274.597 9917,-263.854\"/>\r\n",
       "<polygon fill=\"black\" stroke=\"black\" points=\"9920.5,-263.52 9917,-253.52 9913.5,-263.52 9920.5,-263.52\"/>\r\n",
       "</g>\r\n",
       "<!-- 207 -->\r\n",
       "<g id=\"node208\" class=\"node\"><title>207</title>\r\n",
       "<polygon fill=\"#e58139\" stroke=\"black\" points=\"10242.5,-253.5 10037.5,-253.5 10037.5,-200.5 10242.5,-200.5 10242.5,-253.5\"/>\r\n",
       "<text text-anchor=\"middle\" x=\"10140\" y=\"-238.3\" font-family=\"Times New Roman,serif\" font-size=\"14.00\">gini = 0.0</text>\r\n",
       "<text text-anchor=\"middle\" x=\"10140\" y=\"-223.3\" font-family=\"Times New Roman,serif\" font-size=\"14.00\">samples = 1</text>\r\n",
       "<text text-anchor=\"middle\" x=\"10140\" y=\"-208.3\" font-family=\"Times New Roman,serif\" font-size=\"14.00\">value = [1, 0, 0, 0, 0, 0, 0, 0, 0, 0]</text>\r\n",
       "</g>\r\n",
       "<!-- 206&#45;&gt;207 -->\r\n",
       "<g id=\"edge207\" class=\"edge\"><title>206&#45;&gt;207</title>\r\n",
       "<path fill=\"none\" stroke=\"black\" d=\"M10140,-296.884C10140,-286.326 10140,-274.597 10140,-263.854\"/>\r\n",
       "<polygon fill=\"black\" stroke=\"black\" points=\"10143.5,-263.52 10140,-253.52 10136.5,-263.52 10143.5,-263.52\"/>\r\n",
       "</g>\r\n",
       "<!-- 208 -->\r\n",
       "<g id=\"node209\" class=\"node\"><title>208</title>\r\n",
       "<polygon fill=\"#ffffff\" stroke=\"black\" points=\"10465.5,-261 10260.5,-261 10260.5,-193 10465.5,-193 10465.5,-261\"/>\r\n",
       "<text text-anchor=\"middle\" x=\"10363\" y=\"-245.8\" font-family=\"Times New Roman,serif\" font-size=\"14.00\">X[53] &lt;= 8.0</text>\r\n",
       "<text text-anchor=\"middle\" x=\"10363\" y=\"-230.8\" font-family=\"Times New Roman,serif\" font-size=\"14.00\">gini = 0.5</text>\r\n",
       "<text text-anchor=\"middle\" x=\"10363\" y=\"-215.8\" font-family=\"Times New Roman,serif\" font-size=\"14.00\">samples = 2</text>\r\n",
       "<text text-anchor=\"middle\" x=\"10363\" y=\"-200.8\" font-family=\"Times New Roman,serif\" font-size=\"14.00\">value = [0, 0, 1, 0, 0, 0, 0, 1, 0, 0]</text>\r\n",
       "</g>\r\n",
       "<!-- 206&#45;&gt;208 -->\r\n",
       "<g id=\"edge208\" class=\"edge\"><title>206&#45;&gt;208</title>\r\n",
       "<path fill=\"none\" stroke=\"black\" d=\"M10212.4,-296.884C10234.4,-286.812 10258.8,-275.674 10281.4,-265.344\"/>\r\n",
       "<polygon fill=\"black\" stroke=\"black\" points=\"10282.9,-268.467 10290.6,-261.125 10280,-262.101 10282.9,-268.467\"/>\r\n",
       "</g>\r\n",
       "<!-- 209 -->\r\n",
       "<g id=\"node210\" class=\"node\"><title>209</title>\r\n",
       "<polygon fill=\"#a339e5\" stroke=\"black\" points=\"10298.5,-149.5 10093.5,-149.5 10093.5,-96.5 10298.5,-96.5 10298.5,-149.5\"/>\r\n",
       "<text text-anchor=\"middle\" x=\"10196\" y=\"-134.3\" font-family=\"Times New Roman,serif\" font-size=\"14.00\">gini = 0.0</text>\r\n",
       "<text text-anchor=\"middle\" x=\"10196\" y=\"-119.3\" font-family=\"Times New Roman,serif\" font-size=\"14.00\">samples = 1</text>\r\n",
       "<text text-anchor=\"middle\" x=\"10196\" y=\"-104.3\" font-family=\"Times New Roman,serif\" font-size=\"14.00\">value = [0, 0, 0, 0, 0, 0, 0, 1, 0, 0]</text>\r\n",
       "</g>\r\n",
       "<!-- 208&#45;&gt;209 -->\r\n",
       "<g id=\"edge209\" class=\"edge\"><title>208&#45;&gt;209</title>\r\n",
       "<path fill=\"none\" stroke=\"black\" d=\"M10308.8,-192.884C10288.7,-180.621 10266,-166.779 10246.3,-154.737\"/>\r\n",
       "<polygon fill=\"black\" stroke=\"black\" points=\"10248.1,-151.745 10237.8,-149.52 10244.5,-157.719 10248.1,-151.745\"/>\r\n",
       "</g>\r\n",
       "<!-- 210 -->\r\n",
       "<g id=\"node211\" class=\"node\"><title>210</title>\r\n",
       "<polygon fill=\"#7be539\" stroke=\"black\" points=\"10521.5,-149.5 10316.5,-149.5 10316.5,-96.5 10521.5,-96.5 10521.5,-149.5\"/>\r\n",
       "<text text-anchor=\"middle\" x=\"10419\" y=\"-134.3\" font-family=\"Times New Roman,serif\" font-size=\"14.00\">gini = 0.0</text>\r\n",
       "<text text-anchor=\"middle\" x=\"10419\" y=\"-119.3\" font-family=\"Times New Roman,serif\" font-size=\"14.00\">samples = 1</text>\r\n",
       "<text text-anchor=\"middle\" x=\"10419\" y=\"-104.3\" font-family=\"Times New Roman,serif\" font-size=\"14.00\">value = [0, 0, 1, 0, 0, 0, 0, 0, 0, 0]</text>\r\n",
       "</g>\r\n",
       "<!-- 208&#45;&gt;210 -->\r\n",
       "<g id=\"edge210\" class=\"edge\"><title>208&#45;&gt;210</title>\r\n",
       "<path fill=\"none\" stroke=\"black\" d=\"M10381.2,-192.884C10387.2,-181.886 10394,-169.617 10400,-158.517\"/>\r\n",
       "<polygon fill=\"black\" stroke=\"black\" points=\"10403.2,-159.97 10405,-149.52 10397.1,-156.601 10403.2,-159.97\"/>\r\n",
       "</g>\r\n",
       "<!-- 212 -->\r\n",
       "<g id=\"node213\" class=\"node\"><title>212</title>\r\n",
       "<polygon fill=\"#eb65ce\" stroke=\"black\" points=\"11083,-781 10871,-781 10871,-713 11083,-713 11083,-781\"/>\r\n",
       "<text text-anchor=\"middle\" x=\"10977\" y=\"-765.8\" font-family=\"Times New Roman,serif\" font-size=\"14.00\">X[18] &lt;= 2.5</text>\r\n",
       "<text text-anchor=\"middle\" x=\"10977\" y=\"-750.8\" font-family=\"Times New Roman,serif\" font-size=\"14.00\">gini = 0.366</text>\r\n",
       "<text text-anchor=\"middle\" x=\"10977\" y=\"-735.8\" font-family=\"Times New Roman,serif\" font-size=\"14.00\">samples = 105</text>\r\n",
       "<text text-anchor=\"middle\" x=\"10977\" y=\"-720.8\" font-family=\"Times New Roman,serif\" font-size=\"14.00\">value = [0, 4, 1, 6, 2, 0, 1, 2, 83, 6]</text>\r\n",
       "</g>\r\n",
       "<!-- 211&#45;&gt;212 -->\r\n",
       "<g id=\"edge212\" class=\"edge\"><title>211&#45;&gt;212</title>\r\n",
       "<path fill=\"none\" stroke=\"black\" d=\"M10977,-816.884C10977,-808.778 10977,-799.982 10977,-791.472\"/>\r\n",
       "<polygon fill=\"black\" stroke=\"black\" points=\"10980.5,-791.299 10977,-781.299 10973.5,-791.299 10980.5,-791.299\"/>\r\n",
       "</g>\r\n",
       "<!-- 241 -->\r\n",
       "<g id=\"node242\" class=\"node\"><title>241</title>\r\n",
       "<polygon fill=\"#e8eb64\" stroke=\"black\" points=\"12819,-781 12607,-781 12607,-713 12819,-713 12819,-781\"/>\r\n",
       "<text text-anchor=\"middle\" x=\"12713\" y=\"-765.8\" font-family=\"Times New Roman,serif\" font-size=\"14.00\">X[10] &lt;= 13.5</text>\r\n",
       "<text text-anchor=\"middle\" x=\"12713\" y=\"-750.8\" font-family=\"Times New Roman,serif\" font-size=\"14.00\">gini = 0.352</text>\r\n",
       "<text text-anchor=\"middle\" x=\"12713\" y=\"-735.8\" font-family=\"Times New Roman,serif\" font-size=\"14.00\">samples = 89</text>\r\n",
       "<text text-anchor=\"middle\" x=\"12713\" y=\"-720.8\" font-family=\"Times New Roman,serif\" font-size=\"14.00\">value = [0, 71, 4, 5, 2, 0, 0, 0, 7, 0]</text>\r\n",
       "</g>\r\n",
       "<!-- 211&#45;&gt;241 -->\r\n",
       "<g id=\"edge241\" class=\"edge\"><title>211&#45;&gt;241</title>\r\n",
       "<path fill=\"none\" stroke=\"black\" d=\"M11089.6,-843.386C11402.3,-825.011 12279.5,-773.473 12596.7,-754.835\"/>\r\n",
       "<polygon fill=\"black\" stroke=\"black\" points=\"12597,-758.32 12606.8,-754.239 12596.6,-751.332 12597,-758.32\"/>\r\n",
       "</g>\r\n",
       "<!-- 213 -->\r\n",
       "<g id=\"node214\" class=\"node\"><title>213</title>\r\n",
       "<polygon fill=\"#9cf2ae\" stroke=\"black\" points=\"11020.5,-677 10815.5,-677 10815.5,-609 11020.5,-609 11020.5,-677\"/>\r\n",
       "<text text-anchor=\"middle\" x=\"10918\" y=\"-661.8\" font-family=\"Times New Roman,serif\" font-size=\"14.00\">X[4] &lt;= 15.0</text>\r\n",
       "<text text-anchor=\"middle\" x=\"10918\" y=\"-646.8\" font-family=\"Times New Roman,serif\" font-size=\"14.00\">gini = 0.661</text>\r\n",
       "<text text-anchor=\"middle\" x=\"10918\" y=\"-631.8\" font-family=\"Times New Roman,serif\" font-size=\"14.00\">samples = 11</text>\r\n",
       "<text text-anchor=\"middle\" x=\"10918\" y=\"-616.8\" font-family=\"Times New Roman,serif\" font-size=\"14.00\">value = [0, 1, 1, 6, 0, 0, 1, 1, 1, 0]</text>\r\n",
       "</g>\r\n",
       "<!-- 212&#45;&gt;213 -->\r\n",
       "<g id=\"edge213\" class=\"edge\"><title>212&#45;&gt;213</title>\r\n",
       "<path fill=\"none\" stroke=\"black\" d=\"M10957.8,-712.884C10952.9,-704.332 10947.5,-695.013 10942.3,-686.072\"/>\r\n",
       "<polygon fill=\"black\" stroke=\"black\" points=\"10945.3,-684.203 10937.3,-677.299 10939.2,-687.708 10945.3,-684.203\"/>\r\n",
       "</g>\r\n",
       "<!-- 224 -->\r\n",
       "<g id=\"node225\" class=\"node\"><title>224</title>\r\n",
       "<polygon fill=\"#e954c9\" stroke=\"black\" points=\"11306,-677 11094,-677 11094,-609 11306,-609 11306,-677\"/>\r\n",
       "<text text-anchor=\"middle\" x=\"11200\" y=\"-661.8\" font-family=\"Times New Roman,serif\" font-size=\"14.00\">X[50] &lt;= 2.0</text>\r\n",
       "<text text-anchor=\"middle\" x=\"11200\" y=\"-646.8\" font-family=\"Times New Roman,serif\" font-size=\"14.00\">gini = 0.233</text>\r\n",
       "<text text-anchor=\"middle\" x=\"11200\" y=\"-631.8\" font-family=\"Times New Roman,serif\" font-size=\"14.00\">samples = 94</text>\r\n",
       "<text text-anchor=\"middle\" x=\"11200\" y=\"-616.8\" font-family=\"Times New Roman,serif\" font-size=\"14.00\">value = [0, 3, 0, 0, 2, 0, 0, 1, 82, 6]</text>\r\n",
       "</g>\r\n",
       "<!-- 212&#45;&gt;224 -->\r\n",
       "<g id=\"edge224\" class=\"edge\"><title>212&#45;&gt;224</title>\r\n",
       "<path fill=\"none\" stroke=\"black\" d=\"M11049.4,-712.884C11071.4,-702.812 11095.8,-691.674 11118.4,-681.344\"/>\r\n",
       "<polygon fill=\"black\" stroke=\"black\" points=\"11119.9,-684.467 11127.6,-677.125 11117,-678.101 11119.9,-684.467\"/>\r\n",
       "</g>\r\n",
       "<!-- 214 -->\r\n",
       "<g id=\"node215\" class=\"node\"><title>214</title>\r\n",
       "<polygon fill=\"#ffffff\" stroke=\"black\" points=\"10688.5,-573 10483.5,-573 10483.5,-505 10688.5,-505 10688.5,-573\"/>\r\n",
       "<text text-anchor=\"middle\" x=\"10586\" y=\"-557.8\" font-family=\"Times New Roman,serif\" font-size=\"14.00\">X[20] &lt;= 3.0</text>\r\n",
       "<text text-anchor=\"middle\" x=\"10586\" y=\"-542.8\" font-family=\"Times New Roman,serif\" font-size=\"14.00\">gini = 0.8</text>\r\n",
       "<text text-anchor=\"middle\" x=\"10586\" y=\"-527.8\" font-family=\"Times New Roman,serif\" font-size=\"14.00\">samples = 5</text>\r\n",
       "<text text-anchor=\"middle\" x=\"10586\" y=\"-512.8\" font-family=\"Times New Roman,serif\" font-size=\"14.00\">value = [0, 1, 1, 0, 0, 0, 1, 1, 1, 0]</text>\r\n",
       "</g>\r\n",
       "<!-- 213&#45;&gt;214 -->\r\n",
       "<g id=\"edge214\" class=\"edge\"><title>213&#45;&gt;214</title>\r\n",
       "<path fill=\"none\" stroke=\"black\" d=\"M10815.2,-610.425C10778.3,-599.066 10736.4,-586.195 10698.6,-574.592\"/>\r\n",
       "<polygon fill=\"black\" stroke=\"black\" points=\"10699.2,-571.105 10688.6,-571.514 10697.1,-577.796 10699.2,-571.105\"/>\r\n",
       "</g>\r\n",
       "<!-- 223 -->\r\n",
       "<g id=\"node224\" class=\"node\"><title>223</title>\r\n",
       "<polygon fill=\"#39e55e\" stroke=\"black\" points=\"11020.5,-565.5 10815.5,-565.5 10815.5,-512.5 11020.5,-512.5 11020.5,-565.5\"/>\r\n",
       "<text text-anchor=\"middle\" x=\"10918\" y=\"-550.3\" font-family=\"Times New Roman,serif\" font-size=\"14.00\">gini = 0.0</text>\r\n",
       "<text text-anchor=\"middle\" x=\"10918\" y=\"-535.3\" font-family=\"Times New Roman,serif\" font-size=\"14.00\">samples = 6</text>\r\n",
       "<text text-anchor=\"middle\" x=\"10918\" y=\"-520.3\" font-family=\"Times New Roman,serif\" font-size=\"14.00\">value = [0, 0, 0, 6, 0, 0, 0, 0, 0, 0]</text>\r\n",
       "</g>\r\n",
       "<!-- 213&#45;&gt;223 -->\r\n",
       "<g id=\"edge223\" class=\"edge\"><title>213&#45;&gt;223</title>\r\n",
       "<path fill=\"none\" stroke=\"black\" d=\"M10918,-608.884C10918,-598.326 10918,-586.597 10918,-575.854\"/>\r\n",
       "<polygon fill=\"black\" stroke=\"black\" points=\"10921.5,-575.52 10918,-565.52 10914.5,-575.52 10921.5,-575.52\"/>\r\n",
       "</g>\r\n",
       "<!-- 215 -->\r\n",
       "<g id=\"node216\" class=\"node\"><title>215</title>\r\n",
       "<polygon fill=\"#a339e5\" stroke=\"black\" points=\"10465.5,-461.5 10260.5,-461.5 10260.5,-408.5 10465.5,-408.5 10465.5,-461.5\"/>\r\n",
       "<text text-anchor=\"middle\" x=\"10363\" y=\"-446.3\" font-family=\"Times New Roman,serif\" font-size=\"14.00\">gini = 0.0</text>\r\n",
       "<text text-anchor=\"middle\" x=\"10363\" y=\"-431.3\" font-family=\"Times New Roman,serif\" font-size=\"14.00\">samples = 1</text>\r\n",
       "<text text-anchor=\"middle\" x=\"10363\" y=\"-416.3\" font-family=\"Times New Roman,serif\" font-size=\"14.00\">value = [0, 0, 0, 0, 0, 0, 0, 1, 0, 0]</text>\r\n",
       "</g>\r\n",
       "<!-- 214&#45;&gt;215 -->\r\n",
       "<g id=\"edge215\" class=\"edge\"><title>214&#45;&gt;215</title>\r\n",
       "<path fill=\"none\" stroke=\"black\" d=\"M10513.6,-504.884C10486.1,-492.291 10454.9,-478.033 10428.1,-465.769\"/>\r\n",
       "<polygon fill=\"black\" stroke=\"black\" points=\"10429.3,-462.497 10418.8,-461.52 10426.4,-468.862 10429.3,-462.497\"/>\r\n",
       "</g>\r\n",
       "<!-- 216 -->\r\n",
       "<g id=\"node217\" class=\"node\"><title>216</title>\r\n",
       "<polygon fill=\"#ffffff\" stroke=\"black\" points=\"10688.5,-469 10483.5,-469 10483.5,-401 10688.5,-401 10688.5,-469\"/>\r\n",
       "<text text-anchor=\"middle\" x=\"10586\" y=\"-453.8\" font-family=\"Times New Roman,serif\" font-size=\"14.00\">X[44] &lt;= 2.0</text>\r\n",
       "<text text-anchor=\"middle\" x=\"10586\" y=\"-438.8\" font-family=\"Times New Roman,serif\" font-size=\"14.00\">gini = 0.75</text>\r\n",
       "<text text-anchor=\"middle\" x=\"10586\" y=\"-423.8\" font-family=\"Times New Roman,serif\" font-size=\"14.00\">samples = 4</text>\r\n",
       "<text text-anchor=\"middle\" x=\"10586\" y=\"-408.8\" font-family=\"Times New Roman,serif\" font-size=\"14.00\">value = [0, 1, 1, 0, 0, 0, 1, 0, 1, 0]</text>\r\n",
       "</g>\r\n",
       "<!-- 214&#45;&gt;216 -->\r\n",
       "<g id=\"edge216\" class=\"edge\"><title>214&#45;&gt;216</title>\r\n",
       "<path fill=\"none\" stroke=\"black\" d=\"M10586,-504.884C10586,-496.778 10586,-487.982 10586,-479.472\"/>\r\n",
       "<polygon fill=\"black\" stroke=\"black\" points=\"10589.5,-479.299 10586,-469.299 10582.5,-479.299 10589.5,-479.299\"/>\r\n",
       "</g>\r\n",
       "<!-- 217 -->\r\n",
       "<g id=\"node218\" class=\"node\"><title>217</title>\r\n",
       "<polygon fill=\"#7be539\" stroke=\"black\" points=\"10465.5,-357.5 10260.5,-357.5 10260.5,-304.5 10465.5,-304.5 10465.5,-357.5\"/>\r\n",
       "<text text-anchor=\"middle\" x=\"10363\" y=\"-342.3\" font-family=\"Times New Roman,serif\" font-size=\"14.00\">gini = 0.0</text>\r\n",
       "<text text-anchor=\"middle\" x=\"10363\" y=\"-327.3\" font-family=\"Times New Roman,serif\" font-size=\"14.00\">samples = 1</text>\r\n",
       "<text text-anchor=\"middle\" x=\"10363\" y=\"-312.3\" font-family=\"Times New Roman,serif\" font-size=\"14.00\">value = [0, 0, 1, 0, 0, 0, 0, 0, 0, 0]</text>\r\n",
       "</g>\r\n",
       "<!-- 216&#45;&gt;217 -->\r\n",
       "<g id=\"edge217\" class=\"edge\"><title>216&#45;&gt;217</title>\r\n",
       "<path fill=\"none\" stroke=\"black\" d=\"M10513.6,-400.884C10486.1,-388.291 10454.9,-374.033 10428.1,-361.769\"/>\r\n",
       "<polygon fill=\"black\" stroke=\"black\" points=\"10429.3,-358.497 10418.8,-357.52 10426.4,-364.862 10429.3,-358.497\"/>\r\n",
       "</g>\r\n",
       "<!-- 218 -->\r\n",
       "<g id=\"node219\" class=\"node\"><title>218</title>\r\n",
       "<polygon fill=\"#ffffff\" stroke=\"black\" points=\"10688.5,-365 10483.5,-365 10483.5,-297 10688.5,-297 10688.5,-365\"/>\r\n",
       "<text text-anchor=\"middle\" x=\"10586\" y=\"-349.8\" font-family=\"Times New Roman,serif\" font-size=\"14.00\">X[36] &lt;= 10.5</text>\r\n",
       "<text text-anchor=\"middle\" x=\"10586\" y=\"-334.8\" font-family=\"Times New Roman,serif\" font-size=\"14.00\">gini = 0.667</text>\r\n",
       "<text text-anchor=\"middle\" x=\"10586\" y=\"-319.8\" font-family=\"Times New Roman,serif\" font-size=\"14.00\">samples = 3</text>\r\n",
       "<text text-anchor=\"middle\" x=\"10586\" y=\"-304.8\" font-family=\"Times New Roman,serif\" font-size=\"14.00\">value = [0, 1, 0, 0, 0, 0, 1, 0, 1, 0]</text>\r\n",
       "</g>\r\n",
       "<!-- 216&#45;&gt;218 -->\r\n",
       "<g id=\"edge218\" class=\"edge\"><title>216&#45;&gt;218</title>\r\n",
       "<path fill=\"none\" stroke=\"black\" d=\"M10586,-400.884C10586,-392.778 10586,-383.982 10586,-375.472\"/>\r\n",
       "<polygon fill=\"black\" stroke=\"black\" points=\"10589.5,-375.299 10586,-365.299 10582.5,-375.299 10589.5,-375.299\"/>\r\n",
       "</g>\r\n",
       "<!-- 219 -->\r\n",
       "<g id=\"node220\" class=\"node\"><title>219</title>\r\n",
       "<polygon fill=\"#3c39e5\" stroke=\"black\" points=\"10688.5,-253.5 10483.5,-253.5 10483.5,-200.5 10688.5,-200.5 10688.5,-253.5\"/>\r\n",
       "<text text-anchor=\"middle\" x=\"10586\" y=\"-238.3\" font-family=\"Times New Roman,serif\" font-size=\"14.00\">gini = 0.0</text>\r\n",
       "<text text-anchor=\"middle\" x=\"10586\" y=\"-223.3\" font-family=\"Times New Roman,serif\" font-size=\"14.00\">samples = 1</text>\r\n",
       "<text text-anchor=\"middle\" x=\"10586\" y=\"-208.3\" font-family=\"Times New Roman,serif\" font-size=\"14.00\">value = [0, 0, 0, 0, 0, 0, 1, 0, 0, 0]</text>\r\n",
       "</g>\r\n",
       "<!-- 218&#45;&gt;219 -->\r\n",
       "<g id=\"edge219\" class=\"edge\"><title>218&#45;&gt;219</title>\r\n",
       "<path fill=\"none\" stroke=\"black\" d=\"M10586,-296.884C10586,-286.326 10586,-274.597 10586,-263.854\"/>\r\n",
       "<polygon fill=\"black\" stroke=\"black\" points=\"10589.5,-263.52 10586,-253.52 10582.5,-263.52 10589.5,-263.52\"/>\r\n",
       "</g>\r\n",
       "<!-- 220 -->\r\n",
       "<g id=\"node221\" class=\"node\"><title>220</title>\r\n",
       "<polygon fill=\"#ffffff\" stroke=\"black\" points=\"10911.5,-261 10706.5,-261 10706.5,-193 10911.5,-193 10911.5,-261\"/>\r\n",
       "<text text-anchor=\"middle\" x=\"10809\" y=\"-245.8\" font-family=\"Times New Roman,serif\" font-size=\"14.00\">X[10] &lt;= 0.5</text>\r\n",
       "<text text-anchor=\"middle\" x=\"10809\" y=\"-230.8\" font-family=\"Times New Roman,serif\" font-size=\"14.00\">gini = 0.5</text>\r\n",
       "<text text-anchor=\"middle\" x=\"10809\" y=\"-215.8\" font-family=\"Times New Roman,serif\" font-size=\"14.00\">samples = 2</text>\r\n",
       "<text text-anchor=\"middle\" x=\"10809\" y=\"-200.8\" font-family=\"Times New Roman,serif\" font-size=\"14.00\">value = [0, 1, 0, 0, 0, 0, 0, 0, 1, 0]</text>\r\n",
       "</g>\r\n",
       "<!-- 218&#45;&gt;220 -->\r\n",
       "<g id=\"edge220\" class=\"edge\"><title>218&#45;&gt;220</title>\r\n",
       "<path fill=\"none\" stroke=\"black\" d=\"M10658.4,-296.884C10680.4,-286.812 10704.8,-275.674 10727.4,-265.344\"/>\r\n",
       "<polygon fill=\"black\" stroke=\"black\" points=\"10728.9,-268.467 10736.6,-261.125 10726,-262.101 10728.9,-268.467\"/>\r\n",
       "</g>\r\n",
       "<!-- 221 -->\r\n",
       "<g id=\"node222\" class=\"node\"><title>221</title>\r\n",
       "<polygon fill=\"#e2e539\" stroke=\"black\" points=\"10855.5,-149.5 10650.5,-149.5 10650.5,-96.5 10855.5,-96.5 10855.5,-149.5\"/>\r\n",
       "<text text-anchor=\"middle\" x=\"10753\" y=\"-134.3\" font-family=\"Times New Roman,serif\" font-size=\"14.00\">gini = 0.0</text>\r\n",
       "<text text-anchor=\"middle\" x=\"10753\" y=\"-119.3\" font-family=\"Times New Roman,serif\" font-size=\"14.00\">samples = 1</text>\r\n",
       "<text text-anchor=\"middle\" x=\"10753\" y=\"-104.3\" font-family=\"Times New Roman,serif\" font-size=\"14.00\">value = [0, 1, 0, 0, 0, 0, 0, 0, 0, 0]</text>\r\n",
       "</g>\r\n",
       "<!-- 220&#45;&gt;221 -->\r\n",
       "<g id=\"edge221\" class=\"edge\"><title>220&#45;&gt;221</title>\r\n",
       "<path fill=\"none\" stroke=\"black\" d=\"M10790.8,-192.884C10784.8,-181.886 10778,-169.617 10772,-158.517\"/>\r\n",
       "<polygon fill=\"black\" stroke=\"black\" points=\"10774.9,-156.601 10767,-149.52 10768.8,-159.97 10774.9,-156.601\"/>\r\n",
       "</g>\r\n",
       "<!-- 222 -->\r\n",
       "<g id=\"node223\" class=\"node\"><title>222</title>\r\n",
       "<polygon fill=\"#e539c0\" stroke=\"black\" points=\"11078.5,-149.5 10873.5,-149.5 10873.5,-96.5 11078.5,-96.5 11078.5,-149.5\"/>\r\n",
       "<text text-anchor=\"middle\" x=\"10976\" y=\"-134.3\" font-family=\"Times New Roman,serif\" font-size=\"14.00\">gini = 0.0</text>\r\n",
       "<text text-anchor=\"middle\" x=\"10976\" y=\"-119.3\" font-family=\"Times New Roman,serif\" font-size=\"14.00\">samples = 1</text>\r\n",
       "<text text-anchor=\"middle\" x=\"10976\" y=\"-104.3\" font-family=\"Times New Roman,serif\" font-size=\"14.00\">value = [0, 0, 0, 0, 0, 0, 0, 0, 1, 0]</text>\r\n",
       "</g>\r\n",
       "<!-- 220&#45;&gt;222 -->\r\n",
       "<g id=\"edge222\" class=\"edge\"><title>220&#45;&gt;222</title>\r\n",
       "<path fill=\"none\" stroke=\"black\" d=\"M10863.2,-192.884C10883.3,-180.621 10906,-166.779 10925.7,-154.737\"/>\r\n",
       "<polygon fill=\"black\" stroke=\"black\" points=\"10927.5,-157.719 10934.2,-149.52 10923.9,-151.745 10927.5,-157.719\"/>\r\n",
       "</g>\r\n",
       "<!-- 225 -->\r\n",
       "<g id=\"node226\" class=\"node\"><title>225</title>\r\n",
       "<polygon fill=\"#fad7f2\" stroke=\"black\" points=\"11302.5,-573 11097.5,-573 11097.5,-505 11302.5,-505 11302.5,-573\"/>\r\n",
       "<text text-anchor=\"middle\" x=\"11200\" y=\"-557.8\" font-family=\"Times New Roman,serif\" font-size=\"14.00\">X[51] &lt;= 11.5</text>\r\n",
       "<text text-anchor=\"middle\" x=\"11200\" y=\"-542.8\" font-family=\"Times New Roman,serif\" font-size=\"14.00\">gini = 0.649</text>\r\n",
       "<text text-anchor=\"middle\" x=\"11200\" y=\"-527.8\" font-family=\"Times New Roman,serif\" font-size=\"14.00\">samples = 15</text>\r\n",
       "<text text-anchor=\"middle\" x=\"11200\" y=\"-512.8\" font-family=\"Times New Roman,serif\" font-size=\"14.00\">value = [0, 0, 0, 0, 2, 0, 0, 1, 7, 5]</text>\r\n",
       "</g>\r\n",
       "<!-- 224&#45;&gt;225 -->\r\n",
       "<g id=\"edge225\" class=\"edge\"><title>224&#45;&gt;225</title>\r\n",
       "<path fill=\"none\" stroke=\"black\" d=\"M11200,-608.884C11200,-600.778 11200,-591.982 11200,-583.472\"/>\r\n",
       "<polygon fill=\"black\" stroke=\"black\" points=\"11203.5,-583.299 11200,-573.299 11196.5,-583.299 11203.5,-583.299\"/>\r\n",
       "</g>\r\n",
       "<!-- 234 -->\r\n",
       "<g id=\"node235\" class=\"node\"><title>234</title>\r\n",
       "<polygon fill=\"#e643c3\" stroke=\"black\" points=\"11918,-573 11706,-573 11706,-505 11918,-505 11918,-573\"/>\r\n",
       "<text text-anchor=\"middle\" x=\"11812\" y=\"-557.8\" font-family=\"Times New Roman,serif\" font-size=\"14.00\">X[21] &lt;= 4.0</text>\r\n",
       "<text text-anchor=\"middle\" x=\"11812\" y=\"-542.8\" font-family=\"Times New Roman,serif\" font-size=\"14.00\">gini = 0.097</text>\r\n",
       "<text text-anchor=\"middle\" x=\"11812\" y=\"-527.8\" font-family=\"Times New Roman,serif\" font-size=\"14.00\">samples = 79</text>\r\n",
       "<text text-anchor=\"middle\" x=\"11812\" y=\"-512.8\" font-family=\"Times New Roman,serif\" font-size=\"14.00\">value = [0, 3, 0, 0, 0, 0, 0, 0, 75, 1]</text>\r\n",
       "</g>\r\n",
       "<!-- 224&#45;&gt;234 -->\r\n",
       "<g id=\"edge234\" class=\"edge\"><title>224&#45;&gt;234</title>\r\n",
       "<path fill=\"none\" stroke=\"black\" d=\"M11306.3,-624.291C11415.1,-606.155 11583.7,-578.044 11696,-559.337\"/>\r\n",
       "<polygon fill=\"black\" stroke=\"black\" points=\"11696.7,-562.766 11706,-557.67 11695.5,-555.861 11696.7,-562.766\"/>\r\n",
       "</g>\r\n",
       "<!-- 226 -->\r\n",
       "<g id=\"node227\" class=\"node\"><title>226</title>\r\n",
       "<polygon fill=\"#ee7b90\" stroke=\"black\" points=\"11134.5,-469 10929.5,-469 10929.5,-401 11134.5,-401 11134.5,-469\"/>\r\n",
       "<text text-anchor=\"middle\" x=\"11032\" y=\"-453.8\" font-family=\"Times New Roman,serif\" font-size=\"14.00\">X[43] &lt;= 4.5</text>\r\n",
       "<text text-anchor=\"middle\" x=\"11032\" y=\"-438.8\" font-family=\"Times New Roman,serif\" font-size=\"14.00\">gini = 0.449</text>\r\n",
       "<text text-anchor=\"middle\" x=\"11032\" y=\"-423.8\" font-family=\"Times New Roman,serif\" font-size=\"14.00\">samples = 7</text>\r\n",
       "<text text-anchor=\"middle\" x=\"11032\" y=\"-408.8\" font-family=\"Times New Roman,serif\" font-size=\"14.00\">value = [0, 0, 0, 0, 1, 0, 0, 1, 0, 5]</text>\r\n",
       "</g>\r\n",
       "<!-- 225&#45;&gt;226 -->\r\n",
       "<g id=\"edge226\" class=\"edge\"><title>225&#45;&gt;226</title>\r\n",
       "<path fill=\"none\" stroke=\"black\" d=\"M11145.5,-504.884C11129.5,-495.214 11112,-484.563 11095.6,-474.587\"/>\r\n",
       "<polygon fill=\"black\" stroke=\"black\" points=\"11096.9,-471.323 11086.6,-469.125 11093.3,-477.306 11096.9,-471.323\"/>\r\n",
       "</g>\r\n",
       "<!-- 231 -->\r\n",
       "<g id=\"node232\" class=\"node\"><title>231</title>\r\n",
       "<polygon fill=\"#e955c9\" stroke=\"black\" points=\"11357.5,-469 11152.5,-469 11152.5,-401 11357.5,-401 11357.5,-469\"/>\r\n",
       "<text text-anchor=\"middle\" x=\"11255\" y=\"-453.8\" font-family=\"Times New Roman,serif\" font-size=\"14.00\">X[45] &lt;= 7.0</text>\r\n",
       "<text text-anchor=\"middle\" x=\"11255\" y=\"-438.8\" font-family=\"Times New Roman,serif\" font-size=\"14.00\">gini = 0.219</text>\r\n",
       "<text text-anchor=\"middle\" x=\"11255\" y=\"-423.8\" font-family=\"Times New Roman,serif\" font-size=\"14.00\">samples = 8</text>\r\n",
       "<text text-anchor=\"middle\" x=\"11255\" y=\"-408.8\" font-family=\"Times New Roman,serif\" font-size=\"14.00\">value = [0, 0, 0, 0, 1, 0, 0, 0, 7, 0]</text>\r\n",
       "</g>\r\n",
       "<!-- 225&#45;&gt;231 -->\r\n",
       "<g id=\"edge231\" class=\"edge\"><title>225&#45;&gt;231</title>\r\n",
       "<path fill=\"none\" stroke=\"black\" d=\"M11217.9,-504.884C11222.4,-496.422 11227.4,-487.207 11232.2,-478.352\"/>\r\n",
       "<polygon fill=\"black\" stroke=\"black\" points=\"11235.4,-479.762 11237,-469.299 11229.2,-476.44 11235.4,-479.762\"/>\r\n",
       "</g>\r\n",
       "<!-- 227 -->\r\n",
       "<g id=\"node228\" class=\"node\"><title>227</title>\r\n",
       "<polygon fill=\"#e53958\" stroke=\"black\" points=\"10911.5,-357.5 10706.5,-357.5 10706.5,-304.5 10911.5,-304.5 10911.5,-357.5\"/>\r\n",
       "<text text-anchor=\"middle\" x=\"10809\" y=\"-342.3\" font-family=\"Times New Roman,serif\" font-size=\"14.00\">gini = 0.0</text>\r\n",
       "<text text-anchor=\"middle\" x=\"10809\" y=\"-327.3\" font-family=\"Times New Roman,serif\" font-size=\"14.00\">samples = 5</text>\r\n",
       "<text text-anchor=\"middle\" x=\"10809\" y=\"-312.3\" font-family=\"Times New Roman,serif\" font-size=\"14.00\">value = [0, 0, 0, 0, 0, 0, 0, 0, 0, 5]</text>\r\n",
       "</g>\r\n",
       "<!-- 226&#45;&gt;227 -->\r\n",
       "<g id=\"edge227\" class=\"edge\"><title>226&#45;&gt;227</title>\r\n",
       "<path fill=\"none\" stroke=\"black\" d=\"M10959.6,-400.884C10932.1,-388.291 10900.9,-374.033 10874.1,-361.769\"/>\r\n",
       "<polygon fill=\"black\" stroke=\"black\" points=\"10875.3,-358.497 10864.8,-357.52 10872.4,-364.862 10875.3,-358.497\"/>\r\n",
       "</g>\r\n",
       "<!-- 228 -->\r\n",
       "<g id=\"node229\" class=\"node\"><title>228</title>\r\n",
       "<polygon fill=\"#ffffff\" stroke=\"black\" points=\"11134.5,-365 10929.5,-365 10929.5,-297 11134.5,-297 11134.5,-365\"/>\r\n",
       "<text text-anchor=\"middle\" x=\"11032\" y=\"-349.8\" font-family=\"Times New Roman,serif\" font-size=\"14.00\">X[22] &lt;= 2.0</text>\r\n",
       "<text text-anchor=\"middle\" x=\"11032\" y=\"-334.8\" font-family=\"Times New Roman,serif\" font-size=\"14.00\">gini = 0.5</text>\r\n",
       "<text text-anchor=\"middle\" x=\"11032\" y=\"-319.8\" font-family=\"Times New Roman,serif\" font-size=\"14.00\">samples = 2</text>\r\n",
       "<text text-anchor=\"middle\" x=\"11032\" y=\"-304.8\" font-family=\"Times New Roman,serif\" font-size=\"14.00\">value = [0, 0, 0, 0, 1, 0, 0, 1, 0, 0]</text>\r\n",
       "</g>\r\n",
       "<!-- 226&#45;&gt;228 -->\r\n",
       "<g id=\"edge228\" class=\"edge\"><title>226&#45;&gt;228</title>\r\n",
       "<path fill=\"none\" stroke=\"black\" d=\"M11032,-400.884C11032,-392.778 11032,-383.982 11032,-375.472\"/>\r\n",
       "<polygon fill=\"black\" stroke=\"black\" points=\"11035.5,-375.299 11032,-365.299 11028.5,-375.299 11035.5,-375.299\"/>\r\n",
       "</g>\r\n",
       "<!-- 229 -->\r\n",
       "<g id=\"node230\" class=\"node\"><title>229</title>\r\n",
       "<polygon fill=\"#39e5c5\" stroke=\"black\" points=\"11134.5,-253.5 10929.5,-253.5 10929.5,-200.5 11134.5,-200.5 11134.5,-253.5\"/>\r\n",
       "<text text-anchor=\"middle\" x=\"11032\" y=\"-238.3\" font-family=\"Times New Roman,serif\" font-size=\"14.00\">gini = 0.0</text>\r\n",
       "<text text-anchor=\"middle\" x=\"11032\" y=\"-223.3\" font-family=\"Times New Roman,serif\" font-size=\"14.00\">samples = 1</text>\r\n",
       "<text text-anchor=\"middle\" x=\"11032\" y=\"-208.3\" font-family=\"Times New Roman,serif\" font-size=\"14.00\">value = [0, 0, 0, 0, 1, 0, 0, 0, 0, 0]</text>\r\n",
       "</g>\r\n",
       "<!-- 228&#45;&gt;229 -->\r\n",
       "<g id=\"edge229\" class=\"edge\"><title>228&#45;&gt;229</title>\r\n",
       "<path fill=\"none\" stroke=\"black\" d=\"M11032,-296.884C11032,-286.326 11032,-274.597 11032,-263.854\"/>\r\n",
       "<polygon fill=\"black\" stroke=\"black\" points=\"11035.5,-263.52 11032,-253.52 11028.5,-263.52 11035.5,-263.52\"/>\r\n",
       "</g>\r\n",
       "<!-- 230 -->\r\n",
       "<g id=\"node231\" class=\"node\"><title>230</title>\r\n",
       "<polygon fill=\"#a339e5\" stroke=\"black\" points=\"11357.5,-253.5 11152.5,-253.5 11152.5,-200.5 11357.5,-200.5 11357.5,-253.5\"/>\r\n",
       "<text text-anchor=\"middle\" x=\"11255\" y=\"-238.3\" font-family=\"Times New Roman,serif\" font-size=\"14.00\">gini = 0.0</text>\r\n",
       "<text text-anchor=\"middle\" x=\"11255\" y=\"-223.3\" font-family=\"Times New Roman,serif\" font-size=\"14.00\">samples = 1</text>\r\n",
       "<text text-anchor=\"middle\" x=\"11255\" y=\"-208.3\" font-family=\"Times New Roman,serif\" font-size=\"14.00\">value = [0, 0, 0, 0, 0, 0, 0, 1, 0, 0]</text>\r\n",
       "</g>\r\n",
       "<!-- 228&#45;&gt;230 -->\r\n",
       "<g id=\"edge230\" class=\"edge\"><title>228&#45;&gt;230</title>\r\n",
       "<path fill=\"none\" stroke=\"black\" d=\"M11104.4,-296.884C11131.9,-284.291 11163.1,-270.033 11189.9,-257.769\"/>\r\n",
       "<polygon fill=\"black\" stroke=\"black\" points=\"11191.6,-260.862 11199.2,-253.52 11188.7,-254.497 11191.6,-260.862\"/>\r\n",
       "</g>\r\n",
       "<!-- 232 -->\r\n",
       "<g id=\"node233\" class=\"node\"><title>232</title>\r\n",
       "<polygon fill=\"#39e5c5\" stroke=\"black\" points=\"11357.5,-357.5 11152.5,-357.5 11152.5,-304.5 11357.5,-304.5 11357.5,-357.5\"/>\r\n",
       "<text text-anchor=\"middle\" x=\"11255\" y=\"-342.3\" font-family=\"Times New Roman,serif\" font-size=\"14.00\">gini = 0.0</text>\r\n",
       "<text text-anchor=\"middle\" x=\"11255\" y=\"-327.3\" font-family=\"Times New Roman,serif\" font-size=\"14.00\">samples = 1</text>\r\n",
       "<text text-anchor=\"middle\" x=\"11255\" y=\"-312.3\" font-family=\"Times New Roman,serif\" font-size=\"14.00\">value = [0, 0, 0, 0, 1, 0, 0, 0, 0, 0]</text>\r\n",
       "</g>\r\n",
       "<!-- 231&#45;&gt;232 -->\r\n",
       "<g id=\"edge232\" class=\"edge\"><title>231&#45;&gt;232</title>\r\n",
       "<path fill=\"none\" stroke=\"black\" d=\"M11255,-400.884C11255,-390.326 11255,-378.597 11255,-367.854\"/>\r\n",
       "<polygon fill=\"black\" stroke=\"black\" points=\"11258.5,-367.52 11255,-357.52 11251.5,-367.52 11258.5,-367.52\"/>\r\n",
       "</g>\r\n",
       "<!-- 233 -->\r\n",
       "<g id=\"node234\" class=\"node\"><title>233</title>\r\n",
       "<polygon fill=\"#e539c0\" stroke=\"black\" points=\"11580.5,-357.5 11375.5,-357.5 11375.5,-304.5 11580.5,-304.5 11580.5,-357.5\"/>\r\n",
       "<text text-anchor=\"middle\" x=\"11478\" y=\"-342.3\" font-family=\"Times New Roman,serif\" font-size=\"14.00\">gini = 0.0</text>\r\n",
       "<text text-anchor=\"middle\" x=\"11478\" y=\"-327.3\" font-family=\"Times New Roman,serif\" font-size=\"14.00\">samples = 7</text>\r\n",
       "<text text-anchor=\"middle\" x=\"11478\" y=\"-312.3\" font-family=\"Times New Roman,serif\" font-size=\"14.00\">value = [0, 0, 0, 0, 0, 0, 0, 0, 7, 0]</text>\r\n",
       "</g>\r\n",
       "<!-- 231&#45;&gt;233 -->\r\n",
       "<g id=\"edge233\" class=\"edge\"><title>231&#45;&gt;233</title>\r\n",
       "<path fill=\"none\" stroke=\"black\" d=\"M11327.4,-400.884C11354.9,-388.291 11386.1,-374.033 11412.9,-361.769\"/>\r\n",
       "<polygon fill=\"black\" stroke=\"black\" points=\"11414.6,-364.862 11422.2,-357.52 11411.7,-358.497 11414.6,-364.862\"/>\r\n",
       "</g>\r\n",
       "<!-- 235 -->\r\n",
       "<g id=\"node236\" class=\"node\"><title>235</title>\r\n",
       "<polygon fill=\"#f5f6bd\" stroke=\"black\" points=\"11914.5,-469 11709.5,-469 11709.5,-401 11914.5,-401 11914.5,-469\"/>\r\n",
       "<text text-anchor=\"middle\" x=\"11812\" y=\"-453.8\" font-family=\"Times New Roman,serif\" font-size=\"14.00\">X[26] &lt;= 7.5</text>\r\n",
       "<text text-anchor=\"middle\" x=\"11812\" y=\"-438.8\" font-family=\"Times New Roman,serif\" font-size=\"14.00\">gini = 0.48</text>\r\n",
       "<text text-anchor=\"middle\" x=\"11812\" y=\"-423.8\" font-family=\"Times New Roman,serif\" font-size=\"14.00\">samples = 5</text>\r\n",
       "<text text-anchor=\"middle\" x=\"11812\" y=\"-408.8\" font-family=\"Times New Roman,serif\" font-size=\"14.00\">value = [0, 3, 0, 0, 0, 0, 0, 0, 2, 0]</text>\r\n",
       "</g>\r\n",
       "<!-- 234&#45;&gt;235 -->\r\n",
       "<g id=\"edge235\" class=\"edge\"><title>234&#45;&gt;235</title>\r\n",
       "<path fill=\"none\" stroke=\"black\" d=\"M11812,-504.884C11812,-496.778 11812,-487.982 11812,-479.472\"/>\r\n",
       "<polygon fill=\"black\" stroke=\"black\" points=\"11815.5,-479.299 11812,-469.299 11808.5,-479.299 11815.5,-479.299\"/>\r\n",
       "</g>\r\n",
       "<!-- 238 -->\r\n",
       "<g id=\"node239\" class=\"node\"><title>238</title>\r\n",
       "<polygon fill=\"#e53cc1\" stroke=\"black\" points=\"12257,-469 12045,-469 12045,-401 12257,-401 12257,-469\"/>\r\n",
       "<text text-anchor=\"middle\" x=\"12151\" y=\"-453.8\" font-family=\"Times New Roman,serif\" font-size=\"14.00\">X[46] &lt;= 10.5</text>\r\n",
       "<text text-anchor=\"middle\" x=\"12151\" y=\"-438.8\" font-family=\"Times New Roman,serif\" font-size=\"14.00\">gini = 0.027</text>\r\n",
       "<text text-anchor=\"middle\" x=\"12151\" y=\"-423.8\" font-family=\"Times New Roman,serif\" font-size=\"14.00\">samples = 74</text>\r\n",
       "<text text-anchor=\"middle\" x=\"12151\" y=\"-408.8\" font-family=\"Times New Roman,serif\" font-size=\"14.00\">value = [0, 0, 0, 0, 0, 0, 0, 0, 73, 1]</text>\r\n",
       "</g>\r\n",
       "<!-- 234&#45;&gt;238 -->\r\n",
       "<g id=\"edge238\" class=\"edge\"><title>234&#45;&gt;238</title>\r\n",
       "<path fill=\"none\" stroke=\"black\" d=\"M11918.3,-506.006C11955.3,-494.878 11997,-482.34 12034.7,-470.982\"/>\r\n",
       "<polygon fill=\"black\" stroke=\"black\" points=\"12036.2,-474.201 12044.8,-467.968 12034.2,-467.497 12036.2,-474.201\"/>\r\n",
       "</g>\r\n",
       "<!-- 236 -->\r\n",
       "<g id=\"node237\" class=\"node\"><title>236</title>\r\n",
       "<polygon fill=\"#e539c0\" stroke=\"black\" points=\"11803.5,-357.5 11598.5,-357.5 11598.5,-304.5 11803.5,-304.5 11803.5,-357.5\"/>\r\n",
       "<text text-anchor=\"middle\" x=\"11701\" y=\"-342.3\" font-family=\"Times New Roman,serif\" font-size=\"14.00\">gini = 0.0</text>\r\n",
       "<text text-anchor=\"middle\" x=\"11701\" y=\"-327.3\" font-family=\"Times New Roman,serif\" font-size=\"14.00\">samples = 2</text>\r\n",
       "<text text-anchor=\"middle\" x=\"11701\" y=\"-312.3\" font-family=\"Times New Roman,serif\" font-size=\"14.00\">value = [0, 0, 0, 0, 0, 0, 0, 0, 2, 0]</text>\r\n",
       "</g>\r\n",
       "<!-- 235&#45;&gt;236 -->\r\n",
       "<g id=\"edge236\" class=\"edge\"><title>235&#45;&gt;236</title>\r\n",
       "<path fill=\"none\" stroke=\"black\" d=\"M11776,-400.884C11763.3,-389.226 11749,-376.141 11736.4,-364.532\"/>\r\n",
       "<polygon fill=\"black\" stroke=\"black\" points=\"11738.5,-361.709 11728.8,-357.52 11733.8,-366.863 11738.5,-361.709\"/>\r\n",
       "</g>\r\n",
       "<!-- 237 -->\r\n",
       "<g id=\"node238\" class=\"node\"><title>237</title>\r\n",
       "<polygon fill=\"#e2e539\" stroke=\"black\" points=\"12026.5,-357.5 11821.5,-357.5 11821.5,-304.5 12026.5,-304.5 12026.5,-357.5\"/>\r\n",
       "<text text-anchor=\"middle\" x=\"11924\" y=\"-342.3\" font-family=\"Times New Roman,serif\" font-size=\"14.00\">gini = 0.0</text>\r\n",
       "<text text-anchor=\"middle\" x=\"11924\" y=\"-327.3\" font-family=\"Times New Roman,serif\" font-size=\"14.00\">samples = 3</text>\r\n",
       "<text text-anchor=\"middle\" x=\"11924\" y=\"-312.3\" font-family=\"Times New Roman,serif\" font-size=\"14.00\">value = [0, 3, 0, 0, 0, 0, 0, 0, 0, 0]</text>\r\n",
       "</g>\r\n",
       "<!-- 235&#45;&gt;237 -->\r\n",
       "<g id=\"edge237\" class=\"edge\"><title>235&#45;&gt;237</title>\r\n",
       "<path fill=\"none\" stroke=\"black\" d=\"M11848.4,-400.884C11861.2,-389.226 11875.5,-376.141 11888.3,-364.532\"/>\r\n",
       "<polygon fill=\"black\" stroke=\"black\" points=\"11890.9,-366.841 11896,-357.52 11886.2,-361.666 11890.9,-366.841\"/>\r\n",
       "</g>\r\n",
       "<!-- 239 -->\r\n",
       "<g id=\"node240\" class=\"node\"><title>239</title>\r\n",
       "<polygon fill=\"#e539c0\" stroke=\"black\" points=\"12257,-357.5 12045,-357.5 12045,-304.5 12257,-304.5 12257,-357.5\"/>\r\n",
       "<text text-anchor=\"middle\" x=\"12151\" y=\"-342.3\" font-family=\"Times New Roman,serif\" font-size=\"14.00\">gini = 0.0</text>\r\n",
       "<text text-anchor=\"middle\" x=\"12151\" y=\"-327.3\" font-family=\"Times New Roman,serif\" font-size=\"14.00\">samples = 73</text>\r\n",
       "<text text-anchor=\"middle\" x=\"12151\" y=\"-312.3\" font-family=\"Times New Roman,serif\" font-size=\"14.00\">value = [0, 0, 0, 0, 0, 0, 0, 0, 73, 0]</text>\r\n",
       "</g>\r\n",
       "<!-- 238&#45;&gt;239 -->\r\n",
       "<g id=\"edge239\" class=\"edge\"><title>238&#45;&gt;239</title>\r\n",
       "<path fill=\"none\" stroke=\"black\" d=\"M12151,-400.884C12151,-390.326 12151,-378.597 12151,-367.854\"/>\r\n",
       "<polygon fill=\"black\" stroke=\"black\" points=\"12154.5,-367.52 12151,-357.52 12147.5,-367.52 12154.5,-367.52\"/>\r\n",
       "</g>\r\n",
       "<!-- 240 -->\r\n",
       "<g id=\"node241\" class=\"node\"><title>240</title>\r\n",
       "<polygon fill=\"#e53958\" stroke=\"black\" points=\"12480.5,-357.5 12275.5,-357.5 12275.5,-304.5 12480.5,-304.5 12480.5,-357.5\"/>\r\n",
       "<text text-anchor=\"middle\" x=\"12378\" y=\"-342.3\" font-family=\"Times New Roman,serif\" font-size=\"14.00\">gini = 0.0</text>\r\n",
       "<text text-anchor=\"middle\" x=\"12378\" y=\"-327.3\" font-family=\"Times New Roman,serif\" font-size=\"14.00\">samples = 1</text>\r\n",
       "<text text-anchor=\"middle\" x=\"12378\" y=\"-312.3\" font-family=\"Times New Roman,serif\" font-size=\"14.00\">value = [0, 0, 0, 0, 0, 0, 0, 0, 0, 1]</text>\r\n",
       "</g>\r\n",
       "<!-- 238&#45;&gt;240 -->\r\n",
       "<g id=\"edge240\" class=\"edge\"><title>238&#45;&gt;240</title>\r\n",
       "<path fill=\"none\" stroke=\"black\" d=\"M12224.7,-400.884C12252.7,-388.291 12284.5,-374.033 12311.7,-361.769\"/>\r\n",
       "<polygon fill=\"black\" stroke=\"black\" points=\"12313.5,-364.811 12321.2,-357.52 12310.6,-358.426 12313.5,-364.811\"/>\r\n",
       "</g>\r\n",
       "<!-- 242 -->\r\n",
       "<g id=\"node243\" class=\"node\"><title>242</title>\r\n",
       "<polygon fill=\"#e5e74b\" stroke=\"black\" points=\"12819,-677 12607,-677 12607,-609 12819,-609 12819,-677\"/>\r\n",
       "<text text-anchor=\"middle\" x=\"12713\" y=\"-661.8\" font-family=\"Times New Roman,serif\" font-size=\"14.00\">X[41] &lt;= 7.5</text>\r\n",
       "<text text-anchor=\"middle\" x=\"12713\" y=\"-646.8\" font-family=\"Times New Roman,serif\" font-size=\"14.00\">gini = 0.171</text>\r\n",
       "<text text-anchor=\"middle\" x=\"12713\" y=\"-631.8\" font-family=\"Times New Roman,serif\" font-size=\"14.00\">samples = 77</text>\r\n",
       "<text text-anchor=\"middle\" x=\"12713\" y=\"-616.8\" font-family=\"Times New Roman,serif\" font-size=\"14.00\">value = [0, 70, 1, 2, 2, 0, 0, 0, 2, 0]</text>\r\n",
       "</g>\r\n",
       "<!-- 241&#45;&gt;242 -->\r\n",
       "<g id=\"edge242\" class=\"edge\"><title>241&#45;&gt;242</title>\r\n",
       "<path fill=\"none\" stroke=\"black\" d=\"M12713,-712.884C12713,-704.778 12713,-695.982 12713,-687.472\"/>\r\n",
       "<polygon fill=\"black\" stroke=\"black\" points=\"12716.5,-687.299 12713,-677.299 12709.5,-687.299 12716.5,-687.299\"/>\r\n",
       "</g>\r\n",
       "<!-- 257 -->\r\n",
       "<g id=\"node258\" class=\"node\"><title>257</title>\r\n",
       "<polygon fill=\"#f9d3f1\" stroke=\"black\" points=\"13044.5,-677 12839.5,-677 12839.5,-609 13044.5,-609 13044.5,-677\"/>\r\n",
       "<text text-anchor=\"middle\" x=\"12942\" y=\"-661.8\" font-family=\"Times New Roman,serif\" font-size=\"14.00\">X[21] &lt;= 7.5</text>\r\n",
       "<text text-anchor=\"middle\" x=\"12942\" y=\"-646.8\" font-family=\"Times New Roman,serif\" font-size=\"14.00\">gini = 0.694</text>\r\n",
       "<text text-anchor=\"middle\" x=\"12942\" y=\"-631.8\" font-family=\"Times New Roman,serif\" font-size=\"14.00\">samples = 12</text>\r\n",
       "<text text-anchor=\"middle\" x=\"12942\" y=\"-616.8\" font-family=\"Times New Roman,serif\" font-size=\"14.00\">value = [0, 1, 3, 3, 0, 0, 0, 0, 5, 0]</text>\r\n",
       "</g>\r\n",
       "<!-- 241&#45;&gt;257 -->\r\n",
       "<g id=\"edge257\" class=\"edge\"><title>241&#45;&gt;257</title>\r\n",
       "<path fill=\"none\" stroke=\"black\" d=\"M12787.3,-712.884C12810.1,-702.767 12835.2,-691.575 12858.5,-681.206\"/>\r\n",
       "<polygon fill=\"black\" stroke=\"black\" points=\"12859.9,-684.391 12867.6,-677.125 12857.1,-677.996 12859.9,-684.391\"/>\r\n",
       "</g>\r\n",
       "<!-- 243 -->\r\n",
       "<g id=\"node244\" class=\"node\"><title>243</title>\r\n",
       "<polygon fill=\"#e4e747\" stroke=\"black\" points=\"12819,-573 12607,-573 12607,-505 12819,-505 12819,-573\"/>\r\n",
       "<text text-anchor=\"middle\" x=\"12713\" y=\"-557.8\" font-family=\"Times New Roman,serif\" font-size=\"14.00\">X[36] &lt;= 7.0</text>\r\n",
       "<text text-anchor=\"middle\" x=\"12713\" y=\"-542.8\" font-family=\"Times New Roman,serif\" font-size=\"14.00\">gini = 0.127</text>\r\n",
       "<text text-anchor=\"middle\" x=\"12713\" y=\"-527.8\" font-family=\"Times New Roman,serif\" font-size=\"14.00\">samples = 75</text>\r\n",
       "<text text-anchor=\"middle\" x=\"12713\" y=\"-512.8\" font-family=\"Times New Roman,serif\" font-size=\"14.00\">value = [0, 70, 1, 2, 0, 0, 0, 0, 2, 0]</text>\r\n",
       "</g>\r\n",
       "<!-- 242&#45;&gt;243 -->\r\n",
       "<g id=\"edge243\" class=\"edge\"><title>242&#45;&gt;243</title>\r\n",
       "<path fill=\"none\" stroke=\"black\" d=\"M12713,-608.884C12713,-600.778 12713,-591.982 12713,-583.472\"/>\r\n",
       "<polygon fill=\"black\" stroke=\"black\" points=\"12716.5,-583.299 12713,-573.299 12709.5,-583.299 12716.5,-583.299\"/>\r\n",
       "</g>\r\n",
       "<!-- 256 -->\r\n",
       "<g id=\"node257\" class=\"node\"><title>256</title>\r\n",
       "<polygon fill=\"#39e5c5\" stroke=\"black\" points=\"13042.5,-565.5 12837.5,-565.5 12837.5,-512.5 13042.5,-512.5 13042.5,-565.5\"/>\r\n",
       "<text text-anchor=\"middle\" x=\"12940\" y=\"-550.3\" font-family=\"Times New Roman,serif\" font-size=\"14.00\">gini = 0.0</text>\r\n",
       "<text text-anchor=\"middle\" x=\"12940\" y=\"-535.3\" font-family=\"Times New Roman,serif\" font-size=\"14.00\">samples = 2</text>\r\n",
       "<text text-anchor=\"middle\" x=\"12940\" y=\"-520.3\" font-family=\"Times New Roman,serif\" font-size=\"14.00\">value = [0, 0, 0, 0, 2, 0, 0, 0, 0, 0]</text>\r\n",
       "</g>\r\n",
       "<!-- 242&#45;&gt;256 -->\r\n",
       "<g id=\"edge256\" class=\"edge\"><title>242&#45;&gt;256</title>\r\n",
       "<path fill=\"none\" stroke=\"black\" d=\"M12786.7,-608.884C12814.7,-596.291 12846.5,-582.033 12873.7,-569.769\"/>\r\n",
       "<polygon fill=\"black\" stroke=\"black\" points=\"12875.5,-572.811 12883.2,-565.52 12872.6,-566.426 12875.5,-572.811\"/>\r\n",
       "</g>\r\n",
       "<!-- 244 -->\r\n",
       "<g id=\"node245\" class=\"node\"><title>244</title>\r\n",
       "<polygon fill=\"#ffffff\" stroke=\"black\" points=\"12815.5,-469 12610.5,-469 12610.5,-401 12815.5,-401 12815.5,-469\"/>\r\n",
       "<text text-anchor=\"middle\" x=\"12713\" y=\"-453.8\" font-family=\"Times New Roman,serif\" font-size=\"14.00\">X[1] &lt;= 1.5</text>\r\n",
       "<text text-anchor=\"middle\" x=\"12713\" y=\"-438.8\" font-family=\"Times New Roman,serif\" font-size=\"14.00\">gini = 0.5</text>\r\n",
       "<text text-anchor=\"middle\" x=\"12713\" y=\"-423.8\" font-family=\"Times New Roman,serif\" font-size=\"14.00\">samples = 2</text>\r\n",
       "<text text-anchor=\"middle\" x=\"12713\" y=\"-408.8\" font-family=\"Times New Roman,serif\" font-size=\"14.00\">value = [0, 0, 1, 0, 0, 0, 0, 0, 1, 0]</text>\r\n",
       "</g>\r\n",
       "<!-- 243&#45;&gt;244 -->\r\n",
       "<g id=\"edge244\" class=\"edge\"><title>243&#45;&gt;244</title>\r\n",
       "<path fill=\"none\" stroke=\"black\" d=\"M12713,-504.884C12713,-496.778 12713,-487.982 12713,-479.472\"/>\r\n",
       "<polygon fill=\"black\" stroke=\"black\" points=\"12716.5,-479.299 12713,-469.299 12709.5,-479.299 12716.5,-479.299\"/>\r\n",
       "</g>\r\n",
       "<!-- 247 -->\r\n",
       "<g id=\"node248\" class=\"node\"><title>247</title>\r\n",
       "<polygon fill=\"#e3e641\" stroke=\"black\" points=\"13157,-469 12945,-469 12945,-401 13157,-401 13157,-469\"/>\r\n",
       "<text text-anchor=\"middle\" x=\"13051\" y=\"-453.8\" font-family=\"Times New Roman,serif\" font-size=\"14.00\">X[9] &lt;= 5.0</text>\r\n",
       "<text text-anchor=\"middle\" x=\"13051\" y=\"-438.8\" font-family=\"Times New Roman,serif\" font-size=\"14.00\">gini = 0.08</text>\r\n",
       "<text text-anchor=\"middle\" x=\"13051\" y=\"-423.8\" font-family=\"Times New Roman,serif\" font-size=\"14.00\">samples = 73</text>\r\n",
       "<text text-anchor=\"middle\" x=\"13051\" y=\"-408.8\" font-family=\"Times New Roman,serif\" font-size=\"14.00\">value = [0, 70, 0, 2, 0, 0, 0, 0, 1, 0]</text>\r\n",
       "</g>\r\n",
       "<!-- 243&#45;&gt;247 -->\r\n",
       "<g id=\"edge247\" class=\"edge\"><title>243&#45;&gt;247</title>\r\n",
       "<path fill=\"none\" stroke=\"black\" d=\"M12819,-506.006C12855.8,-494.905 12897.2,-482.401 12934.8,-471.065\"/>\r\n",
       "<polygon fill=\"black\" stroke=\"black\" points=\"12936.2,-474.295 12944.8,-468.055 12934.2,-467.594 12936.2,-474.295\"/>\r\n",
       "</g>\r\n",
       "<!-- 245 -->\r\n",
       "<g id=\"node246\" class=\"node\"><title>245</title>\r\n",
       "<polygon fill=\"#e539c0\" stroke=\"black\" points=\"12703.5,-357.5 12498.5,-357.5 12498.5,-304.5 12703.5,-304.5 12703.5,-357.5\"/>\r\n",
       "<text text-anchor=\"middle\" x=\"12601\" y=\"-342.3\" font-family=\"Times New Roman,serif\" font-size=\"14.00\">gini = 0.0</text>\r\n",
       "<text text-anchor=\"middle\" x=\"12601\" y=\"-327.3\" font-family=\"Times New Roman,serif\" font-size=\"14.00\">samples = 1</text>\r\n",
       "<text text-anchor=\"middle\" x=\"12601\" y=\"-312.3\" font-family=\"Times New Roman,serif\" font-size=\"14.00\">value = [0, 0, 0, 0, 0, 0, 0, 0, 1, 0]</text>\r\n",
       "</g>\r\n",
       "<!-- 244&#45;&gt;245 -->\r\n",
       "<g id=\"edge245\" class=\"edge\"><title>244&#45;&gt;245</title>\r\n",
       "<path fill=\"none\" stroke=\"black\" d=\"M12676.6,-400.884C12663.8,-389.226 12649.5,-376.141 12636.7,-364.532\"/>\r\n",
       "<polygon fill=\"black\" stroke=\"black\" points=\"12638.8,-361.666 12629,-357.52 12634.1,-366.841 12638.8,-361.666\"/>\r\n",
       "</g>\r\n",
       "<!-- 246 -->\r\n",
       "<g id=\"node247\" class=\"node\"><title>246</title>\r\n",
       "<polygon fill=\"#7be539\" stroke=\"black\" points=\"12926.5,-357.5 12721.5,-357.5 12721.5,-304.5 12926.5,-304.5 12926.5,-357.5\"/>\r\n",
       "<text text-anchor=\"middle\" x=\"12824\" y=\"-342.3\" font-family=\"Times New Roman,serif\" font-size=\"14.00\">gini = 0.0</text>\r\n",
       "<text text-anchor=\"middle\" x=\"12824\" y=\"-327.3\" font-family=\"Times New Roman,serif\" font-size=\"14.00\">samples = 1</text>\r\n",
       "<text text-anchor=\"middle\" x=\"12824\" y=\"-312.3\" font-family=\"Times New Roman,serif\" font-size=\"14.00\">value = [0, 0, 1, 0, 0, 0, 0, 0, 0, 0]</text>\r\n",
       "</g>\r\n",
       "<!-- 244&#45;&gt;246 -->\r\n",
       "<g id=\"edge246\" class=\"edge\"><title>244&#45;&gt;246</title>\r\n",
       "<path fill=\"none\" stroke=\"black\" d=\"M12749,-400.884C12761.7,-389.226 12776,-376.141 12788.6,-364.532\"/>\r\n",
       "<polygon fill=\"black\" stroke=\"black\" points=\"12791.2,-366.863 12796.2,-357.52 12786.5,-361.709 12791.2,-366.863\"/>\r\n",
       "</g>\r\n",
       "<!-- 248 -->\r\n",
       "<g id=\"node249\" class=\"node\"><title>248</title>\r\n",
       "<polygon fill=\"#e3e63f\" stroke=\"black\" points=\"13157,-365 12945,-365 12945,-297 13157,-297 13157,-365\"/>\r\n",
       "<text text-anchor=\"middle\" x=\"13051\" y=\"-349.8\" font-family=\"Times New Roman,serif\" font-size=\"14.00\">X[19] &lt;= 5.5</text>\r\n",
       "<text text-anchor=\"middle\" x=\"13051\" y=\"-334.8\" font-family=\"Times New Roman,serif\" font-size=\"14.00\">gini = 0.054</text>\r\n",
       "<text text-anchor=\"middle\" x=\"13051\" y=\"-319.8\" font-family=\"Times New Roman,serif\" font-size=\"14.00\">samples = 72</text>\r\n",
       "<text text-anchor=\"middle\" x=\"13051\" y=\"-304.8\" font-family=\"Times New Roman,serif\" font-size=\"14.00\">value = [0, 70, 0, 1, 0, 0, 0, 0, 1, 0]</text>\r\n",
       "</g>\r\n",
       "<!-- 247&#45;&gt;248 -->\r\n",
       "<g id=\"edge248\" class=\"edge\"><title>247&#45;&gt;248</title>\r\n",
       "<path fill=\"none\" stroke=\"black\" d=\"M13051,-400.884C13051,-392.778 13051,-383.982 13051,-375.472\"/>\r\n",
       "<polygon fill=\"black\" stroke=\"black\" points=\"13054.5,-375.299 13051,-365.299 13047.5,-375.299 13054.5,-375.299\"/>\r\n",
       "</g>\r\n",
       "<!-- 255 -->\r\n",
       "<g id=\"node256\" class=\"node\"><title>255</title>\r\n",
       "<polygon fill=\"#39e55e\" stroke=\"black\" points=\"13380.5,-357.5 13175.5,-357.5 13175.5,-304.5 13380.5,-304.5 13380.5,-357.5\"/>\r\n",
       "<text text-anchor=\"middle\" x=\"13278\" y=\"-342.3\" font-family=\"Times New Roman,serif\" font-size=\"14.00\">gini = 0.0</text>\r\n",
       "<text text-anchor=\"middle\" x=\"13278\" y=\"-327.3\" font-family=\"Times New Roman,serif\" font-size=\"14.00\">samples = 1</text>\r\n",
       "<text text-anchor=\"middle\" x=\"13278\" y=\"-312.3\" font-family=\"Times New Roman,serif\" font-size=\"14.00\">value = [0, 0, 0, 1, 0, 0, 0, 0, 0, 0]</text>\r\n",
       "</g>\r\n",
       "<!-- 247&#45;&gt;255 -->\r\n",
       "<g id=\"edge255\" class=\"edge\"><title>247&#45;&gt;255</title>\r\n",
       "<path fill=\"none\" stroke=\"black\" d=\"M13124.7,-400.884C13152.7,-388.291 13184.5,-374.033 13211.7,-361.769\"/>\r\n",
       "<polygon fill=\"black\" stroke=\"black\" points=\"13213.5,-364.811 13221.2,-357.52 13210.6,-358.426 13213.5,-364.811\"/>\r\n",
       "</g>\r\n",
       "<!-- 249 -->\r\n",
       "<g id=\"node250\" class=\"node\"><title>249</title>\r\n",
       "<polygon fill=\"#39e55e\" stroke=\"black\" points=\"13039.5,-253.5 12834.5,-253.5 12834.5,-200.5 13039.5,-200.5 13039.5,-253.5\"/>\r\n",
       "<text text-anchor=\"middle\" x=\"12937\" y=\"-238.3\" font-family=\"Times New Roman,serif\" font-size=\"14.00\">gini = 0.0</text>\r\n",
       "<text text-anchor=\"middle\" x=\"12937\" y=\"-223.3\" font-family=\"Times New Roman,serif\" font-size=\"14.00\">samples = 1</text>\r\n",
       "<text text-anchor=\"middle\" x=\"12937\" y=\"-208.3\" font-family=\"Times New Roman,serif\" font-size=\"14.00\">value = [0, 0, 0, 1, 0, 0, 0, 0, 0, 0]</text>\r\n",
       "</g>\r\n",
       "<!-- 248&#45;&gt;249 -->\r\n",
       "<g id=\"edge249\" class=\"edge\"><title>248&#45;&gt;249</title>\r\n",
       "<path fill=\"none\" stroke=\"black\" d=\"M13014,-296.884C13000.8,-285.116 12986.1,-271.894 12973,-260.203\"/>\r\n",
       "<polygon fill=\"black\" stroke=\"black\" points=\"12975.3,-257.58 12965.5,-253.52 12970.6,-262.796 12975.3,-257.58\"/>\r\n",
       "</g>\r\n",
       "<!-- 250 -->\r\n",
       "<g id=\"node251\" class=\"node\"><title>250</title>\r\n",
       "<polygon fill=\"#e2e53c\" stroke=\"black\" points=\"13270,-261 13058,-261 13058,-193 13270,-193 13270,-261\"/>\r\n",
       "<text text-anchor=\"middle\" x=\"13164\" y=\"-245.8\" font-family=\"Times New Roman,serif\" font-size=\"14.00\">X[52] &lt;= 7.5</text>\r\n",
       "<text text-anchor=\"middle\" x=\"13164\" y=\"-230.8\" font-family=\"Times New Roman,serif\" font-size=\"14.00\">gini = 0.028</text>\r\n",
       "<text text-anchor=\"middle\" x=\"13164\" y=\"-215.8\" font-family=\"Times New Roman,serif\" font-size=\"14.00\">samples = 71</text>\r\n",
       "<text text-anchor=\"middle\" x=\"13164\" y=\"-200.8\" font-family=\"Times New Roman,serif\" font-size=\"14.00\">value = [0, 70, 0, 0, 0, 0, 0, 0, 1, 0]</text>\r\n",
       "</g>\r\n",
       "<!-- 248&#45;&gt;250 -->\r\n",
       "<g id=\"edge250\" class=\"edge\"><title>248&#45;&gt;250</title>\r\n",
       "<path fill=\"none\" stroke=\"black\" d=\"M13087.7,-296.884C13097.9,-287.709 13109,-277.65 13119.6,-268.123\"/>\r\n",
       "<polygon fill=\"black\" stroke=\"black\" points=\"13122,-270.598 13127.1,-261.299 13117.3,-265.402 13122,-270.598\"/>\r\n",
       "</g>\r\n",
       "<!-- 251 -->\r\n",
       "<g id=\"node252\" class=\"node\"><title>251</title>\r\n",
       "<polygon fill=\"#ffffff\" stroke=\"black\" points=\"13152.5,-157 12947.5,-157 12947.5,-89 13152.5,-89 13152.5,-157\"/>\r\n",
       "<text text-anchor=\"middle\" x=\"13050\" y=\"-141.8\" font-family=\"Times New Roman,serif\" font-size=\"14.00\">X[44] &lt;= 6.0</text>\r\n",
       "<text text-anchor=\"middle\" x=\"13050\" y=\"-126.8\" font-family=\"Times New Roman,serif\" font-size=\"14.00\">gini = 0.5</text>\r\n",
       "<text text-anchor=\"middle\" x=\"13050\" y=\"-111.8\" font-family=\"Times New Roman,serif\" font-size=\"14.00\">samples = 2</text>\r\n",
       "<text text-anchor=\"middle\" x=\"13050\" y=\"-96.8\" font-family=\"Times New Roman,serif\" font-size=\"14.00\">value = [0, 1, 0, 0, 0, 0, 0, 0, 1, 0]</text>\r\n",
       "</g>\r\n",
       "<!-- 250&#45;&gt;251 -->\r\n",
       "<g id=\"edge251\" class=\"edge\"><title>250&#45;&gt;251</title>\r\n",
       "<path fill=\"none\" stroke=\"black\" d=\"M13127,-192.884C13116.7,-183.709 13105.5,-173.65 13094.8,-164.123\"/>\r\n",
       "<polygon fill=\"black\" stroke=\"black\" points=\"13097,-161.359 13087.2,-157.299 13092.3,-166.576 13097,-161.359\"/>\r\n",
       "</g>\r\n",
       "<!-- 254 -->\r\n",
       "<g id=\"node255\" class=\"node\"><title>254</title>\r\n",
       "<polygon fill=\"#e2e539\" stroke=\"black\" points=\"13383,-149.5 13171,-149.5 13171,-96.5 13383,-96.5 13383,-149.5\"/>\r\n",
       "<text text-anchor=\"middle\" x=\"13277\" y=\"-134.3\" font-family=\"Times New Roman,serif\" font-size=\"14.00\">gini = 0.0</text>\r\n",
       "<text text-anchor=\"middle\" x=\"13277\" y=\"-119.3\" font-family=\"Times New Roman,serif\" font-size=\"14.00\">samples = 69</text>\r\n",
       "<text text-anchor=\"middle\" x=\"13277\" y=\"-104.3\" font-family=\"Times New Roman,serif\" font-size=\"14.00\">value = [0, 69, 0, 0, 0, 0, 0, 0, 0, 0]</text>\r\n",
       "</g>\r\n",
       "<!-- 250&#45;&gt;254 -->\r\n",
       "<g id=\"edge254\" class=\"edge\"><title>250&#45;&gt;254</title>\r\n",
       "<path fill=\"none\" stroke=\"black\" d=\"M13200.7,-192.884C13213.6,-181.226 13228.1,-168.141 13241,-156.532\"/>\r\n",
       "<polygon fill=\"black\" stroke=\"black\" points=\"13243.6,-158.819 13248.7,-149.52 13239,-153.622 13243.6,-158.819\"/>\r\n",
       "</g>\r\n",
       "<!-- 252 -->\r\n",
       "<g id=\"node253\" class=\"node\"><title>252</title>\r\n",
       "<polygon fill=\"#e2e539\" stroke=\"black\" points=\"13040.5,-53 12835.5,-53 12835.5,-0 13040.5,-0 13040.5,-53\"/>\r\n",
       "<text text-anchor=\"middle\" x=\"12938\" y=\"-37.8\" font-family=\"Times New Roman,serif\" font-size=\"14.00\">gini = 0.0</text>\r\n",
       "<text text-anchor=\"middle\" x=\"12938\" y=\"-22.8\" font-family=\"Times New Roman,serif\" font-size=\"14.00\">samples = 1</text>\r\n",
       "<text text-anchor=\"middle\" x=\"12938\" y=\"-7.8\" font-family=\"Times New Roman,serif\" font-size=\"14.00\">value = [0, 1, 0, 0, 0, 0, 0, 0, 0, 0]</text>\r\n",
       "</g>\r\n",
       "<!-- 251&#45;&gt;252 -->\r\n",
       "<g id=\"edge252\" class=\"edge\"><title>251&#45;&gt;252</title>\r\n",
       "<path fill=\"none\" stroke=\"black\" d=\"M13010.8,-88.9485C12999.7,-79.526 12987.5,-69.2731 12976.4,-59.8906\"/>\r\n",
       "<polygon fill=\"black\" stroke=\"black\" points=\"12978.4,-57.0104 12968.5,-53.2367 12973.9,-62.3605 12978.4,-57.0104\"/>\r\n",
       "</g>\r\n",
       "<!-- 253 -->\r\n",
       "<g id=\"node254\" class=\"node\"><title>253</title>\r\n",
       "<polygon fill=\"#e539c0\" stroke=\"black\" points=\"13263.5,-53 13058.5,-53 13058.5,-0 13263.5,-0 13263.5,-53\"/>\r\n",
       "<text text-anchor=\"middle\" x=\"13161\" y=\"-37.8\" font-family=\"Times New Roman,serif\" font-size=\"14.00\">gini = 0.0</text>\r\n",
       "<text text-anchor=\"middle\" x=\"13161\" y=\"-22.8\" font-family=\"Times New Roman,serif\" font-size=\"14.00\">samples = 1</text>\r\n",
       "<text text-anchor=\"middle\" x=\"13161\" y=\"-7.8\" font-family=\"Times New Roman,serif\" font-size=\"14.00\">value = [0, 0, 0, 0, 0, 0, 0, 0, 1, 0]</text>\r\n",
       "</g>\r\n",
       "<!-- 251&#45;&gt;253 -->\r\n",
       "<g id=\"edge253\" class=\"edge\"><title>251&#45;&gt;253</title>\r\n",
       "<path fill=\"none\" stroke=\"black\" d=\"M13088.8,-88.9485C13099.9,-79.526 13111.9,-69.2731 13123,-59.8906\"/>\r\n",
       "<polygon fill=\"black\" stroke=\"black\" points=\"13125.4,-62.3842 13130.8,-53.2367 13120.9,-57.0542 13125.4,-62.3842\"/>\r\n",
       "</g>\r\n",
       "<!-- 258 -->\r\n",
       "<g id=\"node259\" class=\"node\"><title>258</title>\r\n",
       "<polygon fill=\"#7be539\" stroke=\"black\" points=\"13265.5,-565.5 13060.5,-565.5 13060.5,-512.5 13265.5,-512.5 13265.5,-565.5\"/>\r\n",
       "<text text-anchor=\"middle\" x=\"13163\" y=\"-550.3\" font-family=\"Times New Roman,serif\" font-size=\"14.00\">gini = 0.0</text>\r\n",
       "<text text-anchor=\"middle\" x=\"13163\" y=\"-535.3\" font-family=\"Times New Roman,serif\" font-size=\"14.00\">samples = 3</text>\r\n",
       "<text text-anchor=\"middle\" x=\"13163\" y=\"-520.3\" font-family=\"Times New Roman,serif\" font-size=\"14.00\">value = [0, 0, 3, 0, 0, 0, 0, 0, 0, 0]</text>\r\n",
       "</g>\r\n",
       "<!-- 257&#45;&gt;258 -->\r\n",
       "<g id=\"edge258\" class=\"edge\"><title>257&#45;&gt;258</title>\r\n",
       "<path fill=\"none\" stroke=\"black\" d=\"M13013.8,-608.884C13041,-596.291 13071.9,-582.033 13098.5,-569.769\"/>\r\n",
       "<polygon fill=\"black\" stroke=\"black\" points=\"13100.1,-572.888 13107.7,-565.52 13097.2,-566.533 13100.1,-572.888\"/>\r\n",
       "</g>\r\n",
       "<!-- 259 -->\r\n",
       "<g id=\"node260\" class=\"node\"><title>259</title>\r\n",
       "<polygon fill=\"#f6bdea\" stroke=\"black\" points=\"13603.5,-573 13398.5,-573 13398.5,-505 13603.5,-505 13603.5,-573\"/>\r\n",
       "<text text-anchor=\"middle\" x=\"13501\" y=\"-557.8\" font-family=\"Times New Roman,serif\" font-size=\"14.00\">X[50] &lt;= 12.5</text>\r\n",
       "<text text-anchor=\"middle\" x=\"13501\" y=\"-542.8\" font-family=\"Times New Roman,serif\" font-size=\"14.00\">gini = 0.568</text>\r\n",
       "<text text-anchor=\"middle\" x=\"13501\" y=\"-527.8\" font-family=\"Times New Roman,serif\" font-size=\"14.00\">samples = 9</text>\r\n",
       "<text text-anchor=\"middle\" x=\"13501\" y=\"-512.8\" font-family=\"Times New Roman,serif\" font-size=\"14.00\">value = [0, 1, 0, 3, 0, 0, 0, 0, 5, 0]</text>\r\n",
       "</g>\r\n",
       "<!-- 257&#45;&gt;259 -->\r\n",
       "<g id=\"edge259\" class=\"edge\"><title>257&#45;&gt;259</title>\r\n",
       "<path fill=\"none\" stroke=\"black\" d=\"M13044.7,-611.162C13047.8,-610.408 13050.9,-609.685 13054,-609 13086,-601.848 13266.6,-574.648 13388.2,-556.611\"/>\r\n",
       "<polygon fill=\"black\" stroke=\"black\" points=\"13388.9,-560.04 13398.3,-555.112 13387.9,-553.116 13388.9,-560.04\"/>\r\n",
       "</g>\r\n",
       "<!-- 260 -->\r\n",
       "<g id=\"node261\" class=\"node\"><title>260</title>\r\n",
       "<polygon fill=\"#7bee94\" stroke=\"black\" points=\"13603.5,-469 13398.5,-469 13398.5,-401 13603.5,-401 13603.5,-469\"/>\r\n",
       "<text text-anchor=\"middle\" x=\"13501\" y=\"-453.8\" font-family=\"Times New Roman,serif\" font-size=\"14.00\">X[21] &lt;= 13.0</text>\r\n",
       "<text text-anchor=\"middle\" x=\"13501\" y=\"-438.8\" font-family=\"Times New Roman,serif\" font-size=\"14.00\">gini = 0.375</text>\r\n",
       "<text text-anchor=\"middle\" x=\"13501\" y=\"-423.8\" font-family=\"Times New Roman,serif\" font-size=\"14.00\">samples = 4</text>\r\n",
       "<text text-anchor=\"middle\" x=\"13501\" y=\"-408.8\" font-family=\"Times New Roman,serif\" font-size=\"14.00\">value = [0, 1, 0, 3, 0, 0, 0, 0, 0, 0]</text>\r\n",
       "</g>\r\n",
       "<!-- 259&#45;&gt;260 -->\r\n",
       "<g id=\"edge260\" class=\"edge\"><title>259&#45;&gt;260</title>\r\n",
       "<path fill=\"none\" stroke=\"black\" d=\"M13501,-504.884C13501,-496.778 13501,-487.982 13501,-479.472\"/>\r\n",
       "<polygon fill=\"black\" stroke=\"black\" points=\"13504.5,-479.299 13501,-469.299 13497.5,-479.299 13504.5,-479.299\"/>\r\n",
       "</g>\r\n",
       "<!-- 263 -->\r\n",
       "<g id=\"node264\" class=\"node\"><title>263</title>\r\n",
       "<polygon fill=\"#e539c0\" stroke=\"black\" points=\"13826.5,-461.5 13621.5,-461.5 13621.5,-408.5 13826.5,-408.5 13826.5,-461.5\"/>\r\n",
       "<text text-anchor=\"middle\" x=\"13724\" y=\"-446.3\" font-family=\"Times New Roman,serif\" font-size=\"14.00\">gini = 0.0</text>\r\n",
       "<text text-anchor=\"middle\" x=\"13724\" y=\"-431.3\" font-family=\"Times New Roman,serif\" font-size=\"14.00\">samples = 5</text>\r\n",
       "<text text-anchor=\"middle\" x=\"13724\" y=\"-416.3\" font-family=\"Times New Roman,serif\" font-size=\"14.00\">value = [0, 0, 0, 0, 0, 0, 0, 0, 5, 0]</text>\r\n",
       "</g>\r\n",
       "<!-- 259&#45;&gt;263 -->\r\n",
       "<g id=\"edge263\" class=\"edge\"><title>259&#45;&gt;263</title>\r\n",
       "<path fill=\"none\" stroke=\"black\" d=\"M13573.4,-504.884C13600.9,-492.291 13632.1,-478.033 13658.9,-465.769\"/>\r\n",
       "<polygon fill=\"black\" stroke=\"black\" points=\"13660.6,-468.862 13668.2,-461.52 13657.7,-462.497 13660.6,-468.862\"/>\r\n",
       "</g>\r\n",
       "<!-- 261 -->\r\n",
       "<g id=\"node262\" class=\"node\"><title>261</title>\r\n",
       "<polygon fill=\"#39e55e\" stroke=\"black\" points=\"13603.5,-357.5 13398.5,-357.5 13398.5,-304.5 13603.5,-304.5 13603.5,-357.5\"/>\r\n",
       "<text text-anchor=\"middle\" x=\"13501\" y=\"-342.3\" font-family=\"Times New Roman,serif\" font-size=\"14.00\">gini = 0.0</text>\r\n",
       "<text text-anchor=\"middle\" x=\"13501\" y=\"-327.3\" font-family=\"Times New Roman,serif\" font-size=\"14.00\">samples = 3</text>\r\n",
       "<text text-anchor=\"middle\" x=\"13501\" y=\"-312.3\" font-family=\"Times New Roman,serif\" font-size=\"14.00\">value = [0, 0, 0, 3, 0, 0, 0, 0, 0, 0]</text>\r\n",
       "</g>\r\n",
       "<!-- 260&#45;&gt;261 -->\r\n",
       "<g id=\"edge261\" class=\"edge\"><title>260&#45;&gt;261</title>\r\n",
       "<path fill=\"none\" stroke=\"black\" d=\"M13501,-400.884C13501,-390.326 13501,-378.597 13501,-367.854\"/>\r\n",
       "<polygon fill=\"black\" stroke=\"black\" points=\"13504.5,-367.52 13501,-357.52 13497.5,-367.52 13504.5,-367.52\"/>\r\n",
       "</g>\r\n",
       "<!-- 262 -->\r\n",
       "<g id=\"node263\" class=\"node\"><title>262</title>\r\n",
       "<polygon fill=\"#e2e539\" stroke=\"black\" points=\"13826.5,-357.5 13621.5,-357.5 13621.5,-304.5 13826.5,-304.5 13826.5,-357.5\"/>\r\n",
       "<text text-anchor=\"middle\" x=\"13724\" y=\"-342.3\" font-family=\"Times New Roman,serif\" font-size=\"14.00\">gini = 0.0</text>\r\n",
       "<text text-anchor=\"middle\" x=\"13724\" y=\"-327.3\" font-family=\"Times New Roman,serif\" font-size=\"14.00\">samples = 1</text>\r\n",
       "<text text-anchor=\"middle\" x=\"13724\" y=\"-312.3\" font-family=\"Times New Roman,serif\" font-size=\"14.00\">value = [0, 1, 0, 0, 0, 0, 0, 0, 0, 0]</text>\r\n",
       "</g>\r\n",
       "<!-- 260&#45;&gt;262 -->\r\n",
       "<g id=\"edge262\" class=\"edge\"><title>260&#45;&gt;262</title>\r\n",
       "<path fill=\"none\" stroke=\"black\" d=\"M13573.4,-400.884C13600.9,-388.291 13632.1,-374.033 13658.9,-361.769\"/>\r\n",
       "<polygon fill=\"black\" stroke=\"black\" points=\"13660.6,-364.862 13668.2,-357.52 13657.7,-358.497 13660.6,-364.862\"/>\r\n",
       "</g>\r\n",
       "<!-- 265 -->\r\n",
       "<g id=\"node266\" class=\"node\"><title>265</title>\r\n",
       "<polygon fill=\"#42e6c8\" stroke=\"black\" points=\"13156,-989 12944,-989 12944,-921 13156,-921 13156,-989\"/>\r\n",
       "<text text-anchor=\"middle\" x=\"13050\" y=\"-973.8\" font-family=\"Times New Roman,serif\" font-size=\"14.00\">X[37] &lt;= 4.5</text>\r\n",
       "<text text-anchor=\"middle\" x=\"13050\" y=\"-958.8\" font-family=\"Times New Roman,serif\" font-size=\"14.00\">gini = 0.084</text>\r\n",
       "<text text-anchor=\"middle\" x=\"13050\" y=\"-943.8\" font-family=\"Times New Roman,serif\" font-size=\"14.00\">samples = 92</text>\r\n",
       "<text text-anchor=\"middle\" x=\"13050\" y=\"-928.8\" font-family=\"Times New Roman,serif\" font-size=\"14.00\">value = [0, 2, 0, 0, 88, 1, 1, 0, 0, 0]</text>\r\n",
       "</g>\r\n",
       "<!-- 264&#45;&gt;265 -->\r\n",
       "<g id=\"edge265\" class=\"edge\"><title>264&#45;&gt;265</title>\r\n",
       "<path fill=\"none\" stroke=\"black\" d=\"M13050,-1024.88C13050,-1016.78 13050,-1007.98 13050,-999.472\"/>\r\n",
       "<polygon fill=\"black\" stroke=\"black\" points=\"13053.5,-999.299 13050,-989.299 13046.5,-999.299 13053.5,-999.299\"/>\r\n",
       "</g>\r\n",
       "<!-- 272 -->\r\n",
       "<g id=\"node273\" class=\"node\"><title>272</title>\r\n",
       "<polygon fill=\"#fafbde\" stroke=\"black\" points=\"14047.5,-989 13842.5,-989 13842.5,-921 14047.5,-921 14047.5,-989\"/>\r\n",
       "<text text-anchor=\"middle\" x=\"13945\" y=\"-973.8\" font-family=\"Times New Roman,serif\" font-size=\"14.00\">X[27] &lt;= 14.0</text>\r\n",
       "<text text-anchor=\"middle\" x=\"13945\" y=\"-958.8\" font-family=\"Times New Roman,serif\" font-size=\"14.00\">gini = 0.786</text>\r\n",
       "<text text-anchor=\"middle\" x=\"13945\" y=\"-943.8\" font-family=\"Times New Roman,serif\" font-size=\"14.00\">samples = 23</text>\r\n",
       "<text text-anchor=\"middle\" x=\"13945\" y=\"-928.8\" font-family=\"Times New Roman,serif\" font-size=\"14.00\">value = [0, 8, 0, 1, 5, 1, 1, 4, 2, 1]</text>\r\n",
       "</g>\r\n",
       "<!-- 264&#45;&gt;272 -->\r\n",
       "<g id=\"edge272\" class=\"edge\"><title>264&#45;&gt;272</title>\r\n",
       "<path fill=\"none\" stroke=\"black\" d=\"M13159.3,-1045.54C13330.2,-1026.07 13658.9,-988.602 13832,-968.873\"/>\r\n",
       "<polygon fill=\"black\" stroke=\"black\" points=\"13832.7,-972.326 13842.2,-967.716 13831.9,-965.371 13832.7,-972.326\"/>\r\n",
       "</g>\r\n",
       "<!-- 266 -->\r\n",
       "<g id=\"node267\" class=\"node\"><title>266</title>\r\n",
       "<polygon fill=\"#e2e539\" stroke=\"black\" points=\"13039.5,-877.5 12834.5,-877.5 12834.5,-824.5 13039.5,-824.5 13039.5,-877.5\"/>\r\n",
       "<text text-anchor=\"middle\" x=\"12937\" y=\"-862.3\" font-family=\"Times New Roman,serif\" font-size=\"14.00\">gini = 0.0</text>\r\n",
       "<text text-anchor=\"middle\" x=\"12937\" y=\"-847.3\" font-family=\"Times New Roman,serif\" font-size=\"14.00\">samples = 2</text>\r\n",
       "<text text-anchor=\"middle\" x=\"12937\" y=\"-832.3\" font-family=\"Times New Roman,serif\" font-size=\"14.00\">value = [0, 2, 0, 0, 0, 0, 0, 0, 0, 0]</text>\r\n",
       "</g>\r\n",
       "<!-- 265&#45;&gt;266 -->\r\n",
       "<g id=\"edge266\" class=\"edge\"><title>265&#45;&gt;266</title>\r\n",
       "<path fill=\"none\" stroke=\"black\" d=\"M13013.3,-920.884C13000.4,-909.226 12985.9,-896.141 12973,-884.532\"/>\r\n",
       "<polygon fill=\"black\" stroke=\"black\" points=\"12975,-881.622 12965.3,-877.52 12970.4,-886.819 12975,-881.622\"/>\r\n",
       "</g>\r\n",
       "<!-- 267 -->\r\n",
       "<g id=\"node268\" class=\"node\"><title>267</title>\r\n",
       "<polygon fill=\"#3de6c6\" stroke=\"black\" points=\"13270,-885 13058,-885 13058,-817 13270,-817 13270,-885\"/>\r\n",
       "<text text-anchor=\"middle\" x=\"13164\" y=\"-869.8\" font-family=\"Times New Roman,serif\" font-size=\"14.00\">X[10] &lt;= 14.5</text>\r\n",
       "<text text-anchor=\"middle\" x=\"13164\" y=\"-854.8\" font-family=\"Times New Roman,serif\" font-size=\"14.00\">gini = 0.044</text>\r\n",
       "<text text-anchor=\"middle\" x=\"13164\" y=\"-839.8\" font-family=\"Times New Roman,serif\" font-size=\"14.00\">samples = 90</text>\r\n",
       "<text text-anchor=\"middle\" x=\"13164\" y=\"-824.8\" font-family=\"Times New Roman,serif\" font-size=\"14.00\">value = [0, 0, 0, 0, 88, 1, 1, 0, 0, 0]</text>\r\n",
       "</g>\r\n",
       "<!-- 265&#45;&gt;267 -->\r\n",
       "<g id=\"edge267\" class=\"edge\"><title>265&#45;&gt;267</title>\r\n",
       "<path fill=\"none\" stroke=\"black\" d=\"M13087,-920.884C13097.3,-911.709 13108.5,-901.65 13119.2,-892.123\"/>\r\n",
       "<polygon fill=\"black\" stroke=\"black\" points=\"13121.7,-894.576 13126.8,-885.299 13117,-889.359 13121.7,-894.576\"/>\r\n",
       "</g>\r\n",
       "<!-- 268 -->\r\n",
       "<g id=\"node269\" class=\"node\"><title>268</title>\r\n",
       "<polygon fill=\"#39e5c5\" stroke=\"black\" points=\"13157,-773.5 12945,-773.5 12945,-720.5 13157,-720.5 13157,-773.5\"/>\r\n",
       "<text text-anchor=\"middle\" x=\"13051\" y=\"-758.3\" font-family=\"Times New Roman,serif\" font-size=\"14.00\">gini = 0.0</text>\r\n",
       "<text text-anchor=\"middle\" x=\"13051\" y=\"-743.3\" font-family=\"Times New Roman,serif\" font-size=\"14.00\">samples = 88</text>\r\n",
       "<text text-anchor=\"middle\" x=\"13051\" y=\"-728.3\" font-family=\"Times New Roman,serif\" font-size=\"14.00\">value = [0, 0, 0, 0, 88, 0, 0, 0, 0, 0]</text>\r\n",
       "</g>\r\n",
       "<!-- 267&#45;&gt;268 -->\r\n",
       "<g id=\"edge268\" class=\"edge\"><title>267&#45;&gt;268</title>\r\n",
       "<path fill=\"none\" stroke=\"black\" d=\"M13127.3,-816.884C13114.4,-805.226 13099.9,-792.141 13087,-780.532\"/>\r\n",
       "<polygon fill=\"black\" stroke=\"black\" points=\"13089,-777.622 13079.3,-773.52 13084.4,-782.819 13089,-777.622\"/>\r\n",
       "</g>\r\n",
       "<!-- 269 -->\r\n",
       "<g id=\"node270\" class=\"node\"><title>269</title>\r\n",
       "<polygon fill=\"#ffffff\" stroke=\"black\" points=\"13380.5,-781 13175.5,-781 13175.5,-713 13380.5,-713 13380.5,-781\"/>\r\n",
       "<text text-anchor=\"middle\" x=\"13278\" y=\"-765.8\" font-family=\"Times New Roman,serif\" font-size=\"14.00\">X[49] &lt;= 1.0</text>\r\n",
       "<text text-anchor=\"middle\" x=\"13278\" y=\"-750.8\" font-family=\"Times New Roman,serif\" font-size=\"14.00\">gini = 0.5</text>\r\n",
       "<text text-anchor=\"middle\" x=\"13278\" y=\"-735.8\" font-family=\"Times New Roman,serif\" font-size=\"14.00\">samples = 2</text>\r\n",
       "<text text-anchor=\"middle\" x=\"13278\" y=\"-720.8\" font-family=\"Times New Roman,serif\" font-size=\"14.00\">value = [0, 0, 0, 0, 0, 1, 1, 0, 0, 0]</text>\r\n",
       "</g>\r\n",
       "<!-- 267&#45;&gt;269 -->\r\n",
       "<g id=\"edge269\" class=\"edge\"><title>267&#45;&gt;269</title>\r\n",
       "<path fill=\"none\" stroke=\"black\" d=\"M13201,-816.884C13211.3,-807.709 13222.5,-797.65 13233.2,-788.123\"/>\r\n",
       "<polygon fill=\"black\" stroke=\"black\" points=\"13235.7,-790.576 13240.8,-781.299 13231,-785.359 13235.7,-790.576\"/>\r\n",
       "</g>\r\n",
       "<!-- 270 -->\r\n",
       "<g id=\"node271\" class=\"node\"><title>270</title>\r\n",
       "<polygon fill=\"#399de5\" stroke=\"black\" points=\"13267.5,-669.5 13062.5,-669.5 13062.5,-616.5 13267.5,-616.5 13267.5,-669.5\"/>\r\n",
       "<text text-anchor=\"middle\" x=\"13165\" y=\"-654.3\" font-family=\"Times New Roman,serif\" font-size=\"14.00\">gini = 0.0</text>\r\n",
       "<text text-anchor=\"middle\" x=\"13165\" y=\"-639.3\" font-family=\"Times New Roman,serif\" font-size=\"14.00\">samples = 1</text>\r\n",
       "<text text-anchor=\"middle\" x=\"13165\" y=\"-624.3\" font-family=\"Times New Roman,serif\" font-size=\"14.00\">value = [0, 0, 0, 0, 0, 1, 0, 0, 0, 0]</text>\r\n",
       "</g>\r\n",
       "<!-- 269&#45;&gt;270 -->\r\n",
       "<g id=\"edge270\" class=\"edge\"><title>269&#45;&gt;270</title>\r\n",
       "<path fill=\"none\" stroke=\"black\" d=\"M13241.3,-712.884C13228.4,-701.226 13213.9,-688.141 13201,-676.532\"/>\r\n",
       "<polygon fill=\"black\" stroke=\"black\" points=\"13203,-673.622 13193.3,-669.52 13198.4,-678.819 13203,-673.622\"/>\r\n",
       "</g>\r\n",
       "<!-- 271 -->\r\n",
       "<g id=\"node272\" class=\"node\"><title>271</title>\r\n",
       "<polygon fill=\"#3c39e5\" stroke=\"black\" points=\"13490.5,-669.5 13285.5,-669.5 13285.5,-616.5 13490.5,-616.5 13490.5,-669.5\"/>\r\n",
       "<text text-anchor=\"middle\" x=\"13388\" y=\"-654.3\" font-family=\"Times New Roman,serif\" font-size=\"14.00\">gini = 0.0</text>\r\n",
       "<text text-anchor=\"middle\" x=\"13388\" y=\"-639.3\" font-family=\"Times New Roman,serif\" font-size=\"14.00\">samples = 1</text>\r\n",
       "<text text-anchor=\"middle\" x=\"13388\" y=\"-624.3\" font-family=\"Times New Roman,serif\" font-size=\"14.00\">value = [0, 0, 0, 0, 0, 0, 1, 0, 0, 0]</text>\r\n",
       "</g>\r\n",
       "<!-- 269&#45;&gt;271 -->\r\n",
       "<g id=\"edge271\" class=\"edge\"><title>269&#45;&gt;271</title>\r\n",
       "<path fill=\"none\" stroke=\"black\" d=\"M13313.7,-712.884C13326.3,-701.226 13340.4,-688.141 13352.9,-676.532\"/>\r\n",
       "<polygon fill=\"black\" stroke=\"black\" points=\"13355.5,-678.886 13360.5,-669.52 13350.8,-673.753 13355.5,-678.886\"/>\r\n",
       "</g>\r\n",
       "<!-- 273 -->\r\n",
       "<g id=\"node274\" class=\"node\"><title>273</title>\r\n",
       "<polygon fill=\"#edfdfa\" stroke=\"black\" points=\"14047.5,-885 13842.5,-885 13842.5,-817 14047.5,-817 14047.5,-885\"/>\r\n",
       "<text text-anchor=\"middle\" x=\"13945\" y=\"-869.8\" font-family=\"Times New Roman,serif\" font-size=\"14.00\">X[19] &lt;= 3.5</text>\r\n",
       "<text text-anchor=\"middle\" x=\"13945\" y=\"-854.8\" font-family=\"Times New Roman,serif\" font-size=\"14.00\">gini = 0.791</text>\r\n",
       "<text text-anchor=\"middle\" x=\"13945\" y=\"-839.8\" font-family=\"Times New Roman,serif\" font-size=\"14.00\">samples = 15</text>\r\n",
       "<text text-anchor=\"middle\" x=\"13945\" y=\"-824.8\" font-family=\"Times New Roman,serif\" font-size=\"14.00\">value = [0, 1, 0, 1, 5, 1, 1, 4, 1, 1]</text>\r\n",
       "</g>\r\n",
       "<!-- 272&#45;&gt;273 -->\r\n",
       "<g id=\"edge273\" class=\"edge\"><title>272&#45;&gt;273</title>\r\n",
       "<path fill=\"none\" stroke=\"black\" d=\"M13945,-920.884C13945,-912.778 13945,-903.982 13945,-895.472\"/>\r\n",
       "<polygon fill=\"black\" stroke=\"black\" points=\"13948.5,-895.299 13945,-885.299 13941.5,-895.299 13948.5,-895.299\"/>\r\n",
       "</g>\r\n",
       "<!-- 288 -->\r\n",
       "<g id=\"node289\" class=\"node\"><title>288</title>\r\n",
       "<polygon fill=\"#e6e955\" stroke=\"black\" points=\"14382.5,-885 14177.5,-885 14177.5,-817 14382.5,-817 14382.5,-885\"/>\r\n",
       "<text text-anchor=\"middle\" x=\"14280\" y=\"-869.8\" font-family=\"Times New Roman,serif\" font-size=\"14.00\">X[58] &lt;= 9.5</text>\r\n",
       "<text text-anchor=\"middle\" x=\"14280\" y=\"-854.8\" font-family=\"Times New Roman,serif\" font-size=\"14.00\">gini = 0.219</text>\r\n",
       "<text text-anchor=\"middle\" x=\"14280\" y=\"-839.8\" font-family=\"Times New Roman,serif\" font-size=\"14.00\">samples = 8</text>\r\n",
       "<text text-anchor=\"middle\" x=\"14280\" y=\"-824.8\" font-family=\"Times New Roman,serif\" font-size=\"14.00\">value = [0, 7, 0, 0, 0, 0, 0, 0, 1, 0]</text>\r\n",
       "</g>\r\n",
       "<!-- 272&#45;&gt;288 -->\r\n",
       "<g id=\"edge288\" class=\"edge\"><title>272&#45;&gt;288</title>\r\n",
       "<path fill=\"none\" stroke=\"black\" d=\"M14047.8,-922.703C14085.7,-911.15 14128.9,-898.003 14167.7,-886.206\"/>\r\n",
       "<polygon fill=\"black\" stroke=\"black\" points=\"14168.9,-889.498 14177.4,-883.237 14166.8,-882.802 14168.9,-889.498\"/>\r\n",
       "</g>\r\n",
       "<!-- 274 -->\r\n",
       "<g id=\"node275\" class=\"node\"><title>274</title>\r\n",
       "<polygon fill=\"#ba6aec\" stroke=\"black\" points=\"13936.5,-781 13731.5,-781 13731.5,-713 13936.5,-713 13936.5,-781\"/>\r\n",
       "<text text-anchor=\"middle\" x=\"13834\" y=\"-765.8\" font-family=\"Times New Roman,serif\" font-size=\"14.00\">X[61] &lt;= 8.5</text>\r\n",
       "<text text-anchor=\"middle\" x=\"13834\" y=\"-750.8\" font-family=\"Times New Roman,serif\" font-size=\"14.00\">gini = 0.32</text>\r\n",
       "<text text-anchor=\"middle\" x=\"13834\" y=\"-735.8\" font-family=\"Times New Roman,serif\" font-size=\"14.00\">samples = 5</text>\r\n",
       "<text text-anchor=\"middle\" x=\"13834\" y=\"-720.8\" font-family=\"Times New Roman,serif\" font-size=\"14.00\">value = [0, 0, 0, 1, 0, 0, 0, 4, 0, 0]</text>\r\n",
       "</g>\r\n",
       "<!-- 273&#45;&gt;274 -->\r\n",
       "<g id=\"edge274\" class=\"edge\"><title>273&#45;&gt;274</title>\r\n",
       "<path fill=\"none\" stroke=\"black\" d=\"M13909,-816.884C13899,-807.709 13888,-797.65 13877.7,-788.123\"/>\r\n",
       "<polygon fill=\"black\" stroke=\"black\" points=\"13880,-785.488 13870.2,-781.299 13875.2,-790.643 13880,-785.488\"/>\r\n",
       "</g>\r\n",
       "<!-- 277 -->\r\n",
       "<g id=\"node278\" class=\"node\"><title>277</title>\r\n",
       "<polygon fill=\"#a7f3e5\" stroke=\"black\" points=\"14159.5,-781 13954.5,-781 13954.5,-713 14159.5,-713 14159.5,-781\"/>\r\n",
       "<text text-anchor=\"middle\" x=\"14057\" y=\"-765.8\" font-family=\"Times New Roman,serif\" font-size=\"14.00\">X[33] &lt;= 8.5</text>\r\n",
       "<text text-anchor=\"middle\" x=\"14057\" y=\"-750.8\" font-family=\"Times New Roman,serif\" font-size=\"14.00\">gini = 0.7</text>\r\n",
       "<text text-anchor=\"middle\" x=\"14057\" y=\"-735.8\" font-family=\"Times New Roman,serif\" font-size=\"14.00\">samples = 10</text>\r\n",
       "<text text-anchor=\"middle\" x=\"14057\" y=\"-720.8\" font-family=\"Times New Roman,serif\" font-size=\"14.00\">value = [0, 1, 0, 0, 5, 1, 1, 0, 1, 1]</text>\r\n",
       "</g>\r\n",
       "<!-- 273&#45;&gt;277 -->\r\n",
       "<g id=\"edge277\" class=\"edge\"><title>273&#45;&gt;277</title>\r\n",
       "<path fill=\"none\" stroke=\"black\" d=\"M13981.4,-816.884C13991.4,-807.709 14002.5,-797.65 14012.9,-788.123\"/>\r\n",
       "<polygon fill=\"black\" stroke=\"black\" points=\"14015.4,-790.62 14020.4,-781.299 14010.7,-785.445 14015.4,-790.62\"/>\r\n",
       "</g>\r\n",
       "<!-- 275 -->\r\n",
       "<g id=\"node276\" class=\"node\"><title>275</title>\r\n",
       "<polygon fill=\"#a339e5\" stroke=\"black\" points=\"13713.5,-669.5 13508.5,-669.5 13508.5,-616.5 13713.5,-616.5 13713.5,-669.5\"/>\r\n",
       "<text text-anchor=\"middle\" x=\"13611\" y=\"-654.3\" font-family=\"Times New Roman,serif\" font-size=\"14.00\">gini = 0.0</text>\r\n",
       "<text text-anchor=\"middle\" x=\"13611\" y=\"-639.3\" font-family=\"Times New Roman,serif\" font-size=\"14.00\">samples = 4</text>\r\n",
       "<text text-anchor=\"middle\" x=\"13611\" y=\"-624.3\" font-family=\"Times New Roman,serif\" font-size=\"14.00\">value = [0, 0, 0, 0, 0, 0, 0, 4, 0, 0]</text>\r\n",
       "</g>\r\n",
       "<!-- 274&#45;&gt;275 -->\r\n",
       "<g id=\"edge275\" class=\"edge\"><title>274&#45;&gt;275</title>\r\n",
       "<path fill=\"none\" stroke=\"black\" d=\"M13761.6,-712.884C13734.1,-700.291 13702.9,-686.033 13676.1,-673.769\"/>\r\n",
       "<polygon fill=\"black\" stroke=\"black\" points=\"13677.3,-670.497 13666.8,-669.52 13674.4,-676.862 13677.3,-670.497\"/>\r\n",
       "</g>\r\n",
       "<!-- 276 -->\r\n",
       "<g id=\"node277\" class=\"node\"><title>276</title>\r\n",
       "<polygon fill=\"#39e55e\" stroke=\"black\" points=\"13936.5,-669.5 13731.5,-669.5 13731.5,-616.5 13936.5,-616.5 13936.5,-669.5\"/>\r\n",
       "<text text-anchor=\"middle\" x=\"13834\" y=\"-654.3\" font-family=\"Times New Roman,serif\" font-size=\"14.00\">gini = 0.0</text>\r\n",
       "<text text-anchor=\"middle\" x=\"13834\" y=\"-639.3\" font-family=\"Times New Roman,serif\" font-size=\"14.00\">samples = 1</text>\r\n",
       "<text text-anchor=\"middle\" x=\"13834\" y=\"-624.3\" font-family=\"Times New Roman,serif\" font-size=\"14.00\">value = [0, 0, 0, 1, 0, 0, 0, 0, 0, 0]</text>\r\n",
       "</g>\r\n",
       "<!-- 274&#45;&gt;276 -->\r\n",
       "<g id=\"edge276\" class=\"edge\"><title>274&#45;&gt;276</title>\r\n",
       "<path fill=\"none\" stroke=\"black\" d=\"M13834,-712.884C13834,-702.326 13834,-690.597 13834,-679.854\"/>\r\n",
       "<polygon fill=\"black\" stroke=\"black\" points=\"13837.5,-679.52 13834,-669.52 13830.5,-679.52 13837.5,-679.52\"/>\r\n",
       "</g>\r\n",
       "<!-- 278 -->\r\n",
       "<g id=\"node279\" class=\"node\"><title>278</title>\r\n",
       "<polygon fill=\"#ffffff\" stroke=\"black\" points=\"14159.5,-677 13954.5,-677 13954.5,-609 14159.5,-609 14159.5,-677\"/>\r\n",
       "<text text-anchor=\"middle\" x=\"14057\" y=\"-661.8\" font-family=\"Times New Roman,serif\" font-size=\"14.00\">X[52] &lt;= 9.0</text>\r\n",
       "<text text-anchor=\"middle\" x=\"14057\" y=\"-646.8\" font-family=\"Times New Roman,serif\" font-size=\"14.00\">gini = 0.8</text>\r\n",
       "<text text-anchor=\"middle\" x=\"14057\" y=\"-631.8\" font-family=\"Times New Roman,serif\" font-size=\"14.00\">samples = 5</text>\r\n",
       "<text text-anchor=\"middle\" x=\"14057\" y=\"-616.8\" font-family=\"Times New Roman,serif\" font-size=\"14.00\">value = [0, 1, 0, 0, 0, 1, 1, 0, 1, 1]</text>\r\n",
       "</g>\r\n",
       "<!-- 277&#45;&gt;278 -->\r\n",
       "<g id=\"edge278\" class=\"edge\"><title>277&#45;&gt;278</title>\r\n",
       "<path fill=\"none\" stroke=\"black\" d=\"M14057,-712.884C14057,-704.778 14057,-695.982 14057,-687.472\"/>\r\n",
       "<polygon fill=\"black\" stroke=\"black\" points=\"14060.5,-687.299 14057,-677.299 14053.5,-687.299 14060.5,-687.299\"/>\r\n",
       "</g>\r\n",
       "<!-- 287 -->\r\n",
       "<g id=\"node288\" class=\"node\"><title>287</title>\r\n",
       "<polygon fill=\"#39e5c5\" stroke=\"black\" points=\"14382.5,-669.5 14177.5,-669.5 14177.5,-616.5 14382.5,-616.5 14382.5,-669.5\"/>\r\n",
       "<text text-anchor=\"middle\" x=\"14280\" y=\"-654.3\" font-family=\"Times New Roman,serif\" font-size=\"14.00\">gini = 0.0</text>\r\n",
       "<text text-anchor=\"middle\" x=\"14280\" y=\"-639.3\" font-family=\"Times New Roman,serif\" font-size=\"14.00\">samples = 5</text>\r\n",
       "<text text-anchor=\"middle\" x=\"14280\" y=\"-624.3\" font-family=\"Times New Roman,serif\" font-size=\"14.00\">value = [0, 0, 0, 0, 5, 0, 0, 0, 0, 0]</text>\r\n",
       "</g>\r\n",
       "<!-- 277&#45;&gt;287 -->\r\n",
       "<g id=\"edge287\" class=\"edge\"><title>277&#45;&gt;287</title>\r\n",
       "<path fill=\"none\" stroke=\"black\" d=\"M14129.4,-712.884C14156.9,-700.291 14188.1,-686.033 14214.9,-673.769\"/>\r\n",
       "<polygon fill=\"black\" stroke=\"black\" points=\"14216.6,-676.862 14224.2,-669.52 14213.7,-670.497 14216.6,-676.862\"/>\r\n",
       "</g>\r\n",
       "<!-- 279 -->\r\n",
       "<g id=\"node280\" class=\"node\"><title>279</title>\r\n",
       "<polygon fill=\"#e53958\" stroke=\"black\" points=\"14048.5,-565.5 13843.5,-565.5 13843.5,-512.5 14048.5,-512.5 14048.5,-565.5\"/>\r\n",
       "<text text-anchor=\"middle\" x=\"13946\" y=\"-550.3\" font-family=\"Times New Roman,serif\" font-size=\"14.00\">gini = 0.0</text>\r\n",
       "<text text-anchor=\"middle\" x=\"13946\" y=\"-535.3\" font-family=\"Times New Roman,serif\" font-size=\"14.00\">samples = 1</text>\r\n",
       "<text text-anchor=\"middle\" x=\"13946\" y=\"-520.3\" font-family=\"Times New Roman,serif\" font-size=\"14.00\">value = [0, 0, 0, 0, 0, 0, 0, 0, 0, 1]</text>\r\n",
       "</g>\r\n",
       "<!-- 278&#45;&gt;279 -->\r\n",
       "<g id=\"edge279\" class=\"edge\"><title>278&#45;&gt;279</title>\r\n",
       "<path fill=\"none\" stroke=\"black\" d=\"M14021,-608.884C14008.3,-597.226 13994,-584.141 13981.4,-572.532\"/>\r\n",
       "<polygon fill=\"black\" stroke=\"black\" points=\"13983.5,-569.709 13973.8,-565.52 13978.8,-574.863 13983.5,-569.709\"/>\r\n",
       "</g>\r\n",
       "<!-- 280 -->\r\n",
       "<g id=\"node281\" class=\"node\"><title>280</title>\r\n",
       "<polygon fill=\"#ffffff\" stroke=\"black\" points=\"14271.5,-573 14066.5,-573 14066.5,-505 14271.5,-505 14271.5,-573\"/>\r\n",
       "<text text-anchor=\"middle\" x=\"14169\" y=\"-557.8\" font-family=\"Times New Roman,serif\" font-size=\"14.00\">X[59] &lt;= 5.0</text>\r\n",
       "<text text-anchor=\"middle\" x=\"14169\" y=\"-542.8\" font-family=\"Times New Roman,serif\" font-size=\"14.00\">gini = 0.75</text>\r\n",
       "<text text-anchor=\"middle\" x=\"14169\" y=\"-527.8\" font-family=\"Times New Roman,serif\" font-size=\"14.00\">samples = 4</text>\r\n",
       "<text text-anchor=\"middle\" x=\"14169\" y=\"-512.8\" font-family=\"Times New Roman,serif\" font-size=\"14.00\">value = [0, 1, 0, 0, 0, 1, 1, 0, 1, 0]</text>\r\n",
       "</g>\r\n",
       "<!-- 278&#45;&gt;280 -->\r\n",
       "<g id=\"edge280\" class=\"edge\"><title>278&#45;&gt;280</title>\r\n",
       "<path fill=\"none\" stroke=\"black\" d=\"M14093.4,-608.884C14103.4,-599.709 14114.5,-589.65 14124.9,-580.123\"/>\r\n",
       "<polygon fill=\"black\" stroke=\"black\" points=\"14127.4,-582.62 14132.4,-573.299 14122.7,-577.445 14127.4,-582.62\"/>\r\n",
       "</g>\r\n",
       "<!-- 281 -->\r\n",
       "<g id=\"node282\" class=\"node\"><title>281</title>\r\n",
       "<polygon fill=\"#e2e539\" stroke=\"black\" points=\"14049.5,-461.5 13844.5,-461.5 13844.5,-408.5 14049.5,-408.5 14049.5,-461.5\"/>\r\n",
       "<text text-anchor=\"middle\" x=\"13947\" y=\"-446.3\" font-family=\"Times New Roman,serif\" font-size=\"14.00\">gini = 0.0</text>\r\n",
       "<text text-anchor=\"middle\" x=\"13947\" y=\"-431.3\" font-family=\"Times New Roman,serif\" font-size=\"14.00\">samples = 1</text>\r\n",
       "<text text-anchor=\"middle\" x=\"13947\" y=\"-416.3\" font-family=\"Times New Roman,serif\" font-size=\"14.00\">value = [0, 1, 0, 0, 0, 0, 0, 0, 0, 0]</text>\r\n",
       "</g>\r\n",
       "<!-- 280&#45;&gt;281 -->\r\n",
       "<g id=\"edge281\" class=\"edge\"><title>280&#45;&gt;281</title>\r\n",
       "<path fill=\"none\" stroke=\"black\" d=\"M14096.9,-504.884C14069.5,-492.291 14038.5,-478.033 14011.8,-465.769\"/>\r\n",
       "<polygon fill=\"black\" stroke=\"black\" points=\"14013.1,-462.515 14002.5,-461.52 14010.2,-468.875 14013.1,-462.515\"/>\r\n",
       "</g>\r\n",
       "<!-- 282 -->\r\n",
       "<g id=\"node283\" class=\"node\"><title>282</title>\r\n",
       "<polygon fill=\"#ffffff\" stroke=\"black\" points=\"14272.5,-469 14067.5,-469 14067.5,-401 14272.5,-401 14272.5,-469\"/>\r\n",
       "<text text-anchor=\"middle\" x=\"14170\" y=\"-453.8\" font-family=\"Times New Roman,serif\" font-size=\"14.00\">X[29] &lt;= 12.5</text>\r\n",
       "<text text-anchor=\"middle\" x=\"14170\" y=\"-438.8\" font-family=\"Times New Roman,serif\" font-size=\"14.00\">gini = 0.667</text>\r\n",
       "<text text-anchor=\"middle\" x=\"14170\" y=\"-423.8\" font-family=\"Times New Roman,serif\" font-size=\"14.00\">samples = 3</text>\r\n",
       "<text text-anchor=\"middle\" x=\"14170\" y=\"-408.8\" font-family=\"Times New Roman,serif\" font-size=\"14.00\">value = [0, 0, 0, 0, 0, 1, 1, 0, 1, 0]</text>\r\n",
       "</g>\r\n",
       "<!-- 280&#45;&gt;282 -->\r\n",
       "<g id=\"edge282\" class=\"edge\"><title>280&#45;&gt;282</title>\r\n",
       "<path fill=\"none\" stroke=\"black\" d=\"M14169.3,-504.884C14169.4,-496.778 14169.5,-487.982 14169.6,-479.472\"/>\r\n",
       "<polygon fill=\"black\" stroke=\"black\" points=\"14173.1,-479.333 14169.7,-469.299 14166.1,-479.265 14173.1,-479.333\"/>\r\n",
       "</g>\r\n",
       "<!-- 283 -->\r\n",
       "<g id=\"node284\" class=\"node\"><title>283</title>\r\n",
       "<polygon fill=\"#3c39e5\" stroke=\"black\" points=\"14160.5,-357.5 13955.5,-357.5 13955.5,-304.5 14160.5,-304.5 14160.5,-357.5\"/>\r\n",
       "<text text-anchor=\"middle\" x=\"14058\" y=\"-342.3\" font-family=\"Times New Roman,serif\" font-size=\"14.00\">gini = 0.0</text>\r\n",
       "<text text-anchor=\"middle\" x=\"14058\" y=\"-327.3\" font-family=\"Times New Roman,serif\" font-size=\"14.00\">samples = 1</text>\r\n",
       "<text text-anchor=\"middle\" x=\"14058\" y=\"-312.3\" font-family=\"Times New Roman,serif\" font-size=\"14.00\">value = [0, 0, 0, 0, 0, 0, 1, 0, 0, 0]</text>\r\n",
       "</g>\r\n",
       "<!-- 282&#45;&gt;283 -->\r\n",
       "<g id=\"edge283\" class=\"edge\"><title>282&#45;&gt;283</title>\r\n",
       "<path fill=\"none\" stroke=\"black\" d=\"M14133.6,-400.884C14120.8,-389.226 14106.5,-376.141 14093.7,-364.532\"/>\r\n",
       "<polygon fill=\"black\" stroke=\"black\" points=\"14095.8,-361.666 14086,-357.52 14091.1,-366.841 14095.8,-361.666\"/>\r\n",
       "</g>\r\n",
       "<!-- 284 -->\r\n",
       "<g id=\"node285\" class=\"node\"><title>284</title>\r\n",
       "<polygon fill=\"#ffffff\" stroke=\"black\" points=\"14383.5,-365 14178.5,-365 14178.5,-297 14383.5,-297 14383.5,-365\"/>\r\n",
       "<text text-anchor=\"middle\" x=\"14281\" y=\"-349.8\" font-family=\"Times New Roman,serif\" font-size=\"14.00\">X[38] &lt;= 3.0</text>\r\n",
       "<text text-anchor=\"middle\" x=\"14281\" y=\"-334.8\" font-family=\"Times New Roman,serif\" font-size=\"14.00\">gini = 0.5</text>\r\n",
       "<text text-anchor=\"middle\" x=\"14281\" y=\"-319.8\" font-family=\"Times New Roman,serif\" font-size=\"14.00\">samples = 2</text>\r\n",
       "<text text-anchor=\"middle\" x=\"14281\" y=\"-304.8\" font-family=\"Times New Roman,serif\" font-size=\"14.00\">value = [0, 0, 0, 0, 0, 1, 0, 0, 1, 0]</text>\r\n",
       "</g>\r\n",
       "<!-- 282&#45;&gt;284 -->\r\n",
       "<g id=\"edge284\" class=\"edge\"><title>282&#45;&gt;284</title>\r\n",
       "<path fill=\"none\" stroke=\"black\" d=\"M14206,-400.884C14216,-391.709 14227,-381.65 14237.3,-372.123\"/>\r\n",
       "<polygon fill=\"black\" stroke=\"black\" points=\"14239.8,-374.643 14244.8,-365.299 14235,-369.488 14239.8,-374.643\"/>\r\n",
       "</g>\r\n",
       "<!-- 285 -->\r\n",
       "<g id=\"node286\" class=\"node\"><title>285</title>\r\n",
       "<polygon fill=\"#e539c0\" stroke=\"black\" points=\"14271.5,-253.5 14066.5,-253.5 14066.5,-200.5 14271.5,-200.5 14271.5,-253.5\"/>\r\n",
       "<text text-anchor=\"middle\" x=\"14169\" y=\"-238.3\" font-family=\"Times New Roman,serif\" font-size=\"14.00\">gini = 0.0</text>\r\n",
       "<text text-anchor=\"middle\" x=\"14169\" y=\"-223.3\" font-family=\"Times New Roman,serif\" font-size=\"14.00\">samples = 1</text>\r\n",
       "<text text-anchor=\"middle\" x=\"14169\" y=\"-208.3\" font-family=\"Times New Roman,serif\" font-size=\"14.00\">value = [0, 0, 0, 0, 0, 0, 0, 0, 1, 0]</text>\r\n",
       "</g>\r\n",
       "<!-- 284&#45;&gt;285 -->\r\n",
       "<g id=\"edge285\" class=\"edge\"><title>284&#45;&gt;285</title>\r\n",
       "<path fill=\"none\" stroke=\"black\" d=\"M14244.6,-296.884C14231.8,-285.226 14217.5,-272.141 14204.7,-260.532\"/>\r\n",
       "<polygon fill=\"black\" stroke=\"black\" points=\"14206.8,-257.666 14197,-253.52 14202.1,-262.841 14206.8,-257.666\"/>\r\n",
       "</g>\r\n",
       "<!-- 286 -->\r\n",
       "<g id=\"node287\" class=\"node\"><title>286</title>\r\n",
       "<polygon fill=\"#399de5\" stroke=\"black\" points=\"14494.5,-253.5 14289.5,-253.5 14289.5,-200.5 14494.5,-200.5 14494.5,-253.5\"/>\r\n",
       "<text text-anchor=\"middle\" x=\"14392\" y=\"-238.3\" font-family=\"Times New Roman,serif\" font-size=\"14.00\">gini = 0.0</text>\r\n",
       "<text text-anchor=\"middle\" x=\"14392\" y=\"-223.3\" font-family=\"Times New Roman,serif\" font-size=\"14.00\">samples = 1</text>\r\n",
       "<text text-anchor=\"middle\" x=\"14392\" y=\"-208.3\" font-family=\"Times New Roman,serif\" font-size=\"14.00\">value = [0, 0, 0, 0, 0, 1, 0, 0, 0, 0]</text>\r\n",
       "</g>\r\n",
       "<!-- 284&#45;&gt;286 -->\r\n",
       "<g id=\"edge286\" class=\"edge\"><title>284&#45;&gt;286</title>\r\n",
       "<path fill=\"none\" stroke=\"black\" d=\"M14317,-296.884C14329.7,-285.226 14344,-272.141 14356.6,-260.532\"/>\r\n",
       "<polygon fill=\"black\" stroke=\"black\" points=\"14359.2,-262.863 14364.2,-253.52 14354.5,-257.709 14359.2,-262.863\"/>\r\n",
       "</g>\r\n",
       "<!-- 289 -->\r\n",
       "<g id=\"node290\" class=\"node\"><title>289</title>\r\n",
       "<polygon fill=\"#e2e539\" stroke=\"black\" points=\"14382.5,-773.5 14177.5,-773.5 14177.5,-720.5 14382.5,-720.5 14382.5,-773.5\"/>\r\n",
       "<text text-anchor=\"middle\" x=\"14280\" y=\"-758.3\" font-family=\"Times New Roman,serif\" font-size=\"14.00\">gini = 0.0</text>\r\n",
       "<text text-anchor=\"middle\" x=\"14280\" y=\"-743.3\" font-family=\"Times New Roman,serif\" font-size=\"14.00\">samples = 7</text>\r\n",
       "<text text-anchor=\"middle\" x=\"14280\" y=\"-728.3\" font-family=\"Times New Roman,serif\" font-size=\"14.00\">value = [0, 7, 0, 0, 0, 0, 0, 0, 0, 0]</text>\r\n",
       "</g>\r\n",
       "<!-- 288&#45;&gt;289 -->\r\n",
       "<g id=\"edge289\" class=\"edge\"><title>288&#45;&gt;289</title>\r\n",
       "<path fill=\"none\" stroke=\"black\" d=\"M14280,-816.884C14280,-806.326 14280,-794.597 14280,-783.854\"/>\r\n",
       "<polygon fill=\"black\" stroke=\"black\" points=\"14283.5,-783.52 14280,-773.52 14276.5,-783.52 14283.5,-783.52\"/>\r\n",
       "</g>\r\n",
       "<!-- 290 -->\r\n",
       "<g id=\"node291\" class=\"node\"><title>290</title>\r\n",
       "<polygon fill=\"#e539c0\" stroke=\"black\" points=\"14605.5,-773.5 14400.5,-773.5 14400.5,-720.5 14605.5,-720.5 14605.5,-773.5\"/>\r\n",
       "<text text-anchor=\"middle\" x=\"14503\" y=\"-758.3\" font-family=\"Times New Roman,serif\" font-size=\"14.00\">gini = 0.0</text>\r\n",
       "<text text-anchor=\"middle\" x=\"14503\" y=\"-743.3\" font-family=\"Times New Roman,serif\" font-size=\"14.00\">samples = 1</text>\r\n",
       "<text text-anchor=\"middle\" x=\"14503\" y=\"-728.3\" font-family=\"Times New Roman,serif\" font-size=\"14.00\">value = [0, 0, 0, 0, 0, 0, 0, 0, 1, 0]</text>\r\n",
       "</g>\r\n",
       "<!-- 288&#45;&gt;290 -->\r\n",
       "<g id=\"edge290\" class=\"edge\"><title>288&#45;&gt;290</title>\r\n",
       "<path fill=\"none\" stroke=\"black\" d=\"M14352.4,-816.884C14379.9,-804.291 14411.1,-790.033 14437.9,-777.769\"/>\r\n",
       "<polygon fill=\"black\" stroke=\"black\" points=\"14439.6,-780.862 14447.2,-773.52 14436.7,-774.497 14439.6,-780.862\"/>\r\n",
       "</g>\r\n",
       "</g>\r\n",
       "</svg>\r\n"
      ],
      "text/plain": [
       "<graphviz.files.Source at 0x24cf237a070>"
      ]
     },
     "execution_count": 31,
     "metadata": {},
     "output_type": "execute_result"
    }
   ],
   "source": [
    "import graphviz\n",
    " \n",
    "with open(\"tree.dot\") as f:\n",
    "    dot_graph = f.read()\n",
    "graphviz.Source(dot_graph)"
   ]
  },
  {
   "cell_type": "markdown",
   "metadata": {
    "id": "8UjYa5NqFoKT"
   },
   "source": [
    "나무의 깊이가 14다! 모형이 너무 복잡하다 보니 나무 전체를 화면에서 볼 수도 없다.\n",
    "\n",
    "깊이를 줄여서 다시 만들어보자. 물론 성능은 떨어질 것이다."
   ]
  },
  {
   "cell_type": "code",
   "execution_count": 32,
   "metadata": {
    "id": "4jsBMjqtIQgW"
   },
   "outputs": [
    {
     "name": "stdout",
     "output_type": "stream",
     "text": [
      "0.475\n"
     ]
    }
   ],
   "source": [
    "dtree2 = tree.DecisionTreeClassifier(max_depth = 3)\n",
    "dtree2.fit(X_train, y_train)\n",
    "dt_pred2 = dtree2.predict(X_test)\n",
    "print(accuracy_score(y_test, dt_pred2))"
   ]
  },
  {
   "cell_type": "code",
   "execution_count": 33,
   "metadata": {},
   "outputs": [
    {
     "name": "stdout",
     "output_type": "stream",
     "text": [
      "0.6611111111111111\n"
     ]
    }
   ],
   "source": [
    "dtree3 = tree.DecisionTreeClassifier(max_depth = 5)\n",
    "dtree3.fit(X_train, y_train)\n",
    "dt_pred3 = dtree3.predict(X_test)\n",
    "print(accuracy_score(y_test, dt_pred3))"
   ]
  },
  {
   "cell_type": "markdown",
   "metadata": {
    "id": "ZEVKkXzDJtI4"
   },
   "source": [
    "**퀴즈 1:**  mnist 데이터의 feature 변수는 모두 몇 개인가? 그 가운데 어떤 변수가 중요할 것 같은가? "
   ]
  },
  {
   "cell_type": "code",
   "execution_count": 34,
   "metadata": {
    "id": "--6tiMbPGhhd"
   },
   "outputs": [
    {
     "data": {
      "image/png": "[encoded data removed]",
      "text/plain": [
       "<Figure size 288x288 with 1 Axes>"
      ]
     },
     "metadata": {
      "needs_background": "light"
     },
     "output_type": "display_data"
    }
   ],
   "source": [
    "plt.matshow(mnist.images[0], cmap = 'gray_r')\n",
    "plt.show()"
   ]
  },
  {
   "cell_type": "markdown",
   "metadata": {
    "id": "KEeRKJpCbBX0"
   },
   "source": [
    "**퀴즈 2** 아래 출력에는 어떤 패턴이 보이는가? 이유는 무엇인가?"
   ]
  },
  {
   "cell_type": "code",
   "execution_count": 35,
   "metadata": {
    "id": "nE-NmLgnLkVM",
    "scrolled": true
   },
   "outputs": [
    {
     "name": "stdout",
     "output_type": "stream",
     "text": [
      "0 0\n",
      "1 212\n",
      "2 1084\n",
      "3 1394\n",
      "4 1411\n",
      "5 1042\n",
      "6 339\n",
      "7 40\n",
      "8 5\n",
      "9 576\n",
      "10 1304\n",
      "11 1428\n",
      "12 1391\n",
      "13 1127\n",
      "14 482\n",
      "15 41\n",
      "16 3\n",
      "17 720\n",
      "18 1252\n",
      "19 1163\n",
      "20 1072\n",
      "21 1042\n",
      "22 516\n",
      "23 27\n",
      "24 1\n",
      "25 728\n",
      "26 1183\n",
      "27 1231\n",
      "28 1181\n",
      "29 1148\n",
      "30 577\n",
      "31 4\n",
      "32 0\n",
      "33 613\n",
      "34 1080\n",
      "35 1147\n",
      "36 1216\n",
      "37 1177\n",
      "38 764\n",
      "39 0\n",
      "40 7\n",
      "41 512\n",
      "42 930\n",
      "43 995\n",
      "44 1091\n",
      "45 1158\n",
      "46 763\n",
      "47 20\n",
      "48 4\n",
      "49 328\n",
      "50 1142\n",
      "51 1329\n",
      "52 1338\n",
      "53 1146\n",
      "54 733\n",
      "55 96\n",
      "56 1\n",
      "57 169\n",
      "58 1087\n",
      "59 1377\n",
      "60 1349\n",
      "61 1058\n",
      "62 499\n",
      "63 90\n"
     ]
    }
   ],
   "source": [
    "for k in range(64):\n",
    "    num = (X_train[:,k]>0).sum()\n",
    "    print(k, num)"
   ]
  },
  {
   "cell_type": "code",
   "execution_count": 36,
   "metadata": {
    "id": "yV1Roeg1JRyJ",
    "scrolled": true
   },
   "outputs": [
    {
     "data": {
      "image/svg+xml": [
       "<?xml version=\"1.0\" encoding=\"UTF-8\" standalone=\"no\"?>\r\n",
       "<!DOCTYPE svg PUBLIC \"-//W3C//DTD SVG 1.1//EN\"\r\n",
       " \"http://www.w3.org/Graphics/SVG/1.1/DTD/svg11.dtd\">\r\n",
       "<!-- Generated by graphviz version 2.38.0 (20140413.2041)\r\n",
       " -->\r\n",
       "<!-- Title: Tree Pages: 1 -->\r\n",
       "<svg width=\"1960pt\" height=\"373pt\"\r\n",
       " viewBox=\"0.00 0.00 1959.50 373.00\" xmlns=\"http://www.w3.org/2000/svg\" xmlns:xlink=\"http://www.w3.org/1999/xlink\">\r\n",
       "<g id=\"graph0\" class=\"graph\" transform=\"scale(1 1) rotate(0) translate(4 369)\">\r\n",
       "<title>Tree</title>\r\n",
       "<polygon fill=\"white\" stroke=\"none\" points=\"-4,4 -4,-369 1955.5,-369 1955.5,4 -4,4\"/>\r\n",
       "<!-- 0 -->\r\n",
       "<g id=\"node1\" class=\"node\"><title>0</title>\r\n",
       "<polygon fill=\"#ffffff\" stroke=\"black\" points=\"1086,-365 746,-365 746,-297 1086,-297 1086,-365\"/>\r\n",
       "<text text-anchor=\"middle\" x=\"916\" y=\"-349.8\" font-family=\"Times New Roman,serif\" font-size=\"14.00\">X[36] &lt;= 0.5</text>\r\n",
       "<text text-anchor=\"middle\" x=\"916\" y=\"-334.8\" font-family=\"Times New Roman,serif\" font-size=\"14.00\">gini = 0.9</text>\r\n",
       "<text text-anchor=\"middle\" x=\"916\" y=\"-319.8\" font-family=\"Times New Roman,serif\" font-size=\"14.00\">samples = 1437</text>\r\n",
       "<text text-anchor=\"middle\" x=\"916\" y=\"-304.8\" font-family=\"Times New Roman,serif\" font-size=\"14.00\">value = [143, 147, 141, 146, 149, 136, 151, 137, 136, 151]</text>\r\n",
       "</g>\r\n",
       "<!-- 1 -->\r\n",
       "<g id=\"node2\" class=\"node\"><title>1</title>\r\n",
       "<polygon fill=\"#f1b991\" stroke=\"black\" points=\"841,-261 609,-261 609,-193 841,-193 841,-261\"/>\r\n",
       "<text text-anchor=\"middle\" x=\"725\" y=\"-245.8\" font-family=\"Times New Roman,serif\" font-size=\"14.00\">X[42] &lt;= 5.0</text>\r\n",
       "<text text-anchor=\"middle\" x=\"725\" y=\"-230.8\" font-family=\"Times New Roman,serif\" font-size=\"14.00\">gini = 0.547</text>\r\n",
       "<text text-anchor=\"middle\" x=\"725\" y=\"-215.8\" font-family=\"Times New Roman,serif\" font-size=\"14.00\">samples = 221</text>\r\n",
       "<text text-anchor=\"middle\" x=\"725\" y=\"-200.8\" font-family=\"Times New Roman,serif\" font-size=\"14.00\">value = [141, 0, 3, 1, 6, 20, 5, 0, 3, 42]</text>\r\n",
       "</g>\r\n",
       "<!-- 0&#45;&gt;1 -->\r\n",
       "<g id=\"edge1\" class=\"edge\"><title>0&#45;&gt;1</title>\r\n",
       "<path fill=\"none\" stroke=\"black\" d=\"M853.988,-296.884C835.463,-286.991 815.013,-276.07 795.961,-265.895\"/>\r\n",
       "<polygon fill=\"black\" stroke=\"black\" points=\"797.497,-262.748 787.028,-261.125 794.2,-268.923 797.497,-262.748\"/>\r\n",
       "<text text-anchor=\"middle\" x=\"794.294\" y=\"-281.346\" font-family=\"Times New Roman,serif\" font-size=\"14.00\">True</text>\r\n",
       "</g>\r\n",
       "<!-- 8 -->\r\n",
       "<g id=\"node9\" class=\"node\"><title>8</title>\r\n",
       "<polygon fill=\"#ffffff\" stroke=\"black\" points=\"1270,-261 944,-261 944,-193 1270,-193 1270,-261\"/>\r\n",
       "<text text-anchor=\"middle\" x=\"1107\" y=\"-245.8\" font-family=\"Times New Roman,serif\" font-size=\"14.00\">X[21] &lt;= 0.5</text>\r\n",
       "<text text-anchor=\"middle\" x=\"1107\" y=\"-230.8\" font-family=\"Times New Roman,serif\" font-size=\"14.00\">gini = 0.888</text>\r\n",
       "<text text-anchor=\"middle\" x=\"1107\" y=\"-215.8\" font-family=\"Times New Roman,serif\" font-size=\"14.00\">samples = 1216</text>\r\n",
       "<text text-anchor=\"middle\" x=\"1107\" y=\"-200.8\" font-family=\"Times New Roman,serif\" font-size=\"14.00\">value = [2, 147, 138, 145, 143, 116, 146, 137, 133, 109]</text>\r\n",
       "</g>\r\n",
       "<!-- 0&#45;&gt;8 -->\r\n",
       "<g id=\"edge8\" class=\"edge\"><title>0&#45;&gt;8</title>\r\n",
       "<path fill=\"none\" stroke=\"black\" d=\"M978.012,-296.884C996.537,-286.991 1016.99,-276.07 1036.04,-265.895\"/>\r\n",
       "<polygon fill=\"black\" stroke=\"black\" points=\"1037.8,-268.923 1044.97,-261.125 1034.5,-262.748 1037.8,-268.923\"/>\r\n",
       "<text text-anchor=\"middle\" x=\"1037.71\" y=\"-281.346\" font-family=\"Times New Roman,serif\" font-size=\"14.00\">False</text>\r\n",
       "</g>\r\n",
       "<!-- 2 -->\r\n",
       "<g id=\"node3\" class=\"node\"><title>2</title>\r\n",
       "<polygon fill=\"#f0899c\" stroke=\"black\" points=\"445,-157 227,-157 227,-89 445,-89 445,-157\"/>\r\n",
       "<text text-anchor=\"middle\" x=\"336\" y=\"-141.8\" font-family=\"Times New Roman,serif\" font-size=\"14.00\">X[21] &lt;= 6.5</text>\r\n",
       "<text text-anchor=\"middle\" x=\"336\" y=\"-126.8\" font-family=\"Times New Roman,serif\" font-size=\"14.00\">gini = 0.424</text>\r\n",
       "<text text-anchor=\"middle\" x=\"336\" y=\"-111.8\" font-family=\"Times New Roman,serif\" font-size=\"14.00\">samples = 58</text>\r\n",
       "<text text-anchor=\"middle\" x=\"336\" y=\"-96.8\" font-family=\"Times New Roman,serif\" font-size=\"14.00\">value = [0, 0, 0, 1, 0, 16, 0, 0, 0, 41]</text>\r\n",
       "</g>\r\n",
       "<!-- 1&#45;&gt;2 -->\r\n",
       "<g id=\"edge2\" class=\"edge\"><title>1&#45;&gt;2</title>\r\n",
       "<path fill=\"none\" stroke=\"black\" d=\"M608.814,-195.535C560.327,-182.821 504.045,-168.063 455.238,-155.266\"/>\r\n",
       "<polygon fill=\"black\" stroke=\"black\" points=\"455.823,-151.801 445.262,-152.65 454.048,-158.572 455.823,-151.801\"/>\r\n",
       "</g>\r\n",
       "<!-- 5 -->\r\n",
       "<g id=\"node6\" class=\"node\"><title>5</title>\r\n",
       "<polygon fill=\"#e99355\" stroke=\"black\" points=\"834,-157 616,-157 616,-89 834,-89 834,-157\"/>\r\n",
       "<text text-anchor=\"middle\" x=\"725\" y=\"-141.8\" font-family=\"Times New Roman,serif\" font-size=\"14.00\">X[21] &lt;= 1.0</text>\r\n",
       "<text text-anchor=\"middle\" x=\"725\" y=\"-126.8\" font-family=\"Times New Roman,serif\" font-size=\"14.00\">gini = 0.248</text>\r\n",
       "<text text-anchor=\"middle\" x=\"725\" y=\"-111.8\" font-family=\"Times New Roman,serif\" font-size=\"14.00\">samples = 163</text>\r\n",
       "<text text-anchor=\"middle\" x=\"725\" y=\"-96.8\" font-family=\"Times New Roman,serif\" font-size=\"14.00\">value = [141, 0, 3, 0, 6, 4, 5, 0, 3, 1]</text>\r\n",
       "</g>\r\n",
       "<!-- 1&#45;&gt;5 -->\r\n",
       "<g id=\"edge5\" class=\"edge\"><title>1&#45;&gt;5</title>\r\n",
       "<path fill=\"none\" stroke=\"black\" d=\"M725,-192.884C725,-184.778 725,-175.982 725,-167.472\"/>\r\n",
       "<polygon fill=\"black\" stroke=\"black\" points=\"728.5,-167.299 725,-157.299 721.5,-167.299 728.5,-167.299\"/>\r\n",
       "</g>\r\n",
       "<!-- 3 -->\r\n",
       "<g id=\"node4\" class=\"node\"><title>3</title>\r\n",
       "<polygon fill=\"#45a3e7\" stroke=\"black\" points=\"212,-53 0,-53 0,-0 212,-0 212,-53\"/>\r\n",
       "<text text-anchor=\"middle\" x=\"106\" y=\"-37.8\" font-family=\"Times New Roman,serif\" font-size=\"14.00\">gini = 0.111</text>\r\n",
       "<text text-anchor=\"middle\" x=\"106\" y=\"-22.8\" font-family=\"Times New Roman,serif\" font-size=\"14.00\">samples = 17</text>\r\n",
       "<text text-anchor=\"middle\" x=\"106\" y=\"-7.8\" font-family=\"Times New Roman,serif\" font-size=\"14.00\">value = [0, 0, 0, 0, 0, 16, 0, 0, 0, 1]</text>\r\n",
       "</g>\r\n",
       "<!-- 2&#45;&gt;3 -->\r\n",
       "<g id=\"edge3\" class=\"edge\"><title>2&#45;&gt;3</title>\r\n",
       "<path fill=\"none\" stroke=\"black\" d=\"M255.557,-88.9485C230.172,-78.5183 202.309,-67.0705 177.585,-56.9121\"/>\r\n",
       "<polygon fill=\"black\" stroke=\"black\" points=\"178.854,-53.6498 168.274,-53.0867 176.194,-60.1246 178.854,-53.6498\"/>\r\n",
       "</g>\r\n",
       "<!-- 4 -->\r\n",
       "<g id=\"node5\" class=\"node\"><title>4</title>\r\n",
       "<polygon fill=\"#e63e5c\" stroke=\"black\" points=\"442,-53 230,-53 230,-0 442,-0 442,-53\"/>\r\n",
       "<text text-anchor=\"middle\" x=\"336\" y=\"-37.8\" font-family=\"Times New Roman,serif\" font-size=\"14.00\">gini = 0.048</text>\r\n",
       "<text text-anchor=\"middle\" x=\"336\" y=\"-22.8\" font-family=\"Times New Roman,serif\" font-size=\"14.00\">samples = 41</text>\r\n",
       "<text text-anchor=\"middle\" x=\"336\" y=\"-7.8\" font-family=\"Times New Roman,serif\" font-size=\"14.00\">value = [0, 0, 0, 1, 0, 0, 0, 0, 0, 40]</text>\r\n",
       "</g>\r\n",
       "<!-- 2&#45;&gt;4 -->\r\n",
       "<g id=\"edge4\" class=\"edge\"><title>2&#45;&gt;4</title>\r\n",
       "<path fill=\"none\" stroke=\"black\" d=\"M336,-88.9485C336,-80.7153 336,-71.848 336,-63.4814\"/>\r\n",
       "<polygon fill=\"black\" stroke=\"black\" points=\"339.5,-63.2367 336,-53.2367 332.5,-63.2367 339.5,-63.2367\"/>\r\n",
       "</g>\r\n",
       "<!-- 6 -->\r\n",
       "<g id=\"node7\" class=\"node\"><title>6</title>\r\n",
       "<polygon fill=\"#eefdfa\" stroke=\"black\" points=\"665.5,-53 460.5,-53 460.5,-0 665.5,-0 665.5,-53\"/>\r\n",
       "<text text-anchor=\"middle\" x=\"563\" y=\"-37.8\" font-family=\"Times New Roman,serif\" font-size=\"14.00\">gini = 0.758</text>\r\n",
       "<text text-anchor=\"middle\" x=\"563\" y=\"-22.8\" font-family=\"Times New Roman,serif\" font-size=\"14.00\">samples = 16</text>\r\n",
       "<text text-anchor=\"middle\" x=\"563\" y=\"-7.8\" font-family=\"Times New Roman,serif\" font-size=\"14.00\">value = [1, 0, 2, 0, 5, 4, 4, 0, 0, 0]</text>\r\n",
       "</g>\r\n",
       "<!-- 5&#45;&gt;6 -->\r\n",
       "<g id=\"edge6\" class=\"edge\"><title>5&#45;&gt;6</title>\r\n",
       "<path fill=\"none\" stroke=\"black\" d=\"M668.34,-88.9485C651.169,-78.9318 632.389,-67.9767 615.502,-58.1263\"/>\r\n",
       "<polygon fill=\"black\" stroke=\"black\" points=\"617.264,-55.1022 606.863,-53.0867 613.737,-61.1487 617.264,-55.1022\"/>\r\n",
       "</g>\r\n",
       "<!-- 7 -->\r\n",
       "<g id=\"node8\" class=\"node\"><title>7</title>\r\n",
       "<polygon fill=\"#e68743\" stroke=\"black\" points=\"902,-53 684,-53 684,-0 902,-0 902,-53\"/>\r\n",
       "<text text-anchor=\"middle\" x=\"793\" y=\"-37.8\" font-family=\"Times New Roman,serif\" font-size=\"14.00\">gini = 0.092</text>\r\n",
       "<text text-anchor=\"middle\" x=\"793\" y=\"-22.8\" font-family=\"Times New Roman,serif\" font-size=\"14.00\">samples = 147</text>\r\n",
       "<text text-anchor=\"middle\" x=\"793\" y=\"-7.8\" font-family=\"Times New Roman,serif\" font-size=\"14.00\">value = [140, 0, 1, 0, 1, 0, 1, 0, 3, 1]</text>\r\n",
       "</g>\r\n",
       "<!-- 5&#45;&gt;7 -->\r\n",
       "<g id=\"edge7\" class=\"edge\"><title>5&#45;&gt;7</title>\r\n",
       "<path fill=\"none\" stroke=\"black\" d=\"M748.783,-88.9485C755.168,-80.0749 762.084,-70.4648 768.507,-61.5388\"/>\r\n",
       "<polygon fill=\"black\" stroke=\"black\" points=\"771.481,-63.398 774.48,-53.2367 765.799,-59.3094 771.481,-63.398\"/>\r\n",
       "</g>\r\n",
       "<!-- 9 -->\r\n",
       "<g id=\"node10\" class=\"node\"><title>9</title>\r\n",
       "<polygon fill=\"#e7e6fc\" stroke=\"black\" points=\"1236.5,-157 977.5,-157 977.5,-89 1236.5,-89 1236.5,-157\"/>\r\n",
       "<text text-anchor=\"middle\" x=\"1107\" y=\"-141.8\" font-family=\"Times New Roman,serif\" font-size=\"14.00\">X[42] &lt;= 8.5</text>\r\n",
       "<text text-anchor=\"middle\" x=\"1107\" y=\"-126.8\" font-family=\"Times New Roman,serif\" font-size=\"14.00\">gini = 0.74</text>\r\n",
       "<text text-anchor=\"middle\" x=\"1107\" y=\"-111.8\" font-family=\"Times New Roman,serif\" font-size=\"14.00\">samples = 373</text>\r\n",
       "<text text-anchor=\"middle\" x=\"1107\" y=\"-96.8\" font-family=\"Times New Roman,serif\" font-size=\"14.00\">value = [0, 36, 34, 10, 32, 110, 143, 5, 2, 1]</text>\r\n",
       "</g>\r\n",
       "<!-- 8&#45;&gt;9 -->\r\n",
       "<g id=\"edge9\" class=\"edge\"><title>8&#45;&gt;9</title>\r\n",
       "<path fill=\"none\" stroke=\"black\" d=\"M1107,-192.884C1107,-184.778 1107,-175.982 1107,-167.472\"/>\r\n",
       "<polygon fill=\"black\" stroke=\"black\" points=\"1110.5,-167.299 1107,-157.299 1103.5,-167.299 1110.5,-167.299\"/>\r\n",
       "</g>\r\n",
       "<!-- 12 -->\r\n",
       "<g id=\"node13\" class=\"node\"><title>12</title>\r\n",
       "<polygon fill=\"#fefffe\" stroke=\"black\" points=\"1683.5,-157 1384.5,-157 1384.5,-89 1683.5,-89 1683.5,-157\"/>\r\n",
       "<text text-anchor=\"middle\" x=\"1534\" y=\"-141.8\" font-family=\"Times New Roman,serif\" font-size=\"14.00\">X[60] &lt;= 2.5</text>\r\n",
       "<text text-anchor=\"middle\" x=\"1534\" y=\"-126.8\" font-family=\"Times New Roman,serif\" font-size=\"14.00\">gini = 0.859</text>\r\n",
       "<text text-anchor=\"middle\" x=\"1534\" y=\"-111.8\" font-family=\"Times New Roman,serif\" font-size=\"14.00\">samples = 843</text>\r\n",
       "<text text-anchor=\"middle\" x=\"1534\" y=\"-96.8\" font-family=\"Times New Roman,serif\" font-size=\"14.00\">value = [2, 111, 104, 135, 111, 6, 3, 132, 131, 108]</text>\r\n",
       "</g>\r\n",
       "<!-- 8&#45;&gt;12 -->\r\n",
       "<g id=\"edge12\" class=\"edge\"><title>8&#45;&gt;12</title>\r\n",
       "<path fill=\"none\" stroke=\"black\" d=\"M1245.34,-192.954C1290.16,-182.247 1340.05,-170.331 1385.57,-159.457\"/>\r\n",
       "<polygon fill=\"black\" stroke=\"black\" points=\"1386.6,-162.808 1395.51,-157.081 1384.98,-156 1386.6,-162.808\"/>\r\n",
       "</g>\r\n",
       "<!-- 10 -->\r\n",
       "<g id=\"node11\" class=\"node\"><title>10</title>\r\n",
       "<polygon fill=\"#9bcef2\" stroke=\"black\" points=\"1159.5,-53 920.5,-53 920.5,-0 1159.5,-0 1159.5,-53\"/>\r\n",
       "<text text-anchor=\"middle\" x=\"1040\" y=\"-37.8\" font-family=\"Times New Roman,serif\" font-size=\"14.00\">gini = 0.615</text>\r\n",
       "<text text-anchor=\"middle\" x=\"1040\" y=\"-22.8\" font-family=\"Times New Roman,serif\" font-size=\"14.00\">samples = 184</text>\r\n",
       "<text text-anchor=\"middle\" x=\"1040\" y=\"-7.8\" font-family=\"Times New Roman,serif\" font-size=\"14.00\">value = [0, 29, 24, 10, 6, 107, 1, 4, 2, 1]</text>\r\n",
       "</g>\r\n",
       "<!-- 9&#45;&gt;10 -->\r\n",
       "<g id=\"edge10\" class=\"edge\"><title>9&#45;&gt;10</title>\r\n",
       "<path fill=\"none\" stroke=\"black\" d=\"M1083.57,-88.9485C1077.28,-80.0749 1070.46,-70.4648 1064.13,-61.5388\"/>\r\n",
       "<polygon fill=\"black\" stroke=\"black\" points=\"1066.89,-59.3701 1058.25,-53.2367 1061.18,-63.4188 1066.89,-59.3701\"/>\r\n",
       "</g>\r\n",
       "<!-- 11 -->\r\n",
       "<g id=\"node12\" class=\"node\"><title>11</title>\r\n",
       "<polygon fill=\"#7472ec\" stroke=\"black\" points=\"1410,-53 1178,-53 1178,-0 1410,-0 1410,-53\"/>\r\n",
       "<text text-anchor=\"middle\" x=\"1294\" y=\"-37.8\" font-family=\"Times New Roman,serif\" font-size=\"14.00\">gini = 0.412</text>\r\n",
       "<text text-anchor=\"middle\" x=\"1294\" y=\"-22.8\" font-family=\"Times New Roman,serif\" font-size=\"14.00\">samples = 189</text>\r\n",
       "<text text-anchor=\"middle\" x=\"1294\" y=\"-7.8\" font-family=\"Times New Roman,serif\" font-size=\"14.00\">value = [0, 7, 10, 0, 26, 3, 142, 1, 0, 0]</text>\r\n",
       "</g>\r\n",
       "<!-- 9&#45;&gt;11 -->\r\n",
       "<g id=\"edge11\" class=\"edge\"><title>9&#45;&gt;11</title>\r\n",
       "<path fill=\"none\" stroke=\"black\" d=\"M1172.4,-88.9485C1192.5,-78.794 1214.5,-67.675 1234.2,-57.7203\"/>\r\n",
       "<polygon fill=\"black\" stroke=\"black\" points=\"1236.02,-60.7208 1243.37,-53.0867 1232.86,-54.4732 1236.02,-60.7208\"/>\r\n",
       "</g>\r\n",
       "<!-- 13 -->\r\n",
       "<g id=\"node14\" class=\"node\"><title>13</title>\r\n",
       "<polygon fill=\"#b157e9\" stroke=\"black\" points=\"1640,-53 1428,-53 1428,-0 1640,-0 1640,-53\"/>\r\n",
       "<text text-anchor=\"middle\" x=\"1534\" y=\"-37.8\" font-family=\"Times New Roman,serif\" font-size=\"14.00\">gini = 0.254</text>\r\n",
       "<text text-anchor=\"middle\" x=\"1534\" y=\"-22.8\" font-family=\"Times New Roman,serif\" font-size=\"14.00\">samples = 107</text>\r\n",
       "<text text-anchor=\"middle\" x=\"1534\" y=\"-7.8\" font-family=\"Times New Roman,serif\" font-size=\"14.00\">value = [0, 0, 1, 2, 7, 0, 0, 92, 0, 5]</text>\r\n",
       "</g>\r\n",
       "<!-- 12&#45;&gt;13 -->\r\n",
       "<g id=\"edge13\" class=\"edge\"><title>12&#45;&gt;13</title>\r\n",
       "<path fill=\"none\" stroke=\"black\" d=\"M1534,-88.9485C1534,-80.7153 1534,-71.848 1534,-63.4814\"/>\r\n",
       "<polygon fill=\"black\" stroke=\"black\" points=\"1537.5,-63.2367 1534,-53.2367 1530.5,-63.2367 1537.5,-63.2367\"/>\r\n",
       "</g>\r\n",
       "<!-- 14 -->\r\n",
       "<g id=\"node15\" class=\"node\"><title>14</title>\r\n",
       "<polygon fill=\"#fefffe\" stroke=\"black\" points=\"1951.5,-53 1658.5,-53 1658.5,-0 1951.5,-0 1951.5,-53\"/>\r\n",
       "<text text-anchor=\"middle\" x=\"1805\" y=\"-37.8\" font-family=\"Times New Roman,serif\" font-size=\"14.00\">gini = 0.851</text>\r\n",
       "<text text-anchor=\"middle\" x=\"1805\" y=\"-22.8\" font-family=\"Times New Roman,serif\" font-size=\"14.00\">samples = 736</text>\r\n",
       "<text text-anchor=\"middle\" x=\"1805\" y=\"-7.8\" font-family=\"Times New Roman,serif\" font-size=\"14.00\">value = [2, 111, 103, 133, 104, 6, 3, 40, 131, 103]</text>\r\n",
       "</g>\r\n",
       "<!-- 12&#45;&gt;14 -->\r\n",
       "<g id=\"edge14\" class=\"edge\"><title>12&#45;&gt;14</title>\r\n",
       "<path fill=\"none\" stroke=\"black\" d=\"M1628.78,-88.9485C1659.09,-78.3805 1692.39,-66.7678 1721.81,-56.51\"/>\r\n",
       "<polygon fill=\"black\" stroke=\"black\" points=\"1723.33,-59.6842 1731.62,-53.0867 1721.03,-53.0746 1723.33,-59.6842\"/>\r\n",
       "</g>\r\n",
       "</g>\r\n",
       "</svg>\r\n"
      ],
      "text/plain": [
       "<graphviz.files.Source at 0x24cf24fa100>"
      ]
     },
     "execution_count": 36,
     "metadata": {},
     "output_type": "execute_result"
    }
   ],
   "source": [
    "export_graphviz(dtree2, out_file=\"tree2.dot\", impurity=True, filled=True)\n",
    "\n",
    "with open(\"tree2.dot\") as f:\n",
    "    dot_graph = f.read()\n",
    "graphviz.Source(dot_graph)"
   ]
  },
  {
   "cell_type": "markdown",
   "metadata": {
    "id": "ZNDDlVZ0FllP"
   },
   "source": [
    "\n",
    "지금까지 MNIST 데이터에 대해 살펴보았다. 이제 decition tee, knn, lr 세 모델의 voting 앙상블을 이용해서 손글씨 숫자를 맞추어 보자."
   ]
  },
  {
   "cell_type": "markdown",
   "metadata": {
    "id": "FeCdr1Vyyo2X"
   },
   "source": [
    "* 하드 보팅\n",
    "\n",
    "VotingClassifier() 클래스 안에 `voting = 'hard'`라고 지정하면 된다. 그리고  VotingClassifier()에서 각 분류기는 다음과 같이 튜플로 만들어서 리스트 속에 입력한다. "
   ]
  },
  {
   "cell_type": "code",
   "execution_count": 37,
   "metadata": {
    "id": "EXXMJI--yo2Y"
   },
   "outputs": [
    {
     "data": {
      "text/plain": [
       "0.9638888888888889"
      ]
     },
     "execution_count": 37,
     "metadata": {},
     "output_type": "execute_result"
    }
   ],
   "source": [
    "from sklearn.ensemble import VotingClassifier\n",
    "\n",
    "voting_clf = VotingClassifier(estimators=[\n",
    "    ('d_tree', dtree), ('knn', knn), ('lr', lr)], \n",
    "     voting='hard').fit(X_train, y_train)\n",
    "hard_voting_predicted = voting_clf.predict(X_test)\n",
    "accuracy_score(y_test, hard_voting_predicted)"
   ]
  },
  {
   "cell_type": "markdown",
   "metadata": {
    "id": "Rtn6fGmPyo2Y"
   },
   "source": [
    "* 소프트 보팅\n",
    "\n",
    "각 분류모델의 predict_proba에서 나오는 분류값들의 확률들을 더해서 가장 높은 점수를 획득한 분류값으로 최종 결론을 내는 방식이다.\n",
    "\n",
    "가령 서포트벡터머신으로 분류한 숫자0부터 9까지 열 가지 범주별 예측확률을 보려면(처음 2개만 보자) 다음과 같이 하면 된다. "
   ]
  },
  {
   "cell_type": "code",
   "execution_count": 38,
   "metadata": {
    "id": "KpKoB51Iyo2X"
   },
   "outputs": [
    {
     "name": "stdout",
     "output_type": "stream",
     "text": [
      "[[7.49228783e-08 2.04998307e-09 2.22540353e-09 2.03215431e-11\n",
      "  1.64565927e-06 9.99997589e-01 1.44408523e-09 1.78551045e-08\n",
      "  6.65975744e-07 1.19663977e-09]\n",
      " [6.19919605e-15 9.67091323e-08 9.99999903e-01 2.08489372e-12\n",
      "  2.69249159e-15 3.28447799e-15 1.33835623e-12 2.05762916e-11\n",
      "  2.34684163e-12 6.24043595e-13]]\n"
     ]
    }
   ],
   "source": [
    "lr_proba = lr.predict_proba(X_test)\n",
    "print(lr_proba[:2])"
   ]
  },
  {
   "cell_type": "markdown",
   "metadata": {
    "id": "elFBBfRi282W"
   },
   "source": [
    "위의 결과로 볼 때 lr만으로 예측한다면 첫번째 데이터는 5, 두번째 데이터는 2로 분류된다. 정답과 비교해보자."
   ]
  },
  {
   "cell_type": "code",
   "execution_count": 39,
   "metadata": {
    "id": "FUk7hLA63KxF"
   },
   "outputs": [
    {
     "data": {
      "text/plain": [
       "array([5, 2])"
      ]
     },
     "execution_count": 39,
     "metadata": {},
     "output_type": "execute_result"
    }
   ],
   "source": [
    "y_test[:2]"
   ]
  },
  {
   "cell_type": "markdown",
   "metadata": {
    "id": "lZ4f7q72We_E"
   },
   "source": [
    "soft voting 방법으로 앙상블 분류를 하려면  VotingClassifier() 클래스 안에 `voting = 'soft'`라고 지정하면 된다."
   ]
  },
  {
   "cell_type": "code",
   "execution_count": 40,
   "metadata": {
    "id": "9gYs1CITyo2Z"
   },
   "outputs": [
    {
     "data": {
      "text/plain": [
       "0.9694444444444444"
      ]
     },
     "execution_count": 40,
     "metadata": {},
     "output_type": "execute_result"
    }
   ],
   "source": [
    "voting_clf = VotingClassifier(estimators=[\n",
    "    ('d_tree', dtree), ('knn', knn), ('lr', lr)], \n",
    "    voting='soft').fit(X_train, y_train)\n",
    "soft_voting_predicted = voting_clf.predict(X_test)\n",
    "accuracy_score(y_test, soft_voting_predicted)"
   ]
  },
  {
   "cell_type": "markdown",
   "metadata": {
    "id": "uKY1L7ucyo2Z"
   },
   "source": [
    "* 정확도 비교 시각화"
   ]
  },
  {
   "cell_type": "code",
   "execution_count": 41,
   "metadata": {
    "id": "8MCValJcyo2a"
   },
   "outputs": [
    {
     "data": {
      "image/png": "[encoded data removed]",
      "text/plain": [
       "<Figure size 432x288 with 1 Axes>"
      ]
     },
     "metadata": {
      "needs_background": "light"
     },
     "output_type": "display_data"
    }
   ],
   "source": [
    "import matplotlib.pyplot as plt\n",
    "import numpy as np\n",
    "%matplotlib inline\n",
    "\n",
    "x = np.arange(5)\n",
    "plt.bar(x, height= [accuracy_score(y_test, dtree_predicted),\n",
    "                    accuracy_score(y_test, knn_predicted),\n",
    "                    accuracy_score(y_test, lr_predicted),\n",
    "                    accuracy_score(y_test, hard_voting_predicted),\n",
    "                    accuracy_score(y_test, soft_voting_predicted)])\n",
    "plt.xticks(x, ['decision tree','knn','lr','hard voting','soft voting']);"
   ]
  },
  {
   "cell_type": "markdown",
   "metadata": {
    "id": "FFM_Sq2eUMKW"
   },
   "source": [
    "`일반적으로 soft voting의 성능이 더 낫다고 알려져 있지만 항상 그런 건 아니다. 앙상블이 단독 알고리즘보다 못할 경우도 있다.`\n",
    "\n",
    "decision tree를 제외하고 나머지 방법들의 정확도가 모두 높다. 어쩌면 손글씨 판독 문제는 머신러닝 알고리즘에게 너무 쉬운 문제였던 모양이다."
   ]
  },
  {
   "cell_type": "markdown",
   "metadata": {
    "id": "Fv-gInBH_PH2"
   },
   "source": [
    "## 4.4 Random Forest"
   ]
  },
  {
   "cell_type": "markdown",
   "metadata": {
    "id": "xImuUgrjZoJZ"
   },
   "source": [
    "### 1. 배깅과 랜덤포레스트\n",
    "\n",
    "1) 나무들이 모이면 숲이 된다"
   ]
  },
  {
   "cell_type": "markdown",
   "metadata": {
    "id": "xImuUgrjZoJZ"
   },
   "source": [
    "앞서 공부한 voting 방법은 하나의 학습데이터로 여러 분류법을 모델링했었다. 그런데 같은 데이터로 훈련하는 것은 좋은 방법이 아니다. 따라서 분류기는 하나를 쓰는 대신 다른 데이터셋을 여럿 만들어 분류기를 학습시키는 방법도 가능할 텐데 배깅이 바로 그것이다. \n",
    "\n",
    "`Random Forest는 배깅의 한 종류`인데 배깅(Bagging)이란 Bootstrap Aggregating를 뜻한다. 여기서 부트스트래핑이 무엇인지 잠깐 살펴보자. 하나의 학습데이터로부터 중복을 허용해서 데이터를 샘플링하는 방법을 bootstraping이라고 부른다. 218쪽 그림을 보라. 1부터 10까지 값을 갖는 원본 데이터가 10개인데 여기서 크기 10인 부트스트랩 샘플을 세 개 만들었다. 배깅과 달리 중복을 허용하지 않는 샘플링은 pasting이라고 한다.\n",
    "\n",
    "random forest 방법은 `bootstrap` 샘플링으로 만든 여러 학습 데이터셋에 각각 결정트리 방법을 적용한 다음 그 결과들을 합쳐서(`aggregate`) 분류한다(217쪽 그림을 보라).\n",
    "\n",
    "[그림](https://eunsukimme.github.io/ml/2019/11/26/Random-Forest/)을 보라. 그리고 그림 아래에 있는 \"Bagging Features\" 설명을 잘 읽어보라. 이 방법의 이름에 'random'이라는 단어가 들어있는 이유는 샘플 데이터를 bootstrap 방법으로 랜덤하게 뽑는다는 의미와 더불어 각 트리를 만들 때마다 feature 변수들 중에서 일부를 랜덤하게 고르는 과정이 들어있기 때문이다. 즉 가급적 서로 다른 여러 나무를 만들자는 것이다. \n",
    "\n",
    "사이킷런에서는 아래와 같이 랜덤포리스트 분류기를 부를 수 있다.\n",
    "\n",
    "`from sklearn.ensemble import RandomForestClassifier`.\n",
    "\n",
    "따로 지정하지 않으면 사이킷런에서는 의사결정나무 모형 100개를 결합(`n_estimators` 옵션으로 선택 가능)해서 랜덤포레스트 모형을 만든다. 또한 각 나무에서 이용할 feature 변수의 최대 갯수는 `max_features` 옵션으로 정할 수 있다. 만약 그 값을 1로 두면 전체 변수 중에서 하나를 랜덤하게 골라 가지 나누기를 시작한다는 의미이다. 그럴 경우 적절한 변수를 택해서 가지를 나누는 경우에 비해 일반적으로 나무가 더 복잡해진다."
   ]
  },
  {
   "cell_type": "markdown",
   "metadata": {
    "id": "Aadd6PeRd-g5"
   },
   "source": [
    "2) 랜덤포레스트 손글씨 분류 실습"
   ]
  },
  {
   "cell_type": "code",
   "execution_count": 42,
   "metadata": {
    "id": "5uhsiRRwdEyR"
   },
   "outputs": [
    {
     "name": "stdout",
     "output_type": "stream",
     "text": [
      "랜덤 포레스트 정확도: 0.9806\n"
     ]
    }
   ],
   "source": [
    "from sklearn.ensemble import RandomForestClassifier\n",
    "from sklearn.metrics import accuracy_score\n",
    "import warnings\n",
    "warnings.filterwarnings('ignore')\n",
    "\n",
    "from sklearn.datasets import load_digits\n",
    "mnist = load_digits()\n",
    "\n",
    "X_train, X_test, y_train, y_test = train_test_split(mnist.data,mnist.target,test_size=0.2)\n",
    "\n",
    "rf_clf = RandomForestClassifier(random_state=0)\n",
    "rf_clf.fit(X_train , y_train)\n",
    "pred = rf_clf.predict(X_test)\n",
    "accuracy = accuracy_score(y_test , pred)\n",
    "print('랜덤 포레스트 정확도: {0:.4f}'.format(accuracy))"
   ]
  },
  {
   "cell_type": "markdown",
   "metadata": {},
   "source": [
    "아무런 제약이 없으면 랜덤포레스트는 최대한 복잡한 나무를 만들어 분류한다. max_depth를 3으로 줄여보자"
   ]
  },
  {
   "cell_type": "code",
   "execution_count": 43,
   "metadata": {},
   "outputs": [
    {
     "name": "stdout",
     "output_type": "stream",
     "text": [
      "랜덤 포레스트 정확도: 0.8361\n"
     ]
    }
   ],
   "source": [
    "rf_clf3 = RandomForestClassifier(max_depth=3, random_state=0)\n",
    "rf_clf3.fit(X_train , y_train)\n",
    "pred = rf_clf3.predict(X_test)\n",
    "accuracy = accuracy_score(y_test , pred)\n",
    "print('랜덤 포레스트 정확도: {0:.4f}'.format(accuracy))"
   ]
  },
  {
   "cell_type": "markdown",
   "metadata": {},
   "source": [
    "max_depth를 1로 줄여보자"
   ]
  },
  {
   "cell_type": "code",
   "execution_count": 44,
   "metadata": {},
   "outputs": [
    {
     "name": "stdout",
     "output_type": "stream",
     "text": [
      "랜덤 포레스트 정확도: 0.8361\n"
     ]
    }
   ],
   "source": [
    "rf_clf1 = RandomForestClassifier(max_depth=1, random_state=0)\n",
    "rf_clf1.fit(X_train , y_train)\n",
    "pred = rf_clf3.predict(X_test)\n",
    "accuracy = accuracy_score(y_test , pred)\n",
    "print('랜덤 포레스트 정확도: {0:.4f}'.format(accuracy))"
   ]
  },
  {
   "cell_type": "markdown",
   "metadata": {
    "id": "f0WrtvOEeyCJ"
   },
   "source": [
    "3) 랜덤포레스트와 의사결정나무의 성능 비교"
   ]
  },
  {
   "cell_type": "markdown",
   "metadata": {
    "id": "a5LX9LDByqP9"
   },
   "source": [
    "각 분류기에 대해 교차 검증을 10번 수행하여 평균 정확도를 저장하는 과정을 다섯 번 반복하는 함수를 만들자."
   ]
  },
  {
   "cell_type": "code",
   "execution_count": 45,
   "metadata": {
    "id": "zUrY95tByqP9"
   },
   "outputs": [],
   "source": [
    "from sklearn.model_selection import cross_val_score\n",
    "\n",
    "def cross_validation(classifier,features, labels):\n",
    "    cv_scores = []\n",
    "\n",
    "    for i in range(5):\n",
    "        scores = cross_val_score(classifier, features, labels, cv=10, scoring='accuracy')\n",
    "        cv_scores.append(scores.mean())\n",
    "    \n",
    "    return cv_scores"
   ]
  },
  {
   "cell_type": "markdown",
   "metadata": {
    "id": "UAvO04n2fk_q"
   },
   "source": [
    "의사결정나무와 랜덤포레스트의 손글씨 분류 정확도를 구하자. 아래 코드들을 실행하면 **cross validation** 때문에 결과가 나올 때까지 시간이 제법 걸릴 것이다."
   ]
  },
  {
   "cell_type": "code",
   "execution_count": 46,
   "metadata": {
    "id": "arFUCrWeyqP-"
   },
   "outputs": [],
   "source": [
    "dt_cv_scores = cross_validation(tree.DecisionTreeClassifier(), mnist.data, mnist.target)"
   ]
  },
  {
   "cell_type": "code",
   "execution_count": 47,
   "metadata": {
    "id": "2FldjPKDyqP-"
   },
   "outputs": [],
   "source": [
    "rf_cv_scores = cross_validation(RandomForestClassifier(), mnist.data, mnist.target)"
   ]
  },
  {
   "cell_type": "markdown",
   "metadata": {
    "id": "PP7ZeTgByqP-"
   },
   "source": [
    "* 시각화 : \n",
    "\n",
    "랜덤포레스트가 의사결정트리보다 매번 정확도가 높은 것을 확인할 수 있다."
   ]
  },
  {
   "cell_type": "code",
   "execution_count": 49,
   "metadata": {
    "id": "rJK4_JR-hauq",
    "scrolled": true
   },
   "outputs": [
    {
     "data": {
      "image/png": "[encoded data removed]",
      "text/plain": [
       "<Figure size 432x288 with 1 Axes>"
      ]
     },
     "metadata": {
      "needs_background": "light"
     },
     "output_type": "display_data"
    }
   ],
   "source": [
    "plt.plot(rf_cv_scores, label = \"random forest\")\n",
    "plt.plot(dt_cv_scores, label = \"decision tree\")\n",
    "plt.legend()\n",
    "plt.show()"
   ]
  },
  {
   "cell_type": "markdown",
   "metadata": {
    "id": "3Mburale4qhX"
   },
   "source": [
    "decision tree 단독 모델보다는 트리 모형을 여러 개 이용하는 random forest 모델이 훨씬 낫다."
   ]
  },
  {
   "cell_type": "markdown",
   "metadata": {
    "id": "PtLFLRcYLMb_"
   },
   "source": [
    "이번에는 깊이가 1인 아주 간단한 나무와 깊이가 3인 나무, 그리고 깊이가 1인 나무로 만든 랜덤 포레스트의 성능을 비교해보자. 랜덤 포레스트에서 결합하는 나무의 수가 늘어남에 따라 성능이 어떻게 바뀌는지 알아보자. 아래 코드에서 정의하는 함수 **pred_score**는 10회 교차검증의 평균 정확도를 반환하는 함수다. 계산량이 많으므로 코드를 실행하면 꽤 오래 걸린다. "
   ]
  },
  {
   "cell_type": "code",
   "execution_count": 50,
   "metadata": {
    "id": "EChljsoRJMIh"
   },
   "outputs": [],
   "source": [
    "def pred_score(model, features, target):\n",
    "    return cross_val_score(model, features, target, cv=10, scoring='accuracy').mean()\n",
    "\n",
    "stump  = tree.DecisionTreeClassifier(max_depth=1)\n",
    "dtree  = tree.DecisionTreeClassifier(max_depth=3)\n",
    "forest = RandomForestClassifier(max_features=1, max_depth=1)\n",
    "\n",
    "stump_score   = pred_score(stump,  mnist.data, mnist.target)\n",
    "tree_score    = pred_score(dtree,  mnist.data, mnist.target)\n",
    "forest_scores = [pred_score(forest.set_params(n_estimators=n),\n",
    "                                    mnist.data, mnist.target) \n",
    "                 for n in range(1,101)]"
   ]
  },
  {
   "cell_type": "code",
   "execution_count": 51,
   "metadata": {
    "id": "wbVx1DwtJN9F"
   },
   "outputs": [
    {
     "data": {
      "image/png": "[encoded data removed]",
      "text/plain": [
       "<Figure size 432x360 with 1 Axes>"
      ]
     },
     "metadata": {
      "needs_background": "light"
     },
     "output_type": "display_data"
    }
   ],
   "source": [
    "fig, ax = plt.subplots(figsize=(6,5))\n",
    "\n",
    "xs = list(range(1, 101))\n",
    "ax.plot(xs, np.repeat(stump_score, 100), label='stump')\n",
    "ax.plot(xs, np.repeat(tree_score, 100),  label='tree')\n",
    "ax.plot(xs, forest_scores, label='forest')\n",
    "\n",
    "ax.set_xlabel('Number of Trees in Forest')\n",
    "ax.set_ylabel('Accuracy')\n",
    "ax.legend(loc='lower right');"
   ]
  },
  {
   "cell_type": "markdown",
   "metadata": {
    "id": "ie-cpSFoWr3h"
   },
   "source": [
    "결합하는 나무가 적은 처음에는 forest의 성능이 떨어지지만 얼마 지나지 않아 금방 다른 단독 나무 모형을 추월하는 것을 확인할 수 있다."
   ]
  },
  {
   "cell_type": "markdown",
   "metadata": {},
   "source": [
    "- feature 변수의 중요도 비교\n",
    "\n",
    "특성 변수의 중요도는 그 변수를 사용한 노드가 랜덤포레스트에 잇는 모든 트리에서 평균적으로 불순도를 얼마나 감소시켰는지 나타낸다."
   ]
  },
  {
   "cell_type": "code",
   "execution_count": 52,
   "metadata": {},
   "outputs": [
    {
     "data": {
      "text/plain": [
       "array([[0.00000000e+00, 2.04714186e-03, 1.86392525e-02, 8.85919178e-03,\n",
       "        9.79965124e-03, 2.13446534e-02, 7.89974233e-03, 7.76742139e-04],\n",
       "       [6.74837488e-05, 1.28398601e-02, 2.52513675e-02, 7.03408586e-03,\n",
       "        1.44270094e-02, 3.01109895e-02, 5.59841521e-03, 4.43621312e-04],\n",
       "       [1.35920916e-04, 8.05646449e-03, 2.14244626e-02, 2.27061645e-02,\n",
       "        3.18185404e-02, 4.97315254e-02, 8.53361395e-03, 2.24824659e-04],\n",
       "       [3.96051625e-05, 1.26793301e-02, 4.14063619e-02, 2.87936733e-02,\n",
       "        3.39437062e-02, 2.43309389e-02, 2.76902342e-02, 3.86282392e-05],\n",
       "       [0.00000000e+00, 2.82824443e-02, 2.86247711e-02, 1.85238966e-02,\n",
       "        3.65685295e-02, 1.95487333e-02, 2.72873126e-02, 0.00000000e+00],\n",
       "       [4.92187424e-05, 1.27187897e-02, 3.48122223e-02, 4.34005826e-02,\n",
       "        2.08278833e-02, 1.85553298e-02, 2.03827601e-02, 1.03177501e-05],\n",
       "       [4.44721245e-05, 2.38737417e-03, 1.40370144e-02, 2.15059838e-02,\n",
       "        1.57687203e-02, 2.30655096e-02, 2.85501796e-02, 1.28438373e-03],\n",
       "       [1.38858656e-05, 1.98057258e-03, 2.43958004e-02, 9.65830024e-03,\n",
       "        2.73474095e-02, 2.50050090e-02, 1.58617231e-02, 2.80766695e-03]])"
      ]
     },
     "execution_count": 52,
     "metadata": {},
     "output_type": "execute_result"
    }
   ],
   "source": [
    "importance = rf_clf.feature_importances_\n",
    "importance = importance.reshape(8,8)\n",
    "importance"
   ]
  },
  {
   "cell_type": "code",
   "execution_count": 53,
   "metadata": {},
   "outputs": [
    {
     "data": {
      "image/png": "[encoded data removed]",
      "text/plain": [
       "<Figure size 288x288 with 1 Axes>"
      ]
     },
     "metadata": {
      "needs_background": "light"
     },
     "output_type": "display_data"
    }
   ],
   "source": [
    "plt.matshow(importance, cmap = 'magma')\n",
    "plt.show()"
   ]
  },
  {
   "cell_type": "markdown",
   "metadata": {},
   "source": [
    "### 2. 랜덤 포레스트 hyper parameter 튜닝"
   ]
  },
  {
   "cell_type": "markdown",
   "metadata": {
    "id": "q6hUaO6584k0"
   },
   "source": [
    "1) Random forest hyper parameter\n",
    "\n",
    "RandomForestClassifier 객체 생성 후 GridSearchCV()를 수행하여 최적 하이퍼 파라미터를 찾아보자. 각 parameter에 대한 간단한 설명은 교재 219-220쪽을 참조하자. 그런데 트리 모형에 여러 parameter가 필요하므로 아래 코드를 수행하면 시간이 상당히 오래 걸린다."
   ]
  },
  {
   "cell_type": "code",
   "execution_count": 55,
   "metadata": {
    "id": "OaBet-uo84k0"
   },
   "outputs": [
    {
     "name": "stdout",
     "output_type": "stream",
     "text": [
      "최적 하이퍼 파라미터:\n",
      " {'max_depth': 8, 'min_samples_leaf': 8, 'min_samples_split': 8, 'n_estimators': 100}\n",
      "최고 예측 정확도: 0.9353\n"
     ]
    }
   ],
   "source": [
    "from sklearn.model_selection import GridSearchCV\n",
    "\n",
    "params = {\n",
    "    'n_estimators':[100],\n",
    "    'max_depth' : [6, 8, 10, 12], \n",
    "    'min_samples_leaf' : [8, 12, 18 ],\n",
    "    'min_samples_split' : [8, 16, 20]\n",
    "}\n",
    "\n",
    "rf_clf = RandomForestClassifier(random_state=0)\n",
    "grid_cv = GridSearchCV(rf_clf , param_grid=params , cv=2)\n",
    "grid_cv.fit(X_train , y_train)\n",
    "\n",
    "print('최적 하이퍼 파라미터:\\n', grid_cv.best_params_)\n",
    "print('최고 예측 정확도: {0:.4f}'.format(grid_cv.best_score_))"
   ]
  },
  {
   "cell_type": "markdown",
   "metadata": {
    "id": "diBnR3ps84k1"
   },
   "source": [
    "위에서 찾은 최적 하이퍼 파라미터('max_depth': 10, 'min_samples_leaf': 8, 'min_samples_split': 8)에 대해 트리의 수를 뜻하는 n_estimators를 100에서 300으로 늘이고 별도의 test data에서 예측 성능을 알아보자."
   ]
  },
  {
   "cell_type": "code",
   "execution_count": 56,
   "metadata": {
    "id": "IFhTZd1k84k2"
   },
   "outputs": [
    {
     "name": "stdout",
     "output_type": "stream",
     "text": [
      "예측 정확도: 0.9583\n"
     ]
    }
   ],
   "source": [
    "rf_clf1 = RandomForestClassifier(n_estimators=300, max_depth=10, min_samples_leaf=8, \\\n",
    "                                 min_samples_split=8, random_state=0)\n",
    "rf_clf1.fit(X_train , y_train)\n",
    "pred = rf_clf1.predict(X_test)\n",
    "print('예측 정확도: {0:.4f}'.format(accuracy_score(y_test , pred)))"
   ]
  },
  {
   "cell_type": "markdown",
   "metadata": {
    "id": "AF4eonBw84k2"
   },
   "source": [
    "마지막으로 feature들의 중요도를 그림으로 알아보자."
   ]
  },
  {
   "cell_type": "code",
   "execution_count": 74,
   "metadata": {
    "id": "tI6jRDEc84k2"
   },
   "outputs": [
    {
     "data": {
      "image/png": "[encoded data removed]",
      "text/plain": [
       "<Figure size 576x432 with 1 Axes>"
      ]
     },
     "metadata": {
      "needs_background": "light"
     },
     "output_type": "display_data"
    }
   ],
   "source": [
    "import matplotlib.pyplot as plt\n",
    "import seaborn as sns\n",
    "%matplotlib inline\n",
    "\n",
    "ftr_importances_values = rf_clf1.feature_importances_\n",
    "ftr_importances = pd.Series(ftr_importances_values, index=mnist.feature_names)\n",
    "ftr_top20 = ftr_importances.sort_values(ascending=False)[:20]\n",
    "\n",
    "plt.figure(figsize=(8,6))\n",
    "plt.title('Feature importances Top 20')\n",
    "sns.barplot(x=ftr_top20 , y = ftr_top20.index)\n",
    "plt.show()"
   ]
  },
  {
   "cell_type": "markdown",
   "metadata": {
    "id": "Za_qavE91ISr"
   },
   "source": [
    "2) 참고 사항\n",
    "\n",
    "**참고 1**\n",
    "\n",
    "앙상블 방법이 널리 쓰이는 이유가 단지 경험, 또는 집단지성이 더 나을 것이라는 희망, 상식 때문일까? 그렇지만은 않다. 앙상블 방법은 기초통계학 과목에서 공부한 `'큰 수의 법칙'`에 바탕을 두고 있다.  아래 코드를 통해 hard voting 앙상블의 이론적 근거를 생각해보자. (설명과 code 출처 : <핸즈온 머신러닝 2판> p. 247; [역자 블로그](https://tensorflow.blog/handson-ml2/)에서 제공하는 코드).\n"
   ]
  },
  {
   "cell_type": "markdown",
   "metadata": {
    "id": "S8Mgi0-XDowS"
   },
   "source": [
    "\n",
    "암을 진단하는 여러 방법들이 있는데 암환자에게 그 방법들을 적용하면 모두가 51%만 암으로 양성판정(TPR = recall = 51%)하는 부정확한 방법들이라고 하자. 한 가지 방법으로는 믿을만한 결과를 얻을 수 없으므로 어떤 암환자를 여러 방법으로 검사한 결과를 합해서 다수결(hard voting)로 판정한다고 하자. 검사 방법이 모두 10가지라면 실제 암환자를 검사한 10개 결과 중에서 암판정이 6개 이상 나오면 최종적으로 암으로 판정한다. 판정 결과가 얼마나 정확할까? 아래 그림은 검사방법이 10,000개일 경우를 열 번 모의실험한 결과다."
   ]
  },
  {
   "cell_type": "code",
   "execution_count": 75,
   "metadata": {
    "id": "FuF4yDl1dBz3"
   },
   "outputs": [
    {
     "data": {
      "image/png": "[encoded data removed]",
      "text/plain": [
       "<Figure size 576x396 with 1 Axes>"
      ]
     },
     "metadata": {
      "needs_background": "light"
     },
     "output_type": "display_data"
    }
   ],
   "source": [
    "import numpy as np\n",
    "import matplotlib as mpl\n",
    "import matplotlib.pyplot as plt\n",
    "\n",
    "heads_proba = 0.51\n",
    "coin_tosses = (np.random.rand(10000, 10) < heads_proba).astype(np.int32)\n",
    "cumulative_heads_ratio = np.cumsum(coin_tosses, axis=0) / np.arange(1, 10001).reshape(-1, 1)\n",
    "\n",
    "plt.figure(figsize=(8, 5.5))\n",
    "plt.plot(cumulative_heads_ratio)\n",
    "plt.plot([0, 10000], [0.51, 0.51], \"k--\", linewidth=2, label=\"51%\")\n",
    "plt.plot([0, 10000], [0.5, 0.5], \"k-\", label=\"50%\")\n",
    "plt.xlabel(\"Number of coin tosses\")\n",
    "plt.ylabel(\"Heads ratio\")\n",
    "plt.legend(loc=\"lower right\")\n",
    "plt.axis([0, 10000, 0.42, 0.58])\n",
    "\n",
    "plt.show()"
   ]
  },
  {
   "cell_type": "markdown",
   "metadata": {
    "id": "Wn5OZ4VCA9tO"
   },
   "source": [
    "위의 그림은 무엇을 나타낼까? 0과 1 사이의 난수 10,000개를 뽑아 0.51보다 큰지 작은지 알아본다. 난수의 값이 0.51보다 작으면 1, 크면 0값으로 코딩한다면 전체 난수의 51% 정도가 1이 되고 나머지는 0이 될 것이다. 그 값들은 한 명의 암환자를 재현율 51%인 검사법 1만 가지를 써서 검사할 때 나오는 결과라고 할 수 있다(1이면 암 판정). \n",
    "\n",
    "1만번 검사 가운데 암환자를 암으로 판정한 비율을 구하려면 1만개 결과의 누적합(np.cumsum)을 구해서 10,000으로 나누면 된다. 최종 판정은 1만번 검사 결과 중에서 다수인 결과로 정하기 때문에 그 비율이 50%를 넘으면 암으로 판정한다. \n",
    "\n",
    "위의 그림에서 x축은 검사 방법의 수를 나타내며, 10개의 선은 검사 방법의 수에 따른 암판정 비율(cumulative_heads_ratio)을 그린 것이다. 다수결로 최종 암판정을 하므로 그 선의 값이 50%를 넘으면 제대로 판정한 것이다."
   ]
  },
  {
   "cell_type": "markdown",
   "metadata": {
    "id": "ItYohd3I1OPr"
   },
   "source": [
    " 검사 방법이 1,000가지, 10,000가지일 때 올바른 암 판정 결과가 나올 확률을 이항분포의 누적확률을 이용해서 구해보자. X가 이항분포 B(n, p)를 따를 때 \n",
    " $$ {\\rm P(X > k )}$$의 값은 `1-  binom.cdf(k, n, p)`로 구할 수 있다. 누적확률을 구하는 함수는 `scipy` 패키지의 `stats` 모듈 안에 있다.\n",
    "\n"
   ]
  },
  {
   "cell_type": "code",
   "execution_count": 110,
   "metadata": {
    "id": "edM9Ncft2xJS"
   },
   "outputs": [
    {
     "data": {
      "text/plain": [
       "0.7260985557303354"
      ]
     },
     "execution_count": 110,
     "metadata": {},
     "output_type": "execute_result"
    }
   ],
   "source": [
    "from scipy.stats import binom\n",
    "1 - binom.cdf(500, 1000, 0.51)"
   ]
  },
  {
   "cell_type": "code",
   "execution_count": 111,
   "metadata": {
    "id": "kYhRzuQ41STq"
   },
   "outputs": [
    {
     "data": {
      "text/plain": [
       "0.9767182874807615"
      ]
     },
     "execution_count": 111,
     "metadata": {},
     "output_type": "execute_result"
    }
   ],
   "source": [
    "from scipy.stats import binom\n",
    "1 - binom.cdf(5000, 10000, 0.51)"
   ]
  },
  {
   "cell_type": "markdown",
   "metadata": {
    "id": "Dnr3i2qF1Ucl"
   },
   "source": [
    "\n",
    "\n",
    "즉 암환자를 겨우 51%밖에 찾아내지 못하는 방법도 그 수가 아주 많으면 hard voting으로 판정한 결과가 대단히 정확해진다. 그림에서 보듯 10,000번씩 검사하는 실험을 10회 반복한 결과 마지막에는 열번 모두 50%를 넘었다. "
   ]
  },
  {
   "cell_type": "markdown",
   "metadata": {
    "id": "6kpVVWvM1npy"
   },
   "source": [
    "**참고 2**\n",
    "\n",
    "random forest는 bagging의 한 종류다. 일반적으로 배깅 분류를 위해 사이킷런에서는 BaggingClassifier를 제공하고 있다. BaggingClassifier는 결정트리 이외의 방법에 배깅을 적용할 때 이용할 수 있다. 아래 코드로 잠깐 연습해보자.\n"
   ]
  },
  {
   "cell_type": "code",
   "execution_count": 112,
   "metadata": {
    "id": "KdF4VWDh12Gy"
   },
   "outputs": [],
   "source": [
    "from sklearn.ensemble import BaggingClassifier\n",
    "from sklearn.tree import DecisionTreeClassifier\n",
    "from sklearn.linear_model import LogisticRegression\n",
    "from sklearn.neighbors import KNeighborsClassifier\n",
    "from sklearn.naive_bayes import MultinomialNB\n",
    "\n",
    "from sklearn.metrics import accuracy_score"
   ]
  },
  {
   "cell_type": "markdown",
   "metadata": {
    "id": "pcuUnHPN1kdi"
   },
   "source": [
    "3) 여러 가지 배깅 연습\n",
    "\n",
    "* 결정트리 분류 배깅"
   ]
  },
  {
   "cell_type": "code",
   "execution_count": 113,
   "metadata": {
    "id": "NBvh4j-p19dn"
   },
   "outputs": [
    {
     "name": "stdout",
     "output_type": "stream",
     "text": [
      "0.9416666666666667\n"
     ]
    }
   ],
   "source": [
    "bag_clf = BaggingClassifier(DecisionTreeClassifier(), n_estimators=10)\n",
    "bag_clf.fit(X_train, y_train)\n",
    "y_pred = bag_clf.predict(X_test)\n",
    "\n",
    "print(accuracy_score(y_test, y_pred))"
   ]
  },
  {
   "cell_type": "markdown",
   "metadata": {
    "id": "CUixnHWj1wpu"
   },
   "source": [
    "* 로지스틱회귀 분류 배깅"
   ]
  },
  {
   "cell_type": "code",
   "execution_count": 114,
   "metadata": {
    "id": "EdrMjuCx2CLZ"
   },
   "outputs": [
    {
     "name": "stdout",
     "output_type": "stream",
     "text": [
      "0.9694444444444444\n"
     ]
    }
   ],
   "source": [
    "bag_clf2 = BaggingClassifier(LogisticRegression(), n_estimators=10)\n",
    "bag_clf2.fit(X_train, y_train)\n",
    "y_pred2 = bag_clf2.predict(X_test)\n",
    "\n",
    "print(accuracy_score(y_test, y_pred2))"
   ]
  },
  {
   "cell_type": "markdown",
   "metadata": {
    "id": "m_So6Zxp_fM5"
   },
   "source": [
    "* kNN 분류 배깅"
   ]
  },
  {
   "cell_type": "code",
   "execution_count": 115,
   "metadata": {
    "id": "f6-qdtDL6zEc"
   },
   "outputs": [
    {
     "name": "stdout",
     "output_type": "stream",
     "text": [
      "0.9916666666666667\n"
     ]
    }
   ],
   "source": [
    "bag_clf3 = BaggingClassifier(KNeighborsClassifier(), n_estimators=10)\n",
    "bag_clf3.fit(X_train, y_train)\n",
    "y_pred3 = bag_clf3.predict(X_test)\n",
    "\n",
    "print(accuracy_score(y_test, y_pred3))"
   ]
  },
  {
   "cell_type": "markdown",
   "metadata": {
    "id": "uAEA3J9q_jpp"
   },
   "source": [
    "* Naive Bayes 분류 배깅\n",
    "\n",
    "---\n",
    "\n"
   ]
  },
  {
   "cell_type": "code",
   "execution_count": 116,
   "metadata": {
    "id": "GfouSiP170KU"
   },
   "outputs": [
    {
     "name": "stdout",
     "output_type": "stream",
     "text": [
      "0.9138888888888889\n"
     ]
    }
   ],
   "source": [
    "bag_clf4 = BaggingClassifier(MultinomialNB(), n_estimators=10)\n",
    "bag_clf4.fit(X_train, y_train)\n",
    "y_pred4 = bag_clf4.predict(X_test)\n",
    "\n",
    "print(accuracy_score(y_test, y_pred4))"
   ]
  },
  {
   "cell_type": "markdown",
   "metadata": {
    "id": "UX5hO7SEoQdi"
   },
   "source": [
    "### 3. 앙상블 모형을 이용한 유방암 데이터 분류 연습"
   ]
  },
  {
   "cell_type": "markdown",
   "metadata": {
    "id": "vfsl56lOqpTn"
   },
   "source": [
    "1) 의사결정나무 복습"
   ]
  },
  {
   "cell_type": "code",
   "execution_count": 117,
   "metadata": {
    "id": "Ei4Xb4xkoX6b"
   },
   "outputs": [
    {
     "data": {
      "text/plain": [
       "sklearn.utils.Bunch"
      ]
     },
     "execution_count": 117,
     "metadata": {},
     "output_type": "execute_result"
    }
   ],
   "source": [
    "from sklearn.datasets import load_breast_cancer\n",
    "from sklearn.model_selection import train_test_split\n",
    "from sklearn.tree import DecisionTreeClassifier\n",
    "\n",
    "cancer = load_breast_cancer()\n",
    "type(cancer)"
   ]
  },
  {
   "cell_type": "code",
   "execution_count": 118,
   "metadata": {
    "id": "2d8SATl-qHTZ"
   },
   "outputs": [],
   "source": [
    "X_train , X_test , y_train , y_test = train_test_split(cancer.data, cancer.target,\n",
    "                                                       test_size = 0.2,  random_state = 11)"
   ]
  },
  {
   "cell_type": "code",
   "execution_count": 119,
   "metadata": {
    "id": "L4t_-J8NqHZ-"
   },
   "outputs": [
    {
     "data": {
      "text/plain": [
       "DecisionTreeClassifier(max_depth=3)"
      ]
     },
     "execution_count": 119,
     "metadata": {},
     "output_type": "execute_result"
    }
   ],
   "source": [
    "dt_clf = DecisionTreeClassifier(max_depth=3) \n",
    "dt_clf.fit(X_train , y_train)"
   ]
  },
  {
   "cell_type": "code",
   "execution_count": 120,
   "metadata": {
    "id": "9_iq5F-aqHeo"
   },
   "outputs": [
    {
     "data": {
      "image/svg+xml": [
       "<?xml version=\"1.0\" encoding=\"UTF-8\" standalone=\"no\"?>\r\n",
       "<!DOCTYPE svg PUBLIC \"-//W3C//DTD SVG 1.1//EN\"\r\n",
       " \"http://www.w3.org/Graphics/SVG/1.1/DTD/svg11.dtd\">\r\n",
       "<!-- Generated by graphviz version 2.38.0 (20140413.2041)\r\n",
       " -->\r\n",
       "<!-- Title: Tree Pages: 1 -->\r\n",
       "<svg width=\"745pt\" height=\"433pt\"\r\n",
       " viewBox=\"0.00 0.00 744.50 433.00\" xmlns=\"http://www.w3.org/2000/svg\" xmlns:xlink=\"http://www.w3.org/1999/xlink\">\r\n",
       "<g id=\"graph0\" class=\"graph\" transform=\"scale(1 1) rotate(0) translate(4 429)\">\r\n",
       "<title>Tree</title>\r\n",
       "<polygon fill=\"white\" stroke=\"none\" points=\"-4,4 -4,-429 740.5,-429 740.5,4 -4,4\"/>\r\n",
       "<!-- 0 -->\r\n",
       "<g id=\"node1\" class=\"node\"><title>0</title>\r\n",
       "<polygon fill=\"#b4daf5\" stroke=\"black\" points=\"512.5,-425 347.5,-425 347.5,-342 512.5,-342 512.5,-425\"/>\r\n",
       "<text text-anchor=\"middle\" x=\"430\" y=\"-409.8\" font-family=\"Times New Roman,serif\" font-size=\"14.00\">worst perimeter &lt;= 114.45</text>\r\n",
       "<text text-anchor=\"middle\" x=\"430\" y=\"-394.8\" font-family=\"Times New Roman,serif\" font-size=\"14.00\">gini = 0.472</text>\r\n",
       "<text text-anchor=\"middle\" x=\"430\" y=\"-379.8\" font-family=\"Times New Roman,serif\" font-size=\"14.00\">samples = 455</text>\r\n",
       "<text text-anchor=\"middle\" x=\"430\" y=\"-364.8\" font-family=\"Times New Roman,serif\" font-size=\"14.00\">value = [174, 281]</text>\r\n",
       "<text text-anchor=\"middle\" x=\"430\" y=\"-349.8\" font-family=\"Times New Roman,serif\" font-size=\"14.00\">class = benign</text>\r\n",
       "</g>\r\n",
       "<!-- 1 -->\r\n",
       "<g id=\"node2\" class=\"node\"><title>1</title>\r\n",
       "<polygon fill=\"#50a8e8\" stroke=\"black\" points=\"423.5,-306 232.5,-306 232.5,-223 423.5,-223 423.5,-306\"/>\r\n",
       "<text text-anchor=\"middle\" x=\"328\" y=\"-290.8\" font-family=\"Times New Roman,serif\" font-size=\"14.00\">worst concave points &lt;= 0.146</text>\r\n",
       "<text text-anchor=\"middle\" x=\"328\" y=\"-275.8\" font-family=\"Times New Roman,serif\" font-size=\"14.00\">gini = 0.186</text>\r\n",
       "<text text-anchor=\"middle\" x=\"328\" y=\"-260.8\" font-family=\"Times New Roman,serif\" font-size=\"14.00\">samples = 308</text>\r\n",
       "<text text-anchor=\"middle\" x=\"328\" y=\"-245.8\" font-family=\"Times New Roman,serif\" font-size=\"14.00\">value = [32, 276]</text>\r\n",
       "<text text-anchor=\"middle\" x=\"328\" y=\"-230.8\" font-family=\"Times New Roman,serif\" font-size=\"14.00\">class = benign</text>\r\n",
       "</g>\r\n",
       "<!-- 0&#45;&gt;1 -->\r\n",
       "<g id=\"edge1\" class=\"edge\"><title>0&#45;&gt;1</title>\r\n",
       "<path fill=\"none\" stroke=\"black\" d=\"M394.612,-341.907C386.7,-332.832 378.234,-323.121 370.081,-313.769\"/>\r\n",
       "<polygon fill=\"black\" stroke=\"black\" points=\"372.535,-311.259 363.326,-306.021 367.259,-315.859 372.535,-311.259\"/>\r\n",
       "<text text-anchor=\"middle\" x=\"361.618\" y=\"-327.262\" font-family=\"Times New Roman,serif\" font-size=\"14.00\">True</text>\r\n",
       "</g>\r\n",
       "<!-- 8 -->\r\n",
       "<g id=\"node9\" class=\"node\"><title>8</title>\r\n",
       "<polygon fill=\"#e68540\" stroke=\"black\" points=\"624,-306 442,-306 442,-223 624,-223 624,-306\"/>\r\n",
       "<text text-anchor=\"middle\" x=\"533\" y=\"-290.8\" font-family=\"Times New Roman,serif\" font-size=\"14.00\">mean concave points &lt;= 0.05</text>\r\n",
       "<text text-anchor=\"middle\" x=\"533\" y=\"-275.8\" font-family=\"Times New Roman,serif\" font-size=\"14.00\">gini = 0.066</text>\r\n",
       "<text text-anchor=\"middle\" x=\"533\" y=\"-260.8\" font-family=\"Times New Roman,serif\" font-size=\"14.00\">samples = 147</text>\r\n",
       "<text text-anchor=\"middle\" x=\"533\" y=\"-245.8\" font-family=\"Times New Roman,serif\" font-size=\"14.00\">value = [142, 5]</text>\r\n",
       "<text text-anchor=\"middle\" x=\"533\" y=\"-230.8\" font-family=\"Times New Roman,serif\" font-size=\"14.00\">class = malignant</text>\r\n",
       "</g>\r\n",
       "<!-- 0&#45;&gt;8 -->\r\n",
       "<g id=\"edge8\" class=\"edge\"><title>0&#45;&gt;8</title>\r\n",
       "<path fill=\"none\" stroke=\"black\" d=\"M465.735,-341.907C473.725,-332.832 482.274,-323.121 490.506,-313.769\"/>\r\n",
       "<polygon fill=\"black\" stroke=\"black\" points=\"493.347,-315.839 497.328,-306.021 488.093,-311.214 493.347,-315.839\"/>\r\n",
       "<text text-anchor=\"middle\" x=\"498.916\" y=\"-327.27\" font-family=\"Times New Roman,serif\" font-size=\"14.00\">False</text>\r\n",
       "</g>\r\n",
       "<!-- 2 -->\r\n",
       "<g id=\"node3\" class=\"node\"><title>2</title>\r\n",
       "<polygon fill=\"#43a2e6\" stroke=\"black\" points=\"236.5,-187 105.5,-187 105.5,-104 236.5,-104 236.5,-187\"/>\r\n",
       "<text text-anchor=\"middle\" x=\"171\" y=\"-171.8\" font-family=\"Times New Roman,serif\" font-size=\"14.00\">area error &lt;= 36.465</text>\r\n",
       "<text text-anchor=\"middle\" x=\"171\" y=\"-156.8\" font-family=\"Times New Roman,serif\" font-size=\"14.00\">gini = 0.094</text>\r\n",
       "<text text-anchor=\"middle\" x=\"171\" y=\"-141.8\" font-family=\"Times New Roman,serif\" font-size=\"14.00\">samples = 282</text>\r\n",
       "<text text-anchor=\"middle\" x=\"171\" y=\"-126.8\" font-family=\"Times New Roman,serif\" font-size=\"14.00\">value = [14, 268]</text>\r\n",
       "<text text-anchor=\"middle\" x=\"171\" y=\"-111.8\" font-family=\"Times New Roman,serif\" font-size=\"14.00\">class = benign</text>\r\n",
       "</g>\r\n",
       "<!-- 1&#45;&gt;2 -->\r\n",
       "<g id=\"edge2\" class=\"edge\"><title>1&#45;&gt;2</title>\r\n",
       "<path fill=\"none\" stroke=\"black\" d=\"M273.53,-222.907C260.621,-213.288 246.754,-202.953 233.519,-193.09\"/>\r\n",
       "<polygon fill=\"black\" stroke=\"black\" points=\"235.484,-190.19 225.374,-187.021 231.301,-195.803 235.484,-190.19\"/>\r\n",
       "</g>\r\n",
       "<!-- 5 -->\r\n",
       "<g id=\"node6\" class=\"node\"><title>5</title>\r\n",
       "<polygon fill=\"#f1b991\" stroke=\"black\" points=\"400,-187 256,-187 256,-104 400,-104 400,-187\"/>\r\n",
       "<text text-anchor=\"middle\" x=\"328\" y=\"-171.8\" font-family=\"Times New Roman,serif\" font-size=\"14.00\">worst texture &lt;= 23.74</text>\r\n",
       "<text text-anchor=\"middle\" x=\"328\" y=\"-156.8\" font-family=\"Times New Roman,serif\" font-size=\"14.00\">gini = 0.426</text>\r\n",
       "<text text-anchor=\"middle\" x=\"328\" y=\"-141.8\" font-family=\"Times New Roman,serif\" font-size=\"14.00\">samples = 26</text>\r\n",
       "<text text-anchor=\"middle\" x=\"328\" y=\"-126.8\" font-family=\"Times New Roman,serif\" font-size=\"14.00\">value = [18, 8]</text>\r\n",
       "<text text-anchor=\"middle\" x=\"328\" y=\"-111.8\" font-family=\"Times New Roman,serif\" font-size=\"14.00\">class = malignant</text>\r\n",
       "</g>\r\n",
       "<!-- 1&#45;&gt;5 -->\r\n",
       "<g id=\"edge5\" class=\"edge\"><title>1&#45;&gt;5</title>\r\n",
       "<path fill=\"none\" stroke=\"black\" d=\"M328,-222.907C328,-214.649 328,-205.864 328,-197.302\"/>\r\n",
       "<polygon fill=\"black\" stroke=\"black\" points=\"331.5,-197.021 328,-187.021 324.5,-197.021 331.5,-197.021\"/>\r\n",
       "</g>\r\n",
       "<!-- 3 -->\r\n",
       "<g id=\"node4\" class=\"node\"><title>3</title>\r\n",
       "<polygon fill=\"#3ea0e6\" stroke=\"black\" points=\"104,-68 0,-68 0,-0 104,-0 104,-68\"/>\r\n",
       "<text text-anchor=\"middle\" x=\"52\" y=\"-52.8\" font-family=\"Times New Roman,serif\" font-size=\"14.00\">gini = 0.052</text>\r\n",
       "<text text-anchor=\"middle\" x=\"52\" y=\"-37.8\" font-family=\"Times New Roman,serif\" font-size=\"14.00\">samples = 262</text>\r\n",
       "<text text-anchor=\"middle\" x=\"52\" y=\"-22.8\" font-family=\"Times New Roman,serif\" font-size=\"14.00\">value = [7, 255]</text>\r\n",
       "<text text-anchor=\"middle\" x=\"52\" y=\"-7.8\" font-family=\"Times New Roman,serif\" font-size=\"14.00\">class = benign</text>\r\n",
       "</g>\r\n",
       "<!-- 2&#45;&gt;3 -->\r\n",
       "<g id=\"edge3\" class=\"edge\"><title>2&#45;&gt;3</title>\r\n",
       "<path fill=\"none\" stroke=\"black\" d=\"M126.689,-103.726C116.578,-94.423 105.841,-84.5428 95.7541,-75.2612\"/>\r\n",
       "<polygon fill=\"black\" stroke=\"black\" points=\"97.9173,-72.4953 88.1886,-68.2996 93.1774,-77.6464 97.9173,-72.4953\"/>\r\n",
       "</g>\r\n",
       "<!-- 4 -->\r\n",
       "<g id=\"node5\" class=\"node\"><title>4</title>\r\n",
       "<polygon fill=\"#a4d2f3\" stroke=\"black\" points=\"220,-68 122,-68 122,-0 220,-0 220,-68\"/>\r\n",
       "<text text-anchor=\"middle\" x=\"171\" y=\"-52.8\" font-family=\"Times New Roman,serif\" font-size=\"14.00\">gini = 0.455</text>\r\n",
       "<text text-anchor=\"middle\" x=\"171\" y=\"-37.8\" font-family=\"Times New Roman,serif\" font-size=\"14.00\">samples = 20</text>\r\n",
       "<text text-anchor=\"middle\" x=\"171\" y=\"-22.8\" font-family=\"Times New Roman,serif\" font-size=\"14.00\">value = [7, 13]</text>\r\n",
       "<text text-anchor=\"middle\" x=\"171\" y=\"-7.8\" font-family=\"Times New Roman,serif\" font-size=\"14.00\">class = benign</text>\r\n",
       "</g>\r\n",
       "<!-- 2&#45;&gt;4 -->\r\n",
       "<g id=\"edge4\" class=\"edge\"><title>2&#45;&gt;4</title>\r\n",
       "<path fill=\"none\" stroke=\"black\" d=\"M171,-103.726C171,-95.5175 171,-86.8595 171,-78.56\"/>\r\n",
       "<polygon fill=\"black\" stroke=\"black\" points=\"174.5,-78.2996 171,-68.2996 167.5,-78.2996 174.5,-78.2996\"/>\r\n",
       "</g>\r\n",
       "<!-- 6 -->\r\n",
       "<g id=\"node7\" class=\"node\"><title>6</title>\r\n",
       "<polygon fill=\"#55abe9\" stroke=\"black\" points=\"335.5,-68 238.5,-68 238.5,-0 335.5,-0 335.5,-68\"/>\r\n",
       "<text text-anchor=\"middle\" x=\"287\" y=\"-52.8\" font-family=\"Times New Roman,serif\" font-size=\"14.00\">gini = 0.219</text>\r\n",
       "<text text-anchor=\"middle\" x=\"287\" y=\"-37.8\" font-family=\"Times New Roman,serif\" font-size=\"14.00\">samples = 8</text>\r\n",
       "<text text-anchor=\"middle\" x=\"287\" y=\"-22.8\" font-family=\"Times New Roman,serif\" font-size=\"14.00\">value = [1, 7]</text>\r\n",
       "<text text-anchor=\"middle\" x=\"287\" y=\"-7.8\" font-family=\"Times New Roman,serif\" font-size=\"14.00\">class = benign</text>\r\n",
       "</g>\r\n",
       "<!-- 5&#45;&gt;6 -->\r\n",
       "<g id=\"edge6\" class=\"edge\"><title>5&#45;&gt;6</title>\r\n",
       "<path fill=\"none\" stroke=\"black\" d=\"M312.733,-103.726C309.557,-95.2439 306.201,-86.2819 303,-77.7312\"/>\r\n",
       "<polygon fill=\"black\" stroke=\"black\" points=\"306.253,-76.4373 299.468,-68.2996 299.697,-78.892 306.253,-76.4373\"/>\r\n",
       "</g>\r\n",
       "<!-- 7 -->\r\n",
       "<g id=\"node8\" class=\"node\"><title>7</title>\r\n",
       "<polygon fill=\"#e78845\" stroke=\"black\" points=\"466.5,-68 353.5,-68 353.5,-0 466.5,-0 466.5,-68\"/>\r\n",
       "<text text-anchor=\"middle\" x=\"410\" y=\"-52.8\" font-family=\"Times New Roman,serif\" font-size=\"14.00\">gini = 0.105</text>\r\n",
       "<text text-anchor=\"middle\" x=\"410\" y=\"-37.8\" font-family=\"Times New Roman,serif\" font-size=\"14.00\">samples = 18</text>\r\n",
       "<text text-anchor=\"middle\" x=\"410\" y=\"-22.8\" font-family=\"Times New Roman,serif\" font-size=\"14.00\">value = [17, 1]</text>\r\n",
       "<text text-anchor=\"middle\" x=\"410\" y=\"-7.8\" font-family=\"Times New Roman,serif\" font-size=\"14.00\">class = malignant</text>\r\n",
       "</g>\r\n",
       "<!-- 5&#45;&gt;7 -->\r\n",
       "<g id=\"edge7\" class=\"edge\"><title>5&#45;&gt;7</title>\r\n",
       "<path fill=\"none\" stroke=\"black\" d=\"M358.534,-103.726C365.227,-94.7878 372.32,-85.3168 379.03,-76.3558\"/>\r\n",
       "<polygon fill=\"black\" stroke=\"black\" points=\"381.871,-78.402 385.063,-68.2996 376.268,-74.206 381.871,-78.402\"/>\r\n",
       "</g>\r\n",
       "<!-- 9 -->\r\n",
       "<g id=\"node10\" class=\"node\"><title>9</title>\r\n",
       "<polygon fill=\"#f5d0b5\" stroke=\"black\" points=\"605,-187 461,-187 461,-104 605,-104 605,-187\"/>\r\n",
       "<text text-anchor=\"middle\" x=\"533\" y=\"-171.8\" font-family=\"Times New Roman,serif\" font-size=\"14.00\">worst texture &lt;= 28.97</text>\r\n",
       "<text text-anchor=\"middle\" x=\"533\" y=\"-156.8\" font-family=\"Times New Roman,serif\" font-size=\"14.00\">gini = 0.473</text>\r\n",
       "<text text-anchor=\"middle\" x=\"533\" y=\"-141.8\" font-family=\"Times New Roman,serif\" font-size=\"14.00\">samples = 13</text>\r\n",
       "<text text-anchor=\"middle\" x=\"533\" y=\"-126.8\" font-family=\"Times New Roman,serif\" font-size=\"14.00\">value = [8, 5]</text>\r\n",
       "<text text-anchor=\"middle\" x=\"533\" y=\"-111.8\" font-family=\"Times New Roman,serif\" font-size=\"14.00\">class = malignant</text>\r\n",
       "</g>\r\n",
       "<!-- 8&#45;&gt;9 -->\r\n",
       "<g id=\"edge9\" class=\"edge\"><title>8&#45;&gt;9</title>\r\n",
       "<path fill=\"none\" stroke=\"black\" d=\"M533,-222.907C533,-214.649 533,-205.864 533,-197.302\"/>\r\n",
       "<polygon fill=\"black\" stroke=\"black\" points=\"536.5,-197.021 533,-187.021 529.5,-197.021 536.5,-197.021\"/>\r\n",
       "</g>\r\n",
       "<!-- 12 -->\r\n",
       "<g id=\"node13\" class=\"node\"><title>12</title>\r\n",
       "<polygon fill=\"#e58139\" stroke=\"black\" points=\"736.5,-179.5 623.5,-179.5 623.5,-111.5 736.5,-111.5 736.5,-179.5\"/>\r\n",
       "<text text-anchor=\"middle\" x=\"680\" y=\"-164.3\" font-family=\"Times New Roman,serif\" font-size=\"14.00\">gini = 0.0</text>\r\n",
       "<text text-anchor=\"middle\" x=\"680\" y=\"-149.3\" font-family=\"Times New Roman,serif\" font-size=\"14.00\">samples = 134</text>\r\n",
       "<text text-anchor=\"middle\" x=\"680\" y=\"-134.3\" font-family=\"Times New Roman,serif\" font-size=\"14.00\">value = [134, 0]</text>\r\n",
       "<text text-anchor=\"middle\" x=\"680\" y=\"-119.3\" font-family=\"Times New Roman,serif\" font-size=\"14.00\">class = malignant</text>\r\n",
       "</g>\r\n",
       "<!-- 8&#45;&gt;12 -->\r\n",
       "<g id=\"edge12\" class=\"edge\"><title>8&#45;&gt;12</title>\r\n",
       "<path fill=\"none\" stroke=\"black\" d=\"M584.001,-222.907C598.974,-210.99 615.325,-197.976 630.221,-186.12\"/>\r\n",
       "<polygon fill=\"black\" stroke=\"black\" points=\"632.684,-188.633 638.329,-179.667 628.325,-183.156 632.684,-188.633\"/>\r\n",
       "</g>\r\n",
       "<!-- 10 -->\r\n",
       "<g id=\"node11\" class=\"node\"><title>10</title>\r\n",
       "<polygon fill=\"#88c4ef\" stroke=\"black\" points=\"581.5,-68 484.5,-68 484.5,-0 581.5,-0 581.5,-68\"/>\r\n",
       "<text text-anchor=\"middle\" x=\"533\" y=\"-52.8\" font-family=\"Times New Roman,serif\" font-size=\"14.00\">gini = 0.408</text>\r\n",
       "<text text-anchor=\"middle\" x=\"533\" y=\"-37.8\" font-family=\"Times New Roman,serif\" font-size=\"14.00\">samples = 7</text>\r\n",
       "<text text-anchor=\"middle\" x=\"533\" y=\"-22.8\" font-family=\"Times New Roman,serif\" font-size=\"14.00\">value = [2, 5]</text>\r\n",
       "<text text-anchor=\"middle\" x=\"533\" y=\"-7.8\" font-family=\"Times New Roman,serif\" font-size=\"14.00\">class = benign</text>\r\n",
       "</g>\r\n",
       "<!-- 9&#45;&gt;10 -->\r\n",
       "<g id=\"edge10\" class=\"edge\"><title>9&#45;&gt;10</title>\r\n",
       "<path fill=\"none\" stroke=\"black\" d=\"M533,-103.726C533,-95.5175 533,-86.8595 533,-78.56\"/>\r\n",
       "<polygon fill=\"black\" stroke=\"black\" points=\"536.5,-78.2996 533,-68.2996 529.5,-78.2996 536.5,-78.2996\"/>\r\n",
       "</g>\r\n",
       "<!-- 11 -->\r\n",
       "<g id=\"node12\" class=\"node\"><title>11</title>\r\n",
       "<polygon fill=\"#e58139\" stroke=\"black\" points=\"712.5,-68 599.5,-68 599.5,-0 712.5,-0 712.5,-68\"/>\r\n",
       "<text text-anchor=\"middle\" x=\"656\" y=\"-52.8\" font-family=\"Times New Roman,serif\" font-size=\"14.00\">gini = 0.0</text>\r\n",
       "<text text-anchor=\"middle\" x=\"656\" y=\"-37.8\" font-family=\"Times New Roman,serif\" font-size=\"14.00\">samples = 6</text>\r\n",
       "<text text-anchor=\"middle\" x=\"656\" y=\"-22.8\" font-family=\"Times New Roman,serif\" font-size=\"14.00\">value = [6, 0]</text>\r\n",
       "<text text-anchor=\"middle\" x=\"656\" y=\"-7.8\" font-family=\"Times New Roman,serif\" font-size=\"14.00\">class = malignant</text>\r\n",
       "</g>\r\n",
       "<!-- 9&#45;&gt;11 -->\r\n",
       "<g id=\"edge11\" class=\"edge\"><title>9&#45;&gt;11</title>\r\n",
       "<path fill=\"none\" stroke=\"black\" d=\"M578.801,-103.726C589.353,-94.3318 600.567,-84.349 611.082,-74.9883\"/>\r\n",
       "<polygon fill=\"black\" stroke=\"black\" points=\"613.453,-77.5631 618.595,-68.2996 608.799,-72.3347 613.453,-77.5631\"/>\r\n",
       "</g>\r\n",
       "</g>\r\n",
       "</svg>\r\n"
      ],
      "text/plain": [
       "<graphviz.files.Source at 0x29b55f55100>"
      ]
     },
     "execution_count": 120,
     "metadata": {},
     "output_type": "execute_result"
    }
   ],
   "source": [
    "from sklearn.tree import export_graphviz\n",
    "\n",
    "export_graphviz(dt_clf, out_file=\"tree.dot\", class_names=cancer.target_names , \\\n",
    "feature_names = cancer.feature_names, impurity=True, filled=True)\n",
    "\n",
    "import graphviz\n",
    " \n",
    "with open(\"tree.dot\") as f:\n",
    "    dot_graph = f.read()\n",
    "graphviz.Source(dot_graph)"
   ]
  },
  {
   "cell_type": "code",
   "execution_count": 121,
   "metadata": {
    "id": "P94P0FFsqkwS"
   },
   "outputs": [
    {
     "data": {
      "text/plain": [
       "0.9649122807017544"
      ]
     },
     "execution_count": 121,
     "metadata": {},
     "output_type": "execute_result"
    }
   ],
   "source": [
    "from sklearn.metrics import accuracy_score\n",
    "pred = dt_clf.predict(X_test)\n",
    "acc = accuracy_score(y_test, pred)\n",
    "acc"
   ]
  },
  {
   "cell_type": "markdown",
   "metadata": {
    "id": "zJXUcXhWqwf8"
   },
   "source": [
    "2) 랜덤포레스트"
   ]
  },
  {
   "cell_type": "code",
   "execution_count": 122,
   "metadata": {
    "id": "ngy8wZHyq3EA"
   },
   "outputs": [
    {
     "name": "stdout",
     "output_type": "stream",
     "text": [
      "0.9912280701754386\n"
     ]
    }
   ],
   "source": [
    "from sklearn.ensemble import RandomForestClassifier\n",
    "rf_clf = RandomForestClassifier()\n",
    "rf_clf.fit(X_train, y_train)\n",
    "rf_pred = rf_clf.predict(X_test)\n",
    "print(accuracy_score(y_test, rf_pred))"
   ]
  },
  {
   "cell_type": "markdown",
   "metadata": {
    "id": "M1ioSpkztBhy"
   },
   "source": [
    "좋아졌는가? "
   ]
  },
  {
   "cell_type": "markdown",
   "metadata": {},
   "source": [
    "### feature 변수들의 중요도 26분"
   ]
  },
  {
   "cell_type": "markdown",
   "metadata": {
    "id": "ZiH3uR54tEkt"
   },
   "source": [
    "3) kNN 배깅"
   ]
  },
  {
   "cell_type": "code",
   "execution_count": 123,
   "metadata": {
    "id": "NJdFUS-htHkF"
   },
   "outputs": [
    {
     "name": "stdout",
     "output_type": "stream",
     "text": [
      "0.956140350877193\n"
     ]
    }
   ],
   "source": [
    "bag_clf2 = BaggingClassifier(KNeighborsClassifier(), n_estimators=50)\n",
    "bag_clf2.fit(X_train, y_train)\n",
    "y_pred2 = bag_clf2.predict(X_test)\n",
    "\n",
    "print(accuracy_score(y_test, y_pred2))"
   ]
  },
  {
   "cell_type": "markdown",
   "metadata": {
    "id": "OEezQJ1atsg2"
   },
   "source": [
    "4) voting"
   ]
  },
  {
   "cell_type": "code",
   "execution_count": 124,
   "metadata": {
    "id": "0TWKGNoDqk0u"
   },
   "outputs": [],
   "source": [
    "dtree = tree.DecisionTreeClassifier()\n",
    "dtree.fit(X_train, y_train)\n",
    "dtree_predicted = dtree.predict(X_test)\n",
    "\n",
    "knn = KNeighborsClassifier().fit(X_train, y_train)\n",
    "knn_predicted = knn.predict(X_test)\n",
    "\n",
    "lr = LogisticRegression().fit(X_train, y_train)\n",
    "lr_predicted = lr.predict(X_test)"
   ]
  },
  {
   "cell_type": "code",
   "execution_count": 125,
   "metadata": {
    "id": "_W-48iDbuEB9"
   },
   "outputs": [
    {
     "data": {
      "text/plain": [
       "0.9473684210526315"
      ]
     },
     "execution_count": 125,
     "metadata": {},
     "output_type": "execute_result"
    }
   ],
   "source": [
    "voting_clf1 = VotingClassifier(estimators=[\n",
    "    ('d_tree', dtree), ('knn', knn), ('lr', lr)], \n",
    "     voting='hard').fit(X_train, y_train)\n",
    "     \n",
    "hard_voting_predicted = voting_clf1.predict(X_test)\n",
    "accuracy_score(y_test, hard_voting_predicted)"
   ]
  },
  {
   "cell_type": "code",
   "execution_count": 126,
   "metadata": {
    "id": "wdZrrD2huEH2"
   },
   "outputs": [
    {
     "data": {
      "text/plain": [
       "0.956140350877193"
      ]
     },
     "execution_count": 126,
     "metadata": {},
     "output_type": "execute_result"
    }
   ],
   "source": [
    "voting_clf2 = VotingClassifier(estimators=[\n",
    "    ('d_tree', dtree), ('knn', knn), ('lr', lr)], \n",
    "     voting='soft').fit(X_train, y_train)\n",
    "\n",
    "soft_voting_predicted = voting_clf2.predict(X_test)\n",
    "accuracy_score(y_test, soft_voting_predicted)"
   ]
  }
 ],
 "metadata": {
  "colab": {
   "collapsed_sections": [],
   "name": "Ensemble_0428.ipynb",
   "provenance": []
  },
  "kernelspec": {
   "display_name": "Python 3",
   "language": "python",
   "name": "python3"
  },
  "language_info": {
   "codemirror_mode": {
    "name": "ipython",
    "version": 3
   },
   "file_extension": ".py",
   "mimetype": "text/x-python",
   "name": "python",
   "nbconvert_exporter": "python",
   "pygments_lexer": "ipython3",
   "version": "3.8.5"
  }
 },
 "nbformat": 4,
 "nbformat_minor": 1
}
