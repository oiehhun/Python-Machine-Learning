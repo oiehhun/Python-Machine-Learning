{
 "cells": [
  {
   "cell_type": "code",
   "execution_count": 1,
   "metadata": {},
   "outputs": [],
   "source": [
    "import numpy as np\n",
    "from scipy import sparse"
   ]
  },
  {
   "cell_type": "markdown",
   "metadata": {},
   "source": [
    "만일 모든 원소가 0인 행을 포함하는 행렬에 COO, CSR 방법을 적용한다면?"
   ]
  },
  {
   "cell_type": "code",
   "execution_count": 2,
   "metadata": {},
   "outputs": [
    {
     "data": {
      "text/plain": [
       "array([[1, 0, 2, 5, 9],\n",
       "       [0, 0, 0, 0, 0],\n",
       "       [0, 0, 7, 0, 3]])"
      ]
     },
     "execution_count": 2,
     "metadata": {},
     "output_type": "execute_result"
    }
   ],
   "source": [
    "d = np.array([[1, 0, 2, 5, 9], [0, 0, 0, 0, 0], [0, 0, 7, 0, 3]])\n",
    "d"
   ]
  },
  {
   "cell_type": "markdown",
   "metadata": {},
   "source": [
    "**퀴즈** : 현실적으로 텍스트분석에서 이런 고민이 필요할까?\\\n",
    ": 문장에서 단어를 추출해서 열을 구성하기 때문에 모든 원소가 0인 행을 포함 하는 행렬은 나올수가 없다."
   ]
  },
  {
   "cell_type": "markdown",
   "metadata": {},
   "source": [
    "* COO 방식"
   ]
  },
  {
   "cell_type": "code",
   "execution_count": 3,
   "metadata": {},
   "outputs": [
    {
     "name": "stdout",
     "output_type": "stream",
     "text": [
      "[[1 0 2 5 9]\n",
      " [0 0 0 0 0]\n",
      " [0 7 0 0 3]]\n"
     ]
    }
   ],
   "source": [
    "r = np.array([0, 0, 0, 0, 2, 2])\n",
    "c = np.array([0, 2, 3, 4, 1, 4])\n",
    "data1 = np.array([1, 2, 5, 9, 7, 3])\n",
    "coom = sparse.coo_matrix((data1,  (r, c)))\n",
    "print(coom.toarray())"
   ]
  },
  {
   "cell_type": "markdown",
   "metadata": {},
   "source": [
    "* csr 방식-1"
   ]
  },
  {
   "cell_type": "markdown",
   "metadata": {},
   "source": [
    "행렬 `d`에는 0이 아닌 값이 6개 있는데 그 값들은 1행과 3행에 들어있다. 따라서 우리가 공부한 방법으로 `csr_matirx()` 함수의 인자 `indicies, indptr`를 입력하면 아래와 같을 것이다."
   ]
  },
  {
   "cell_type": "code",
   "execution_count": 4,
   "metadata": {},
   "outputs": [
    {
     "data": {
      "text/plain": [
       "array([[1, 0, 2, 5, 9],\n",
       "       [0, 7, 0, 3, 0]])"
      ]
     },
     "execution_count": 4,
     "metadata": {},
     "output_type": "execute_result"
    }
   ],
   "source": [
    "indptr = np.array([0, 4, 6])\n",
    "indicies = np.array([0, 2, 3, 4, 1, 3])\n",
    "\n",
    "data2 = np.array([1, 2, 5, 9, 7, 3])\n",
    "sparse.csr_matrix((data2,  indicies,  indptr)).toarray()"
   ]
  },
  {
   "cell_type": "markdown",
   "metadata": {},
   "source": [
    "`csr_matrix()`의 괄호 속 인자는 `data, indicies, indptr` 순서다. 여기서 `indptr`은 'index pointer'의 약자로서 `data`의 원소들(행렬의 0이 아닌 원소들)이 속한 행의 index(0, 1, 2, 3,...)를 COO 방식으로 나타냈을 때 각 index가 처음 나타나는 위치를 의미한다.\n",
    "\n",
    "그런데 위의 행렬처럼 모든 값이 0인 행을 포함하는 행렬이라면?\n",
    "\n",
    "1) 그 행은 아무런 단어도 포함하지 않는 문장이라는 뜻이므로 `csr_matrix()`의 결과에서 삭제한다\n",
    "\n",
    "2) 의미 없는 행이지만 원래 데이터에 있으므로 `csr_matrix()`의 결과에 나타내야한다"
   ]
  },
  {
   "cell_type": "markdown",
   "metadata": {},
   "source": [
    "위의 행렬 `d`에 대해 2)의 방식을 따른다면 앞의 행에 있는 원소 index 표현이 끝난 후 0으로만 이루어진 새로운 행(index는 1)이 시작되는 위치(`4`)를 `indptr`에 나타낸다. 그런데 그 행에는 0이 아닌 원소가 없으므로 그 위치(`4`)는 다음 행의 0이 아닌 원소 위치를 나타내기 위해 한번더 나오게 된다. "
   ]
  },
  {
   "cell_type": "markdown",
   "metadata": {},
   "source": [
    "* csr 방식-2"
   ]
  },
  {
   "cell_type": "code",
   "execution_count": 5,
   "metadata": {},
   "outputs": [
    {
     "data": {
      "text/plain": [
       "array([[1, 0, 2, 5, 9],\n",
       "       [0, 0, 0, 0, 0],\n",
       "       [0, 7, 0, 0, 3]])"
      ]
     },
     "execution_count": 5,
     "metadata": {},
     "output_type": "execute_result"
    }
   ],
   "source": [
    "indptr = np.array([0, 4, 4, 6])\n",
    "indicies = np.array([0, 2, 3, 4, 1, 4])\n",
    "\n",
    "data2 = np.array([1, 2, 5, 9, 7, 3])\n",
    "sparse.csr_matrix((data2,  indicies,  indptr)).toarray()"
   ]
  },
  {
   "cell_type": "markdown",
   "metadata": {},
   "source": [
    "만일 0으로만 이루어진 행이 둘이라면"
   ]
  },
  {
   "cell_type": "code",
   "execution_count": 6,
   "metadata": {},
   "outputs": [
    {
     "data": {
      "text/plain": [
       "array([[1, 0, 2, 5, 9],\n",
       "       [0, 0, 0, 0, 0],\n",
       "       [0, 7, 0, 0, 3],\n",
       "       [0, 0, 0, 0, 0]])"
      ]
     },
     "execution_count": 6,
     "metadata": {},
     "output_type": "execute_result"
    }
   ],
   "source": [
    "indptr = np.array([0, 4, 4, 6, 6])\n",
    "indicies = np.array([0, 2, 3, 4, 1, 4])\n",
    "\n",
    "data2 = np.array([1, 2, 5, 9, 7, 3])\n",
    "sparse.csr_matrix((data2,  indicies,  indptr)).toarray()"
   ]
  }
 ],
 "metadata": {
  "kernelspec": {
   "display_name": "Python 3",
   "language": "python",
   "name": "python3"
  },
  "language_info": {
   "codemirror_mode": {
    "name": "ipython",
    "version": 3
   },
   "file_extension": ".py",
   "mimetype": "text/x-python",
   "name": "python",
   "nbconvert_exporter": "python",
   "pygments_lexer": "ipython3",
   "version": "3.8.8"
  }
 },
 "nbformat": 4,
 "nbformat_minor": 4
}
